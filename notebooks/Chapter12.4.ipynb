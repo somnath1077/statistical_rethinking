{
 "cells": [
  {
   "cell_type": "code",
   "execution_count": 1,
   "metadata": {},
   "outputs": [
    {
     "name": "stderr",
     "output_type": "stream",
     "text": [
      "\n",
      "Attaching package: ‘dplyr’\n",
      "\n",
      "The following objects are masked from ‘package:data.table’:\n",
      "\n",
      "    between, first, last\n",
      "\n",
      "The following objects are masked from ‘package:stats’:\n",
      "\n",
      "    filter, lag\n",
      "\n",
      "The following objects are masked from ‘package:base’:\n",
      "\n",
      "    intersect, setdiff, setequal, union\n",
      "\n",
      "Loading required package: Matrix\n"
     ]
    }
   ],
   "source": [
    "library(data.table)\n",
    "library(ggplot2)\n",
    "library(dplyr)\n",
    "library(lme4)\n",
    "library(repr)\n",
    "\n",
    "# Change plot size to 4 x 3\n",
    "options(repr.plot.width = 4, repr.plot.height = 3.4, repr.plot.pointsize = 11)\n",
    "\n",
    "DATA_DIR <- \"../data/\""
   ]
  },
  {
   "cell_type": "code",
   "execution_count": 2,
   "metadata": {},
   "outputs": [],
   "source": [
    "get_radon_data <- function() {\n",
    "    DATA_PATH <- paste0(DATA_DIR, \"radon/srrs2.dat\")\n",
    "    data <- read.table(DATA_PATH, header = T, sep = \",\")\n",
    "    return(data)\n",
    "}"
   ]
  },
  {
   "cell_type": "code",
   "execution_count": 3,
   "metadata": {},
   "outputs": [],
   "source": [
    "prepare_data_for_state  <- function(state) {\n",
    "    radon_data <- get_radon_data()\n",
    "    # Get data for state\n",
    "    state_data <- radon_data[radon_data[\"state\"] == state,]\n",
    "    \n",
    "    # Calculate the log radon levels\n",
    "    state_data$log_radon <-\n",
    "        log(ifelse(state_data$activity == 0 | is.na(state_data$activity), \n",
    "                   0.1, \n",
    "                   state_data$activity))\n",
    "    \n",
    "    # Code counties as indices\n",
    "    state_data$county_idx <- as.integer(factor(state_data$county))\n",
    "    \n",
    "    # county means of the radon level\n",
    "    state_data <- state_data %>%\n",
    "        dplyr::group_by(county_idx) %>%\n",
    "        dplyr::mutate(county_mean = mean(log_radon, na.rm = TRUE))\n",
    "    \n",
    "    # the number of obs per county\n",
    "    state_data <- state_data %>%\n",
    "        dplyr::group_by(county_idx) %>%\n",
    "        dplyr::mutate(nobs_county = n())\n",
    "    \n",
    "    # total mean of the radon level\n",
    "    state_data$total_mean <- mean(state_data$log_radon)\n",
    "    \n",
    "    # County level variance and overall variance\n",
    "    state_data <- state_data %>%\n",
    "        dplyr::group_by(county_idx) %>%\n",
    "        dplyr::mutate(county_var = var(log_radon, na.rm = TRUE))\n",
    "    \n",
    "    # To calculate the variance between counties, we first collect the county\n",
    "    # level eans yet again in a separate data.table\n",
    "    df <- state_data %>%\n",
    "        dplyr::group_by(county_idx) %>%\n",
    "        dplyr::summarise(cnty_mean = mean(log_radon, na.rm = TRUE))\n",
    "    \n",
    "    state_data$total_var <- var(df$cnty_mean, na.rm = TRUE)\n",
    "    \n",
    "    return(state_data)\n",
    "}\n",
    "\n",
    "multlevel_radon <- function(state_data) {\n",
    "    state_data$multlevel_mean <- \n",
    "    ((state_data$nobs_county / state_data$county_var) * state_data$county_mean + \n",
    "    (1 / state_data$total_var) * state_data$total_mean) / \n",
    "    ((state_data$nobs_county / state_data$county_var) + (1 / state_data$total_var))\n",
    "    \n",
    "    return(state_data)\n",
    "}\n",
    "\n",
    "sample_mean_vs_sample_sz <- function(data_table, nobs_cutoff) {\n",
    "    df <- data_table[data_table$nobs_county < nobs_cutoff, ]\n",
    "    # plot(df$nobs_county, df$county_mean)\n",
    "    ggplot() + \n",
    "    geom_point(data = df, aes(x = df$nobs_county, y = df$county_mean), color = \"blue\") \n",
    "}\n",
    "\n",
    "radon_vs_floor <- function(data_table, county_idx) {\n",
    "    df <- data_table[data_table[\"county_idx\"] == county_idx, ]\n",
    "    # plot(df$floor, df$log_radon)\n",
    "    ggplot() + \n",
    "    geom_point(data = df, aes(x = df$floor, y = df$log_radon), color = \"blue\") \n",
    "}\n",
    " \n",
    "main <- function() {\n",
    "    state_data <- prepare_data_for_state(\"MN\")\n",
    "    state_data <- multlevel_radon(state_data)\n",
    "    \n",
    "    return(state_data)\n",
    "}"
   ]
  },
  {
   "cell_type": "code",
   "execution_count": 4,
   "metadata": {},
   "outputs": [],
   "source": [
    "df <- main()"
   ]
  },
  {
   "cell_type": "markdown",
   "metadata": {},
   "source": [
    "###  Varying-Intercept Model with no Predictors"
   ]
  },
  {
   "cell_type": "code",
   "execution_count": 5,
   "metadata": {},
   "outputs": [],
   "source": [
    "y <- df$log_radon\n",
    "x <- df$floor\n",
    "county <- df$county"
   ]
  },
  {
   "cell_type": "code",
   "execution_count": 6,
   "metadata": {},
   "outputs": [
    {
     "data": {
      "text/plain": [
       "Linear mixed model fit by REML ['lmerMod']\n",
       "Formula: y ~ 1 + (1 | county)\n",
       "\n",
       "REML criterion at convergence: 2259.4\n",
       "\n",
       "Scaled residuals: \n",
       "    Min      1Q  Median      3Q     Max \n",
       "-4.4661 -0.5734  0.0441  0.6432  3.3516 \n",
       "\n",
       "Random effects:\n",
       " Groups   Name        Variance Std.Dev.\n",
       " county   (Intercept) 0.09581  0.3095  \n",
       " Residual             0.63662  0.7979  \n",
       "Number of obs: 919, groups:  county, 85\n",
       "\n",
       "Fixed effects:\n",
       "            Estimate Std. Error t value\n",
       "(Intercept)  1.31258    0.04891   26.84"
      ]
     },
     "metadata": {},
     "output_type": "display_data"
    }
   ],
   "source": [
    "M0 <- lmer(y ~ 1 + (1 | county))\n",
    "\n",
    "summary(M0)"
   ]
  },
  {
   "cell_type": "code",
   "execution_count": 7,
   "metadata": {},
   "outputs": [
    {
     "data": {
      "image/png": "[encoded data removed]",
      "text/plain": [
       "Plot with title “Normal Q-Q Plot”"
      ]
     },
     "metadata": {},
     "output_type": "display_data"
    }
   ],
   "source": [
    "qqnorm(residuals(M0))"
   ]
  },
  {
   "cell_type": "code",
   "execution_count": 8,
   "metadata": {},
   "outputs": [
    {
     "data": {
      "image/png": "[encoded data removed]",
      "text/plain": [
       "plot without title"
      ]
     },
     "metadata": {},
     "output_type": "display_data"
    }
   ],
   "source": [
    "d <- data.frame(resids = residuals(M0))\n",
    "plt <- ggplot(d, aes(sample = resids)) \n",
    "plt + stat_qq() + stat_qq_line()"
   ]
  },
  {
   "cell_type": "code",
   "execution_count": 9,
   "metadata": {},
   "outputs": [
    {
     "data": {
      "text/plain": [
       "$county\n",
       "                      (Intercept)\n",
       "AITKIN               -0.245076616\n",
       "ANOKA                -0.425019157\n",
       "BECKER               -0.082194723\n",
       "BELTRAMI             -0.088031495\n",
       "BENTON               -0.022599857\n",
       "BIG STONE             0.062347769\n",
       "BLUE EARTH            0.404619762\n",
       "BROWN                 0.119023360\n",
       "CARLTON              -0.229262875\n",
       "CARVER               -0.051693984\n",
       "CASS                  0.038026098\n",
       "CHIPPEWA              0.156955204\n",
       "CHISAGO              -0.129949605\n",
       "CLAY                  0.318690510\n",
       "CLEARWATER           -0.125841299\n",
       "COOK                 -0.149858547\n",
       "COTTONWOOD           -0.217273295\n",
       "CROW WING            -0.238890328\n",
       "DAKOTA               -0.018106714\n",
       "DODGE                 0.151717918\n",
       "DOUGLAS               0.196377451\n",
       "FARIBAULT            -0.377659062\n",
       "FILLMORE             -0.063129213\n",
       "FREEBORN              0.361814207\n",
       "GOODHUE               0.362955970\n",
       "HENNEPIN             -0.025844465\n",
       "HOUSTON               0.104680721\n",
       "HUBBARD              -0.216117867\n",
       "ISANTI               -0.079810991\n",
       "ITASCA               -0.241153290\n",
       "JACKSON               0.304007554\n",
       "KANABEC              -0.028667023\n",
       "KANDIYOHI             0.281576327\n",
       "KITTSON              -0.062989222\n",
       "KOOCHICHING          -0.464353811\n",
       "LAC QUI PARLE         0.297563592\n",
       "LAKE                 -0.569850062\n",
       "LAKE OF THE WOODS     0.073229580\n",
       "LE SUEUR              0.125117511\n",
       "LINCOLN               0.309307893\n",
       "LYON                  0.308383390\n",
       "MAHNOMEN              0.006331578\n",
       "MARSHALL             -0.063648374\n",
       "MARTIN               -0.192142666\n",
       "MCLEOD               -0.158073937\n",
       "MEEKER               -0.042065460\n",
       "MILLE LACS           -0.182527916\n",
       "MORRISON             -0.140667136\n",
       "MOWER                 0.184422150\n",
       "MURRAY                0.154445012\n",
       "NICOLLET              0.320344262\n",
       "NOBLES                0.191339927\n",
       "NORMAN               -0.093926236\n",
       "OLMSTED              -0.077434498\n",
       "OTTER TAIL            0.019238319\n",
       "PENNINGTON           -0.215205021\n",
       "PINE                 -0.318157195\n",
       "PIPESTONE             0.138369834\n",
       "POLK                  0.018389508\n",
       "POPE                 -0.007678460\n",
       "RAMSEY               -0.183333191\n",
       "REDWOOD               0.226001778\n",
       "RENVILLE              0.036687564\n",
       "RICE                  0.292859978\n",
       "ROCK                 -0.003113756\n",
       "ROSEAU               -0.039720056\n",
       "SCOTT                 0.177909499\n",
       "SHERBURNE            -0.121577915\n",
       "SIBLEY               -0.026351110\n",
       "ST LOUIS             -0.514839116\n",
       "STEARNS               0.050547102\n",
       "STEELE                0.160610274\n",
       "STEVENS               0.110866493\n",
       "SWIFT                -0.122331847\n",
       "TODD                  0.053180632\n",
       "TRAVERSE              0.193803943\n",
       "WABASHA               0.208379513\n",
       "WADENA               -0.135303048\n",
       "WASECA               -0.329876084\n",
       "WASHINGTON           -0.053629372\n",
       "WATONWAN              0.285120186\n",
       "WILKIN                0.120015463\n",
       "WINONA                0.095339965\n",
       "WRIGHT                0.183542644\n",
       "YELLOW MEDICINE      -0.029164545\n",
       "\n",
       "with conditional variances for “county” "
      ]
     },
     "metadata": {},
     "output_type": "display_data"
    }
   ],
   "source": [
    "ranef(M0)"
   ]
  },
  {
   "cell_type": "markdown",
   "metadata": {},
   "source": [
    "### Varying-Intercept Model with an Individual-Level Predictor"
   ]
  },
  {
   "cell_type": "code",
   "execution_count": 10,
   "metadata": {},
   "outputs": [
    {
     "data": {
      "text/plain": [
       "Linear mixed model fit by REML ['lmerMod']\n",
       "Formula: y ~ x + (1 | county)\n",
       "\n",
       "REML criterion at convergence: 2171.3\n",
       "\n",
       "Scaled residuals: \n",
       "    Min      1Q  Median      3Q     Max \n",
       "-4.3989 -0.6155  0.0029  0.6405  3.4281 \n",
       "\n",
       "Random effects:\n",
       " Groups   Name        Variance Std.Dev.\n",
       " county   (Intercept) 0.1077   0.3282  \n",
       " Residual             0.5709   0.7556  \n",
       "Number of obs: 919, groups:  county, 85\n",
       "\n",
       "Fixed effects:\n",
       "            Estimate Std. Error t value\n",
       "(Intercept)  1.46160    0.05158  28.339\n",
       "x           -0.69299    0.07043  -9.839\n",
       "\n",
       "Correlation of Fixed Effects:\n",
       "  (Intr)\n",
       "x -0.288"
      ]
     },
     "metadata": {},
     "output_type": "display_data"
    }
   ],
   "source": [
    "M1 <- lmer(y ~ x + (1 | county))\n",
    "summary(M1)"
   ]
  },
  {
   "cell_type": "markdown",
   "metadata": {},
   "source": [
    "Thus $y_i = 1.46160 + \\mbox{ random effect}_{j[i]} - 0.69299 \\cdot x_i$, where $j[i]$ is the county that the $i$th house belongs to. The within-county standard deviation $\\sigma_y = 0.7556$ and the across-county standard deviation $\\sigma_a = 0.3282$. "
   ]
  }
 ],
 "metadata": {
  "kernelspec": {
   "display_name": "R",
   "language": "R",
   "name": "ir"
  },
  "language_info": {
   "codemirror_mode": "r",
   "file_extension": ".r",
   "mimetype": "text/x-r-source",
   "name": "R",
   "pygments_lexer": "r",
   "version": "3.5.3"
  }
 },
 "nbformat": 4,
 "nbformat_minor": 2
}
