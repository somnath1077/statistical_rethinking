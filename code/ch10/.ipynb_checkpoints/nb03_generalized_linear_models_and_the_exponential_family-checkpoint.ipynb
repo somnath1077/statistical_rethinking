{
 "cells": [
  {
   "cell_type": "markdown",
   "id": "3b5020bd",
   "metadata": {},
   "source": [
    "# Generalized Linear Models\n",
    "\n",
    "In a generalized linear model (GLM), each outcome $Y$ of the dependent variable is assumed to be generated from a particular distribution from the _exponential family_, a large class of probability distributions that includes the normal, binomial, Poisson and gamma distributions, among others. The mean, $\\mu$, of the distribution depends on the independent variables, $X = (X_0, X_1, X_2, \\ldots, X_p)$, through:\n",
    "$$\n",
    "    \\mathrm{E} ( Y \\mid X ) = \\mu = g^{-1}(X \\beta), \n",
    "$$\n",
    "where $\\mathrm{E} ( Y \\mid X )$ is the expected value of $Y$ conditional on $X$; $X \\beta$ is a linear combination of unknown parameters $\\beta$; $g$ is the _link_ function.\n",
    "\n",
    "In this framework, the variance is typically a function, $V$, of the mean:\n",
    "$$\n",
    "    \\mathrm{Var} ⁡ ( Y \\mid X ) = V ⁡( \\mu ) = V ⁡ ( g^{-1}(X \\beta)) . \n",
    "$$\n",
    "It is convenient if V follows from an exponential family of distributions, but it may simply be that the variance is a function of the predicted value. \n",
    "\n",
    "The GLM consists of three elements:\n",
    "\n",
    "1. A probability distribution from the exponential family.\n",
    "2. A linear predictor $\\eta = X \\beta$\n",
    "3. A link function $g$ such that $\\mathrm{E} ( Y \\mid X ) = \\mu = g^{-1}( \\eta )$.\n",
    "\n",
    "[Adapted from Wikipedia]"
   ]
  },
  {
   "cell_type": "markdown",
   "id": "c149207e",
   "metadata": {},
   "source": [
    "# The Exponential Family\n",
    "\n",
    "The exponential family consists of several well-known distributions, both discrete and continuous. Every member of this family is a maximum entropy distribution for some set of constraints. A pdf or pmf $p( y \\mid \\theta)$, where $y \\in \\mathcal{Y} \\subseteq R^{m}$ and $\\theta \\in R^{d}$ is in the exponential family if it is of the form:\n",
    "$$\n",
    "    p (y \\mid \\theta) \n",
    "        = \\frac{1}{Z(\\theta)} h(y) \\text{exp} ( \\theta^T \\phi(y)),\n",
    "$$\n",
    "where \n",
    "$$\n",
    "    Z(\\theta) = \\int_{\\mathcal{Y}} h(y) \\text{exp} ( \\theta^T \\phi(y)) dy.\n",
    "$$"
   ]
  },
  {
   "cell_type": "markdown",
   "id": "aabca3c3",
   "metadata": {},
   "source": [
    "## The Exponential Distribution\n",
    "\n",
    "The exponential distribution is defined for non-negative continuous random variables. The pdf of this distribution is usualy written in terms of the parameter $\\lambda$:\n",
    "$$\n",
    "    p(y \\mid \\lambda) = \\lambda e^{- \\lambda y} \\text{ for } y \\geq 0.\n",
    "$$\n",
    "If we want to cast this in the form of the distribution for the exponential family, we see that \n",
    "\n",
    "1. $Z(\\lambda) = \\int_{0}^{\\infty} e^{- \\lambda y} d y = 1 / \\lambda$\n",
    "2. $h(y) = 1$\n",
    "3. $\\phi ( y ) = - y$\n",
    "\n",
    "> [From the book] It is the fundamental distribution of distance and duration, kinds of measurement that represent displacement from some point of reference, either time or space. If the probability of an event is constant in time or across space, then the distribution of events tends towards exponential.\n",
    "\n",
    "> [https://opentextbc.ca/introstatopenstax/chapter/the-exponential-distribution/] The exponential distribution is often concerned with the amount of time until some specific event occurs. For example, the amount of time (beginning now) until an earthquake occurs has an exponential distribution. Other examples include the length, in minutes, of long distance business telephone calls, and the amount of time, in months, a car battery lasts. It can be shown, too, that the value of the change that you have in your pocket or purse approximately follows an exponential distribution.\n",
    "\n",
    "\n",
    "### Mean and Variance\n",
    "\n",
    "The mean of the distribution is $1 / \\lambda$ as can be verified by computing the integral:\n",
    "$$\n",
    "    \\int_{0}^{\\infty} \\lambda y e^{- \\lambda y} d y \n",
    "        = \\frac{1}{\\lambda} \\int_{0}^{\\infty} z e^{-z} d z \n",
    "        = \\frac{1}{\\lambda}.\n",
    "$$\n",
    "The variance is $1 / \\lambda^2$. In order to compute the variance, we need to compute:\n",
    "$$\n",
    "    \\int_{0}^{\\infty} \\lambda y^2 e^{- \\lambda y} d y = \\frac{2}{\\lambda^2}.\n",
    "$$\n",
    "Then $\\text{var}(Y) = (2 / \\lambda^2) -  (1 / \\lambda)^2 = 1 / \\lambda^2$."
   ]
  },
  {
   "cell_type": "code",
   "execution_count": 1,
   "id": "2a305ddd",
   "metadata": {},
   "outputs": [
    {
     "data": {
      "image/png": "[encoded data removed]",
      "text/plain": [
       "<Figure size 432x288 with 1 Axes>"
      ]
     },
     "metadata": {
      "needs_background": "light"
     },
     "output_type": "display_data"
    }
   ],
   "source": [
    "import matplotlib.pyplot as plt\n",
    "import numpy as np\n",
    "from scipy.stats import expon\n",
    "\n",
    "\n",
    "lambd = 1\n",
    "x_axis = np.linspace(0, 10, 100)\n",
    "y_axis = expon.pdf(x_axis, scale=1/lambd)\n",
    "\n",
    "plt.plot(x_axis, y_axis);\n",
    "plt.xlabel(r'$y$ values');\n",
    "plt.ylabel(r'Density $p(y \\mid \\lambda = 1)$');"
   ]
  },
  {
   "cell_type": "markdown",
   "id": "6396de5f",
   "metadata": {},
   "source": [
    "# The Gamma Distribution\n",
    "\n",
    "The gamma distribution is a continuous distribution with two parameters, a shape parameter $\\alpha$ and a rate parameter $\\beta$. The distribution is defined for random variables that are non-negative. The pdf of the distribution is:\n",
    "$$\n",
    "    p(y \\mid \\alpha, \\beta) \n",
    "        = \\frac{ \\beta^{\\alpha} }{\\Gamma(\\alpha)} y^{\\alpha - 1} e^{- \\beta y} \n",
    "            \\text{ for } y \\geq 0, \\alpha, \\beta > 0.\n",
    "$$\n",
    "Comparing this with the distribution for the exponential family, we see that:\n",
    "1. $Z(\\alpha, \\beta) = \\frac{\\Gamma(\\alpha)}{\\beta^{\\alpha}}$\n",
    "2. $h(y) = y^{\\alpha - 1}$\n",
    "3. $\\phi_{\\alpha} (y) = 0$ and $\\phi_{\\beta} (y) = -y$\n",
    "\n",
    "The mean of the distribution is $\\alpha / \\beta$ and the variance is $\\alpha / \\beta^2$."
   ]
  }
 ],
 "metadata": {
  "kernelspec": {
   "display_name": "stat-rethink",
   "language": "python",
   "name": "stat-rethink"
  },
  "language_info": {
   "codemirror_mode": {
    "name": "ipython",
    "version": 3
   },
   "file_extension": ".py",
   "mimetype": "text/x-python",
   "name": "python",
   "nbconvert_exporter": "python",
   "pygments_lexer": "ipython3",
   "version": "3.9.4"
  }
 },
 "nbformat": 4,
 "nbformat_minor": 5
}
