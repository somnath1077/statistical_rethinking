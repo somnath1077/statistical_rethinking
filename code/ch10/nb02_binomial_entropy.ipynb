{
 "cells": [
  {
   "cell_type": "code",
   "execution_count": 1,
   "id": "be575427",
   "metadata": {},
   "outputs": [],
   "source": [
    "import numpy as np\n",
    "import matplotlib.pyplot as plt\n",
    "import seaborn as sns\n",
    "\n",
    "sns.set_style()"
   ]
  },
  {
   "cell_type": "code",
   "execution_count": 2,
   "id": "965e6d31",
   "metadata": {},
   "outputs": [],
   "source": [
    "def h(p):\n",
    "    return sum([- p_i * np.log(p_i) if p_i > 0 else 0.0 for p_i in p ])"
   ]
  },
  {
   "cell_type": "markdown",
   "id": "8052b6c6",
   "metadata": {},
   "source": [
    "### Code 10.7"
   ]
  },
  {
   "cell_type": "code",
   "execution_count": 3,
   "id": "d0c82d41",
   "metadata": {},
   "outputs": [],
   "source": [
    "p = 0.7\n",
    "A = np.array([(1 - p)**2, p * (1 - p), (1 - p) * p , p**2])"
   ]
  },
  {
   "cell_type": "markdown",
   "id": "49c3b36b",
   "metadata": {},
   "source": [
    "### Code 10.8"
   ]
  },
  {
   "cell_type": "code",
   "execution_count": 4,
   "id": "2c94a4bb",
   "metadata": {},
   "outputs": [
    {
     "data": {
      "text/plain": [
       "1.221728604109787"
      ]
     },
     "execution_count": 4,
     "metadata": {},
     "output_type": "execute_result"
    }
   ],
   "source": [
    "h(A)"
   ]
  },
  {
   "cell_type": "markdown",
   "id": "ca722d0a",
   "metadata": {},
   "source": [
    "## Simulating Random Probability Distributions\n",
    "\n",
    "In the book, the code in 10.9 generates a random probability distribution such that the expected number $G$ of blue balls in two consecutive draws is a constant. This can be easily derived as follows. We need four non-negative numbers $x_1, x_2, x_3, x_4$ satisfying the condition:\n",
    "$$\n",
    "    \\frac{x_2}{\\sum_i x_i} + \\frac{x_3}{\\sum_i x_i} \n",
    "        + 2 \\frac{x_4}{\\sum_i x_i} = G \n",
    "$$\n",
    "This yields:\n",
    "$$\n",
    "    x_4 = \\frac{1}{2 - G} \n",
    "            \\left ( \n",
    "                    G \\cdot (x_1 + x_2 + x_3) - x_2 - x_3 \n",
    "            \\right )\n",
    "$$\n",
    "Since we want $x_4$ to be non-negative, and since $G \\leq 2$, we also require that \n",
    "$$\n",
    "   G \\cdot (x_1 + x_2 + x_3) - x_2 - x_3 \\geq 0,\n",
    "$$\n",
    "which, in turn, gives us that\n",
    "$$\n",
    "    x_1 \\geq \\frac{1 - G}{G} (x_2 + x_3).\n",
    "$$\n",
    "Note that the RHS above can be _negative_ and in this case any positive value of $x_1$ will suffice.\n",
    "\n",
    "This suggests the following strategy at creating such a distribution. First select two random positive integers $x_2$ and $x_3$. Then select a _positive_ integer larger than $\\frac{1 - G}{G} (x_2 + x_3)$. Finally choose $x_4$ using the equation in terms of $x_1, x_2, x_3$ and $G$."
   ]
  },
  {
   "cell_type": "code",
   "execution_count": 5,
   "id": "ab44437c",
   "metadata": {},
   "outputs": [],
   "source": [
    "import random\n",
    "\n",
    "def simulate(G):\n",
    "    x2 = np.random.uniform(1, 100, size=1)\n",
    "    x3 = np.random.uniform(1, 100, size=1)\n",
    "    \n",
    "    lb = int(( (1 - G) * (x2 + x3) ) / G)\n",
    "    x1 = np.random.uniform(max(1, lb), 100, size=1)\n",
    "    \n",
    "    x4 = (G * (x1 + x2 + x3) - x2 - x3) / (2 - G)\n",
    "    \n",
    "    ret = np.array([x1, x2, x3, x4])\n",
    "    return ret / np.sum(ret)"
   ]
  },
  {
   "cell_type": "code",
   "execution_count": 6,
   "id": "dc8c0402",
   "metadata": {},
   "outputs": [],
   "source": [
    "N_SAMPLES = 10000\n",
    "\n",
    "entropies = np.zeros(N_SAMPLES)\n",
    "\n",
    "for i in range(N_SAMPLES):\n",
    "    entropies[i] = h(simulate(G=1.4))"
   ]
  },
  {
   "cell_type": "code",
   "execution_count": 7,
   "id": "6c7f0238",
   "metadata": {},
   "outputs": [
    {
     "data": {
      "text/plain": [
       "Text(0.5, 0, 'Entropy')"
      ]
     },
     "execution_count": 7,
     "metadata": {},
     "output_type": "execute_result"
    },
    {
     "data": {
      "image/png": "[encoded data removed]",
      "text/plain": [
       "<Figure size 720x576 with 1 Axes>"
      ]
     },
     "metadata": {
      "needs_background": "light"
     },
     "output_type": "display_data"
    }
   ],
   "source": [
    "fig, ax = plt.subplots(1, 1, figsize=(10, 8))\n",
    "\n",
    "sns.histplot(entropies, ax=ax)\n",
    "ax.axvline(x=1.22, linestyle='--', color='k')\n",
    "ax.set_xlabel('Entropy')"
   ]
  }
 ],
 "metadata": {
  "@webio": {
   "lastCommId": "bc9ce9c5de914bc88b36e529c395e73a",
   "lastKernelId": "d140eebf-db3f-4e09-8490-403061017306"
  },
  "kernelspec": {
   "display_name": "rethinking",
   "language": "python",
   "name": "stat_rethink"
  },
  "language_info": {
   "codemirror_mode": {
    "name": "ipython",
    "version": 3
   },
   "file_extension": ".py",
   "mimetype": "text/x-python",
   "name": "python",
   "nbconvert_exporter": "python",
   "pygments_lexer": "ipython3",
   "version": "3.9.4"
  }
 },
 "nbformat": 4,
 "nbformat_minor": 5
}
