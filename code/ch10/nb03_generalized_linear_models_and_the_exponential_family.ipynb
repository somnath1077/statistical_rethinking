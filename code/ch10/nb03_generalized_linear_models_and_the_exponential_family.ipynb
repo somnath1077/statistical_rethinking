{
 "cells": [
  {
   "cell_type": "markdown",
   "id": "3b5020bd",
   "metadata": {},
   "source": [
    "# Generalized Linear Models\n",
    "\n",
    "In a generalized linear model (GLM), each outcome $Y$ of the dependent variable is assumed to be generated from a particular distribution from the _exponential family_, a large class of probability distributions that includes the normal, binomial, Poisson and gamma distributions, among others. The mean, $\\mu$, of the distribution depends on the independent variables, $X = (X_0, X_1, X_2, \\ldots, X_p)$, through:\n",
    "$$\n",
    "    \\mathrm{E} ( Y \\mid X ) = \\mu = g^{-1}(X \\beta), \n",
    "$$\n",
    "where $\\mathrm{E} ( Y \\mid X )$ is the expected value of $Y$ conditional on $X$; $X \\beta$ is a linear combination of unknown parameters $\\beta$; $g$ is the _link_ function.\n",
    "\n",
    "In this framework, the variance is typically a function, $V$, of the mean:\n",
    "$$\n",
    "    \\mathrm{Var} ⁡ ( Y \\mid X ) = V ⁡( \\mu ) = V ⁡ ( g^{-1}(X \\beta)) . \n",
    "$$\n",
    "It is convenient if V follows from an exponential family of distributions, but it may simply be that the variance is a function of the predicted value. \n",
    "\n",
    "The GLM consists of three elements:\n",
    "\n",
    "1. A probability distribution from the exponential family.\n",
    "2. A linear predictor $\\eta = X \\beta$\n",
    "3. A link function $g$ such that $\\mathrm{E} ( Y \\mid X ) = \\mu = g^{-1}( \\eta )$.\n",
    "\n",
    "[Adapted from Wikipedia]"
   ]
  },
  {
   "cell_type": "markdown",
   "id": "c149207e",
   "metadata": {},
   "source": [
    "# The Exponential Family\n",
    "\n",
    "The exponential family consists of several well-known distributions, both discrete and continuous. Every member of this family is a maximum entropy distribution for some set of constraints. A pdf or pmf $p( y \\mid \\theta)$, where $y \\in \\mathcal{Y} \\subseteq R^{m}$ and $\\theta \\in R^{d}$ is in the exponential family if it is of the form:\n",
    "$$\n",
    "    p (y \\mid \\theta) \n",
    "        = \\frac{1}{Z(\\theta)} h(y) \\text{exp} ( \\theta^T \\phi(y)),\n",
    "$$\n",
    "where \n",
    "$$\n",
    "    Z(\\theta) = \\int_{\\mathcal{Y}} h(y) \\text{exp} ( \\theta^T \\phi(y)) dy.\n",
    "$$"
   ]
  }
 ],
 "metadata": {
  "kernelspec": {
   "display_name": "stat-rethink",
   "language": "python",
   "name": "stat-rethink"
  },
  "language_info": {
   "codemirror_mode": {
    "name": "ipython",
    "version": 3
   },
   "file_extension": ".py",
   "mimetype": "text/x-python",
   "name": "python",
   "nbconvert_exporter": "python",
   "pygments_lexer": "ipython3",
   "version": "3.9.4"
  }
 },
 "nbformat": 4,
 "nbformat_minor": 5
}
