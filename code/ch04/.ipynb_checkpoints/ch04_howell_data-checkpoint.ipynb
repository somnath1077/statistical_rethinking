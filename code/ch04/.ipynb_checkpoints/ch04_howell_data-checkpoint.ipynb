{
 "cells": [
  {
   "cell_type": "code",
   "execution_count": 1,
   "metadata": {},
   "outputs": [],
   "source": [
    "import pandas as pd\n",
    "import matplotlib.pyplot as plt\n",
    "import seaborn as sns\n",
    "\n",
    "\n",
    "sns.set_style('whitegrid')\n",
    "\n",
    "\n",
    "HOWELL1_DATA_LOCATION = '../../data/howell1.csv' "
   ]
  },
  {
   "cell_type": "code",
   "execution_count": 2,
   "metadata": {},
   "outputs": [
    {
     "data": {
      "text/html": [
       "<div>\n",
       "<style scoped>\n",
       "    .dataframe tbody tr th:only-of-type {\n",
       "        vertical-align: middle;\n",
       "    }\n",
       "\n",
       "    .dataframe tbody tr th {\n",
       "        vertical-align: top;\n",
       "    }\n",
       "\n",
       "    .dataframe thead th {\n",
       "        text-align: right;\n",
       "    }\n",
       "</style>\n",
       "<table border=\"1\" class=\"dataframe\">\n",
       "  <thead>\n",
       "    <tr style=\"text-align: right;\">\n",
       "      <th></th>\n",
       "      <th>height</th>\n",
       "      <th>weight</th>\n",
       "      <th>age</th>\n",
       "      <th>male</th>\n",
       "    </tr>\n",
       "  </thead>\n",
       "  <tbody>\n",
       "    <tr>\n",
       "      <th>0</th>\n",
       "      <td>151.765</td>\n",
       "      <td>47.825606</td>\n",
       "      <td>63.0</td>\n",
       "      <td>1</td>\n",
       "    </tr>\n",
       "    <tr>\n",
       "      <th>1</th>\n",
       "      <td>139.700</td>\n",
       "      <td>36.485807</td>\n",
       "      <td>63.0</td>\n",
       "      <td>0</td>\n",
       "    </tr>\n",
       "    <tr>\n",
       "      <th>2</th>\n",
       "      <td>136.525</td>\n",
       "      <td>31.864838</td>\n",
       "      <td>65.0</td>\n",
       "      <td>0</td>\n",
       "    </tr>\n",
       "    <tr>\n",
       "      <th>3</th>\n",
       "      <td>156.845</td>\n",
       "      <td>53.041914</td>\n",
       "      <td>41.0</td>\n",
       "      <td>1</td>\n",
       "    </tr>\n",
       "    <tr>\n",
       "      <th>4</th>\n",
       "      <td>145.415</td>\n",
       "      <td>41.276872</td>\n",
       "      <td>51.0</td>\n",
       "      <td>0</td>\n",
       "    </tr>\n",
       "  </tbody>\n",
       "</table>\n",
       "</div>"
      ],
      "text/plain": [
       "    height     weight   age  male\n",
       "0  151.765  47.825606  63.0     1\n",
       "1  139.700  36.485807  63.0     0\n",
       "2  136.525  31.864838  65.0     0\n",
       "3  156.845  53.041914  41.0     1\n",
       "4  145.415  41.276872  51.0     0"
      ]
     },
     "execution_count": 2,
     "metadata": {},
     "output_type": "execute_result"
    }
   ],
   "source": [
    "df = pd.read_csv(HOWELL1_DATA_LOCATION)\n",
    "df.head()"
   ]
  },
  {
   "cell_type": "code",
   "execution_count": 3,
   "metadata": {},
   "outputs": [
    {
     "data": {
      "text/html": [
       "<div>\n",
       "<style scoped>\n",
       "    .dataframe tbody tr th:only-of-type {\n",
       "        vertical-align: middle;\n",
       "    }\n",
       "\n",
       "    .dataframe tbody tr th {\n",
       "        vertical-align: top;\n",
       "    }\n",
       "\n",
       "    .dataframe thead th {\n",
       "        text-align: right;\n",
       "    }\n",
       "</style>\n",
       "<table border=\"1\" class=\"dataframe\">\n",
       "  <thead>\n",
       "    <tr style=\"text-align: right;\">\n",
       "      <th></th>\n",
       "      <th>height</th>\n",
       "      <th>weight</th>\n",
       "      <th>age</th>\n",
       "      <th>male</th>\n",
       "    </tr>\n",
       "  </thead>\n",
       "  <tbody>\n",
       "    <tr>\n",
       "      <th>count</th>\n",
       "      <td>544.000000</td>\n",
       "      <td>544.000000</td>\n",
       "      <td>544.000000</td>\n",
       "      <td>544.000000</td>\n",
       "    </tr>\n",
       "    <tr>\n",
       "      <th>mean</th>\n",
       "      <td>138.263596</td>\n",
       "      <td>35.610618</td>\n",
       "      <td>29.344393</td>\n",
       "      <td>0.472426</td>\n",
       "    </tr>\n",
       "    <tr>\n",
       "      <th>std</th>\n",
       "      <td>27.602448</td>\n",
       "      <td>14.719178</td>\n",
       "      <td>20.746888</td>\n",
       "      <td>0.499699</td>\n",
       "    </tr>\n",
       "    <tr>\n",
       "      <th>min</th>\n",
       "      <td>53.975000</td>\n",
       "      <td>4.252425</td>\n",
       "      <td>0.000000</td>\n",
       "      <td>0.000000</td>\n",
       "    </tr>\n",
       "    <tr>\n",
       "      <th>25%</th>\n",
       "      <td>125.095000</td>\n",
       "      <td>22.007717</td>\n",
       "      <td>12.000000</td>\n",
       "      <td>0.000000</td>\n",
       "    </tr>\n",
       "    <tr>\n",
       "      <th>50%</th>\n",
       "      <td>148.590000</td>\n",
       "      <td>40.057844</td>\n",
       "      <td>27.000000</td>\n",
       "      <td>0.000000</td>\n",
       "    </tr>\n",
       "    <tr>\n",
       "      <th>75%</th>\n",
       "      <td>157.480000</td>\n",
       "      <td>47.209005</td>\n",
       "      <td>43.000000</td>\n",
       "      <td>1.000000</td>\n",
       "    </tr>\n",
       "    <tr>\n",
       "      <th>max</th>\n",
       "      <td>179.070000</td>\n",
       "      <td>62.992589</td>\n",
       "      <td>88.000000</td>\n",
       "      <td>1.000000</td>\n",
       "    </tr>\n",
       "  </tbody>\n",
       "</table>\n",
       "</div>"
      ],
      "text/plain": [
       "           height      weight         age        male\n",
       "count  544.000000  544.000000  544.000000  544.000000\n",
       "mean   138.263596   35.610618   29.344393    0.472426\n",
       "std     27.602448   14.719178   20.746888    0.499699\n",
       "min     53.975000    4.252425    0.000000    0.000000\n",
       "25%    125.095000   22.007717   12.000000    0.000000\n",
       "50%    148.590000   40.057844   27.000000    0.000000\n",
       "75%    157.480000   47.209005   43.000000    1.000000\n",
       "max    179.070000   62.992589   88.000000    1.000000"
      ]
     },
     "execution_count": 3,
     "metadata": {},
     "output_type": "execute_result"
    }
   ],
   "source": [
    "df.describe()"
   ]
  },
  {
   "cell_type": "markdown",
   "metadata": {},
   "source": [
    "# Plots"
   ]
  },
  {
   "cell_type": "code",
   "execution_count": 4,
   "metadata": {},
   "outputs": [
    {
     "data": {
      "text/plain": [
       "<AxesSubplot:xlabel='height', ylabel='Count'>"
      ]
     },
     "execution_count": 4,
     "metadata": {},
     "output_type": "execute_result"
    },
    {
     "data": {
      "image/png": "[encoded data removed]",
      "text/plain": [
       "<Figure size 432x288 with 1 Axes>"
      ]
     },
     "metadata": {},
     "output_type": "display_data"
    }
   ],
   "source": [
    "sns.histplot(df['height'])"
   ]
  },
  {
   "cell_type": "code",
   "execution_count": 5,
   "metadata": {},
   "outputs": [
    {
     "data": {
      "text/plain": [
       "<AxesSubplot:xlabel='weight', ylabel='Count'>"
      ]
     },
     "execution_count": 5,
     "metadata": {},
     "output_type": "execute_result"
    },
    {
     "data": {
      "image/png": "[encoded data removed]",
      "text/plain": [
       "<Figure size 432x288 with 1 Axes>"
      ]
     },
     "metadata": {},
     "output_type": "display_data"
    }
   ],
   "source": [
    "sns.histplot(df['weight'])"
   ]
  },
  {
   "cell_type": "code",
   "execution_count": 6,
   "metadata": {},
   "outputs": [
    {
     "data": {
      "text/plain": [
       "<AxesSubplot:xlabel='age', ylabel='Count'>"
      ]
     },
     "execution_count": 6,
     "metadata": {},
     "output_type": "execute_result"
    },
    {
     "data": {
      "image/png": "[encoded data removed]",
      "text/plain": [
       "<Figure size 432x288 with 1 Axes>"
      ]
     },
     "metadata": {},
     "output_type": "display_data"
    }
   ],
   "source": [
    "sns.histplot(df['age'])"
   ]
  },
  {
   "cell_type": "markdown",
   "metadata": {},
   "source": [
    "### Only Adults\n",
    "\n",
    "If we consider only the adults in the population, then the distributions are more normal-like."
   ]
  },
  {
   "cell_type": "code",
   "execution_count": 7,
   "metadata": {},
   "outputs": [
    {
     "data": {
      "text/html": [
       "<div>\n",
       "<style scoped>\n",
       "    .dataframe tbody tr th:only-of-type {\n",
       "        vertical-align: middle;\n",
       "    }\n",
       "\n",
       "    .dataframe tbody tr th {\n",
       "        vertical-align: top;\n",
       "    }\n",
       "\n",
       "    .dataframe thead th {\n",
       "        text-align: right;\n",
       "    }\n",
       "</style>\n",
       "<table border=\"1\" class=\"dataframe\">\n",
       "  <thead>\n",
       "    <tr style=\"text-align: right;\">\n",
       "      <th></th>\n",
       "      <th>height</th>\n",
       "      <th>weight</th>\n",
       "      <th>age</th>\n",
       "      <th>male</th>\n",
       "    </tr>\n",
       "  </thead>\n",
       "  <tbody>\n",
       "    <tr>\n",
       "      <th>count</th>\n",
       "      <td>352.000000</td>\n",
       "      <td>352.000000</td>\n",
       "      <td>352.000000</td>\n",
       "      <td>352.000000</td>\n",
       "    </tr>\n",
       "    <tr>\n",
       "      <th>mean</th>\n",
       "      <td>154.597093</td>\n",
       "      <td>44.990486</td>\n",
       "      <td>41.138494</td>\n",
       "      <td>0.468750</td>\n",
       "    </tr>\n",
       "    <tr>\n",
       "      <th>std</th>\n",
       "      <td>7.742332</td>\n",
       "      <td>6.456708</td>\n",
       "      <td>15.967855</td>\n",
       "      <td>0.499733</td>\n",
       "    </tr>\n",
       "    <tr>\n",
       "      <th>min</th>\n",
       "      <td>136.525000</td>\n",
       "      <td>31.071052</td>\n",
       "      <td>18.000000</td>\n",
       "      <td>0.000000</td>\n",
       "    </tr>\n",
       "    <tr>\n",
       "      <th>25%</th>\n",
       "      <td>148.590000</td>\n",
       "      <td>40.256290</td>\n",
       "      <td>28.000000</td>\n",
       "      <td>0.000000</td>\n",
       "    </tr>\n",
       "    <tr>\n",
       "      <th>50%</th>\n",
       "      <td>154.305000</td>\n",
       "      <td>44.792210</td>\n",
       "      <td>39.000000</td>\n",
       "      <td>0.000000</td>\n",
       "    </tr>\n",
       "    <tr>\n",
       "      <th>75%</th>\n",
       "      <td>160.655000</td>\n",
       "      <td>49.292693</td>\n",
       "      <td>51.000000</td>\n",
       "      <td>1.000000</td>\n",
       "    </tr>\n",
       "    <tr>\n",
       "      <th>max</th>\n",
       "      <td>179.070000</td>\n",
       "      <td>62.992589</td>\n",
       "      <td>88.000000</td>\n",
       "      <td>1.000000</td>\n",
       "    </tr>\n",
       "  </tbody>\n",
       "</table>\n",
       "</div>"
      ],
      "text/plain": [
       "           height      weight         age        male\n",
       "count  352.000000  352.000000  352.000000  352.000000\n",
       "mean   154.597093   44.990486   41.138494    0.468750\n",
       "std      7.742332    6.456708   15.967855    0.499733\n",
       "min    136.525000   31.071052   18.000000    0.000000\n",
       "25%    148.590000   40.256290   28.000000    0.000000\n",
       "50%    154.305000   44.792210   39.000000    0.000000\n",
       "75%    160.655000   49.292693   51.000000    1.000000\n",
       "max    179.070000   62.992589   88.000000    1.000000"
      ]
     },
     "execution_count": 7,
     "metadata": {},
     "output_type": "execute_result"
    }
   ],
   "source": [
    "df_adults = df[df['age'] >= 18]\n",
    "\n",
    "df_adults.describe()"
   ]
  },
  {
   "cell_type": "code",
   "execution_count": 8,
   "metadata": {},
   "outputs": [
    {
     "data": {
      "text/plain": [
       "<AxesSubplot:xlabel='height', ylabel='Count'>"
      ]
     },
     "execution_count": 8,
     "metadata": {},
     "output_type": "execute_result"
    },
    {
     "data": {
      "image/png": "[encoded data removed]",
      "text/plain": [
       "<Figure size 432x288 with 1 Axes>"
      ]
     },
     "metadata": {},
     "output_type": "display_data"
    }
   ],
   "source": [
    "sns.histplot(df_adults['height'])"
   ]
  },
  {
   "cell_type": "code",
   "execution_count": 9,
   "metadata": {},
   "outputs": [
    {
     "data": {
      "text/plain": [
       "<AxesSubplot:xlabel='weight', ylabel='Count'>"
      ]
     },
     "execution_count": 9,
     "metadata": {},
     "output_type": "execute_result"
    },
    {
     "data": {
      "image/png": "[encoded data removed]",
      "text/plain": [
       "<Figure size 432x288 with 1 Axes>"
      ]
     },
     "metadata": {},
     "output_type": "display_data"
    }
   ],
   "source": [
    "sns.histplot(df_adults['weight'])"
   ]
  },
  {
   "cell_type": "markdown",
   "metadata": {},
   "source": [
    "## Modeling Heights as a Normally Distributed Variable\n",
    "\n",
    "We assume that the heights in the population is a normally distributed variable $N(\\mu, \\sigma)$ with an unknown mean $\\mu$ and unknown standard deviation $\\sigma$.\n",
    "$$\n",
    "    h_i \\overset{\\text{iid}}{\\sim} N(\\mu, \\sigma). \n",
    "$$\n",
    "\n",
    "We specify individual priors for $\\mu$ and $\\sigma$ and assume that $\\text{Pr}\\{ \\mu, \\sigma \\} = \\text{Pr}\\{ \\mu \\} \\text{Pr}\\{ \\sigma \\}$. \n",
    "$$\n",
    "\\begin{align*}\n",
    "    \\mu & \\sim N(178, 20) \\\\\n",
    "    \\sigma & \\sim \\text{Uniform}(0, 50)\n",
    "\\end{align*}\n",
    "$$\n",
    "\n",
    "In order to estimate the most plausible values of $\\mu$ and $\\sigma$, we use Bayes' Theorem which in this context can be written as:\n",
    "$$\n",
    "\\begin{align*}\n",
    "    \\text{Pr} \\{ \\mu, \\sigma \\vert h_1, \\ldots, h_n \\} \n",
    "        & = \\frac{\\prod_{i = 1}^n \\text{Pr} \\{h_i \\vert \\mu, \\sigma \\} \\cdot \\text{Pr} \\{ \\mu \\} \\cdot \\text{Pr} \\{ \\sigma \\}}{\\int \\int \\prod_{i = 1}^n \\text{Pr} \\{h_i \\vert \\mu, \\sigma \\} \\cdot \\text{Pr} \\{ \\mu \\} \\cdot \\text{Pr} \\{ \\sigma \\} d \\mu d \\sigma},\n",
    "\\end{align*}\n",
    "$$\n",
    "where $\\text{Pr} \\{ \\mu \\} = N(\\mu \\vert 178, 20)$ and $\\text{Pr} \\{ \\sigma \\} = \\text{Uniform} (\\sigma \\vert (0, 50))$."
   ]
  },
  {
   "cell_type": "markdown",
   "metadata": {},
   "source": [
    "### Plotting the Priors"
   ]
  },
  {
   "cell_type": "code",
   "execution_count": 10,
   "metadata": {},
   "outputs": [
    {
     "data": {
      "text/plain": [
       "[<matplotlib.lines.Line2D at 0x7f432a15ab80>]"
      ]
     },
     "execution_count": 10,
     "metadata": {},
     "output_type": "execute_result"
    },
    {
     "data": {
      "image/png": "[encoded data removed]",
      "text/plain": [
       "<Figure size 432x288 with 1 Axes>"
      ]
     },
     "metadata": {},
     "output_type": "display_data"
    }
   ],
   "source": [
    "import numpy as np\n",
    "from scipy.stats import norm\n",
    "\n",
    "\n",
    "mu_grid = np.linspace(100, 250, num=150)\n",
    "mu_vals = norm.pdf(mu_grid, loc=178, scale=20)\n",
    "plt.plot(mu_grid, mu_vals)"
   ]
  },
  {
   "cell_type": "code",
   "execution_count": 11,
   "metadata": {},
   "outputs": [
    {
     "data": {
      "text/plain": [
       "[<matplotlib.lines.Line2D at 0x7f432a13aaf0>]"
      ]
     },
     "execution_count": 11,
     "metadata": {},
     "output_type": "execute_result"
    },
    {
     "data": {
      "image/png": "[encoded data removed]",
      "text/plain": [
       "<Figure size 432x288 with 1 Axes>"
      ]
     },
     "metadata": {},
     "output_type": "display_data"
    }
   ],
   "source": [
    "from scipy.stats import uniform\n",
    "\n",
    "\n",
    "sigma_grid = np.linspace(-10, 60, num=7000)\n",
    "sigma_vals = uniform.pdf(sigma_grid, loc=0, scale=50)\n",
    "plt.plot(sigma_grid, sigma_vals)"
   ]
  },
  {
   "cell_type": "markdown",
   "metadata": {},
   "source": [
    "### Prior Predictive Simulation\n",
    "\n",
    "The choice of priors for $h$, $\\mu$, and $\\sigma$ imply a joint prior distribution of heights. To see how heights might be distributed, we sample from this joint distribution. Such a simulation is called a prior predictive simulation."
   ]
  },
  {
   "cell_type": "code",
   "execution_count": 12,
   "metadata": {},
   "outputs": [
    {
     "data": {
      "image/png": "[encoded data removed]",
      "text/plain": [
       "<Figure size 432x288 with 1 Axes>"
      ]
     },
     "metadata": {},
     "output_type": "display_data"
    }
   ],
   "source": [
    "NUM_SAMPLES = 10000\n",
    "\n",
    "mu_sample = norm.rvs(loc=178, scale=20, size=NUM_SAMPLES)\n",
    "sd_sample = uniform.rvs(loc=0, scale=50, size=NUM_SAMPLES)\n",
    "\n",
    "prior_heights = norm.rvs(loc=mu_sample, scale=sd_sample, size=NUM_SAMPLES)\n",
    "\n",
    "mean_ht = np.mean(prior_heights)\n",
    "sd_ht = np.std(prior_heights)\n",
    "min_ht = np.min(prior_heights)\n",
    "max_ht = np.max(prior_heights)\n",
    "\n",
    "ht_grid = np.linspace(min_ht, max_ht, num=1000)\n",
    "norm_vals = norm.pdf(ht_grid, loc=mean_ht, scale=sd_ht)\n",
    "\n",
    "sns.kdeplot(prior_heights, label='Height distribution')\n",
    "plt.plot(ht_grid, norm_vals, 'b--', label='Normal approx')\n",
    "\n",
    "plt.xlabel('Height in cm')\n",
    "plt.legend()\n",
    "plt.show()"
   ]
  },
  {
   "cell_type": "markdown",
   "metadata": {},
   "source": [
    "### Grid Approximation\n",
    "\n",
    "In computing the posterior using grid approximation, we use logarithms so that the products in the equation: \n",
    "\\begin{align*}\n",
    "    \\text{Pr} \\{ \\mu, \\sigma \\vert h_1, \\ldots, h_n \\} \n",
    "        & = \\frac{\\prod_{i = 1}^n \\text{Pr} \\{h_i \\vert \\mu, \\sigma \\} \\cdot \\text{Pr} \\{ \\mu \\} \\cdot \\text{Pr} \\{ \\sigma \\}}{\\int \\int \\prod_{i = 1}^n \\text{Pr} \\{h_i \\vert \\mu, \\sigma \\} \\cdot \\text{Pr} \\{ \\mu \\} \\cdot \\text{Pr} \\{ \\sigma \\} d \\mu d \\sigma},\n",
    "\\end{align*}\n",
    "are converted to sums."
   ]
  },
  {
   "cell_type": "code",
   "execution_count": 13,
   "metadata": {},
   "outputs": [],
   "source": [
    "import itertools\n",
    "\n",
    "\n",
    "NUM_SAMPLES = 100\n",
    "\n",
    "mu_list = np.linspace(start=150, stop=160, num=NUM_SAMPLES)\n",
    "sd_list = np.linspace(start=7, stop=9, num=NUM_SAMPLES)\n",
    "\n",
    "mu_list_expanded = list(mu_list) * NUM_SAMPLES\n",
    "sd_list_expanded = list(sd_list) * NUM_SAMPLES\n",
    "\n",
    "\n",
    "likelihood = np.array([sum(norm.logpdf(df_adults['height'], loc=mu, scale=sd)) \n",
    "                       for mu, sd in zip(mu_list_expanded, sd_list_expanded)])\n",
    "\n",
    "posterior_product = (likelihood + \n",
    "                     norm.logpdf(mu_list_expanded, loc=178, scale=20) + \n",
    "                     uniform.logpdf(sd_list_expanded, loc=0, scale=50))\n",
    "\n",
    "post_prob = np.exp(posterior_product - max(posterior_product))"
   ]
  }
 ],
 "metadata": {
  "kernelspec": {
   "display_name": "stat-rethink",
   "language": "python",
   "name": "stat-rethink"
  },
  "language_info": {
   "codemirror_mode": {
    "name": "ipython",
    "version": 3
   },
   "file_extension": ".py",
   "mimetype": "text/x-python",
   "name": "python",
   "nbconvert_exporter": "python",
   "pygments_lexer": "ipython3",
   "version": "3.8.5"
  }
 },
 "nbformat": 4,
 "nbformat_minor": 4
}
