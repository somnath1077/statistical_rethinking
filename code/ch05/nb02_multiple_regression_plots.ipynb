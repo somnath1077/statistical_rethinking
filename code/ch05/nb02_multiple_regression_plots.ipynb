{
 "cells": [
  {
   "cell_type": "code",
   "execution_count": 1,
   "metadata": {},
   "outputs": [],
   "source": [
    "import arviz as az\n",
    "import numpy as np\n",
    "import matplotlib.pyplot as plt\n",
    "import pandas as pd\n",
    "import pymc3 as pm\n",
    "import seaborn as sns\n",
    "\n",
    "\n",
    "az.style.use('arviz-darkgrid')"
   ]
  },
  {
   "cell_type": "code",
   "execution_count": 2,
   "metadata": {},
   "outputs": [],
   "source": [
    "WAFFLE_DATA = 'waffle_divorce.csv'\n",
    "DATA_FOLDER = '../../data'"
   ]
  },
  {
   "cell_type": "code",
   "execution_count": 3,
   "metadata": {},
   "outputs": [
    {
     "data": {
      "text/html": [
       "<div>\n",
       "<style scoped>\n",
       "    .dataframe tbody tr th:only-of-type {\n",
       "        vertical-align: middle;\n",
       "    }\n",
       "\n",
       "    .dataframe tbody tr th {\n",
       "        vertical-align: top;\n",
       "    }\n",
       "\n",
       "    .dataframe thead th {\n",
       "        text-align: right;\n",
       "    }\n",
       "</style>\n",
       "<table border=\"1\" class=\"dataframe\">\n",
       "  <thead>\n",
       "    <tr style=\"text-align: right;\">\n",
       "      <th></th>\n",
       "      <th>Unnamed: 0</th>\n",
       "      <th>Location</th>\n",
       "      <th>Loc</th>\n",
       "      <th>Population</th>\n",
       "      <th>MedianAgeMarriage</th>\n",
       "      <th>Marriage</th>\n",
       "      <th>Marriage.SE</th>\n",
       "      <th>Divorce</th>\n",
       "      <th>Divorce.SE</th>\n",
       "      <th>WaffleHouses</th>\n",
       "      <th>South</th>\n",
       "      <th>Slaves1860</th>\n",
       "      <th>Population1860</th>\n",
       "      <th>PropSlaves1860</th>\n",
       "    </tr>\n",
       "  </thead>\n",
       "  <tbody>\n",
       "    <tr>\n",
       "      <th>0</th>\n",
       "      <td>1</td>\n",
       "      <td>Alabama</td>\n",
       "      <td>AL</td>\n",
       "      <td>4.78</td>\n",
       "      <td>25.3</td>\n",
       "      <td>20.2</td>\n",
       "      <td>1.27</td>\n",
       "      <td>12.7</td>\n",
       "      <td>0.79</td>\n",
       "      <td>128</td>\n",
       "      <td>1</td>\n",
       "      <td>435080</td>\n",
       "      <td>964201</td>\n",
       "      <td>0.45</td>\n",
       "    </tr>\n",
       "    <tr>\n",
       "      <th>1</th>\n",
       "      <td>2</td>\n",
       "      <td>Alaska</td>\n",
       "      <td>AK</td>\n",
       "      <td>0.71</td>\n",
       "      <td>25.2</td>\n",
       "      <td>26.0</td>\n",
       "      <td>2.93</td>\n",
       "      <td>12.5</td>\n",
       "      <td>2.05</td>\n",
       "      <td>0</td>\n",
       "      <td>0</td>\n",
       "      <td>0</td>\n",
       "      <td>0</td>\n",
       "      <td>0.00</td>\n",
       "    </tr>\n",
       "    <tr>\n",
       "      <th>2</th>\n",
       "      <td>3</td>\n",
       "      <td>Arizona</td>\n",
       "      <td>AZ</td>\n",
       "      <td>6.33</td>\n",
       "      <td>25.8</td>\n",
       "      <td>20.3</td>\n",
       "      <td>0.98</td>\n",
       "      <td>10.8</td>\n",
       "      <td>0.74</td>\n",
       "      <td>18</td>\n",
       "      <td>0</td>\n",
       "      <td>0</td>\n",
       "      <td>0</td>\n",
       "      <td>0.00</td>\n",
       "    </tr>\n",
       "    <tr>\n",
       "      <th>3</th>\n",
       "      <td>4</td>\n",
       "      <td>Arkansas</td>\n",
       "      <td>AR</td>\n",
       "      <td>2.92</td>\n",
       "      <td>24.3</td>\n",
       "      <td>26.4</td>\n",
       "      <td>1.70</td>\n",
       "      <td>13.5</td>\n",
       "      <td>1.22</td>\n",
       "      <td>41</td>\n",
       "      <td>1</td>\n",
       "      <td>111115</td>\n",
       "      <td>435450</td>\n",
       "      <td>0.26</td>\n",
       "    </tr>\n",
       "    <tr>\n",
       "      <th>4</th>\n",
       "      <td>5</td>\n",
       "      <td>California</td>\n",
       "      <td>CA</td>\n",
       "      <td>37.25</td>\n",
       "      <td>26.8</td>\n",
       "      <td>19.1</td>\n",
       "      <td>0.39</td>\n",
       "      <td>8.0</td>\n",
       "      <td>0.24</td>\n",
       "      <td>0</td>\n",
       "      <td>0</td>\n",
       "      <td>0</td>\n",
       "      <td>379994</td>\n",
       "      <td>0.00</td>\n",
       "    </tr>\n",
       "  </tbody>\n",
       "</table>\n",
       "</div>"
      ],
      "text/plain": [
       "   Unnamed: 0    Location Loc  Population  MedianAgeMarriage  Marriage  \\\n",
       "0           1     Alabama  AL        4.78               25.3      20.2   \n",
       "1           2      Alaska  AK        0.71               25.2      26.0   \n",
       "2           3     Arizona  AZ        6.33               25.8      20.3   \n",
       "3           4    Arkansas  AR        2.92               24.3      26.4   \n",
       "4           5  California  CA       37.25               26.8      19.1   \n",
       "\n",
       "   Marriage.SE  Divorce  Divorce.SE  WaffleHouses  South  Slaves1860  \\\n",
       "0         1.27     12.7        0.79           128      1      435080   \n",
       "1         2.93     12.5        2.05             0      0           0   \n",
       "2         0.98     10.8        0.74            18      0           0   \n",
       "3         1.70     13.5        1.22            41      1      111115   \n",
       "4         0.39      8.0        0.24             0      0           0   \n",
       "\n",
       "   Population1860  PropSlaves1860  \n",
       "0          964201            0.45  \n",
       "1               0            0.00  \n",
       "2               0            0.00  \n",
       "3          435450            0.26  \n",
       "4          379994            0.00  "
      ]
     },
     "execution_count": 3,
     "metadata": {},
     "output_type": "execute_result"
    }
   ],
   "source": [
    "df_waf = pd.read_csv(f'{DATA_FOLDER}/{WAFFLE_DATA}')\n",
    "df_waf.head()"
   ]
  },
  {
   "cell_type": "code",
   "execution_count": 4,
   "metadata": {},
   "outputs": [],
   "source": [
    "df_waf['age_stan'] = (df_waf['MedianAgeMarriage'] - df_waf['MedianAgeMarriage'].mean()) / df_waf['MedianAgeMarriage'].std()\n",
    "df_waf['divorce_stan'] = (df_waf['Divorce'] - df_waf['Divorce'].mean()) / df_waf['Divorce'].std()\n",
    "df_waf['marriage_stan'] = (df_waf['Marriage'] - df_waf['Marriage'].mean()) /df_waf['Marriage'].std()"
   ]
  },
  {
   "cell_type": "markdown",
   "metadata": {},
   "source": [
    "# Predictor Residual Plots\n",
    "\n",
    "## Marriage rate against median age\n",
    "\n",
    "$$\n",
    "\\begin{align*}\n",
    "    M_i     & \\sim N(\\mu_i, \\sigma) \\\\\n",
    "    \\mu_i   & \\sim \\alpha + \\beta_A \\cdot A_i\\\\\n",
    "    \\alpha  & \\sim N(0, 0.2) \\\\\n",
    "    \\beta_A & \\sim N(0, 0.5) \\\\\n",
    "    \\sigma  & \\sim \\text{Exponential}(1)\n",
    "\\end{align*}\n",
    "$$"
   ]
  },
  {
   "cell_type": "markdown",
   "metadata": {},
   "source": [
    "### Code 5.13"
   ]
  },
  {
   "cell_type": "code",
   "execution_count": null,
   "metadata": {},
   "outputs": [
    {
     "name": "stderr",
     "output_type": "stream",
     "text": [
      "Auto-assigning NUTS sampler...\n",
      "Initializing NUTS using jitter+adapt_diag...\n",
      "Multiprocess sampling (4 chains in 4 jobs)\n",
      "NUTS: [sigma, beta_A, alpha]\n"
     ]
    },
    {
     "data": {
      "text/html": [
       "\n",
       "    <div>\n",
       "        <style>\n",
       "            /* Turns off some styling */\n",
       "            progress {\n",
       "                /* gets rid of default border in Firefox and Opera. */\n",
       "                border: none;\n",
       "                /* Needs to be in here for Safari polyfill so background images work as expected. */\n",
       "                background-size: auto;\n",
       "            }\n",
       "            .progress-bar-interrupted, .progress-bar-interrupted::-webkit-progress-bar {\n",
       "                background: #F44336;\n",
       "            }\n",
       "        </style>\n",
       "      <progress value='28000' class='' max='28000' style='width:300px; height:20px; vertical-align: middle;'></progress>\n",
       "      100.00% [28000/28000 00:10<00:00 Sampling 4 chains, 0 divergences]\n",
       "    </div>\n",
       "    "
      ],
      "text/plain": [
       "<IPython.core.display.HTML object>"
      ]
     },
     "metadata": {},
     "output_type": "display_data"
    },
    {
     "name": "stderr",
     "output_type": "stream",
     "text": [
      "Sampling 4 chains for 2_000 tune and 5_000 draw iterations (8_000 + 20_000 draws total) took 11 seconds.\n"
     ]
    }
   ],
   "source": [
    "with pm.Model() as m_5_4:\n",
    "    alpha = pm.Normal('alpha', mu=0.0, sigma=0.2)\n",
    "    beta_A = pm.Normal('beta_A', mu=0.0, sigma=0.5)\n",
    "    sigma = pm.Exponential('sigma', lam=1.0)\n",
    "    \n",
    "    mu = pm.Deterministic('mu', alpha + beta_A * df_waf['age_stan'])\n",
    "    M = pm.Normal('marriage', mu=mu, sigma=sigma, observed=df_waf['marriage_stan'])\n",
    "    \n",
    "    trace_5_4 = pm.sample(5000, tune=2000)"
   ]
  },
  {
   "cell_type": "code",
   "execution_count": null,
   "metadata": {},
   "outputs": [],
   "source": [
    "df_tr_5_4 = pm.trace_to_dataframe(trace_5_4)\n",
    "df_tr_5_4.head()"
   ]
  },
  {
   "cell_type": "code",
   "execution_count": null,
   "metadata": {},
   "outputs": [],
   "source": [
    "df_mu_5_4 = df_tr_5_4.filter(regex='(mu.*)')\n",
    "df_mu_5_4.head()"
   ]
  },
  {
   "cell_type": "code",
   "execution_count": null,
   "metadata": {},
   "outputs": [],
   "source": [
    "mu_means_5_4 = df_mu_5_4.apply(np.mean, axis=0)\n",
    "\n",
    "mu_means_5_4[:5]"
   ]
  },
  {
   "cell_type": "code",
   "execution_count": null,
   "metadata": {},
   "outputs": [],
   "source": [
    "residuals_marriage = df_waf['marriage_stan'].values - mu_means_5_4.values\n",
    "residuals_marriage[:5]"
   ]
  },
  {
   "cell_type": "code",
   "execution_count": null,
   "metadata": {},
   "outputs": [],
   "source": [
    "fig, (ax1, ax2) = plt.subplots(1, 2)\n",
    "\n",
    "ax1.scatter(df_waf['age_stan'], df_waf['marriage_stan'], marker='.')\n",
    "ax1.plot(df_waf['age_stan'], mu_means_5_4, 'k-', alpha=0.5)\n",
    "ax1.vlines(df_waf['age_stan'], mu_means_5_4.values, mu_means_5_4.values + residuals_marriage, colors='grey')\n",
    "\n",
    "ax1.set_xlabel('Age Standarized')\n",
    "ax1.set_ylabel('Marriage Rate Standardized')\n",
    "ax1.set_aspect('equal')\n",
    "\n",
    "ax2.scatter(residuals_marriage, df_waf['divorce_stan'], marker='.')\n",
    "ax2.axvline(x=0.0, ls='--', color='k', alpha=0.3)\n",
    "\n",
    "ax2.set_xlabel('Marriage Rate Residuals')\n",
    "ax2.set_ylabel('Divorce Rate Standardized')\n",
    "ax2.set_aspect('equal')\n",
    "\n",
    "\n",
    "m, c = np.polyfit(residuals_marriage, df_waf['divorce_stan'], deg=1)\n",
    "fitted_line = [m * x + c for x in residuals_marriage]\n",
    "\n",
    "ax2.plot(residuals_marriage, fitted_line, 'k-', alpha=0.5)\n",
    "\n",
    "plt.show()"
   ]
  },
  {
   "cell_type": "markdown",
   "metadata": {},
   "source": [
    "The plot of the divorce rate against the marriage rate residuals can be thought of as a plot of the divorce rate against the marriage rate after controlling the median age at marriage. As the plot shows, there is very little variation of the divorce rate with the residuals suggesting that the divorce rate is not causally related to the marriage rate (as in having a a directed arrow from $M$ to $D$). "
   ]
  },
  {
   "cell_type": "markdown",
   "metadata": {},
   "source": [
    "## Marriage rate against median age\n",
    "$$\n",
    "\\begin{align*}\n",
    "    A_i     & \\sim N(\\mu_i, \\sigma) \\\\\n",
    "    \\mu_i   & \\sim \\alpha + \\beta_M \\cdot M_i\\\\\n",
    "    \\alpha  & \\sim N(0, 0.2) \\\\\n",
    "    \\beta_M & \\sim N(0, 0.5) \\\\\n",
    "    \\sigma  & \\sim \\text{Exponential}(1)\n",
    "\\end{align*}\n",
    "$$"
   ]
  },
  {
   "cell_type": "code",
   "execution_count": null,
   "metadata": {},
   "outputs": [],
   "source": [
    "with pm.Model() as m_5_5:\n",
    "    alpha = pm.Normal('alpha', mu=0.0, sigma=0.2)\n",
    "    beta_M = pm.Normal('beta_M', mu=0.0, sigma=0.5)\n",
    "    sigma = pm.Exponential('sigma', lam=1.0)\n",
    "    \n",
    "    mu = pm.Deterministic('mu', alpha + beta_M * df_waf['marriage_stan'])\n",
    "    A = pm.Normal('age', mu=mu, sigma=sigma, observed=df_waf['age_stan'])\n",
    "    \n",
    "    trace_5_5 = pm.sample(5000, tune=2000)"
   ]
  },
  {
   "cell_type": "code",
   "execution_count": null,
   "metadata": {},
   "outputs": [],
   "source": [
    "df_tr_5_5 = pm.trace_to_dataframe(trace_5_5)\n",
    "df_tr_5_5.head()"
   ]
  },
  {
   "cell_type": "code",
   "execution_count": null,
   "metadata": {},
   "outputs": [],
   "source": [
    "df_mu_5_5 = df_tr_5_5.filter(regex='(mu.*)')\n",
    "\n",
    "mu_means_5_5 = df_mu_5_5.apply(np.mean, axis=0)\n",
    "residuals_age = df_waf['age_stan'].values - mu_means_5_5.values"
   ]
  },
  {
   "cell_type": "code",
   "execution_count": null,
   "metadata": {},
   "outputs": [],
   "source": [
    "fig, (ax1, ax2) = plt.subplots(1, 2)\n",
    "\n",
    "ax1.scatter(df_waf['marriage_stan'], df_waf['age_stan'], marker='.')\n",
    "ax1.plot(df_waf['marriage_stan'], mu_means_5_5, 'k-', alpha=0.5)\n",
    "ax1.vlines(df_waf['marriage_stan'], mu_means_5_5.values, mu_means_5_5.values + residuals_age, colors='grey')\n",
    "\n",
    "ax1.set_ylabel('Age Standarized')\n",
    "ax1.set_xlabel('Marriage Rate Standardized')\n",
    "ax1.set_aspect('equal')\n",
    "\n",
    "ax2.scatter(residuals_age, df_waf['divorce_stan'], marker='.')\n",
    "ax2.axvline(x=0.0, ls='--', color='k', alpha=0.3)\n",
    "\n",
    "ax2.set_xlabel('Median Age Residuals')\n",
    "ax2.set_ylabel('Divorce Rate Standardized')\n",
    "ax2.set_aspect('equal')\n",
    "\n",
    "\n",
    "m, c = np.polyfit(residuals_age, df_waf['divorce_stan'], deg=1)\n",
    "fitted_line = [m * x + c for x in residuals_age]\n",
    "\n",
    "ax2.plot(residuals_age, fitted_line, 'k-', alpha=0.5)\n",
    "\n",
    "plt.show()"
   ]
  },
  {
   "cell_type": "markdown",
   "metadata": {},
   "source": [
    "## Posterior Prediction Plots Model 5.3\n",
    "\n",
    "$$\n",
    "\\begin{align*}\n",
    "    D_i     & \\sim N(\\mu_i, \\sigma) \\\\\n",
    "    \\mu_i   & \\sim \\alpha + \\beta_A \\cdot A_i + \\beta_M \\cdot M_i\\\\\n",
    "    \\alpha  & \\sim N(0, 0.2) \\\\\n",
    "    \\beta_A & \\sim N(0, 0.5) \\\\\n",
    "    \\beta_M & \\sim N(0, 0.5) \\\\\n",
    "    \\sigma  & \\sim \\text{Exponential}(1)\n",
    "\\end{align*}\n",
    "$$"
   ]
  },
  {
   "cell_type": "markdown",
   "metadata": {},
   "source": [
    "### Code 5.15 and 5.16"
   ]
  },
  {
   "cell_type": "code",
   "execution_count": null,
   "metadata": {},
   "outputs": [],
   "source": [
    "with pm.Model() as m_5_3:\n",
    "    alpha = pm.Normal('alpha', mu=0.0, sigma=0.2)\n",
    "    beta_A = pm.Normal('beta_A', mu=0.0, sigma=0.5)\n",
    "    beta_M = pm.Normal('beta_M', mu=0.0, sigma=0.5)\n",
    "    sigma = pm.Exponential('sigma', lam=1.0)\n",
    "    \n",
    "    mu = pm.Deterministic('mu', alpha + beta_A * df_waf['age_stan'] + beta_M * df_waf['marriage_stan'])\n",
    "    D = pm.Normal('divorce', mu=mu, sigma=sigma, observed=df_waf['divorce_stan'])\n",
    "    \n",
    "    trace_5_3 = pm.sample(5000, tune=2000)"
   ]
  },
  {
   "cell_type": "code",
   "execution_count": null,
   "metadata": {},
   "outputs": [],
   "source": [
    "df_tr_5_3 = pm.trace_to_dataframe(trace_5_3)\n",
    "\n",
    "df_mu_5_3 = df_tr_5_3.filter(regex='(mu.*)')\n",
    "\n",
    "mu_means_5_3 = df_mu_5_3.apply(np.mean, axis=0)\n",
    "\n",
    "summary_all = az.summary(trace_5_3, hdi_prob=0.89)\n",
    "summary_all.head()"
   ]
  },
  {
   "cell_type": "code",
   "execution_count": null,
   "metadata": {},
   "outputs": [],
   "source": [
    "summary_all.index"
   ]
  },
  {
   "cell_type": "code",
   "execution_count": null,
   "metadata": {},
   "outputs": [],
   "source": [
    "summary_all.loc['mu[0]', :]"
   ]
  },
  {
   "cell_type": "code",
   "execution_count": null,
   "metadata": {},
   "outputs": [],
   "source": [
    "summary_mu = summary_all.loc['mu[0]':].copy()\n",
    "lower = summary_mu['hdi_5.5%']\n",
    "upper = summary_mu['hdi_94.5%']"
   ]
  },
  {
   "cell_type": "code",
   "execution_count": null,
   "metadata": {},
   "outputs": [],
   "source": [
    "fig, ax = plt.subplots(1, 1)\n",
    "\n",
    "ax.scatter(df_waf['divorce_stan'], mu_means_5_3.values, marker='.')\n",
    "ax.vlines(df_waf['divorce_stan'], lower.values, upper.values, colors='grey')\n",
    "\n",
    "ax.plot(df_waf['divorce_stan'], df_waf['divorce_stan'], color='black', alpha=0.3)\n",
    "\n",
    "ax.set_xlabel('Divorce Rate Standardized')\n",
    "ax.set_ylabel('Mean Predicted Rate')\n",
    "\n",
    "plt.show()"
   ]
  },
  {
   "cell_type": "markdown",
   "metadata": {},
   "source": [
    "## Simulating Spurious Associations"
   ]
  },
  {
   "cell_type": "code",
   "execution_count": null,
   "metadata": {},
   "outputs": [],
   "source": [
    "from scipy.stats import norm\n",
    "\n",
    "\n",
    "N = 1000\n",
    "x_real = norm.rvs(loc=0, scale=1, size=N)\n",
    "x_spur = norm.rvs(loc=x_real, scale=1)\n",
    "y = norm.rvs(loc=x_real, scale=1)"
   ]
  },
  {
   "cell_type": "markdown",
   "metadata": {},
   "source": [
    "### The Model\n",
    "\n",
    "$$\n",
    "\\begin{align*}\n",
    "    y       & \\sim N(\\mu_i, \\sigma) \\\\\n",
    "    \\mu_i   & \\sim \\alpha + \\beta_r \\cdot x_r + \\beta_s \\cdot x_s\\\\\n",
    "    \\alpha  & \\sim N(0, 0.2) \\\\\n",
    "    \\beta_r & \\sim N(0, 0.5) \\\\\n",
    "    \\beta_s & \\sim N(0, 0.5) \\\\\n",
    "    \\sigma  & \\sim \\text{Exponential}(1)\n",
    "\\end{align*}\n",
    "$$\n",
    "\n",
    "\n",
    "where $x_r$ stands for the real causal predictor and $x_s$ is the spurious predictor."
   ]
  },
  {
   "cell_type": "code",
   "execution_count": null,
   "metadata": {},
   "outputs": [],
   "source": [
    "with pm.Model() as m_spur:\n",
    "    alpha = pm.Normal('alpha', mu=0.0, sigma=0.2)\n",
    "    beta_r = pm.Normal('beta_r', mu=0.0, sigma=0.5)\n",
    "    beta_s = pm.Normal('beta_s', mu=0.0, sigma=0.5)\n",
    "    sigma = pm.Exponential('sigma', lam=1.0)\n",
    "    \n",
    "    mu = pm.Deterministic('mu', alpha + beta_r * x_real + beta_s * x_spur)\n",
    "    Y = pm.Normal('outcome', mu=mu, sigma=sigma, observed=y)\n",
    "    \n",
    "    trace_spur = pm.sample(5000, tune=1000)"
   ]
  },
  {
   "cell_type": "code",
   "execution_count": null,
   "metadata": {},
   "outputs": [],
   "source": [
    "summary = az.summary(trace_spur, var_names=['alpha', 'beta_r', 'beta_s'], hdi_prob=0.89)\n",
    "summary"
   ]
  },
  {
   "cell_type": "markdown",
   "metadata": {},
   "source": [
    "As expected, the posterior mean of $\\beta_s$ is close to $0$, whereas that of $\\beta_r$ is $1$."
   ]
  }
 ],
 "metadata": {
  "kernelspec": {
   "display_name": "stat-rethink",
   "language": "python",
   "name": "stat-rethink"
  },
  "language_info": {
   "codemirror_mode": {
    "name": "ipython",
    "version": 3
   },
   "file_extension": ".py",
   "mimetype": "text/x-python",
   "name": "python",
   "nbconvert_exporter": "python",
   "pygments_lexer": "ipython3",
   "version": "3.8.5"
  }
 },
 "nbformat": 4,
 "nbformat_minor": 4
}
