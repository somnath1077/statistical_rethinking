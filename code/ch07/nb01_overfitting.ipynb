{
 "cells": [
  {
   "cell_type": "code",
   "execution_count": 1,
   "id": "increased-translator",
   "metadata": {},
   "outputs": [],
   "source": [
    "import arviz as az\n",
    "import matplotlib.pyplot as plt\n",
    "import numpy as np\n",
    "import pandas as pd\n",
    "import pymc3 as pm\n",
    "import seaborn as sns"
   ]
  },
  {
   "cell_type": "markdown",
   "id": "local-variety",
   "metadata": {},
   "source": [
    "### Code 7.1"
   ]
  },
  {
   "cell_type": "code",
   "execution_count": 2,
   "id": "extraordinary-runner",
   "metadata": {},
   "outputs": [
    {
     "data": {
      "text/html": [
       "<div>\n",
       "<style scoped>\n",
       "    .dataframe tbody tr th:only-of-type {\n",
       "        vertical-align: middle;\n",
       "    }\n",
       "\n",
       "    .dataframe tbody tr th {\n",
       "        vertical-align: top;\n",
       "    }\n",
       "\n",
       "    .dataframe thead th {\n",
       "        text-align: right;\n",
       "    }\n",
       "</style>\n",
       "<table border=\"1\" class=\"dataframe\">\n",
       "  <thead>\n",
       "    <tr style=\"text-align: right;\">\n",
       "      <th></th>\n",
       "      <th>species</th>\n",
       "      <th>brain</th>\n",
       "      <th>mass</th>\n",
       "    </tr>\n",
       "  </thead>\n",
       "  <tbody>\n",
       "    <tr>\n",
       "      <th>0</th>\n",
       "      <td>afarensis</td>\n",
       "      <td>438</td>\n",
       "      <td>37.0</td>\n",
       "    </tr>\n",
       "    <tr>\n",
       "      <th>1</th>\n",
       "      <td>africanus</td>\n",
       "      <td>452</td>\n",
       "      <td>35.5</td>\n",
       "    </tr>\n",
       "    <tr>\n",
       "      <th>2</th>\n",
       "      <td>habilis</td>\n",
       "      <td>612</td>\n",
       "      <td>34.5</td>\n",
       "    </tr>\n",
       "    <tr>\n",
       "      <th>3</th>\n",
       "      <td>boisei</td>\n",
       "      <td>521</td>\n",
       "      <td>41.5</td>\n",
       "    </tr>\n",
       "    <tr>\n",
       "      <th>4</th>\n",
       "      <td>rudolfensis</td>\n",
       "      <td>752</td>\n",
       "      <td>55.5</td>\n",
       "    </tr>\n",
       "    <tr>\n",
       "      <th>5</th>\n",
       "      <td>ergaster</td>\n",
       "      <td>871</td>\n",
       "      <td>61.0</td>\n",
       "    </tr>\n",
       "    <tr>\n",
       "      <th>6</th>\n",
       "      <td>sapiens</td>\n",
       "      <td>1350</td>\n",
       "      <td>53.5</td>\n",
       "    </tr>\n",
       "  </tbody>\n",
       "</table>\n",
       "</div>"
      ],
      "text/plain": [
       "       species  brain  mass\n",
       "0    afarensis    438  37.0\n",
       "1    africanus    452  35.5\n",
       "2      habilis    612  34.5\n",
       "3       boisei    521  41.5\n",
       "4  rudolfensis    752  55.5\n",
       "5     ergaster    871  61.0\n",
       "6      sapiens   1350  53.5"
      ]
     },
     "execution_count": 2,
     "metadata": {},
     "output_type": "execute_result"
    }
   ],
   "source": [
    "sppnames = ['afarensis', 'africanus', 'habilis', 'boisei', 'rudolfensis', 'ergaster', 'sapiens']\n",
    "brainvolcc = [438, 452, 612, 521, 752, 871, 1350]\n",
    "masskg = [37.0, 35.5, 34.5, 41.5, 55.5, 61.0, 53.5]\n",
    "\n",
    "df = pd.DataFrame({'species': sppnames, 'brain': brainvolcc, 'mass': masskg})\n",
    "df"
   ]
  },
  {
   "cell_type": "code",
   "execution_count": 3,
   "id": "sized-parking",
   "metadata": {},
   "outputs": [
    {
     "data": {
      "text/html": [
       "<div>\n",
       "<style scoped>\n",
       "    .dataframe tbody tr th:only-of-type {\n",
       "        vertical-align: middle;\n",
       "    }\n",
       "\n",
       "    .dataframe tbody tr th {\n",
       "        vertical-align: top;\n",
       "    }\n",
       "\n",
       "    .dataframe thead th {\n",
       "        text-align: right;\n",
       "    }\n",
       "</style>\n",
       "<table border=\"1\" class=\"dataframe\">\n",
       "  <thead>\n",
       "    <tr style=\"text-align: right;\">\n",
       "      <th></th>\n",
       "      <th>brain</th>\n",
       "      <th>mass</th>\n",
       "    </tr>\n",
       "  </thead>\n",
       "  <tbody>\n",
       "    <tr>\n",
       "      <th>brain</th>\n",
       "      <td>1.000000</td>\n",
       "      <td>0.700113</td>\n",
       "    </tr>\n",
       "    <tr>\n",
       "      <th>mass</th>\n",
       "      <td>0.700113</td>\n",
       "      <td>1.000000</td>\n",
       "    </tr>\n",
       "  </tbody>\n",
       "</table>\n",
       "</div>"
      ],
      "text/plain": [
       "          brain      mass\n",
       "brain  1.000000  0.700113\n",
       "mass   0.700113  1.000000"
      ]
     },
     "execution_count": 3,
     "metadata": {},
     "output_type": "execute_result"
    }
   ],
   "source": [
    "df[['brain', 'mass']].corr()"
   ]
  },
  {
   "cell_type": "code",
   "execution_count": 4,
   "id": "partial-patrol",
   "metadata": {},
   "outputs": [
    {
     "data": {
      "image/png": "[encoded data removed]",
      "text/plain": [
       "<Figure size 864x576 with 1 Axes>"
      ]
     },
     "metadata": {
      "needs_background": "light"
     },
     "output_type": "display_data"
    }
   ],
   "source": [
    "fig, ax = plt.subplots(figsize=(12, 8))\n",
    "df.plot(x='mass', y='brain', kind='scatter', ax=ax)\n",
    "\n",
    "for k, row in df.iterrows():\n",
    "    y_offset = 0.5\n",
    "    x_offset = 0.5\n",
    "    \n",
    "    if row['species'] == 'afarensis':\n",
    "        y_offset = -10.0\n",
    "    \n",
    "    ax.annotate(row['species'], xy=(row['mass'] + x_offset, row['brain'] + y_offset))"
   ]
  },
  {
   "cell_type": "markdown",
   "id": "chemical-brunswick",
   "metadata": {},
   "source": [
    "### Code 7.2"
   ]
  },
  {
   "cell_type": "code",
   "execution_count": 5,
   "id": "offshore-combat",
   "metadata": {},
   "outputs": [],
   "source": [
    "df['mass_std'] = (df['mass'] - df['mass'].mean()) / df['mass'].std()\n",
    "df['brain_std'] = df['brain'] / df['brain'].max()"
   ]
  },
  {
   "cell_type": "code",
   "execution_count": 6,
   "id": "inappropriate-atlas",
   "metadata": {},
   "outputs": [
    {
     "data": {
      "text/html": [
       "<div>\n",
       "<style scoped>\n",
       "    .dataframe tbody tr th:only-of-type {\n",
       "        vertical-align: middle;\n",
       "    }\n",
       "\n",
       "    .dataframe tbody tr th {\n",
       "        vertical-align: top;\n",
       "    }\n",
       "\n",
       "    .dataframe thead th {\n",
       "        text-align: right;\n",
       "    }\n",
       "</style>\n",
       "<table border=\"1\" class=\"dataframe\">\n",
       "  <thead>\n",
       "    <tr style=\"text-align: right;\">\n",
       "      <th></th>\n",
       "      <th>mass_std</th>\n",
       "      <th>brain_std</th>\n",
       "    </tr>\n",
       "  </thead>\n",
       "  <tbody>\n",
       "    <tr>\n",
       "      <th>count</th>\n",
       "      <td>7.000000e+00</td>\n",
       "      <td>7.000000</td>\n",
       "    </tr>\n",
       "    <tr>\n",
       "      <th>mean</th>\n",
       "      <td>3.172066e-17</td>\n",
       "      <td>0.528677</td>\n",
       "    </tr>\n",
       "    <tr>\n",
       "      <th>std</th>\n",
       "      <td>1.000000e+00</td>\n",
       "      <td>0.238702</td>\n",
       "    </tr>\n",
       "    <tr>\n",
       "      <th>min</th>\n",
       "      <td>-1.008722e+00</td>\n",
       "      <td>0.324444</td>\n",
       "    </tr>\n",
       "    <tr>\n",
       "      <th>5.5%</th>\n",
       "      <td>-9.784600e-01</td>\n",
       "      <td>0.327867</td>\n",
       "    </tr>\n",
       "    <tr>\n",
       "      <th>50%</th>\n",
       "      <td>-3.668079e-01</td>\n",
       "      <td>0.453333</td>\n",
       "    </tr>\n",
       "    <tr>\n",
       "      <th>94.5%</th>\n",
       "      <td>1.254941e+00</td>\n",
       "      <td>0.882911</td>\n",
       "    </tr>\n",
       "    <tr>\n",
       "      <th>max</th>\n",
       "      <td>1.421380e+00</td>\n",
       "      <td>1.000000</td>\n",
       "    </tr>\n",
       "  </tbody>\n",
       "</table>\n",
       "</div>"
      ],
      "text/plain": [
       "           mass_std  brain_std\n",
       "count  7.000000e+00   7.000000\n",
       "mean   3.172066e-17   0.528677\n",
       "std    1.000000e+00   0.238702\n",
       "min   -1.008722e+00   0.324444\n",
       "5.5%  -9.784600e-01   0.327867\n",
       "50%   -3.668079e-01   0.453333\n",
       "94.5%  1.254941e+00   0.882911\n",
       "max    1.421380e+00   1.000000"
      ]
     },
     "execution_count": 6,
     "metadata": {},
     "output_type": "execute_result"
    }
   ],
   "source": [
    "df[['mass_std', 'brain_std']].describe([0.055, 0.945])"
   ]
  },
  {
   "cell_type": "markdown",
   "id": "pediatric-incentive",
   "metadata": {},
   "source": [
    "## Model 1\n",
    "\n",
    "$$\n",
    "\\begin{array}\n",
    "~b_i     & \\sim \\text{Normal}(\\mu_i, \\sigma) \\\\\n",
    "\\mu_i   & = \\alpha + \\beta \\cdot m_i \\\\\n",
    "\\alpha  & \\sim \\text{Normal}(0.5, 1) \\\\\n",
    "\\beta   & \\sim \\text{Normal}(0, 10) \\\\\n",
    "\\sigma  & \\sim \\text{Log-Normal}(0, 1) \\\\\n",
    "\\end{array}\n",
    "$$"
   ]
  },
  {
   "cell_type": "markdown",
   "id": "optional-impossible",
   "metadata": {},
   "source": [
    "### Code 7.3"
   ]
  },
  {
   "cell_type": "code",
   "execution_count": 7,
   "id": "accompanied-japan",
   "metadata": {},
   "outputs": [
    {
     "name": "stderr",
     "output_type": "stream",
     "text": [
      "Auto-assigning NUTS sampler...\n",
      "Initializing NUTS using jitter+adapt_diag...\n",
      "Multiprocess sampling (4 chains in 4 jobs)\n",
      "NUTS: [sigma, beta, alpha]\n"
     ]
    },
    {
     "data": {
      "text/html": [
       "\n",
       "    <div>\n",
       "        <style>\n",
       "            /* Turns off some styling */\n",
       "            progress {\n",
       "                /* gets rid of default border in Firefox and Opera. */\n",
       "                border: none;\n",
       "                /* Needs to be in here for Safari polyfill so background images work as expected. */\n",
       "                background-size: auto;\n",
       "            }\n",
       "            .progress-bar-interrupted, .progress-bar-interrupted::-webkit-progress-bar {\n",
       "                background: #F44336;\n",
       "            }\n",
       "        </style>\n",
       "      <progress value='16000' class='' max='16000' style='width:300px; height:20px; vertical-align: middle;'></progress>\n",
       "      100.00% [16000/16000 00:08<00:00 Sampling 4 chains, 0 divergences]\n",
       "    </div>\n",
       "    "
      ],
      "text/plain": [
       "<IPython.core.display.HTML object>"
      ]
     },
     "metadata": {},
     "output_type": "display_data"
    },
    {
     "name": "stderr",
     "output_type": "stream",
     "text": [
      "Sampling 4 chains for 2_000 tune and 2_000 draw iterations (8_000 + 8_000 draws total) took 9 seconds.\n",
      "/home/somnath/install/anaconda3/envs/stat-rethink-pymc3/lib/python3.8/site-packages/arviz/data/io_pymc3.py:87: FutureWarning: Using `from_pymc3` without the model will be deprecated in a future release. Not using the model will return less accurate and less useful results. Make sure you use the model argument or call from_pymc3 within a model context.\n",
      "  warnings.warn(\n"
     ]
    },
    {
     "data": {
      "text/html": [
       "<div>\n",
       "<style scoped>\n",
       "    .dataframe tbody tr th:only-of-type {\n",
       "        vertical-align: middle;\n",
       "    }\n",
       "\n",
       "    .dataframe tbody tr th {\n",
       "        vertical-align: top;\n",
       "    }\n",
       "\n",
       "    .dataframe thead th {\n",
       "        text-align: right;\n",
       "    }\n",
       "</style>\n",
       "<table border=\"1\" class=\"dataframe\">\n",
       "  <thead>\n",
       "    <tr style=\"text-align: right;\">\n",
       "      <th></th>\n",
       "      <th>mean</th>\n",
       "      <th>sd</th>\n",
       "      <th>hdi_5.5%</th>\n",
       "      <th>hdi_94.5%</th>\n",
       "      <th>mcse_mean</th>\n",
       "      <th>mcse_sd</th>\n",
       "      <th>ess_mean</th>\n",
       "      <th>ess_sd</th>\n",
       "      <th>ess_bulk</th>\n",
       "      <th>ess_tail</th>\n",
       "      <th>r_hat</th>\n",
       "    </tr>\n",
       "  </thead>\n",
       "  <tbody>\n",
       "    <tr>\n",
       "      <th>alpha</th>\n",
       "      <td>0.528</td>\n",
       "      <td>0.107</td>\n",
       "      <td>0.363</td>\n",
       "      <td>0.692</td>\n",
       "      <td>0.002</td>\n",
       "      <td>0.001</td>\n",
       "      <td>4330.0</td>\n",
       "      <td>4089.0</td>\n",
       "      <td>4713.0</td>\n",
       "      <td>3365.0</td>\n",
       "      <td>1.0</td>\n",
       "    </tr>\n",
       "    <tr>\n",
       "      <th>beta</th>\n",
       "      <td>0.167</td>\n",
       "      <td>0.119</td>\n",
       "      <td>-0.011</td>\n",
       "      <td>0.346</td>\n",
       "      <td>0.002</td>\n",
       "      <td>0.002</td>\n",
       "      <td>4573.0</td>\n",
       "      <td>2560.0</td>\n",
       "      <td>5100.0</td>\n",
       "      <td>3168.0</td>\n",
       "      <td>1.0</td>\n",
       "    </tr>\n",
       "    <tr>\n",
       "      <th>sigma</th>\n",
       "      <td>0.266</td>\n",
       "      <td>0.116</td>\n",
       "      <td>0.118</td>\n",
       "      <td>0.403</td>\n",
       "      <td>0.002</td>\n",
       "      <td>0.002</td>\n",
       "      <td>2231.0</td>\n",
       "      <td>2208.0</td>\n",
       "      <td>2481.0</td>\n",
       "      <td>3032.0</td>\n",
       "      <td>1.0</td>\n",
       "    </tr>\n",
       "  </tbody>\n",
       "</table>\n",
       "</div>"
      ],
      "text/plain": [
       "        mean     sd  hdi_5.5%  hdi_94.5%  mcse_mean  mcse_sd  ess_mean  \\\n",
       "alpha  0.528  0.107     0.363      0.692      0.002    0.001    4330.0   \n",
       "beta   0.167  0.119    -0.011      0.346      0.002    0.002    4573.0   \n",
       "sigma  0.266  0.116     0.118      0.403      0.002    0.002    2231.0   \n",
       "\n",
       "       ess_sd  ess_bulk  ess_tail  r_hat  \n",
       "alpha  4089.0    4713.0    3365.0    1.0  \n",
       "beta   2560.0    5100.0    3168.0    1.0  \n",
       "sigma  2208.0    2481.0    3032.0    1.0  "
      ]
     },
     "execution_count": 7,
     "metadata": {},
     "output_type": "execute_result"
    }
   ],
   "source": [
    "with pm.Model() as m_7_1:\n",
    "    alpha = pm.Normal('alpha', mu=0.5, sigma=1)\n",
    "    beta = pm.Normal('beta', mu=0, sigma=10)\n",
    "    sigma = pm.Lognormal('sigma', mu=0, sigma=1)\n",
    "    \n",
    "    mu = pm.Deterministic('mu', alpha + beta * df['mass_std'])\n",
    "    b = pm.Normal('b', mu=mu, sigma=sigma, observed=df['brain_std'])\n",
    "    \n",
    "    trace_7_1 = pm.sample(2000, tune=2000)\n",
    "\n",
    "az.summary(trace_7_1, var_names=['alpha', 'beta', 'sigma'], hdi_prob=0.89)"
   ]
  },
  {
   "cell_type": "code",
   "execution_count": 8,
   "id": "graduate-syria",
   "metadata": {},
   "outputs": [
    {
     "data": {
      "text/html": [
       "<div>\n",
       "<style scoped>\n",
       "    .dataframe tbody tr th:only-of-type {\n",
       "        vertical-align: middle;\n",
       "    }\n",
       "\n",
       "    .dataframe tbody tr th {\n",
       "        vertical-align: top;\n",
       "    }\n",
       "\n",
       "    .dataframe thead th {\n",
       "        text-align: right;\n",
       "    }\n",
       "</style>\n",
       "<table border=\"1\" class=\"dataframe\">\n",
       "  <thead>\n",
       "    <tr style=\"text-align: right;\">\n",
       "      <th></th>\n",
       "      <th>alpha</th>\n",
       "      <th>beta</th>\n",
       "      <th>sigma</th>\n",
       "      <th>mu__0</th>\n",
       "      <th>mu__1</th>\n",
       "      <th>mu__2</th>\n",
       "      <th>mu__3</th>\n",
       "      <th>mu__4</th>\n",
       "      <th>mu__5</th>\n",
       "      <th>mu__6</th>\n",
       "    </tr>\n",
       "  </thead>\n",
       "  <tbody>\n",
       "    <tr>\n",
       "      <th>0</th>\n",
       "      <td>0.620954</td>\n",
       "      <td>0.316756</td>\n",
       "      <td>0.224057</td>\n",
       "      <td>0.374054</td>\n",
       "      <td>0.330483</td>\n",
       "      <td>0.301436</td>\n",
       "      <td>0.504766</td>\n",
       "      <td>0.911425</td>\n",
       "      <td>1.071185</td>\n",
       "      <td>0.853331</td>\n",
       "    </tr>\n",
       "    <tr>\n",
       "      <th>1</th>\n",
       "      <td>0.648030</td>\n",
       "      <td>0.386827</td>\n",
       "      <td>0.222685</td>\n",
       "      <td>0.346511</td>\n",
       "      <td>0.293302</td>\n",
       "      <td>0.257829</td>\n",
       "      <td>0.506139</td>\n",
       "      <td>1.002757</td>\n",
       "      <td>1.197858</td>\n",
       "      <td>0.931812</td>\n",
       "    </tr>\n",
       "    <tr>\n",
       "      <th>2</th>\n",
       "      <td>0.393742</td>\n",
       "      <td>0.273869</td>\n",
       "      <td>0.413267</td>\n",
       "      <td>0.180271</td>\n",
       "      <td>0.142599</td>\n",
       "      <td>0.117485</td>\n",
       "      <td>0.293285</td>\n",
       "      <td>0.644885</td>\n",
       "      <td>0.783014</td>\n",
       "      <td>0.594657</td>\n",
       "    </tr>\n",
       "    <tr>\n",
       "      <th>3</th>\n",
       "      <td>0.447287</td>\n",
       "      <td>0.088023</td>\n",
       "      <td>0.151953</td>\n",
       "      <td>0.378676</td>\n",
       "      <td>0.366568</td>\n",
       "      <td>0.358496</td>\n",
       "      <td>0.415000</td>\n",
       "      <td>0.528007</td>\n",
       "      <td>0.572402</td>\n",
       "      <td>0.511863</td>\n",
       "    </tr>\n",
       "    <tr>\n",
       "      <th>4</th>\n",
       "      <td>0.538259</td>\n",
       "      <td>0.110326</td>\n",
       "      <td>0.168785</td>\n",
       "      <td>0.452264</td>\n",
       "      <td>0.437089</td>\n",
       "      <td>0.426972</td>\n",
       "      <td>0.497791</td>\n",
       "      <td>0.639430</td>\n",
       "      <td>0.695074</td>\n",
       "      <td>0.619196</td>\n",
       "    </tr>\n",
       "  </tbody>\n",
       "</table>\n",
       "</div>"
      ],
      "text/plain": [
       "      alpha      beta     sigma     mu__0     mu__1     mu__2     mu__3  \\\n",
       "0  0.620954  0.316756  0.224057  0.374054  0.330483  0.301436  0.504766   \n",
       "1  0.648030  0.386827  0.222685  0.346511  0.293302  0.257829  0.506139   \n",
       "2  0.393742  0.273869  0.413267  0.180271  0.142599  0.117485  0.293285   \n",
       "3  0.447287  0.088023  0.151953  0.378676  0.366568  0.358496  0.415000   \n",
       "4  0.538259  0.110326  0.168785  0.452264  0.437089  0.426972  0.497791   \n",
       "\n",
       "      mu__4     mu__5     mu__6  \n",
       "0  0.911425  1.071185  0.853331  \n",
       "1  1.002757  1.197858  0.931812  \n",
       "2  0.644885  0.783014  0.594657  \n",
       "3  0.528007  0.572402  0.511863  \n",
       "4  0.639430  0.695074  0.619196  "
      ]
     },
     "execution_count": 8,
     "metadata": {},
     "output_type": "execute_result"
    }
   ],
   "source": [
    "df_7_1 = pm.trace_to_dataframe(trace_7_1)\n",
    "df_7_1.head()"
   ]
  },
  {
   "cell_type": "code",
   "execution_count": 9,
   "id": "unlimited-maker",
   "metadata": {},
   "outputs": [
    {
     "data": {
      "text/html": [
       "\n",
       "    <div>\n",
       "        <style>\n",
       "            /* Turns off some styling */\n",
       "            progress {\n",
       "                /* gets rid of default border in Firefox and Opera. */\n",
       "                border: none;\n",
       "                /* Needs to be in here for Safari polyfill so background images work as expected. */\n",
       "                background-size: auto;\n",
       "            }\n",
       "            .progress-bar-interrupted, .progress-bar-interrupted::-webkit-progress-bar {\n",
       "                background: #F44336;\n",
       "            }\n",
       "        </style>\n",
       "      <progress value='8000' class='' max='8000' style='width:300px; height:20px; vertical-align: middle;'></progress>\n",
       "      100.00% [8000/8000 00:07<00:00]\n",
       "    </div>\n",
       "    "
      ],
      "text/plain": [
       "<IPython.core.display.HTML object>"
      ]
     },
     "metadata": {},
     "output_type": "display_data"
    }
   ],
   "source": [
    "with m_7_1:\n",
    "    ppc = pm.sample_posterior_predictive(trace_7_1, var_names=['b'])"
   ]
  },
  {
   "cell_type": "code",
   "execution_count": 10,
   "id": "jewish-arrival",
   "metadata": {},
   "outputs": [],
   "source": [
    "def calculate_r2_score(posterior_data: np.array, actual_data: np.array = df['brain_std'].values):\n",
    "    SPECIES = ['afarensis', 'africanus', 'habilis', 'boisei', 'rudolfensis', 'ergaster', 'sapiens']\n",
    "    \n",
    "    df_post = pd.DataFrame(data=posterior_data, \n",
    "                            index=range(posterior_data.shape[0]), \n",
    "                            columns=SPECIES)\n",
    "\n",
    "    NUM_SAMPLES = df_post.shape[0]\n",
    "    actual_data_arr = np.tile(actual_data, (NUM_SAMPLES, 1))\n",
    "    df_actual = pd.DataFrame(data=actual_data_arr, \n",
    "                              index=range(NUM_SAMPLES), \n",
    "                              columns=SPECIES)\n",
    "    \n",
    "    df_resid = df_post - df_actual\n",
    "    \n",
    "    mean_post_resid = df_resid.mean(axis=0)\n",
    "    resid_var = mean_post_resid.var()\n",
    "    return (1 - resid_var / actual_data.var())"
   ]
  },
  {
   "cell_type": "code",
   "execution_count": 11,
   "id": "apart-daily",
   "metadata": {},
   "outputs": [
    {
     "data": {
      "text/plain": [
       "0.39985526445220165"
      ]
     },
     "execution_count": 11,
     "metadata": {},
     "output_type": "execute_result"
    }
   ],
   "source": [
    "ppc['b'][0]\n",
    "data = ppc['b']\n",
    "calculate_r2_score(posterior_data=data)"
   ]
  }
 ],
 "metadata": {
  "kernelspec": {
   "display_name": "stat-rethink",
   "language": "python",
   "name": "stat-rethink"
  },
  "language_info": {
   "codemirror_mode": {
    "name": "ipython",
    "version": 3
   },
   "file_extension": ".py",
   "mimetype": "text/x-python",
   "name": "python",
   "nbconvert_exporter": "python",
   "pygments_lexer": "ipython3",
   "version": "3.8.6"
  }
 },
 "nbformat": 4,
 "nbformat_minor": 5
}
