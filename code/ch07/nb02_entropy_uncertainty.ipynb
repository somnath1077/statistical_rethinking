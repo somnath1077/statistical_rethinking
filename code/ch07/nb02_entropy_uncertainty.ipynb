{
 "cells": [
  {
   "cell_type": "code",
   "execution_count": 1,
   "id": "local-bronze",
   "metadata": {},
   "outputs": [],
   "source": [
    "import numpy as np\n",
    "import pandas as pd\n",
    "import matplotlib.pyplot as plt\n",
    "import seaborn as sns"
   ]
  },
  {
   "cell_type": "markdown",
   "id": "daily-spending",
   "metadata": {},
   "source": [
    "## Entropy, Cross-Entropy and Kullback-Leibler Divergence\n",
    "\n",
    "**Entropy**\n",
    "\n",
    "Given $n$ events with probabilities $p = (p_1, \\ldots, p_n)$, the uncertainty or entropy associated with the probability distribution $p$ is:\n",
    "$$\n",
    "    H(p) = - \\sum_i p_i \\cdot \\log p_i.\n",
    "$$\n",
    "\n",
    "**Cross-Entropy**\n",
    "\n",
    "Suppose $p$ and $q$ are two probability distributions over the same set of events. The cross-entropy of $q$ relative to $p$ is defined as:\n",
    "$$\n",
    "    H(p, q) = - \\mathbf{E}_p[\\log q] = - \\sum_{i} p_i \\cdot \\log q_i.\n",
    "$$\n",
    "\n",
    "**Kullback-Leibler Divergence $D_{KL}$**\n",
    "\n",
    "Suppose that $p$ is the true probability distribution of a set of events and that $q$ is an approximation to $p$. The distance $D_{KL}$ of $q$ from $p$ is defined as:\n",
    "$$\n",
    "    D_{KL}(p \\mid\\mid q) = H(p, q) - H(p) = -\\sum_i p_i \\cdot \\log q_i + \\sum_i p_i \\cdot \\log p_i = \\sum_i p_i \\cdot \\log \\frac{p_i}{q_i}.\n",
    "$$"
   ]
  },
  {
   "cell_type": "code",
   "execution_count": 2,
   "id": "satisfied-throw",
   "metadata": {},
   "outputs": [],
   "source": [
    "def entropy(p: np.array) -> float:\n",
    "    return - np.sum(p * np.log(p))\n",
    "\n",
    "def kullback_leibler(target: np.array, model: np.array) -> float:\n",
    "    return np.sum(target * (np.log(target) - np.log(model)))"
   ]
  },
  {
   "cell_type": "markdown",
   "id": "alternate-membrane",
   "metadata": {},
   "source": [
    "### Code 7.12"
   ]
  },
  {
   "cell_type": "code",
   "execution_count": 3,
   "id": "indirect-heating",
   "metadata": {},
   "outputs": [
    {
     "data": {
      "text/plain": [
       "0.6108643020548935"
      ]
     },
     "execution_count": 3,
     "metadata": {},
     "output_type": "execute_result"
    }
   ],
   "source": [
    "entropy(np.array([0.3, 0.7]))"
   ]
  },
  {
   "cell_type": "code",
   "execution_count": 4,
   "id": "derived-bridge",
   "metadata": {},
   "outputs": [
    {
     "data": {
      "text/plain": [
       "0.056001534354847345"
      ]
     },
     "execution_count": 4,
     "metadata": {},
     "output_type": "execute_result"
    }
   ],
   "source": [
    "entropy(np.array([0.01, 0.99]))"
   ]
  },
  {
   "cell_type": "code",
   "execution_count": 5,
   "id": "outer-ambassador",
   "metadata": {},
   "outputs": [
    {
     "data": {
      "text/plain": [
       "0.818808456222877"
      ]
     },
     "execution_count": 5,
     "metadata": {},
     "output_type": "execute_result"
    }
   ],
   "source": [
    "entropy(np.array([0.7, 0.15, 0.15]))"
   ]
  },
  {
   "cell_type": "markdown",
   "id": "fancy-prerequisite",
   "metadata": {},
   "source": [
    "### Figure 7.5"
   ]
  },
  {
   "cell_type": "code",
   "execution_count": 6,
   "id": "indie-russia",
   "metadata": {},
   "outputs": [
    {
     "data": {
      "image/png": "[encoded data removed]",
      "text/plain": [
       "<Figure size 432x288 with 1 Axes>"
      ]
     },
     "metadata": {
      "needs_background": "light"
     },
     "output_type": "display_data"
    }
   ],
   "source": [
    "p = np.array([0.3, 0.7])\n",
    "q_1_vals = np.linspace(0.01, 0.99, 99)\n",
    "q_2_vals = 1 - q_1_vals\n",
    "\n",
    "div = []\n",
    "\n",
    "for q_1, q_2 in zip(q_1_vals, q_2_vals):\n",
    "    d = kullback_leibler(p, np.array([q_1, q_2]))\n",
    "    div.append(d)\n",
    "\n",
    "plt.plot(q_1_vals, div)\n",
    "\n",
    "plt.axvline(x=0.3, color='k', linestyle='--', alpha=0.2)\n",
    "plt.axhline(y=0, color='k', linestyle='--', alpha=0.2)\n",
    "\n",
    "plt.xlabel(r'$q_1$')\n",
    "plt.ylabel(r'Divergence of $q$ from $p$')\n",
    "\n",
    "plt.show()"
   ]
  },
  {
   "cell_type": "markdown",
   "id": "sized-method",
   "metadata": {},
   "source": [
    "## KL-Divergence is Non-negative\n",
    "\n",
    "Credit: https://stats.stackexchange.com/questions/335197/why-kl-divergence-is-non-negative\n",
    "\n",
    "We use the fact that $\\log a \\leq a - 1$ for all $a > 0$. To show that $D_{KL}(p, q) \\geq 0$, it is sufficient to show that $- D_{KL}(p, q) \\leq 0$. Now \n",
    "\\begin{array}\n",
    "~- D_{KL}(p, q) & = - \\sum_i p_i \\log \\frac{p_i}{q_i} \\\\\n",
    "               & = \\sum_i p_i \\log \\frac{q_i}{p_i} \\\\ \n",
    "               & \\leq \\sum_i p_i \\left ( \\frac{q_i}{p_i} - 1\\right ) \\\\ \n",
    "               & = \\sum_{i} (q_i - p_i) = 0.\n",
    "\\end{array}"
   ]
  },
  {
   "cell_type": "markdown",
   "id": "communist-language",
   "metadata": {},
   "source": [
    "## The Log-Pointwise-Predictive-Density (LLPD)\n",
    "\n",
    "For data $y = [y_1, \\ldots, y_n]$ and a posterior distribution $\\Theta$, the LLPD is defined as:\n",
    "$$\n",
    "    \\mathrm{llpd} (y, \\Theta) = \\sum_{i = 1}^{n} \\log \\frac{1}{S} \\sum_{s = 1}^{S} p(y_i \\mid \\Theta_s),\n",
    "$$\n",
    "\n",
    "where\n",
    "\n",
    "* $S$ is the number of samples\n",
    "\n",
    "* $\\Theta_s$ is the set of parameter values corresponding to the $s$th sample from the posterior distribution.\n",
    "\n",
    "To create the LLPD computation, we recreate the data for the brain-body mass experiments. "
   ]
  },
  {
   "cell_type": "code",
   "execution_count": 7,
   "id": "special-liverpool",
   "metadata": {},
   "outputs": [],
   "source": [
    "sppnames = ['afarensis', 'africanus', 'habilis', 'boisei', 'rudolfensis', 'ergaster', 'sapiens']\n",
    "brainvolcc = [438, 452, 612, 521, 752, 871, 1350]\n",
    "masskg = [37.0, 35.5, 34.5, 41.5, 55.5, 61.0, 53.5]\n",
    "\n",
    "df = pd.DataFrame({'species': sppnames, 'brain': brainvolcc, 'mass': masskg})\n",
    "\n",
    "df['mass_std'] = (df['mass'] - df['mass'].mean()) / df['mass'].std()\n",
    "df['brain_std'] = df['brain'] / df['brain'].max()"
   ]
  },
  {
   "cell_type": "code",
   "execution_count": 8,
   "id": "radical-respondent",
   "metadata": {},
   "outputs": [],
   "source": [
    "import statsmodels.api as sm\n",
    "import statsmodels.formula.api as smf\n",
    "from patsy import dmatrix\n",
    "from scipy import stats\n",
    "from scipy.special import logsumexp"
   ]
  },
  {
   "cell_type": "code",
   "execution_count": 9,
   "id": "lesser-strengthening",
   "metadata": {},
   "outputs": [],
   "source": [
    "m_7_1 = smf.ols(\"brain_std ~ mass_std\", data=df).fit()"
   ]
  },
  {
   "cell_type": "code",
   "execution_count": 10,
   "id": "applied-seller",
   "metadata": {},
   "outputs": [
    {
     "data": {
      "text/html": [
       "<div>\n",
       "<style scoped>\n",
       "    .dataframe tbody tr th:only-of-type {\n",
       "        vertical-align: middle;\n",
       "    }\n",
       "\n",
       "    .dataframe tbody tr th {\n",
       "        vertical-align: top;\n",
       "    }\n",
       "\n",
       "    .dataframe thead th {\n",
       "        text-align: right;\n",
       "    }\n",
       "</style>\n",
       "<table border=\"1\" class=\"dataframe\">\n",
       "  <thead>\n",
       "    <tr style=\"text-align: right;\">\n",
       "      <th></th>\n",
       "      <th>0</th>\n",
       "    </tr>\n",
       "  </thead>\n",
       "  <tbody>\n",
       "    <tr>\n",
       "      <th>Intercept</th>\n",
       "      <td>0.528677</td>\n",
       "    </tr>\n",
       "    <tr>\n",
       "      <th>mass_std</th>\n",
       "      <td>0.167118</td>\n",
       "    </tr>\n",
       "  </tbody>\n",
       "</table>\n",
       "</div>"
      ],
      "text/plain": [
       "                  0\n",
       "Intercept  0.528677\n",
       "mass_std   0.167118"
      ]
     },
     "execution_count": 10,
     "metadata": {},
     "output_type": "execute_result"
    }
   ],
   "source": [
    "pd.DataFrame(m_7_1.params)"
   ]
  },
  {
   "cell_type": "code",
   "execution_count": 11,
   "id": "athletic-segment",
   "metadata": {},
   "outputs": [
    {
     "data": {
      "text/html": [
       "<div>\n",
       "<style scoped>\n",
       "    .dataframe tbody tr th:only-of-type {\n",
       "        vertical-align: middle;\n",
       "    }\n",
       "\n",
       "    .dataframe tbody tr th {\n",
       "        vertical-align: top;\n",
       "    }\n",
       "\n",
       "    .dataframe thead th {\n",
       "        text-align: right;\n",
       "    }\n",
       "</style>\n",
       "<table border=\"1\" class=\"dataframe\">\n",
       "  <thead>\n",
       "    <tr style=\"text-align: right;\">\n",
       "      <th></th>\n",
       "      <th>Intercept</th>\n",
       "      <th>mass_std</th>\n",
       "    </tr>\n",
       "  </thead>\n",
       "  <tbody>\n",
       "    <tr>\n",
       "      <th>Intercept</th>\n",
       "      <td>4.980017e-03</td>\n",
       "      <td>3.981467e-19</td>\n",
       "    </tr>\n",
       "    <tr>\n",
       "      <th>mass_std</th>\n",
       "      <td>3.981467e-19</td>\n",
       "      <td>5.810020e-03</td>\n",
       "    </tr>\n",
       "  </tbody>\n",
       "</table>\n",
       "</div>"
      ],
      "text/plain": [
       "              Intercept      mass_std\n",
       "Intercept  4.980017e-03  3.981467e-19\n",
       "mass_std   3.981467e-19  5.810020e-03"
      ]
     },
     "execution_count": 11,
     "metadata": {},
     "output_type": "execute_result"
    }
   ],
   "source": [
    "m_7_1.cov_params()"
   ]
  },
  {
   "cell_type": "markdown",
   "id": "double-walter",
   "metadata": {},
   "source": [
    "### First create the parameters of the distribution\n",
    "\n",
    "In our case, this amounts to creating the mean and the standard deviations of a multivariate normal distribution from which the `brain_std` are obtained."
   ]
  },
  {
   "cell_type": "code",
   "execution_count": 12,
   "id": "piano-verse",
   "metadata": {},
   "outputs": [],
   "source": [
    "N_SPECIES = 7\n",
    "N_SAMPLES = 3000\n",
    "\n",
    "samples = stats.multivariate_normal(m_7_1.params, m_7_1.cov_params()).rvs(N_SAMPLES) # (N_SAMPLES, 2)\n",
    "\n",
    "intercept = samples[:, 0] # (N_SAMPLES, )\n",
    "slope = samples[:, 1] # (N_SAMPLES, )\n",
    "\n",
    "body_mass_std = df.mass_std.values.reshape(-1, 1)  # (7, 1)\n",
    "brain_vol_std = df.brain_std.values.reshape(-1, 1)  # (7, 1)\n",
    "\n",
    "slope = slope.reshape(1, N_SAMPLES)\n",
    "intercept = intercept.reshape(1, N_SAMPLES)\n",
    "\n",
    "# broadcasting going on here\n",
    "pred_means = intercept + body_mass_std * slope  # (7, N_SAMPLES)\n",
    "\n",
    "# At this point, each column of pred is one sample for each of the seven species.\n",
    "# For each sample, take the standard deviations of the brain_vol predictions of all 7 species. \n",
    "# This corresponds to taking the standard deviation for the entries of each column (axis=0).\n",
    "\n",
    "# pred_mean: (7, N_SAMPLES), brain_vol_std: (7, 1) -> broadcasting going on here\n",
    "sq_diff = (pred_means - brain_vol_std)**2 # (N_SPECIES, N_SAMPLES)\n",
    "col_wise_sums = np.sum(sq_diff, axis=0) # (N_SAMPLES, )\n",
    "pred_sigmas = np.sqrt(col_wise_sums / N_SPECIES) # (N_SAMPLES, )"
   ]
  },
  {
   "cell_type": "markdown",
   "id": "worth-adrian",
   "metadata": {},
   "source": [
    "### Next calculate the LLPD for each species\n",
    "\n",
    "This corresponds to the following steps:\n",
    "\n",
    "1. Compute the pdf for each sample of parameters from the posterior distribution: $p(y_i \\mid \\Theta_s)$\n",
    "\n",
    "2. For each species, take the sum $\\sum_s p(y_i \\mid \\Theta_s)$ over all samples $s$, divide by the number of samples $S$.\n",
    "\n",
    "3. Finally take logs."
   ]
  },
  {
   "cell_type": "code",
   "execution_count": 13,
   "id": "current-andorra",
   "metadata": {},
   "outputs": [
    {
     "data": {
      "text/plain": [
       "array([ 0.62452583,  0.66369902,  0.56018554,  0.630427  ,  0.47592397,\n",
       "        0.4453055 , -0.8463082 ])"
      ]
     },
     "execution_count": 13,
     "metadata": {},
     "output_type": "execute_result"
    }
   ],
   "source": [
    "ll = np.zeros(shape=(N_SPECIES, N_SAMPLES))\n",
    "\n",
    "for s in range(N_SAMPLES):\n",
    "    ll[:, s] = stats.norm.pdf(x=df.brain_std, loc=pred_means[:, s], scale=pred_sigmas[s])\n",
    "\n",
    "lppd = np.zeros(N_SPECIES)\n",
    "\n",
    "for i in range(N_SPECIES):\n",
    "    lppd[i] = np.log(np.sum(ll[i]) / N_SAMPLES) \n",
    "lppd"
   ]
  }
 ],
 "metadata": {
  "kernelspec": {
   "display_name": "stat-rethink",
   "language": "python",
   "name": "stat-rethink"
  },
  "language_info": {
   "codemirror_mode": {
    "name": "ipython",
    "version": 3
   },
   "file_extension": ".py",
   "mimetype": "text/x-python",
   "name": "python",
   "nbconvert_exporter": "python",
   "pygments_lexer": "ipython3",
   "version": "3.8.6"
  }
 },
 "nbformat": 4,
 "nbformat_minor": 5
}
