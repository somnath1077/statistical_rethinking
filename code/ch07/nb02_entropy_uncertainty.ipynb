{
 "cells": [
  {
   "cell_type": "code",
   "execution_count": 1,
   "id": "local-bronze",
   "metadata": {},
   "outputs": [],
   "source": [
    "import numpy as np\n",
    "import pandas as pd\n",
    "import matplotlib.pyplot as plt\n",
    "import seaborn as sns"
   ]
  },
  {
   "cell_type": "markdown",
   "id": "daily-spending",
   "metadata": {},
   "source": [
    "## Entropy, Cross-Entropy and Kullback-Leibler Divergence\n",
    "\n",
    "**Entropy**\n",
    "\n",
    "Given $n$ events with probabilities $p = (p_1, \\ldots, p_n)$, the uncertainty or entropy associated with the probability distribution $p$ is:\n",
    "$$\n",
    "    H(p) = - \\sum_i p_i \\cdot \\log p_i = \\sum_i p_i \\cdot \\log \\frac{1}{p_i}.\n",
    "$$\n",
    "Thus $H(p) := \\mathbf{E}_{p}[\\log \\text{surprise}]$.\n",
    "\n",
    "**Cross-Entropy**\n",
    "\n",
    "Suppose $p$ and $q$ are two probability distributions over the same set of events. The cross-entropy of $q$ relative to $p$ is defined as:\n",
    "$$\n",
    "    H(p, q) = - \\mathbf{E}_p[\\log q] = - \\sum_{i} p_i \\cdot \\log q_i.\n",
    "$$\n",
    "\n",
    "**Kullback-Leibler Divergence $D_{KL}$**\n",
    "\n",
    "Suppose that $p$ is the true probability distribution of a set of events and that $q$ is an approximation to $p$. The distance $D_{KL}$ of $q$ from $p$ is defined as:\n",
    "$$\n",
    "    D_{KL}(p \\mid\\mid q) = H(p, q) - H(p) = -\\sum_i p_i \\cdot \\log q_i + \\sum_i p_i \\cdot \\log p_i = \\sum_i p_i \\cdot \\log \\frac{p_i}{q_i}.\n",
    "$$"
   ]
  },
  {
   "cell_type": "code",
   "execution_count": 2,
   "id": "satisfied-throw",
   "metadata": {},
   "outputs": [],
   "source": [
    "def entropy(p: np.array) -> float:\n",
    "    return - np.sum(p * np.log(p))\n",
    "\n",
    "def kullback_leibler(target: np.array, model: np.array) -> float:\n",
    "    return np.sum(target * (np.log(target) - np.log(model)))"
   ]
  },
  {
   "cell_type": "markdown",
   "id": "alternate-membrane",
   "metadata": {},
   "source": [
    "### Code 7.12"
   ]
  },
  {
   "cell_type": "code",
   "execution_count": 3,
   "id": "indirect-heating",
   "metadata": {},
   "outputs": [
    {
     "data": {
      "text/plain": [
       "0.6108643020548935"
      ]
     },
     "execution_count": 3,
     "metadata": {},
     "output_type": "execute_result"
    }
   ],
   "source": [
    "entropy(np.array([0.3, 0.7]))"
   ]
  },
  {
   "cell_type": "code",
   "execution_count": 4,
   "id": "derived-bridge",
   "metadata": {},
   "outputs": [
    {
     "data": {
      "text/plain": [
       "0.056001534354847345"
      ]
     },
     "execution_count": 4,
     "metadata": {},
     "output_type": "execute_result"
    }
   ],
   "source": [
    "entropy(np.array([0.01, 0.99]))"
   ]
  },
  {
   "cell_type": "code",
   "execution_count": 5,
   "id": "outer-ambassador",
   "metadata": {},
   "outputs": [
    {
     "data": {
      "text/plain": [
       "0.818808456222877"
      ]
     },
     "execution_count": 5,
     "metadata": {},
     "output_type": "execute_result"
    }
   ],
   "source": [
    "entropy(np.array([0.7, 0.15, 0.15]))"
   ]
  },
  {
   "cell_type": "markdown",
   "id": "fancy-prerequisite",
   "metadata": {},
   "source": [
    "### Figure 7.5"
   ]
  },
  {
   "cell_type": "code",
   "execution_count": 6,
   "id": "indie-russia",
   "metadata": {},
   "outputs": [
    {
     "data": {
      "image/png": "[encoded data removed]",
      "text/plain": [
       "<Figure size 432x288 with 1 Axes>"
      ]
     },
     "metadata": {
      "needs_background": "light"
     },
     "output_type": "display_data"
    }
   ],
   "source": [
    "p = np.array([0.3, 0.7])\n",
    "q_1_vals = np.linspace(0.01, 0.99, 99)\n",
    "q_2_vals = 1 - q_1_vals\n",
    "\n",
    "div = []\n",
    "\n",
    "for q_1, q_2 in zip(q_1_vals, q_2_vals):\n",
    "    d = kullback_leibler(p, np.array([q_1, q_2]))\n",
    "    div.append(d)\n",
    "\n",
    "plt.plot(q_1_vals, div)\n",
    "\n",
    "plt.axvline(x=0.3, color='k', linestyle='--', alpha=0.2)\n",
    "plt.axhline(y=0, color='k', linestyle='--', alpha=0.2)\n",
    "\n",
    "plt.xlabel(r'$q_1$')\n",
    "plt.ylabel(r'Divergence of $q$ from $p$')\n",
    "\n",
    "plt.show()"
   ]
  },
  {
   "cell_type": "markdown",
   "id": "sized-method",
   "metadata": {},
   "source": [
    "## KL-Divergence is Non-negative\n",
    "\n",
    "%%latex\n",
    "\n",
    "Credit: https://stats.stackexchange.com/questions/335197/why-kl-divergence-is-non-negative\n",
    "\n",
    "We use the fact that $\\log a \\leq a - 1$ for all $a > 0$. To show that $D_{KL}(p, q) \\geq 0$, it is sufficient to show that $- D_{KL}(p, q) \\leq 0$. Now \n",
    "\n",
    "\\begin{array}\n",
    "~- D_{KL}(p, q) & = - \\sum_i p_i \\log \\frac{p_i}{q_i} \\\\\n",
    "               & = \\sum_i p_i \\log \\frac{q_i}{p_i} \\\\ \n",
    "               & \\leq \\sum_i p_i \\left ( \\frac{q_i}{p_i} - 1\\right ) \\\\ \n",
    "               & = \\sum_{i} (q_i - p_i) = 0.\n",
    "\\end{array}\n"
   ]
  },
  {
   "cell_type": "markdown",
   "id": "communist-language",
   "metadata": {},
   "source": [
    "## The Log-Pointwise-Predictive-Density (LPPD)\n",
    "\n",
    "For data $y = [y_1, \\ldots, y_n]$ and a posterior distribution $\\Theta$, the LPPD is defined as:\n",
    "$$\n",
    "    \\mathrm{llpd} (y, \\Theta) = \\sum_{i = 1}^{n} \\log \\frac{1}{S} \\sum_{s = 1}^{S} p(y_i \\mid \\Theta_s),\n",
    "$$\n",
    "\n",
    "where\n",
    "\n",
    "* $S$ is the number of samples\n",
    "\n",
    "* $\\Theta_s$ is the set of parameter values corresponding to the $s$th sample from the posterior distribution.\n",
    "\n",
    "To create the LPPD computation, we recreate the data for the brain-body mass experiments. "
   ]
  },
  {
   "cell_type": "code",
   "execution_count": 7,
   "id": "special-liverpool",
   "metadata": {},
   "outputs": [],
   "source": [
    "sppnames = ['afarensis', 'africanus', 'habilis', 'boisei', 'rudolfensis', 'ergaster', 'sapiens']\n",
    "brainvolcc = [438, 452, 612, 521, 752, 871, 1350]\n",
    "masskg = [37.0, 35.5, 34.5, 41.5, 55.5, 61.0, 53.5]\n",
    "\n",
    "df = pd.DataFrame({'species': sppnames, 'brain': brainvolcc, 'mass': masskg})\n",
    "\n",
    "df['mass_std'] = (df['mass'] - df['mass'].mean()) / df['mass'].std()\n",
    "df['brain_std'] = df['brain'] / df['brain'].max()"
   ]
  },
  {
   "cell_type": "code",
   "execution_count": 8,
   "id": "radical-respondent",
   "metadata": {},
   "outputs": [],
   "source": [
    "import statsmodels.api as sm\n",
    "import statsmodels.formula.api as smf\n",
    "from patsy import dmatrix\n",
    "from scipy import stats\n",
    "from scipy.special import logsumexp"
   ]
  },
  {
   "cell_type": "code",
   "execution_count": 9,
   "id": "lesser-strengthening",
   "metadata": {},
   "outputs": [],
   "source": [
    "m_7_1 = smf.ols(\"brain_std ~ mass_std\", data=df).fit()"
   ]
  },
  {
   "cell_type": "code",
   "execution_count": 10,
   "id": "applied-seller",
   "metadata": {},
   "outputs": [
    {
     "data": {
      "text/html": [
       "<div>\n",
       "<style scoped>\n",
       "    .dataframe tbody tr th:only-of-type {\n",
       "        vertical-align: middle;\n",
       "    }\n",
       "\n",
       "    .dataframe tbody tr th {\n",
       "        vertical-align: top;\n",
       "    }\n",
       "\n",
       "    .dataframe thead th {\n",
       "        text-align: right;\n",
       "    }\n",
       "</style>\n",
       "<table border=\"1\" class=\"dataframe\">\n",
       "  <thead>\n",
       "    <tr style=\"text-align: right;\">\n",
       "      <th></th>\n",
       "      <th>0</th>\n",
       "    </tr>\n",
       "  </thead>\n",
       "  <tbody>\n",
       "    <tr>\n",
       "      <th>Intercept</th>\n",
       "      <td>0.528677</td>\n",
       "    </tr>\n",
       "    <tr>\n",
       "      <th>mass_std</th>\n",
       "      <td>0.167118</td>\n",
       "    </tr>\n",
       "  </tbody>\n",
       "</table>\n",
       "</div>"
      ],
      "text/plain": [
       "                  0\n",
       "Intercept  0.528677\n",
       "mass_std   0.167118"
      ]
     },
     "execution_count": 10,
     "metadata": {},
     "output_type": "execute_result"
    }
   ],
   "source": [
    "pd.DataFrame(m_7_1.params)"
   ]
  },
  {
   "cell_type": "code",
   "execution_count": 11,
   "id": "athletic-segment",
   "metadata": {},
   "outputs": [
    {
     "data": {
      "text/html": [
       "<div>\n",
       "<style scoped>\n",
       "    .dataframe tbody tr th:only-of-type {\n",
       "        vertical-align: middle;\n",
       "    }\n",
       "\n",
       "    .dataframe tbody tr th {\n",
       "        vertical-align: top;\n",
       "    }\n",
       "\n",
       "    .dataframe thead th {\n",
       "        text-align: right;\n",
       "    }\n",
       "</style>\n",
       "<table border=\"1\" class=\"dataframe\">\n",
       "  <thead>\n",
       "    <tr style=\"text-align: right;\">\n",
       "      <th></th>\n",
       "      <th>Intercept</th>\n",
       "      <th>mass_std</th>\n",
       "    </tr>\n",
       "  </thead>\n",
       "  <tbody>\n",
       "    <tr>\n",
       "      <th>Intercept</th>\n",
       "      <td>4.980017e-03</td>\n",
       "      <td>3.981467e-19</td>\n",
       "    </tr>\n",
       "    <tr>\n",
       "      <th>mass_std</th>\n",
       "      <td>3.981467e-19</td>\n",
       "      <td>5.810020e-03</td>\n",
       "    </tr>\n",
       "  </tbody>\n",
       "</table>\n",
       "</div>"
      ],
      "text/plain": [
       "              Intercept      mass_std\n",
       "Intercept  4.980017e-03  3.981467e-19\n",
       "mass_std   3.981467e-19  5.810020e-03"
      ]
     },
     "execution_count": 11,
     "metadata": {},
     "output_type": "execute_result"
    }
   ],
   "source": [
    "m_7_1.cov_params()"
   ]
  },
  {
   "cell_type": "markdown",
   "id": "double-walter",
   "metadata": {},
   "source": [
    "### First create the parameters of the distribution\n",
    "\n",
    "In our case, this amounts to creating the mean and the standard deviations of a multivariate normal distribution from which the coefficients of the linear equation are assumed to be obtained. \n",
    "$$\n",
    "    \\text{brain_std} = \\alpha + \\beta \\cdot \\text{mass}.\n",
    "$$\n",
    "\n",
    "We assume that \n",
    "$$\n",
    "\\left ( \\begin{array}{c} \\alpha \\\\ \\beta \\end{array} \\right ) \\sim N_2 \\left ( \\mu, \\sigma \\right ),\n",
    "$$\n",
    "where $\\mu = (\\mu_1, \\mu_2)^T$ and $\\sigma$ is a $2 \\times 2$ covariance matrix."
   ]
  },
  {
   "cell_type": "code",
   "execution_count": 12,
   "id": "piano-verse",
   "metadata": {},
   "outputs": [],
   "source": [
    "N_SPECIES = 7\n",
    "N_SAMPLES = 3000\n",
    "\n",
    "samples = stats.multivariate_normal(m_7_1.params, m_7_1.cov_params()).rvs(N_SAMPLES) # (N_SAMPLES, 2)\n",
    "\n",
    "intercept = samples[:, 0] # (N_SAMPLES, )\n",
    "slope = samples[:, 1] # (N_SAMPLES, )\n",
    "\n",
    "body_mass_std = df.mass_std.values.reshape(-1, 1)  # (7, 1)\n",
    "brain_vol_std = df.brain_std.values.reshape(-1, 1)  # (7, 1)\n",
    "\n",
    "slope = slope.reshape(1, N_SAMPLES)\n",
    "intercept = intercept.reshape(1, N_SAMPLES)\n",
    "\n",
    "# broadcasting going on here\n",
    "pred_means = intercept + body_mass_std * slope  # (7, N_SAMPLES)\n",
    "\n",
    "# At this point, each column of pred_means is one prediction of the mean values of brain_vol_std \n",
    "# for each of the seven species.\n",
    "# For each sample, take the standard deviations of the brain_vol predictions of all 7 species. \n",
    "# This corresponds to taking the standard deviation for the entries of each column (axis=0).\n",
    "\n",
    "# pred_mean: (7, N_SAMPLES), brain_vol_std: (7, 1) -> broadcasting going on here\n",
    "sq_diff = (pred_means - brain_vol_std)**2 # (N_SPECIES, N_SAMPLES)\n",
    "col_wise_sums = np.sum(sq_diff, axis=0) # (N_SAMPLES, )\n",
    "pred_sigmas = np.sqrt(col_wise_sums / N_SPECIES) # (N_SAMPLES, )"
   ]
  },
  {
   "cell_type": "markdown",
   "id": "worth-adrian",
   "metadata": {},
   "source": [
    "### Next calculate the LPPD for each species\n",
    "\n",
    "This corresponds to the following steps:\n",
    "\n",
    "1. Compute the pdf for each sample of parameters from the posterior distribution: $p(y_i \\mid \\Theta_s)$\n",
    "\n",
    "2. For each species, take the sum $\\sum_s p(y_i \\mid \\Theta_s)$ over all samples $s$, divide by the number of samples $S$.\n",
    "\n",
    "3. Finally take logs."
   ]
  },
  {
   "cell_type": "code",
   "execution_count": 13,
   "id": "global-observer",
   "metadata": {},
   "outputs": [
    {
     "data": {
      "text/plain": [
       "array([ 0.62189232,  0.66187401,  0.5613818 ,  0.62719953,  0.46546801,\n",
       "        0.4311451 , -0.82955821])"
      ]
     },
     "execution_count": 13,
     "metadata": {},
     "output_type": "execute_result"
    }
   ],
   "source": [
    "ll = np.zeros(shape=(N_SPECIES, N_SAMPLES))\n",
    "\n",
    "for s in range(N_SAMPLES):\n",
    "    ll[:, s] = stats.norm.pdf(x=df.brain_std, loc=pred_means[:, s], scale=pred_sigmas[s])\n",
    "\n",
    "lppd = np.zeros(N_SPECIES)\n",
    "\n",
    "for i in range(N_SPECIES):\n",
    "    lppd[i] = np.log(np.sum(ll[i]) / N_SAMPLES) \n",
    "lppd"
   ]
  },
  {
   "cell_type": "markdown",
   "id": "acquired-profit",
   "metadata": {},
   "source": [
    "### Alternative\n",
    "\n",
    "First take the `logpdf`, then their exponents, sum, and finally take logs once more!"
   ]
  },
  {
   "cell_type": "code",
   "execution_count": 14,
   "id": "current-andorra",
   "metadata": {},
   "outputs": [
    {
     "data": {
      "text/plain": [
       "array([ 0.62189232,  0.66187401,  0.5613818 ,  0.62719953,  0.46546801,\n",
       "        0.4311451 , -0.82955821])"
      ]
     },
     "execution_count": 14,
     "metadata": {},
     "output_type": "execute_result"
    }
   ],
   "source": [
    "ll = np.zeros(shape=(N_SPECIES, N_SAMPLES))\n",
    "\n",
    "for s in range(N_SAMPLES):\n",
    "    ll[:, s] = stats.norm.logpdf(x=df.brain_std, loc=pred_means[:, s], scale=pred_sigmas[s])\n",
    "\n",
    "lppd = np.zeros(N_SPECIES)\n",
    "\n",
    "for i in range(N_SPECIES):\n",
    "    lppd[i] = logsumexp(ll[i]) - np.log(N_SAMPLES) \n",
    "lppd"
   ]
  },
  {
   "cell_type": "markdown",
   "id": "comic-singles",
   "metadata": {},
   "source": [
    "### LPPD Function\n",
    "\n",
    "Credit: https://github.com/pymc-devs/resources/blob/master/Rethinking_2/Chp_07.ipynb"
   ]
  },
  {
   "cell_type": "code",
   "execution_count": 15,
   "id": "compact-courage",
   "metadata": {},
   "outputs": [],
   "source": [
    "def lppd(model, df: pd.DataFrame, y: str, ns=10000):\n",
    "    # First create samples for the model parameters: \n",
    "    # (N_PARAMS, ns)\n",
    "    samples = stats.multivariate_normal(model.params, model.cov_params()).rvs(ns).T  \n",
    "    \n",
    "    # get model design matrix\n",
    "    # (N_SPECIES, N_PARAMS)\n",
    "    dmat = dmatrix(model.model.data.design_info, \n",
    "                   df, \n",
    "                   return_type=\"dataframe\").values \n",
    "    \n",
    "    # (N_SPECIES, ns)\n",
    "    pred = dmat.dot(samples)\n",
    "    \n",
    "    N_SPECIES = pred.shape[0]\n",
    "    \n",
    "    y_std = df[y].values.reshape(-1, 1)  # (N_SPECIES, 1)\n",
    "    sq_diff = (pred - y_std)**2 # (N_SPECIES, ns)\n",
    "    col_wise_sums = np.sum(sq_diff, axis=0) # (ns, )\n",
    "    sigmas = np.sqrt(col_wise_sums / N_SPECIES) # (ns, )\n",
    "    \n",
    "    ll = np.zeros(shape=(N_SPECIES, ns))\n",
    "    \n",
    "    for s in range(ns):\n",
    "        ll[:, s] = stats.norm.logpdf(x=df[y], loc=pred[:, s], scale=sigmas[s])\n",
    "\n",
    "    lppd = np.zeros(N_SPECIES)\n",
    "\n",
    "    for i in range(N_SPECIES):\n",
    "        lppd[i] = logsumexp(ll[i]) - np.log(ns) \n",
    "    \n",
    "    return lppd"
   ]
  },
  {
   "cell_type": "code",
   "execution_count": 16,
   "id": "dental-night",
   "metadata": {},
   "outputs": [
    {
     "data": {
      "text/plain": [
       "array([ 0.62080926,  0.65835688,  0.55475518,  0.6292301 ,  0.47852423,\n",
       "        0.44703639, -0.85764922])"
      ]
     },
     "execution_count": 16,
     "metadata": {},
     "output_type": "execute_result"
    }
   ],
   "source": [
    "lppd(m_7_1, df, \"brain_std\")"
   ]
  },
  {
   "cell_type": "code",
   "execution_count": 17,
   "id": "compound-links",
   "metadata": {},
   "outputs": [],
   "source": [
    "m_7_2 = smf.ols(\"brain_std ~ mass_std + I(mass_std**2)\", data=df).fit()\n",
    "m_7_3 = smf.ols(\"brain_std ~ mass_std + I(mass_std**2) + I(mass_std**3)\", \n",
    "                data=df).fit()\n",
    "m_7_4 = smf.ols(\"brain_std ~ mass_std + I(mass_std**2) + I(mass_std**3)\" \n",
    "                \"+ I(mass_std**4)\", \n",
    "                data=df).fit()\n",
    "m_7_5 = smf.ols(\"brain_std ~ mass_std + I(mass_std**2) + I(mass_std**3)\"\n",
    "                \" + I(mass_std**4) + I(mass_std**5)\", \n",
    "                data=df).fit()\n",
    "m_7_6 = smf.ols(\"brain_std ~ mass_std + I(mass_std**2) + I(mass_std**3)\" \n",
    "                \"+ I(mass_std**4) + I(mass_std**5) + I(mass_std**6)\", \n",
    "                data=df).fit()\n",
    "\n",
    "models = [m_7_1, m_7_2, m_7_3, m_7_4, m_7_5, m_7_6]\n",
    "names = [\"m_7_1\", \"m_7_2\", \"m_7_3\", \"m_7_4\", \"m_7_5\", \"m_7_6\"]"
   ]
  },
  {
   "cell_type": "code",
   "execution_count": 18,
   "id": "friendly-backup",
   "metadata": {},
   "outputs": [
    {
     "name": "stderr",
     "output_type": "stream",
     "text": [
      "/home/somnath/install/anaconda3/envs/stat-rethink-pymc3/lib/python3.8/site-packages/statsmodels/regression/linear_model.py:1650: RuntimeWarning: divide by zero encountered in double_scalars\n",
      "  return np.dot(wresid, wresid) / self.df_resid\n"
     ]
    },
    {
     "data": {
      "text/html": [
       "<div>\n",
       "<style scoped>\n",
       "    .dataframe tbody tr th:only-of-type {\n",
       "        vertical-align: middle;\n",
       "    }\n",
       "\n",
       "    .dataframe tbody tr th {\n",
       "        vertical-align: top;\n",
       "    }\n",
       "\n",
       "    .dataframe thead th {\n",
       "        text-align: right;\n",
       "    }\n",
       "</style>\n",
       "<table border=\"1\" class=\"dataframe\">\n",
       "  <thead>\n",
       "    <tr style=\"text-align: right;\">\n",
       "      <th></th>\n",
       "      <th>Intercept</th>\n",
       "      <th>mass_std</th>\n",
       "      <th>I(mass_std ** 2)</th>\n",
       "      <th>I(mass_std ** 3)</th>\n",
       "      <th>I(mass_std ** 4)</th>\n",
       "      <th>I(mass_std ** 5)</th>\n",
       "      <th>I(mass_std ** 6)</th>\n",
       "    </tr>\n",
       "  </thead>\n",
       "  <tbody>\n",
       "    <tr>\n",
       "      <th>Intercept</th>\n",
       "      <td>inf</td>\n",
       "      <td>inf</td>\n",
       "      <td>-inf</td>\n",
       "      <td>-inf</td>\n",
       "      <td>inf</td>\n",
       "      <td>inf</td>\n",
       "      <td>-inf</td>\n",
       "    </tr>\n",
       "    <tr>\n",
       "      <th>mass_std</th>\n",
       "      <td>inf</td>\n",
       "      <td>inf</td>\n",
       "      <td>-inf</td>\n",
       "      <td>-inf</td>\n",
       "      <td>inf</td>\n",
       "      <td>inf</td>\n",
       "      <td>-inf</td>\n",
       "    </tr>\n",
       "    <tr>\n",
       "      <th>I(mass_std ** 2)</th>\n",
       "      <td>-inf</td>\n",
       "      <td>-inf</td>\n",
       "      <td>inf</td>\n",
       "      <td>inf</td>\n",
       "      <td>-inf</td>\n",
       "      <td>-inf</td>\n",
       "      <td>inf</td>\n",
       "    </tr>\n",
       "    <tr>\n",
       "      <th>I(mass_std ** 3)</th>\n",
       "      <td>-inf</td>\n",
       "      <td>-inf</td>\n",
       "      <td>inf</td>\n",
       "      <td>inf</td>\n",
       "      <td>-inf</td>\n",
       "      <td>-inf</td>\n",
       "      <td>inf</td>\n",
       "    </tr>\n",
       "    <tr>\n",
       "      <th>I(mass_std ** 4)</th>\n",
       "      <td>inf</td>\n",
       "      <td>inf</td>\n",
       "      <td>-inf</td>\n",
       "      <td>-inf</td>\n",
       "      <td>inf</td>\n",
       "      <td>inf</td>\n",
       "      <td>-inf</td>\n",
       "    </tr>\n",
       "    <tr>\n",
       "      <th>I(mass_std ** 5)</th>\n",
       "      <td>inf</td>\n",
       "      <td>inf</td>\n",
       "      <td>-inf</td>\n",
       "      <td>-inf</td>\n",
       "      <td>inf</td>\n",
       "      <td>inf</td>\n",
       "      <td>-inf</td>\n",
       "    </tr>\n",
       "    <tr>\n",
       "      <th>I(mass_std ** 6)</th>\n",
       "      <td>-inf</td>\n",
       "      <td>-inf</td>\n",
       "      <td>inf</td>\n",
       "      <td>inf</td>\n",
       "      <td>-inf</td>\n",
       "      <td>-inf</td>\n",
       "      <td>inf</td>\n",
       "    </tr>\n",
       "  </tbody>\n",
       "</table>\n",
       "</div>"
      ],
      "text/plain": [
       "                  Intercept  mass_std  I(mass_std ** 2)  I(mass_std ** 3)  \\\n",
       "Intercept               inf       inf              -inf              -inf   \n",
       "mass_std                inf       inf              -inf              -inf   \n",
       "I(mass_std ** 2)       -inf      -inf               inf               inf   \n",
       "I(mass_std ** 3)       -inf      -inf               inf               inf   \n",
       "I(mass_std ** 4)        inf       inf              -inf              -inf   \n",
       "I(mass_std ** 5)        inf       inf              -inf              -inf   \n",
       "I(mass_std ** 6)       -inf      -inf               inf               inf   \n",
       "\n",
       "                  I(mass_std ** 4)  I(mass_std ** 5)  I(mass_std ** 6)  \n",
       "Intercept                      inf               inf              -inf  \n",
       "mass_std                       inf               inf              -inf  \n",
       "I(mass_std ** 2)              -inf              -inf               inf  \n",
       "I(mass_std ** 3)              -inf              -inf               inf  \n",
       "I(mass_std ** 4)               inf               inf              -inf  \n",
       "I(mass_std ** 5)               inf               inf              -inf  \n",
       "I(mass_std ** 6)              -inf              -inf               inf  "
      ]
     },
     "execution_count": 18,
     "metadata": {},
     "output_type": "execute_result"
    }
   ],
   "source": [
    "m_7_6.cov_params()"
   ]
  },
  {
   "cell_type": "code",
   "execution_count": 19,
   "id": "blank-plymouth",
   "metadata": {},
   "outputs": [
    {
     "data": {
      "text/plain": [
       "{'m_7_1': 2.535018386810565,\n",
       " 'm_7_2': 2.3464013315473995,\n",
       " 'm_7_3': 2.8646542307438434,\n",
       " 'm_7_4': 3.5374320403940747,\n",
       " 'm_7_5': 11.037285200663543}"
      ]
     },
     "execution_count": 19,
     "metadata": {},
     "output_type": "execute_result"
    }
   ],
   "source": [
    "# model 7_6 has an infinite covariance matrix. Not calculating it lppd \n",
    "\n",
    "lppd_models = {}\n",
    "\n",
    "for name, model in zip(names[:-1], models[:-1]):\n",
    "    lppd_models[name] = np.sum(lppd(model, df, \"brain_std\"))\n",
    "\n",
    "lppd_models"
   ]
  },
  {
   "cell_type": "markdown",
   "id": "pacific-correlation",
   "metadata": {},
   "source": [
    "## Code for Figure 7.6"
   ]
  },
  {
   "cell_type": "code",
   "execution_count": 20,
   "id": "saving-eugene",
   "metadata": {},
   "outputs": [],
   "source": [
    "from scipy.stats import norm\n",
    "\n",
    "\n",
    "def create_data(coeffs, num_samples):\n",
    "    # For the outcome variable to have variance 1, we scale the variances of other variables \n",
    "    sigma = 1 # / np.sqrt(len(coeffs))\n",
    "    x1 = norm.rvs(loc=0, scale=sigma, size=num_samples)\n",
    "    x2 = norm.rvs(loc=0, scale=sigma, size=num_samples)\n",
    "    \n",
    "    y = coeffs[0] * x1 + coeffs[1] * x2\n",
    "    \n",
    "    ret = pd.DataFrame({'y': y, 'x1': x1, 'x2': x2})\n",
    "    \n",
    "    return ret\n",
    "\n",
    "def create_train_test_data(coeffs=[0.15, -0.4], num_samples=20):\n",
    "    train_df = create_data(coeffs, num_samples)\n",
    "    test_df = create_data(coeffs, num_samples)\n",
    "    \n",
    "    return train_df, test_df"
   ]
  },
  {
   "cell_type": "code",
   "execution_count": 21,
   "id": "loved-arizona",
   "metadata": {},
   "outputs": [
    {
     "data": {
      "text/plain": [
       "{'m1': [-9.05848386633194, -10.544233604914503],\n",
       " 'm2': [11.126180155179057, 8.460301622421142],\n",
       " 'm3': [699.2761495930332, 698.6413788156538],\n",
       " 'm4': [689.7870065173199, 688.6510370332448],\n",
       " 'm5': [684.8287415275798, 682.5646340980024],\n",
       " 'm6': [680.664220969449, 676.6184656971674]}"
      ]
     },
     "execution_count": 21,
     "metadata": {},
     "output_type": "execute_result"
    }
   ],
   "source": [
    "model_str = {'m1': 'y ~ x1', \n",
    "             'm2': 'y ~ x2', \n",
    "             'm3': 'y ~ x1 + x2', \n",
    "             'm4': 'y ~ x1 + x2 + I(x1 ** 2)', \n",
    "             'm5': 'y ~ x1 + x2 + I(x1 ** 2) + I(x2 ** 2)', \n",
    "             'm6': 'y ~ x1 + x2 + I(x1 ** 2) + I(x2 ** 2) + I(x1 ** 3)'}\n",
    "\n",
    "N_REPS = 100\n",
    "N_SAMPLES = 20\n",
    "models = {}\n",
    "\n",
    "lppd_models = {model: [0, 0] for model in model_str.keys()}\n",
    "\n",
    "for i in range(N_REPS):\n",
    "    train_df, test_df = create_train_test_data(num_samples=N_SAMPLES)\n",
    "\n",
    "    for k, v in model_str.items():\n",
    "        models[k] = smf.ols(v, data=train_df).fit()    \n",
    "\n",
    "    for name, model in models.items():\n",
    "        train_lppd = np.sum(lppd(model, train_df, 'y')) \n",
    "        test_lppd = np.sum(lppd(model, test_df, 'y')) \n",
    "        lppd_models[name][0] += train_lppd\n",
    "        lppd_models[name][1] += test_lppd\n",
    "\n",
    "for k in lppd_models.keys():\n",
    "    lppd_models[k][0] /= N_REPS\n",
    "    lppd_models[k][1] /= N_REPS\n",
    "    \n",
    "lppd_models"
   ]
  },
  {
   "cell_type": "code",
   "execution_count": 22,
   "id": "printable-hurricane",
   "metadata": {},
   "outputs": [
    {
     "name": "stderr",
     "output_type": "stream",
     "text": [
      "<ipython-input-22-79162cc0f60f>:16: UserWarning: FixedFormatter should only be used together with FixedLocator\n",
      "  ax.set_xticklabels(model_names)\n"
     ]
    },
    {
     "data": {
      "image/png": "[encoded data removed]",
      "text/plain": [
       "<Figure size 720x576 with 1 Axes>"
      ]
     },
     "metadata": {
      "needs_background": "light"
     },
     "output_type": "display_data"
    }
   ],
   "source": [
    "fig, ax = plt.subplots(1, 1, figsize=(10, 8))\n",
    "\n",
    "model_names = sorted(model_str.keys())\n",
    "\n",
    "x_vals = range(1, len(model_names) + 1)\n",
    "\n",
    "ax.set_ylabel('LPPD (More is better)')\n",
    "ax.set_xlabel('Models')\n",
    "\n",
    "ax.set_xlim(left=1, right=len(model_names))\n",
    "\n",
    "for x, m in enumerate(model_names):\n",
    "    plt.plot(x + 1, lppd_models[m][0], 'ro')\n",
    "    plt.plot(x + 1, lppd_models[m][1], 'ko')\n",
    "\n",
    "ax.set_xticklabels(model_names)\n",
    "\n",
    "plt.title('Red = Training LPPD, Black = Test LPPD')\n",
    "plt.show()"
   ]
  },
  {
   "cell_type": "code",
   "execution_count": 23,
   "id": "affiliated-small",
   "metadata": {},
   "outputs": [
    {
     "name": "stderr",
     "output_type": "stream",
     "text": [
      "<ipython-input-23-23899f844586>:16: UserWarning: FixedFormatter should only be used together with FixedLocator\n",
      "  ax.set_xticklabels(model_names)\n"
     ]
    },
    {
     "data": {
      "image/png": "[encoded data removed]",
      "text/plain": [
       "<Figure size 720x576 with 1 Axes>"
      ]
     },
     "metadata": {
      "needs_background": "light"
     },
     "output_type": "display_data"
    }
   ],
   "source": [
    "fig, ax = plt.subplots(1, 1, figsize=(10, 8))\n",
    "\n",
    "model_names = sorted(model_str.keys())\n",
    "\n",
    "x_vals = range(1, len(model_names) + 1)\n",
    "\n",
    "ax.set_ylabel('Deviance (Less is better)')\n",
    "ax.set_xlabel('Models')\n",
    "\n",
    "ax.set_xlim(left=1, right=len(model_names))\n",
    "\n",
    "for x, m in enumerate(model_names):\n",
    "    plt.plot(x + 1, -2 * lppd_models[m][0], 'ro')\n",
    "    plt.plot(x + 1, -2 * lppd_models[m][1], 'ko')\n",
    "\n",
    "ax.set_xticklabels(model_names)\n",
    "\n",
    "plt.title('Red = Training Deviance, Black = Test Deviance')\n",
    "plt.show()"
   ]
  }
 ],
 "metadata": {
  "kernelspec": {
   "display_name": "stat-rethink",
   "language": "python",
   "name": "stat-rethink"
  },
  "language_info": {
   "codemirror_mode": {
    "name": "ipython",
    "version": 3
   },
   "file_extension": ".py",
   "mimetype": "text/x-python",
   "name": "python",
   "nbconvert_exporter": "python",
   "pygments_lexer": "ipython3",
   "version": "3.9.2"
  }
 },
 "nbformat": 4,
 "nbformat_minor": 5
}
