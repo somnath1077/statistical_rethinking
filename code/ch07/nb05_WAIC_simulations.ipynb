{
 "cells": [
  {
   "cell_type": "code",
   "execution_count": 1,
   "id": "wireless-roman",
   "metadata": {},
   "outputs": [],
   "source": [
    "import arviz as az\n",
    "import matplotlib.pyplot as plt\n",
    "import numpy as np\n",
    "import pandas as pd\n",
    "import pymc3 as pm\n",
    "import seaborn as sns\n",
    "import warnings\n",
    "\n",
    "\n",
    "from scipy.stats import norm, binom\n",
    "\n",
    "warnings.filterwarnings('ignore')"
   ]
  },
  {
   "cell_type": "markdown",
   "id": "dying-likelihood",
   "metadata": {},
   "source": [
    "# Set up for code 7.25 onwards"
   ]
  },
  {
   "cell_type": "code",
   "execution_count": 2,
   "id": "catholic-stretch",
   "metadata": {},
   "outputs": [
    {
     "data": {
      "text/html": [
       "<div>\n",
       "<style scoped>\n",
       "    .dataframe tbody tr th:only-of-type {\n",
       "        vertical-align: middle;\n",
       "    }\n",
       "\n",
       "    .dataframe tbody tr th {\n",
       "        vertical-align: top;\n",
       "    }\n",
       "\n",
       "    .dataframe thead th {\n",
       "        text-align: right;\n",
       "    }\n",
       "</style>\n",
       "<table border=\"1\" class=\"dataframe\">\n",
       "  <thead>\n",
       "    <tr style=\"text-align: right;\">\n",
       "      <th></th>\n",
       "      <th>h0</th>\n",
       "      <th>h1</th>\n",
       "      <th>treatment</th>\n",
       "      <th>fungus</th>\n",
       "    </tr>\n",
       "  </thead>\n",
       "  <tbody>\n",
       "    <tr>\n",
       "      <th>count</th>\n",
       "      <td>100.000000</td>\n",
       "      <td>100.000000</td>\n",
       "      <td>100.000000</td>\n",
       "      <td>100.000000</td>\n",
       "    </tr>\n",
       "    <tr>\n",
       "      <th>mean</th>\n",
       "      <td>10.183928</td>\n",
       "      <td>14.455739</td>\n",
       "      <td>0.500000</td>\n",
       "      <td>0.250000</td>\n",
       "    </tr>\n",
       "    <tr>\n",
       "      <th>std</th>\n",
       "      <td>1.674588</td>\n",
       "      <td>2.336987</td>\n",
       "      <td>0.502519</td>\n",
       "      <td>0.435194</td>\n",
       "    </tr>\n",
       "    <tr>\n",
       "      <th>min</th>\n",
       "      <td>5.948804</td>\n",
       "      <td>6.854814</td>\n",
       "      <td>0.000000</td>\n",
       "      <td>0.000000</td>\n",
       "    </tr>\n",
       "    <tr>\n",
       "      <th>5.5%</th>\n",
       "      <td>7.329396</td>\n",
       "      <td>10.636379</td>\n",
       "      <td>0.000000</td>\n",
       "      <td>0.000000</td>\n",
       "    </tr>\n",
       "    <tr>\n",
       "      <th>50%</th>\n",
       "      <td>10.358716</td>\n",
       "      <td>14.822423</td>\n",
       "      <td>0.500000</td>\n",
       "      <td>0.000000</td>\n",
       "    </tr>\n",
       "    <tr>\n",
       "      <th>94.5%</th>\n",
       "      <td>12.728656</td>\n",
       "      <td>17.683920</td>\n",
       "      <td>1.000000</td>\n",
       "      <td>1.000000</td>\n",
       "    </tr>\n",
       "    <tr>\n",
       "      <th>max</th>\n",
       "      <td>14.602366</td>\n",
       "      <td>19.128090</td>\n",
       "      <td>1.000000</td>\n",
       "      <td>1.000000</td>\n",
       "    </tr>\n",
       "  </tbody>\n",
       "</table>\n",
       "</div>"
      ],
      "text/plain": [
       "               h0          h1   treatment      fungus\n",
       "count  100.000000  100.000000  100.000000  100.000000\n",
       "mean    10.183928   14.455739    0.500000    0.250000\n",
       "std      1.674588    2.336987    0.502519    0.435194\n",
       "min      5.948804    6.854814    0.000000    0.000000\n",
       "5.5%     7.329396   10.636379    0.000000    0.000000\n",
       "50%     10.358716   14.822423    0.500000    0.000000\n",
       "94.5%   12.728656   17.683920    1.000000    1.000000\n",
       "max     14.602366   19.128090    1.000000    1.000000"
      ]
     },
     "execution_count": 2,
     "metadata": {},
     "output_type": "execute_result"
    }
   ],
   "source": [
    "# number of plants\n",
    "N = 100\n",
    "\n",
    "# initial heights\n",
    "h0 = norm.rvs(loc=10, scale=2, size=N)\n",
    "\n",
    "# assign treatment and fungus growth\n",
    "treatment = np.zeros(N)\n",
    "treatment[N//2:] = 1\n",
    "\n",
    "# there is a 10% chance of fungus growth for the plants that have been treated; and 50% for those that haven't\n",
    "fungus = binom.rvs(n=1, p=0.5 - 0.4 * treatment, loc=0, size=N)\n",
    "\n",
    "# the mean height for plants without fungus is 10 + 5 = 15; for those with fungus: 10 + 2 = 12\n",
    "h1 = h0 + norm.rvs(loc=5 - 3 * fungus, scale=1, size=N)\n",
    "\n",
    "df = pd.DataFrame({'h0': h0, 'h1': h1, 'treatment': treatment, 'fungus': fungus})\n",
    "df.describe([0.055, 0.945])"
   ]
  },
  {
   "cell_type": "markdown",
   "id": "affecting-decimal",
   "metadata": {},
   "source": [
    "# Causal Diagram of Fungal Growth Simulation\n",
    "\n",
    "$$\n",
    "    H_0 \\rightarrow H_1 \\leftarrow F \\leftarrow T\n",
    "$$\n",
    "\n",
    "\n",
    "# Models M6.6, M6.7, M6.8 \n",
    "\n",
    "### Model M.6.6 \n",
    "\n",
    "$$\n",
    "\\begin{align*}\n",
    "    h_{1 i} & \\sim N(\\mu_i, \\sigma) \\\\\n",
    "    \\mu_i   & = h_{0 i} \\times p \\\\\n",
    "     p      & \\sim \\text{LogNormal}(0, 0.25)\n",
    "\\end{align*}\n",
    "$$\n",
    "\n",
    "### Model M6.7\n",
    "\n",
    "$$\n",
    "\\begin{align*}\n",
    "    h_{1 i} & \\sim N(\\mu_i, \\sigma) \\\\\n",
    "    \\mu_i   & = h_{0 i} \\times p \\\\\n",
    "    p       & = \\alpha + \\beta_T \\cdot T_i + \\beta_F \\cdot F_i \\\\\n",
    "    \\alpha  & \\sim \\text{LogNormal}(0, 0.25) \\\\\n",
    "    \\beta_T & \\sim N(0, 0.5) \\\\\n",
    "    \\beta_F & \\sim N(0, 0.5) \\\\\n",
    "    \\sigma  & \\sim \\text{Exponential}(1)\n",
    "\\end{align*}\n",
    "$$\n",
    "\n",
    "\n",
    "### Model M6.8\n",
    "\n",
    "$$\n",
    "\\begin{align*}\n",
    "    h_{1 i} & \\sim N(\\mu_i, \\sigma) \\\\\n",
    "    \\mu_i   & = h_{0 i} \\times p \\\\\n",
    "    p       & = \\alpha + \\beta_T \\cdot T_i \\\\\n",
    "    \\alpha  & \\sim \\text{LogNormal}(0, 0.25) \\\\\n",
    "    \\beta_T & \\sim N(0, 0.5) \\\\\n",
    "    \\sigma  & \\sim \\text{Exponential}(1)\n",
    "\\end{align*}\n",
    "$$"
   ]
  },
  {
   "cell_type": "code",
   "execution_count": 3,
   "id": "union-warning",
   "metadata": {},
   "outputs": [
    {
     "name": "stderr",
     "output_type": "stream",
     "text": [
      "Auto-assigning NUTS sampler...\n",
      "Initializing NUTS using jitter+adapt_diag...\n",
      "Multiprocess sampling (4 chains in 4 jobs)\n",
      "NUTS: [sigma, p]\n"
     ]
    },
    {
     "data": {
      "text/html": [
       "\n",
       "    <div>\n",
       "        <style>\n",
       "            /* Turns off some styling */\n",
       "            progress {\n",
       "                /* gets rid of default border in Firefox and Opera. */\n",
       "                border: none;\n",
       "                /* Needs to be in here for Safari polyfill so background images work as expected. */\n",
       "                background-size: auto;\n",
       "            }\n",
       "            .progress-bar-interrupted, .progress-bar-interrupted::-webkit-progress-bar {\n",
       "                background: #F44336;\n",
       "            }\n",
       "        </style>\n",
       "      <progress value='16000' class='' max='16000' style='width:300px; height:20px; vertical-align: middle;'></progress>\n",
       "      100.00% [16000/16000 00:04<00:00 Sampling 4 chains, 0 divergences]\n",
       "    </div>\n",
       "    "
      ],
      "text/plain": [
       "<IPython.core.display.HTML object>"
      ]
     },
     "metadata": {},
     "output_type": "display_data"
    },
    {
     "name": "stderr",
     "output_type": "stream",
     "text": [
      "Sampling 4 chains for 2_000 tune and 2_000 draw iterations (8_000 + 8_000 draws total) took 6 seconds.\n",
      "Auto-assigning NUTS sampler...\n",
      "Initializing NUTS using jitter+adapt_diag...\n",
      "Multiprocess sampling (4 chains in 4 jobs)\n",
      "NUTS: [sigma, b_F, b_T, a]\n"
     ]
    },
    {
     "data": {
      "text/html": [
       "\n",
       "    <div>\n",
       "        <style>\n",
       "            /* Turns off some styling */\n",
       "            progress {\n",
       "                /* gets rid of default border in Firefox and Opera. */\n",
       "                border: none;\n",
       "                /* Needs to be in here for Safari polyfill so background images work as expected. */\n",
       "                background-size: auto;\n",
       "            }\n",
       "            .progress-bar-interrupted, .progress-bar-interrupted::-webkit-progress-bar {\n",
       "                background: #F44336;\n",
       "            }\n",
       "        </style>\n",
       "      <progress value='16000' class='' max='16000' style='width:300px; height:20px; vertical-align: middle;'></progress>\n",
       "      100.00% [16000/16000 00:11<00:00 Sampling 4 chains, 0 divergences]\n",
       "    </div>\n",
       "    "
      ],
      "text/plain": [
       "<IPython.core.display.HTML object>"
      ]
     },
     "metadata": {},
     "output_type": "display_data"
    },
    {
     "name": "stderr",
     "output_type": "stream",
     "text": [
      "Sampling 4 chains for 2_000 tune and 2_000 draw iterations (8_000 + 8_000 draws total) took 12 seconds.\n",
      "Auto-assigning NUTS sampler...\n",
      "Initializing NUTS using jitter+adapt_diag...\n",
      "Multiprocess sampling (4 chains in 4 jobs)\n",
      "NUTS: [sigma, b_T, a]\n"
     ]
    },
    {
     "data": {
      "text/html": [
       "\n",
       "    <div>\n",
       "        <style>\n",
       "            /* Turns off some styling */\n",
       "            progress {\n",
       "                /* gets rid of default border in Firefox and Opera. */\n",
       "                border: none;\n",
       "                /* Needs to be in here for Safari polyfill so background images work as expected. */\n",
       "                background-size: auto;\n",
       "            }\n",
       "            .progress-bar-interrupted, .progress-bar-interrupted::-webkit-progress-bar {\n",
       "                background: #F44336;\n",
       "            }\n",
       "        </style>\n",
       "      <progress value='16000' class='' max='16000' style='width:300px; height:20px; vertical-align: middle;'></progress>\n",
       "      100.00% [16000/16000 00:12<00:00 Sampling 4 chains, 0 divergences]\n",
       "    </div>\n",
       "    "
      ],
      "text/plain": [
       "<IPython.core.display.HTML object>"
      ]
     },
     "metadata": {},
     "output_type": "display_data"
    },
    {
     "name": "stderr",
     "output_type": "stream",
     "text": [
      "Sampling 4 chains for 2_000 tune and 2_000 draw iterations (8_000 + 8_000 draws total) took 13 seconds.\n"
     ]
    }
   ],
   "source": [
    "with pm.Model() as m_6_6:\n",
    "    p = pm.Lognormal('p', mu=0, sigma=0.25)\n",
    "    sigma = pm.Exponential('sigma', lam=1)\n",
    "    \n",
    "    mu = pm.Deterministic('mu', df['h0'].values * p)\n",
    "    h1 = pm.Normal('h1', mu=mu, sigma=sigma, observed=df['h1'])\n",
    "    \n",
    "    trace_6_6 = pm.sample(2000, tune=2000)\n",
    "    \n",
    "with pm.Model() as m_6_7:\n",
    "    a = pm.Lognormal('a', mu=0, sigma=0.25)\n",
    "    b_T = pm.Normal('b_T', mu=0, sigma=0.5)\n",
    "    b_F = pm.Normal('b_F', mu=0, sigma=0.5)\n",
    "    sigma = pm.Exponential('sigma', lam=1)\n",
    "    \n",
    "    p = a + b_T * df['treatment'] + b_F * df['fungus']\n",
    "    mu = pm.Deterministic('mu', df['h0'].values * p)\n",
    "    h1 = pm.Normal('h1', mu=mu, sigma=sigma, observed=df['h1'])\n",
    "    \n",
    "    trace_6_7 = pm.sample(2000, tune=2000)\n",
    "    \n",
    "with pm.Model() as m_6_8:\n",
    "    a = pm.Lognormal('a', mu=0, sigma=0.25)\n",
    "    b_T = pm.Normal('b_T', mu=0, sigma=0.5)\n",
    "    sigma = pm.Exponential('sigma', lam=1)\n",
    "    \n",
    "    p = a + b_T * df['treatment']\n",
    "    mu = pm.Deterministic('mu', df['h0'].values * p)\n",
    "    h1 = pm.Normal('h1', mu=mu, sigma=sigma, observed=df['h1'])\n",
    "    \n",
    "    trace_6_8 = pm.sample(2000, tune=2000)"
   ]
  },
  {
   "cell_type": "markdown",
   "id": "upset-clark",
   "metadata": {},
   "source": [
    "### Code. 7.25"
   ]
  },
  {
   "cell_type": "code",
   "execution_count": 4,
   "id": "united-portugal",
   "metadata": {},
   "outputs": [
    {
     "data": {
      "text/plain": [
       "Computed from 8000 by 100 log-likelihood matrix\n",
       "\n",
       "              Estimate       SE\n",
       "deviance_waic   313.77    14.77\n",
       "p_waic            3.98        -"
      ]
     },
     "execution_count": 4,
     "metadata": {},
     "output_type": "execute_result"
    }
   ],
   "source": [
    "az.waic(trace_6_7, m_6_7, scale='deviance')"
   ]
  },
  {
   "cell_type": "markdown",
   "id": "oriented-interface",
   "metadata": {},
   "source": [
    "### Code 7.26"
   ]
  },
  {
   "cell_type": "code",
   "execution_count": 5,
   "id": "marked-tracker",
   "metadata": {},
   "outputs": [
    {
     "data": {
      "text/html": [
       "<div>\n",
       "<style scoped>\n",
       "    .dataframe tbody tr th:only-of-type {\n",
       "        vertical-align: middle;\n",
       "    }\n",
       "\n",
       "    .dataframe tbody tr th {\n",
       "        vertical-align: top;\n",
       "    }\n",
       "\n",
       "    .dataframe thead th {\n",
       "        text-align: right;\n",
       "    }\n",
       "</style>\n",
       "<table border=\"1\" class=\"dataframe\">\n",
       "  <thead>\n",
       "    <tr style=\"text-align: right;\">\n",
       "      <th></th>\n",
       "      <th>rank</th>\n",
       "      <th>waic</th>\n",
       "      <th>p_waic</th>\n",
       "      <th>d_waic</th>\n",
       "      <th>weight</th>\n",
       "      <th>se</th>\n",
       "      <th>dse</th>\n",
       "      <th>warning</th>\n",
       "      <th>waic_scale</th>\n",
       "    </tr>\n",
       "  </thead>\n",
       "  <tbody>\n",
       "    <tr>\n",
       "      <th>m_6_7</th>\n",
       "      <td>0</td>\n",
       "      <td>313.766704</td>\n",
       "      <td>3.975085</td>\n",
       "      <td>0.000000</td>\n",
       "      <td>1.000000e+00</td>\n",
       "      <td>14.766166</td>\n",
       "      <td>0.000000</td>\n",
       "      <td>False</td>\n",
       "      <td>deviance</td>\n",
       "    </tr>\n",
       "    <tr>\n",
       "      <th>m_6_8</th>\n",
       "      <td>1</td>\n",
       "      <td>363.181054</td>\n",
       "      <td>2.772071</td>\n",
       "      <td>49.414350</td>\n",
       "      <td>9.728329e-13</td>\n",
       "      <td>12.226023</td>\n",
       "      <td>11.804060</td>\n",
       "      <td>False</td>\n",
       "      <td>deviance</td>\n",
       "    </tr>\n",
       "    <tr>\n",
       "      <th>m_6_6</th>\n",
       "      <td>2</td>\n",
       "      <td>375.137368</td>\n",
       "      <td>2.012356</td>\n",
       "      <td>61.370664</td>\n",
       "      <td>0.000000e+00</td>\n",
       "      <td>14.591780</td>\n",
       "      <td>14.289452</td>\n",
       "      <td>False</td>\n",
       "      <td>deviance</td>\n",
       "    </tr>\n",
       "  </tbody>\n",
       "</table>\n",
       "</div>"
      ],
      "text/plain": [
       "       rank        waic    p_waic     d_waic        weight         se  \\\n",
       "m_6_7     0  313.766704  3.975085   0.000000  1.000000e+00  14.766166   \n",
       "m_6_8     1  363.181054  2.772071  49.414350  9.728329e-13  12.226023   \n",
       "m_6_6     2  375.137368  2.012356  61.370664  0.000000e+00  14.591780   \n",
       "\n",
       "             dse  warning waic_scale  \n",
       "m_6_7   0.000000    False   deviance  \n",
       "m_6_8  11.804060    False   deviance  \n",
       "m_6_6  14.289452    False   deviance  "
      ]
     },
     "execution_count": 5,
     "metadata": {},
     "output_type": "execute_result"
    }
   ],
   "source": [
    "trace_dict = {'m_6_6': trace_6_6, \n",
    "              'm_6_7': trace_6_7, \n",
    "              'm_6_8': trace_6_8}\n",
    "\n",
    "compare_dict = az.compare(trace_dict, ic='waic', scale='deviance')\n",
    "compare_dict"
   ]
  },
  {
   "cell_type": "markdown",
   "id": "fantastic-perspective",
   "metadata": {},
   "source": [
    "### Explanation of column names\n",
    "\n",
    "* p_waic: the WAIC penalty\n",
    "* d_waic: the difference of each WAIC from best model (the one with lowest WAIC value)\n",
    "* weight: the relative weight of each model. This can be interpreted as the probability of each model given the data.\n",
    "* se: the standard error of the WAIC estimates\n",
    "* dse: the standard error of the difference between the model and the top-ranked model."
   ]
  },
  {
   "cell_type": "markdown",
   "id": "checked-musician",
   "metadata": {},
   "source": [
    "## Computing the dse manually\n",
    "\n",
    "### Code 7.27"
   ]
  },
  {
   "cell_type": "code",
   "execution_count": 6,
   "id": "proprietary-edition",
   "metadata": {},
   "outputs": [
    {
     "data": {
      "text/plain": [
       "array(11.80406033)"
      ]
     },
     "execution_count": 6,
     "metadata": {},
     "output_type": "execute_result"
    }
   ],
   "source": [
    "waic_6_7 = az.waic(trace_6_7, pointwise=True, scale='deviance')\n",
    "waic_6_8 = az.waic(trace_6_8, pointwise=True, scale='deviance')\n",
    "\n",
    "diff = waic_6_7.waic_i - waic_6_8.waic_i\n",
    "n = len(diff)\n",
    "\n",
    "dse = np.sqrt(n * np.var(diff)).values\n",
    "dse"
   ]
  },
  {
   "cell_type": "code",
   "execution_count": 7,
   "id": "hollow-secretary",
   "metadata": {},
   "outputs": [
    {
     "data": {
      "text/plain": [
       "2.5758293035489004"
      ]
     },
     "execution_count": 7,
     "metadata": {},
     "output_type": "execute_result"
    }
   ],
   "source": [
    "from scipy.stats import norm\n",
    "\n",
    "\n",
    "# the 99% interval for a standard normal\n",
    "\n",
    "norm.ppf(q=0.995, loc=0, scale=1)"
   ]
  },
  {
   "cell_type": "markdown",
   "id": "alien-medicaid",
   "metadata": {},
   "source": [
    "### Code 7.28"
   ]
  },
  {
   "cell_type": "code",
   "execution_count": 8,
   "id": "stupid-occasion",
   "metadata": {},
   "outputs": [
    {
     "data": {
      "text/plain": [
       "array([18.72379296, 80.1049067 ])"
      ]
     },
     "execution_count": 8,
     "metadata": {},
     "output_type": "execute_result"
    }
   ],
   "source": [
    "waic_diff = waic_6_8.waic - waic_6_7.waic\n",
    "\n",
    "waic_diff + np.array([-1, 1]) * dse * 2.6"
   ]
  },
  {
   "cell_type": "markdown",
   "id": "coastal-sentence",
   "metadata": {},
   "source": [
    "### Code 7.29"
   ]
  },
  {
   "cell_type": "code",
   "execution_count": 9,
   "id": "integral-index",
   "metadata": {},
   "outputs": [
    {
     "data": {
      "text/plain": [
       "<AxesSubplot:xlabel='Deviance'>"
      ]
     },
     "execution_count": 9,
     "metadata": {},
     "output_type": "execute_result"
    },
    {
     "data": {
      "image/png": "[encoded data removed]",
      "text/plain": [
       "<Figure size 432x216 with 1 Axes>"
      ]
     },
     "metadata": {
      "needs_background": "light"
     },
     "output_type": "display_data"
    }
   ],
   "source": [
    "az.plot_compare(compare_dict)"
   ]
  },
  {
   "cell_type": "code",
   "execution_count": 10,
   "id": "correct-equilibrium",
   "metadata": {},
   "outputs": [
    {
     "data": {
      "text/html": [
       "<div>\n",
       "<style scoped>\n",
       "    .dataframe tbody tr th:only-of-type {\n",
       "        vertical-align: middle;\n",
       "    }\n",
       "\n",
       "    .dataframe tbody tr th {\n",
       "        vertical-align: top;\n",
       "    }\n",
       "\n",
       "    .dataframe thead th {\n",
       "        text-align: right;\n",
       "    }\n",
       "</style>\n",
       "<table border=\"1\" class=\"dataframe\">\n",
       "  <thead>\n",
       "    <tr style=\"text-align: right;\">\n",
       "      <th></th>\n",
       "      <th>mean</th>\n",
       "      <th>sd</th>\n",
       "      <th>hdi_3%</th>\n",
       "      <th>hdi_97%</th>\n",
       "      <th>mcse_mean</th>\n",
       "      <th>mcse_sd</th>\n",
       "      <th>ess_bulk</th>\n",
       "      <th>ess_tail</th>\n",
       "      <th>r_hat</th>\n",
       "    </tr>\n",
       "  </thead>\n",
       "  <tbody>\n",
       "    <tr>\n",
       "      <th>a</th>\n",
       "      <td>1.358</td>\n",
       "      <td>0.020</td>\n",
       "      <td>1.321</td>\n",
       "      <td>1.395</td>\n",
       "      <td>0.000</td>\n",
       "      <td>0.000</td>\n",
       "      <td>4076.0</td>\n",
       "      <td>4721.0</td>\n",
       "      <td>1.0</td>\n",
       "    </tr>\n",
       "    <tr>\n",
       "      <th>b_T</th>\n",
       "      <td>0.109</td>\n",
       "      <td>0.028</td>\n",
       "      <td>0.055</td>\n",
       "      <td>0.161</td>\n",
       "      <td>0.000</td>\n",
       "      <td>0.000</td>\n",
       "      <td>3791.0</td>\n",
       "      <td>4527.0</td>\n",
       "      <td>1.0</td>\n",
       "    </tr>\n",
       "    <tr>\n",
       "      <th>sigma</th>\n",
       "      <td>1.463</td>\n",
       "      <td>0.105</td>\n",
       "      <td>1.268</td>\n",
       "      <td>1.657</td>\n",
       "      <td>0.001</td>\n",
       "      <td>0.001</td>\n",
       "      <td>4956.0</td>\n",
       "      <td>3881.0</td>\n",
       "      <td>1.0</td>\n",
       "    </tr>\n",
       "  </tbody>\n",
       "</table>\n",
       "</div>"
      ],
      "text/plain": [
       "        mean     sd  hdi_3%  hdi_97%  mcse_mean  mcse_sd  ess_bulk  ess_tail  \\\n",
       "a      1.358  0.020   1.321    1.395      0.000    0.000    4076.0    4721.0   \n",
       "b_T    0.109  0.028   0.055    0.161      0.000    0.000    3791.0    4527.0   \n",
       "sigma  1.463  0.105   1.268    1.657      0.001    0.001    4956.0    3881.0   \n",
       "\n",
       "       r_hat  \n",
       "a        1.0  \n",
       "b_T      1.0  \n",
       "sigma    1.0  "
      ]
     },
     "execution_count": 10,
     "metadata": {},
     "output_type": "execute_result"
    }
   ],
   "source": [
    "az.summary(trace_6_8, var_names=['a', 'b_T', 'sigma'])"
   ]
  },
  {
   "cell_type": "markdown",
   "id": "charitable-woman",
   "metadata": {},
   "source": [
    "### Code 7.30"
   ]
  },
  {
   "cell_type": "code",
   "execution_count": 11,
   "id": "generous-founder",
   "metadata": {},
   "outputs": [
    {
     "data": {
      "text/plain": [
       "6.504006734093686"
      ]
     },
     "execution_count": 11,
     "metadata": {},
     "output_type": "execute_result"
    }
   ],
   "source": [
    "waic_6_6 = az.waic(trace_6_6, pointwise=True, scale='deviance')\n",
    "\n",
    "diff_m6_6_m6_8 = (waic_6_6.waic_i - waic_6_8.waic_i).values\n",
    "\n",
    "n = len(diff_m6_6_m6_8)\n",
    "np.sqrt(n * np.var(diff_m6_6_m6_8))"
   ]
  },
  {
   "cell_type": "markdown",
   "id": "municipal-macro",
   "metadata": {},
   "source": [
    "### Code 7.31"
   ]
  },
  {
   "cell_type": "code",
   "execution_count": 12,
   "id": "demanding-pierce",
   "metadata": {},
   "outputs": [],
   "source": [
    "waic_6_6 = az.waic(trace_6_6, pointwise=True, scale='deviance')\n",
    "waic_6_7 = az.waic(trace_6_7, pointwise=True, scale='deviance')\n",
    "waic_6_8 = az.waic(trace_6_8, pointwise=True, scale='deviance')\n",
    "\n",
    "waic_list = [waic_6_6, waic_6_7, waic_6_8]\n",
    "dse_matrix = np.zeros((3, 3))\n",
    "\n",
    "start = 0\n",
    "\n",
    "while start < len(waic_list):\n",
    "    for w in range(start, len(waic_list)):\n",
    "        d = (waic_list[start].waic_i - waic_list[w].waic_i).values\n",
    "        n = len(d)\n",
    "        dse_matrix[start, w] = np.sqrt(n * np.var(d))\n",
    "    start += 1\n",
    "\n",
    "i_lower = np.tril_indices(3, -1)\n",
    "dse_matrix[i_lower] = dse_matrix.T[i_lower]\n",
    "\n",
    "dse_df = pd.DataFrame(dse_matrix, columns=['m_6_6', 'm_6_7', 'm_6_8'], index=['m_6_6', 'm_6_7', 'm_6_8'])"
   ]
  },
  {
   "cell_type": "code",
   "execution_count": 13,
   "id": "objective-delight",
   "metadata": {},
   "outputs": [
    {
     "data": {
      "text/html": [
       "<div>\n",
       "<style scoped>\n",
       "    .dataframe tbody tr th:only-of-type {\n",
       "        vertical-align: middle;\n",
       "    }\n",
       "\n",
       "    .dataframe tbody tr th {\n",
       "        vertical-align: top;\n",
       "    }\n",
       "\n",
       "    .dataframe thead th {\n",
       "        text-align: right;\n",
       "    }\n",
       "</style>\n",
       "<table border=\"1\" class=\"dataframe\">\n",
       "  <thead>\n",
       "    <tr style=\"text-align: right;\">\n",
       "      <th></th>\n",
       "      <th>m_6_6</th>\n",
       "      <th>m_6_7</th>\n",
       "      <th>m_6_8</th>\n",
       "    </tr>\n",
       "  </thead>\n",
       "  <tbody>\n",
       "    <tr>\n",
       "      <th>m_6_6</th>\n",
       "      <td>0.000000</td>\n",
       "      <td>14.289452</td>\n",
       "      <td>6.504007</td>\n",
       "    </tr>\n",
       "    <tr>\n",
       "      <th>m_6_7</th>\n",
       "      <td>14.289452</td>\n",
       "      <td>0.000000</td>\n",
       "      <td>11.804060</td>\n",
       "    </tr>\n",
       "    <tr>\n",
       "      <th>m_6_8</th>\n",
       "      <td>6.504007</td>\n",
       "      <td>11.804060</td>\n",
       "      <td>0.000000</td>\n",
       "    </tr>\n",
       "  </tbody>\n",
       "</table>\n",
       "</div>"
      ],
      "text/plain": [
       "           m_6_6      m_6_7      m_6_8\n",
       "m_6_6   0.000000  14.289452   6.504007\n",
       "m_6_7  14.289452   0.000000  11.804060\n",
       "m_6_8   6.504007  11.804060   0.000000"
      ]
     },
     "execution_count": 13,
     "metadata": {},
     "output_type": "execute_result"
    }
   ],
   "source": [
    "dse_df"
   ]
  },
  {
   "cell_type": "code",
   "execution_count": 14,
   "id": "lesser-amsterdam",
   "metadata": {},
   "outputs": [],
   "source": [
    "from typing import Dict\n",
    "\n",
    "\n",
    "def dse_compare(trace_dict: Dict[str, pm.backends.base.MultiTrace]):\n",
    "    waic_list = []\n",
    "    columns = []\n",
    "    \n",
    "    for model_name, trace in trace_dict.items():\n",
    "        waic = az.waic(trace, pointwise=True, scale='deviance')\n",
    "        waic_list.append(waic)\n",
    "        columns.append(model_name)\n",
    "        \n",
    "    num_models = len(columns) \n",
    "    dse_matrix = np.zeros((num_models, num_models))\n",
    "\n",
    "    start = 0\n",
    "\n",
    "    while start < len(waic_list):\n",
    "        for w in range(start, len(waic_list)):\n",
    "            d = (waic_list[start].waic_i - waic_list[w].waic_i).values\n",
    "            n = len(d)\n",
    "            dse_matrix[start, w] = np.sqrt(n * np.var(d))\n",
    "        start += 1\n",
    "\n",
    "    i_lower = np.tril_indices(num_models, -1)\n",
    "    dse_matrix[i_lower] = dse_matrix.T[i_lower]\n",
    "\n",
    "    dse_df = pd.DataFrame(dse_matrix, columns=columns, index=columns)\n",
    "    return dse_df"
   ]
  },
  {
   "cell_type": "code",
   "execution_count": 15,
   "id": "acknowledged-ethics",
   "metadata": {},
   "outputs": [
    {
     "data": {
      "text/html": [
       "<div>\n",
       "<style scoped>\n",
       "    .dataframe tbody tr th:only-of-type {\n",
       "        vertical-align: middle;\n",
       "    }\n",
       "\n",
       "    .dataframe tbody tr th {\n",
       "        vertical-align: top;\n",
       "    }\n",
       "\n",
       "    .dataframe thead th {\n",
       "        text-align: right;\n",
       "    }\n",
       "</style>\n",
       "<table border=\"1\" class=\"dataframe\">\n",
       "  <thead>\n",
       "    <tr style=\"text-align: right;\">\n",
       "      <th></th>\n",
       "      <th>m_6_6</th>\n",
       "      <th>m_6_7</th>\n",
       "      <th>m_6_8</th>\n",
       "    </tr>\n",
       "  </thead>\n",
       "  <tbody>\n",
       "    <tr>\n",
       "      <th>m_6_6</th>\n",
       "      <td>0.000000</td>\n",
       "      <td>14.289452</td>\n",
       "      <td>6.504007</td>\n",
       "    </tr>\n",
       "    <tr>\n",
       "      <th>m_6_7</th>\n",
       "      <td>14.289452</td>\n",
       "      <td>0.000000</td>\n",
       "      <td>11.804060</td>\n",
       "    </tr>\n",
       "    <tr>\n",
       "      <th>m_6_8</th>\n",
       "      <td>6.504007</td>\n",
       "      <td>11.804060</td>\n",
       "      <td>0.000000</td>\n",
       "    </tr>\n",
       "  </tbody>\n",
       "</table>\n",
       "</div>"
      ],
      "text/plain": [
       "           m_6_6      m_6_7      m_6_8\n",
       "m_6_6   0.000000  14.289452   6.504007\n",
       "m_6_7  14.289452   0.000000  11.804060\n",
       "m_6_8   6.504007  11.804060   0.000000"
      ]
     },
     "execution_count": 15,
     "metadata": {},
     "output_type": "execute_result"
    }
   ],
   "source": [
    "dse_compare(trace_dict)"
   ]
  },
  {
   "cell_type": "markdown",
   "id": "aerial-climb",
   "metadata": {},
   "source": [
    "# Setup for Code 7.32 Onwards"
   ]
  },
  {
   "cell_type": "code",
   "execution_count": 16,
   "id": "photographic-carol",
   "metadata": {},
   "outputs": [],
   "source": [
    "WAFFLE_DATA = 'waffle_divorce.csv'\n",
    "DATA_FOLDER = '../../data'\n",
    "\n",
    "df_waf = pd.read_csv(f'{DATA_FOLDER}/{WAFFLE_DATA}')\n",
    "df_waf['age_stan'] = (df_waf['MedianAgeMarriage'] - df_waf['MedianAgeMarriage'].mean()) / df_waf['MedianAgeMarriage'].std()\n",
    "df_waf['divorce_stan'] = (df_waf['Divorce'] - df_waf['Divorce'].mean()) / df_waf['Divorce'].std()\n",
    "df_waf['marriage_stan'] = (df_waf['Marriage'] - df_waf['Marriage'].mean()) /df_waf['Marriage'].std()"
   ]
  },
  {
   "cell_type": "code",
   "execution_count": 17,
   "id": "floppy-regular",
   "metadata": {},
   "outputs": [
    {
     "name": "stderr",
     "output_type": "stream",
     "text": [
      "Auto-assigning NUTS sampler...\n",
      "Initializing NUTS using jitter+adapt_diag...\n",
      "Multiprocess sampling (4 chains in 4 jobs)\n",
      "NUTS: [sigma, b_A, a]\n"
     ]
    },
    {
     "data": {
      "text/html": [
       "\n",
       "    <div>\n",
       "        <style>\n",
       "            /* Turns off some styling */\n",
       "            progress {\n",
       "                /* gets rid of default border in Firefox and Opera. */\n",
       "                border: none;\n",
       "                /* Needs to be in here for Safari polyfill so background images work as expected. */\n",
       "                background-size: auto;\n",
       "            }\n",
       "            .progress-bar-interrupted, .progress-bar-interrupted::-webkit-progress-bar {\n",
       "                background: #F44336;\n",
       "            }\n",
       "        </style>\n",
       "      <progress value='12000' class='' max='12000' style='width:300px; height:20px; vertical-align: middle;'></progress>\n",
       "      100.00% [12000/12000 00:04<00:00 Sampling 4 chains, 0 divergences]\n",
       "    </div>\n",
       "    "
      ],
      "text/plain": [
       "<IPython.core.display.HTML object>"
      ]
     },
     "metadata": {},
     "output_type": "display_data"
    },
    {
     "name": "stderr",
     "output_type": "stream",
     "text": [
      "Sampling 4 chains for 2_000 tune and 1_000 draw iterations (8_000 + 4_000 draws total) took 5 seconds.\n",
      "Auto-assigning NUTS sampler...\n",
      "Initializing NUTS using jitter+adapt_diag...\n",
      "Multiprocess sampling (4 chains in 4 jobs)\n",
      "NUTS: [sigma, b_M, a]\n"
     ]
    },
    {
     "data": {
      "text/html": [
       "\n",
       "    <div>\n",
       "        <style>\n",
       "            /* Turns off some styling */\n",
       "            progress {\n",
       "                /* gets rid of default border in Firefox and Opera. */\n",
       "                border: none;\n",
       "                /* Needs to be in here for Safari polyfill so background images work as expected. */\n",
       "                background-size: auto;\n",
       "            }\n",
       "            .progress-bar-interrupted, .progress-bar-interrupted::-webkit-progress-bar {\n",
       "                background: #F44336;\n",
       "            }\n",
       "        </style>\n",
       "      <progress value='12000' class='' max='12000' style='width:300px; height:20px; vertical-align: middle;'></progress>\n",
       "      100.00% [12000/12000 00:07<00:00 Sampling 4 chains, 0 divergences]\n",
       "    </div>\n",
       "    "
      ],
      "text/plain": [
       "<IPython.core.display.HTML object>"
      ]
     },
     "metadata": {},
     "output_type": "display_data"
    },
    {
     "name": "stderr",
     "output_type": "stream",
     "text": [
      "Sampling 4 chains for 2_000 tune and 1_000 draw iterations (8_000 + 4_000 draws total) took 8 seconds.\n",
      "Auto-assigning NUTS sampler...\n",
      "Initializing NUTS using jitter+adapt_diag...\n",
      "Multiprocess sampling (4 chains in 4 jobs)\n",
      "NUTS: [sigma, b_M, b_A, a]\n"
     ]
    },
    {
     "data": {
      "text/html": [
       "\n",
       "    <div>\n",
       "        <style>\n",
       "            /* Turns off some styling */\n",
       "            progress {\n",
       "                /* gets rid of default border in Firefox and Opera. */\n",
       "                border: none;\n",
       "                /* Needs to be in here for Safari polyfill so background images work as expected. */\n",
       "                background-size: auto;\n",
       "            }\n",
       "            .progress-bar-interrupted, .progress-bar-interrupted::-webkit-progress-bar {\n",
       "                background: #F44336;\n",
       "            }\n",
       "        </style>\n",
       "      <progress value='12000' class='' max='12000' style='width:300px; height:20px; vertical-align: middle;'></progress>\n",
       "      100.00% [12000/12000 00:05<00:00 Sampling 4 chains, 0 divergences]\n",
       "    </div>\n",
       "    "
      ],
      "text/plain": [
       "<IPython.core.display.HTML object>"
      ]
     },
     "metadata": {},
     "output_type": "display_data"
    },
    {
     "name": "stderr",
     "output_type": "stream",
     "text": [
      "Sampling 4 chains for 2_000 tune and 1_000 draw iterations (8_000 + 4_000 draws total) took 6 seconds.\n"
     ]
    }
   ],
   "source": [
    "with pm.Model() as m_5_1:\n",
    "    a = pm.Normal('a', mu=0.0, sigma=0.2)\n",
    "    b_A = pm.Normal('b_A', mu=0.0, sigma=0.5)\n",
    "    sigma = pm.Exponential('sigma', lam=1.0)\n",
    "    \n",
    "    mu = pm.Deterministic('mu', a + b_A * df_waf['age_stan'])\n",
    "    D = pm.Normal('D', mu=mu, sigma=sigma, observed=df_waf['divorce_stan'])\n",
    "    \n",
    "    trace_5_1 = pm.sample(1000, tune=2000)\n",
    "\n",
    "    \n",
    "with pm.Model() as m_5_2:\n",
    "    a = pm.Normal('a', mu=0.0, sigma=0.2)\n",
    "    b_M = pm.Normal('b_M', mu=0.0, sigma=0.5)\n",
    "    sigma = pm.Exponential('sigma', lam=1.0)\n",
    "    \n",
    "    mu = pm.Deterministic('mu', a + b_M * df_waf['marriage_stan'])\n",
    "    D = pm.Normal('D', mu=mu, sigma=sigma, observed=df_waf['divorce_stan'])\n",
    "    \n",
    "    trace_5_2 = pm.sample(1000, tune=2000)\n",
    "\n",
    "    \n",
    "with pm.Model() as m_5_3:\n",
    "    a = pm.Normal('a', mu=0.0, sigma=0.2)\n",
    "    b_A = pm.Normal('b_A', mu=0.0, sigma=0.5)\n",
    "    b_M = pm.Normal('b_M', mu=0.0, sigma=0.5)\n",
    "    sigma = pm.Exponential('sigma', lam=1.0)\n",
    "    \n",
    "    mu = pm.Deterministic('mu', a + b_A * df_waf['age_stan'] + b_M * df_waf['marriage_stan'])\n",
    "    D = pm.Normal('D', mu=mu, sigma=sigma, observed=df_waf['divorce_stan'])\n",
    "    \n",
    "    trace_5_3 = pm.sample(1000, tune=2000)"
   ]
  },
  {
   "cell_type": "code",
   "execution_count": 18,
   "id": "minus-navigation",
   "metadata": {},
   "outputs": [
    {
     "data": {
      "text/html": [
       "<div>\n",
       "<style scoped>\n",
       "    .dataframe tbody tr th:only-of-type {\n",
       "        vertical-align: middle;\n",
       "    }\n",
       "\n",
       "    .dataframe tbody tr th {\n",
       "        vertical-align: top;\n",
       "    }\n",
       "\n",
       "    .dataframe thead th {\n",
       "        text-align: right;\n",
       "    }\n",
       "</style>\n",
       "<table border=\"1\" class=\"dataframe\">\n",
       "  <thead>\n",
       "    <tr style=\"text-align: right;\">\n",
       "      <th></th>\n",
       "      <th>mean</th>\n",
       "      <th>sd</th>\n",
       "      <th>hdi_5.5%</th>\n",
       "      <th>hdi_94.5%</th>\n",
       "      <th>mcse_mean</th>\n",
       "      <th>mcse_sd</th>\n",
       "      <th>ess_bulk</th>\n",
       "      <th>ess_tail</th>\n",
       "      <th>r_hat</th>\n",
       "    </tr>\n",
       "  </thead>\n",
       "  <tbody>\n",
       "    <tr>\n",
       "      <th>a</th>\n",
       "      <td>-0.000</td>\n",
       "      <td>0.101</td>\n",
       "      <td>-0.159</td>\n",
       "      <td>0.158</td>\n",
       "      <td>0.002</td>\n",
       "      <td>0.002</td>\n",
       "      <td>4357.0</td>\n",
       "      <td>2977.0</td>\n",
       "      <td>1.0</td>\n",
       "    </tr>\n",
       "    <tr>\n",
       "      <th>b_A</th>\n",
       "      <td>-0.565</td>\n",
       "      <td>0.114</td>\n",
       "      <td>-0.744</td>\n",
       "      <td>-0.382</td>\n",
       "      <td>0.002</td>\n",
       "      <td>0.001</td>\n",
       "      <td>5023.0</td>\n",
       "      <td>2878.0</td>\n",
       "      <td>1.0</td>\n",
       "    </tr>\n",
       "    <tr>\n",
       "      <th>sigma</th>\n",
       "      <td>0.823</td>\n",
       "      <td>0.088</td>\n",
       "      <td>0.682</td>\n",
       "      <td>0.954</td>\n",
       "      <td>0.001</td>\n",
       "      <td>0.001</td>\n",
       "      <td>5411.0</td>\n",
       "      <td>3069.0</td>\n",
       "      <td>1.0</td>\n",
       "    </tr>\n",
       "  </tbody>\n",
       "</table>\n",
       "</div>"
      ],
      "text/plain": [
       "        mean     sd  hdi_5.5%  hdi_94.5%  mcse_mean  mcse_sd  ess_bulk  \\\n",
       "a     -0.000  0.101    -0.159      0.158      0.002    0.002    4357.0   \n",
       "b_A   -0.565  0.114    -0.744     -0.382      0.002    0.001    5023.0   \n",
       "sigma  0.823  0.088     0.682      0.954      0.001    0.001    5411.0   \n",
       "\n",
       "       ess_tail  r_hat  \n",
       "a        2977.0    1.0  \n",
       "b_A      2878.0    1.0  \n",
       "sigma    3069.0    1.0  "
      ]
     },
     "execution_count": 18,
     "metadata": {},
     "output_type": "execute_result"
    }
   ],
   "source": [
    "az.summary(trace_5_1, var_names=['a', 'b_A', 'sigma'], hdi_prob=0.89)"
   ]
  },
  {
   "cell_type": "code",
   "execution_count": 19,
   "id": "bright-triumph",
   "metadata": {},
   "outputs": [
    {
     "data": {
      "text/html": [
       "<div>\n",
       "<style scoped>\n",
       "    .dataframe tbody tr th:only-of-type {\n",
       "        vertical-align: middle;\n",
       "    }\n",
       "\n",
       "    .dataframe tbody tr th {\n",
       "        vertical-align: top;\n",
       "    }\n",
       "\n",
       "    .dataframe thead th {\n",
       "        text-align: right;\n",
       "    }\n",
       "</style>\n",
       "<table border=\"1\" class=\"dataframe\">\n",
       "  <thead>\n",
       "    <tr style=\"text-align: right;\">\n",
       "      <th></th>\n",
       "      <th>mean</th>\n",
       "      <th>sd</th>\n",
       "      <th>hdi_5.5%</th>\n",
       "      <th>hdi_94.5%</th>\n",
       "      <th>mcse_mean</th>\n",
       "      <th>mcse_sd</th>\n",
       "      <th>ess_bulk</th>\n",
       "      <th>ess_tail</th>\n",
       "      <th>r_hat</th>\n",
       "    </tr>\n",
       "  </thead>\n",
       "  <tbody>\n",
       "    <tr>\n",
       "      <th>a</th>\n",
       "      <td>0.000</td>\n",
       "      <td>0.111</td>\n",
       "      <td>-0.179</td>\n",
       "      <td>0.169</td>\n",
       "      <td>0.002</td>\n",
       "      <td>0.002</td>\n",
       "      <td>4359.0</td>\n",
       "      <td>2288.0</td>\n",
       "      <td>1.0</td>\n",
       "    </tr>\n",
       "    <tr>\n",
       "      <th>b_M</th>\n",
       "      <td>0.351</td>\n",
       "      <td>0.132</td>\n",
       "      <td>0.141</td>\n",
       "      <td>0.558</td>\n",
       "      <td>0.002</td>\n",
       "      <td>0.001</td>\n",
       "      <td>5660.0</td>\n",
       "      <td>2622.0</td>\n",
       "      <td>1.0</td>\n",
       "    </tr>\n",
       "    <tr>\n",
       "      <th>sigma</th>\n",
       "      <td>0.948</td>\n",
       "      <td>0.101</td>\n",
       "      <td>0.779</td>\n",
       "      <td>1.090</td>\n",
       "      <td>0.001</td>\n",
       "      <td>0.001</td>\n",
       "      <td>4955.0</td>\n",
       "      <td>2765.0</td>\n",
       "      <td>1.0</td>\n",
       "    </tr>\n",
       "  </tbody>\n",
       "</table>\n",
       "</div>"
      ],
      "text/plain": [
       "        mean     sd  hdi_5.5%  hdi_94.5%  mcse_mean  mcse_sd  ess_bulk  \\\n",
       "a      0.000  0.111    -0.179      0.169      0.002    0.002    4359.0   \n",
       "b_M    0.351  0.132     0.141      0.558      0.002    0.001    5660.0   \n",
       "sigma  0.948  0.101     0.779      1.090      0.001    0.001    4955.0   \n",
       "\n",
       "       ess_tail  r_hat  \n",
       "a        2288.0    1.0  \n",
       "b_M      2622.0    1.0  \n",
       "sigma    2765.0    1.0  "
      ]
     },
     "execution_count": 19,
     "metadata": {},
     "output_type": "execute_result"
    }
   ],
   "source": [
    "az.summary(trace_5_2, var_names=['a', 'b_M', 'sigma'], hdi_prob=0.89)"
   ]
  },
  {
   "cell_type": "code",
   "execution_count": 20,
   "id": "minor-bidder",
   "metadata": {},
   "outputs": [
    {
     "data": {
      "text/html": [
       "<div>\n",
       "<style scoped>\n",
       "    .dataframe tbody tr th:only-of-type {\n",
       "        vertical-align: middle;\n",
       "    }\n",
       "\n",
       "    .dataframe tbody tr th {\n",
       "        vertical-align: top;\n",
       "    }\n",
       "\n",
       "    .dataframe thead th {\n",
       "        text-align: right;\n",
       "    }\n",
       "</style>\n",
       "<table border=\"1\" class=\"dataframe\">\n",
       "  <thead>\n",
       "    <tr style=\"text-align: right;\">\n",
       "      <th></th>\n",
       "      <th>mean</th>\n",
       "      <th>sd</th>\n",
       "      <th>hdi_5.5%</th>\n",
       "      <th>hdi_94.5%</th>\n",
       "      <th>mcse_mean</th>\n",
       "      <th>mcse_sd</th>\n",
       "      <th>ess_bulk</th>\n",
       "      <th>ess_tail</th>\n",
       "      <th>r_hat</th>\n",
       "    </tr>\n",
       "  </thead>\n",
       "  <tbody>\n",
       "    <tr>\n",
       "      <th>a</th>\n",
       "      <td>-0.000</td>\n",
       "      <td>0.101</td>\n",
       "      <td>-0.172</td>\n",
       "      <td>0.150</td>\n",
       "      <td>0.002</td>\n",
       "      <td>0.002</td>\n",
       "      <td>3404.0</td>\n",
       "      <td>2713.0</td>\n",
       "      <td>1.0</td>\n",
       "    </tr>\n",
       "    <tr>\n",
       "      <th>b_A</th>\n",
       "      <td>-0.604</td>\n",
       "      <td>0.157</td>\n",
       "      <td>-0.867</td>\n",
       "      <td>-0.366</td>\n",
       "      <td>0.003</td>\n",
       "      <td>0.002</td>\n",
       "      <td>2215.0</td>\n",
       "      <td>2362.0</td>\n",
       "      <td>1.0</td>\n",
       "    </tr>\n",
       "    <tr>\n",
       "      <th>b_M</th>\n",
       "      <td>-0.055</td>\n",
       "      <td>0.159</td>\n",
       "      <td>-0.296</td>\n",
       "      <td>0.199</td>\n",
       "      <td>0.003</td>\n",
       "      <td>0.002</td>\n",
       "      <td>2187.0</td>\n",
       "      <td>2377.0</td>\n",
       "      <td>1.0</td>\n",
       "    </tr>\n",
       "    <tr>\n",
       "      <th>sigma</th>\n",
       "      <td>0.823</td>\n",
       "      <td>0.086</td>\n",
       "      <td>0.688</td>\n",
       "      <td>0.958</td>\n",
       "      <td>0.002</td>\n",
       "      <td>0.001</td>\n",
       "      <td>3009.0</td>\n",
       "      <td>1996.0</td>\n",
       "      <td>1.0</td>\n",
       "    </tr>\n",
       "  </tbody>\n",
       "</table>\n",
       "</div>"
      ],
      "text/plain": [
       "        mean     sd  hdi_5.5%  hdi_94.5%  mcse_mean  mcse_sd  ess_bulk  \\\n",
       "a     -0.000  0.101    -0.172      0.150      0.002    0.002    3404.0   \n",
       "b_A   -0.604  0.157    -0.867     -0.366      0.003    0.002    2215.0   \n",
       "b_M   -0.055  0.159    -0.296      0.199      0.003    0.002    2187.0   \n",
       "sigma  0.823  0.086     0.688      0.958      0.002    0.001    3009.0   \n",
       "\n",
       "       ess_tail  r_hat  \n",
       "a        2713.0    1.0  \n",
       "b_A      2362.0    1.0  \n",
       "b_M      2377.0    1.0  \n",
       "sigma    1996.0    1.0  "
      ]
     },
     "execution_count": 20,
     "metadata": {},
     "output_type": "execute_result"
    }
   ],
   "source": [
    "az.summary(trace_5_3, var_names=['a', 'b_A', 'b_M', 'sigma'], hdi_prob=0.89)"
   ]
  },
  {
   "cell_type": "markdown",
   "id": "configured-stylus",
   "metadata": {},
   "source": [
    "### Code 7.33"
   ]
  },
  {
   "cell_type": "code",
   "execution_count": 21,
   "id": "identified-ceiling",
   "metadata": {},
   "outputs": [
    {
     "data": {
      "text/html": [
       "<div>\n",
       "<style scoped>\n",
       "    .dataframe tbody tr th:only-of-type {\n",
       "        vertical-align: middle;\n",
       "    }\n",
       "\n",
       "    .dataframe tbody tr th {\n",
       "        vertical-align: top;\n",
       "    }\n",
       "\n",
       "    .dataframe thead th {\n",
       "        text-align: right;\n",
       "    }\n",
       "</style>\n",
       "<table border=\"1\" class=\"dataframe\">\n",
       "  <thead>\n",
       "    <tr style=\"text-align: right;\">\n",
       "      <th></th>\n",
       "      <th>rank</th>\n",
       "      <th>loo</th>\n",
       "      <th>p_loo</th>\n",
       "      <th>d_loo</th>\n",
       "      <th>weight</th>\n",
       "      <th>se</th>\n",
       "      <th>dse</th>\n",
       "      <th>warning</th>\n",
       "      <th>loo_scale</th>\n",
       "    </tr>\n",
       "  </thead>\n",
       "  <tbody>\n",
       "    <tr>\n",
       "      <th>m_5_1</th>\n",
       "      <td>0</td>\n",
       "      <td>126.101642</td>\n",
       "      <td>3.792540</td>\n",
       "      <td>0.000000</td>\n",
       "      <td>8.930293e-01</td>\n",
       "      <td>12.813935</td>\n",
       "      <td>0.000000</td>\n",
       "      <td>False</td>\n",
       "      <td>deviance</td>\n",
       "    </tr>\n",
       "    <tr>\n",
       "      <th>m_5_3</th>\n",
       "      <td>1</td>\n",
       "      <td>127.718179</td>\n",
       "      <td>4.821062</td>\n",
       "      <td>1.616537</td>\n",
       "      <td>3.863211e-15</td>\n",
       "      <td>12.890233</td>\n",
       "      <td>0.680615</td>\n",
       "      <td>False</td>\n",
       "      <td>deviance</td>\n",
       "    </tr>\n",
       "    <tr>\n",
       "      <th>m_5_2</th>\n",
       "      <td>2</td>\n",
       "      <td>139.387162</td>\n",
       "      <td>3.005780</td>\n",
       "      <td>13.285520</td>\n",
       "      <td>1.069707e-01</td>\n",
       "      <td>9.912387</td>\n",
       "      <td>9.270483</td>\n",
       "      <td>False</td>\n",
       "      <td>deviance</td>\n",
       "    </tr>\n",
       "  </tbody>\n",
       "</table>\n",
       "</div>"
      ],
      "text/plain": [
       "       rank         loo     p_loo      d_loo        weight         se  \\\n",
       "m_5_1     0  126.101642  3.792540   0.000000  8.930293e-01  12.813935   \n",
       "m_5_3     1  127.718179  4.821062   1.616537  3.863211e-15  12.890233   \n",
       "m_5_2     2  139.387162  3.005780  13.285520  1.069707e-01   9.912387   \n",
       "\n",
       "            dse  warning loo_scale  \n",
       "m_5_1  0.000000    False  deviance  \n",
       "m_5_3  0.680615    False  deviance  \n",
       "m_5_2  9.270483    False  deviance  "
      ]
     },
     "execution_count": 21,
     "metadata": {},
     "output_type": "execute_result"
    }
   ],
   "source": [
    "# LOO is leave-one-out (PSIS-LOO loo) cross-validation\n",
    "\n",
    "az.compare({'m_5_1': trace_5_1, 'm_5_2': trace_5_2, 'm_5_3': trace_5_3}, ic='loo', scale='deviance')"
   ]
  },
  {
   "cell_type": "code",
   "execution_count": 22,
   "id": "resistant-beads",
   "metadata": {},
   "outputs": [
    {
     "data": {
      "text/html": [
       "<div>\n",
       "<style scoped>\n",
       "    .dataframe tbody tr th:only-of-type {\n",
       "        vertical-align: middle;\n",
       "    }\n",
       "\n",
       "    .dataframe tbody tr th {\n",
       "        vertical-align: top;\n",
       "    }\n",
       "\n",
       "    .dataframe thead th {\n",
       "        text-align: right;\n",
       "    }\n",
       "</style>\n",
       "<table border=\"1\" class=\"dataframe\">\n",
       "  <thead>\n",
       "    <tr style=\"text-align: right;\">\n",
       "      <th></th>\n",
       "      <th>rank</th>\n",
       "      <th>waic</th>\n",
       "      <th>p_waic</th>\n",
       "      <th>d_waic</th>\n",
       "      <th>weight</th>\n",
       "      <th>se</th>\n",
       "      <th>dse</th>\n",
       "      <th>warning</th>\n",
       "      <th>waic_scale</th>\n",
       "    </tr>\n",
       "  </thead>\n",
       "  <tbody>\n",
       "    <tr>\n",
       "      <th>m_5_1</th>\n",
       "      <td>0</td>\n",
       "      <td>125.855405</td>\n",
       "      <td>3.669422</td>\n",
       "      <td>0.000000</td>\n",
       "      <td>8.953848e-01</td>\n",
       "      <td>12.636605</td>\n",
       "      <td>0.000000</td>\n",
       "      <td>True</td>\n",
       "      <td>deviance</td>\n",
       "    </tr>\n",
       "    <tr>\n",
       "      <th>m_5_3</th>\n",
       "      <td>1</td>\n",
       "      <td>127.472190</td>\n",
       "      <td>4.698067</td>\n",
       "      <td>1.616784</td>\n",
       "      <td>3.766402e-16</td>\n",
       "      <td>12.747359</td>\n",
       "      <td>0.676818</td>\n",
       "      <td>True</td>\n",
       "      <td>deviance</td>\n",
       "    </tr>\n",
       "    <tr>\n",
       "      <th>m_5_2</th>\n",
       "      <td>2</td>\n",
       "      <td>139.323913</td>\n",
       "      <td>2.974155</td>\n",
       "      <td>13.468507</td>\n",
       "      <td>1.046152e-01</td>\n",
       "      <td>9.884692</td>\n",
       "      <td>9.088577</td>\n",
       "      <td>True</td>\n",
       "      <td>deviance</td>\n",
       "    </tr>\n",
       "  </tbody>\n",
       "</table>\n",
       "</div>"
      ],
      "text/plain": [
       "       rank        waic    p_waic     d_waic        weight         se  \\\n",
       "m_5_1     0  125.855405  3.669422   0.000000  8.953848e-01  12.636605   \n",
       "m_5_3     1  127.472190  4.698067   1.616784  3.766402e-16  12.747359   \n",
       "m_5_2     2  139.323913  2.974155  13.468507  1.046152e-01   9.884692   \n",
       "\n",
       "            dse  warning waic_scale  \n",
       "m_5_1  0.000000     True   deviance  \n",
       "m_5_3  0.676818     True   deviance  \n",
       "m_5_2  9.088577     True   deviance  "
      ]
     },
     "execution_count": 22,
     "metadata": {},
     "output_type": "execute_result"
    }
   ],
   "source": [
    "\n",
    "az.compare({'m_5_1': trace_5_1, 'm_5_2': trace_5_2, 'm_5_3': trace_5_3}, ic='waic', scale='deviance')"
   ]
  },
  {
   "cell_type": "markdown",
   "id": "greater-radio",
   "metadata": {},
   "source": [
    "### Code 7.34"
   ]
  },
  {
   "cell_type": "code",
   "execution_count": 23,
   "id": "controversial-rabbit",
   "metadata": {},
   "outputs": [
    {
     "data": {
      "text/plain": [
       "<matplotlib.collections.LineCollection at 0x7ffa0da02af0>"
      ]
     },
     "execution_count": 23,
     "metadata": {},
     "output_type": "execute_result"
    },
    {
     "data": {
      "image/png": "[encoded data removed]",
      "text/plain": [
       "<Figure size 432x288 with 1 Axes>"
      ]
     },
     "metadata": {
      "needs_background": "light"
     },
     "output_type": "display_data"
    }
   ],
   "source": [
    "psis_m_5_3 = az.loo(trace_5_3, pointwise=True, scale='deviance')\n",
    "waic_m_5_3 = az.waic(trace_5_3, pointwise=True, scale='deviance')\n",
    "\n",
    "plt.scatter(psis_m_5_3.pareto_k, waic_m_5_3.waic_i)\n",
    "plt.xlabel('PSIS Pareto k')\n",
    "plt.ylabel('WAIC penalty')\n",
    "\n",
    "plt.ylim(-1, 14)\n",
    "plt.vlines(x=0.5, ymin=-1, ymax=14, linestyle='--')"
   ]
  },
  {
   "cell_type": "markdown",
   "id": "endangered-introduction",
   "metadata": {},
   "source": [
    "## Using Student-$t$ Instead of the Normal for Divorce Rates\n",
    "\n",
    "Recall that if $Z \\sim N(0, 1)$ and $Y \\sim \\chi_{m}^2$ are independent random variables, then \n",
    "$$\n",
    "    X = \\frac{Z}{\\sqrt{Y / m}} \n",
    "$$\n",
    "has the Student-$t$ distribution with $m$ degrees of freedom. The pdf of this distribution is:\n",
    "$$\n",
    "    f_{X}(x) = \\frac{\\Gamma(\\frac{m + 1}{2})}{\\Gamma(\\frac{m}{2})} \\cdot \n",
    "               \\frac{1}{\\sqrt{\\pi m}} \\cdot \n",
    "               \\left ( 1 + \\frac{x^2}{m} \\right )^{- (m + 1) / 2}.\n",
    "$$\n",
    "\n",
    "The usual context in which this distribution arises is when we have a random sample $X_1, \\ldots, X_n$ from a normal distribution $N(\\mu, \\sigma^2)$. Then the sample mean $\\bar{X}_n \\sim N(\\mu, \\sigma^2 / n)$ and the normalized sample mean has the standard normal distribution:\n",
    "$$\n",
    "    \\frac{\\bar{X}_n - \\mu}{\\sigma / \\sqrt{n}} \\sim N(0, 1).\n",
    "$$\n",
    "\n",
    "It turns out that the scaled sample variance has the chi-squared distirbution with $n - 1$ degrees of freedom. \n",
    "$$\n",
    "    \\frac{\\sum_{i = 1}^n (X_i - \\bar{X}_n)^2}{\\sigma^2} \\sim \\chi^2_{n - 1}.\n",
    "$$\n",
    "\n",
    "And importantly, for random samples from a normal distribution, the sample mean and sample variance are independent random variables. Thus, \n",
    "$$\n",
    "     \\frac{\\bar{X}_n - \\mu}{\\sigma / \\sqrt{n}} \\div \n",
    "     \\sqrt{\\frac{\\sum_{i = 1}^n (X_i - \\bar{X}_n)^2}{\\sigma^2 (n -1)}} \\sim t_{n - 1}.\n",
    "$$\n",
    "\n",
    "This is usually written as:\n",
    "$$\n",
    "     \\frac{\\bar{X}_n - \\mu}{\\sigma' / \\sqrt{n}} \\sim t_{n - 1},\n",
    "$$\n",
    "where \n",
    "$$\n",
    "    \\sigma' = \\sqrt{\\frac{\\sum_{i = 1}^n (X_i - \\bar{X}_n)^2}{n - 1}}.\n",
    "$$"
   ]
  },
  {
   "cell_type": "code",
   "execution_count": 24,
   "id": "revolutionary-capacity",
   "metadata": {},
   "outputs": [
    {
     "data": {
      "image/png": "[encoded data removed]",
      "text/plain": [
       "<Figure size 864x432 with 2 Axes>"
      ]
     },
     "metadata": {
      "needs_background": "light"
     },
     "output_type": "display_data"
    }
   ],
   "source": [
    "from scipy.stats import norm, t\n",
    "\n",
    "\n",
    "x_vals = np.linspace(start=-4, stop=4, num=100)\n",
    "y_norm = norm(loc=0, scale=1)\n",
    "y_t = t(df=2, loc=0, scale=1)\n",
    "\n",
    "fig, (ax1, ax2) = plt.subplots(1, 2, figsize=(12, 6))\n",
    "\n",
    "ax1.plot(x_vals, y_norm.pdf(x_vals), 'b', label='Normal')\n",
    "ax1.plot(x_vals, y_t.pdf(x_vals), 'g', label='t Distribution')\n",
    "\n",
    "ax1.set_xlabel(r'$x$')\n",
    "ax1.set_ylabel('Probability Density')\n",
    "\n",
    "ax1.legend()\n",
    "\n",
    "ax2.plot(x_vals, -y_norm.logpdf(x_vals), 'b', label='Normal')\n",
    "ax2.plot(x_vals, -y_t.logpdf(x_vals), 'g', label='t Distribution')\n",
    "\n",
    "ax2.set_xlabel(r'$x$')\n",
    "ax2.set_ylabel('Negative Log Probability Density')\n",
    "\n",
    "ax2.legend()\n",
    "\n",
    "plt.show()"
   ]
  },
  {
   "cell_type": "markdown",
   "id": "apparent-number",
   "metadata": {},
   "source": [
    "### Code 7.35"
   ]
  },
  {
   "cell_type": "code",
   "execution_count": 25,
   "id": "suspended-civilian",
   "metadata": {},
   "outputs": [
    {
     "name": "stderr",
     "output_type": "stream",
     "text": [
      "Auto-assigning NUTS sampler...\n",
      "Initializing NUTS using jitter+adapt_diag...\n",
      "Multiprocess sampling (4 chains in 4 jobs)\n",
      "NUTS: [sigma, b_M, b_A, a]\n"
     ]
    },
    {
     "data": {
      "text/html": [
       "\n",
       "    <div>\n",
       "        <style>\n",
       "            /* Turns off some styling */\n",
       "            progress {\n",
       "                /* gets rid of default border in Firefox and Opera. */\n",
       "                border: none;\n",
       "                /* Needs to be in here for Safari polyfill so background images work as expected. */\n",
       "                background-size: auto;\n",
       "            }\n",
       "            .progress-bar-interrupted, .progress-bar-interrupted::-webkit-progress-bar {\n",
       "                background: #F44336;\n",
       "            }\n",
       "        </style>\n",
       "      <progress value='12000' class='' max='12000' style='width:300px; height:20px; vertical-align: middle;'></progress>\n",
       "      100.00% [12000/12000 00:05<00:00 Sampling 4 chains, 0 divergences]\n",
       "    </div>\n",
       "    "
      ],
      "text/plain": [
       "<IPython.core.display.HTML object>"
      ]
     },
     "metadata": {},
     "output_type": "display_data"
    },
    {
     "name": "stderr",
     "output_type": "stream",
     "text": [
      "Sampling 4 chains for 2_000 tune and 1_000 draw iterations (8_000 + 4_000 draws total) took 6 seconds.\n"
     ]
    }
   ],
   "source": [
    "with pm.Model() as m_5_3t:\n",
    "    a = pm.Normal('a', mu=0.0, sigma=0.2)\n",
    "    b_A = pm.Normal('b_A', mu=0.0, sigma=0.5)\n",
    "    b_M = pm.Normal('b_M', mu=0.0, sigma=0.5)\n",
    "    sigma = pm.Exponential('sigma', lam=1.0)\n",
    "    \n",
    "    mu = pm.Deterministic('mu', a + b_A * df_waf['age_stan'] + b_M * df_waf['marriage_stan'])\n",
    "    D = pm.StudentT('D', nu=2, mu=mu, sigma=sigma, observed=df_waf['divorce_stan'])\n",
    "    \n",
    "    trace_5_3t = pm.sample(1000, tune=2000)"
   ]
  },
  {
   "cell_type": "code",
   "execution_count": 27,
   "id": "decimal-danish",
   "metadata": {},
   "outputs": [
    {
     "data": {
      "text/html": [
       "<div>\n",
       "<style scoped>\n",
       "    .dataframe tbody tr th:only-of-type {\n",
       "        vertical-align: middle;\n",
       "    }\n",
       "\n",
       "    .dataframe tbody tr th {\n",
       "        vertical-align: top;\n",
       "    }\n",
       "\n",
       "    .dataframe thead th {\n",
       "        text-align: right;\n",
       "    }\n",
       "</style>\n",
       "<table border=\"1\" class=\"dataframe\">\n",
       "  <thead>\n",
       "    <tr style=\"text-align: right;\">\n",
       "      <th></th>\n",
       "      <th>mean</th>\n",
       "      <th>sd</th>\n",
       "      <th>hdi_5.5%</th>\n",
       "      <th>hdi_94.5%</th>\n",
       "      <th>mcse_mean</th>\n",
       "      <th>mcse_sd</th>\n",
       "      <th>ess_bulk</th>\n",
       "      <th>ess_tail</th>\n",
       "      <th>r_hat</th>\n",
       "    </tr>\n",
       "  </thead>\n",
       "  <tbody>\n",
       "    <tr>\n",
       "      <th>a</th>\n",
       "      <td>0.024</td>\n",
       "      <td>0.103</td>\n",
       "      <td>-0.137</td>\n",
       "      <td>0.191</td>\n",
       "      <td>0.002</td>\n",
       "      <td>0.002</td>\n",
       "      <td>3980.0</td>\n",
       "      <td>2804.0</td>\n",
       "      <td>1.0</td>\n",
       "    </tr>\n",
       "    <tr>\n",
       "      <th>b_A</th>\n",
       "      <td>-0.698</td>\n",
       "      <td>0.150</td>\n",
       "      <td>-0.930</td>\n",
       "      <td>-0.461</td>\n",
       "      <td>0.003</td>\n",
       "      <td>0.002</td>\n",
       "      <td>2662.0</td>\n",
       "      <td>3012.0</td>\n",
       "      <td>1.0</td>\n",
       "    </tr>\n",
       "    <tr>\n",
       "      <th>b_M</th>\n",
       "      <td>0.051</td>\n",
       "      <td>0.206</td>\n",
       "      <td>-0.296</td>\n",
       "      <td>0.362</td>\n",
       "      <td>0.004</td>\n",
       "      <td>0.003</td>\n",
       "      <td>2719.0</td>\n",
       "      <td>2632.0</td>\n",
       "      <td>1.0</td>\n",
       "    </tr>\n",
       "    <tr>\n",
       "      <th>sigma</th>\n",
       "      <td>0.579</td>\n",
       "      <td>0.086</td>\n",
       "      <td>0.438</td>\n",
       "      <td>0.707</td>\n",
       "      <td>0.001</td>\n",
       "      <td>0.001</td>\n",
       "      <td>3532.0</td>\n",
       "      <td>2862.0</td>\n",
       "      <td>1.0</td>\n",
       "    </tr>\n",
       "  </tbody>\n",
       "</table>\n",
       "</div>"
      ],
      "text/plain": [
       "        mean     sd  hdi_5.5%  hdi_94.5%  mcse_mean  mcse_sd  ess_bulk  \\\n",
       "a      0.024  0.103    -0.137      0.191      0.002    0.002    3980.0   \n",
       "b_A   -0.698  0.150    -0.930     -0.461      0.003    0.002    2662.0   \n",
       "b_M    0.051  0.206    -0.296      0.362      0.004    0.003    2719.0   \n",
       "sigma  0.579  0.086     0.438      0.707      0.001    0.001    3532.0   \n",
       "\n",
       "       ess_tail  r_hat  \n",
       "a        2804.0    1.0  \n",
       "b_A      3012.0    1.0  \n",
       "b_M      2632.0    1.0  \n",
       "sigma    2862.0    1.0  "
      ]
     },
     "execution_count": 27,
     "metadata": {},
     "output_type": "execute_result"
    }
   ],
   "source": [
    "az.summary(trace_5_3t, var_names=['a', 'b_A', 'b_M', 'sigma'], hdi_prob=0.89)"
   ]
  },
  {
   "cell_type": "code",
   "execution_count": 28,
   "id": "special-sussex",
   "metadata": {},
   "outputs": [
    {
     "data": {
      "text/html": [
       "<div>\n",
       "<style scoped>\n",
       "    .dataframe tbody tr th:only-of-type {\n",
       "        vertical-align: middle;\n",
       "    }\n",
       "\n",
       "    .dataframe tbody tr th {\n",
       "        vertical-align: top;\n",
       "    }\n",
       "\n",
       "    .dataframe thead th {\n",
       "        text-align: right;\n",
       "    }\n",
       "</style>\n",
       "<table border=\"1\" class=\"dataframe\">\n",
       "  <thead>\n",
       "    <tr style=\"text-align: right;\">\n",
       "      <th></th>\n",
       "      <th>rank</th>\n",
       "      <th>loo</th>\n",
       "      <th>p_loo</th>\n",
       "      <th>d_loo</th>\n",
       "      <th>weight</th>\n",
       "      <th>se</th>\n",
       "      <th>dse</th>\n",
       "      <th>warning</th>\n",
       "      <th>loo_scale</th>\n",
       "    </tr>\n",
       "  </thead>\n",
       "  <tbody>\n",
       "    <tr>\n",
       "      <th>m_5_1</th>\n",
       "      <td>0</td>\n",
       "      <td>126.101642</td>\n",
       "      <td>3.792540</td>\n",
       "      <td>0.000000</td>\n",
       "      <td>8.930027e-01</td>\n",
       "      <td>12.813935</td>\n",
       "      <td>0.000000</td>\n",
       "      <td>False</td>\n",
       "      <td>deviance</td>\n",
       "    </tr>\n",
       "    <tr>\n",
       "      <th>m_5_3t</th>\n",
       "      <td>1</td>\n",
       "      <td>132.922488</td>\n",
       "      <td>6.233727</td>\n",
       "      <td>6.820845</td>\n",
       "      <td>3.122691e-14</td>\n",
       "      <td>11.437058</td>\n",
       "      <td>5.947229</td>\n",
       "      <td>False</td>\n",
       "      <td>deviance</td>\n",
       "    </tr>\n",
       "    <tr>\n",
       "      <th>m_5_2</th>\n",
       "      <td>2</td>\n",
       "      <td>139.387162</td>\n",
       "      <td>3.005780</td>\n",
       "      <td>13.285520</td>\n",
       "      <td>1.069973e-01</td>\n",
       "      <td>9.912387</td>\n",
       "      <td>9.270483</td>\n",
       "      <td>False</td>\n",
       "      <td>deviance</td>\n",
       "    </tr>\n",
       "  </tbody>\n",
       "</table>\n",
       "</div>"
      ],
      "text/plain": [
       "        rank         loo     p_loo      d_loo        weight         se  \\\n",
       "m_5_1      0  126.101642  3.792540   0.000000  8.930027e-01  12.813935   \n",
       "m_5_3t     1  132.922488  6.233727   6.820845  3.122691e-14  11.437058   \n",
       "m_5_2      2  139.387162  3.005780  13.285520  1.069973e-01   9.912387   \n",
       "\n",
       "             dse  warning loo_scale  \n",
       "m_5_1   0.000000    False  deviance  \n",
       "m_5_3t  5.947229    False  deviance  \n",
       "m_5_2   9.270483    False  deviance  "
      ]
     },
     "execution_count": 28,
     "metadata": {},
     "output_type": "execute_result"
    }
   ],
   "source": [
    "# LOO is leave-one-out (PSIS-LOO loo) cross-validation\n",
    "\n",
    "az.compare({'m_5_1': trace_5_1, 'm_5_2': trace_5_2, 'm_5_3t': trace_5_3t}, ic='loo', scale='deviance')"
   ]
  }
 ],
 "metadata": {
  "kernelspec": {
   "display_name": "stat-rethink",
   "language": "python",
   "name": "stat-rethink"
  },
  "language_info": {
   "codemirror_mode": {
    "name": "ipython",
    "version": 3
   },
   "file_extension": ".py",
   "mimetype": "text/x-python",
   "name": "python",
   "nbconvert_exporter": "python",
   "pygments_lexer": "ipython3",
   "version": "3.9.2"
  }
 },
 "nbformat": 4,
 "nbformat_minor": 5
}
