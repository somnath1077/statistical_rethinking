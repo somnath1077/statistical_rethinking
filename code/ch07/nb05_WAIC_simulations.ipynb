{
 "cells": [
  {
   "cell_type": "code",
   "execution_count": 1,
   "id": "wireless-roman",
   "metadata": {},
   "outputs": [],
   "source": [
    "import arviz as az\n",
    "import matplotlib.pyplot as plt\n",
    "import numpy as np\n",
    "import pandas as pd\n",
    "import pymc3 as pm\n",
    "import seaborn as sns\n",
    "import warnings\n",
    "\n",
    "\n",
    "from scipy.stats import norm, binom\n",
    "\n",
    "warnings.filterwarnings('ignore')"
   ]
  },
  {
   "cell_type": "markdown",
   "id": "dying-likelihood",
   "metadata": {},
   "source": [
    "# Set up for code 7.25 onwards"
   ]
  },
  {
   "cell_type": "code",
   "execution_count": 2,
   "id": "catholic-stretch",
   "metadata": {},
   "outputs": [
    {
     "data": {
      "text/html": [
       "<div>\n",
       "<style scoped>\n",
       "    .dataframe tbody tr th:only-of-type {\n",
       "        vertical-align: middle;\n",
       "    }\n",
       "\n",
       "    .dataframe tbody tr th {\n",
       "        vertical-align: top;\n",
       "    }\n",
       "\n",
       "    .dataframe thead th {\n",
       "        text-align: right;\n",
       "    }\n",
       "</style>\n",
       "<table border=\"1\" class=\"dataframe\">\n",
       "  <thead>\n",
       "    <tr style=\"text-align: right;\">\n",
       "      <th></th>\n",
       "      <th>h0</th>\n",
       "      <th>h1</th>\n",
       "      <th>treatment</th>\n",
       "      <th>fungus</th>\n",
       "    </tr>\n",
       "  </thead>\n",
       "  <tbody>\n",
       "    <tr>\n",
       "      <th>count</th>\n",
       "      <td>100.000000</td>\n",
       "      <td>100.000000</td>\n",
       "      <td>100.000000</td>\n",
       "      <td>100.000000</td>\n",
       "    </tr>\n",
       "    <tr>\n",
       "      <th>mean</th>\n",
       "      <td>10.150301</td>\n",
       "      <td>14.119606</td>\n",
       "      <td>0.500000</td>\n",
       "      <td>0.350000</td>\n",
       "    </tr>\n",
       "    <tr>\n",
       "      <th>std</th>\n",
       "      <td>1.919843</td>\n",
       "      <td>2.712706</td>\n",
       "      <td>0.502519</td>\n",
       "      <td>0.479372</td>\n",
       "    </tr>\n",
       "    <tr>\n",
       "      <th>min</th>\n",
       "      <td>5.735314</td>\n",
       "      <td>6.970574</td>\n",
       "      <td>0.000000</td>\n",
       "      <td>0.000000</td>\n",
       "    </tr>\n",
       "    <tr>\n",
       "      <th>5.5%</th>\n",
       "      <td>6.932556</td>\n",
       "      <td>9.463206</td>\n",
       "      <td>0.000000</td>\n",
       "      <td>0.000000</td>\n",
       "    </tr>\n",
       "    <tr>\n",
       "      <th>50%</th>\n",
       "      <td>10.273836</td>\n",
       "      <td>14.053691</td>\n",
       "      <td>0.500000</td>\n",
       "      <td>0.000000</td>\n",
       "    </tr>\n",
       "    <tr>\n",
       "      <th>94.5%</th>\n",
       "      <td>12.969927</td>\n",
       "      <td>18.271557</td>\n",
       "      <td>1.000000</td>\n",
       "      <td>1.000000</td>\n",
       "    </tr>\n",
       "    <tr>\n",
       "      <th>max</th>\n",
       "      <td>15.458299</td>\n",
       "      <td>21.496375</td>\n",
       "      <td>1.000000</td>\n",
       "      <td>1.000000</td>\n",
       "    </tr>\n",
       "  </tbody>\n",
       "</table>\n",
       "</div>"
      ],
      "text/plain": [
       "               h0          h1   treatment      fungus\n",
       "count  100.000000  100.000000  100.000000  100.000000\n",
       "mean    10.150301   14.119606    0.500000    0.350000\n",
       "std      1.919843    2.712706    0.502519    0.479372\n",
       "min      5.735314    6.970574    0.000000    0.000000\n",
       "5.5%     6.932556    9.463206    0.000000    0.000000\n",
       "50%     10.273836   14.053691    0.500000    0.000000\n",
       "94.5%   12.969927   18.271557    1.000000    1.000000\n",
       "max     15.458299   21.496375    1.000000    1.000000"
      ]
     },
     "execution_count": 2,
     "metadata": {},
     "output_type": "execute_result"
    }
   ],
   "source": [
    "# number of plants\n",
    "N = 100\n",
    "\n",
    "# initial heights\n",
    "h0 = norm.rvs(loc=10, scale=2, size=N)\n",
    "\n",
    "# assign treatment and fungus growth\n",
    "treatment = np.zeros(N)\n",
    "treatment[N//2:] = 1\n",
    "\n",
    "# there is a 10% chance of fungus growth for the plants that have been treated; and 50% for those that haven't\n",
    "fungus = binom.rvs(n=1, p=0.5 - 0.4 * treatment, loc=0, size=N)\n",
    "\n",
    "# the mean height for plants without fungus is 10 + 5 = 15; for those with fungus: 10 + 2 = 12\n",
    "h1 = h0 + norm.rvs(loc=5 - 3 * fungus, scale=1, size=N)\n",
    "\n",
    "df = pd.DataFrame({'h0': h0, 'h1': h1, 'treatment': treatment, 'fungus': fungus})\n",
    "df.describe([0.055, 0.945])"
   ]
  },
  {
   "cell_type": "markdown",
   "id": "affecting-decimal",
   "metadata": {},
   "source": [
    "# Causal Diagram of Fungal Growth Simulation\n",
    "\n",
    "$$\n",
    "    H_0 \\rightarrow H_1 \\leftarrow F \\leftarrow T\n",
    "$$\n",
    "\n",
    "\n",
    "# Models M6.6, M6.7, M6.8 \n",
    "\n",
    "### Model M.6.6 \n",
    "\n",
    "$$\n",
    "\\begin{align*}\n",
    "    h_{1 i} & \\sim N(\\mu_i, \\sigma) \\\\\n",
    "    \\mu_i   & = h_{0 i} \\times p \\\\\n",
    "     p      & \\sim \\text{LogNormal}(0, 0.25)\n",
    "\\end{align*}\n",
    "$$\n",
    "\n",
    "### Model M6.7\n",
    "\n",
    "$$\n",
    "\\begin{align*}\n",
    "    h_{1 i} & \\sim N(\\mu_i, \\sigma) \\\\\n",
    "    \\mu_i   & = h_{0 i} \\times p \\\\\n",
    "    p       & = \\alpha + \\beta_T \\cdot T_i + \\beta_F \\cdot F_i \\\\\n",
    "    \\alpha  & \\sim \\text{LogNormal}(0, 0.25) \\\\\n",
    "    \\beta_T & \\sim N(0, 0.5) \\\\\n",
    "    \\beta_F & \\sim N(0, 0.5) \\\\\n",
    "    \\sigma  & \\sim \\text{Exponential}(1)\n",
    "\\end{align*}\n",
    "$$\n",
    "\n",
    "\n",
    "### Model M6.8\n",
    "\n",
    "$$\n",
    "\\begin{align*}\n",
    "    h_{1 i} & \\sim N(\\mu_i, \\sigma) \\\\\n",
    "    \\mu_i   & = h_{0 i} \\times p \\\\\n",
    "    p       & = \\alpha + \\beta_T \\cdot T_i \\\\\n",
    "    \\alpha  & \\sim \\text{LogNormal}(0, 0.25) \\\\\n",
    "    \\beta_T & \\sim N(0, 0.5) \\\\\n",
    "    \\sigma  & \\sim \\text{Exponential}(1)\n",
    "\\end{align*}\n",
    "$$"
   ]
  },
  {
   "cell_type": "code",
   "execution_count": 3,
   "id": "union-warning",
   "metadata": {},
   "outputs": [
    {
     "name": "stderr",
     "output_type": "stream",
     "text": [
      "Auto-assigning NUTS sampler...\n",
      "Initializing NUTS using jitter+adapt_diag...\n",
      "Multiprocess sampling (4 chains in 4 jobs)\n",
      "NUTS: [sigma, p]\n"
     ]
    },
    {
     "data": {
      "text/html": [
       "\n",
       "    <div>\n",
       "        <style>\n",
       "            /* Turns off some styling */\n",
       "            progress {\n",
       "                /* gets rid of default border in Firefox and Opera. */\n",
       "                border: none;\n",
       "                /* Needs to be in here for Safari polyfill so background images work as expected. */\n",
       "                background-size: auto;\n",
       "            }\n",
       "            .progress-bar-interrupted, .progress-bar-interrupted::-webkit-progress-bar {\n",
       "                background: #F44336;\n",
       "            }\n",
       "        </style>\n",
       "      <progress value='16000' class='' max='16000' style='width:300px; height:20px; vertical-align: middle;'></progress>\n",
       "      100.00% [16000/16000 00:05<00:00 Sampling 4 chains, 0 divergences]\n",
       "    </div>\n",
       "    "
      ],
      "text/plain": [
       "<IPython.core.display.HTML object>"
      ]
     },
     "metadata": {},
     "output_type": "display_data"
    },
    {
     "name": "stderr",
     "output_type": "stream",
     "text": [
      "Sampling 4 chains for 2_000 tune and 2_000 draw iterations (8_000 + 8_000 draws total) took 6 seconds.\n",
      "Auto-assigning NUTS sampler...\n",
      "Initializing NUTS using jitter+adapt_diag...\n",
      "Multiprocess sampling (4 chains in 4 jobs)\n",
      "NUTS: [sigma, b_F, b_T, a]\n"
     ]
    },
    {
     "data": {
      "text/html": [
       "\n",
       "    <div>\n",
       "        <style>\n",
       "            /* Turns off some styling */\n",
       "            progress {\n",
       "                /* gets rid of default border in Firefox and Opera. */\n",
       "                border: none;\n",
       "                /* Needs to be in here for Safari polyfill so background images work as expected. */\n",
       "                background-size: auto;\n",
       "            }\n",
       "            .progress-bar-interrupted, .progress-bar-interrupted::-webkit-progress-bar {\n",
       "                background: #F44336;\n",
       "            }\n",
       "        </style>\n",
       "      <progress value='16000' class='' max='16000' style='width:300px; height:20px; vertical-align: middle;'></progress>\n",
       "      100.00% [16000/16000 00:08<00:00 Sampling 4 chains, 0 divergences]\n",
       "    </div>\n",
       "    "
      ],
      "text/plain": [
       "<IPython.core.display.HTML object>"
      ]
     },
     "metadata": {},
     "output_type": "display_data"
    },
    {
     "name": "stderr",
     "output_type": "stream",
     "text": [
      "Sampling 4 chains for 2_000 tune and 2_000 draw iterations (8_000 + 8_000 draws total) took 8 seconds.\n",
      "Auto-assigning NUTS sampler...\n",
      "Initializing NUTS using jitter+adapt_diag...\n",
      "Multiprocess sampling (4 chains in 4 jobs)\n",
      "NUTS: [sigma, b_T, a]\n"
     ]
    },
    {
     "data": {
      "text/html": [
       "\n",
       "    <div>\n",
       "        <style>\n",
       "            /* Turns off some styling */\n",
       "            progress {\n",
       "                /* gets rid of default border in Firefox and Opera. */\n",
       "                border: none;\n",
       "                /* Needs to be in here for Safari polyfill so background images work as expected. */\n",
       "                background-size: auto;\n",
       "            }\n",
       "            .progress-bar-interrupted, .progress-bar-interrupted::-webkit-progress-bar {\n",
       "                background: #F44336;\n",
       "            }\n",
       "        </style>\n",
       "      <progress value='16000' class='' max='16000' style='width:300px; height:20px; vertical-align: middle;'></progress>\n",
       "      100.00% [16000/16000 00:08<00:00 Sampling 4 chains, 0 divergences]\n",
       "    </div>\n",
       "    "
      ],
      "text/plain": [
       "<IPython.core.display.HTML object>"
      ]
     },
     "metadata": {},
     "output_type": "display_data"
    },
    {
     "name": "stderr",
     "output_type": "stream",
     "text": [
      "Sampling 4 chains for 2_000 tune and 2_000 draw iterations (8_000 + 8_000 draws total) took 9 seconds.\n"
     ]
    }
   ],
   "source": [
    "with pm.Model() as m_6_6:\n",
    "    p = pm.Lognormal('p', mu=0, sigma=0.25)\n",
    "    sigma = pm.Exponential('sigma', lam=1)\n",
    "    \n",
    "    mu = pm.Deterministic('mu', df['h0'].values * p)\n",
    "    h1 = pm.Normal('h1', mu=mu, sigma=sigma, observed=df['h1'])\n",
    "    \n",
    "    trace_6_6 = pm.sample(2000, tune=2000)\n",
    "    \n",
    "with pm.Model() as m_6_7:\n",
    "    a = pm.Lognormal('a', mu=0, sigma=0.25)\n",
    "    b_T = pm.Normal('b_T', mu=0, sigma=0.5)\n",
    "    b_F = pm.Normal('b_F', mu=0, sigma=0.5)\n",
    "    sigma = pm.Exponential('sigma', lam=1)\n",
    "    \n",
    "    p = a + b_T * df['treatment'] + b_F * df['fungus']\n",
    "    mu = pm.Deterministic('mu', df['h0'].values * p)\n",
    "    h1 = pm.Normal('h1', mu=mu, sigma=sigma, observed=df['h1'])\n",
    "    \n",
    "    trace_6_7 = pm.sample(2000, tune=2000)\n",
    "    \n",
    "with pm.Model() as m_6_8:\n",
    "    a = pm.Lognormal('a', mu=0, sigma=0.25)\n",
    "    b_T = pm.Normal('b_T', mu=0, sigma=0.5)\n",
    "    sigma = pm.Exponential('sigma', lam=1)\n",
    "    \n",
    "    p = a + b_T * df['treatment']\n",
    "    mu = pm.Deterministic('mu', df['h0'].values * p)\n",
    "    h1 = pm.Normal('h1', mu=mu, sigma=sigma, observed=df['h1'])\n",
    "    \n",
    "    trace_6_8 = pm.sample(2000, tune=2000)"
   ]
  },
  {
   "cell_type": "markdown",
   "id": "upset-clark",
   "metadata": {},
   "source": [
    "### Code. 7.25"
   ]
  },
  {
   "cell_type": "code",
   "execution_count": 4,
   "id": "united-portugal",
   "metadata": {},
   "outputs": [
    {
     "data": {
      "text/plain": [
       "Computed from 8000 by 100 log-likelihood matrix\n",
       "\n",
       "              Estimate       SE\n",
       "deviance_waic   347.30    13.61\n",
       "p_waic            3.54        -"
      ]
     },
     "execution_count": 4,
     "metadata": {},
     "output_type": "execute_result"
    }
   ],
   "source": [
    "az.waic(trace_6_7, m_6_7, scale='deviance')"
   ]
  },
  {
   "cell_type": "markdown",
   "id": "oriented-interface",
   "metadata": {},
   "source": [
    "### Code 7.26"
   ]
  },
  {
   "cell_type": "code",
   "execution_count": 5,
   "id": "marked-tracker",
   "metadata": {},
   "outputs": [
    {
     "data": {
      "text/html": [
       "<div>\n",
       "<style scoped>\n",
       "    .dataframe tbody tr th:only-of-type {\n",
       "        vertical-align: middle;\n",
       "    }\n",
       "\n",
       "    .dataframe tbody tr th {\n",
       "        vertical-align: top;\n",
       "    }\n",
       "\n",
       "    .dataframe thead th {\n",
       "        text-align: right;\n",
       "    }\n",
       "</style>\n",
       "<table border=\"1\" class=\"dataframe\">\n",
       "  <thead>\n",
       "    <tr style=\"text-align: right;\">\n",
       "      <th></th>\n",
       "      <th>rank</th>\n",
       "      <th>waic</th>\n",
       "      <th>p_waic</th>\n",
       "      <th>d_waic</th>\n",
       "      <th>weight</th>\n",
       "      <th>se</th>\n",
       "      <th>dse</th>\n",
       "      <th>warning</th>\n",
       "      <th>waic_scale</th>\n",
       "    </tr>\n",
       "  </thead>\n",
       "  <tbody>\n",
       "    <tr>\n",
       "      <th>m_6_7</th>\n",
       "      <td>0</td>\n",
       "      <td>347.303481</td>\n",
       "      <td>3.541673</td>\n",
       "      <td>0.000000</td>\n",
       "      <td>1.000000e+00</td>\n",
       "      <td>13.606908</td>\n",
       "      <td>0.000000</td>\n",
       "      <td>False</td>\n",
       "      <td>deviance</td>\n",
       "    </tr>\n",
       "    <tr>\n",
       "      <th>m_6_8</th>\n",
       "      <td>1</td>\n",
       "      <td>396.761251</td>\n",
       "      <td>2.612510</td>\n",
       "      <td>49.457770</td>\n",
       "      <td>1.208200e-12</td>\n",
       "      <td>13.113092</td>\n",
       "      <td>10.742495</td>\n",
       "      <td>False</td>\n",
       "      <td>deviance</td>\n",
       "    </tr>\n",
       "    <tr>\n",
       "      <th>m_6_6</th>\n",
       "      <td>2</td>\n",
       "      <td>414.159909</td>\n",
       "      <td>1.727676</td>\n",
       "      <td>66.856428</td>\n",
       "      <td>0.000000e+00</td>\n",
       "      <td>12.829207</td>\n",
       "      <td>11.760959</td>\n",
       "      <td>False</td>\n",
       "      <td>deviance</td>\n",
       "    </tr>\n",
       "  </tbody>\n",
       "</table>\n",
       "</div>"
      ],
      "text/plain": [
       "       rank        waic    p_waic     d_waic        weight         se  \\\n",
       "m_6_7     0  347.303481  3.541673   0.000000  1.000000e+00  13.606908   \n",
       "m_6_8     1  396.761251  2.612510  49.457770  1.208200e-12  13.113092   \n",
       "m_6_6     2  414.159909  1.727676  66.856428  0.000000e+00  12.829207   \n",
       "\n",
       "             dse  warning waic_scale  \n",
       "m_6_7   0.000000    False   deviance  \n",
       "m_6_8  10.742495    False   deviance  \n",
       "m_6_6  11.760959    False   deviance  "
      ]
     },
     "execution_count": 5,
     "metadata": {},
     "output_type": "execute_result"
    }
   ],
   "source": [
    "trace_dict = {'m_6_6': trace_6_6, \n",
    "              'm_6_7': trace_6_7, \n",
    "              'm_6_8': trace_6_8}\n",
    "\n",
    "compare_dict = az.compare(trace_dict, ic='waic', scale='deviance')\n",
    "compare_dict"
   ]
  },
  {
   "cell_type": "markdown",
   "id": "fantastic-perspective",
   "metadata": {},
   "source": [
    "### Explanation of column names\n",
    "\n",
    "* p_waic: the WAIC penalty\n",
    "* d_waic: the difference of each WAIC from best model (the one with lowest WAIC value)\n",
    "* weight: the relative weight of each model. This can be interpreted as the probability of each model given the data.\n",
    "* se: the standard error of the WAIC estimates\n",
    "* dse: the standard error of the difference between the model and the top-ranked model."
   ]
  },
  {
   "cell_type": "markdown",
   "id": "checked-musician",
   "metadata": {},
   "source": [
    "## Computing the dse manually\n",
    "\n",
    "### Code 7.27"
   ]
  },
  {
   "cell_type": "code",
   "execution_count": 6,
   "id": "proprietary-edition",
   "metadata": {},
   "outputs": [
    {
     "data": {
      "text/plain": [
       "array(10.74249466)"
      ]
     },
     "execution_count": 6,
     "metadata": {},
     "output_type": "execute_result"
    }
   ],
   "source": [
    "waic_6_7 = az.waic(trace_6_7, pointwise=True, scale='deviance')\n",
    "waic_6_8 = az.waic(trace_6_8, pointwise=True, scale='deviance')\n",
    "\n",
    "diff = waic_6_7.waic_i - waic_6_8.waic_i\n",
    "n = len(diff)\n",
    "\n",
    "dse = np.sqrt(n * np.var(diff)).values\n",
    "dse"
   ]
  },
  {
   "cell_type": "code",
   "execution_count": 7,
   "id": "hollow-secretary",
   "metadata": {},
   "outputs": [
    {
     "data": {
      "text/plain": [
       "2.5758293035489004"
      ]
     },
     "execution_count": 7,
     "metadata": {},
     "output_type": "execute_result"
    }
   ],
   "source": [
    "from scipy.stats import norm\n",
    "\n",
    "\n",
    "# the 99% interval for a standard normal\n",
    "\n",
    "norm.ppf(q=0.995, loc=0, scale=1)"
   ]
  },
  {
   "cell_type": "markdown",
   "id": "alien-medicaid",
   "metadata": {},
   "source": [
    "### Code 7.28"
   ]
  },
  {
   "cell_type": "code",
   "execution_count": 8,
   "id": "stupid-occasion",
   "metadata": {},
   "outputs": [
    {
     "data": {
      "text/plain": [
       "array([21.52728383, 77.38825607])"
      ]
     },
     "execution_count": 8,
     "metadata": {},
     "output_type": "execute_result"
    }
   ],
   "source": [
    "waic_diff = waic_6_8.waic - waic_6_7.waic\n",
    "\n",
    "waic_diff + np.array([-1, 1]) * dse * 2.6"
   ]
  },
  {
   "cell_type": "markdown",
   "id": "coastal-sentence",
   "metadata": {},
   "source": [
    "### Code 7.29"
   ]
  },
  {
   "cell_type": "code",
   "execution_count": 9,
   "id": "integral-index",
   "metadata": {},
   "outputs": [
    {
     "data": {
      "text/plain": [
       "<AxesSubplot:xlabel='Deviance'>"
      ]
     },
     "execution_count": 9,
     "metadata": {},
     "output_type": "execute_result"
    },
    {
     "data": {
      "image/png": "[encoded data removed]",
      "text/plain": [
       "<Figure size 432x216 with 1 Axes>"
      ]
     },
     "metadata": {
      "needs_background": "light"
     },
     "output_type": "display_data"
    }
   ],
   "source": [
    "az.plot_compare(compare_dict)"
   ]
  },
  {
   "cell_type": "code",
   "execution_count": 10,
   "id": "correct-equilibrium",
   "metadata": {},
   "outputs": [
    {
     "data": {
      "text/html": [
       "<div>\n",
       "<style scoped>\n",
       "    .dataframe tbody tr th:only-of-type {\n",
       "        vertical-align: middle;\n",
       "    }\n",
       "\n",
       "    .dataframe tbody tr th {\n",
       "        vertical-align: top;\n",
       "    }\n",
       "\n",
       "    .dataframe thead th {\n",
       "        text-align: right;\n",
       "    }\n",
       "</style>\n",
       "<table border=\"1\" class=\"dataframe\">\n",
       "  <thead>\n",
       "    <tr style=\"text-align: right;\">\n",
       "      <th></th>\n",
       "      <th>mean</th>\n",
       "      <th>sd</th>\n",
       "      <th>hdi_3%</th>\n",
       "      <th>hdi_97%</th>\n",
       "      <th>mcse_mean</th>\n",
       "      <th>mcse_sd</th>\n",
       "      <th>ess_bulk</th>\n",
       "      <th>ess_tail</th>\n",
       "      <th>r_hat</th>\n",
       "    </tr>\n",
       "  </thead>\n",
       "  <tbody>\n",
       "    <tr>\n",
       "      <th>a</th>\n",
       "      <td>1.300</td>\n",
       "      <td>0.024</td>\n",
       "      <td>1.253</td>\n",
       "      <td>1.344</td>\n",
       "      <td>0.000</td>\n",
       "      <td>0.000</td>\n",
       "      <td>3015.0</td>\n",
       "      <td>4097.0</td>\n",
       "      <td>1.0</td>\n",
       "    </tr>\n",
       "    <tr>\n",
       "      <th>b_T</th>\n",
       "      <td>0.154</td>\n",
       "      <td>0.034</td>\n",
       "      <td>0.093</td>\n",
       "      <td>0.218</td>\n",
       "      <td>0.001</td>\n",
       "      <td>0.000</td>\n",
       "      <td>3040.0</td>\n",
       "      <td>4185.0</td>\n",
       "      <td>1.0</td>\n",
       "    </tr>\n",
       "    <tr>\n",
       "      <th>sigma</th>\n",
       "      <td>1.731</td>\n",
       "      <td>0.124</td>\n",
       "      <td>1.506</td>\n",
       "      <td>1.969</td>\n",
       "      <td>0.002</td>\n",
       "      <td>0.001</td>\n",
       "      <td>6412.0</td>\n",
       "      <td>4310.0</td>\n",
       "      <td>1.0</td>\n",
       "    </tr>\n",
       "  </tbody>\n",
       "</table>\n",
       "</div>"
      ],
      "text/plain": [
       "        mean     sd  hdi_3%  hdi_97%  mcse_mean  mcse_sd  ess_bulk  ess_tail  \\\n",
       "a      1.300  0.024   1.253    1.344      0.000    0.000    3015.0    4097.0   \n",
       "b_T    0.154  0.034   0.093    0.218      0.001    0.000    3040.0    4185.0   \n",
       "sigma  1.731  0.124   1.506    1.969      0.002    0.001    6412.0    4310.0   \n",
       "\n",
       "       r_hat  \n",
       "a        1.0  \n",
       "b_T      1.0  \n",
       "sigma    1.0  "
      ]
     },
     "execution_count": 10,
     "metadata": {},
     "output_type": "execute_result"
    }
   ],
   "source": [
    "az.summary(trace_6_8, var_names=['a', 'b_T', 'sigma'])"
   ]
  },
  {
   "cell_type": "markdown",
   "id": "charitable-woman",
   "metadata": {},
   "source": [
    "### Code 7.30"
   ]
  },
  {
   "cell_type": "code",
   "execution_count": 11,
   "id": "generous-founder",
   "metadata": {},
   "outputs": [
    {
     "data": {
      "text/plain": [
       "7.8231296939777755"
      ]
     },
     "execution_count": 11,
     "metadata": {},
     "output_type": "execute_result"
    }
   ],
   "source": [
    "waic_6_6 = az.waic(trace_6_6, pointwise=True, scale='deviance')\n",
    "\n",
    "diff_m6_6_m6_8 = (waic_6_6.waic_i - waic_6_8.waic_i).values\n",
    "\n",
    "n = len(diff_m6_6_m6_8)\n",
    "np.sqrt(n * np.var(diff_m6_6_m6_8))"
   ]
  },
  {
   "cell_type": "markdown",
   "id": "municipal-macro",
   "metadata": {},
   "source": [
    "### Code 7.31"
   ]
  },
  {
   "cell_type": "code",
   "execution_count": 12,
   "id": "demanding-pierce",
   "metadata": {},
   "outputs": [],
   "source": [
    "waic_6_6 = az.waic(trace_6_6, pointwise=True, scale='deviance')\n",
    "waic_6_7 = az.waic(trace_6_7, pointwise=True, scale='deviance')\n",
    "waic_6_8 = az.waic(trace_6_8, pointwise=True, scale='deviance')\n",
    "\n",
    "waic_list = [waic_6_6, waic_6_7, waic_6_8]\n",
    "dse_matrix = np.zeros((3, 3))\n",
    "\n",
    "start = 0\n",
    "\n",
    "while start < len(waic_list):\n",
    "    for w in range(start, len(waic_list)):\n",
    "        d = (waic_list[start].waic_i - waic_list[w].waic_i).values\n",
    "        n = len(d)\n",
    "        dse_matrix[start, w] = np.sqrt(n * np.var(d))\n",
    "    start += 1\n",
    "\n",
    "i_lower = np.tril_indices(3, -1)\n",
    "dse_matrix[i_lower] = dse_matrix.T[i_lower]\n",
    "\n",
    "dse_df = pd.DataFrame(dse_matrix, columns=['m_6_6', 'm_6_7', 'm_6_8'], index=['m_6_6', 'm_6_7', 'm_6_8'])"
   ]
  },
  {
   "cell_type": "code",
   "execution_count": 13,
   "id": "objective-delight",
   "metadata": {},
   "outputs": [
    {
     "data": {
      "text/html": [
       "<div>\n",
       "<style scoped>\n",
       "    .dataframe tbody tr th:only-of-type {\n",
       "        vertical-align: middle;\n",
       "    }\n",
       "\n",
       "    .dataframe tbody tr th {\n",
       "        vertical-align: top;\n",
       "    }\n",
       "\n",
       "    .dataframe thead th {\n",
       "        text-align: right;\n",
       "    }\n",
       "</style>\n",
       "<table border=\"1\" class=\"dataframe\">\n",
       "  <thead>\n",
       "    <tr style=\"text-align: right;\">\n",
       "      <th></th>\n",
       "      <th>m_6_6</th>\n",
       "      <th>m_6_7</th>\n",
       "      <th>m_6_8</th>\n",
       "    </tr>\n",
       "  </thead>\n",
       "  <tbody>\n",
       "    <tr>\n",
       "      <th>m_6_6</th>\n",
       "      <td>0.000000</td>\n",
       "      <td>11.760959</td>\n",
       "      <td>7.823130</td>\n",
       "    </tr>\n",
       "    <tr>\n",
       "      <th>m_6_7</th>\n",
       "      <td>11.760959</td>\n",
       "      <td>0.000000</td>\n",
       "      <td>10.742495</td>\n",
       "    </tr>\n",
       "    <tr>\n",
       "      <th>m_6_8</th>\n",
       "      <td>7.823130</td>\n",
       "      <td>10.742495</td>\n",
       "      <td>0.000000</td>\n",
       "    </tr>\n",
       "  </tbody>\n",
       "</table>\n",
       "</div>"
      ],
      "text/plain": [
       "           m_6_6      m_6_7      m_6_8\n",
       "m_6_6   0.000000  11.760959   7.823130\n",
       "m_6_7  11.760959   0.000000  10.742495\n",
       "m_6_8   7.823130  10.742495   0.000000"
      ]
     },
     "execution_count": 13,
     "metadata": {},
     "output_type": "execute_result"
    }
   ],
   "source": [
    "dse_df"
   ]
  },
  {
   "cell_type": "code",
   "execution_count": 14,
   "id": "lesser-amsterdam",
   "metadata": {},
   "outputs": [],
   "source": [
    "from typing import Dict\n",
    "\n",
    "\n",
    "def dse_compare(trace_dict: Dict[str, pm.backends.base.MultiTrace]):\n",
    "    waic_list = []\n",
    "    columns = []\n",
    "    \n",
    "    for model_name, trace in trace_dict.items():\n",
    "        waic = az.waic(trace, pointwise=True, scale='deviance')\n",
    "        waic_list.append(waic)\n",
    "        columns.append(model_name)\n",
    "        \n",
    "    num_models = len(columns) \n",
    "    dse_matrix = np.zeros((num_models, num_models))\n",
    "\n",
    "    start = 0\n",
    "\n",
    "    while start < len(waic_list):\n",
    "        for w in range(start, len(waic_list)):\n",
    "            d = (waic_list[start].waic_i - waic_list[w].waic_i).values\n",
    "            n = len(d)\n",
    "            dse_matrix[start, w] = np.sqrt(n * np.var(d))\n",
    "        start += 1\n",
    "\n",
    "    i_lower = np.tril_indices(num_models, -1)\n",
    "    dse_matrix[i_lower] = dse_matrix.T[i_lower]\n",
    "\n",
    "    dse_df = pd.DataFrame(dse_matrix, columns=columns, index=columns)\n",
    "    return dse_df"
   ]
  },
  {
   "cell_type": "code",
   "execution_count": 15,
   "id": "acknowledged-ethics",
   "metadata": {},
   "outputs": [
    {
     "data": {
      "text/html": [
       "<div>\n",
       "<style scoped>\n",
       "    .dataframe tbody tr th:only-of-type {\n",
       "        vertical-align: middle;\n",
       "    }\n",
       "\n",
       "    .dataframe tbody tr th {\n",
       "        vertical-align: top;\n",
       "    }\n",
       "\n",
       "    .dataframe thead th {\n",
       "        text-align: right;\n",
       "    }\n",
       "</style>\n",
       "<table border=\"1\" class=\"dataframe\">\n",
       "  <thead>\n",
       "    <tr style=\"text-align: right;\">\n",
       "      <th></th>\n",
       "      <th>m_6_6</th>\n",
       "      <th>m_6_7</th>\n",
       "      <th>m_6_8</th>\n",
       "    </tr>\n",
       "  </thead>\n",
       "  <tbody>\n",
       "    <tr>\n",
       "      <th>m_6_6</th>\n",
       "      <td>0.000000</td>\n",
       "      <td>11.760959</td>\n",
       "      <td>7.823130</td>\n",
       "    </tr>\n",
       "    <tr>\n",
       "      <th>m_6_7</th>\n",
       "      <td>11.760959</td>\n",
       "      <td>0.000000</td>\n",
       "      <td>10.742495</td>\n",
       "    </tr>\n",
       "    <tr>\n",
       "      <th>m_6_8</th>\n",
       "      <td>7.823130</td>\n",
       "      <td>10.742495</td>\n",
       "      <td>0.000000</td>\n",
       "    </tr>\n",
       "  </tbody>\n",
       "</table>\n",
       "</div>"
      ],
      "text/plain": [
       "           m_6_6      m_6_7      m_6_8\n",
       "m_6_6   0.000000  11.760959   7.823130\n",
       "m_6_7  11.760959   0.000000  10.742495\n",
       "m_6_8   7.823130  10.742495   0.000000"
      ]
     },
     "execution_count": 15,
     "metadata": {},
     "output_type": "execute_result"
    }
   ],
   "source": [
    "dse_compare(trace_dict)"
   ]
  },
  {
   "cell_type": "markdown",
   "id": "aerial-climb",
   "metadata": {},
   "source": [
    "# Setup for Code 7.32 Onwards"
   ]
  },
  {
   "cell_type": "code",
   "execution_count": 16,
   "id": "photographic-carol",
   "metadata": {},
   "outputs": [],
   "source": [
    "WAFFLE_DATA = 'waffle_divorce.csv'\n",
    "DATA_FOLDER = '../../data'\n",
    "\n",
    "df_waf = pd.read_csv(f'{DATA_FOLDER}/{WAFFLE_DATA}')\n",
    "df_waf['age_stan'] = (df_waf['MedianAgeMarriage'] - df_waf['MedianAgeMarriage'].mean()) / df_waf['MedianAgeMarriage'].std()\n",
    "df_waf['divorce_stan'] = (df_waf['Divorce'] - df_waf['Divorce'].mean()) / df_waf['Divorce'].std()\n",
    "df_waf['marriage_stan'] = (df_waf['Marriage'] - df_waf['Marriage'].mean()) /df_waf['Marriage'].std()"
   ]
  },
  {
   "cell_type": "code",
   "execution_count": 17,
   "id": "floppy-regular",
   "metadata": {},
   "outputs": [
    {
     "name": "stderr",
     "output_type": "stream",
     "text": [
      "Auto-assigning NUTS sampler...\n",
      "Initializing NUTS using jitter+adapt_diag...\n",
      "Multiprocess sampling (4 chains in 4 jobs)\n",
      "NUTS: [sigma, b_A, a]\n"
     ]
    },
    {
     "data": {
      "text/html": [
       "\n",
       "    <div>\n",
       "        <style>\n",
       "            /* Turns off some styling */\n",
       "            progress {\n",
       "                /* gets rid of default border in Firefox and Opera. */\n",
       "                border: none;\n",
       "                /* Needs to be in here for Safari polyfill so background images work as expected. */\n",
       "                background-size: auto;\n",
       "            }\n",
       "            .progress-bar-interrupted, .progress-bar-interrupted::-webkit-progress-bar {\n",
       "                background: #F44336;\n",
       "            }\n",
       "        </style>\n",
       "      <progress value='12000' class='' max='12000' style='width:300px; height:20px; vertical-align: middle;'></progress>\n",
       "      100.00% [12000/12000 00:06<00:00 Sampling 4 chains, 0 divergences]\n",
       "    </div>\n",
       "    "
      ],
      "text/plain": [
       "<IPython.core.display.HTML object>"
      ]
     },
     "metadata": {},
     "output_type": "display_data"
    },
    {
     "name": "stderr",
     "output_type": "stream",
     "text": [
      "Sampling 4 chains for 2_000 tune and 1_000 draw iterations (8_000 + 4_000 draws total) took 7 seconds.\n",
      "Auto-assigning NUTS sampler...\n",
      "Initializing NUTS using jitter+adapt_diag...\n",
      "Multiprocess sampling (4 chains in 4 jobs)\n",
      "NUTS: [sigma, b_M, a]\n"
     ]
    },
    {
     "data": {
      "text/html": [
       "\n",
       "    <div>\n",
       "        <style>\n",
       "            /* Turns off some styling */\n",
       "            progress {\n",
       "                /* gets rid of default border in Firefox and Opera. */\n",
       "                border: none;\n",
       "                /* Needs to be in here for Safari polyfill so background images work as expected. */\n",
       "                background-size: auto;\n",
       "            }\n",
       "            .progress-bar-interrupted, .progress-bar-interrupted::-webkit-progress-bar {\n",
       "                background: #F44336;\n",
       "            }\n",
       "        </style>\n",
       "      <progress value='12000' class='' max='12000' style='width:300px; height:20px; vertical-align: middle;'></progress>\n",
       "      100.00% [12000/12000 00:05<00:00 Sampling 4 chains, 0 divergences]\n",
       "    </div>\n",
       "    "
      ],
      "text/plain": [
       "<IPython.core.display.HTML object>"
      ]
     },
     "metadata": {},
     "output_type": "display_data"
    },
    {
     "name": "stderr",
     "output_type": "stream",
     "text": [
      "Sampling 4 chains for 2_000 tune and 1_000 draw iterations (8_000 + 4_000 draws total) took 5 seconds.\n",
      "Auto-assigning NUTS sampler...\n",
      "Initializing NUTS using jitter+adapt_diag...\n",
      "Multiprocess sampling (4 chains in 4 jobs)\n",
      "NUTS: [sigma, b_M, b_A, a]\n"
     ]
    },
    {
     "data": {
      "text/html": [
       "\n",
       "    <div>\n",
       "        <style>\n",
       "            /* Turns off some styling */\n",
       "            progress {\n",
       "                /* gets rid of default border in Firefox and Opera. */\n",
       "                border: none;\n",
       "                /* Needs to be in here for Safari polyfill so background images work as expected. */\n",
       "                background-size: auto;\n",
       "            }\n",
       "            .progress-bar-interrupted, .progress-bar-interrupted::-webkit-progress-bar {\n",
       "                background: #F44336;\n",
       "            }\n",
       "        </style>\n",
       "      <progress value='12000' class='' max='12000' style='width:300px; height:20px; vertical-align: middle;'></progress>\n",
       "      100.00% [12000/12000 00:08<00:00 Sampling 4 chains, 0 divergences]\n",
       "    </div>\n",
       "    "
      ],
      "text/plain": [
       "<IPython.core.display.HTML object>"
      ]
     },
     "metadata": {},
     "output_type": "display_data"
    },
    {
     "name": "stderr",
     "output_type": "stream",
     "text": [
      "Sampling 4 chains for 2_000 tune and 1_000 draw iterations (8_000 + 4_000 draws total) took 9 seconds.\n"
     ]
    }
   ],
   "source": [
    "with pm.Model() as m_5_1:\n",
    "    a = pm.Normal('a', mu=0.0, sigma=0.2)\n",
    "    b_A = pm.Normal('b_A', mu=0.0, sigma=0.5)\n",
    "    sigma = pm.Exponential('sigma', lam=1.0)\n",
    "    \n",
    "    mu = pm.Deterministic('mu', a + b_A * df_waf['age_stan'])\n",
    "    D = pm.Normal('D', mu=mu, sigma=sigma, observed=df_waf['divorce_stan'])\n",
    "    \n",
    "    trace_5_1 = pm.sample(1000, tune=2000)\n",
    "\n",
    "    \n",
    "with pm.Model() as m_5_2:\n",
    "    a = pm.Normal('a', mu=0.0, sigma=0.2)\n",
    "    b_M = pm.Normal('b_M', mu=0.0, sigma=0.5)\n",
    "    sigma = pm.Exponential('sigma', lam=1.0)\n",
    "    \n",
    "    mu = pm.Deterministic('mu', a + b_M * df_waf['marriage_stan'])\n",
    "    D = pm.Normal('D', mu=mu, sigma=sigma, observed=df_waf['divorce_stan'])\n",
    "    \n",
    "    trace_5_2 = pm.sample(1000, tune=2000)\n",
    "\n",
    "    \n",
    "with pm.Model() as m_5_3:\n",
    "    a = pm.Normal('a', mu=0.0, sigma=0.2)\n",
    "    b_A = pm.Normal('b_A', mu=0.0, sigma=0.5)\n",
    "    b_M = pm.Normal('b_M', mu=0.0, sigma=0.5)\n",
    "    sigma = pm.Exponential('sigma', lam=1.0)\n",
    "    \n",
    "    mu = pm.Deterministic('mu', a + b_A * df_waf['age_stan'] + b_M * df_waf['marriage_stan'])\n",
    "    D = pm.Normal('D', mu=mu, sigma=sigma, observed=df_waf['divorce_stan'])\n",
    "    \n",
    "    trace_5_3 = pm.sample(1000, tune=2000)"
   ]
  },
  {
   "cell_type": "code",
   "execution_count": 18,
   "id": "minus-navigation",
   "metadata": {},
   "outputs": [
    {
     "data": {
      "text/html": [
       "<div>\n",
       "<style scoped>\n",
       "    .dataframe tbody tr th:only-of-type {\n",
       "        vertical-align: middle;\n",
       "    }\n",
       "\n",
       "    .dataframe tbody tr th {\n",
       "        vertical-align: top;\n",
       "    }\n",
       "\n",
       "    .dataframe thead th {\n",
       "        text-align: right;\n",
       "    }\n",
       "</style>\n",
       "<table border=\"1\" class=\"dataframe\">\n",
       "  <thead>\n",
       "    <tr style=\"text-align: right;\">\n",
       "      <th></th>\n",
       "      <th>mean</th>\n",
       "      <th>sd</th>\n",
       "      <th>hdi_5.5%</th>\n",
       "      <th>hdi_94.5%</th>\n",
       "      <th>mcse_mean</th>\n",
       "      <th>mcse_sd</th>\n",
       "      <th>ess_bulk</th>\n",
       "      <th>ess_tail</th>\n",
       "      <th>r_hat</th>\n",
       "    </tr>\n",
       "  </thead>\n",
       "  <tbody>\n",
       "    <tr>\n",
       "      <th>a</th>\n",
       "      <td>-0.002</td>\n",
       "      <td>0.100</td>\n",
       "      <td>-0.157</td>\n",
       "      <td>0.159</td>\n",
       "      <td>0.001</td>\n",
       "      <td>0.002</td>\n",
       "      <td>5499.0</td>\n",
       "      <td>2799.0</td>\n",
       "      <td>1.0</td>\n",
       "    </tr>\n",
       "    <tr>\n",
       "      <th>b_A</th>\n",
       "      <td>-0.566</td>\n",
       "      <td>0.118</td>\n",
       "      <td>-0.757</td>\n",
       "      <td>-0.386</td>\n",
       "      <td>0.002</td>\n",
       "      <td>0.001</td>\n",
       "      <td>4802.0</td>\n",
       "      <td>2717.0</td>\n",
       "      <td>1.0</td>\n",
       "    </tr>\n",
       "    <tr>\n",
       "      <th>sigma</th>\n",
       "      <td>0.822</td>\n",
       "      <td>0.085</td>\n",
       "      <td>0.683</td>\n",
       "      <td>0.951</td>\n",
       "      <td>0.001</td>\n",
       "      <td>0.001</td>\n",
       "      <td>4092.0</td>\n",
       "      <td>2432.0</td>\n",
       "      <td>1.0</td>\n",
       "    </tr>\n",
       "  </tbody>\n",
       "</table>\n",
       "</div>"
      ],
      "text/plain": [
       "        mean     sd  hdi_5.5%  hdi_94.5%  mcse_mean  mcse_sd  ess_bulk  \\\n",
       "a     -0.002  0.100    -0.157      0.159      0.001    0.002    5499.0   \n",
       "b_A   -0.566  0.118    -0.757     -0.386      0.002    0.001    4802.0   \n",
       "sigma  0.822  0.085     0.683      0.951      0.001    0.001    4092.0   \n",
       "\n",
       "       ess_tail  r_hat  \n",
       "a        2799.0    1.0  \n",
       "b_A      2717.0    1.0  \n",
       "sigma    2432.0    1.0  "
      ]
     },
     "execution_count": 18,
     "metadata": {},
     "output_type": "execute_result"
    }
   ],
   "source": [
    "az.summary(trace_5_1, var_names=['a', 'b_A', 'sigma'], hdi_prob=0.89)"
   ]
  },
  {
   "cell_type": "code",
   "execution_count": 19,
   "id": "bright-triumph",
   "metadata": {},
   "outputs": [
    {
     "data": {
      "text/html": [
       "<div>\n",
       "<style scoped>\n",
       "    .dataframe tbody tr th:only-of-type {\n",
       "        vertical-align: middle;\n",
       "    }\n",
       "\n",
       "    .dataframe tbody tr th {\n",
       "        vertical-align: top;\n",
       "    }\n",
       "\n",
       "    .dataframe thead th {\n",
       "        text-align: right;\n",
       "    }\n",
       "</style>\n",
       "<table border=\"1\" class=\"dataframe\">\n",
       "  <thead>\n",
       "    <tr style=\"text-align: right;\">\n",
       "      <th></th>\n",
       "      <th>mean</th>\n",
       "      <th>sd</th>\n",
       "      <th>hdi_5.5%</th>\n",
       "      <th>hdi_94.5%</th>\n",
       "      <th>mcse_mean</th>\n",
       "      <th>mcse_sd</th>\n",
       "      <th>ess_bulk</th>\n",
       "      <th>ess_tail</th>\n",
       "      <th>r_hat</th>\n",
       "    </tr>\n",
       "  </thead>\n",
       "  <tbody>\n",
       "    <tr>\n",
       "      <th>a</th>\n",
       "      <td>-0.001</td>\n",
       "      <td>0.111</td>\n",
       "      <td>-0.177</td>\n",
       "      <td>0.174</td>\n",
       "      <td>0.002</td>\n",
       "      <td>0.002</td>\n",
       "      <td>4624.0</td>\n",
       "      <td>2833.0</td>\n",
       "      <td>1.0</td>\n",
       "    </tr>\n",
       "    <tr>\n",
       "      <th>b_M</th>\n",
       "      <td>0.348</td>\n",
       "      <td>0.130</td>\n",
       "      <td>0.147</td>\n",
       "      <td>0.564</td>\n",
       "      <td>0.002</td>\n",
       "      <td>0.001</td>\n",
       "      <td>4925.0</td>\n",
       "      <td>3015.0</td>\n",
       "      <td>1.0</td>\n",
       "    </tr>\n",
       "    <tr>\n",
       "      <th>sigma</th>\n",
       "      <td>0.947</td>\n",
       "      <td>0.101</td>\n",
       "      <td>0.783</td>\n",
       "      <td>1.094</td>\n",
       "      <td>0.002</td>\n",
       "      <td>0.001</td>\n",
       "      <td>3751.0</td>\n",
       "      <td>2763.0</td>\n",
       "      <td>1.0</td>\n",
       "    </tr>\n",
       "  </tbody>\n",
       "</table>\n",
       "</div>"
      ],
      "text/plain": [
       "        mean     sd  hdi_5.5%  hdi_94.5%  mcse_mean  mcse_sd  ess_bulk  \\\n",
       "a     -0.001  0.111    -0.177      0.174      0.002    0.002    4624.0   \n",
       "b_M    0.348  0.130     0.147      0.564      0.002    0.001    4925.0   \n",
       "sigma  0.947  0.101     0.783      1.094      0.002    0.001    3751.0   \n",
       "\n",
       "       ess_tail  r_hat  \n",
       "a        2833.0    1.0  \n",
       "b_M      3015.0    1.0  \n",
       "sigma    2763.0    1.0  "
      ]
     },
     "execution_count": 19,
     "metadata": {},
     "output_type": "execute_result"
    }
   ],
   "source": [
    "az.summary(trace_5_2, var_names=['a', 'b_M', 'sigma'], hdi_prob=0.89)"
   ]
  },
  {
   "cell_type": "code",
   "execution_count": 20,
   "id": "minor-bidder",
   "metadata": {},
   "outputs": [
    {
     "data": {
      "text/html": [
       "<div>\n",
       "<style scoped>\n",
       "    .dataframe tbody tr th:only-of-type {\n",
       "        vertical-align: middle;\n",
       "    }\n",
       "\n",
       "    .dataframe tbody tr th {\n",
       "        vertical-align: top;\n",
       "    }\n",
       "\n",
       "    .dataframe thead th {\n",
       "        text-align: right;\n",
       "    }\n",
       "</style>\n",
       "<table border=\"1\" class=\"dataframe\">\n",
       "  <thead>\n",
       "    <tr style=\"text-align: right;\">\n",
       "      <th></th>\n",
       "      <th>mean</th>\n",
       "      <th>sd</th>\n",
       "      <th>hdi_5.5%</th>\n",
       "      <th>hdi_94.5%</th>\n",
       "      <th>mcse_mean</th>\n",
       "      <th>mcse_sd</th>\n",
       "      <th>ess_bulk</th>\n",
       "      <th>ess_tail</th>\n",
       "      <th>r_hat</th>\n",
       "    </tr>\n",
       "  </thead>\n",
       "  <tbody>\n",
       "    <tr>\n",
       "      <th>a</th>\n",
       "      <td>0.003</td>\n",
       "      <td>0.101</td>\n",
       "      <td>-0.153</td>\n",
       "      <td>0.170</td>\n",
       "      <td>0.002</td>\n",
       "      <td>0.002</td>\n",
       "      <td>3338.0</td>\n",
       "      <td>2594.0</td>\n",
       "      <td>1.0</td>\n",
       "    </tr>\n",
       "    <tr>\n",
       "      <th>b_A</th>\n",
       "      <td>-0.602</td>\n",
       "      <td>0.153</td>\n",
       "      <td>-0.852</td>\n",
       "      <td>-0.368</td>\n",
       "      <td>0.003</td>\n",
       "      <td>0.002</td>\n",
       "      <td>2437.0</td>\n",
       "      <td>2785.0</td>\n",
       "      <td>1.0</td>\n",
       "    </tr>\n",
       "    <tr>\n",
       "      <th>b_M</th>\n",
       "      <td>-0.055</td>\n",
       "      <td>0.156</td>\n",
       "      <td>-0.307</td>\n",
       "      <td>0.190</td>\n",
       "      <td>0.003</td>\n",
       "      <td>0.002</td>\n",
       "      <td>2298.0</td>\n",
       "      <td>2770.0</td>\n",
       "      <td>1.0</td>\n",
       "    </tr>\n",
       "    <tr>\n",
       "      <th>sigma</th>\n",
       "      <td>0.827</td>\n",
       "      <td>0.089</td>\n",
       "      <td>0.686</td>\n",
       "      <td>0.963</td>\n",
       "      <td>0.002</td>\n",
       "      <td>0.001</td>\n",
       "      <td>2690.0</td>\n",
       "      <td>2178.0</td>\n",
       "      <td>1.0</td>\n",
       "    </tr>\n",
       "  </tbody>\n",
       "</table>\n",
       "</div>"
      ],
      "text/plain": [
       "        mean     sd  hdi_5.5%  hdi_94.5%  mcse_mean  mcse_sd  ess_bulk  \\\n",
       "a      0.003  0.101    -0.153      0.170      0.002    0.002    3338.0   \n",
       "b_A   -0.602  0.153    -0.852     -0.368      0.003    0.002    2437.0   \n",
       "b_M   -0.055  0.156    -0.307      0.190      0.003    0.002    2298.0   \n",
       "sigma  0.827  0.089     0.686      0.963      0.002    0.001    2690.0   \n",
       "\n",
       "       ess_tail  r_hat  \n",
       "a        2594.0    1.0  \n",
       "b_A      2785.0    1.0  \n",
       "b_M      2770.0    1.0  \n",
       "sigma    2178.0    1.0  "
      ]
     },
     "execution_count": 20,
     "metadata": {},
     "output_type": "execute_result"
    }
   ],
   "source": [
    "az.summary(trace_5_3, var_names=['a', 'b_A', 'b_M', 'sigma'], hdi_prob=0.89)"
   ]
  },
  {
   "cell_type": "markdown",
   "id": "configured-stylus",
   "metadata": {},
   "source": [
    "### Code 7.33"
   ]
  },
  {
   "cell_type": "code",
   "execution_count": 21,
   "id": "identified-ceiling",
   "metadata": {},
   "outputs": [
    {
     "data": {
      "text/html": [
       "<div>\n",
       "<style scoped>\n",
       "    .dataframe tbody tr th:only-of-type {\n",
       "        vertical-align: middle;\n",
       "    }\n",
       "\n",
       "    .dataframe tbody tr th {\n",
       "        vertical-align: top;\n",
       "    }\n",
       "\n",
       "    .dataframe thead th {\n",
       "        text-align: right;\n",
       "    }\n",
       "</style>\n",
       "<table border=\"1\" class=\"dataframe\">\n",
       "  <thead>\n",
       "    <tr style=\"text-align: right;\">\n",
       "      <th></th>\n",
       "      <th>rank</th>\n",
       "      <th>loo</th>\n",
       "      <th>p_loo</th>\n",
       "      <th>d_loo</th>\n",
       "      <th>weight</th>\n",
       "      <th>se</th>\n",
       "      <th>dse</th>\n",
       "      <th>warning</th>\n",
       "      <th>loo_scale</th>\n",
       "    </tr>\n",
       "  </thead>\n",
       "  <tbody>\n",
       "    <tr>\n",
       "      <th>m_5_1</th>\n",
       "      <td>0</td>\n",
       "      <td>126.173910</td>\n",
       "      <td>3.873843</td>\n",
       "      <td>0.000000</td>\n",
       "      <td>8.917189e-01</td>\n",
       "      <td>12.905073</td>\n",
       "      <td>0.000000</td>\n",
       "      <td>False</td>\n",
       "      <td>deviance</td>\n",
       "    </tr>\n",
       "    <tr>\n",
       "      <th>m_5_3</th>\n",
       "      <td>1</td>\n",
       "      <td>127.788259</td>\n",
       "      <td>4.833409</td>\n",
       "      <td>1.614348</td>\n",
       "      <td>1.559207e-15</td>\n",
       "      <td>12.940501</td>\n",
       "      <td>0.683417</td>\n",
       "      <td>True</td>\n",
       "      <td>deviance</td>\n",
       "    </tr>\n",
       "    <tr>\n",
       "      <th>m_5_2</th>\n",
       "      <td>2</td>\n",
       "      <td>139.409835</td>\n",
       "      <td>2.991494</td>\n",
       "      <td>13.235925</td>\n",
       "      <td>1.082811e-01</td>\n",
       "      <td>9.899235</td>\n",
       "      <td>9.417183</td>\n",
       "      <td>False</td>\n",
       "      <td>deviance</td>\n",
       "    </tr>\n",
       "  </tbody>\n",
       "</table>\n",
       "</div>"
      ],
      "text/plain": [
       "       rank         loo     p_loo      d_loo        weight         se  \\\n",
       "m_5_1     0  126.173910  3.873843   0.000000  8.917189e-01  12.905073   \n",
       "m_5_3     1  127.788259  4.833409   1.614348  1.559207e-15  12.940501   \n",
       "m_5_2     2  139.409835  2.991494  13.235925  1.082811e-01   9.899235   \n",
       "\n",
       "            dse  warning loo_scale  \n",
       "m_5_1  0.000000    False  deviance  \n",
       "m_5_3  0.683417     True  deviance  \n",
       "m_5_2  9.417183    False  deviance  "
      ]
     },
     "execution_count": 21,
     "metadata": {},
     "output_type": "execute_result"
    }
   ],
   "source": [
    "# LOO is leave-one-out (PSIS-LOO loo) cross-validation\n",
    "\n",
    "az.compare({'m_5_1': trace_5_1, 'm_5_2': trace_5_2, 'm_5_3': trace_5_3}, ic='loo', scale='deviance')"
   ]
  },
  {
   "cell_type": "code",
   "execution_count": 22,
   "id": "silver-faculty",
   "metadata": {},
   "outputs": [
    {
     "data": {
      "text/html": [
       "<div>\n",
       "<style scoped>\n",
       "    .dataframe tbody tr th:only-of-type {\n",
       "        vertical-align: middle;\n",
       "    }\n",
       "\n",
       "    .dataframe tbody tr th {\n",
       "        vertical-align: top;\n",
       "    }\n",
       "\n",
       "    .dataframe thead th {\n",
       "        text-align: right;\n",
       "    }\n",
       "</style>\n",
       "<table border=\"1\" class=\"dataframe\">\n",
       "  <thead>\n",
       "    <tr style=\"text-align: right;\">\n",
       "      <th></th>\n",
       "      <th>rank</th>\n",
       "      <th>waic</th>\n",
       "      <th>p_waic</th>\n",
       "      <th>d_waic</th>\n",
       "      <th>weight</th>\n",
       "      <th>se</th>\n",
       "      <th>dse</th>\n",
       "      <th>warning</th>\n",
       "      <th>waic_scale</th>\n",
       "    </tr>\n",
       "  </thead>\n",
       "  <tbody>\n",
       "    <tr>\n",
       "      <th>m_5_1</th>\n",
       "      <td>0</td>\n",
       "      <td>125.931833</td>\n",
       "      <td>3.752804</td>\n",
       "      <td>0.000000</td>\n",
       "      <td>8.939682e-01</td>\n",
       "      <td>12.731625</td>\n",
       "      <td>0.000000</td>\n",
       "      <td>True</td>\n",
       "      <td>deviance</td>\n",
       "    </tr>\n",
       "    <tr>\n",
       "      <th>m_5_3</th>\n",
       "      <td>1</td>\n",
       "      <td>127.498527</td>\n",
       "      <td>4.688543</td>\n",
       "      <td>1.566694</td>\n",
       "      <td>1.503719e-15</td>\n",
       "      <td>12.744866</td>\n",
       "      <td>0.686978</td>\n",
       "      <td>True</td>\n",
       "      <td>deviance</td>\n",
       "    </tr>\n",
       "    <tr>\n",
       "      <th>m_5_2</th>\n",
       "      <td>2</td>\n",
       "      <td>139.319665</td>\n",
       "      <td>2.946409</td>\n",
       "      <td>13.387832</td>\n",
       "      <td>1.060318e-01</td>\n",
       "      <td>9.853464</td>\n",
       "      <td>9.228990</td>\n",
       "      <td>True</td>\n",
       "      <td>deviance</td>\n",
       "    </tr>\n",
       "  </tbody>\n",
       "</table>\n",
       "</div>"
      ],
      "text/plain": [
       "       rank        waic    p_waic     d_waic        weight         se  \\\n",
       "m_5_1     0  125.931833  3.752804   0.000000  8.939682e-01  12.731625   \n",
       "m_5_3     1  127.498527  4.688543   1.566694  1.503719e-15  12.744866   \n",
       "m_5_2     2  139.319665  2.946409  13.387832  1.060318e-01   9.853464   \n",
       "\n",
       "            dse  warning waic_scale  \n",
       "m_5_1  0.000000     True   deviance  \n",
       "m_5_3  0.686978     True   deviance  \n",
       "m_5_2  9.228990     True   deviance  "
      ]
     },
     "execution_count": 22,
     "metadata": {},
     "output_type": "execute_result"
    }
   ],
   "source": [
    "\n",
    "az.compare({'m_5_1': trace_5_1, 'm_5_2': trace_5_2, 'm_5_3': trace_5_3}, ic='waic', scale='deviance')"
   ]
  },
  {
   "cell_type": "markdown",
   "id": "dynamic-symposium",
   "metadata": {},
   "source": [
    "### Code 7.34"
   ]
  },
  {
   "cell_type": "code",
   "execution_count": 27,
   "id": "rational-valley",
   "metadata": {},
   "outputs": [
    {
     "data": {
      "text/plain": [
       "<matplotlib.collections.LineCollection at 0x7f0ab5074af0>"
      ]
     },
     "execution_count": 27,
     "metadata": {},
     "output_type": "execute_result"
    },
    {
     "data": {
      "image/png": "[encoded data removed]",
      "text/plain": [
       "<Figure size 432x288 with 1 Axes>"
      ]
     },
     "metadata": {
      "needs_background": "light"
     },
     "output_type": "display_data"
    }
   ],
   "source": [
    "psis_m_5_3 = az.loo(trace_5_3, pointwise=True, scale='deviance')\n",
    "waic_m_5_3 = az.waic(trace_5_3, pointwise=True, scale='deviance')\n",
    "\n",
    "plt.scatter(psis_m_5_3.pareto_k, waic_m_5_3.waic_i)\n",
    "plt.xlabel('PSIS Pareto k')\n",
    "plt.ylabel('WAIC penalty')\n",
    "\n",
    "plt.ylim(-1, 14)\n",
    "plt.vlines(x=0.5, ymin=-1, ymax=14, linestyle='--')"
   ]
  },
  {
   "cell_type": "markdown",
   "id": "lyric-democracy",
   "metadata": {},
   "source": [
    "## Using Student-$t$ Instead of the Normal for Divorce Rates\n",
    "\n",
    "Recall that if $Z \\sim N(0, 1)$ and $Y \\sim \\chi_{k}^2$ are independent random variables, then \n",
    "$$\n",
    "    X = \\frac{Z}{\\sqrt{Y / k}} \n",
    "$$\n",
    "has the Student-$t$ distribution with $k$ degrees of freedom. The pdf of this distribution is:\n",
    "$$\n",
    "    f_{X}(x) = \\frac{\\Gamma(\\frac{m + 1}{2})}{\\Gamma(\\frac{m}{2})} \\cdot \n",
    "               \\frac{1}{\\sqrt{\\pi m}} \\cdot \n",
    "               \\left ( 1 + \\frac{x^2}{m} \\right )^{- (m + 1) / 2}.\n",
    "$$\n",
    "\n",
    "The usual context in which this distribution arises is when we have a random sample $X_1, \\ldots, X_n$ from a normal distribution $N(\\mu, \\sigma^2)$. Then the sample mean $\\bar{X}_n \\sim N(\\mu, \\sigma^2 / n)$ and the normalized sample mean has the standard normal distribution:\n",
    "$$\n",
    "    \\frac{\\bar{X}_n - \\mu}{\\sigma / \\sqrt{n}} \\sim N(0, 1).\n",
    "$$\n",
    "\n",
    "It turns out that the scaled sample variance has the chi-squared distirbution with $n - 1$ degrees of freedom. \n",
    "$$\n",
    "    \\frac{\\sum_{i = 1}^n (X_i - \\bar{X}_n)^2}{\\sigma^2} \\sim \\chi^2_{n - 1}.\n",
    "$$\n",
    "\n",
    "And importantly, for random samples from a normal distribution, the sample mean and sample variance are independent random variables. Thus, \n",
    "$$\n",
    "     \\frac{\\bar{X}_n - \\mu}{\\sigma / \\sqrt{n}} \\div \n",
    "     \\sqrt{\\frac{\\sum_{i = 1}^n (X_i - \\bar{X}_n)^2}{\\sigma^2 (n -1)}} \\sim t_{n - 1}.\n",
    "$$\n",
    "\n",
    "This is usually written as:\n",
    "$$\n",
    "     \\frac{\\bar{X}_n - \\mu}{\\sigma' / \\sqrt{n}} \\sim t_{n - 1},\n",
    "$$\n",
    "where \n",
    "$$\n",
    "    \\sigma' = \\sqrt{\\frac{\\sum_{i = 1}^n (X_i - \\bar{X}_n)^2}{n - 1}}.\n",
    "$$"
   ]
  }
 ],
 "metadata": {
  "kernelspec": {
   "display_name": "stat-rethink",
   "language": "python",
   "name": "stat-rethink"
  },
  "language_info": {
   "codemirror_mode": {
    "name": "ipython",
    "version": 3
   },
   "file_extension": ".py",
   "mimetype": "text/x-python",
   "name": "python",
   "nbconvert_exporter": "python",
   "pygments_lexer": "ipython3",
   "version": "3.9.2"
  }
 },
 "nbformat": 4,
 "nbformat_minor": 5
}
