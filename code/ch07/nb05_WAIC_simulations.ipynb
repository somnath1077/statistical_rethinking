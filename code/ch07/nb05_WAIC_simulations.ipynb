{
 "cells": [
  {
   "cell_type": "code",
   "execution_count": 1,
   "id": "wireless-roman",
   "metadata": {},
   "outputs": [],
   "source": [
    "import arviz as az\n",
    "import matplotlib.pyplot as plt\n",
    "import numpy as np\n",
    "import pandas as pd\n",
    "import pymc3 as pm\n",
    "import seaborn as sns\n",
    "import warnings\n",
    "\n",
    "\n",
    "from scipy.stats import norm, binom\n",
    "\n",
    "warnings.filterwarnings('ignore')"
   ]
  },
  {
   "cell_type": "markdown",
   "id": "dying-likelihood",
   "metadata": {},
   "source": [
    "### Set up for code 7.25 onwards"
   ]
  },
  {
   "cell_type": "code",
   "execution_count": 2,
   "id": "catholic-stretch",
   "metadata": {},
   "outputs": [
    {
     "data": {
      "text/html": [
       "<div>\n",
       "<style scoped>\n",
       "    .dataframe tbody tr th:only-of-type {\n",
       "        vertical-align: middle;\n",
       "    }\n",
       "\n",
       "    .dataframe tbody tr th {\n",
       "        vertical-align: top;\n",
       "    }\n",
       "\n",
       "    .dataframe thead th {\n",
       "        text-align: right;\n",
       "    }\n",
       "</style>\n",
       "<table border=\"1\" class=\"dataframe\">\n",
       "  <thead>\n",
       "    <tr style=\"text-align: right;\">\n",
       "      <th></th>\n",
       "      <th>h0</th>\n",
       "      <th>h1</th>\n",
       "      <th>treatment</th>\n",
       "      <th>fungus</th>\n",
       "    </tr>\n",
       "  </thead>\n",
       "  <tbody>\n",
       "    <tr>\n",
       "      <th>count</th>\n",
       "      <td>100.000000</td>\n",
       "      <td>100.000000</td>\n",
       "      <td>100.000000</td>\n",
       "      <td>100.000000</td>\n",
       "    </tr>\n",
       "    <tr>\n",
       "      <th>mean</th>\n",
       "      <td>9.955211</td>\n",
       "      <td>13.779175</td>\n",
       "      <td>0.500000</td>\n",
       "      <td>0.360000</td>\n",
       "    </tr>\n",
       "    <tr>\n",
       "      <th>std</th>\n",
       "      <td>1.888951</td>\n",
       "      <td>2.491715</td>\n",
       "      <td>0.502519</td>\n",
       "      <td>0.482418</td>\n",
       "    </tr>\n",
       "    <tr>\n",
       "      <th>min</th>\n",
       "      <td>5.451161</td>\n",
       "      <td>6.891129</td>\n",
       "      <td>0.000000</td>\n",
       "      <td>0.000000</td>\n",
       "    </tr>\n",
       "    <tr>\n",
       "      <th>5.5%</th>\n",
       "      <td>7.185326</td>\n",
       "      <td>9.604864</td>\n",
       "      <td>0.000000</td>\n",
       "      <td>0.000000</td>\n",
       "    </tr>\n",
       "    <tr>\n",
       "      <th>50%</th>\n",
       "      <td>9.764998</td>\n",
       "      <td>13.710347</td>\n",
       "      <td>0.500000</td>\n",
       "      <td>0.000000</td>\n",
       "    </tr>\n",
       "    <tr>\n",
       "      <th>94.5%</th>\n",
       "      <td>13.036594</td>\n",
       "      <td>17.719956</td>\n",
       "      <td>1.000000</td>\n",
       "      <td>1.000000</td>\n",
       "    </tr>\n",
       "    <tr>\n",
       "      <th>max</th>\n",
       "      <td>14.395075</td>\n",
       "      <td>19.079618</td>\n",
       "      <td>1.000000</td>\n",
       "      <td>1.000000</td>\n",
       "    </tr>\n",
       "  </tbody>\n",
       "</table>\n",
       "</div>"
      ],
      "text/plain": [
       "               h0          h1   treatment      fungus\n",
       "count  100.000000  100.000000  100.000000  100.000000\n",
       "mean     9.955211   13.779175    0.500000    0.360000\n",
       "std      1.888951    2.491715    0.502519    0.482418\n",
       "min      5.451161    6.891129    0.000000    0.000000\n",
       "5.5%     7.185326    9.604864    0.000000    0.000000\n",
       "50%      9.764998   13.710347    0.500000    0.000000\n",
       "94.5%   13.036594   17.719956    1.000000    1.000000\n",
       "max     14.395075   19.079618    1.000000    1.000000"
      ]
     },
     "execution_count": 2,
     "metadata": {},
     "output_type": "execute_result"
    }
   ],
   "source": [
    "# number of plants\n",
    "N = 100\n",
    "\n",
    "# initial heights\n",
    "h0 = norm.rvs(loc=10, scale=2, size=N)\n",
    "\n",
    "# assign treatment and fungus growth\n",
    "treatment = np.zeros(N)\n",
    "treatment[N//2:] = 1\n",
    "\n",
    "# there is a 10% chance of fungus growth for the plants that have been treated; and 50% for those that haven't\n",
    "fungus = binom.rvs(n=1, p=0.5 - 0.4 * treatment, loc=0, size=N)\n",
    "\n",
    "# the mean height for plants without fungus is 10 + 5 = 15; for those with fungus: 10 + 2 = 12\n",
    "h1 = h0 + norm.rvs(loc=5 - 3 * fungus, scale=1, size=N)\n",
    "\n",
    "df = pd.DataFrame({'h0': h0, 'h1': h1, 'treatment': treatment, 'fungus': fungus})\n",
    "df.describe([0.055, 0.945])"
   ]
  },
  {
   "cell_type": "markdown",
   "id": "affecting-decimal",
   "metadata": {},
   "source": [
    "# Causal Diagram of Fungal Growth Simulation\n",
    "\n",
    "$$\n",
    "    H_0 \\rightarrow H_1 \\leftarrow F \\leftarrow T\n",
    "$$\n",
    "\n",
    "\n",
    "# Models M6.6, M6.7, M6.8 \n",
    "\n",
    "### Model M.6.6 \n",
    "\n",
    "$$\n",
    "\\begin{align*}\n",
    "    h_{1 i} & \\sim N(\\mu_i, \\sigma) \\\\\n",
    "    \\mu_i   & = h_{0 i} \\times p \\\\\n",
    "     p      & \\sim \\text{LogNormal}(0, 0.25)\n",
    "\\end{align*}\n",
    "$$\n",
    "\n",
    "### Model M6.7\n",
    "\n",
    "$$\n",
    "\\begin{align*}\n",
    "    h_{1 i} & \\sim N(\\mu_i, \\sigma) \\\\\n",
    "    \\mu_i   & = h_{0 i} \\times p \\\\\n",
    "    p       & = \\alpha + \\beta_T \\cdot T_i + \\beta_F \\cdot F_i \\\\\n",
    "    \\alpha  & \\sim \\text{LogNormal}(0, 0.25) \\\\\n",
    "    \\beta_T & \\sim N(0, 0.5) \\\\\n",
    "    \\beta_F & \\sim N(0, 0.5) \\\\\n",
    "    \\sigma  & \\sim \\text{Exponential}(1)\n",
    "\\end{align*}\n",
    "$$\n",
    "\n",
    "\n",
    "### Model M6.8\n",
    "\n",
    "$$\n",
    "\\begin{align*}\n",
    "    h_{1 i} & \\sim N(\\mu_i, \\sigma) \\\\\n",
    "    \\mu_i   & = h_{0 i} \\times p \\\\\n",
    "    p       & = \\alpha + \\beta_T \\cdot T_i \\\\\n",
    "    \\alpha  & \\sim \\text{LogNormal}(0, 0.25) \\\\\n",
    "    \\beta_T & \\sim N(0, 0.5) \\\\\n",
    "    \\sigma  & \\sim \\text{Exponential}(1)\n",
    "\\end{align*}\n",
    "$$"
   ]
  },
  {
   "cell_type": "code",
   "execution_count": 3,
   "id": "union-warning",
   "metadata": {},
   "outputs": [
    {
     "name": "stderr",
     "output_type": "stream",
     "text": [
      "Auto-assigning NUTS sampler...\n",
      "Initializing NUTS using jitter+adapt_diag...\n",
      "Multiprocess sampling (4 chains in 4 jobs)\n",
      "NUTS: [sigma, p]\n"
     ]
    },
    {
     "data": {
      "text/html": [
       "\n",
       "    <div>\n",
       "        <style>\n",
       "            /* Turns off some styling */\n",
       "            progress {\n",
       "                /* gets rid of default border in Firefox and Opera. */\n",
       "                border: none;\n",
       "                /* Needs to be in here for Safari polyfill so background images work as expected. */\n",
       "                background-size: auto;\n",
       "            }\n",
       "            .progress-bar-interrupted, .progress-bar-interrupted::-webkit-progress-bar {\n",
       "                background: #F44336;\n",
       "            }\n",
       "        </style>\n",
       "      <progress value='16000' class='' max='16000' style='width:300px; height:20px; vertical-align: middle;'></progress>\n",
       "      100.00% [16000/16000 00:06<00:00 Sampling 4 chains, 0 divergences]\n",
       "    </div>\n",
       "    "
      ],
      "text/plain": [
       "<IPython.core.display.HTML object>"
      ]
     },
     "metadata": {},
     "output_type": "display_data"
    },
    {
     "name": "stderr",
     "output_type": "stream",
     "text": [
      "Sampling 4 chains for 2_000 tune and 2_000 draw iterations (8_000 + 8_000 draws total) took 7 seconds.\n",
      "Auto-assigning NUTS sampler...\n",
      "Initializing NUTS using jitter+adapt_diag...\n",
      "Multiprocess sampling (4 chains in 4 jobs)\n",
      "NUTS: [sigma, b_F, b_T, a]\n"
     ]
    },
    {
     "data": {
      "text/html": [
       "\n",
       "    <div>\n",
       "        <style>\n",
       "            /* Turns off some styling */\n",
       "            progress {\n",
       "                /* gets rid of default border in Firefox and Opera. */\n",
       "                border: none;\n",
       "                /* Needs to be in here for Safari polyfill so background images work as expected. */\n",
       "                background-size: auto;\n",
       "            }\n",
       "            .progress-bar-interrupted, .progress-bar-interrupted::-webkit-progress-bar {\n",
       "                background: #F44336;\n",
       "            }\n",
       "        </style>\n",
       "      <progress value='16000' class='' max='16000' style='width:300px; height:20px; vertical-align: middle;'></progress>\n",
       "      100.00% [16000/16000 00:09<00:00 Sampling 4 chains, 0 divergences]\n",
       "    </div>\n",
       "    "
      ],
      "text/plain": [
       "<IPython.core.display.HTML object>"
      ]
     },
     "metadata": {},
     "output_type": "display_data"
    },
    {
     "name": "stderr",
     "output_type": "stream",
     "text": [
      "Sampling 4 chains for 2_000 tune and 2_000 draw iterations (8_000 + 8_000 draws total) took 9 seconds.\n",
      "Auto-assigning NUTS sampler...\n",
      "Initializing NUTS using jitter+adapt_diag...\n",
      "Multiprocess sampling (4 chains in 4 jobs)\n",
      "NUTS: [sigma, b_T, a]\n"
     ]
    },
    {
     "data": {
      "text/html": [
       "\n",
       "    <div>\n",
       "        <style>\n",
       "            /* Turns off some styling */\n",
       "            progress {\n",
       "                /* gets rid of default border in Firefox and Opera. */\n",
       "                border: none;\n",
       "                /* Needs to be in here for Safari polyfill so background images work as expected. */\n",
       "                background-size: auto;\n",
       "            }\n",
       "            .progress-bar-interrupted, .progress-bar-interrupted::-webkit-progress-bar {\n",
       "                background: #F44336;\n",
       "            }\n",
       "        </style>\n",
       "      <progress value='16000' class='' max='16000' style='width:300px; height:20px; vertical-align: middle;'></progress>\n",
       "      100.00% [16000/16000 00:10<00:00 Sampling 4 chains, 0 divergences]\n",
       "    </div>\n",
       "    "
      ],
      "text/plain": [
       "<IPython.core.display.HTML object>"
      ]
     },
     "metadata": {},
     "output_type": "display_data"
    },
    {
     "name": "stderr",
     "output_type": "stream",
     "text": [
      "Sampling 4 chains for 2_000 tune and 2_000 draw iterations (8_000 + 8_000 draws total) took 11 seconds.\n"
     ]
    }
   ],
   "source": [
    "with pm.Model() as m_6_6:\n",
    "    p = pm.Lognormal('p', mu=0, sigma=0.25)\n",
    "    sigma = pm.Exponential('sigma', lam=1)\n",
    "    \n",
    "    mu = pm.Deterministic('mu', df['h0'].values * p)\n",
    "    h1 = pm.Normal('h1', mu=mu, sigma=sigma, observed=df['h1'])\n",
    "    \n",
    "    trace_6_6 = pm.sample(2000, tune=2000)\n",
    "    \n",
    "with pm.Model() as m_6_7:\n",
    "    a = pm.Lognormal('a', mu=0, sigma=0.25)\n",
    "    b_T = pm.Normal('b_T', mu=0, sigma=0.5)\n",
    "    b_F = pm.Normal('b_F', mu=0, sigma=0.5)\n",
    "    sigma = pm.Exponential('sigma', lam=1)\n",
    "    \n",
    "    p = a + b_T * df['treatment'] + b_F * df['fungus']\n",
    "    mu = pm.Deterministic('mu', df['h0'].values * p)\n",
    "    h1 = pm.Normal('h1', mu=mu, sigma=sigma, observed=df['h1'])\n",
    "    \n",
    "    trace_6_7 = pm.sample(2000, tune=2000)\n",
    "    \n",
    "with pm.Model() as m_6_8:\n",
    "    a = pm.Lognormal('a', mu=0, sigma=0.25)\n",
    "    b_T = pm.Normal('b_T', mu=0, sigma=0.5)\n",
    "    sigma = pm.Exponential('sigma', lam=1)\n",
    "    \n",
    "    p = a + b_T * df['treatment']\n",
    "    mu = pm.Deterministic('mu', df['h0'].values * p)\n",
    "    h1 = pm.Normal('h1', mu=mu, sigma=sigma, observed=df['h1'])\n",
    "    \n",
    "    trace_6_8 = pm.sample(2000, tune=2000)"
   ]
  },
  {
   "cell_type": "markdown",
   "id": "upset-clark",
   "metadata": {},
   "source": [
    "### Code. 7.25"
   ]
  },
  {
   "cell_type": "code",
   "execution_count": 4,
   "id": "united-portugal",
   "metadata": {},
   "outputs": [
    {
     "data": {
      "text/plain": [
       "Computed from 8000 by 100 log-likelihood matrix\n",
       "\n",
       "              Estimate       SE\n",
       "deviance_waic   328.46    11.96\n",
       "p_waic            3.43        -"
      ]
     },
     "execution_count": 4,
     "metadata": {},
     "output_type": "execute_result"
    }
   ],
   "source": [
    "az.waic(trace_6_7, m_6_7, scale='deviance')"
   ]
  },
  {
   "cell_type": "markdown",
   "id": "oriented-interface",
   "metadata": {},
   "source": [
    "### Code 7.26"
   ]
  },
  {
   "cell_type": "code",
   "execution_count": 5,
   "id": "marked-tracker",
   "metadata": {},
   "outputs": [
    {
     "data": {
      "text/html": [
       "<div>\n",
       "<style scoped>\n",
       "    .dataframe tbody tr th:only-of-type {\n",
       "        vertical-align: middle;\n",
       "    }\n",
       "\n",
       "    .dataframe tbody tr th {\n",
       "        vertical-align: top;\n",
       "    }\n",
       "\n",
       "    .dataframe thead th {\n",
       "        text-align: right;\n",
       "    }\n",
       "</style>\n",
       "<table border=\"1\" class=\"dataframe\">\n",
       "  <thead>\n",
       "    <tr style=\"text-align: right;\">\n",
       "      <th></th>\n",
       "      <th>rank</th>\n",
       "      <th>waic</th>\n",
       "      <th>p_waic</th>\n",
       "      <th>d_waic</th>\n",
       "      <th>weight</th>\n",
       "      <th>se</th>\n",
       "      <th>dse</th>\n",
       "      <th>warning</th>\n",
       "      <th>waic_scale</th>\n",
       "    </tr>\n",
       "  </thead>\n",
       "  <tbody>\n",
       "    <tr>\n",
       "      <th>m_6_7</th>\n",
       "      <td>0</td>\n",
       "      <td>328.460192</td>\n",
       "      <td>3.433410</td>\n",
       "      <td>0.000000</td>\n",
       "      <td>1.000000e+00</td>\n",
       "      <td>11.961350</td>\n",
       "      <td>0.000000</td>\n",
       "      <td>False</td>\n",
       "      <td>deviance</td>\n",
       "    </tr>\n",
       "    <tr>\n",
       "      <th>m_6_8</th>\n",
       "      <td>1</td>\n",
       "      <td>387.685050</td>\n",
       "      <td>3.202372</td>\n",
       "      <td>59.224858</td>\n",
       "      <td>0.000000e+00</td>\n",
       "      <td>14.618257</td>\n",
       "      <td>13.739865</td>\n",
       "      <td>True</td>\n",
       "      <td>deviance</td>\n",
       "    </tr>\n",
       "    <tr>\n",
       "      <th>m_6_6</th>\n",
       "      <td>2</td>\n",
       "      <td>413.412438</td>\n",
       "      <td>1.691511</td>\n",
       "      <td>84.952246</td>\n",
       "      <td>2.867995e-11</td>\n",
       "      <td>11.239561</td>\n",
       "      <td>12.296297</td>\n",
       "      <td>False</td>\n",
       "      <td>deviance</td>\n",
       "    </tr>\n",
       "  </tbody>\n",
       "</table>\n",
       "</div>"
      ],
      "text/plain": [
       "       rank        waic    p_waic     d_waic        weight         se  \\\n",
       "m_6_7     0  328.460192  3.433410   0.000000  1.000000e+00  11.961350   \n",
       "m_6_8     1  387.685050  3.202372  59.224858  0.000000e+00  14.618257   \n",
       "m_6_6     2  413.412438  1.691511  84.952246  2.867995e-11  11.239561   \n",
       "\n",
       "             dse  warning waic_scale  \n",
       "m_6_7   0.000000    False   deviance  \n",
       "m_6_8  13.739865     True   deviance  \n",
       "m_6_6  12.296297    False   deviance  "
      ]
     },
     "execution_count": 5,
     "metadata": {},
     "output_type": "execute_result"
    }
   ],
   "source": [
    "trace_dict = {'m_6_6': trace_6_6, \n",
    "              'm_6_7': trace_6_7, \n",
    "              'm_6_8': trace_6_8}\n",
    "\n",
    "compare_dict = az.compare(trace_dict, ic='waic', scale='deviance')\n",
    "compare_dict"
   ]
  },
  {
   "cell_type": "markdown",
   "id": "fantastic-perspective",
   "metadata": {},
   "source": [
    "### Explanation of column names\n",
    "\n",
    "* p_waic: the WAIC penalty\n",
    "* d_waic: the difference of each WAIC from best model (the one with lowest WAIC value)\n",
    "* weight: the relative weight of each model. This can be interpreted as the probability of each model given the data.\n",
    "* se: the standard error of the WAIC estimates\n",
    "* dse: the standard error of the difference between the model and the top-ranked model."
   ]
  },
  {
   "cell_type": "markdown",
   "id": "checked-musician",
   "metadata": {},
   "source": [
    "## Computing the dse manually\n",
    "\n",
    "### Code 7.27"
   ]
  },
  {
   "cell_type": "code",
   "execution_count": 6,
   "id": "proprietary-edition",
   "metadata": {},
   "outputs": [
    {
     "data": {
      "text/plain": [
       "array(13.73986498)"
      ]
     },
     "execution_count": 6,
     "metadata": {},
     "output_type": "execute_result"
    }
   ],
   "source": [
    "waic_6_7 = az.waic(trace_6_7, pointwise=True, scale='deviance')\n",
    "waic_6_8 = az.waic(trace_6_8, pointwise=True, scale='deviance')\n",
    "\n",
    "diff = waic_6_7.waic_i - waic_6_8.waic_i\n",
    "n = len(diff)\n",
    "\n",
    "dse = np.sqrt(n * np.var(diff)).values\n",
    "dse"
   ]
  },
  {
   "cell_type": "code",
   "execution_count": 7,
   "id": "hollow-secretary",
   "metadata": {},
   "outputs": [
    {
     "data": {
      "text/plain": [
       "2.5758293035489004"
      ]
     },
     "execution_count": 7,
     "metadata": {},
     "output_type": "execute_result"
    }
   ],
   "source": [
    "from scipy.stats import norm\n",
    "\n",
    "\n",
    "# the 99% interval for a standard normal\n",
    "\n",
    "norm.ppf(q=0.995, loc=0, scale=1)"
   ]
  },
  {
   "cell_type": "markdown",
   "id": "alien-medicaid",
   "metadata": {},
   "source": [
    "### Code 7.28"
   ]
  },
  {
   "cell_type": "code",
   "execution_count": 8,
   "id": "stupid-occasion",
   "metadata": {},
   "outputs": [
    {
     "data": {
      "text/plain": [
       "array([23.50120912, 94.94850701])"
      ]
     },
     "execution_count": 8,
     "metadata": {},
     "output_type": "execute_result"
    }
   ],
   "source": [
    "waic_diff = waic_6_8.waic - waic_6_7.waic\n",
    "\n",
    "waic_diff + np.array([-1, 1]) * dse * 2.6"
   ]
  },
  {
   "cell_type": "markdown",
   "id": "coastal-sentence",
   "metadata": {},
   "source": [
    "### Code 7.29"
   ]
  },
  {
   "cell_type": "code",
   "execution_count": 9,
   "id": "integral-index",
   "metadata": {},
   "outputs": [
    {
     "data": {
      "text/plain": [
       "<AxesSubplot:xlabel='Deviance'>"
      ]
     },
     "execution_count": 9,
     "metadata": {},
     "output_type": "execute_result"
    },
    {
     "data": {
      "image/png": "[encoded data removed]",
      "text/plain": [
       "<Figure size 432x216 with 1 Axes>"
      ]
     },
     "metadata": {
      "needs_background": "light"
     },
     "output_type": "display_data"
    }
   ],
   "source": [
    "az.plot_compare(compare_dict)"
   ]
  },
  {
   "cell_type": "code",
   "execution_count": 10,
   "id": "correct-equilibrium",
   "metadata": {},
   "outputs": [
    {
     "data": {
      "text/html": [
       "<div>\n",
       "<style scoped>\n",
       "    .dataframe tbody tr th:only-of-type {\n",
       "        vertical-align: middle;\n",
       "    }\n",
       "\n",
       "    .dataframe tbody tr th {\n",
       "        vertical-align: top;\n",
       "    }\n",
       "\n",
       "    .dataframe thead th {\n",
       "        text-align: right;\n",
       "    }\n",
       "</style>\n",
       "<table border=\"1\" class=\"dataframe\">\n",
       "  <thead>\n",
       "    <tr style=\"text-align: right;\">\n",
       "      <th></th>\n",
       "      <th>mean</th>\n",
       "      <th>sd</th>\n",
       "      <th>hdi_3%</th>\n",
       "      <th>hdi_97%</th>\n",
       "      <th>mcse_mean</th>\n",
       "      <th>mcse_sd</th>\n",
       "      <th>ess_bulk</th>\n",
       "      <th>ess_tail</th>\n",
       "      <th>r_hat</th>\n",
       "    </tr>\n",
       "  </thead>\n",
       "  <tbody>\n",
       "    <tr>\n",
       "      <th>a</th>\n",
       "      <td>1.275</td>\n",
       "      <td>0.024</td>\n",
       "      <td>1.232</td>\n",
       "      <td>1.320</td>\n",
       "      <td>0.000</td>\n",
       "      <td>0.000</td>\n",
       "      <td>3705.0</td>\n",
       "      <td>3746.0</td>\n",
       "      <td>1.0</td>\n",
       "    </tr>\n",
       "    <tr>\n",
       "      <th>b_T</th>\n",
       "      <td>0.185</td>\n",
       "      <td>0.034</td>\n",
       "      <td>0.125</td>\n",
       "      <td>0.251</td>\n",
       "      <td>0.001</td>\n",
       "      <td>0.000</td>\n",
       "      <td>3797.0</td>\n",
       "      <td>4545.0</td>\n",
       "      <td>1.0</td>\n",
       "    </tr>\n",
       "    <tr>\n",
       "      <th>sigma</th>\n",
       "      <td>1.650</td>\n",
       "      <td>0.120</td>\n",
       "      <td>1.430</td>\n",
       "      <td>1.869</td>\n",
       "      <td>0.002</td>\n",
       "      <td>0.001</td>\n",
       "      <td>4798.0</td>\n",
       "      <td>3727.0</td>\n",
       "      <td>1.0</td>\n",
       "    </tr>\n",
       "  </tbody>\n",
       "</table>\n",
       "</div>"
      ],
      "text/plain": [
       "        mean     sd  hdi_3%  hdi_97%  mcse_mean  mcse_sd  ess_bulk  ess_tail  \\\n",
       "a      1.275  0.024   1.232    1.320      0.000    0.000    3705.0    3746.0   \n",
       "b_T    0.185  0.034   0.125    0.251      0.001    0.000    3797.0    4545.0   \n",
       "sigma  1.650  0.120   1.430    1.869      0.002    0.001    4798.0    3727.0   \n",
       "\n",
       "       r_hat  \n",
       "a        1.0  \n",
       "b_T      1.0  \n",
       "sigma    1.0  "
      ]
     },
     "execution_count": 10,
     "metadata": {},
     "output_type": "execute_result"
    }
   ],
   "source": [
    "az.summary(trace_6_8, var_names=['a', 'b_T', 'sigma'])"
   ]
  },
  {
   "cell_type": "markdown",
   "id": "charitable-woman",
   "metadata": {},
   "source": [
    "### Code 7.30"
   ]
  },
  {
   "cell_type": "code",
   "execution_count": 11,
   "id": "generous-founder",
   "metadata": {},
   "outputs": [
    {
     "data": {
      "text/plain": [
       "11.048871281118211"
      ]
     },
     "execution_count": 11,
     "metadata": {},
     "output_type": "execute_result"
    }
   ],
   "source": [
    "waic_6_6 = az.waic(trace_6_6, pointwise=True, scale='deviance')\n",
    "\n",
    "diff_m6_6_m6_8 = (waic_6_6.waic_i - waic_6_8.waic_i).values\n",
    "\n",
    "n = len(diff_m6_6_m6_8)\n",
    "np.sqrt(n * np.var(diff_m6_6_m6_8))"
   ]
  },
  {
   "cell_type": "markdown",
   "id": "municipal-macro",
   "metadata": {},
   "source": [
    "### Code 7.31"
   ]
  },
  {
   "cell_type": "code",
   "execution_count": 12,
   "id": "demanding-pierce",
   "metadata": {},
   "outputs": [],
   "source": [
    "waic_6_6 = az.waic(trace_6_6, pointwise=True, scale='deviance')\n",
    "waic_6_7 = az.waic(trace_6_7, pointwise=True, scale='deviance')\n",
    "waic_6_8 = az.waic(trace_6_8, pointwise=True, scale='deviance')\n",
    "\n",
    "waic_list = [waic_6_6, waic_6_7, waic_6_8]\n",
    "dse_matrix = np.zeros((3, 3))\n",
    "\n",
    "start = 0\n",
    "\n",
    "while start < len(waic_list):\n",
    "    for w in range(start, len(waic_list)):\n",
    "        d = (waic_list[start].waic_i - waic_list[w].waic_i).values\n",
    "        n = len(d)\n",
    "        dse_matrix[start, w] = np.sqrt(n * np.var(d))\n",
    "    start += 1\n",
    "\n",
    "i_lower = np.tril_indices(3, -1)\n",
    "dse_matrix[i_lower] = dse_matrix.T[i_lower]\n",
    "\n",
    "dse_df = pd.DataFrame(dse_matrix, columns=['m_6_6', 'm_6_7', 'm_6_8'], index=['m_6_6', 'm_6_7', 'm_6_8'])"
   ]
  },
  {
   "cell_type": "code",
   "execution_count": 13,
   "id": "objective-delight",
   "metadata": {},
   "outputs": [
    {
     "data": {
      "text/html": [
       "<div>\n",
       "<style scoped>\n",
       "    .dataframe tbody tr th:only-of-type {\n",
       "        vertical-align: middle;\n",
       "    }\n",
       "\n",
       "    .dataframe tbody tr th {\n",
       "        vertical-align: top;\n",
       "    }\n",
       "\n",
       "    .dataframe thead th {\n",
       "        text-align: right;\n",
       "    }\n",
       "</style>\n",
       "<table border=\"1\" class=\"dataframe\">\n",
       "  <thead>\n",
       "    <tr style=\"text-align: right;\">\n",
       "      <th></th>\n",
       "      <th>m_6_6</th>\n",
       "      <th>m_6_7</th>\n",
       "      <th>m_6_8</th>\n",
       "    </tr>\n",
       "  </thead>\n",
       "  <tbody>\n",
       "    <tr>\n",
       "      <th>m_6_6</th>\n",
       "      <td>0.000000</td>\n",
       "      <td>12.296297</td>\n",
       "      <td>11.048871</td>\n",
       "    </tr>\n",
       "    <tr>\n",
       "      <th>m_6_7</th>\n",
       "      <td>12.296297</td>\n",
       "      <td>0.000000</td>\n",
       "      <td>13.739865</td>\n",
       "    </tr>\n",
       "    <tr>\n",
       "      <th>m_6_8</th>\n",
       "      <td>11.048871</td>\n",
       "      <td>13.739865</td>\n",
       "      <td>0.000000</td>\n",
       "    </tr>\n",
       "  </tbody>\n",
       "</table>\n",
       "</div>"
      ],
      "text/plain": [
       "           m_6_6      m_6_7      m_6_8\n",
       "m_6_6   0.000000  12.296297  11.048871\n",
       "m_6_7  12.296297   0.000000  13.739865\n",
       "m_6_8  11.048871  13.739865   0.000000"
      ]
     },
     "execution_count": 13,
     "metadata": {},
     "output_type": "execute_result"
    }
   ],
   "source": [
    "dse_df"
   ]
  },
  {
   "cell_type": "code",
   "execution_count": 14,
   "id": "lesser-amsterdam",
   "metadata": {},
   "outputs": [],
   "source": [
    "def dse_compare(trace_dict):\n",
    "    waic_list = []\n",
    "    columns = []\n",
    "    \n",
    "    for model_name, trace in trace_dict.items():\n",
    "        waic = az.waic(trace, pointwise=True, scale='deviance')\n",
    "        waic_list.append(waic)\n",
    "        columns.append(model_name)\n",
    "        \n",
    "    num_models = len(columns) \n",
    "    dse_matrix = np.zeros((num_models, num_models))\n",
    "\n",
    "    start = 0\n",
    "\n",
    "    while start < len(waic_list):\n",
    "        for w in range(start, len(waic_list)):\n",
    "            d = (waic_list[start].waic_i - waic_list[w].waic_i).values\n",
    "            n = len(d)\n",
    "            dse_matrix[start, w] = np.sqrt(n * np.var(d))\n",
    "        start += 1\n",
    "\n",
    "    i_lower = np.tril_indices(num_models, -1)\n",
    "    dse_matrix[i_lower] = dse_matrix.T[i_lower]\n",
    "\n",
    "    dse_df = pd.DataFrame(dse_matrix, columns=columns, index=columns)\n",
    "    return dse_df"
   ]
  },
  {
   "cell_type": "code",
   "execution_count": 15,
   "id": "acknowledged-ethics",
   "metadata": {},
   "outputs": [
    {
     "data": {
      "text/html": [
       "<div>\n",
       "<style scoped>\n",
       "    .dataframe tbody tr th:only-of-type {\n",
       "        vertical-align: middle;\n",
       "    }\n",
       "\n",
       "    .dataframe tbody tr th {\n",
       "        vertical-align: top;\n",
       "    }\n",
       "\n",
       "    .dataframe thead th {\n",
       "        text-align: right;\n",
       "    }\n",
       "</style>\n",
       "<table border=\"1\" class=\"dataframe\">\n",
       "  <thead>\n",
       "    <tr style=\"text-align: right;\">\n",
       "      <th></th>\n",
       "      <th>m_6_6</th>\n",
       "      <th>m_6_7</th>\n",
       "      <th>m_6_8</th>\n",
       "    </tr>\n",
       "  </thead>\n",
       "  <tbody>\n",
       "    <tr>\n",
       "      <th>m_6_6</th>\n",
       "      <td>0.000000</td>\n",
       "      <td>12.296297</td>\n",
       "      <td>11.048871</td>\n",
       "    </tr>\n",
       "    <tr>\n",
       "      <th>m_6_7</th>\n",
       "      <td>12.296297</td>\n",
       "      <td>0.000000</td>\n",
       "      <td>13.739865</td>\n",
       "    </tr>\n",
       "    <tr>\n",
       "      <th>m_6_8</th>\n",
       "      <td>11.048871</td>\n",
       "      <td>13.739865</td>\n",
       "      <td>0.000000</td>\n",
       "    </tr>\n",
       "  </tbody>\n",
       "</table>\n",
       "</div>"
      ],
      "text/plain": [
       "           m_6_6      m_6_7      m_6_8\n",
       "m_6_6   0.000000  12.296297  11.048871\n",
       "m_6_7  12.296297   0.000000  13.739865\n",
       "m_6_8  11.048871  13.739865   0.000000"
      ]
     },
     "execution_count": 15,
     "metadata": {},
     "output_type": "execute_result"
    }
   ],
   "source": [
    "dse_compare(trace_dict)"
   ]
  }
 ],
 "metadata": {
  "kernelspec": {
   "display_name": "stat-rethink",
   "language": "python",
   "name": "stat-rethink"
  },
  "language_info": {
   "codemirror_mode": {
    "name": "ipython",
    "version": 3
   },
   "file_extension": ".py",
   "mimetype": "text/x-python",
   "name": "python",
   "nbconvert_exporter": "python",
   "pygments_lexer": "ipython3",
   "version": "3.9.2"
  }
 },
 "nbformat": 4,
 "nbformat_minor": 5
}
