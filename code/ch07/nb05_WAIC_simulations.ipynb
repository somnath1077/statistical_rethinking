{
 "cells": [
  {
   "cell_type": "code",
   "execution_count": 1,
   "id": "wireless-roman",
   "metadata": {},
   "outputs": [],
   "source": [
    "import arviz as az\n",
    "import matplotlib.pyplot as plt\n",
    "import numpy as np\n",
    "import pandas as pd\n",
    "import pymc3 as pm\n",
    "import seaborn as sns\n",
    "import warnings\n",
    "\n",
    "\n",
    "from scipy.stats import norm, binom\n",
    "\n",
    "warnings.filterwarnings('ignore')"
   ]
  },
  {
   "cell_type": "markdown",
   "id": "dying-likelihood",
   "metadata": {},
   "source": [
    "### Set up for code 7.25 onwards"
   ]
  },
  {
   "cell_type": "code",
   "execution_count": 2,
   "id": "catholic-stretch",
   "metadata": {},
   "outputs": [
    {
     "data": {
      "text/html": [
       "<div>\n",
       "<style scoped>\n",
       "    .dataframe tbody tr th:only-of-type {\n",
       "        vertical-align: middle;\n",
       "    }\n",
       "\n",
       "    .dataframe tbody tr th {\n",
       "        vertical-align: top;\n",
       "    }\n",
       "\n",
       "    .dataframe thead th {\n",
       "        text-align: right;\n",
       "    }\n",
       "</style>\n",
       "<table border=\"1\" class=\"dataframe\">\n",
       "  <thead>\n",
       "    <tr style=\"text-align: right;\">\n",
       "      <th></th>\n",
       "      <th>h0</th>\n",
       "      <th>h1</th>\n",
       "      <th>treatment</th>\n",
       "      <th>fungus</th>\n",
       "    </tr>\n",
       "  </thead>\n",
       "  <tbody>\n",
       "    <tr>\n",
       "      <th>count</th>\n",
       "      <td>100.000000</td>\n",
       "      <td>100.000000</td>\n",
       "      <td>100.000000</td>\n",
       "      <td>100.000000</td>\n",
       "    </tr>\n",
       "    <tr>\n",
       "      <th>mean</th>\n",
       "      <td>10.112240</td>\n",
       "      <td>14.148976</td>\n",
       "      <td>0.500000</td>\n",
       "      <td>0.340000</td>\n",
       "    </tr>\n",
       "    <tr>\n",
       "      <th>std</th>\n",
       "      <td>2.269987</td>\n",
       "      <td>2.975051</td>\n",
       "      <td>0.502519</td>\n",
       "      <td>0.476095</td>\n",
       "    </tr>\n",
       "    <tr>\n",
       "      <th>min</th>\n",
       "      <td>5.126536</td>\n",
       "      <td>7.160292</td>\n",
       "      <td>0.000000</td>\n",
       "      <td>0.000000</td>\n",
       "    </tr>\n",
       "    <tr>\n",
       "      <th>5.5%</th>\n",
       "      <td>6.909296</td>\n",
       "      <td>9.649122</td>\n",
       "      <td>0.000000</td>\n",
       "      <td>0.000000</td>\n",
       "    </tr>\n",
       "    <tr>\n",
       "      <th>50%</th>\n",
       "      <td>10.110636</td>\n",
       "      <td>14.480401</td>\n",
       "      <td>0.500000</td>\n",
       "      <td>0.000000</td>\n",
       "    </tr>\n",
       "    <tr>\n",
       "      <th>94.5%</th>\n",
       "      <td>14.045006</td>\n",
       "      <td>18.909641</td>\n",
       "      <td>1.000000</td>\n",
       "      <td>1.000000</td>\n",
       "    </tr>\n",
       "    <tr>\n",
       "      <th>max</th>\n",
       "      <td>14.974787</td>\n",
       "      <td>20.656432</td>\n",
       "      <td>1.000000</td>\n",
       "      <td>1.000000</td>\n",
       "    </tr>\n",
       "  </tbody>\n",
       "</table>\n",
       "</div>"
      ],
      "text/plain": [
       "               h0          h1   treatment      fungus\n",
       "count  100.000000  100.000000  100.000000  100.000000\n",
       "mean    10.112240   14.148976    0.500000    0.340000\n",
       "std      2.269987    2.975051    0.502519    0.476095\n",
       "min      5.126536    7.160292    0.000000    0.000000\n",
       "5.5%     6.909296    9.649122    0.000000    0.000000\n",
       "50%     10.110636   14.480401    0.500000    0.000000\n",
       "94.5%   14.045006   18.909641    1.000000    1.000000\n",
       "max     14.974787   20.656432    1.000000    1.000000"
      ]
     },
     "execution_count": 2,
     "metadata": {},
     "output_type": "execute_result"
    }
   ],
   "source": [
    "# number of plants\n",
    "N = 100\n",
    "\n",
    "# initial heights\n",
    "h0 = norm.rvs(loc=10, scale=2, size=N)\n",
    "\n",
    "# assign treatment and fungus growth\n",
    "treatment = np.zeros(N)\n",
    "treatment[N//2:] = 1\n",
    "\n",
    "# there is a 10% chance of fungus growth for the plants that have been treated; and 50% for those that haven't\n",
    "fungus = binom.rvs(n=1, p=0.5 - 0.4 * treatment, loc=0, size=N)\n",
    "\n",
    "# the mean height for plants without fungus is 10 + 5 = 15; for those with fungus: 10 + 2 = 12\n",
    "h1 = h0 + norm.rvs(loc=5 - 3 * fungus, scale=1, size=N)\n",
    "\n",
    "df = pd.DataFrame({'h0': h0, 'h1': h1, 'treatment': treatment, 'fungus': fungus})\n",
    "df.describe([0.055, 0.945])"
   ]
  },
  {
   "cell_type": "markdown",
   "id": "affecting-decimal",
   "metadata": {},
   "source": [
    "# Causal Diagram of Fungal Growth Simulation\n",
    "\n",
    "$$\n",
    "    H_0 \\rightarrow H_1 \\leftarrow F \\leftarrow T\n",
    "$$\n",
    "\n",
    "\n",
    "# Models M6.6, M6.7, M6.8 \n",
    "\n",
    "### Model M.6.6 \n",
    "\n",
    "$$\n",
    "\\begin{align*}\n",
    "    h_{1 i} & \\sim N(\\mu_i, \\sigma) \\\\\n",
    "    \\mu_i   & = h_{0 i} \\times p \\\\\n",
    "     p      & \\sim \\text{LogNormal}(0, 0.25)\n",
    "\\end{align*}\n",
    "$$\n",
    "\n",
    "### Model M6.7\n",
    "\n",
    "$$\n",
    "\\begin{align*}\n",
    "    h_{1 i} & \\sim N(\\mu_i, \\sigma) \\\\\n",
    "    \\mu_i   & = h_{0 i} \\times p \\\\\n",
    "    p       & = \\alpha + \\beta_T \\cdot T_i + \\beta_F \\cdot F_i \\\\\n",
    "    \\alpha  & \\sim \\text{LogNormal}(0, 0.25) \\\\\n",
    "    \\beta_T & \\sim N(0, 0.5) \\\\\n",
    "    \\beta_F & \\sim N(0, 0.5) \\\\\n",
    "    \\sigma  & \\sim \\text{Exponential}(1)\n",
    "\\end{align*}\n",
    "$$\n",
    "\n",
    "\n",
    "### Model M6.8\n",
    "\n",
    "$$\n",
    "\\begin{align*}\n",
    "    h_{1 i} & \\sim N(\\mu_i, \\sigma) \\\\\n",
    "    \\mu_i   & = h_{0 i} \\times p \\\\\n",
    "    p       & = \\alpha + \\beta_T \\cdot T_i \\\\\n",
    "    \\alpha  & \\sim \\text{LogNormal}(0, 0.25) \\\\\n",
    "    \\beta_T & \\sim N(0, 0.5) \\\\\n",
    "    \\sigma  & \\sim \\text{Exponential}(1)\n",
    "\\end{align*}\n",
    "$$"
   ]
  },
  {
   "cell_type": "code",
   "execution_count": 3,
   "id": "union-warning",
   "metadata": {},
   "outputs": [
    {
     "name": "stderr",
     "output_type": "stream",
     "text": [
      "Auto-assigning NUTS sampler...\n",
      "Initializing NUTS using jitter+adapt_diag...\n",
      "Multiprocess sampling (4 chains in 4 jobs)\n",
      "NUTS: [sigma, p]\n"
     ]
    },
    {
     "data": {
      "text/html": [
       "\n",
       "    <div>\n",
       "        <style>\n",
       "            /* Turns off some styling */\n",
       "            progress {\n",
       "                /* gets rid of default border in Firefox and Opera. */\n",
       "                border: none;\n",
       "                /* Needs to be in here for Safari polyfill so background images work as expected. */\n",
       "                background-size: auto;\n",
       "            }\n",
       "            .progress-bar-interrupted, .progress-bar-interrupted::-webkit-progress-bar {\n",
       "                background: #F44336;\n",
       "            }\n",
       "        </style>\n",
       "      <progress value='16000' class='' max='16000' style='width:300px; height:20px; vertical-align: middle;'></progress>\n",
       "      100.00% [16000/16000 00:05<00:00 Sampling 4 chains, 0 divergences]\n",
       "    </div>\n",
       "    "
      ],
      "text/plain": [
       "<IPython.core.display.HTML object>"
      ]
     },
     "metadata": {},
     "output_type": "display_data"
    },
    {
     "name": "stderr",
     "output_type": "stream",
     "text": [
      "Sampling 4 chains for 2_000 tune and 2_000 draw iterations (8_000 + 8_000 draws total) took 6 seconds.\n",
      "Auto-assigning NUTS sampler...\n",
      "Initializing NUTS using jitter+adapt_diag...\n",
      "Multiprocess sampling (4 chains in 4 jobs)\n",
      "NUTS: [sigma, b_F, b_T, a]\n"
     ]
    },
    {
     "data": {
      "text/html": [
       "\n",
       "    <div>\n",
       "        <style>\n",
       "            /* Turns off some styling */\n",
       "            progress {\n",
       "                /* gets rid of default border in Firefox and Opera. */\n",
       "                border: none;\n",
       "                /* Needs to be in here for Safari polyfill so background images work as expected. */\n",
       "                background-size: auto;\n",
       "            }\n",
       "            .progress-bar-interrupted, .progress-bar-interrupted::-webkit-progress-bar {\n",
       "                background: #F44336;\n",
       "            }\n",
       "        </style>\n",
       "      <progress value='16000' class='' max='16000' style='width:300px; height:20px; vertical-align: middle;'></progress>\n",
       "      100.00% [16000/16000 00:15<00:00 Sampling 4 chains, 0 divergences]\n",
       "    </div>\n",
       "    "
      ],
      "text/plain": [
       "<IPython.core.display.HTML object>"
      ]
     },
     "metadata": {},
     "output_type": "display_data"
    },
    {
     "name": "stderr",
     "output_type": "stream",
     "text": [
      "Sampling 4 chains for 2_000 tune and 2_000 draw iterations (8_000 + 8_000 draws total) took 16 seconds.\n",
      "Auto-assigning NUTS sampler...\n",
      "Initializing NUTS using jitter+adapt_diag...\n",
      "Multiprocess sampling (4 chains in 4 jobs)\n",
      "NUTS: [sigma, b_T, a]\n"
     ]
    },
    {
     "data": {
      "text/html": [
       "\n",
       "    <div>\n",
       "        <style>\n",
       "            /* Turns off some styling */\n",
       "            progress {\n",
       "                /* gets rid of default border in Firefox and Opera. */\n",
       "                border: none;\n",
       "                /* Needs to be in here for Safari polyfill so background images work as expected. */\n",
       "                background-size: auto;\n",
       "            }\n",
       "            .progress-bar-interrupted, .progress-bar-interrupted::-webkit-progress-bar {\n",
       "                background: #F44336;\n",
       "            }\n",
       "        </style>\n",
       "      <progress value='16000' class='' max='16000' style='width:300px; height:20px; vertical-align: middle;'></progress>\n",
       "      100.00% [16000/16000 00:09<00:00 Sampling 4 chains, 0 divergences]\n",
       "    </div>\n",
       "    "
      ],
      "text/plain": [
       "<IPython.core.display.HTML object>"
      ]
     },
     "metadata": {},
     "output_type": "display_data"
    },
    {
     "name": "stderr",
     "output_type": "stream",
     "text": [
      "Sampling 4 chains for 2_000 tune and 2_000 draw iterations (8_000 + 8_000 draws total) took 9 seconds.\n"
     ]
    }
   ],
   "source": [
    "with pm.Model() as m_6_6:\n",
    "    p = pm.Lognormal('p', mu=0, sigma=0.25)\n",
    "    sigma = pm.Exponential('sigma', lam=1)\n",
    "    \n",
    "    mu = pm.Deterministic('mu', df['h0'].values * p)\n",
    "    h1 = pm.Normal('h1', mu=mu, sigma=sigma, observed=df['h1'])\n",
    "    \n",
    "    trace_6_6 = pm.sample(2000, tune=2000)\n",
    "    \n",
    "with pm.Model() as m_6_7:\n",
    "    a = pm.Lognormal('a', mu=0, sigma=0.25)\n",
    "    b_T = pm.Normal('b_T', mu=0, sigma=0.5)\n",
    "    b_F = pm.Normal('b_F', mu=0, sigma=0.5)\n",
    "    sigma = pm.Exponential('sigma', lam=1)\n",
    "    \n",
    "    p = a + b_T * df['treatment'] + b_F * df['fungus']\n",
    "    mu = pm.Deterministic('mu', df['h0'].values * p)\n",
    "    h1 = pm.Normal('h1', mu=mu, sigma=sigma, observed=df['h1'])\n",
    "    \n",
    "    trace_6_7 = pm.sample(2000, tune=2000)\n",
    "    \n",
    "with pm.Model() as m_6_8:\n",
    "    a = pm.Lognormal('a', mu=0, sigma=0.25)\n",
    "    b_T = pm.Normal('b_T', mu=0, sigma=0.5)\n",
    "    sigma = pm.Exponential('sigma', lam=1)\n",
    "    \n",
    "    p = a + b_T * df['treatment']\n",
    "    mu = pm.Deterministic('mu', df['h0'].values * p)\n",
    "    h1 = pm.Normal('h1', mu=mu, sigma=sigma, observed=df['h1'])\n",
    "    \n",
    "    trace_6_8 = pm.sample(2000, tune=2000)"
   ]
  },
  {
   "cell_type": "markdown",
   "id": "upset-clark",
   "metadata": {},
   "source": [
    "### Code. 7.25"
   ]
  },
  {
   "cell_type": "code",
   "execution_count": 4,
   "id": "united-portugal",
   "metadata": {},
   "outputs": [
    {
     "data": {
      "text/plain": [
       "Computed from 8000 by 100 log-likelihood matrix\n",
       "\n",
       "              Estimate       SE\n",
       "deviance_waic   357.28    14.00\n",
       "p_waic            3.52        -"
      ]
     },
     "execution_count": 4,
     "metadata": {},
     "output_type": "execute_result"
    }
   ],
   "source": [
    "az.waic(trace_6_7, m_6_7, scale='deviance')"
   ]
  },
  {
   "cell_type": "markdown",
   "id": "oriented-interface",
   "metadata": {},
   "source": [
    "### Code 7.26"
   ]
  },
  {
   "cell_type": "code",
   "execution_count": 5,
   "id": "marked-tracker",
   "metadata": {},
   "outputs": [
    {
     "data": {
      "text/html": [
       "<div>\n",
       "<style scoped>\n",
       "    .dataframe tbody tr th:only-of-type {\n",
       "        vertical-align: middle;\n",
       "    }\n",
       "\n",
       "    .dataframe tbody tr th {\n",
       "        vertical-align: top;\n",
       "    }\n",
       "\n",
       "    .dataframe thead th {\n",
       "        text-align: right;\n",
       "    }\n",
       "</style>\n",
       "<table border=\"1\" class=\"dataframe\">\n",
       "  <thead>\n",
       "    <tr style=\"text-align: right;\">\n",
       "      <th></th>\n",
       "      <th>rank</th>\n",
       "      <th>waic</th>\n",
       "      <th>p_waic</th>\n",
       "      <th>d_waic</th>\n",
       "      <th>weight</th>\n",
       "      <th>se</th>\n",
       "      <th>dse</th>\n",
       "      <th>warning</th>\n",
       "      <th>waic_scale</th>\n",
       "    </tr>\n",
       "  </thead>\n",
       "  <tbody>\n",
       "    <tr>\n",
       "      <th>m_6_7</th>\n",
       "      <td>0</td>\n",
       "      <td>357.276300</td>\n",
       "      <td>3.521233</td>\n",
       "      <td>0.000000</td>\n",
       "      <td>1.000000e+00</td>\n",
       "      <td>13.995596</td>\n",
       "      <td>0.000000</td>\n",
       "      <td>False</td>\n",
       "      <td>deviance</td>\n",
       "    </tr>\n",
       "    <tr>\n",
       "      <th>m_6_8</th>\n",
       "      <td>1</td>\n",
       "      <td>418.344317</td>\n",
       "      <td>2.729291</td>\n",
       "      <td>61.068017</td>\n",
       "      <td>0.000000e+00</td>\n",
       "      <td>13.388846</td>\n",
       "      <td>12.172278</td>\n",
       "      <td>False</td>\n",
       "      <td>deviance</td>\n",
       "    </tr>\n",
       "    <tr>\n",
       "      <th>m_6_6</th>\n",
       "      <td>2</td>\n",
       "      <td>424.505471</td>\n",
       "      <td>1.701015</td>\n",
       "      <td>67.229171</td>\n",
       "      <td>4.919398e-12</td>\n",
       "      <td>12.900896</td>\n",
       "      <td>11.396510</td>\n",
       "      <td>False</td>\n",
       "      <td>deviance</td>\n",
       "    </tr>\n",
       "  </tbody>\n",
       "</table>\n",
       "</div>"
      ],
      "text/plain": [
       "       rank        waic    p_waic     d_waic        weight         se  \\\n",
       "m_6_7     0  357.276300  3.521233   0.000000  1.000000e+00  13.995596   \n",
       "m_6_8     1  418.344317  2.729291  61.068017  0.000000e+00  13.388846   \n",
       "m_6_6     2  424.505471  1.701015  67.229171  4.919398e-12  12.900896   \n",
       "\n",
       "             dse  warning waic_scale  \n",
       "m_6_7   0.000000    False   deviance  \n",
       "m_6_8  12.172278    False   deviance  \n",
       "m_6_6  11.396510    False   deviance  "
      ]
     },
     "execution_count": 5,
     "metadata": {},
     "output_type": "execute_result"
    }
   ],
   "source": [
    "trace_dict = {'m_6_6': trace_6_6, \n",
    "              'm_6_7': trace_6_7, \n",
    "              'm_6_8': trace_6_8}\n",
    "\n",
    "compare_dict = az.compare(trace_dict, ic='waic', scale='deviance')\n",
    "compare_dict"
   ]
  }
 ],
 "metadata": {
  "kernelspec": {
   "display_name": "stat-rethink",
   "language": "python",
   "name": "stat-rethink"
  },
  "language_info": {
   "codemirror_mode": {
    "name": "ipython",
    "version": 3
   },
   "file_extension": ".py",
   "mimetype": "text/x-python",
   "name": "python",
   "nbconvert_exporter": "python",
   "pygments_lexer": "ipython3",
   "version": "3.9.2"
  }
 },
 "nbformat": 4,
 "nbformat_minor": 5
}
