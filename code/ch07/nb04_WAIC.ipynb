{
 "cells": [
  {
   "cell_type": "code",
   "execution_count": 1,
   "id": "favorite-biotechnology",
   "metadata": {},
   "outputs": [],
   "source": [
    "import arviz as az\n",
    "import matplotlib.pyplot as plt\n",
    "import numpy as np\n",
    "import pandas as pd\n",
    "import pymc3 as pm\n",
    "import seaborn as sns"
   ]
  },
  {
   "cell_type": "code",
   "execution_count": 2,
   "id": "wrong-bacon",
   "metadata": {},
   "outputs": [
    {
     "data": {
      "text/html": [
       "<div>\n",
       "<style scoped>\n",
       "    .dataframe tbody tr th:only-of-type {\n",
       "        vertical-align: middle;\n",
       "    }\n",
       "\n",
       "    .dataframe tbody tr th {\n",
       "        vertical-align: top;\n",
       "    }\n",
       "\n",
       "    .dataframe thead th {\n",
       "        text-align: right;\n",
       "    }\n",
       "</style>\n",
       "<table border=\"1\" class=\"dataframe\">\n",
       "  <thead>\n",
       "    <tr style=\"text-align: right;\">\n",
       "      <th></th>\n",
       "      <th>speed</th>\n",
       "      <th>dist</th>\n",
       "    </tr>\n",
       "  </thead>\n",
       "  <tbody>\n",
       "    <tr>\n",
       "      <th>1</th>\n",
       "      <td>4</td>\n",
       "      <td>2</td>\n",
       "    </tr>\n",
       "    <tr>\n",
       "      <th>2</th>\n",
       "      <td>4</td>\n",
       "      <td>10</td>\n",
       "    </tr>\n",
       "    <tr>\n",
       "      <th>3</th>\n",
       "      <td>7</td>\n",
       "      <td>4</td>\n",
       "    </tr>\n",
       "    <tr>\n",
       "      <th>4</th>\n",
       "      <td>7</td>\n",
       "      <td>22</td>\n",
       "    </tr>\n",
       "    <tr>\n",
       "      <th>5</th>\n",
       "      <td>8</td>\n",
       "      <td>16</td>\n",
       "    </tr>\n",
       "  </tbody>\n",
       "</table>\n",
       "</div>"
      ],
      "text/plain": [
       "   speed  dist\n",
       "1      4     2\n",
       "2      4    10\n",
       "3      7     4\n",
       "4      7    22\n",
       "5      8    16"
      ]
     },
     "execution_count": 2,
     "metadata": {},
     "output_type": "execute_result"
    }
   ],
   "source": [
    "df_cars = pd.read_csv('../../data/cars.csv', index_col=0)\n",
    "df_cars.head()"
   ]
  },
  {
   "cell_type": "code",
   "execution_count": 3,
   "id": "understood-sellers",
   "metadata": {},
   "outputs": [
    {
     "data": {
      "text/plain": [
       "(50, 2)"
      ]
     },
     "execution_count": 3,
     "metadata": {},
     "output_type": "execute_result"
    }
   ],
   "source": [
    "df_cars.shape"
   ]
  },
  {
   "cell_type": "code",
   "execution_count": 4,
   "id": "living-laugh",
   "metadata": {},
   "outputs": [
    {
     "data": {
      "text/html": [
       "<div>\n",
       "<style scoped>\n",
       "    .dataframe tbody tr th:only-of-type {\n",
       "        vertical-align: middle;\n",
       "    }\n",
       "\n",
       "    .dataframe tbody tr th {\n",
       "        vertical-align: top;\n",
       "    }\n",
       "\n",
       "    .dataframe thead th {\n",
       "        text-align: right;\n",
       "    }\n",
       "</style>\n",
       "<table border=\"1\" class=\"dataframe\">\n",
       "  <thead>\n",
       "    <tr style=\"text-align: right;\">\n",
       "      <th></th>\n",
       "      <th>speed</th>\n",
       "      <th>dist</th>\n",
       "    </tr>\n",
       "  </thead>\n",
       "  <tbody>\n",
       "    <tr>\n",
       "      <th>count</th>\n",
       "      <td>50.000000</td>\n",
       "      <td>50.000000</td>\n",
       "    </tr>\n",
       "    <tr>\n",
       "      <th>mean</th>\n",
       "      <td>15.400000</td>\n",
       "      <td>42.980000</td>\n",
       "    </tr>\n",
       "    <tr>\n",
       "      <th>std</th>\n",
       "      <td>5.287644</td>\n",
       "      <td>25.769377</td>\n",
       "    </tr>\n",
       "    <tr>\n",
       "      <th>min</th>\n",
       "      <td>4.000000</td>\n",
       "      <td>2.000000</td>\n",
       "    </tr>\n",
       "    <tr>\n",
       "      <th>25%</th>\n",
       "      <td>12.000000</td>\n",
       "      <td>26.000000</td>\n",
       "    </tr>\n",
       "    <tr>\n",
       "      <th>50%</th>\n",
       "      <td>15.000000</td>\n",
       "      <td>36.000000</td>\n",
       "    </tr>\n",
       "    <tr>\n",
       "      <th>75%</th>\n",
       "      <td>19.000000</td>\n",
       "      <td>56.000000</td>\n",
       "    </tr>\n",
       "    <tr>\n",
       "      <th>max</th>\n",
       "      <td>25.000000</td>\n",
       "      <td>120.000000</td>\n",
       "    </tr>\n",
       "  </tbody>\n",
       "</table>\n",
       "</div>"
      ],
      "text/plain": [
       "           speed        dist\n",
       "count  50.000000   50.000000\n",
       "mean   15.400000   42.980000\n",
       "std     5.287644   25.769377\n",
       "min     4.000000    2.000000\n",
       "25%    12.000000   26.000000\n",
       "50%    15.000000   36.000000\n",
       "75%    19.000000   56.000000\n",
       "max    25.000000  120.000000"
      ]
     },
     "execution_count": 4,
     "metadata": {},
     "output_type": "execute_result"
    }
   ],
   "source": [
    "df_cars.describe()"
   ]
  },
  {
   "cell_type": "markdown",
   "id": "computational-adaptation",
   "metadata": {},
   "source": [
    "### Code 7.19"
   ]
  },
  {
   "cell_type": "code",
   "execution_count": 5,
   "id": "meaningful-corps",
   "metadata": {},
   "outputs": [
    {
     "name": "stderr",
     "output_type": "stream",
     "text": [
      "/home/somnath/install/anaconda3/envs/stat-rethink-pymc3/lib/python3.9/site-packages/pymc3/sampling.py:466: FutureWarning: In an upcoming release, pm.sample will return an `arviz.InferenceData` object instead of a `MultiTrace` by default. You can pass return_inferencedata=True or return_inferencedata=False to be safe and silence this warning.\n",
      "  warnings.warn(\n",
      "Only 250 samples in chain.\n",
      "Auto-assigning NUTS sampler...\n",
      "Initializing NUTS using jitter+adapt_diag...\n",
      "Multiprocess sampling (4 chains in 4 jobs)\n",
      "NUTS: [sigma, b, a]\n"
     ]
    },
    {
     "data": {
      "text/html": [
       "\n",
       "    <div>\n",
       "        <style>\n",
       "            /* Turns off some styling */\n",
       "            progress {\n",
       "                /* gets rid of default border in Firefox and Opera. */\n",
       "                border: none;\n",
       "                /* Needs to be in here for Safari polyfill so background images work as expected. */\n",
       "                background-size: auto;\n",
       "            }\n",
       "            .progress-bar-interrupted, .progress-bar-interrupted::-webkit-progress-bar {\n",
       "                background: #F44336;\n",
       "            }\n",
       "        </style>\n",
       "      <progress value='5000' class='' max='5000' style='width:300px; height:20px; vertical-align: middle;'></progress>\n",
       "      100.00% [5000/5000 00:04<00:00 Sampling 4 chains, 0 divergences]\n",
       "    </div>\n",
       "    "
      ],
      "text/plain": [
       "<IPython.core.display.HTML object>"
      ]
     },
     "metadata": {},
     "output_type": "display_data"
    },
    {
     "name": "stderr",
     "output_type": "stream",
     "text": [
      "Sampling 4 chains for 1_000 tune and 250 draw iterations (4_000 + 1_000 draws total) took 6 seconds.\n",
      "The acceptance probability does not match the target. It is 0.8936239090807796, but should be close to 0.8. Try to increase the number of tuning steps.\n"
     ]
    }
   ],
   "source": [
    "with pm.Model() as m:\n",
    "    a = pm.Normal('a', mu=0, sigma=100)\n",
    "    b = pm.Normal('b', mu=0, sigma=10)\n",
    "    \n",
    "    mu = pm.Deterministic('mu', a + b * df_cars['speed'])\n",
    "    sigma = pm.Exponential('sigma', lam=1)\n",
    "    \n",
    "    dist = pm.Normal('dist', mu=mu, sigma=sigma, observed=df_cars['dist'])\n",
    "    \n",
    "    trace_m = pm.sample(250, chains=4, tune=1000)"
   ]
  },
  {
   "cell_type": "code",
   "execution_count": 6,
   "id": "natural-gnome",
   "metadata": {},
   "outputs": [
    {
     "data": {
      "text/html": [
       "<div>\n",
       "<style scoped>\n",
       "    .dataframe tbody tr th:only-of-type {\n",
       "        vertical-align: middle;\n",
       "    }\n",
       "\n",
       "    .dataframe tbody tr th {\n",
       "        vertical-align: top;\n",
       "    }\n",
       "\n",
       "    .dataframe thead th {\n",
       "        text-align: right;\n",
       "    }\n",
       "</style>\n",
       "<table border=\"1\" class=\"dataframe\">\n",
       "  <thead>\n",
       "    <tr style=\"text-align: right;\">\n",
       "      <th></th>\n",
       "      <th>a</th>\n",
       "      <th>b</th>\n",
       "      <th>mu__0</th>\n",
       "      <th>mu__1</th>\n",
       "      <th>mu__2</th>\n",
       "      <th>mu__3</th>\n",
       "      <th>mu__4</th>\n",
       "      <th>mu__5</th>\n",
       "      <th>mu__6</th>\n",
       "      <th>mu__7</th>\n",
       "      <th>...</th>\n",
       "      <th>mu__41</th>\n",
       "      <th>mu__42</th>\n",
       "      <th>mu__43</th>\n",
       "      <th>mu__44</th>\n",
       "      <th>mu__45</th>\n",
       "      <th>mu__46</th>\n",
       "      <th>mu__47</th>\n",
       "      <th>mu__48</th>\n",
       "      <th>mu__49</th>\n",
       "      <th>sigma</th>\n",
       "    </tr>\n",
       "  </thead>\n",
       "  <tbody>\n",
       "    <tr>\n",
       "      <th>0</th>\n",
       "      <td>-10.487176</td>\n",
       "      <td>3.508866</td>\n",
       "      <td>3.548289</td>\n",
       "      <td>3.548289</td>\n",
       "      <td>14.074888</td>\n",
       "      <td>14.074888</td>\n",
       "      <td>17.583754</td>\n",
       "      <td>21.092621</td>\n",
       "      <td>24.601487</td>\n",
       "      <td>24.601487</td>\n",
       "      <td>...</td>\n",
       "      <td>59.690150</td>\n",
       "      <td>59.690150</td>\n",
       "      <td>66.707883</td>\n",
       "      <td>70.216749</td>\n",
       "      <td>73.725616</td>\n",
       "      <td>73.725616</td>\n",
       "      <td>73.725616</td>\n",
       "      <td>73.725616</td>\n",
       "      <td>77.234482</td>\n",
       "      <td>14.341345</td>\n",
       "    </tr>\n",
       "    <tr>\n",
       "      <th>1</th>\n",
       "      <td>-22.320044</td>\n",
       "      <td>4.253327</td>\n",
       "      <td>-5.306735</td>\n",
       "      <td>-5.306735</td>\n",
       "      <td>7.453246</td>\n",
       "      <td>7.453246</td>\n",
       "      <td>11.706574</td>\n",
       "      <td>15.959901</td>\n",
       "      <td>20.213228</td>\n",
       "      <td>20.213228</td>\n",
       "      <td>...</td>\n",
       "      <td>62.746500</td>\n",
       "      <td>62.746500</td>\n",
       "      <td>71.253154</td>\n",
       "      <td>75.506481</td>\n",
       "      <td>79.759808</td>\n",
       "      <td>79.759808</td>\n",
       "      <td>79.759808</td>\n",
       "      <td>79.759808</td>\n",
       "      <td>84.013136</td>\n",
       "      <td>12.439642</td>\n",
       "    </tr>\n",
       "    <tr>\n",
       "      <th>2</th>\n",
       "      <td>-21.943634</td>\n",
       "      <td>4.226740</td>\n",
       "      <td>-5.036674</td>\n",
       "      <td>-5.036674</td>\n",
       "      <td>7.643546</td>\n",
       "      <td>7.643546</td>\n",
       "      <td>11.870286</td>\n",
       "      <td>16.097026</td>\n",
       "      <td>20.323766</td>\n",
       "      <td>20.323766</td>\n",
       "      <td>...</td>\n",
       "      <td>62.591166</td>\n",
       "      <td>62.591166</td>\n",
       "      <td>71.044646</td>\n",
       "      <td>75.271386</td>\n",
       "      <td>79.498126</td>\n",
       "      <td>79.498126</td>\n",
       "      <td>79.498126</td>\n",
       "      <td>79.498126</td>\n",
       "      <td>83.724865</td>\n",
       "      <td>15.051139</td>\n",
       "    </tr>\n",
       "    <tr>\n",
       "      <th>3</th>\n",
       "      <td>-7.370282</td>\n",
       "      <td>3.300896</td>\n",
       "      <td>5.833304</td>\n",
       "      <td>5.833304</td>\n",
       "      <td>15.735993</td>\n",
       "      <td>15.735993</td>\n",
       "      <td>19.036889</td>\n",
       "      <td>22.337785</td>\n",
       "      <td>25.638681</td>\n",
       "      <td>25.638681</td>\n",
       "      <td>...</td>\n",
       "      <td>58.647644</td>\n",
       "      <td>58.647644</td>\n",
       "      <td>65.249437</td>\n",
       "      <td>68.550333</td>\n",
       "      <td>71.851230</td>\n",
       "      <td>71.851230</td>\n",
       "      <td>71.851230</td>\n",
       "      <td>71.851230</td>\n",
       "      <td>75.152126</td>\n",
       "      <td>12.751333</td>\n",
       "    </tr>\n",
       "    <tr>\n",
       "      <th>4</th>\n",
       "      <td>-7.334500</td>\n",
       "      <td>3.298598</td>\n",
       "      <td>5.859890</td>\n",
       "      <td>5.859890</td>\n",
       "      <td>15.755683</td>\n",
       "      <td>15.755683</td>\n",
       "      <td>19.054281</td>\n",
       "      <td>22.352878</td>\n",
       "      <td>25.651476</td>\n",
       "      <td>25.651476</td>\n",
       "      <td>...</td>\n",
       "      <td>58.637451</td>\n",
       "      <td>58.637451</td>\n",
       "      <td>65.234646</td>\n",
       "      <td>68.533243</td>\n",
       "      <td>71.831841</td>\n",
       "      <td>71.831841</td>\n",
       "      <td>71.831841</td>\n",
       "      <td>71.831841</td>\n",
       "      <td>75.130438</td>\n",
       "      <td>13.264365</td>\n",
       "    </tr>\n",
       "  </tbody>\n",
       "</table>\n",
       "<p>5 rows × 53 columns</p>\n",
       "</div>"
      ],
      "text/plain": [
       "           a         b     mu__0     mu__1      mu__2      mu__3      mu__4  \\\n",
       "0 -10.487176  3.508866  3.548289  3.548289  14.074888  14.074888  17.583754   \n",
       "1 -22.320044  4.253327 -5.306735 -5.306735   7.453246   7.453246  11.706574   \n",
       "2 -21.943634  4.226740 -5.036674 -5.036674   7.643546   7.643546  11.870286   \n",
       "3  -7.370282  3.300896  5.833304  5.833304  15.735993  15.735993  19.036889   \n",
       "4  -7.334500  3.298598  5.859890  5.859890  15.755683  15.755683  19.054281   \n",
       "\n",
       "       mu__5      mu__6      mu__7  ...     mu__41     mu__42     mu__43  \\\n",
       "0  21.092621  24.601487  24.601487  ...  59.690150  59.690150  66.707883   \n",
       "1  15.959901  20.213228  20.213228  ...  62.746500  62.746500  71.253154   \n",
       "2  16.097026  20.323766  20.323766  ...  62.591166  62.591166  71.044646   \n",
       "3  22.337785  25.638681  25.638681  ...  58.647644  58.647644  65.249437   \n",
       "4  22.352878  25.651476  25.651476  ...  58.637451  58.637451  65.234646   \n",
       "\n",
       "      mu__44     mu__45     mu__46     mu__47     mu__48     mu__49      sigma  \n",
       "0  70.216749  73.725616  73.725616  73.725616  73.725616  77.234482  14.341345  \n",
       "1  75.506481  79.759808  79.759808  79.759808  79.759808  84.013136  12.439642  \n",
       "2  75.271386  79.498126  79.498126  79.498126  79.498126  83.724865  15.051139  \n",
       "3  68.550333  71.851230  71.851230  71.851230  71.851230  75.152126  12.751333  \n",
       "4  68.533243  71.831841  71.831841  71.831841  71.831841  75.130438  13.264365  \n",
       "\n",
       "[5 rows x 53 columns]"
      ]
     },
     "execution_count": 6,
     "metadata": {},
     "output_type": "execute_result"
    }
   ],
   "source": [
    "df_m = pm.trace_to_dataframe(trace_m)\n",
    "df_m.head()"
   ]
  },
  {
   "cell_type": "code",
   "execution_count": 7,
   "id": "inclusive-japanese",
   "metadata": {},
   "outputs": [],
   "source": [
    "df_mu = df_m.filter(regex='mu__*')"
   ]
  },
  {
   "cell_type": "code",
   "execution_count": 8,
   "id": "mediterranean-newport",
   "metadata": {},
   "outputs": [
    {
     "data": {
      "text/html": [
       "<div>\n",
       "<style scoped>\n",
       "    .dataframe tbody tr th:only-of-type {\n",
       "        vertical-align: middle;\n",
       "    }\n",
       "\n",
       "    .dataframe tbody tr th {\n",
       "        vertical-align: top;\n",
       "    }\n",
       "\n",
       "    .dataframe thead th {\n",
       "        text-align: right;\n",
       "    }\n",
       "</style>\n",
       "<table border=\"1\" class=\"dataframe\">\n",
       "  <thead>\n",
       "    <tr style=\"text-align: right;\">\n",
       "      <th></th>\n",
       "      <th>0</th>\n",
       "      <th>1</th>\n",
       "      <th>2</th>\n",
       "      <th>3</th>\n",
       "      <th>4</th>\n",
       "      <th>5</th>\n",
       "      <th>6</th>\n",
       "      <th>7</th>\n",
       "      <th>8</th>\n",
       "      <th>9</th>\n",
       "      <th>...</th>\n",
       "      <th>990</th>\n",
       "      <th>991</th>\n",
       "      <th>992</th>\n",
       "      <th>993</th>\n",
       "      <th>994</th>\n",
       "      <th>995</th>\n",
       "      <th>996</th>\n",
       "      <th>997</th>\n",
       "      <th>998</th>\n",
       "      <th>999</th>\n",
       "    </tr>\n",
       "  </thead>\n",
       "  <tbody>\n",
       "    <tr>\n",
       "      <th>mu__0</th>\n",
       "      <td>3.548289</td>\n",
       "      <td>-5.306735</td>\n",
       "      <td>-5.036674</td>\n",
       "      <td>5.833304</td>\n",
       "      <td>5.859890</td>\n",
       "      <td>-0.927314</td>\n",
       "      <td>4.444826</td>\n",
       "      <td>4.162056</td>\n",
       "      <td>8.722967</td>\n",
       "      <td>5.249862</td>\n",
       "      <td>...</td>\n",
       "      <td>0.850852</td>\n",
       "      <td>-10.128599</td>\n",
       "      <td>-14.004751</td>\n",
       "      <td>-0.628703</td>\n",
       "      <td>-2.748037</td>\n",
       "      <td>0.609783</td>\n",
       "      <td>1.679113</td>\n",
       "      <td>-8.380728</td>\n",
       "      <td>-8.317011</td>\n",
       "      <td>-1.633552</td>\n",
       "    </tr>\n",
       "    <tr>\n",
       "      <th>mu__1</th>\n",
       "      <td>3.548289</td>\n",
       "      <td>-5.306735</td>\n",
       "      <td>-5.036674</td>\n",
       "      <td>5.833304</td>\n",
       "      <td>5.859890</td>\n",
       "      <td>-0.927314</td>\n",
       "      <td>4.444826</td>\n",
       "      <td>4.162056</td>\n",
       "      <td>8.722967</td>\n",
       "      <td>5.249862</td>\n",
       "      <td>...</td>\n",
       "      <td>0.850852</td>\n",
       "      <td>-10.128599</td>\n",
       "      <td>-14.004751</td>\n",
       "      <td>-0.628703</td>\n",
       "      <td>-2.748037</td>\n",
       "      <td>0.609783</td>\n",
       "      <td>1.679113</td>\n",
       "      <td>-8.380728</td>\n",
       "      <td>-8.317011</td>\n",
       "      <td>-1.633552</td>\n",
       "    </tr>\n",
       "    <tr>\n",
       "      <th>mu__2</th>\n",
       "      <td>14.074888</td>\n",
       "      <td>7.453246</td>\n",
       "      <td>7.643546</td>\n",
       "      <td>15.735993</td>\n",
       "      <td>15.755683</td>\n",
       "      <td>10.633575</td>\n",
       "      <td>14.107995</td>\n",
       "      <td>13.930974</td>\n",
       "      <td>18.727074</td>\n",
       "      <td>15.026776</td>\n",
       "      <td>...</td>\n",
       "      <td>11.870785</td>\n",
       "      <td>3.864796</td>\n",
       "      <td>-0.013334</td>\n",
       "      <td>10.472871</td>\n",
       "      <td>8.900293</td>\n",
       "      <td>11.795583</td>\n",
       "      <td>12.497536</td>\n",
       "      <td>4.575706</td>\n",
       "      <td>5.502067</td>\n",
       "      <td>10.876285</td>\n",
       "    </tr>\n",
       "    <tr>\n",
       "      <th>mu__3</th>\n",
       "      <td>14.074888</td>\n",
       "      <td>7.453246</td>\n",
       "      <td>7.643546</td>\n",
       "      <td>15.735993</td>\n",
       "      <td>15.755683</td>\n",
       "      <td>10.633575</td>\n",
       "      <td>14.107995</td>\n",
       "      <td>13.930974</td>\n",
       "      <td>18.727074</td>\n",
       "      <td>15.026776</td>\n",
       "      <td>...</td>\n",
       "      <td>11.870785</td>\n",
       "      <td>3.864796</td>\n",
       "      <td>-0.013334</td>\n",
       "      <td>10.472871</td>\n",
       "      <td>8.900293</td>\n",
       "      <td>11.795583</td>\n",
       "      <td>12.497536</td>\n",
       "      <td>4.575706</td>\n",
       "      <td>5.502067</td>\n",
       "      <td>10.876285</td>\n",
       "    </tr>\n",
       "    <tr>\n",
       "      <th>mu__4</th>\n",
       "      <td>17.583754</td>\n",
       "      <td>11.706574</td>\n",
       "      <td>11.870286</td>\n",
       "      <td>19.036889</td>\n",
       "      <td>19.054281</td>\n",
       "      <td>14.487205</td>\n",
       "      <td>17.329052</td>\n",
       "      <td>17.187280</td>\n",
       "      <td>22.061776</td>\n",
       "      <td>18.285747</td>\n",
       "      <td>...</td>\n",
       "      <td>15.544095</td>\n",
       "      <td>8.529262</td>\n",
       "      <td>4.650472</td>\n",
       "      <td>14.173396</td>\n",
       "      <td>12.783069</td>\n",
       "      <td>15.524183</td>\n",
       "      <td>16.103677</td>\n",
       "      <td>8.894518</td>\n",
       "      <td>10.108426</td>\n",
       "      <td>15.046231</td>\n",
       "    </tr>\n",
       "  </tbody>\n",
       "</table>\n",
       "<p>5 rows × 1000 columns</p>\n",
       "</div>"
      ],
      "text/plain": [
       "             0          1          2          3          4          5    \\\n",
       "mu__0   3.548289  -5.306735  -5.036674   5.833304   5.859890  -0.927314   \n",
       "mu__1   3.548289  -5.306735  -5.036674   5.833304   5.859890  -0.927314   \n",
       "mu__2  14.074888   7.453246   7.643546  15.735993  15.755683  10.633575   \n",
       "mu__3  14.074888   7.453246   7.643546  15.735993  15.755683  10.633575   \n",
       "mu__4  17.583754  11.706574  11.870286  19.036889  19.054281  14.487205   \n",
       "\n",
       "             6          7          8          9    ...        990        991  \\\n",
       "mu__0   4.444826   4.162056   8.722967   5.249862  ...   0.850852 -10.128599   \n",
       "mu__1   4.444826   4.162056   8.722967   5.249862  ...   0.850852 -10.128599   \n",
       "mu__2  14.107995  13.930974  18.727074  15.026776  ...  11.870785   3.864796   \n",
       "mu__3  14.107995  13.930974  18.727074  15.026776  ...  11.870785   3.864796   \n",
       "mu__4  17.329052  17.187280  22.061776  18.285747  ...  15.544095   8.529262   \n",
       "\n",
       "             992        993        994        995        996       997  \\\n",
       "mu__0 -14.004751  -0.628703  -2.748037   0.609783   1.679113 -8.380728   \n",
       "mu__1 -14.004751  -0.628703  -2.748037   0.609783   1.679113 -8.380728   \n",
       "mu__2  -0.013334  10.472871   8.900293  11.795583  12.497536  4.575706   \n",
       "mu__3  -0.013334  10.472871   8.900293  11.795583  12.497536  4.575706   \n",
       "mu__4   4.650472  14.173396  12.783069  15.524183  16.103677  8.894518   \n",
       "\n",
       "             998        999  \n",
       "mu__0  -8.317011  -1.633552  \n",
       "mu__1  -8.317011  -1.633552  \n",
       "mu__2   5.502067  10.876285  \n",
       "mu__3   5.502067  10.876285  \n",
       "mu__4  10.108426  15.046231  \n",
       "\n",
       "[5 rows x 1000 columns]"
      ]
     },
     "execution_count": 8,
     "metadata": {},
     "output_type": "execute_result"
    }
   ],
   "source": [
    "df_mu = df_mu.T\n",
    "df_mu.head()"
   ]
  },
  {
   "cell_type": "code",
   "execution_count": 9,
   "id": "integral-louisville",
   "metadata": {},
   "outputs": [
    {
     "data": {
      "text/plain": [
       "RangeIndex(start=0, stop=1000, step=1)"
      ]
     },
     "execution_count": 9,
     "metadata": {},
     "output_type": "execute_result"
    }
   ],
   "source": [
    "df_mu.columns"
   ]
  },
  {
   "cell_type": "code",
   "execution_count": 10,
   "id": "portable-trainer",
   "metadata": {},
   "outputs": [
    {
     "data": {
      "text/plain": [
       "0    14.341345\n",
       "1    12.439642\n",
       "2    15.051139\n",
       "3    12.751333\n",
       "4    13.264365\n",
       "Name: sigma, dtype: float64"
      ]
     },
     "execution_count": 10,
     "metadata": {},
     "output_type": "execute_result"
    }
   ],
   "source": [
    "sigma = df_m['sigma'].T\n",
    "sigma.head()"
   ]
  },
  {
   "cell_type": "markdown",
   "id": "forty-sleep",
   "metadata": {},
   "source": [
    "### Code 7.20\n",
    "\n",
    "Recall that the lppd of the $i$th observation is defined as:\n",
    "$$\n",
    "    \\text{lppd}_i = \\log \\frac{1}{S} \\sum_{s} p(y_i \\mid \\theta_s) = \\log \\sum_{s} p(y_i \\mid \\theta_s) - \\log S,\n",
    "$$\n",
    "where $S$ is the number of samples of the parameter values. \n",
    "\n",
    "For computational error minimization, this is actually computed by first taking the log-probability density and then summing \n",
    "$$\n",
    "    \\log \\sum_{s} \\exp \\log p(y_i \\mid \\theta_s) - \\log S\n",
    "$$"
   ]
  },
  {
   "cell_type": "code",
   "execution_count": 11,
   "id": "patient-underground",
   "metadata": {},
   "outputs": [],
   "source": [
    "from scipy import stats\n",
    "\n",
    "\n",
    "N_SAMPLES = 1000\n",
    "N_OBS = df_mu.shape[0]\n",
    "\n",
    "logprob = np.zeros((N_OBS, N_SAMPLES))\n",
    "for s in range(N_SAMPLES):\n",
    "    logprob[:,s] = stats.norm.logpdf(df_cars['dist'], loc=df_mu[s], scale=sigma[s]) "
   ]
  },
  {
   "cell_type": "code",
   "execution_count": 12,
   "id": "egyptian-validation",
   "metadata": {},
   "outputs": [
    {
     "data": {
      "text/plain": [
       "array([[-3.5879128 , -3.61233154, -3.73967862, -3.50976049, -3.54635925],\n",
       "       [-3.68327571, -4.19686781, -4.1294316 , -3.51796221, -3.55272991],\n",
       "       [-3.82884284, -3.47835773, -3.65969304, -3.8881183 , -3.8967485 ],\n",
       "       [-3.73477179, -4.12355964, -4.08530237, -3.58523436, -3.61482656],\n",
       "       [-3.58818284, -3.49938786, -3.66803409, -3.49293503, -3.53052994]])"
      ]
     },
     "execution_count": 12,
     "metadata": {},
     "output_type": "execute_result"
    }
   ],
   "source": [
    "logprob[0:5, 0:5]"
   ]
  },
  {
   "cell_type": "markdown",
   "id": "built-region",
   "metadata": {},
   "source": [
    "### Code 7.21"
   ]
  },
  {
   "cell_type": "code",
   "execution_count": 13,
   "id": "unlikely-shoot",
   "metadata": {},
   "outputs": [],
   "source": [
    "from scipy.special import logsumexp\n",
    "\n",
    "lppd = np.zeros(N_OBS)\n",
    "\n",
    "for i in range(N_OBS):\n",
    "    lppd[i] = logsumexp(logprob[i]) - np.log(N_SAMPLES)"
   ]
  },
  {
   "cell_type": "markdown",
   "id": "valued-chemical",
   "metadata": {},
   "source": [
    "### Code 7.22\n",
    "\n",
    "The WAIC penalty term for observation $y_i$ is defined as: \n",
    "$$\n",
    "    \\text{var}_{\\theta} \\log p(y_i \\mid \\theta),\n",
    "$$\n",
    "where the variance is taken over the log-probability values corresponding to the samples of the parameters $\\theta$."
   ]
  },
  {
   "cell_type": "code",
   "execution_count": 14,
   "id": "dental-round",
   "metadata": {},
   "outputs": [],
   "source": [
    "# the WAIC penalty\n",
    "pWAIC = np.zeros(N_OBS)\n",
    "\n",
    "for i in range(N_OBS):\n",
    "    pWAIC[i] = np.var(logprob[i])"
   ]
  },
  {
   "cell_type": "markdown",
   "id": "attended-tissue",
   "metadata": {},
   "source": [
    "### Code 7.23\n",
    "\n",
    "The WAIC itself is defined as:\n",
    "\n",
    "$$\n",
    "    -2 \\cdot \\left ( \\sum_i \\text{lppd}_i - \\sum_i \\text{var}_{\\theta} \\log p(y_i \\mid \\theta) \\right ).\n",
    "$$"
   ]
  },
  {
   "cell_type": "code",
   "execution_count": 15,
   "id": "chemical-balloon",
   "metadata": {},
   "outputs": [
    {
     "data": {
      "text/plain": [
       "421.39844173678534"
      ]
     },
     "execution_count": 15,
     "metadata": {},
     "output_type": "execute_result"
    }
   ],
   "source": [
    "-2 * (sum(lppd) - sum(pWAIC))"
   ]
  },
  {
   "cell_type": "markdown",
   "id": "unnecessary-passing",
   "metadata": {},
   "source": [
    "### Code 7.24"
   ]
  },
  {
   "cell_type": "code",
   "execution_count": 16,
   "id": "cross-print",
   "metadata": {},
   "outputs": [
    {
     "data": {
      "text/plain": [
       "16.309706118235184"
      ]
     },
     "execution_count": 16,
     "metadata": {},
     "output_type": "execute_result"
    }
   ],
   "source": [
    "waic_vec = -2 * (lppd - pWAIC)\n",
    "(N_OBS * np.var(waic_vec)) ** 0.5"
   ]
  }
 ],
 "metadata": {
  "kernelspec": {
   "display_name": "stat-rethink",
   "language": "python",
   "name": "stat-rethink"
  },
  "language_info": {
   "codemirror_mode": {
    "name": "ipython",
    "version": 3
   },
   "file_extension": ".py",
   "mimetype": "text/x-python",
   "name": "python",
   "nbconvert_exporter": "python",
   "pygments_lexer": "ipython3",
   "version": "3.9.2"
  }
 },
 "nbformat": 4,
 "nbformat_minor": 5
}
