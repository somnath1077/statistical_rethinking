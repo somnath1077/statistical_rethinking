{
 "cells": [
  {
   "cell_type": "code",
   "execution_count": 1,
   "id": "utility-twins",
   "metadata": {},
   "outputs": [],
   "source": [
    "import arviz as az\n",
    "import matplotlib.pyplot as plt\n",
    "import numpy as np\n",
    "import pandas as pd\n",
    "import pymc3 as pm\n",
    "import seaborn as sns"
   ]
  },
  {
   "cell_type": "code",
   "execution_count": 2,
   "id": "vulnerable-samoa",
   "metadata": {},
   "outputs": [
    {
     "data": {
      "text/html": [
       "<div>\n",
       "<style scoped>\n",
       "    .dataframe tbody tr th:only-of-type {\n",
       "        vertical-align: middle;\n",
       "    }\n",
       "\n",
       "    .dataframe tbody tr th {\n",
       "        vertical-align: top;\n",
       "    }\n",
       "\n",
       "    .dataframe thead th {\n",
       "        text-align: right;\n",
       "    }\n",
       "</style>\n",
       "<table border=\"1\" class=\"dataframe\">\n",
       "  <thead>\n",
       "    <tr style=\"text-align: right;\">\n",
       "      <th></th>\n",
       "      <th>speed</th>\n",
       "      <th>dist</th>\n",
       "    </tr>\n",
       "  </thead>\n",
       "  <tbody>\n",
       "    <tr>\n",
       "      <th>1</th>\n",
       "      <td>4</td>\n",
       "      <td>2</td>\n",
       "    </tr>\n",
       "    <tr>\n",
       "      <th>2</th>\n",
       "      <td>4</td>\n",
       "      <td>10</td>\n",
       "    </tr>\n",
       "    <tr>\n",
       "      <th>3</th>\n",
       "      <td>7</td>\n",
       "      <td>4</td>\n",
       "    </tr>\n",
       "    <tr>\n",
       "      <th>4</th>\n",
       "      <td>7</td>\n",
       "      <td>22</td>\n",
       "    </tr>\n",
       "    <tr>\n",
       "      <th>5</th>\n",
       "      <td>8</td>\n",
       "      <td>16</td>\n",
       "    </tr>\n",
       "  </tbody>\n",
       "</table>\n",
       "</div>"
      ],
      "text/plain": [
       "   speed  dist\n",
       "1      4     2\n",
       "2      4    10\n",
       "3      7     4\n",
       "4      7    22\n",
       "5      8    16"
      ]
     },
     "execution_count": 2,
     "metadata": {},
     "output_type": "execute_result"
    }
   ],
   "source": [
    "df_cars = pd.read_csv('../../data/cars.csv', index_col=0)\n",
    "df_cars.head()"
   ]
  },
  {
   "cell_type": "code",
   "execution_count": 3,
   "id": "arranged-youth",
   "metadata": {},
   "outputs": [
    {
     "data": {
      "text/plain": [
       "(50, 2)"
      ]
     },
     "execution_count": 3,
     "metadata": {},
     "output_type": "execute_result"
    }
   ],
   "source": [
    "df_cars.shape"
   ]
  },
  {
   "cell_type": "code",
   "execution_count": 4,
   "id": "caring-substance",
   "metadata": {},
   "outputs": [
    {
     "data": {
      "text/html": [
       "<div>\n",
       "<style scoped>\n",
       "    .dataframe tbody tr th:only-of-type {\n",
       "        vertical-align: middle;\n",
       "    }\n",
       "\n",
       "    .dataframe tbody tr th {\n",
       "        vertical-align: top;\n",
       "    }\n",
       "\n",
       "    .dataframe thead th {\n",
       "        text-align: right;\n",
       "    }\n",
       "</style>\n",
       "<table border=\"1\" class=\"dataframe\">\n",
       "  <thead>\n",
       "    <tr style=\"text-align: right;\">\n",
       "      <th></th>\n",
       "      <th>speed</th>\n",
       "      <th>dist</th>\n",
       "    </tr>\n",
       "  </thead>\n",
       "  <tbody>\n",
       "    <tr>\n",
       "      <th>count</th>\n",
       "      <td>50.000000</td>\n",
       "      <td>50.000000</td>\n",
       "    </tr>\n",
       "    <tr>\n",
       "      <th>mean</th>\n",
       "      <td>15.400000</td>\n",
       "      <td>42.980000</td>\n",
       "    </tr>\n",
       "    <tr>\n",
       "      <th>std</th>\n",
       "      <td>5.287644</td>\n",
       "      <td>25.769377</td>\n",
       "    </tr>\n",
       "    <tr>\n",
       "      <th>min</th>\n",
       "      <td>4.000000</td>\n",
       "      <td>2.000000</td>\n",
       "    </tr>\n",
       "    <tr>\n",
       "      <th>25%</th>\n",
       "      <td>12.000000</td>\n",
       "      <td>26.000000</td>\n",
       "    </tr>\n",
       "    <tr>\n",
       "      <th>50%</th>\n",
       "      <td>15.000000</td>\n",
       "      <td>36.000000</td>\n",
       "    </tr>\n",
       "    <tr>\n",
       "      <th>75%</th>\n",
       "      <td>19.000000</td>\n",
       "      <td>56.000000</td>\n",
       "    </tr>\n",
       "    <tr>\n",
       "      <th>max</th>\n",
       "      <td>25.000000</td>\n",
       "      <td>120.000000</td>\n",
       "    </tr>\n",
       "  </tbody>\n",
       "</table>\n",
       "</div>"
      ],
      "text/plain": [
       "           speed        dist\n",
       "count  50.000000   50.000000\n",
       "mean   15.400000   42.980000\n",
       "std     5.287644   25.769377\n",
       "min     4.000000    2.000000\n",
       "25%    12.000000   26.000000\n",
       "50%    15.000000   36.000000\n",
       "75%    19.000000   56.000000\n",
       "max    25.000000  120.000000"
      ]
     },
     "execution_count": 4,
     "metadata": {},
     "output_type": "execute_result"
    }
   ],
   "source": [
    "df_cars.describe()"
   ]
  },
  {
   "cell_type": "markdown",
   "id": "apparent-brooklyn",
   "metadata": {},
   "source": [
    "### Code 7.19"
   ]
  },
  {
   "cell_type": "code",
   "execution_count": 5,
   "id": "brown-latitude",
   "metadata": {},
   "outputs": [
    {
     "name": "stderr",
     "output_type": "stream",
     "text": [
      "/home/somnath/install/anaconda3/envs/stat-rethink-pymc3/lib/python3.9/site-packages/pymc3/sampling.py:466: FutureWarning: In an upcoming release, pm.sample will return an `arviz.InferenceData` object instead of a `MultiTrace` by default. You can pass return_inferencedata=True or return_inferencedata=False to be safe and silence this warning.\n",
      "  warnings.warn(\n",
      "Only 250 samples in chain.\n",
      "Auto-assigning NUTS sampler...\n",
      "Initializing NUTS using jitter+adapt_diag...\n",
      "Multiprocess sampling (4 chains in 4 jobs)\n",
      "NUTS: [sigma, b, a]\n"
     ]
    },
    {
     "data": {
      "text/html": [
       "\n",
       "    <div>\n",
       "        <style>\n",
       "            /* Turns off some styling */\n",
       "            progress {\n",
       "                /* gets rid of default border in Firefox and Opera. */\n",
       "                border: none;\n",
       "                /* Needs to be in here for Safari polyfill so background images work as expected. */\n",
       "                background-size: auto;\n",
       "            }\n",
       "            .progress-bar-interrupted, .progress-bar-interrupted::-webkit-progress-bar {\n",
       "                background: #F44336;\n",
       "            }\n",
       "        </style>\n",
       "      <progress value='5000' class='' max='5000' style='width:300px; height:20px; vertical-align: middle;'></progress>\n",
       "      100.00% [5000/5000 00:02<00:00 Sampling 4 chains, 0 divergences]\n",
       "    </div>\n",
       "    "
      ],
      "text/plain": [
       "<IPython.core.display.HTML object>"
      ]
     },
     "metadata": {},
     "output_type": "display_data"
    },
    {
     "name": "stderr",
     "output_type": "stream",
     "text": [
      "Sampling 4 chains for 1_000 tune and 250 draw iterations (4_000 + 1_000 draws total) took 4 seconds.\n"
     ]
    }
   ],
   "source": [
    "with pm.Model() as m:\n",
    "    a = pm.Normal('a', mu=0, sigma=100)\n",
    "    b = pm.Normal('b', mu=0, sigma=10)\n",
    "    \n",
    "    mu = pm.Deterministic('mu', a + b * df_cars['speed'])\n",
    "    sigma = pm.Exponential('sigma', lam=1)\n",
    "    \n",
    "    dist = pm.Normal('dist', mu=mu, sigma=sigma, observed=df_cars['dist'])\n",
    "    \n",
    "    trace_m = pm.sample(250, chains=4, tune=1000)"
   ]
  },
  {
   "cell_type": "code",
   "execution_count": 6,
   "id": "disabled-development",
   "metadata": {},
   "outputs": [
    {
     "data": {
      "text/html": [
       "<div>\n",
       "<style scoped>\n",
       "    .dataframe tbody tr th:only-of-type {\n",
       "        vertical-align: middle;\n",
       "    }\n",
       "\n",
       "    .dataframe tbody tr th {\n",
       "        vertical-align: top;\n",
       "    }\n",
       "\n",
       "    .dataframe thead th {\n",
       "        text-align: right;\n",
       "    }\n",
       "</style>\n",
       "<table border=\"1\" class=\"dataframe\">\n",
       "  <thead>\n",
       "    <tr style=\"text-align: right;\">\n",
       "      <th></th>\n",
       "      <th>a</th>\n",
       "      <th>b</th>\n",
       "      <th>mu__0</th>\n",
       "      <th>mu__1</th>\n",
       "      <th>mu__2</th>\n",
       "      <th>mu__3</th>\n",
       "      <th>mu__4</th>\n",
       "      <th>mu__5</th>\n",
       "      <th>mu__6</th>\n",
       "      <th>mu__7</th>\n",
       "      <th>...</th>\n",
       "      <th>mu__41</th>\n",
       "      <th>mu__42</th>\n",
       "      <th>mu__43</th>\n",
       "      <th>mu__44</th>\n",
       "      <th>mu__45</th>\n",
       "      <th>mu__46</th>\n",
       "      <th>mu__47</th>\n",
       "      <th>mu__48</th>\n",
       "      <th>mu__49</th>\n",
       "      <th>sigma</th>\n",
       "    </tr>\n",
       "  </thead>\n",
       "  <tbody>\n",
       "    <tr>\n",
       "      <th>0</th>\n",
       "      <td>-14.020351</td>\n",
       "      <td>3.833359</td>\n",
       "      <td>1.313083</td>\n",
       "      <td>1.313083</td>\n",
       "      <td>12.813159</td>\n",
       "      <td>12.813159</td>\n",
       "      <td>16.646517</td>\n",
       "      <td>20.479876</td>\n",
       "      <td>24.313235</td>\n",
       "      <td>24.313235</td>\n",
       "      <td>...</td>\n",
       "      <td>62.646821</td>\n",
       "      <td>62.646821</td>\n",
       "      <td>70.313538</td>\n",
       "      <td>74.146897</td>\n",
       "      <td>77.980255</td>\n",
       "      <td>77.980255</td>\n",
       "      <td>77.980255</td>\n",
       "      <td>77.980255</td>\n",
       "      <td>81.813614</td>\n",
       "      <td>12.298490</td>\n",
       "    </tr>\n",
       "    <tr>\n",
       "      <th>1</th>\n",
       "      <td>-25.803944</td>\n",
       "      <td>4.322635</td>\n",
       "      <td>-8.513405</td>\n",
       "      <td>-8.513405</td>\n",
       "      <td>4.454499</td>\n",
       "      <td>4.454499</td>\n",
       "      <td>8.777133</td>\n",
       "      <td>13.099768</td>\n",
       "      <td>17.422403</td>\n",
       "      <td>17.422403</td>\n",
       "      <td>...</td>\n",
       "      <td>60.648750</td>\n",
       "      <td>60.648750</td>\n",
       "      <td>69.294019</td>\n",
       "      <td>73.616654</td>\n",
       "      <td>77.939288</td>\n",
       "      <td>77.939288</td>\n",
       "      <td>77.939288</td>\n",
       "      <td>77.939288</td>\n",
       "      <td>82.261923</td>\n",
       "      <td>16.448034</td>\n",
       "    </tr>\n",
       "    <tr>\n",
       "      <th>2</th>\n",
       "      <td>-24.251112</td>\n",
       "      <td>4.253930</td>\n",
       "      <td>-7.235391</td>\n",
       "      <td>-7.235391</td>\n",
       "      <td>5.526400</td>\n",
       "      <td>5.526400</td>\n",
       "      <td>9.780330</td>\n",
       "      <td>14.034260</td>\n",
       "      <td>18.288190</td>\n",
       "      <td>18.288190</td>\n",
       "      <td>...</td>\n",
       "      <td>60.827492</td>\n",
       "      <td>60.827492</td>\n",
       "      <td>69.335353</td>\n",
       "      <td>73.589283</td>\n",
       "      <td>77.843213</td>\n",
       "      <td>77.843213</td>\n",
       "      <td>77.843213</td>\n",
       "      <td>77.843213</td>\n",
       "      <td>82.097143</td>\n",
       "      <td>15.086659</td>\n",
       "    </tr>\n",
       "    <tr>\n",
       "      <th>3</th>\n",
       "      <td>-14.071437</td>\n",
       "      <td>3.632792</td>\n",
       "      <td>0.459733</td>\n",
       "      <td>0.459733</td>\n",
       "      <td>11.358110</td>\n",
       "      <td>11.358110</td>\n",
       "      <td>14.990902</td>\n",
       "      <td>18.623695</td>\n",
       "      <td>22.256487</td>\n",
       "      <td>22.256487</td>\n",
       "      <td>...</td>\n",
       "      <td>58.584411</td>\n",
       "      <td>58.584411</td>\n",
       "      <td>65.849996</td>\n",
       "      <td>69.482788</td>\n",
       "      <td>73.115580</td>\n",
       "      <td>73.115580</td>\n",
       "      <td>73.115580</td>\n",
       "      <td>73.115580</td>\n",
       "      <td>76.748373</td>\n",
       "      <td>13.015358</td>\n",
       "    </tr>\n",
       "    <tr>\n",
       "      <th>4</th>\n",
       "      <td>-11.576985</td>\n",
       "      <td>3.628859</td>\n",
       "      <td>2.938452</td>\n",
       "      <td>2.938452</td>\n",
       "      <td>13.825029</td>\n",
       "      <td>13.825029</td>\n",
       "      <td>17.453888</td>\n",
       "      <td>21.082747</td>\n",
       "      <td>24.711606</td>\n",
       "      <td>24.711606</td>\n",
       "      <td>...</td>\n",
       "      <td>61.000197</td>\n",
       "      <td>61.000197</td>\n",
       "      <td>68.257916</td>\n",
       "      <td>71.886775</td>\n",
       "      <td>75.515634</td>\n",
       "      <td>75.515634</td>\n",
       "      <td>75.515634</td>\n",
       "      <td>75.515634</td>\n",
       "      <td>79.144493</td>\n",
       "      <td>12.799770</td>\n",
       "    </tr>\n",
       "  </tbody>\n",
       "</table>\n",
       "<p>5 rows × 53 columns</p>\n",
       "</div>"
      ],
      "text/plain": [
       "           a         b     mu__0     mu__1      mu__2      mu__3      mu__4  \\\n",
       "0 -14.020351  3.833359  1.313083  1.313083  12.813159  12.813159  16.646517   \n",
       "1 -25.803944  4.322635 -8.513405 -8.513405   4.454499   4.454499   8.777133   \n",
       "2 -24.251112  4.253930 -7.235391 -7.235391   5.526400   5.526400   9.780330   \n",
       "3 -14.071437  3.632792  0.459733  0.459733  11.358110  11.358110  14.990902   \n",
       "4 -11.576985  3.628859  2.938452  2.938452  13.825029  13.825029  17.453888   \n",
       "\n",
       "       mu__5      mu__6      mu__7  ...     mu__41     mu__42     mu__43  \\\n",
       "0  20.479876  24.313235  24.313235  ...  62.646821  62.646821  70.313538   \n",
       "1  13.099768  17.422403  17.422403  ...  60.648750  60.648750  69.294019   \n",
       "2  14.034260  18.288190  18.288190  ...  60.827492  60.827492  69.335353   \n",
       "3  18.623695  22.256487  22.256487  ...  58.584411  58.584411  65.849996   \n",
       "4  21.082747  24.711606  24.711606  ...  61.000197  61.000197  68.257916   \n",
       "\n",
       "      mu__44     mu__45     mu__46     mu__47     mu__48     mu__49      sigma  \n",
       "0  74.146897  77.980255  77.980255  77.980255  77.980255  81.813614  12.298490  \n",
       "1  73.616654  77.939288  77.939288  77.939288  77.939288  82.261923  16.448034  \n",
       "2  73.589283  77.843213  77.843213  77.843213  77.843213  82.097143  15.086659  \n",
       "3  69.482788  73.115580  73.115580  73.115580  73.115580  76.748373  13.015358  \n",
       "4  71.886775  75.515634  75.515634  75.515634  75.515634  79.144493  12.799770  \n",
       "\n",
       "[5 rows x 53 columns]"
      ]
     },
     "execution_count": 6,
     "metadata": {},
     "output_type": "execute_result"
    }
   ],
   "source": [
    "df_m = pm.trace_to_dataframe(trace_m)\n",
    "df_m.head()"
   ]
  },
  {
   "cell_type": "code",
   "execution_count": 7,
   "id": "similar-stick",
   "metadata": {},
   "outputs": [],
   "source": [
    "df_mu = df_m.filter(regex='mu__*')"
   ]
  },
  {
   "cell_type": "code",
   "execution_count": 8,
   "id": "satisfied-blood",
   "metadata": {},
   "outputs": [
    {
     "data": {
      "text/html": [
       "<div>\n",
       "<style scoped>\n",
       "    .dataframe tbody tr th:only-of-type {\n",
       "        vertical-align: middle;\n",
       "    }\n",
       "\n",
       "    .dataframe tbody tr th {\n",
       "        vertical-align: top;\n",
       "    }\n",
       "\n",
       "    .dataframe thead th {\n",
       "        text-align: right;\n",
       "    }\n",
       "</style>\n",
       "<table border=\"1\" class=\"dataframe\">\n",
       "  <thead>\n",
       "    <tr style=\"text-align: right;\">\n",
       "      <th></th>\n",
       "      <th>0</th>\n",
       "      <th>1</th>\n",
       "      <th>2</th>\n",
       "      <th>3</th>\n",
       "      <th>4</th>\n",
       "      <th>5</th>\n",
       "      <th>6</th>\n",
       "      <th>7</th>\n",
       "      <th>8</th>\n",
       "      <th>9</th>\n",
       "      <th>...</th>\n",
       "      <th>990</th>\n",
       "      <th>991</th>\n",
       "      <th>992</th>\n",
       "      <th>993</th>\n",
       "      <th>994</th>\n",
       "      <th>995</th>\n",
       "      <th>996</th>\n",
       "      <th>997</th>\n",
       "      <th>998</th>\n",
       "      <th>999</th>\n",
       "    </tr>\n",
       "  </thead>\n",
       "  <tbody>\n",
       "    <tr>\n",
       "      <th>mu__0</th>\n",
       "      <td>1.313083</td>\n",
       "      <td>-8.513405</td>\n",
       "      <td>-7.235391</td>\n",
       "      <td>0.459733</td>\n",
       "      <td>2.938452</td>\n",
       "      <td>2.938452</td>\n",
       "      <td>4.983341</td>\n",
       "      <td>1.605433</td>\n",
       "      <td>-3.981233</td>\n",
       "      <td>-3.981233</td>\n",
       "      <td>...</td>\n",
       "      <td>-5.811632</td>\n",
       "      <td>-3.383203</td>\n",
       "      <td>-0.257234</td>\n",
       "      <td>-5.263791</td>\n",
       "      <td>-1.175943</td>\n",
       "      <td>2.335699</td>\n",
       "      <td>5.264070</td>\n",
       "      <td>1.741471</td>\n",
       "      <td>1.548722</td>\n",
       "      <td>2.872788</td>\n",
       "    </tr>\n",
       "    <tr>\n",
       "      <th>mu__1</th>\n",
       "      <td>1.313083</td>\n",
       "      <td>-8.513405</td>\n",
       "      <td>-7.235391</td>\n",
       "      <td>0.459733</td>\n",
       "      <td>2.938452</td>\n",
       "      <td>2.938452</td>\n",
       "      <td>4.983341</td>\n",
       "      <td>1.605433</td>\n",
       "      <td>-3.981233</td>\n",
       "      <td>-3.981233</td>\n",
       "      <td>...</td>\n",
       "      <td>-5.811632</td>\n",
       "      <td>-3.383203</td>\n",
       "      <td>-0.257234</td>\n",
       "      <td>-5.263791</td>\n",
       "      <td>-1.175943</td>\n",
       "      <td>2.335699</td>\n",
       "      <td>5.264070</td>\n",
       "      <td>1.741471</td>\n",
       "      <td>1.548722</td>\n",
       "      <td>2.872788</td>\n",
       "    </tr>\n",
       "    <tr>\n",
       "      <th>mu__2</th>\n",
       "      <td>12.813159</td>\n",
       "      <td>4.454499</td>\n",
       "      <td>5.526400</td>\n",
       "      <td>11.358110</td>\n",
       "      <td>13.825029</td>\n",
       "      <td>13.825029</td>\n",
       "      <td>15.189856</td>\n",
       "      <td>12.380578</td>\n",
       "      <td>8.364910</td>\n",
       "      <td>8.364910</td>\n",
       "      <td>...</td>\n",
       "      <td>7.033663</td>\n",
       "      <td>8.930605</td>\n",
       "      <td>10.904434</td>\n",
       "      <td>6.231058</td>\n",
       "      <td>11.230402</td>\n",
       "      <td>13.919230</td>\n",
       "      <td>15.846519</td>\n",
       "      <td>11.379295</td>\n",
       "      <td>12.228656</td>\n",
       "      <td>14.015621</td>\n",
       "    </tr>\n",
       "    <tr>\n",
       "      <th>mu__3</th>\n",
       "      <td>12.813159</td>\n",
       "      <td>4.454499</td>\n",
       "      <td>5.526400</td>\n",
       "      <td>11.358110</td>\n",
       "      <td>13.825029</td>\n",
       "      <td>13.825029</td>\n",
       "      <td>15.189856</td>\n",
       "      <td>12.380578</td>\n",
       "      <td>8.364910</td>\n",
       "      <td>8.364910</td>\n",
       "      <td>...</td>\n",
       "      <td>7.033663</td>\n",
       "      <td>8.930605</td>\n",
       "      <td>10.904434</td>\n",
       "      <td>6.231058</td>\n",
       "      <td>11.230402</td>\n",
       "      <td>13.919230</td>\n",
       "      <td>15.846519</td>\n",
       "      <td>11.379295</td>\n",
       "      <td>12.228656</td>\n",
       "      <td>14.015621</td>\n",
       "    </tr>\n",
       "    <tr>\n",
       "      <th>mu__4</th>\n",
       "      <td>16.646517</td>\n",
       "      <td>8.777133</td>\n",
       "      <td>9.780330</td>\n",
       "      <td>14.990902</td>\n",
       "      <td>17.453888</td>\n",
       "      <td>17.453888</td>\n",
       "      <td>18.592027</td>\n",
       "      <td>15.972292</td>\n",
       "      <td>12.480291</td>\n",
       "      <td>12.480291</td>\n",
       "      <td>...</td>\n",
       "      <td>11.315428</td>\n",
       "      <td>13.035207</td>\n",
       "      <td>14.624989</td>\n",
       "      <td>10.062675</td>\n",
       "      <td>15.365850</td>\n",
       "      <td>17.780406</td>\n",
       "      <td>19.374002</td>\n",
       "      <td>14.591903</td>\n",
       "      <td>15.788634</td>\n",
       "      <td>17.729899</td>\n",
       "    </tr>\n",
       "  </tbody>\n",
       "</table>\n",
       "<p>5 rows × 1000 columns</p>\n",
       "</div>"
      ],
      "text/plain": [
       "             0         1         2          3          4          5    \\\n",
       "mu__0   1.313083 -8.513405 -7.235391   0.459733   2.938452   2.938452   \n",
       "mu__1   1.313083 -8.513405 -7.235391   0.459733   2.938452   2.938452   \n",
       "mu__2  12.813159  4.454499  5.526400  11.358110  13.825029  13.825029   \n",
       "mu__3  12.813159  4.454499  5.526400  11.358110  13.825029  13.825029   \n",
       "mu__4  16.646517  8.777133  9.780330  14.990902  17.453888  17.453888   \n",
       "\n",
       "             6          7          8          9    ...        990        991  \\\n",
       "mu__0   4.983341   1.605433  -3.981233  -3.981233  ...  -5.811632  -3.383203   \n",
       "mu__1   4.983341   1.605433  -3.981233  -3.981233  ...  -5.811632  -3.383203   \n",
       "mu__2  15.189856  12.380578   8.364910   8.364910  ...   7.033663   8.930605   \n",
       "mu__3  15.189856  12.380578   8.364910   8.364910  ...   7.033663   8.930605   \n",
       "mu__4  18.592027  15.972292  12.480291  12.480291  ...  11.315428  13.035207   \n",
       "\n",
       "             992        993        994        995        996        997  \\\n",
       "mu__0  -0.257234  -5.263791  -1.175943   2.335699   5.264070   1.741471   \n",
       "mu__1  -0.257234  -5.263791  -1.175943   2.335699   5.264070   1.741471   \n",
       "mu__2  10.904434   6.231058  11.230402  13.919230  15.846519  11.379295   \n",
       "mu__3  10.904434   6.231058  11.230402  13.919230  15.846519  11.379295   \n",
       "mu__4  14.624989  10.062675  15.365850  17.780406  19.374002  14.591903   \n",
       "\n",
       "             998        999  \n",
       "mu__0   1.548722   2.872788  \n",
       "mu__1   1.548722   2.872788  \n",
       "mu__2  12.228656  14.015621  \n",
       "mu__3  12.228656  14.015621  \n",
       "mu__4  15.788634  17.729899  \n",
       "\n",
       "[5 rows x 1000 columns]"
      ]
     },
     "execution_count": 8,
     "metadata": {},
     "output_type": "execute_result"
    }
   ],
   "source": [
    "df_mu = df_mu.T\n",
    "df_mu.head()"
   ]
  },
  {
   "cell_type": "code",
   "execution_count": 9,
   "id": "consecutive-candle",
   "metadata": {},
   "outputs": [
    {
     "data": {
      "text/plain": [
       "RangeIndex(start=0, stop=1000, step=1)"
      ]
     },
     "execution_count": 9,
     "metadata": {},
     "output_type": "execute_result"
    }
   ],
   "source": [
    "df_mu.columns"
   ]
  },
  {
   "cell_type": "code",
   "execution_count": 10,
   "id": "western-chick",
   "metadata": {},
   "outputs": [
    {
     "data": {
      "text/plain": [
       "0    12.298490\n",
       "1    16.448034\n",
       "2    15.086659\n",
       "3    13.015358\n",
       "4    12.799770\n",
       "Name: sigma, dtype: float64"
      ]
     },
     "execution_count": 10,
     "metadata": {},
     "output_type": "execute_result"
    }
   ],
   "source": [
    "sigma = df_m['sigma'].T\n",
    "sigma.head()"
   ]
  },
  {
   "cell_type": "markdown",
   "id": "confused-wound",
   "metadata": {},
   "source": [
    "### Code 7.20"
   ]
  },
  {
   "cell_type": "code",
   "execution_count": 11,
   "id": "peaceful-upgrade",
   "metadata": {},
   "outputs": [],
   "source": [
    "from scipy import stats\n",
    "\n",
    "\n",
    "N_SAMPLES = 1000\n",
    "N_OBS = df_mu.shape[0]\n",
    "\n",
    "logprob = np.zeros((N_OBS, N_SAMPLES))\n",
    "for s in range(N_SAMPLES):\n",
    "    logprob[:,s] = stats.norm.logpdf(df_cars['dist'], loc=df_mu[s], scale=sigma[s]) "
   ]
  },
  {
   "cell_type": "code",
   "execution_count": 12,
   "id": "random-august",
   "metadata": {},
   "outputs": [
    {
     "data": {
      "text/plain": [
       "array([[-3.42997487, -3.92342589, -3.82011696, -3.49207104, -3.4710535 ],\n",
       "       [-3.67787322, -4.35259784, -4.28531791, -3.75371365, -3.62054852],\n",
       "       [-3.68517637, -3.71952625, -3.63786763, -3.64487356, -3.76296616],\n",
       "       [-3.70741158, -4.28809381, -4.22890673, -3.81933698, -3.6723225 ],\n",
       "       [-3.42979679, -3.81556316, -3.71772975, -3.48807414, -3.47481675]])"
      ]
     },
     "execution_count": 12,
     "metadata": {},
     "output_type": "execute_result"
    }
   ],
   "source": [
    "logprob[0:5, 0:5]"
   ]
  },
  {
   "cell_type": "markdown",
   "id": "hungry-network",
   "metadata": {},
   "source": [
    "### Code 7.21"
   ]
  },
  {
   "cell_type": "code",
   "execution_count": 13,
   "id": "coupled-reviewer",
   "metadata": {},
   "outputs": [],
   "source": [
    "from scipy.special import logsumexp\n",
    "\n",
    "lppd = np.zeros(N_OBS)\n",
    "\n",
    "for i in range(N_OBS):\n",
    "    lppd[i] = logsumexp(logprob[i]) - np.log(N_SAMPLES)"
   ]
  },
  {
   "cell_type": "markdown",
   "id": "colored-secondary",
   "metadata": {},
   "source": [
    "### Code 7.22"
   ]
  },
  {
   "cell_type": "code",
   "execution_count": 14,
   "id": "daily-press",
   "metadata": {},
   "outputs": [],
   "source": [
    "# the WAIC penalty\n",
    "pWAIC = np.zeros(N_OBS)\n",
    "\n",
    "for i in range(N_OBS):\n",
    "    pWAIC[i] = np.var(logprob[i])"
   ]
  },
  {
   "cell_type": "markdown",
   "id": "pretty-fourth",
   "metadata": {},
   "source": [
    "### Code 7.23"
   ]
  },
  {
   "cell_type": "code",
   "execution_count": 15,
   "id": "lonely-discount",
   "metadata": {},
   "outputs": [
    {
     "data": {
      "text/plain": [
       "421.51015283841366"
      ]
     },
     "execution_count": 15,
     "metadata": {},
     "output_type": "execute_result"
    }
   ],
   "source": [
    "-2 * (sum(lppd) - sum(pWAIC))"
   ]
  }
 ],
 "metadata": {
  "kernelspec": {
   "display_name": "stat-rethink",
   "language": "python",
   "name": "stat-rethink"
  },
  "language_info": {
   "codemirror_mode": {
    "name": "ipython",
    "version": 3
   },
   "file_extension": ".py",
   "mimetype": "text/x-python",
   "name": "python",
   "nbconvert_exporter": "python",
   "pygments_lexer": "ipython3",
   "version": "3.9.2"
  }
 },
 "nbformat": 4,
 "nbformat_minor": 5
}
