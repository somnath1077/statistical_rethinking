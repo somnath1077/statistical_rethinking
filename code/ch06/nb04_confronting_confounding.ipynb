{
 "cells": [
  {
   "cell_type": "markdown",
   "id": "valid-limit",
   "metadata": {},
   "source": [
    "## Confronting Confounding\n",
    "\n",
    "### Elemental Confounds\n",
    "\n",
    "* Fork: $X \\leftarrow Z \\rightarrow Y$\n",
    "* Pipe: $X \\rightarrow Z \\rightarrow Y$\n",
    "* Collider: $X \\rightarrow Z \\leftarrow Y$\n",
    "* Descendant: "
   ]
  },
  {
   "cell_type": "code",
   "execution_count": 3,
   "id": "decreased-brick",
   "metadata": {},
   "outputs": [
    {
     "data": {
      "text/plain": [
       "(<graphviz.dot.Digraph at 0x7ff58a8753d0>,\n",
       " <graphviz.dot.Digraph at 0x7ff58a875550>)"
      ]
     },
     "execution_count": 3,
     "metadata": {},
     "output_type": "execute_result"
    }
   ],
   "source": [
    "from causalgraphicalmodels import CausalGraphicalModel\n",
    "\n",
    "\n",
    "fork = CausalGraphicalModel(\n",
    "    nodes=[\"X\", \"Y\", \"Z\"],\n",
    "    edges=[\n",
    "        (\"Z\", \"X\"), \n",
    "        (\"Y\", \"Z\")\n",
    "    ]\n",
    ")\n",
    "\n",
    "desc = CausalGraphicalModel(\n",
    "    nodes=[\"X\", \"Y\", \"Z\", \"D\"],\n",
    "    edges=[\n",
    "        (\"X\", \"Z\"), \n",
    "        (\"Y\", \"Z\"), \n",
    "        (\"Z\", \"D\")\n",
    "    ]\n",
    ")\n",
    "\n",
    "# draw return a graphviz `dot` object, which jupyter can render\n",
    "fork.draw(), desc.draw()"
   ]
  }
 ],
 "metadata": {
  "kernelspec": {
   "display_name": "stat-rethink",
   "language": "python",
   "name": "stat-rethink"
  },
  "language_info": {
   "codemirror_mode": {
    "name": "ipython",
    "version": 3
   },
   "file_extension": ".py",
   "mimetype": "text/x-python",
   "name": "python",
   "nbconvert_exporter": "python",
   "pygments_lexer": "ipython3",
   "version": "3.8.6"
  }
 },
 "nbformat": 4,
 "nbformat_minor": 5
}
