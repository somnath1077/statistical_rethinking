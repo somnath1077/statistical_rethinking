{
 "cells": [
  {
   "cell_type": "code",
   "execution_count": 1,
   "id": "sophisticated-chorus",
   "metadata": {},
   "outputs": [],
   "source": [
    "import arviz as az\n",
    "import matplotlib.pyplot as plt\n",
    "import numpy as np\n",
    "import pandas as pd\n",
    "import pymc3 as pm\n",
    "import seaborn as sns"
   ]
  },
  {
   "cell_type": "markdown",
   "id": "polished-intro",
   "metadata": {},
   "source": [
    "## Happiness and Marriage\n",
    "\n",
    "The function to simulate data is a modified version of the function to be found in: https://github.com/pymc-devs/resources/blob/master/Rethinking_2/Chp_06.ipynb"
   ]
  },
  {
   "cell_type": "code",
   "execution_count": 2,
   "id": "loving-tender",
   "metadata": {},
   "outputs": [],
   "source": [
    "def sigmoid(x):\n",
    "    return np.exp(x) / (1 + np.exp(x))\n",
    "\n",
    "\n",
    "def sim_happiness(N_years=1000, seed=1234):\n",
    "    np.random.seed(seed)\n",
    "\n",
    "    population = pd.DataFrame(np.zeros((20 * 65, 3)), columns=[\"age\", \"happiness\", \"married\"])\n",
    "    population.loc[:, \"age\"] = np.repeat(np.arange(1, 66), 20)\n",
    "    population.loc[:, \"happiness\"] = np.tile(np.linspace(-2, 2, 20), 65)\n",
    "\n",
    "    for i in range(N_years):\n",
    "        # age population\n",
    "        population.loc[:, \"age\"] += 1\n",
    "        \n",
    "        # replace old folk with new folk\n",
    "        idx = population.age > 65\n",
    "        population.loc[idx, \"age\"] = 1\n",
    "        population.loc[idx, \"married\"] = 0\n",
    "        population.loc[idx, \"happiness\"] = np.linspace(-2, 2, 20)\n",
    "\n",
    "        # do the work\n",
    "        eligible = (population.married == 0) & (population.age >= 18)\n",
    "        marry = (np.random.binomial(n=1, p=sigmoid(population.loc[eligible, \"happiness\"] - 4)) == 1).astype(int)\n",
    "        population.loc[eligible, \"married\"] = marry\n",
    "\n",
    "    population.sort_values(\"age\", inplace=True, ignore_index=True)\n",
    "\n",
    "    return population\n"
   ]
  },
  {
   "cell_type": "markdown",
   "id": "standing-experience",
   "metadata": {},
   "source": [
    "### Code 6.21"
   ]
  },
  {
   "cell_type": "code",
   "execution_count": 3,
   "id": "dental-requirement",
   "metadata": {},
   "outputs": [
    {
     "data": {
      "text/html": [
       "<div>\n",
       "<style scoped>\n",
       "    .dataframe tbody tr th:only-of-type {\n",
       "        vertical-align: middle;\n",
       "    }\n",
       "\n",
       "    .dataframe tbody tr th {\n",
       "        vertical-align: top;\n",
       "    }\n",
       "\n",
       "    .dataframe thead th {\n",
       "        text-align: right;\n",
       "    }\n",
       "</style>\n",
       "<table border=\"1\" class=\"dataframe\">\n",
       "  <thead>\n",
       "    <tr style=\"text-align: right;\">\n",
       "      <th></th>\n",
       "      <th>age</th>\n",
       "      <th>happiness</th>\n",
       "      <th>married</th>\n",
       "    </tr>\n",
       "  </thead>\n",
       "  <tbody>\n",
       "    <tr>\n",
       "      <th>count</th>\n",
       "      <td>1300.000000</td>\n",
       "      <td>1.300000e+03</td>\n",
       "      <td>1300.000000</td>\n",
       "    </tr>\n",
       "    <tr>\n",
       "      <th>mean</th>\n",
       "      <td>33.000000</td>\n",
       "      <td>-1.004325e-16</td>\n",
       "      <td>0.286923</td>\n",
       "    </tr>\n",
       "    <tr>\n",
       "      <th>std</th>\n",
       "      <td>18.768883</td>\n",
       "      <td>1.214421e+00</td>\n",
       "      <td>0.452499</td>\n",
       "    </tr>\n",
       "    <tr>\n",
       "      <th>min</th>\n",
       "      <td>1.000000</td>\n",
       "      <td>-2.000000e+00</td>\n",
       "      <td>0.000000</td>\n",
       "    </tr>\n",
       "    <tr>\n",
       "      <th>5.5%</th>\n",
       "      <td>4.000000</td>\n",
       "      <td>-1.789474e+00</td>\n",
       "      <td>0.000000</td>\n",
       "    </tr>\n",
       "    <tr>\n",
       "      <th>50%</th>\n",
       "      <td>33.000000</td>\n",
       "      <td>-1.110223e-16</td>\n",
       "      <td>0.000000</td>\n",
       "    </tr>\n",
       "    <tr>\n",
       "      <th>94.5%</th>\n",
       "      <td>62.000000</td>\n",
       "      <td>1.789474e+00</td>\n",
       "      <td>1.000000</td>\n",
       "    </tr>\n",
       "    <tr>\n",
       "      <th>max</th>\n",
       "      <td>65.000000</td>\n",
       "      <td>2.000000e+00</td>\n",
       "      <td>1.000000</td>\n",
       "    </tr>\n",
       "  </tbody>\n",
       "</table>\n",
       "</div>"
      ],
      "text/plain": [
       "               age     happiness      married\n",
       "count  1300.000000  1.300000e+03  1300.000000\n",
       "mean     33.000000 -1.004325e-16     0.286923\n",
       "std      18.768883  1.214421e+00     0.452499\n",
       "min       1.000000 -2.000000e+00     0.000000\n",
       "5.5%      4.000000 -1.789474e+00     0.000000\n",
       "50%      33.000000 -1.110223e-16     0.000000\n",
       "94.5%    62.000000  1.789474e+00     1.000000\n",
       "max      65.000000  2.000000e+00     1.000000"
      ]
     },
     "execution_count": 3,
     "metadata": {},
     "output_type": "execute_result"
    }
   ],
   "source": [
    "df = sim_happiness()\n",
    "df.describe([0.055, 0.945])"
   ]
  }
 ],
 "metadata": {
  "kernelspec": {
   "display_name": "stat-rethink",
   "language": "python",
   "name": "stat-rethink"
  },
  "language_info": {
   "codemirror_mode": {
    "name": "ipython",
    "version": 3
   },
   "file_extension": ".py",
   "mimetype": "text/x-python",
   "name": "python",
   "nbconvert_exporter": "python",
   "pygments_lexer": "ipython3",
   "version": "3.8.6"
  }
 },
 "nbformat": 4,
 "nbformat_minor": 5
}
