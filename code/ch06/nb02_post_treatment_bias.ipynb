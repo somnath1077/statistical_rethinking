{
 "cells": [
  {
   "cell_type": "code",
   "execution_count": 1,
   "id": "portable-saskatchewan",
   "metadata": {},
   "outputs": [],
   "source": [
    "import arviz as az\n",
    "import matplotlib.pyplot as plt\n",
    "import numpy as np\n",
    "import pandas as pd\n",
    "import pymc3 as pm\n",
    "import seaborn as sns"
   ]
  },
  {
   "cell_type": "markdown",
   "id": "greek-symbol",
   "metadata": {},
   "source": [
    "### Code 6.13"
   ]
  },
  {
   "cell_type": "code",
   "execution_count": 2,
   "id": "arabic-klein",
   "metadata": {},
   "outputs": [
    {
     "data": {
      "text/html": [
       "<div>\n",
       "<style scoped>\n",
       "    .dataframe tbody tr th:only-of-type {\n",
       "        vertical-align: middle;\n",
       "    }\n",
       "\n",
       "    .dataframe tbody tr th {\n",
       "        vertical-align: top;\n",
       "    }\n",
       "\n",
       "    .dataframe thead th {\n",
       "        text-align: right;\n",
       "    }\n",
       "</style>\n",
       "<table border=\"1\" class=\"dataframe\">\n",
       "  <thead>\n",
       "    <tr style=\"text-align: right;\">\n",
       "      <th></th>\n",
       "      <th>h0</th>\n",
       "      <th>h1</th>\n",
       "      <th>treatment</th>\n",
       "      <th>fungus</th>\n",
       "    </tr>\n",
       "  </thead>\n",
       "  <tbody>\n",
       "    <tr>\n",
       "      <th>count</th>\n",
       "      <td>100.000000</td>\n",
       "      <td>100.000000</td>\n",
       "      <td>100.000000</td>\n",
       "      <td>100.000000</td>\n",
       "    </tr>\n",
       "    <tr>\n",
       "      <th>mean</th>\n",
       "      <td>9.844935</td>\n",
       "      <td>13.744618</td>\n",
       "      <td>0.500000</td>\n",
       "      <td>0.360000</td>\n",
       "    </tr>\n",
       "    <tr>\n",
       "      <th>std</th>\n",
       "      <td>2.181787</td>\n",
       "      <td>2.907541</td>\n",
       "      <td>0.502519</td>\n",
       "      <td>0.482418</td>\n",
       "    </tr>\n",
       "    <tr>\n",
       "      <th>min</th>\n",
       "      <td>3.404173</td>\n",
       "      <td>7.174800</td>\n",
       "      <td>0.000000</td>\n",
       "      <td>0.000000</td>\n",
       "    </tr>\n",
       "    <tr>\n",
       "      <th>5.5%</th>\n",
       "      <td>7.042000</td>\n",
       "      <td>9.215340</td>\n",
       "      <td>0.000000</td>\n",
       "      <td>0.000000</td>\n",
       "    </tr>\n",
       "    <tr>\n",
       "      <th>50%</th>\n",
       "      <td>9.547138</td>\n",
       "      <td>13.890746</td>\n",
       "      <td>0.500000</td>\n",
       "      <td>0.000000</td>\n",
       "    </tr>\n",
       "    <tr>\n",
       "      <th>94.5%</th>\n",
       "      <td>13.292273</td>\n",
       "      <td>18.189353</td>\n",
       "      <td>1.000000</td>\n",
       "      <td>1.000000</td>\n",
       "    </tr>\n",
       "    <tr>\n",
       "      <th>max</th>\n",
       "      <td>14.586720</td>\n",
       "      <td>20.295090</td>\n",
       "      <td>1.000000</td>\n",
       "      <td>1.000000</td>\n",
       "    </tr>\n",
       "  </tbody>\n",
       "</table>\n",
       "</div>"
      ],
      "text/plain": [
       "               h0          h1   treatment      fungus\n",
       "count  100.000000  100.000000  100.000000  100.000000\n",
       "mean     9.844935   13.744618    0.500000    0.360000\n",
       "std      2.181787    2.907541    0.502519    0.482418\n",
       "min      3.404173    7.174800    0.000000    0.000000\n",
       "5.5%     7.042000    9.215340    0.000000    0.000000\n",
       "50%      9.547138   13.890746    0.500000    0.000000\n",
       "94.5%   13.292273   18.189353    1.000000    1.000000\n",
       "max     14.586720   20.295090    1.000000    1.000000"
      ]
     },
     "execution_count": 2,
     "metadata": {},
     "output_type": "execute_result"
    }
   ],
   "source": [
    "from scipy.stats import norm, binom\n",
    "\n",
    "# number of plants\n",
    "N = 100\n",
    "\n",
    "# initial heights\n",
    "h0 = norm.rvs(loc=10, scale=2, size=N)\n",
    "\n",
    "# assign treatment and fungus growth\n",
    "treatment = np.zeros(N)\n",
    "treatment[N//2:] = 1\n",
    "\n",
    "fungus = binom.rvs(n=1, p=0.5 - 0.4 * treatment, loc=0, size=N)\n",
    "\n",
    "h1 = h0 + norm.rvs(loc=5 - 3 * fungus, scale=1, size=N)\n",
    "\n",
    "df = pd.DataFrame({'h0': h0, 'h1': h1, 'treatment': treatment, 'fungus': fungus})\n",
    "df.describe([0.055, 0.945])"
   ]
  },
  {
   "cell_type": "markdown",
   "id": "committed-composer",
   "metadata": {},
   "source": [
    "## Model 1 \n",
    "\n",
    "$$\n",
    "\\begin{align*}\n",
    "    h_{1 i} & \\sim N(\\mu_i, \\sigma) \\\\\n",
    "    \\mu_i   & = h_{0 i} \\times p \\\\\n",
    "     p      & \\sim \\text{LogNormal}(0, 0.25)\n",
    "\\end{align*}\n",
    "$$"
   ]
  },
  {
   "cell_type": "markdown",
   "id": "early-nickel",
   "metadata": {},
   "source": [
    "### Code 6.14"
   ]
  },
  {
   "cell_type": "code",
   "execution_count": 3,
   "id": "awful-holmes",
   "metadata": {},
   "outputs": [
    {
     "data": {
      "text/html": [
       "<div>\n",
       "<style scoped>\n",
       "    .dataframe tbody tr th:only-of-type {\n",
       "        vertical-align: middle;\n",
       "    }\n",
       "\n",
       "    .dataframe tbody tr th {\n",
       "        vertical-align: top;\n",
       "    }\n",
       "\n",
       "    .dataframe thead th {\n",
       "        text-align: right;\n",
       "    }\n",
       "</style>\n",
       "<table border=\"1\" class=\"dataframe\">\n",
       "  <thead>\n",
       "    <tr style=\"text-align: right;\">\n",
       "      <th></th>\n",
       "      <th>sim_p</th>\n",
       "    </tr>\n",
       "  </thead>\n",
       "  <tbody>\n",
       "    <tr>\n",
       "      <th>count</th>\n",
       "      <td>10000.00</td>\n",
       "    </tr>\n",
       "    <tr>\n",
       "      <th>mean</th>\n",
       "      <td>1.04</td>\n",
       "    </tr>\n",
       "    <tr>\n",
       "      <th>std</th>\n",
       "      <td>0.26</td>\n",
       "    </tr>\n",
       "    <tr>\n",
       "      <th>min</th>\n",
       "      <td>0.37</td>\n",
       "    </tr>\n",
       "    <tr>\n",
       "      <th>5.5%</th>\n",
       "      <td>0.67</td>\n",
       "    </tr>\n",
       "    <tr>\n",
       "      <th>50%</th>\n",
       "      <td>1.01</td>\n",
       "    </tr>\n",
       "    <tr>\n",
       "      <th>94.5%</th>\n",
       "      <td>1.50</td>\n",
       "    </tr>\n",
       "    <tr>\n",
       "      <th>max</th>\n",
       "      <td>2.74</td>\n",
       "    </tr>\n",
       "  </tbody>\n",
       "</table>\n",
       "</div>"
      ],
      "text/plain": [
       "          sim_p\n",
       "count  10000.00\n",
       "mean       1.04\n",
       "std        0.26\n",
       "min        0.37\n",
       "5.5%       0.67\n",
       "50%        1.01\n",
       "94.5%      1.50\n",
       "max        2.74"
      ]
     },
     "execution_count": 3,
     "metadata": {},
     "output_type": "execute_result"
    }
   ],
   "source": [
    "from scipy.stats import lognorm\n",
    "\n",
    "\n",
    "# mu=0 and sd=0.25 corresponds to s=0.25 and scale=np.exp(mu)\n",
    "sim_p = lognorm.rvs(s=0.25, scale=np.exp(0), size=10000)\n",
    "\n",
    "df_sim_p = pd.DataFrame({'sim_p': sim_p})\n",
    "df_sim_p.describe([0.055, 0.945]).round(2)"
   ]
  },
  {
   "cell_type": "markdown",
   "id": "exclusive-interest",
   "metadata": {},
   "source": [
    "### Code 6.15"
   ]
  },
  {
   "cell_type": "code",
   "execution_count": 4,
   "id": "cooperative-infrastructure",
   "metadata": {},
   "outputs": [
    {
     "name": "stderr",
     "output_type": "stream",
     "text": [
      "Auto-assigning NUTS sampler...\n",
      "Initializing NUTS using jitter+adapt_diag...\n",
      "Multiprocess sampling (4 chains in 4 jobs)\n",
      "NUTS: [sigma, p]\n"
     ]
    },
    {
     "data": {
      "text/html": [
       "\n",
       "    <div>\n",
       "        <style>\n",
       "            /* Turns off some styling */\n",
       "            progress {\n",
       "                /* gets rid of default border in Firefox and Opera. */\n",
       "                border: none;\n",
       "                /* Needs to be in here for Safari polyfill so background images work as expected. */\n",
       "                background-size: auto;\n",
       "            }\n",
       "            .progress-bar-interrupted, .progress-bar-interrupted::-webkit-progress-bar {\n",
       "                background: #F44336;\n",
       "            }\n",
       "        </style>\n",
       "      <progress value='16000' class='' max='16000' style='width:300px; height:20px; vertical-align: middle;'></progress>\n",
       "      100.00% [16000/16000 00:05<00:00 Sampling 4 chains, 0 divergences]\n",
       "    </div>\n",
       "    "
      ],
      "text/plain": [
       "<IPython.core.display.HTML object>"
      ]
     },
     "metadata": {},
     "output_type": "display_data"
    },
    {
     "name": "stderr",
     "output_type": "stream",
     "text": [
      "Sampling 4 chains for 2_000 tune and 2_000 draw iterations (8_000 + 8_000 draws total) took 6 seconds.\n"
     ]
    }
   ],
   "source": [
    "with pm.Model() as m_6_6:\n",
    "    p = pm.Lognormal('p', mu=0, sigma=0.25)\n",
    "    sigma = pm.Exponential('sigma', lam=1)\n",
    "    \n",
    "    mu = pm.Deterministic('mu', df['h0'].values * p)\n",
    "    h1 = pm.Normal('h1', mu=mu, sigma=sigma, observed=df['h1'])\n",
    "    \n",
    "    trace_6_6 = pm.sample(2000, tune=2000)"
   ]
  },
  {
   "cell_type": "code",
   "execution_count": 5,
   "id": "retained-resident",
   "metadata": {},
   "outputs": [
    {
     "name": "stderr",
     "output_type": "stream",
     "text": [
      "/home/somnath/install/anaconda3/envs/stat-rethink-pymc3/lib/python3.8/site-packages/arviz/data/io_pymc3.py:87: FutureWarning: Using `from_pymc3` without the model will be deprecated in a future release. Not using the model will return less accurate and less useful results. Make sure you use the model argument or call from_pymc3 within a model context.\n",
      "  warnings.warn(\n"
     ]
    },
    {
     "data": {
      "text/html": [
       "<div>\n",
       "<style scoped>\n",
       "    .dataframe tbody tr th:only-of-type {\n",
       "        vertical-align: middle;\n",
       "    }\n",
       "\n",
       "    .dataframe tbody tr th {\n",
       "        vertical-align: top;\n",
       "    }\n",
       "\n",
       "    .dataframe thead th {\n",
       "        text-align: right;\n",
       "    }\n",
       "</style>\n",
       "<table border=\"1\" class=\"dataframe\">\n",
       "  <thead>\n",
       "    <tr style=\"text-align: right;\">\n",
       "      <th></th>\n",
       "      <th>mean</th>\n",
       "      <th>sd</th>\n",
       "      <th>hdi_5.5%</th>\n",
       "      <th>hdi_94.5%</th>\n",
       "      <th>mcse_mean</th>\n",
       "      <th>mcse_sd</th>\n",
       "      <th>ess_mean</th>\n",
       "      <th>ess_sd</th>\n",
       "      <th>ess_bulk</th>\n",
       "      <th>ess_tail</th>\n",
       "      <th>r_hat</th>\n",
       "    </tr>\n",
       "  </thead>\n",
       "  <tbody>\n",
       "    <tr>\n",
       "      <th>p</th>\n",
       "      <td>1.379</td>\n",
       "      <td>0.019</td>\n",
       "      <td>1.349</td>\n",
       "      <td>1.410</td>\n",
       "      <td>0.000</td>\n",
       "      <td>0.000</td>\n",
       "      <td>7122.0</td>\n",
       "      <td>7122.0</td>\n",
       "      <td>7124.0</td>\n",
       "      <td>5757.0</td>\n",
       "      <td>1.0</td>\n",
       "    </tr>\n",
       "    <tr>\n",
       "      <th>sigma</th>\n",
       "      <td>1.863</td>\n",
       "      <td>0.134</td>\n",
       "      <td>1.651</td>\n",
       "      <td>2.069</td>\n",
       "      <td>0.002</td>\n",
       "      <td>0.001</td>\n",
       "      <td>6176.0</td>\n",
       "      <td>6025.0</td>\n",
       "      <td>6454.0</td>\n",
       "      <td>5213.0</td>\n",
       "      <td>1.0</td>\n",
       "    </tr>\n",
       "  </tbody>\n",
       "</table>\n",
       "</div>"
      ],
      "text/plain": [
       "        mean     sd  hdi_5.5%  hdi_94.5%  mcse_mean  mcse_sd  ess_mean  \\\n",
       "p      1.379  0.019     1.349      1.410      0.000    0.000    7122.0   \n",
       "sigma  1.863  0.134     1.651      2.069      0.002    0.001    6176.0   \n",
       "\n",
       "       ess_sd  ess_bulk  ess_tail  r_hat  \n",
       "p      7122.0    7124.0    5757.0    1.0  \n",
       "sigma  6025.0    6454.0    5213.0    1.0  "
      ]
     },
     "execution_count": 5,
     "metadata": {},
     "output_type": "execute_result"
    }
   ],
   "source": [
    "az.summary(trace_6_6, var_names=['p', 'sigma'], hdi_prob=0.89)"
   ]
  },
  {
   "cell_type": "markdown",
   "id": "multiple-acceptance",
   "metadata": {},
   "source": [
    "## Model 2\n",
    "\n",
    "$$\n",
    "\\begin{align*}\n",
    "    h_{1 i} & \\sim N(\\mu_i, \\sigma) \\\\\n",
    "    \\mu_i   & = h_{0 i} \\times p \\\\\n",
    "    p       & = \\alpha + \\beta_T \\cdot T_i + \\beta_F \\cdot F_i \\\\\n",
    "    \\alpha  & \\sim \\text{LogNormal}(0, 0.25) \\\\\n",
    "    \\beta_T & \\sim N(0, 0.5) \\\\\n",
    "    \\beta_F & \\sim N(0, 0.5) \\\\\n",
    "    \\sigma  & \\sim \\text{Exponential}(1)\n",
    "\\end{align*}\n",
    "$$"
   ]
  },
  {
   "cell_type": "markdown",
   "id": "expanded-afghanistan",
   "metadata": {},
   "source": [
    "### Code 6.16"
   ]
  },
  {
   "cell_type": "code",
   "execution_count": 6,
   "id": "viral-failing",
   "metadata": {},
   "outputs": [
    {
     "name": "stderr",
     "output_type": "stream",
     "text": [
      "Auto-assigning NUTS sampler...\n",
      "Initializing NUTS using jitter+adapt_diag...\n",
      "Multiprocess sampling (4 chains in 4 jobs)\n",
      "NUTS: [sigma, b_F, b_T, a]\n"
     ]
    },
    {
     "data": {
      "text/html": [
       "\n",
       "    <div>\n",
       "        <style>\n",
       "            /* Turns off some styling */\n",
       "            progress {\n",
       "                /* gets rid of default border in Firefox and Opera. */\n",
       "                border: none;\n",
       "                /* Needs to be in here for Safari polyfill so background images work as expected. */\n",
       "                background-size: auto;\n",
       "            }\n",
       "            .progress-bar-interrupted, .progress-bar-interrupted::-webkit-progress-bar {\n",
       "                background: #F44336;\n",
       "            }\n",
       "        </style>\n",
       "      <progress value='16000' class='' max='16000' style='width:300px; height:20px; vertical-align: middle;'></progress>\n",
       "      100.00% [16000/16000 00:06<00:00 Sampling 4 chains, 0 divergences]\n",
       "    </div>\n",
       "    "
      ],
      "text/plain": [
       "<IPython.core.display.HTML object>"
      ]
     },
     "metadata": {},
     "output_type": "display_data"
    },
    {
     "name": "stderr",
     "output_type": "stream",
     "text": [
      "Sampling 4 chains for 2_000 tune and 2_000 draw iterations (8_000 + 8_000 draws total) took 8 seconds.\n"
     ]
    }
   ],
   "source": [
    "with pm.Model() as m_6_7:\n",
    "    a = pm.Lognormal('a', mu=0, sigma=0.25)\n",
    "    b_T = pm.Normal('b_T', mu=0, sigma=0.5)\n",
    "    b_F = pm.Normal('b_F', mu=0, sigma=0.5)\n",
    "    sigma = pm.Exponential('sigma', lam=1)\n",
    "    \n",
    "    p = a + b_T * df['treatment'] + b_F * df['fungus']\n",
    "    mu = pm.Deterministic('mu', df['h0'].values * p)\n",
    "    h1 = pm.Normal('h1', mu=mu, sigma=sigma, observed=df['h1'])\n",
    "    \n",
    "    trace_6_7 = pm.sample(2000, tune=2000)"
   ]
  },
  {
   "cell_type": "code",
   "execution_count": 7,
   "id": "signal-stage",
   "metadata": {},
   "outputs": [
    {
     "name": "stderr",
     "output_type": "stream",
     "text": [
      "/home/somnath/install/anaconda3/envs/stat-rethink-pymc3/lib/python3.8/site-packages/arviz/data/io_pymc3.py:87: FutureWarning: Using `from_pymc3` without the model will be deprecated in a future release. Not using the model will return less accurate and less useful results. Make sure you use the model argument or call from_pymc3 within a model context.\n",
      "  warnings.warn(\n"
     ]
    },
    {
     "data": {
      "text/html": [
       "<div>\n",
       "<style scoped>\n",
       "    .dataframe tbody tr th:only-of-type {\n",
       "        vertical-align: middle;\n",
       "    }\n",
       "\n",
       "    .dataframe tbody tr th {\n",
       "        vertical-align: top;\n",
       "    }\n",
       "\n",
       "    .dataframe thead th {\n",
       "        text-align: right;\n",
       "    }\n",
       "</style>\n",
       "<table border=\"1\" class=\"dataframe\">\n",
       "  <thead>\n",
       "    <tr style=\"text-align: right;\">\n",
       "      <th></th>\n",
       "      <th>mean</th>\n",
       "      <th>sd</th>\n",
       "      <th>hdi_5.5%</th>\n",
       "      <th>hdi_94.5%</th>\n",
       "      <th>mcse_mean</th>\n",
       "      <th>mcse_sd</th>\n",
       "      <th>ess_mean</th>\n",
       "      <th>ess_sd</th>\n",
       "      <th>ess_bulk</th>\n",
       "      <th>ess_tail</th>\n",
       "      <th>r_hat</th>\n",
       "    </tr>\n",
       "  </thead>\n",
       "  <tbody>\n",
       "    <tr>\n",
       "      <th>a</th>\n",
       "      <td>1.504</td>\n",
       "      <td>0.027</td>\n",
       "      <td>1.459</td>\n",
       "      <td>1.544</td>\n",
       "      <td>0.000</td>\n",
       "      <td>0.000</td>\n",
       "      <td>3566.0</td>\n",
       "      <td>3565.0</td>\n",
       "      <td>3586.0</td>\n",
       "      <td>3767.0</td>\n",
       "      <td>1.0</td>\n",
       "    </tr>\n",
       "    <tr>\n",
       "      <th>b_T</th>\n",
       "      <td>-0.040</td>\n",
       "      <td>0.030</td>\n",
       "      <td>-0.087</td>\n",
       "      <td>0.009</td>\n",
       "      <td>0.000</td>\n",
       "      <td>0.000</td>\n",
       "      <td>4185.0</td>\n",
       "      <td>3868.0</td>\n",
       "      <td>4195.0</td>\n",
       "      <td>4713.0</td>\n",
       "      <td>1.0</td>\n",
       "    </tr>\n",
       "    <tr>\n",
       "      <th>b_F</th>\n",
       "      <td>-0.296</td>\n",
       "      <td>0.031</td>\n",
       "      <td>-0.344</td>\n",
       "      <td>-0.245</td>\n",
       "      <td>0.000</td>\n",
       "      <td>0.000</td>\n",
       "      <td>4117.0</td>\n",
       "      <td>4076.0</td>\n",
       "      <td>4115.0</td>\n",
       "      <td>5015.0</td>\n",
       "      <td>1.0</td>\n",
       "    </tr>\n",
       "    <tr>\n",
       "      <th>sigma</th>\n",
       "      <td>1.296</td>\n",
       "      <td>0.094</td>\n",
       "      <td>1.145</td>\n",
       "      <td>1.441</td>\n",
       "      <td>0.001</td>\n",
       "      <td>0.001</td>\n",
       "      <td>4496.0</td>\n",
       "      <td>4496.0</td>\n",
       "      <td>4462.0</td>\n",
       "      <td>3870.0</td>\n",
       "      <td>1.0</td>\n",
       "    </tr>\n",
       "  </tbody>\n",
       "</table>\n",
       "</div>"
      ],
      "text/plain": [
       "        mean     sd  hdi_5.5%  hdi_94.5%  mcse_mean  mcse_sd  ess_mean  \\\n",
       "a      1.504  0.027     1.459      1.544      0.000    0.000    3566.0   \n",
       "b_T   -0.040  0.030    -0.087      0.009      0.000    0.000    4185.0   \n",
       "b_F   -0.296  0.031    -0.344     -0.245      0.000    0.000    4117.0   \n",
       "sigma  1.296  0.094     1.145      1.441      0.001    0.001    4496.0   \n",
       "\n",
       "       ess_sd  ess_bulk  ess_tail  r_hat  \n",
       "a      3565.0    3586.0    3767.0    1.0  \n",
       "b_T    3868.0    4195.0    4713.0    1.0  \n",
       "b_F    4076.0    4115.0    5015.0    1.0  \n",
       "sigma  4496.0    4462.0    3870.0    1.0  "
      ]
     },
     "execution_count": 7,
     "metadata": {},
     "output_type": "execute_result"
    }
   ],
   "source": [
    "az.summary(trace_6_7, var_names=['a', 'b_T', 'b_F', 'sigma'], hdi_prob=0.89)"
   ]
  },
  {
   "cell_type": "markdown",
   "id": "varying-nepal",
   "metadata": {},
   "source": [
    "## Discussion\n",
    "\n",
    "The treatment variable seems to have no association with the final height $h_i$ although we explicity set up the simulation data to make it so. Fungus seems to have had a negative effect on the final height, which is as expected. "
   ]
  }
 ],
 "metadata": {
  "kernelspec": {
   "display_name": "stat-rethink",
   "language": "python",
   "name": "stat-rethink"
  },
  "language_info": {
   "codemirror_mode": {
    "name": "ipython",
    "version": 3
   },
   "file_extension": ".py",
   "mimetype": "text/x-python",
   "name": "python",
   "nbconvert_exporter": "python",
   "pygments_lexer": "ipython3",
   "version": "3.8.5"
  }
 },
 "nbformat": 4,
 "nbformat_minor": 5
}
