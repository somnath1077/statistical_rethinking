{
 "cells": [
  {
   "cell_type": "markdown",
   "metadata": {},
   "source": [
    "## Berkson's Paradox\n",
    "\n",
    "Berkson's paradox deals with the observation that there can be a negative correlation between two positive traits in a population. That is, members of a population that have the one trait seem to lack the other trait. This apparent negative correlation can arise when we ignore members of the population which have neither of these traits. When we ignore such members, it might happen that, of the remaining population, the majority have only one or the other of the two traits. This leads to the apparent negative correlation. \n",
    "\n",
    "The simulation example given in the book about newsworthiness and trustworthiness of scientific articles can exemplify this paradox should we consider only those articles whose _combined_ newsworthiness and trustworthiness is high. This can happen as in this sub-population of scientific articles, the majority are likely to have one or the other of these two characteristics but not both."
   ]
  },
  {
   "cell_type": "code",
   "execution_count": 1,
   "metadata": {},
   "outputs": [],
   "source": [
    "import arviz as az\n",
    "import matplotlib.pyplot as plt\n",
    "import numpy as np\n",
    "import pandas as pd\n",
    "import pymc3 as pm\n",
    "import seaborn as sns"
   ]
  },
  {
   "cell_type": "markdown",
   "metadata": {},
   "source": [
    "### Code 6.1"
   ]
  },
  {
   "cell_type": "code",
   "execution_count": 2,
   "metadata": {},
   "outputs": [
    {
     "data": {
      "text/plain": [
       "array([[ 1.        , -0.75838389],\n",
       "       [-0.75838389,  1.        ]])"
      ]
     },
     "execution_count": 2,
     "metadata": {},
     "output_type": "execute_result"
    }
   ],
   "source": [
    "from scipy.stats import norm\n",
    "\n",
    "\n",
    "N = 200\n",
    "p = 0.1\n",
    "\n",
    "nw = norm.rvs(loc=0, scale=1, size=N)\n",
    "tw = norm.rvs(loc=0, scale=1, size=N)\n",
    "\n",
    "score = nw + tw\n",
    "# select the top 90% of the combined score\n",
    "q = np.quantile(score, 1 - p)\n",
    "\n",
    "selected = np.where(score >= q, True, False)\n",
    "\n",
    "np.corrcoef(nw[selected], tw[selected])"
   ]
  },
  {
   "cell_type": "markdown",
   "metadata": {},
   "source": [
    "# Multicollinearity"
   ]
  },
  {
   "cell_type": "markdown",
   "metadata": {},
   "source": [
    "## Multicollinear Legs"
   ]
  },
  {
   "cell_type": "markdown",
   "metadata": {},
   "source": [
    "### Code 6.2"
   ]
  },
  {
   "cell_type": "code",
   "execution_count": 3,
   "metadata": {},
   "outputs": [
    {
     "data": {
      "text/html": [
       "<div>\n",
       "<style scoped>\n",
       "    .dataframe tbody tr th:only-of-type {\n",
       "        vertical-align: middle;\n",
       "    }\n",
       "\n",
       "    .dataframe tbody tr th {\n",
       "        vertical-align: top;\n",
       "    }\n",
       "\n",
       "    .dataframe thead th {\n",
       "        text-align: right;\n",
       "    }\n",
       "</style>\n",
       "<table border=\"1\" class=\"dataframe\">\n",
       "  <thead>\n",
       "    <tr style=\"text-align: right;\">\n",
       "      <th></th>\n",
       "      <th>height</th>\n",
       "      <th>leg_left</th>\n",
       "      <th>leg_right</th>\n",
       "    </tr>\n",
       "  </thead>\n",
       "  <tbody>\n",
       "    <tr>\n",
       "      <th>0</th>\n",
       "      <td>7.181975</td>\n",
       "      <td>3.175249</td>\n",
       "      <td>3.131016</td>\n",
       "    </tr>\n",
       "    <tr>\n",
       "      <th>1</th>\n",
       "      <td>14.258628</td>\n",
       "      <td>6.701894</td>\n",
       "      <td>6.723827</td>\n",
       "    </tr>\n",
       "    <tr>\n",
       "      <th>2</th>\n",
       "      <td>9.282675</td>\n",
       "      <td>3.757850</td>\n",
       "      <td>3.774733</td>\n",
       "    </tr>\n",
       "    <tr>\n",
       "      <th>3</th>\n",
       "      <td>8.824388</td>\n",
       "      <td>3.706454</td>\n",
       "      <td>3.668122</td>\n",
       "    </tr>\n",
       "    <tr>\n",
       "      <th>4</th>\n",
       "      <td>10.557050</td>\n",
       "      <td>4.258135</td>\n",
       "      <td>4.265500</td>\n",
       "    </tr>\n",
       "  </tbody>\n",
       "</table>\n",
       "</div>"
      ],
      "text/plain": [
       "      height  leg_left  leg_right\n",
       "0   7.181975  3.175249   3.131016\n",
       "1  14.258628  6.701894   6.723827\n",
       "2   9.282675  3.757850   3.774733\n",
       "3   8.824388  3.706454   3.668122\n",
       "4  10.557050  4.258135   4.265500"
      ]
     },
     "execution_count": 3,
     "metadata": {},
     "output_type": "execute_result"
    }
   ],
   "source": [
    "from scipy.stats import uniform\n",
    "\n",
    "\n",
    "N = 100\n",
    "\n",
    "height = norm.rvs(loc=10, scale=2, size=N)\n",
    "leg_prop = uniform.rvs(loc=0.4, scale=0.1, size=N)\n",
    "\n",
    "leg_left = height * leg_prop + norm.rvs(loc=0.0, scale=0.02, size=N)\n",
    "leg_right = height * leg_prop + norm.rvs(loc=0.0, scale=0.02, size=N)\n",
    "\n",
    "df = pd.DataFrame({'height': height, 'leg_left': leg_left, 'leg_right': leg_right})\n",
    "df.head()"
   ]
  },
  {
   "cell_type": "markdown",
   "metadata": {},
   "source": [
    "### Code 6.3"
   ]
  },
  {
   "cell_type": "code",
   "execution_count": 4,
   "metadata": {},
   "outputs": [
    {
     "name": "stderr",
     "output_type": "stream",
     "text": [
      "Auto-assigning NUTS sampler...\n",
      "Initializing NUTS using advi...\n"
     ]
    },
    {
     "data": {
      "text/html": [
       "\n",
       "    <div>\n",
       "        <style>\n",
       "            /* Turns off some styling */\n",
       "            progress {\n",
       "                /* gets rid of default border in Firefox and Opera. */\n",
       "                border: none;\n",
       "                /* Needs to be in here for Safari polyfill so background images work as expected. */\n",
       "                background-size: auto;\n",
       "            }\n",
       "            .progress-bar-interrupted, .progress-bar-interrupted::-webkit-progress-bar {\n",
       "                background: #F44336;\n",
       "            }\n",
       "        </style>\n",
       "      <progress value='17483' class='' max='200000' style='width:300px; height:20px; vertical-align: middle;'></progress>\n",
       "      8.74% [17483/200000 00:01<00:15 Average Loss = 211.92]\n",
       "    </div>\n",
       "    "
      ],
      "text/plain": [
       "<IPython.core.display.HTML object>"
      ]
     },
     "metadata": {},
     "output_type": "display_data"
    },
    {
     "name": "stderr",
     "output_type": "stream",
     "text": [
      "Convergence achieved at 18100\n",
      "Interrupted at 18,099 [9%]: Average Loss = 6,506.9\n",
      "Multiprocess sampling (4 chains in 4 jobs)\n",
      "NUTS: [sigma, b_r, b_l, a]\n"
     ]
    },
    {
     "data": {
      "text/html": [
       "\n",
       "    <div>\n",
       "        <style>\n",
       "            /* Turns off some styling */\n",
       "            progress {\n",
       "                /* gets rid of default border in Firefox and Opera. */\n",
       "                border: none;\n",
       "                /* Needs to be in here for Safari polyfill so background images work as expected. */\n",
       "                background-size: auto;\n",
       "            }\n",
       "            .progress-bar-interrupted, .progress-bar-interrupted::-webkit-progress-bar {\n",
       "                background: #F44336;\n",
       "            }\n",
       "        </style>\n",
       "      <progress value='24000' class='' max='24000' style='width:300px; height:20px; vertical-align: middle;'></progress>\n",
       "      100.00% [24000/24000 01:47<00:00 Sampling 4 chains, 2 divergences]\n",
       "    </div>\n",
       "    "
      ],
      "text/plain": [
       "<IPython.core.display.HTML object>"
      ]
     },
     "metadata": {},
     "output_type": "display_data"
    },
    {
     "name": "stderr",
     "output_type": "stream",
     "text": [
      "Sampling 4 chains for 4_000 tune and 2_000 draw iterations (16_000 + 8_000 draws total) took 108 seconds.\n",
      "There were 2 divergences after tuning. Increase `target_accept` or reparameterize.\n",
      "The number of effective samples is smaller than 10% for some parameters.\n"
     ]
    }
   ],
   "source": [
    "with pm.Model() as m_6_1:\n",
    "    a = pm.Normal('a', mu=10, sigma=100)\n",
    "    b_l = pm.Normal('b_l', mu=2, sigma=10)\n",
    "    b_r = pm.Normal('b_r', mu=2, sigma=10)\n",
    "    \n",
    "    sigma = pm.Exponential('sigma', lam=1)\n",
    "    \n",
    "    mu = pm.Deterministic('mu', a + b_l * df['leg_left'] + b_r * df['leg_right'])\n",
    "    height = pm.Normal('height', mu=mu, sigma=sigma, observed=df['height'])\n",
    "    \n",
    "    trace_6_1 = pm.sample(2000, init='advi', tune=4000)"
   ]
  },
  {
   "cell_type": "code",
   "execution_count": 5,
   "metadata": {},
   "outputs": [
    {
     "name": "stderr",
     "output_type": "stream",
     "text": [
      "/home/somnath/install/anaconda3/envs/stat-rethink-pymc3/lib/python3.8/site-packages/arviz/data/io_pymc3.py:87: FutureWarning: Using `from_pymc3` without the model will be deprecated in a future release. Not using the model will return less accurate and less useful results. Make sure you use the model argument or call from_pymc3 within a model context.\n",
      "  warnings.warn(\n"
     ]
    },
    {
     "data": {
      "text/html": [
       "<div>\n",
       "<style scoped>\n",
       "    .dataframe tbody tr th:only-of-type {\n",
       "        vertical-align: middle;\n",
       "    }\n",
       "\n",
       "    .dataframe tbody tr th {\n",
       "        vertical-align: top;\n",
       "    }\n",
       "\n",
       "    .dataframe thead th {\n",
       "        text-align: right;\n",
       "    }\n",
       "</style>\n",
       "<table border=\"1\" class=\"dataframe\">\n",
       "  <thead>\n",
       "    <tr style=\"text-align: right;\">\n",
       "      <th></th>\n",
       "      <th>mean</th>\n",
       "      <th>sd</th>\n",
       "      <th>hdi_5.5%</th>\n",
       "      <th>hdi_94.5%</th>\n",
       "      <th>mcse_mean</th>\n",
       "      <th>mcse_sd</th>\n",
       "      <th>ess_mean</th>\n",
       "      <th>ess_sd</th>\n",
       "      <th>ess_bulk</th>\n",
       "      <th>ess_tail</th>\n",
       "      <th>r_hat</th>\n",
       "    </tr>\n",
       "  </thead>\n",
       "  <tbody>\n",
       "    <tr>\n",
       "      <th>a</th>\n",
       "      <td>1.287</td>\n",
       "      <td>0.357</td>\n",
       "      <td>0.718</td>\n",
       "      <td>1.861</td>\n",
       "      <td>0.005</td>\n",
       "      <td>0.004</td>\n",
       "      <td>4375.0</td>\n",
       "      <td>4249.0</td>\n",
       "      <td>4382.0</td>\n",
       "      <td>4284.0</td>\n",
       "      <td>1.00</td>\n",
       "    </tr>\n",
       "    <tr>\n",
       "      <th>b_l</th>\n",
       "      <td>-2.217</td>\n",
       "      <td>2.541</td>\n",
       "      <td>-6.063</td>\n",
       "      <td>1.965</td>\n",
       "      <td>0.105</td>\n",
       "      <td>0.084</td>\n",
       "      <td>591.0</td>\n",
       "      <td>453.0</td>\n",
       "      <td>594.0</td>\n",
       "      <td>555.0</td>\n",
       "      <td>1.01</td>\n",
       "    </tr>\n",
       "    <tr>\n",
       "      <th>b_r</th>\n",
       "      <td>4.155</td>\n",
       "      <td>2.539</td>\n",
       "      <td>0.010</td>\n",
       "      <td>8.034</td>\n",
       "      <td>0.104</td>\n",
       "      <td>0.080</td>\n",
       "      <td>592.0</td>\n",
       "      <td>504.0</td>\n",
       "      <td>596.0</td>\n",
       "      <td>538.0</td>\n",
       "      <td>1.01</td>\n",
       "    </tr>\n",
       "    <tr>\n",
       "      <th>sigma</th>\n",
       "      <td>0.671</td>\n",
       "      <td>0.049</td>\n",
       "      <td>0.594</td>\n",
       "      <td>0.750</td>\n",
       "      <td>0.001</td>\n",
       "      <td>0.000</td>\n",
       "      <td>5118.0</td>\n",
       "      <td>5118.0</td>\n",
       "      <td>4957.0</td>\n",
       "      <td>2919.0</td>\n",
       "      <td>1.00</td>\n",
       "    </tr>\n",
       "  </tbody>\n",
       "</table>\n",
       "</div>"
      ],
      "text/plain": [
       "        mean     sd  hdi_5.5%  hdi_94.5%  mcse_mean  mcse_sd  ess_mean  \\\n",
       "a      1.287  0.357     0.718      1.861      0.005    0.004    4375.0   \n",
       "b_l   -2.217  2.541    -6.063      1.965      0.105    0.084     591.0   \n",
       "b_r    4.155  2.539     0.010      8.034      0.104    0.080     592.0   \n",
       "sigma  0.671  0.049     0.594      0.750      0.001    0.000    5118.0   \n",
       "\n",
       "       ess_sd  ess_bulk  ess_tail  r_hat  \n",
       "a      4249.0    4382.0    4284.0   1.00  \n",
       "b_l     453.0     594.0     555.0   1.01  \n",
       "b_r     504.0     596.0     538.0   1.01  \n",
       "sigma  5118.0    4957.0    2919.0   1.00  "
      ]
     },
     "execution_count": 5,
     "metadata": {},
     "output_type": "execute_result"
    }
   ],
   "source": [
    "az.summary(trace_6_1, hdi_prob=0.89, var_names=['a', 'b_l', 'b_r', 'sigma'])"
   ]
  },
  {
   "cell_type": "markdown",
   "metadata": {},
   "source": [
    "### Code 6.5"
   ]
  },
  {
   "cell_type": "code",
   "execution_count": 6,
   "metadata": {},
   "outputs": [
    {
     "data": {
      "text/html": [
       "<div>\n",
       "<style scoped>\n",
       "    .dataframe tbody tr th:only-of-type {\n",
       "        vertical-align: middle;\n",
       "    }\n",
       "\n",
       "    .dataframe tbody tr th {\n",
       "        vertical-align: top;\n",
       "    }\n",
       "\n",
       "    .dataframe thead th {\n",
       "        text-align: right;\n",
       "    }\n",
       "</style>\n",
       "<table border=\"1\" class=\"dataframe\">\n",
       "  <thead>\n",
       "    <tr style=\"text-align: right;\">\n",
       "      <th></th>\n",
       "      <th>a</th>\n",
       "      <th>b_l</th>\n",
       "      <th>b_r</th>\n",
       "      <th>sigma</th>\n",
       "      <th>mu__0</th>\n",
       "      <th>mu__1</th>\n",
       "      <th>mu__2</th>\n",
       "      <th>mu__3</th>\n",
       "      <th>mu__4</th>\n",
       "      <th>mu__5</th>\n",
       "      <th>...</th>\n",
       "      <th>mu__90</th>\n",
       "      <th>mu__91</th>\n",
       "      <th>mu__92</th>\n",
       "      <th>mu__93</th>\n",
       "      <th>mu__94</th>\n",
       "      <th>mu__95</th>\n",
       "      <th>mu__96</th>\n",
       "      <th>mu__97</th>\n",
       "      <th>mu__98</th>\n",
       "      <th>mu__99</th>\n",
       "    </tr>\n",
       "  </thead>\n",
       "  <tbody>\n",
       "    <tr>\n",
       "      <th>0</th>\n",
       "      <td>1.346147</td>\n",
       "      <td>-6.851448</td>\n",
       "      <td>8.780677</td>\n",
       "      <td>0.660259</td>\n",
       "      <td>7.083530</td>\n",
       "      <td>14.468220</td>\n",
       "      <td>8.744143</td>\n",
       "      <td>8.160162</td>\n",
       "      <td>9.625733</td>\n",
       "      <td>12.507135</td>\n",
       "      <td>...</td>\n",
       "      <td>9.886972</td>\n",
       "      <td>11.518032</td>\n",
       "      <td>9.230125</td>\n",
       "      <td>10.873051</td>\n",
       "      <td>12.376745</td>\n",
       "      <td>11.148902</td>\n",
       "      <td>11.466929</td>\n",
       "      <td>10.623322</td>\n",
       "      <td>10.151884</td>\n",
       "      <td>12.473420</td>\n",
       "    </tr>\n",
       "    <tr>\n",
       "      <th>1</th>\n",
       "      <td>1.605759</td>\n",
       "      <td>-6.832442</td>\n",
       "      <td>8.715298</td>\n",
       "      <td>0.653599</td>\n",
       "      <td>7.198789</td>\n",
       "      <td>14.415613</td>\n",
       "      <td>8.828389</td>\n",
       "      <td>8.250402</td>\n",
       "      <td>9.687403</td>\n",
       "      <td>12.500440</td>\n",
       "      <td>...</td>\n",
       "      <td>9.947431</td>\n",
       "      <td>11.529488</td>\n",
       "      <td>9.306175</td>\n",
       "      <td>10.904334</td>\n",
       "      <td>12.371363</td>\n",
       "      <td>11.177018</td>\n",
       "      <td>11.485563</td>\n",
       "      <td>10.660836</td>\n",
       "      <td>10.201555</td>\n",
       "      <td>12.466199</td>\n",
       "    </tr>\n",
       "    <tr>\n",
       "      <th>2</th>\n",
       "      <td>1.807257</td>\n",
       "      <td>-6.758521</td>\n",
       "      <td>8.588120</td>\n",
       "      <td>0.772091</td>\n",
       "      <td>7.236811</td>\n",
       "      <td>14.257404</td>\n",
       "      <td>8.827612</td>\n",
       "      <td>8.259383</td>\n",
       "      <td>9.661192</td>\n",
       "      <td>12.395397</td>\n",
       "      <td>...</td>\n",
       "      <td>9.918018</td>\n",
       "      <td>11.447302</td>\n",
       "      <td>9.294738</td>\n",
       "      <td>10.843371</td>\n",
       "      <td>12.268480</td>\n",
       "      <td>11.111180</td>\n",
       "      <td>11.409492</td>\n",
       "      <td>10.606948</td>\n",
       "      <td>10.161334</td>\n",
       "      <td>12.361029</td>\n",
       "    </tr>\n",
       "    <tr>\n",
       "      <th>3</th>\n",
       "      <td>2.024130</td>\n",
       "      <td>-6.939360</td>\n",
       "      <td>8.748466</td>\n",
       "      <td>0.704699</td>\n",
       "      <td>7.381519</td>\n",
       "      <td>14.340447</td>\n",
       "      <td>8.970179</td>\n",
       "      <td>8.394151</td>\n",
       "      <td>9.791981</td>\n",
       "      <td>12.497136</td>\n",
       "      <td>...</td>\n",
       "      <td>10.054856</td>\n",
       "      <td>11.549760</td>\n",
       "      <td>9.438210</td>\n",
       "      <td>10.960204</td>\n",
       "      <td>12.368436</td>\n",
       "      <td>11.231114</td>\n",
       "      <td>11.522848</td>\n",
       "      <td>10.726834</td>\n",
       "      <td>10.287664</td>\n",
       "      <td>12.460801</td>\n",
       "    </tr>\n",
       "    <tr>\n",
       "      <th>4</th>\n",
       "      <td>1.286462</td>\n",
       "      <td>-7.141527</td>\n",
       "      <td>9.079369</td>\n",
       "      <td>0.708225</td>\n",
       "      <td>7.037980</td>\n",
       "      <td>14.472807</td>\n",
       "      <td>8.721866</td>\n",
       "      <td>8.120950</td>\n",
       "      <td>9.604922</td>\n",
       "      <td>12.500782</td>\n",
       "      <td>...</td>\n",
       "      <td>9.876356</td>\n",
       "      <td>11.497247</td>\n",
       "      <td>9.216225</td>\n",
       "      <td>10.857087</td>\n",
       "      <td>12.366567</td>\n",
       "      <td>11.140339</td>\n",
       "      <td>11.456512</td>\n",
       "      <td>10.606651</td>\n",
       "      <td>10.134578</td>\n",
       "      <td>12.464536</td>\n",
       "    </tr>\n",
       "  </tbody>\n",
       "</table>\n",
       "<p>5 rows × 104 columns</p>\n",
       "</div>"
      ],
      "text/plain": [
       "          a       b_l       b_r     sigma     mu__0      mu__1     mu__2  \\\n",
       "0  1.346147 -6.851448  8.780677  0.660259  7.083530  14.468220  8.744143   \n",
       "1  1.605759 -6.832442  8.715298  0.653599  7.198789  14.415613  8.828389   \n",
       "2  1.807257 -6.758521  8.588120  0.772091  7.236811  14.257404  8.827612   \n",
       "3  2.024130 -6.939360  8.748466  0.704699  7.381519  14.340447  8.970179   \n",
       "4  1.286462 -7.141527  9.079369  0.708225  7.037980  14.472807  8.721866   \n",
       "\n",
       "      mu__3     mu__4      mu__5  ...     mu__90     mu__91    mu__92  \\\n",
       "0  8.160162  9.625733  12.507135  ...   9.886972  11.518032  9.230125   \n",
       "1  8.250402  9.687403  12.500440  ...   9.947431  11.529488  9.306175   \n",
       "2  8.259383  9.661192  12.395397  ...   9.918018  11.447302  9.294738   \n",
       "3  8.394151  9.791981  12.497136  ...  10.054856  11.549760  9.438210   \n",
       "4  8.120950  9.604922  12.500782  ...   9.876356  11.497247  9.216225   \n",
       "\n",
       "      mu__93     mu__94     mu__95     mu__96     mu__97     mu__98     mu__99  \n",
       "0  10.873051  12.376745  11.148902  11.466929  10.623322  10.151884  12.473420  \n",
       "1  10.904334  12.371363  11.177018  11.485563  10.660836  10.201555  12.466199  \n",
       "2  10.843371  12.268480  11.111180  11.409492  10.606948  10.161334  12.361029  \n",
       "3  10.960204  12.368436  11.231114  11.522848  10.726834  10.287664  12.460801  \n",
       "4  10.857087  12.366567  11.140339  11.456512  10.606651  10.134578  12.464536  \n",
       "\n",
       "[5 rows x 104 columns]"
      ]
     },
     "execution_count": 6,
     "metadata": {},
     "output_type": "execute_result"
    }
   ],
   "source": [
    "df_6_1 = pm.trace_to_dataframe(trace_6_1)\n",
    "df_6_1.head()"
   ]
  },
  {
   "cell_type": "code",
   "execution_count": 7,
   "metadata": {},
   "outputs": [
    {
     "data": {
      "image/png": "[encoded data removed]",
      "text/plain": [
       "<Figure size 432x288 with 1 Axes>"
      ]
     },
     "metadata": {
      "needs_background": "light"
     },
     "output_type": "display_data"
    }
   ],
   "source": [
    "df_6_1[['b_l', 'b_r']].plot('b_r', 'b_l')\n",
    "plt.ylabel('b_l')\n",
    "plt.show()"
   ]
  },
  {
   "cell_type": "markdown",
   "metadata": {},
   "source": [
    "### Code 6.6"
   ]
  },
  {
   "cell_type": "code",
   "execution_count": 8,
   "metadata": {},
   "outputs": [
    {
     "data": {
      "text/plain": [
       "<AxesSubplot:ylabel='Density'>"
      ]
     },
     "execution_count": 8,
     "metadata": {},
     "output_type": "execute_result"
    },
    {
     "data": {
      "image/png": "[encoded data removed]",
      "text/plain": [
       "<Figure size 432x288 with 1 Axes>"
      ]
     },
     "metadata": {
      "needs_background": "light"
     },
     "output_type": "display_data"
    }
   ],
   "source": [
    "sns.kdeplot(df_6_1['b_l'] + df_6_1['b_r'])"
   ]
  },
  {
   "cell_type": "code",
   "execution_count": 9,
   "metadata": {},
   "outputs": [
    {
     "data": {
      "text/html": [
       "<div>\n",
       "<style scoped>\n",
       "    .dataframe tbody tr th:only-of-type {\n",
       "        vertical-align: middle;\n",
       "    }\n",
       "\n",
       "    .dataframe tbody tr th {\n",
       "        vertical-align: top;\n",
       "    }\n",
       "\n",
       "    .dataframe thead th {\n",
       "        text-align: right;\n",
       "    }\n",
       "</style>\n",
       "<table border=\"1\" class=\"dataframe\">\n",
       "  <thead>\n",
       "    <tr style=\"text-align: right;\">\n",
       "      <th></th>\n",
       "      <th>index</th>\n",
       "      <th>0</th>\n",
       "    </tr>\n",
       "  </thead>\n",
       "  <tbody>\n",
       "    <tr>\n",
       "      <th>0</th>\n",
       "      <td>count</td>\n",
       "      <td>8000.000000</td>\n",
       "    </tr>\n",
       "    <tr>\n",
       "      <th>1</th>\n",
       "      <td>mean</td>\n",
       "      <td>1.938115</td>\n",
       "    </tr>\n",
       "    <tr>\n",
       "      <th>2</th>\n",
       "      <td>std</td>\n",
       "      <td>0.077168</td>\n",
       "    </tr>\n",
       "    <tr>\n",
       "      <th>3</th>\n",
       "      <td>min</td>\n",
       "      <td>1.607815</td>\n",
       "    </tr>\n",
       "    <tr>\n",
       "      <th>4</th>\n",
       "      <td>5.5%</td>\n",
       "      <td>1.813508</td>\n",
       "    </tr>\n",
       "    <tr>\n",
       "      <th>5</th>\n",
       "      <td>50%</td>\n",
       "      <td>1.939400</td>\n",
       "    </tr>\n",
       "    <tr>\n",
       "      <th>6</th>\n",
       "      <td>94.5%</td>\n",
       "      <td>2.060527</td>\n",
       "    </tr>\n",
       "    <tr>\n",
       "      <th>7</th>\n",
       "      <td>max</td>\n",
       "      <td>2.231210</td>\n",
       "    </tr>\n",
       "  </tbody>\n",
       "</table>\n",
       "</div>"
      ],
      "text/plain": [
       "   index            0\n",
       "0  count  8000.000000\n",
       "1   mean     1.938115\n",
       "2    std     0.077168\n",
       "3    min     1.607815\n",
       "4   5.5%     1.813508\n",
       "5    50%     1.939400\n",
       "6  94.5%     2.060527\n",
       "7    max     2.231210"
      ]
     },
     "execution_count": 9,
     "metadata": {},
     "output_type": "execute_result"
    }
   ],
   "source": [
    "(df_6_1['b_l'] + df_6_1['b_r']).describe([0.055, 0.945]).reset_index()"
   ]
  },
  {
   "cell_type": "code",
   "execution_count": 10,
   "metadata": {},
   "outputs": [
    {
     "data": {
      "text/html": [
       "<div>\n",
       "<style scoped>\n",
       "    .dataframe tbody tr th:only-of-type {\n",
       "        vertical-align: middle;\n",
       "    }\n",
       "\n",
       "    .dataframe tbody tr th {\n",
       "        vertical-align: top;\n",
       "    }\n",
       "\n",
       "    .dataframe thead th {\n",
       "        text-align: right;\n",
       "    }\n",
       "</style>\n",
       "<table border=\"1\" class=\"dataframe\">\n",
       "  <thead>\n",
       "    <tr style=\"text-align: right;\">\n",
       "      <th></th>\n",
       "      <th>b_l</th>\n",
       "      <th>b_r</th>\n",
       "    </tr>\n",
       "  </thead>\n",
       "  <tbody>\n",
       "    <tr>\n",
       "      <th>b_l</th>\n",
       "      <td>6.454271</td>\n",
       "      <td>-6.446789</td>\n",
       "    </tr>\n",
       "    <tr>\n",
       "      <th>b_r</th>\n",
       "      <td>-6.446789</td>\n",
       "      <td>6.445262</td>\n",
       "    </tr>\n",
       "  </tbody>\n",
       "</table>\n",
       "</div>"
      ],
      "text/plain": [
       "          b_l       b_r\n",
       "b_l  6.454271 -6.446789\n",
       "b_r -6.446789  6.445262"
      ]
     },
     "execution_count": 10,
     "metadata": {},
     "output_type": "execute_result"
    }
   ],
   "source": [
    "df_6_1[['b_l', 'b_r']].cov()"
   ]
  },
  {
   "cell_type": "code",
   "execution_count": 11,
   "metadata": {},
   "outputs": [
    {
     "data": {
      "text/plain": [
       "(0.005954827152541142, 0.00595482715253754)"
      ]
     },
     "execution_count": 11,
     "metadata": {},
     "output_type": "execute_result"
    }
   ],
   "source": [
    "# Var(b_l + b_r) = Var(b_l) + Var(b_r) + 2 * Cov(b_l, b_r)\n",
    "cov = df_6_1[['b_l', 'b_r']].cov()\n",
    "\n",
    "theoretical_var = cov.loc['b_l', 'b_l'] + cov.loc['b_r', 'b_r'] + 2 * cov.loc['b_l', 'b_r']\n",
    "actual_var = (df_6_1['b_l'] + df_6_1['b_r']).var()\n",
    "\n",
    "theoretical_var, actual_var"
   ]
  },
  {
   "cell_type": "markdown",
   "metadata": {},
   "source": [
    "### Code 6.7"
   ]
  },
  {
   "cell_type": "code",
   "execution_count": 12,
   "metadata": {},
   "outputs": [
    {
     "name": "stderr",
     "output_type": "stream",
     "text": [
      "Auto-assigning NUTS sampler...\n",
      "Initializing NUTS using advi...\n"
     ]
    },
    {
     "data": {
      "text/html": [
       "\n",
       "    <div>\n",
       "        <style>\n",
       "            /* Turns off some styling */\n",
       "            progress {\n",
       "                /* gets rid of default border in Firefox and Opera. */\n",
       "                border: none;\n",
       "                /* Needs to be in here for Safari polyfill so background images work as expected. */\n",
       "                background-size: auto;\n",
       "            }\n",
       "            .progress-bar-interrupted, .progress-bar-interrupted::-webkit-progress-bar {\n",
       "                background: #F44336;\n",
       "            }\n",
       "        </style>\n",
       "      <progress value='12971' class='' max='200000' style='width:300px; height:20px; vertical-align: middle;'></progress>\n",
       "      6.49% [12971/200000 00:00<00:13 Average Loss = 205.6]\n",
       "    </div>\n",
       "    "
      ],
      "text/plain": [
       "<IPython.core.display.HTML object>"
      ]
     },
     "metadata": {},
     "output_type": "display_data"
    },
    {
     "name": "stderr",
     "output_type": "stream",
     "text": [
      "Convergence achieved at 13400\n",
      "Interrupted at 13,399 [6%]: Average Loss = 2,438.3\n",
      "Multiprocess sampling (4 chains in 4 jobs)\n",
      "NUTS: [sigma, b_l, a]\n"
     ]
    },
    {
     "data": {
      "text/html": [
       "\n",
       "    <div>\n",
       "        <style>\n",
       "            /* Turns off some styling */\n",
       "            progress {\n",
       "                /* gets rid of default border in Firefox and Opera. */\n",
       "                border: none;\n",
       "                /* Needs to be in here for Safari polyfill so background images work as expected. */\n",
       "                background-size: auto;\n",
       "            }\n",
       "            .progress-bar-interrupted, .progress-bar-interrupted::-webkit-progress-bar {\n",
       "                background: #F44336;\n",
       "            }\n",
       "        </style>\n",
       "      <progress value='24000' class='' max='24000' style='width:300px; height:20px; vertical-align: middle;'></progress>\n",
       "      100.00% [24000/24000 00:14<00:00 Sampling 4 chains, 0 divergences]\n",
       "    </div>\n",
       "    "
      ],
      "text/plain": [
       "<IPython.core.display.HTML object>"
      ]
     },
     "metadata": {},
     "output_type": "display_data"
    },
    {
     "name": "stderr",
     "output_type": "stream",
     "text": [
      "Sampling 4 chains for 4_000 tune and 2_000 draw iterations (16_000 + 8_000 draws total) took 14 seconds.\n"
     ]
    }
   ],
   "source": [
    "with pm.Model() as m_6_2:\n",
    "    a = pm.Normal('a', mu=10, sigma=100)\n",
    "    b_l = pm.Normal('b_l', mu=2, sigma=10)\n",
    "\n",
    "    sigma = pm.Exponential('sigma', lam=1)\n",
    "    \n",
    "    mu = pm.Deterministic('mu', a + b_l * df['leg_left'])\n",
    "    height = pm.Normal('height', mu=mu, sigma=sigma, observed=df['height'])\n",
    "    \n",
    "    trace_6_2 = pm.sample(2000, init='advi', tune=4000)"
   ]
  },
  {
   "cell_type": "code",
   "execution_count": 13,
   "metadata": {},
   "outputs": [
    {
     "name": "stderr",
     "output_type": "stream",
     "text": [
      "/home/somnath/install/anaconda3/envs/stat-rethink-pymc3/lib/python3.8/site-packages/arviz/data/io_pymc3.py:87: FutureWarning: Using `from_pymc3` without the model will be deprecated in a future release. Not using the model will return less accurate and less useful results. Make sure you use the model argument or call from_pymc3 within a model context.\n",
      "  warnings.warn(\n"
     ]
    },
    {
     "data": {
      "text/html": [
       "<div>\n",
       "<style scoped>\n",
       "    .dataframe tbody tr th:only-of-type {\n",
       "        vertical-align: middle;\n",
       "    }\n",
       "\n",
       "    .dataframe tbody tr th {\n",
       "        vertical-align: top;\n",
       "    }\n",
       "\n",
       "    .dataframe thead th {\n",
       "        text-align: right;\n",
       "    }\n",
       "</style>\n",
       "<table border=\"1\" class=\"dataframe\">\n",
       "  <thead>\n",
       "    <tr style=\"text-align: right;\">\n",
       "      <th></th>\n",
       "      <th>mean</th>\n",
       "      <th>sd</th>\n",
       "      <th>hdi_5.5%</th>\n",
       "      <th>hdi_94.5%</th>\n",
       "      <th>mcse_mean</th>\n",
       "      <th>mcse_sd</th>\n",
       "      <th>ess_mean</th>\n",
       "      <th>ess_sd</th>\n",
       "      <th>ess_bulk</th>\n",
       "      <th>ess_tail</th>\n",
       "      <th>r_hat</th>\n",
       "    </tr>\n",
       "  </thead>\n",
       "  <tbody>\n",
       "    <tr>\n",
       "      <th>a</th>\n",
       "      <td>1.296</td>\n",
       "      <td>0.367</td>\n",
       "      <td>0.705</td>\n",
       "      <td>1.866</td>\n",
       "      <td>0.008</td>\n",
       "      <td>0.006</td>\n",
       "      <td>2020.0</td>\n",
       "      <td>2020.0</td>\n",
       "      <td>2024.0</td>\n",
       "      <td>2455.0</td>\n",
       "      <td>1.0</td>\n",
       "    </tr>\n",
       "    <tr>\n",
       "      <th>b_l</th>\n",
       "      <td>1.938</td>\n",
       "      <td>0.080</td>\n",
       "      <td>1.819</td>\n",
       "      <td>2.071</td>\n",
       "      <td>0.002</td>\n",
       "      <td>0.001</td>\n",
       "      <td>2088.0</td>\n",
       "      <td>2088.0</td>\n",
       "      <td>2091.0</td>\n",
       "      <td>2549.0</td>\n",
       "      <td>1.0</td>\n",
       "    </tr>\n",
       "    <tr>\n",
       "      <th>sigma</th>\n",
       "      <td>0.680</td>\n",
       "      <td>0.050</td>\n",
       "      <td>0.602</td>\n",
       "      <td>0.757</td>\n",
       "      <td>0.001</td>\n",
       "      <td>0.001</td>\n",
       "      <td>3606.0</td>\n",
       "      <td>3497.0</td>\n",
       "      <td>3747.0</td>\n",
       "      <td>3188.0</td>\n",
       "      <td>1.0</td>\n",
       "    </tr>\n",
       "  </tbody>\n",
       "</table>\n",
       "</div>"
      ],
      "text/plain": [
       "        mean     sd  hdi_5.5%  hdi_94.5%  mcse_mean  mcse_sd  ess_mean  \\\n",
       "a      1.296  0.367     0.705      1.866      0.008    0.006    2020.0   \n",
       "b_l    1.938  0.080     1.819      2.071      0.002    0.001    2088.0   \n",
       "sigma  0.680  0.050     0.602      0.757      0.001    0.001    3606.0   \n",
       "\n",
       "       ess_sd  ess_bulk  ess_tail  r_hat  \n",
       "a      2020.0    2024.0    2455.0    1.0  \n",
       "b_l    2088.0    2091.0    2549.0    1.0  \n",
       "sigma  3497.0    3747.0    3188.0    1.0  "
      ]
     },
     "execution_count": 13,
     "metadata": {},
     "output_type": "execute_result"
    }
   ],
   "source": [
    "az.summary(trace_6_2, hdi_prob=0.89, var_names=['a', 'b_l', 'sigma'])"
   ]
  },
  {
   "cell_type": "markdown",
   "metadata": {},
   "source": [
    "## Multicollinear Milk"
   ]
  },
  {
   "cell_type": "markdown",
   "metadata": {},
   "source": [
    "### Code 6.8"
   ]
  },
  {
   "cell_type": "code",
   "execution_count": 14,
   "metadata": {},
   "outputs": [
    {
     "name": "stdout",
     "output_type": "stream",
     "text": [
      "<class 'pandas.core.frame.DataFrame'>\n",
      "RangeIndex: 29 entries, 0 to 28\n",
      "Data columns (total 8 columns):\n",
      " #   Column          Non-Null Count  Dtype  \n",
      "---  ------          --------------  -----  \n",
      " 0   clade           29 non-null     object \n",
      " 1   species         29 non-null     object \n",
      " 2   kcal.per.g      29 non-null     float64\n",
      " 3   perc.fat        29 non-null     float64\n",
      " 4   perc.protein    29 non-null     float64\n",
      " 5   perc.lactose    29 non-null     float64\n",
      " 6   mass            29 non-null     float64\n",
      " 7   neocortex.perc  17 non-null     float64\n",
      "dtypes: float64(6), object(2)\n",
      "memory usage: 1.9+ KB\n"
     ]
    }
   ],
   "source": [
    "MILK_DATA = '../../data/milk.csv'\n",
    "df_milk = pd.read_csv(MILK_DATA)\n",
    "\n",
    "df_milk.info()"
   ]
  },
  {
   "cell_type": "code",
   "execution_count": 15,
   "metadata": {},
   "outputs": [],
   "source": [
    "from scipy.stats import zscore\n",
    "\n",
    "df_milk['K'] = zscore(df_milk['kcal.per.g'])\n",
    "df_milk['F'] = zscore(df_milk['perc.fat'])\n",
    "df_milk['L'] = zscore(df_milk['perc.lactose'])"
   ]
  },
  {
   "cell_type": "markdown",
   "metadata": {},
   "source": [
    "### Code 6.9"
   ]
  },
  {
   "cell_type": "code",
   "execution_count": 16,
   "metadata": {},
   "outputs": [
    {
     "name": "stderr",
     "output_type": "stream",
     "text": [
      "Auto-assigning NUTS sampler...\n",
      "Initializing NUTS using advi...\n"
     ]
    },
    {
     "data": {
      "text/html": [
       "\n",
       "    <div>\n",
       "        <style>\n",
       "            /* Turns off some styling */\n",
       "            progress {\n",
       "                /* gets rid of default border in Firefox and Opera. */\n",
       "                border: none;\n",
       "                /* Needs to be in here for Safari polyfill so background images work as expected. */\n",
       "                background-size: auto;\n",
       "            }\n",
       "            .progress-bar-interrupted, .progress-bar-interrupted::-webkit-progress-bar {\n",
       "                background: #F44336;\n",
       "            }\n",
       "        </style>\n",
       "      <progress value='12022' class='' max='200000' style='width:300px; height:20px; vertical-align: middle;'></progress>\n",
       "      6.01% [12022/200000 00:00<00:14 Average Loss = 26.246]\n",
       "    </div>\n",
       "    "
      ],
      "text/plain": [
       "<IPython.core.display.HTML object>"
      ]
     },
     "metadata": {},
     "output_type": "display_data"
    },
    {
     "name": "stderr",
     "output_type": "stream",
     "text": [
      "Convergence achieved at 12900\n",
      "Interrupted at 12,899 [6%]: Average Loss = 45.969\n",
      "Multiprocess sampling (4 chains in 4 jobs)\n",
      "NUTS: [sigma, b_f, a]\n"
     ]
    },
    {
     "data": {
      "text/html": [
       "\n",
       "    <div>\n",
       "        <style>\n",
       "            /* Turns off some styling */\n",
       "            progress {\n",
       "                /* gets rid of default border in Firefox and Opera. */\n",
       "                border: none;\n",
       "                /* Needs to be in here for Safari polyfill so background images work as expected. */\n",
       "                background-size: auto;\n",
       "            }\n",
       "            .progress-bar-interrupted, .progress-bar-interrupted::-webkit-progress-bar {\n",
       "                background: #F44336;\n",
       "            }\n",
       "        </style>\n",
       "      <progress value='24000' class='' max='24000' style='width:300px; height:20px; vertical-align: middle;'></progress>\n",
       "      100.00% [24000/24000 00:08<00:00 Sampling 4 chains, 0 divergences]\n",
       "    </div>\n",
       "    "
      ],
      "text/plain": [
       "<IPython.core.display.HTML object>"
      ]
     },
     "metadata": {},
     "output_type": "display_data"
    },
    {
     "name": "stderr",
     "output_type": "stream",
     "text": [
      "Sampling 4 chains for 4_000 tune and 2_000 draw iterations (16_000 + 8_000 draws total) took 9 seconds.\n"
     ]
    }
   ],
   "source": [
    "with pm.Model() as m_6_3:\n",
    "    a = pm.Normal('a', mu=0.0, sigma=0.2)\n",
    "    b_f = pm.Normal('b_f', mu=0.0, sigma=0.5)\n",
    "    sigma = pm.Exponential('sigma', lam=1)\n",
    "    \n",
    "    mu = pm.Deterministic('mu', a + b_f * df_milk['F'])\n",
    "    K = pm.Normal('K', mu=mu, sigma=sigma, observed=df_milk['K'])\n",
    "    \n",
    "    trace_6_3 = pm.sample(2000, init='advi', tune=4000)"
   ]
  },
  {
   "cell_type": "code",
   "execution_count": 17,
   "metadata": {},
   "outputs": [
    {
     "name": "stderr",
     "output_type": "stream",
     "text": [
      "Auto-assigning NUTS sampler...\n",
      "Initializing NUTS using advi...\n"
     ]
    },
    {
     "data": {
      "text/html": [
       "\n",
       "    <div>\n",
       "        <style>\n",
       "            /* Turns off some styling */\n",
       "            progress {\n",
       "                /* gets rid of default border in Firefox and Opera. */\n",
       "                border: none;\n",
       "                /* Needs to be in here for Safari polyfill so background images work as expected. */\n",
       "                background-size: auto;\n",
       "            }\n",
       "            .progress-bar-interrupted, .progress-bar-interrupted::-webkit-progress-bar {\n",
       "                background: #F44336;\n",
       "            }\n",
       "        </style>\n",
       "      <progress value='12959' class='' max='200000' style='width:300px; height:20px; vertical-align: middle;'></progress>\n",
       "      6.48% [12959/200000 00:00<00:13 Average Loss = 21.952]\n",
       "    </div>\n",
       "    "
      ],
      "text/plain": [
       "<IPython.core.display.HTML object>"
      ]
     },
     "metadata": {},
     "output_type": "display_data"
    },
    {
     "name": "stderr",
     "output_type": "stream",
     "text": [
      "Convergence achieved at 13700\n",
      "Interrupted at 13,699 [6%]: Average Loss = 42.021\n",
      "Multiprocess sampling (4 chains in 4 jobs)\n",
      "NUTS: [sigma, b_l, a]\n"
     ]
    },
    {
     "data": {
      "text/html": [
       "\n",
       "    <div>\n",
       "        <style>\n",
       "            /* Turns off some styling */\n",
       "            progress {\n",
       "                /* gets rid of default border in Firefox and Opera. */\n",
       "                border: none;\n",
       "                /* Needs to be in here for Safari polyfill so background images work as expected. */\n",
       "                background-size: auto;\n",
       "            }\n",
       "            .progress-bar-interrupted, .progress-bar-interrupted::-webkit-progress-bar {\n",
       "                background: #F44336;\n",
       "            }\n",
       "        </style>\n",
       "      <progress value='24000' class='' max='24000' style='width:300px; height:20px; vertical-align: middle;'></progress>\n",
       "      100.00% [24000/24000 00:10<00:00 Sampling 4 chains, 0 divergences]\n",
       "    </div>\n",
       "    "
      ],
      "text/plain": [
       "<IPython.core.display.HTML object>"
      ]
     },
     "metadata": {},
     "output_type": "display_data"
    },
    {
     "name": "stderr",
     "output_type": "stream",
     "text": [
      "Sampling 4 chains for 4_000 tune and 2_000 draw iterations (16_000 + 8_000 draws total) took 11 seconds.\n"
     ]
    }
   ],
   "source": [
    "with pm.Model() as m_6_4:\n",
    "    a = pm.Normal('a', mu=0.0, sigma=0.2)\n",
    "    b_l = pm.Normal('b_l', mu=0.0, sigma=0.5)\n",
    "    sigma = pm.Exponential('sigma', lam=1)\n",
    "    \n",
    "    mu = pm.Deterministic('mu', a + b_l * df_milk['L'])\n",
    "    K = pm.Normal('K', mu=mu, sigma=sigma, observed=df_milk['K'])\n",
    "    \n",
    "    trace_6_4 = pm.sample(2000, init='advi', tune=4000)"
   ]
  },
  {
   "cell_type": "code",
   "execution_count": 18,
   "metadata": {},
   "outputs": [
    {
     "name": "stderr",
     "output_type": "stream",
     "text": [
      "/home/somnath/install/anaconda3/envs/stat-rethink-pymc3/lib/python3.8/site-packages/arviz/data/io_pymc3.py:87: FutureWarning: Using `from_pymc3` without the model will be deprecated in a future release. Not using the model will return less accurate and less useful results. Make sure you use the model argument or call from_pymc3 within a model context.\n",
      "  warnings.warn(\n",
      "/home/somnath/install/anaconda3/envs/stat-rethink-pymc3/lib/python3.8/site-packages/arviz/data/io_pymc3.py:87: FutureWarning: Using `from_pymc3` without the model will be deprecated in a future release. Not using the model will return less accurate and less useful results. Make sure you use the model argument or call from_pymc3 within a model context.\n",
      "  warnings.warn(\n"
     ]
    }
   ],
   "source": [
    "summary_6_3 = az.summary(trace_6_3, hdi_prob=0.89, var_names=['a', 'b_f', 'sigma'])\n",
    "summary_6_4 = az.summary(trace_6_4, hdi_prob=0.89, var_names=['a', 'b_l', 'sigma'])"
   ]
  },
  {
   "cell_type": "code",
   "execution_count": 19,
   "metadata": {},
   "outputs": [
    {
     "data": {
      "text/html": [
       "<div>\n",
       "<style scoped>\n",
       "    .dataframe tbody tr th:only-of-type {\n",
       "        vertical-align: middle;\n",
       "    }\n",
       "\n",
       "    .dataframe tbody tr th {\n",
       "        vertical-align: top;\n",
       "    }\n",
       "\n",
       "    .dataframe thead th {\n",
       "        text-align: right;\n",
       "    }\n",
       "</style>\n",
       "<table border=\"1\" class=\"dataframe\">\n",
       "  <thead>\n",
       "    <tr style=\"text-align: right;\">\n",
       "      <th></th>\n",
       "      <th>mean</th>\n",
       "      <th>sd</th>\n",
       "      <th>hdi_5.5%</th>\n",
       "      <th>hdi_94.5%</th>\n",
       "      <th>mcse_mean</th>\n",
       "      <th>mcse_sd</th>\n",
       "      <th>ess_mean</th>\n",
       "      <th>ess_sd</th>\n",
       "      <th>ess_bulk</th>\n",
       "      <th>ess_tail</th>\n",
       "      <th>r_hat</th>\n",
       "    </tr>\n",
       "  </thead>\n",
       "  <tbody>\n",
       "    <tr>\n",
       "      <th>a</th>\n",
       "      <td>-0.001</td>\n",
       "      <td>0.085</td>\n",
       "      <td>-0.138</td>\n",
       "      <td>0.130</td>\n",
       "      <td>0.001</td>\n",
       "      <td>0.001</td>\n",
       "      <td>9627.0</td>\n",
       "      <td>3683.0</td>\n",
       "      <td>9632.0</td>\n",
       "      <td>5680.0</td>\n",
       "      <td>1.0</td>\n",
       "    </tr>\n",
       "    <tr>\n",
       "      <th>b_f</th>\n",
       "      <td>0.856</td>\n",
       "      <td>0.089</td>\n",
       "      <td>0.715</td>\n",
       "      <td>0.997</td>\n",
       "      <td>0.001</td>\n",
       "      <td>0.001</td>\n",
       "      <td>9705.0</td>\n",
       "      <td>9705.0</td>\n",
       "      <td>9803.0</td>\n",
       "      <td>5678.0</td>\n",
       "      <td>1.0</td>\n",
       "    </tr>\n",
       "    <tr>\n",
       "      <th>sigma</th>\n",
       "      <td>0.495</td>\n",
       "      <td>0.070</td>\n",
       "      <td>0.382</td>\n",
       "      <td>0.596</td>\n",
       "      <td>0.001</td>\n",
       "      <td>0.001</td>\n",
       "      <td>6720.0</td>\n",
       "      <td>6720.0</td>\n",
       "      <td>6489.0</td>\n",
       "      <td>4232.0</td>\n",
       "      <td>1.0</td>\n",
       "    </tr>\n",
       "  </tbody>\n",
       "</table>\n",
       "</div>"
      ],
      "text/plain": [
       "        mean     sd  hdi_5.5%  hdi_94.5%  mcse_mean  mcse_sd  ess_mean  \\\n",
       "a     -0.001  0.085    -0.138      0.130      0.001    0.001    9627.0   \n",
       "b_f    0.856  0.089     0.715      0.997      0.001    0.001    9705.0   \n",
       "sigma  0.495  0.070     0.382      0.596      0.001    0.001    6720.0   \n",
       "\n",
       "       ess_sd  ess_bulk  ess_tail  r_hat  \n",
       "a      3683.0    9632.0    5680.0    1.0  \n",
       "b_f    9705.0    9803.0    5678.0    1.0  \n",
       "sigma  6720.0    6489.0    4232.0    1.0  "
      ]
     },
     "execution_count": 19,
     "metadata": {},
     "output_type": "execute_result"
    }
   ],
   "source": [
    "summary_6_3"
   ]
  },
  {
   "cell_type": "code",
   "execution_count": 20,
   "metadata": {},
   "outputs": [
    {
     "data": {
      "text/html": [
       "<div>\n",
       "<style scoped>\n",
       "    .dataframe tbody tr th:only-of-type {\n",
       "        vertical-align: middle;\n",
       "    }\n",
       "\n",
       "    .dataframe tbody tr th {\n",
       "        vertical-align: top;\n",
       "    }\n",
       "\n",
       "    .dataframe thead th {\n",
       "        text-align: right;\n",
       "    }\n",
       "</style>\n",
       "<table border=\"1\" class=\"dataframe\">\n",
       "  <thead>\n",
       "    <tr style=\"text-align: right;\">\n",
       "      <th></th>\n",
       "      <th>mean</th>\n",
       "      <th>sd</th>\n",
       "      <th>hdi_5.5%</th>\n",
       "      <th>hdi_94.5%</th>\n",
       "      <th>mcse_mean</th>\n",
       "      <th>mcse_sd</th>\n",
       "      <th>ess_mean</th>\n",
       "      <th>ess_sd</th>\n",
       "      <th>ess_bulk</th>\n",
       "      <th>ess_tail</th>\n",
       "      <th>r_hat</th>\n",
       "    </tr>\n",
       "  </thead>\n",
       "  <tbody>\n",
       "    <tr>\n",
       "      <th>a</th>\n",
       "      <td>0.000</td>\n",
       "      <td>0.074</td>\n",
       "      <td>-0.116</td>\n",
       "      <td>0.117</td>\n",
       "      <td>0.001</td>\n",
       "      <td>0.001</td>\n",
       "      <td>9287.0</td>\n",
       "      <td>3640.0</td>\n",
       "      <td>9333.0</td>\n",
       "      <td>5782.0</td>\n",
       "      <td>1.0</td>\n",
       "    </tr>\n",
       "    <tr>\n",
       "      <th>b_l</th>\n",
       "      <td>-0.899</td>\n",
       "      <td>0.079</td>\n",
       "      <td>-1.024</td>\n",
       "      <td>-0.775</td>\n",
       "      <td>0.001</td>\n",
       "      <td>0.001</td>\n",
       "      <td>9932.0</td>\n",
       "      <td>9897.0</td>\n",
       "      <td>9959.0</td>\n",
       "      <td>5674.0</td>\n",
       "      <td>1.0</td>\n",
       "    </tr>\n",
       "    <tr>\n",
       "      <th>sigma</th>\n",
       "      <td>0.419</td>\n",
       "      <td>0.061</td>\n",
       "      <td>0.326</td>\n",
       "      <td>0.512</td>\n",
       "      <td>0.001</td>\n",
       "      <td>0.001</td>\n",
       "      <td>6003.0</td>\n",
       "      <td>6003.0</td>\n",
       "      <td>5867.0</td>\n",
       "      <td>4494.0</td>\n",
       "      <td>1.0</td>\n",
       "    </tr>\n",
       "  </tbody>\n",
       "</table>\n",
       "</div>"
      ],
      "text/plain": [
       "        mean     sd  hdi_5.5%  hdi_94.5%  mcse_mean  mcse_sd  ess_mean  \\\n",
       "a      0.000  0.074    -0.116      0.117      0.001    0.001    9287.0   \n",
       "b_l   -0.899  0.079    -1.024     -0.775      0.001    0.001    9932.0   \n",
       "sigma  0.419  0.061     0.326      0.512      0.001    0.001    6003.0   \n",
       "\n",
       "       ess_sd  ess_bulk  ess_tail  r_hat  \n",
       "a      3640.0    9333.0    5782.0    1.0  \n",
       "b_l    9897.0    9959.0    5674.0    1.0  \n",
       "sigma  6003.0    5867.0    4494.0    1.0  "
      ]
     },
     "execution_count": 20,
     "metadata": {},
     "output_type": "execute_result"
    }
   ],
   "source": [
    "summary_6_4"
   ]
  },
  {
   "cell_type": "code",
   "execution_count": 21,
   "metadata": {},
   "outputs": [],
   "source": [
    "df_6_3 = pm.trace_to_dataframe(trace_6_3)\n",
    "df_6_4 = pm.trace_to_dataframe(trace_6_4)"
   ]
  },
  {
   "cell_type": "code",
   "execution_count": 22,
   "metadata": {},
   "outputs": [
    {
     "data": {
      "image/png": "[encoded data removed]",
      "text/plain": [
       "<Figure size 432x288 with 1 Axes>"
      ]
     },
     "metadata": {
      "needs_background": "light"
     },
     "output_type": "display_data"
    }
   ],
   "source": [
    "_, ax = plt.subplots(1, 1)\n",
    "sns.kdeplot(df_6_3['b_f'], ax=ax, label=r'$b_f$')\n",
    "sns.kdeplot(df_6_4['b_l'], ax=ax, label=r'$b_l$')\n",
    "\n",
    "plt.xlabel(r'$b_l$ and $b_f$')\n",
    "plt.legend()\n",
    "plt.show()"
   ]
  },
  {
   "cell_type": "markdown",
   "metadata": {},
   "source": [
    "### Code 6.10"
   ]
  },
  {
   "cell_type": "code",
   "execution_count": 23,
   "metadata": {},
   "outputs": [
    {
     "name": "stderr",
     "output_type": "stream",
     "text": [
      "Auto-assigning NUTS sampler...\n",
      "Initializing NUTS using advi...\n"
     ]
    },
    {
     "data": {
      "text/html": [
       "\n",
       "    <div>\n",
       "        <style>\n",
       "            /* Turns off some styling */\n",
       "            progress {\n",
       "                /* gets rid of default border in Firefox and Opera. */\n",
       "                border: none;\n",
       "                /* Needs to be in here for Safari polyfill so background images work as expected. */\n",
       "                background-size: auto;\n",
       "            }\n",
       "            .progress-bar-interrupted, .progress-bar-interrupted::-webkit-progress-bar {\n",
       "                background: #F44336;\n",
       "            }\n",
       "        </style>\n",
       "      <progress value='11586' class='' max='200000' style='width:300px; height:20px; vertical-align: middle;'></progress>\n",
       "      5.79% [11586/200000 00:02<00:45 Average Loss = 26.425]\n",
       "    </div>\n",
       "    "
      ],
      "text/plain": [
       "<IPython.core.display.HTML object>"
      ]
     },
     "metadata": {},
     "output_type": "display_data"
    },
    {
     "name": "stderr",
     "output_type": "stream",
     "text": [
      "Convergence achieved at 12100\n",
      "Interrupted at 12,099 [6%]: Average Loss = 47.919\n",
      "Multiprocess sampling (4 chains in 4 jobs)\n",
      "NUTS: [sigma, b_f, b_l, a]\n"
     ]
    },
    {
     "data": {
      "text/html": [
       "\n",
       "    <div>\n",
       "        <style>\n",
       "            /* Turns off some styling */\n",
       "            progress {\n",
       "                /* gets rid of default border in Firefox and Opera. */\n",
       "                border: none;\n",
       "                /* Needs to be in here for Safari polyfill so background images work as expected. */\n",
       "                background-size: auto;\n",
       "            }\n",
       "            .progress-bar-interrupted, .progress-bar-interrupted::-webkit-progress-bar {\n",
       "                background: #F44336;\n",
       "            }\n",
       "        </style>\n",
       "      <progress value='24000' class='' max='24000' style='width:300px; height:20px; vertical-align: middle;'></progress>\n",
       "      100.00% [24000/24000 00:10<00:00 Sampling 4 chains, 0 divergences]\n",
       "    </div>\n",
       "    "
      ],
      "text/plain": [
       "<IPython.core.display.HTML object>"
      ]
     },
     "metadata": {},
     "output_type": "display_data"
    },
    {
     "name": "stderr",
     "output_type": "stream",
     "text": [
      "Sampling 4 chains for 4_000 tune and 2_000 draw iterations (16_000 + 8_000 draws total) took 11 seconds.\n"
     ]
    }
   ],
   "source": [
    "with pm.Model() as m_6_5:\n",
    "    a = pm.Normal('a', mu=0.0, sigma=0.2)\n",
    "    b_l = pm.Normal('b_l', mu=0.0, sigma=0.5)\n",
    "    b_f = pm.Normal('b_f', mu=0.0, sigma=0.5)\n",
    "    sigma = pm.Exponential('sigma', lam=1)\n",
    "    \n",
    "    mu = pm.Deterministic('mu', a + b_l * df_milk['L'] + b_f * df_milk['F'])\n",
    "    K = pm.Normal('K', mu=mu, sigma=sigma, observed=df_milk['K'])\n",
    "    \n",
    "    trace_6_5 = pm.sample(2000, init='advi', tune=4000)"
   ]
  },
  {
   "cell_type": "code",
   "execution_count": 24,
   "metadata": {},
   "outputs": [
    {
     "name": "stderr",
     "output_type": "stream",
     "text": [
      "/home/somnath/install/anaconda3/envs/stat-rethink-pymc3/lib/python3.8/site-packages/arviz/data/io_pymc3.py:87: FutureWarning: Using `from_pymc3` without the model will be deprecated in a future release. Not using the model will return less accurate and less useful results. Make sure you use the model argument or call from_pymc3 within a model context.\n",
      "  warnings.warn(\n"
     ]
    },
    {
     "data": {
      "text/html": [
       "<div>\n",
       "<style scoped>\n",
       "    .dataframe tbody tr th:only-of-type {\n",
       "        vertical-align: middle;\n",
       "    }\n",
       "\n",
       "    .dataframe tbody tr th {\n",
       "        vertical-align: top;\n",
       "    }\n",
       "\n",
       "    .dataframe thead th {\n",
       "        text-align: right;\n",
       "    }\n",
       "</style>\n",
       "<table border=\"1\" class=\"dataframe\">\n",
       "  <thead>\n",
       "    <tr style=\"text-align: right;\">\n",
       "      <th></th>\n",
       "      <th>mean</th>\n",
       "      <th>sd</th>\n",
       "      <th>hdi_5.5%</th>\n",
       "      <th>hdi_94.5%</th>\n",
       "      <th>mcse_mean</th>\n",
       "      <th>mcse_sd</th>\n",
       "      <th>ess_mean</th>\n",
       "      <th>ess_sd</th>\n",
       "      <th>ess_bulk</th>\n",
       "      <th>ess_tail</th>\n",
       "      <th>r_hat</th>\n",
       "    </tr>\n",
       "  </thead>\n",
       "  <tbody>\n",
       "    <tr>\n",
       "      <th>a</th>\n",
       "      <td>-0.001</td>\n",
       "      <td>0.072</td>\n",
       "      <td>-0.114</td>\n",
       "      <td>0.116</td>\n",
       "      <td>0.001</td>\n",
       "      <td>0.001</td>\n",
       "      <td>6563.0</td>\n",
       "      <td>3646.0</td>\n",
       "      <td>6596.0</td>\n",
       "      <td>5559.0</td>\n",
       "      <td>1.0</td>\n",
       "    </tr>\n",
       "    <tr>\n",
       "      <th>b_l</th>\n",
       "      <td>-0.664</td>\n",
       "      <td>0.201</td>\n",
       "      <td>-0.987</td>\n",
       "      <td>-0.351</td>\n",
       "      <td>0.004</td>\n",
       "      <td>0.003</td>\n",
       "      <td>2225.0</td>\n",
       "      <td>2225.0</td>\n",
       "      <td>2235.0</td>\n",
       "      <td>2480.0</td>\n",
       "      <td>1.0</td>\n",
       "    </tr>\n",
       "    <tr>\n",
       "      <th>b_f</th>\n",
       "      <td>0.255</td>\n",
       "      <td>0.201</td>\n",
       "      <td>-0.048</td>\n",
       "      <td>0.589</td>\n",
       "      <td>0.004</td>\n",
       "      <td>0.003</td>\n",
       "      <td>2232.0</td>\n",
       "      <td>2109.0</td>\n",
       "      <td>2238.0</td>\n",
       "      <td>2755.0</td>\n",
       "      <td>1.0</td>\n",
       "    </tr>\n",
       "    <tr>\n",
       "      <th>sigma</th>\n",
       "      <td>0.421</td>\n",
       "      <td>0.061</td>\n",
       "      <td>0.325</td>\n",
       "      <td>0.511</td>\n",
       "      <td>0.001</td>\n",
       "      <td>0.001</td>\n",
       "      <td>4546.0</td>\n",
       "      <td>4508.0</td>\n",
       "      <td>4496.0</td>\n",
       "      <td>3718.0</td>\n",
       "      <td>1.0</td>\n",
       "    </tr>\n",
       "  </tbody>\n",
       "</table>\n",
       "</div>"
      ],
      "text/plain": [
       "        mean     sd  hdi_5.5%  hdi_94.5%  mcse_mean  mcse_sd  ess_mean  \\\n",
       "a     -0.001  0.072    -0.114      0.116      0.001    0.001    6563.0   \n",
       "b_l   -0.664  0.201    -0.987     -0.351      0.004    0.003    2225.0   \n",
       "b_f    0.255  0.201    -0.048      0.589      0.004    0.003    2232.0   \n",
       "sigma  0.421  0.061     0.325      0.511      0.001    0.001    4546.0   \n",
       "\n",
       "       ess_sd  ess_bulk  ess_tail  r_hat  \n",
       "a      3646.0    6596.0    5559.0    1.0  \n",
       "b_l    2225.0    2235.0    2480.0    1.0  \n",
       "b_f    2109.0    2238.0    2755.0    1.0  \n",
       "sigma  4508.0    4496.0    3718.0    1.0  "
      ]
     },
     "execution_count": 24,
     "metadata": {},
     "output_type": "execute_result"
    }
   ],
   "source": [
    "az.summary(trace_6_5, var_names=['a', 'b_l', 'b_f', 'sigma'], hdi_prob=0.89)"
   ]
  },
  {
   "cell_type": "code",
   "execution_count": 25,
   "metadata": {},
   "outputs": [
    {
     "data": {
      "text/html": [
       "<div>\n",
       "<style scoped>\n",
       "    .dataframe tbody tr th:only-of-type {\n",
       "        vertical-align: middle;\n",
       "    }\n",
       "\n",
       "    .dataframe tbody tr th {\n",
       "        vertical-align: top;\n",
       "    }\n",
       "\n",
       "    .dataframe thead th {\n",
       "        text-align: right;\n",
       "    }\n",
       "</style>\n",
       "<table border=\"1\" class=\"dataframe\">\n",
       "  <thead>\n",
       "    <tr style=\"text-align: right;\">\n",
       "      <th></th>\n",
       "      <th>a</th>\n",
       "      <th>b_l</th>\n",
       "      <th>b_f</th>\n",
       "      <th>sigma</th>\n",
       "      <th>mu__0</th>\n",
       "      <th>mu__1</th>\n",
       "      <th>mu__2</th>\n",
       "      <th>mu__3</th>\n",
       "      <th>mu__4</th>\n",
       "      <th>mu__5</th>\n",
       "      <th>...</th>\n",
       "      <th>mu__19</th>\n",
       "      <th>mu__20</th>\n",
       "      <th>mu__21</th>\n",
       "      <th>mu__22</th>\n",
       "      <th>mu__23</th>\n",
       "      <th>mu__24</th>\n",
       "      <th>mu__25</th>\n",
       "      <th>mu__26</th>\n",
       "      <th>mu__27</th>\n",
       "      <th>mu__28</th>\n",
       "    </tr>\n",
       "  </thead>\n",
       "  <tbody>\n",
       "    <tr>\n",
       "      <th>0</th>\n",
       "      <td>0.128193</td>\n",
       "      <td>-0.748256</td>\n",
       "      <td>0.093154</td>\n",
       "      <td>0.427801</td>\n",
       "      <td>-0.982686</td>\n",
       "      <td>-0.739582</td>\n",
       "      <td>-1.056639</td>\n",
       "      <td>-1.206825</td>\n",
       "      <td>-0.112129</td>\n",
       "      <td>-0.259616</td>\n",
       "      <td>...</td>\n",
       "      <td>1.069554</td>\n",
       "      <td>-1.178727</td>\n",
       "      <td>-0.047898</td>\n",
       "      <td>-0.491673</td>\n",
       "      <td>-0.130765</td>\n",
       "      <td>-0.292126</td>\n",
       "      <td>0.157977</td>\n",
       "      <td>-0.906783</td>\n",
       "      <td>-0.070362</td>\n",
       "      <td>0.776018</td>\n",
       "    </tr>\n",
       "    <tr>\n",
       "      <th>1</th>\n",
       "      <td>0.059708</td>\n",
       "      <td>-0.770185</td>\n",
       "      <td>0.226621</td>\n",
       "      <td>0.406274</td>\n",
       "      <td>-1.245682</td>\n",
       "      <td>-0.970588</td>\n",
       "      <td>-1.344992</td>\n",
       "      <td>-1.492129</td>\n",
       "      <td>-0.250149</td>\n",
       "      <td>-0.458396</td>\n",
       "      <td>...</td>\n",
       "      <td>1.217894</td>\n",
       "      <td>-1.453430</td>\n",
       "      <td>-0.116704</td>\n",
       "      <td>-0.648826</td>\n",
       "      <td>-0.171547</td>\n",
       "      <td>-0.436353</td>\n",
       "      <td>0.058699</td>\n",
       "      <td>-1.124902</td>\n",
       "      <td>-0.118127</td>\n",
       "      <td>0.880179</td>\n",
       "    </tr>\n",
       "    <tr>\n",
       "      <th>2</th>\n",
       "      <td>-0.015653</td>\n",
       "      <td>-0.935435</td>\n",
       "      <td>0.076738</td>\n",
       "      <td>0.383184</td>\n",
       "      <td>-1.355219</td>\n",
       "      <td>-1.058856</td>\n",
       "      <td>-1.440627</td>\n",
       "      <td>-1.630646</td>\n",
       "      <td>-0.297106</td>\n",
       "      <td>-0.464342</td>\n",
       "      <td>...</td>\n",
       "      <td>1.103702</td>\n",
       "      <td>-1.598491</td>\n",
       "      <td>-0.237264</td>\n",
       "      <td>-0.769161</td>\n",
       "      <td>-0.350113</td>\n",
       "      <td>-0.521847</td>\n",
       "      <td>0.031203</td>\n",
       "      <td>-1.273288</td>\n",
       "      <td>-0.271940</td>\n",
       "      <td>0.747545</td>\n",
       "    </tr>\n",
       "    <tr>\n",
       "      <th>3</th>\n",
       "      <td>-0.015653</td>\n",
       "      <td>-0.935435</td>\n",
       "      <td>0.076738</td>\n",
       "      <td>0.383184</td>\n",
       "      <td>-1.355219</td>\n",
       "      <td>-1.058856</td>\n",
       "      <td>-1.440627</td>\n",
       "      <td>-1.630646</td>\n",
       "      <td>-0.297106</td>\n",
       "      <td>-0.464342</td>\n",
       "      <td>...</td>\n",
       "      <td>1.103702</td>\n",
       "      <td>-1.598491</td>\n",
       "      <td>-0.237264</td>\n",
       "      <td>-0.769161</td>\n",
       "      <td>-0.350113</td>\n",
       "      <td>-0.521847</td>\n",
       "      <td>0.031203</td>\n",
       "      <td>-1.273288</td>\n",
       "      <td>-0.271940</td>\n",
       "      <td>0.747545</td>\n",
       "    </tr>\n",
       "    <tr>\n",
       "      <th>4</th>\n",
       "      <td>-0.162167</td>\n",
       "      <td>-0.892208</td>\n",
       "      <td>0.088723</td>\n",
       "      <td>0.368609</td>\n",
       "      <td>-1.459070</td>\n",
       "      <td>-1.173449</td>\n",
       "      <td>-1.543286</td>\n",
       "      <td>-1.723639</td>\n",
       "      <td>-0.438037</td>\n",
       "      <td>-0.604250</td>\n",
       "      <td>...</td>\n",
       "      <td>0.927943</td>\n",
       "      <td>-1.691808</td>\n",
       "      <td>-0.372962</td>\n",
       "      <td>-0.889230</td>\n",
       "      <td>-0.476978</td>\n",
       "      <td>-0.652504</td>\n",
       "      <td>-0.121238</td>\n",
       "      <td>-1.375858</td>\n",
       "      <td>-0.403458</td>\n",
       "      <td>0.584018</td>\n",
       "    </tr>\n",
       "  </tbody>\n",
       "</table>\n",
       "<p>5 rows × 33 columns</p>\n",
       "</div>"
      ],
      "text/plain": [
       "          a       b_l       b_f     sigma     mu__0     mu__1     mu__2  \\\n",
       "0  0.128193 -0.748256  0.093154  0.427801 -0.982686 -0.739582 -1.056639   \n",
       "1  0.059708 -0.770185  0.226621  0.406274 -1.245682 -0.970588 -1.344992   \n",
       "2 -0.015653 -0.935435  0.076738  0.383184 -1.355219 -1.058856 -1.440627   \n",
       "3 -0.015653 -0.935435  0.076738  0.383184 -1.355219 -1.058856 -1.440627   \n",
       "4 -0.162167 -0.892208  0.088723  0.368609 -1.459070 -1.173449 -1.543286   \n",
       "\n",
       "      mu__3     mu__4     mu__5  ...    mu__19    mu__20    mu__21    mu__22  \\\n",
       "0 -1.206825 -0.112129 -0.259616  ...  1.069554 -1.178727 -0.047898 -0.491673   \n",
       "1 -1.492129 -0.250149 -0.458396  ...  1.217894 -1.453430 -0.116704 -0.648826   \n",
       "2 -1.630646 -0.297106 -0.464342  ...  1.103702 -1.598491 -0.237264 -0.769161   \n",
       "3 -1.630646 -0.297106 -0.464342  ...  1.103702 -1.598491 -0.237264 -0.769161   \n",
       "4 -1.723639 -0.438037 -0.604250  ...  0.927943 -1.691808 -0.372962 -0.889230   \n",
       "\n",
       "     mu__23    mu__24    mu__25    mu__26    mu__27    mu__28  \n",
       "0 -0.130765 -0.292126  0.157977 -0.906783 -0.070362  0.776018  \n",
       "1 -0.171547 -0.436353  0.058699 -1.124902 -0.118127  0.880179  \n",
       "2 -0.350113 -0.521847  0.031203 -1.273288 -0.271940  0.747545  \n",
       "3 -0.350113 -0.521847  0.031203 -1.273288 -0.271940  0.747545  \n",
       "4 -0.476978 -0.652504 -0.121238 -1.375858 -0.403458  0.584018  \n",
       "\n",
       "[5 rows x 33 columns]"
      ]
     },
     "execution_count": 25,
     "metadata": {},
     "output_type": "execute_result"
    }
   ],
   "source": [
    "df_6_5 = pm.trace_to_dataframe(trace_6_5)\n",
    "df_6_5.head()"
   ]
  },
  {
   "cell_type": "markdown",
   "metadata": {},
   "source": [
    "### Code 6.11"
   ]
  },
  {
   "cell_type": "code",
   "execution_count": 26,
   "metadata": {},
   "outputs": [
    {
     "data": {
      "text/plain": [
       "<seaborn.axisgrid.PairGrid at 0x7fe3fa598430>"
      ]
     },
     "execution_count": 26,
     "metadata": {},
     "output_type": "execute_result"
    },
    {
     "data": {
      "image/png": "[encoded data removed]",
      "text/plain": [
       "<Figure size 540x540 with 12 Axes>"
      ]
     },
     "metadata": {
      "needs_background": "light"
     },
     "output_type": "display_data"
    }
   ],
   "source": [
    "sns.pairplot(df_milk[['K', 'F', 'L']])"
   ]
  },
  {
   "cell_type": "markdown",
   "metadata": {},
   "source": [
    "## Discussion \n",
    "\n",
    "\n",
    "The example here is similar to the one presented in Chapter 5.2 wherein the the energy content of milk was regressed against, firstly, the log of the body mass and then against the percentage of neocortex. In that example, each bivariate regression resulted in a weak association. However a combined regression of energy content of milk against both the log of the body mass and the percentage of neocortex resulted in a stronger association. \n",
    "\n",
    "In the current example, the opposite has been demonstrated. The bivariate regressions of the energy content of milk against, firstly, the fat content and, secondly, the lactose content individually show strong association. The combined regression shows a weak association. \n",
    "\n",
    "In the previous example in Section 5.2, the response $K$ is positively correlated with the neocortex percentage $N$ and negatively correlated with body mass $M$. The predictors themselves are positively correlated. In this case, in the combined regression, the predictors tend to cancel each other out and the multiple regression revealed the true nature of the association. \n",
    "\n",
    "In the current example, the response $K$ is positively correlated with $F$ and negatively correlated with $L$. The predictors themselves are strongly negatively correlated with one another. In this example, the fat content can be used to predict the lactose content quite accurately and vice versa.  "
   ]
  }
 ],
 "metadata": {
  "kernelspec": {
   "display_name": "stat-rethink",
   "language": "python",
   "name": "stat-rethink"
  },
  "language_info": {
   "codemirror_mode": {
    "name": "ipython",
    "version": 3
   },
   "file_extension": ".py",
   "mimetype": "text/x-python",
   "name": "python",
   "nbconvert_exporter": "python",
   "pygments_lexer": "ipython3",
   "version": "3.8.5"
  }
 },
 "nbformat": 4,
 "nbformat_minor": 4
}
