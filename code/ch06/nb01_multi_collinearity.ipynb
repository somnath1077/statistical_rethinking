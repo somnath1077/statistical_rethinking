{
 "cells": [
  {
   "cell_type": "markdown",
   "metadata": {},
   "source": [
    "## Berkson's Paradox\n",
    "\n",
    "Berkson's paradox deals with the observation that there can be a negative correlation between two positive traits in a population. That is, members of a population that have the one trait seem to lack the other trait. This apparent negative correlation can arise when we ignore members of the population which have neither of these traits. When we ignore such members, it might happen that, of the remaining population, the majority have only one or the other of the two traits. This leads to the apparent negative correlation. \n",
    "\n",
    "The simulation example given in the book about newsworthiness and trustworthiness of scientific articles can exemplify this paradox should we consider only those articles whose _combined_ newsworthiness and trustworthiness is high. This can happen as in this sub-population of scientific articles, the majority are likely to have one or the other of these two characteristics but not both."
   ]
  },
  {
   "cell_type": "code",
   "execution_count": 1,
   "metadata": {},
   "outputs": [],
   "source": [
    "import arviz as az\n",
    "import matplotlib.pyplot as plt\n",
    "import numpy as np\n",
    "import pandas as pd\n",
    "import pymc3 as pm\n",
    "import seaborn as sns"
   ]
  },
  {
   "cell_type": "markdown",
   "metadata": {},
   "source": [
    "### Code 6.1"
   ]
  },
  {
   "cell_type": "code",
   "execution_count": 2,
   "metadata": {},
   "outputs": [
    {
     "data": {
      "text/plain": [
       "array([[ 1.        , -0.75685876],\n",
       "       [-0.75685876,  1.        ]])"
      ]
     },
     "execution_count": 2,
     "metadata": {},
     "output_type": "execute_result"
    }
   ],
   "source": [
    "from scipy.stats import norm\n",
    "\n",
    "\n",
    "N = 200\n",
    "p = 0.1\n",
    "\n",
    "nw = norm.rvs(loc=0, scale=1, size=N)\n",
    "tw = norm.rvs(loc=0, scale=1, size=N)\n",
    "\n",
    "score = nw + tw\n",
    "# select the top 90% of the combined score\n",
    "q = np.quantile(score, 1 - p)\n",
    "\n",
    "selected = np.where(score >= q, True, False)\n",
    "\n",
    "np.corrcoef(nw[selected], tw[selected])"
   ]
  },
  {
   "cell_type": "markdown",
   "metadata": {},
   "source": [
    "## Multicollinearity"
   ]
  },
  {
   "cell_type": "markdown",
   "metadata": {},
   "source": [
    "### Code 6.2"
   ]
  },
  {
   "cell_type": "code",
   "execution_count": 3,
   "metadata": {},
   "outputs": [
    {
     "data": {
      "text/html": [
       "<div>\n",
       "<style scoped>\n",
       "    .dataframe tbody tr th:only-of-type {\n",
       "        vertical-align: middle;\n",
       "    }\n",
       "\n",
       "    .dataframe tbody tr th {\n",
       "        vertical-align: top;\n",
       "    }\n",
       "\n",
       "    .dataframe thead th {\n",
       "        text-align: right;\n",
       "    }\n",
       "</style>\n",
       "<table border=\"1\" class=\"dataframe\">\n",
       "  <thead>\n",
       "    <tr style=\"text-align: right;\">\n",
       "      <th></th>\n",
       "      <th>height</th>\n",
       "      <th>leg_left</th>\n",
       "      <th>leg_right</th>\n",
       "    </tr>\n",
       "  </thead>\n",
       "  <tbody>\n",
       "    <tr>\n",
       "      <th>0</th>\n",
       "      <td>169.733439</td>\n",
       "      <td>81.345882</td>\n",
       "      <td>81.428369</td>\n",
       "    </tr>\n",
       "    <tr>\n",
       "      <th>1</th>\n",
       "      <td>153.792855</td>\n",
       "      <td>63.273094</td>\n",
       "      <td>63.489442</td>\n",
       "    </tr>\n",
       "    <tr>\n",
       "      <th>2</th>\n",
       "      <td>181.474580</td>\n",
       "      <td>75.498856</td>\n",
       "      <td>75.457561</td>\n",
       "    </tr>\n",
       "    <tr>\n",
       "      <th>3</th>\n",
       "      <td>161.649857</td>\n",
       "      <td>74.336097</td>\n",
       "      <td>74.451645</td>\n",
       "    </tr>\n",
       "    <tr>\n",
       "      <th>4</th>\n",
       "      <td>161.566315</td>\n",
       "      <td>67.176114</td>\n",
       "      <td>67.337097</td>\n",
       "    </tr>\n",
       "  </tbody>\n",
       "</table>\n",
       "</div>"
      ],
      "text/plain": [
       "       height   leg_left  leg_right\n",
       "0  169.733439  81.345882  81.428369\n",
       "1  153.792855  63.273094  63.489442\n",
       "2  181.474580  75.498856  75.457561\n",
       "3  161.649857  74.336097  74.451645\n",
       "4  161.566315  67.176114  67.337097"
      ]
     },
     "execution_count": 3,
     "metadata": {},
     "output_type": "execute_result"
    }
   ],
   "source": [
    "from scipy.stats import uniform\n",
    "\n",
    "\n",
    "N = 100\n",
    "\n",
    "height = norm.rvs(loc=165, scale=10, size=N)\n",
    "leg_prop = uniform.rvs(loc=0.4, scale=0.1, size=N)\n",
    "\n",
    "# assuming that the variation in leg length is in mm \n",
    "leg_left = height * leg_prop + norm.rvs(loc=0.0, scale=0.1, size=N)\n",
    "leg_right = height * leg_prop + norm.rvs(loc=0.0, scale=0.1, size=N)\n",
    "\n",
    "df = pd.DataFrame({'height': height, 'leg_left': leg_left, 'leg_right': leg_right})\n",
    "df.head()"
   ]
  },
  {
   "cell_type": "markdown",
   "metadata": {},
   "source": [
    "### Code 6.3"
   ]
  },
  {
   "cell_type": "code",
   "execution_count": 4,
   "metadata": {},
   "outputs": [
    {
     "name": "stderr",
     "output_type": "stream",
     "text": [
      "Auto-assigning NUTS sampler...\n",
      "Initializing NUTS using jitter+adapt_diag...\n",
      "Multiprocess sampling (4 chains in 4 jobs)\n",
      "NUTS: [sigma, b_r, b_l, a]\n"
     ]
    },
    {
     "data": {
      "text/html": [
       "\n",
       "    <div>\n",
       "        <style>\n",
       "            /* Turns off some styling */\n",
       "            progress {\n",
       "                /* gets rid of default border in Firefox and Opera. */\n",
       "                border: none;\n",
       "                /* Needs to be in here for Safari polyfill so background images work as expected. */\n",
       "                background-size: auto;\n",
       "            }\n",
       "            .progress-bar-interrupted, .progress-bar-interrupted::-webkit-progress-bar {\n",
       "                background: #F44336;\n",
       "            }\n",
       "        </style>\n",
       "      <progress value='16000' class='' max='16000' style='width:300px; height:20px; vertical-align: middle;'></progress>\n",
       "      100.00% [16000/16000 08:26<00:00 Sampling 4 chains, 111 divergences]\n",
       "    </div>\n",
       "    "
      ],
      "text/plain": [
       "<IPython.core.display.HTML object>"
      ]
     },
     "metadata": {},
     "output_type": "display_data"
    },
    {
     "name": "stderr",
     "output_type": "stream",
     "text": [
      "Sampling 4 chains for 2_000 tune and 2_000 draw iterations (8_000 + 8_000 draws total) took 508 seconds.\n",
      "There were 5 divergences after tuning. Increase `target_accept` or reparameterize.\n",
      "The chain reached the maximum tree depth. Increase max_treedepth, increase target_accept or reparameterize.\n",
      "There was 1 divergence after tuning. Increase `target_accept` or reparameterize.\n",
      "The acceptance probability does not match the target. It is 0.8824096967009342, but should be close to 0.8. Try to increase the number of tuning steps.\n",
      "The chain reached the maximum tree depth. Increase max_treedepth, increase target_accept or reparameterize.\n",
      "There were 35 divergences after tuning. Increase `target_accept` or reparameterize.\n",
      "The chain reached the maximum tree depth. Increase max_treedepth, increase target_accept or reparameterize.\n",
      "There were 70 divergences after tuning. Increase `target_accept` or reparameterize.\n",
      "The chain reached the maximum tree depth. Increase max_treedepth, increase target_accept or reparameterize.\n",
      "The number of effective samples is smaller than 25% for some parameters.\n"
     ]
    }
   ],
   "source": [
    "with pm.Model() as m_6_1:\n",
    "    a = pm.Normal('a', mu=80, sigma=100)\n",
    "    b_l = pm.Normal('b_l', mu=2.2, sigma=10)\n",
    "    b_r = pm.Normal('b_r', mu=2.2, sigma=10)\n",
    "    \n",
    "    sigma = pm.Exponential('sigma', lam=1)\n",
    "    \n",
    "    mu = pm.Deterministic('mu', a + b_l * df['leg_left'] + b_r * df['leg_right'])\n",
    "    height = pm.Normal('height', mu=mu, sigma=sigma, observed=df['height'])\n",
    "    \n",
    "    trace_6_1 = pm.sample(2000, tune=2000)"
   ]
  },
  {
   "cell_type": "code",
   "execution_count": 5,
   "metadata": {},
   "outputs": [
    {
     "name": "stderr",
     "output_type": "stream",
     "text": [
      "/home/somnath/install/anaconda3/envs/stat-rethink-pymc3/lib/python3.8/site-packages/arviz/data/io_pymc3.py:87: FutureWarning: Using `from_pymc3` without the model will be deprecated in a future release. Not using the model will return less accurate and less useful results. Make sure you use the model argument or call from_pymc3 within a model context.\n",
      "  warnings.warn(\n"
     ]
    },
    {
     "data": {
      "text/html": [
       "<div>\n",
       "<style scoped>\n",
       "    .dataframe tbody tr th:only-of-type {\n",
       "        vertical-align: middle;\n",
       "    }\n",
       "\n",
       "    .dataframe tbody tr th {\n",
       "        vertical-align: top;\n",
       "    }\n",
       "\n",
       "    .dataframe thead th {\n",
       "        text-align: right;\n",
       "    }\n",
       "</style>\n",
       "<table border=\"1\" class=\"dataframe\">\n",
       "  <thead>\n",
       "    <tr style=\"text-align: right;\">\n",
       "      <th></th>\n",
       "      <th>mean</th>\n",
       "      <th>sd</th>\n",
       "      <th>hdi_5.5%</th>\n",
       "      <th>hdi_94.5%</th>\n",
       "      <th>mcse_mean</th>\n",
       "      <th>mcse_sd</th>\n",
       "      <th>ess_mean</th>\n",
       "      <th>ess_sd</th>\n",
       "      <th>ess_bulk</th>\n",
       "      <th>ess_tail</th>\n",
       "      <th>r_hat</th>\n",
       "    </tr>\n",
       "  </thead>\n",
       "  <tbody>\n",
       "    <tr>\n",
       "      <th>a</th>\n",
       "      <td>93.290</td>\n",
       "      <td>8.601</td>\n",
       "      <td>79.521</td>\n",
       "      <td>106.708</td>\n",
       "      <td>0.149</td>\n",
       "      <td>0.106</td>\n",
       "      <td>3334.0</td>\n",
       "      <td>3323.0</td>\n",
       "      <td>3329.0</td>\n",
       "      <td>3880.0</td>\n",
       "      <td>1.0</td>\n",
       "    </tr>\n",
       "    <tr>\n",
       "      <th>b_l</th>\n",
       "      <td>3.434</td>\n",
       "      <td>4.181</td>\n",
       "      <td>-3.498</td>\n",
       "      <td>9.783</td>\n",
       "      <td>0.100</td>\n",
       "      <td>0.070</td>\n",
       "      <td>1762.0</td>\n",
       "      <td>1762.0</td>\n",
       "      <td>1755.0</td>\n",
       "      <td>2327.0</td>\n",
       "      <td>1.0</td>\n",
       "    </tr>\n",
       "    <tr>\n",
       "      <th>b_r</th>\n",
       "      <td>-2.456</td>\n",
       "      <td>4.160</td>\n",
       "      <td>-8.893</td>\n",
       "      <td>4.347</td>\n",
       "      <td>0.099</td>\n",
       "      <td>0.070</td>\n",
       "      <td>1782.0</td>\n",
       "      <td>1782.0</td>\n",
       "      <td>1776.0</td>\n",
       "      <td>2278.0</td>\n",
       "      <td>1.0</td>\n",
       "    </tr>\n",
       "  </tbody>\n",
       "</table>\n",
       "</div>"
      ],
      "text/plain": [
       "       mean     sd  hdi_5.5%  hdi_94.5%  mcse_mean  mcse_sd  ess_mean  ess_sd  \\\n",
       "a    93.290  8.601    79.521    106.708      0.149    0.106    3334.0  3323.0   \n",
       "b_l   3.434  4.181    -3.498      9.783      0.100    0.070    1762.0  1762.0   \n",
       "b_r  -2.456  4.160    -8.893      4.347      0.099    0.070    1782.0  1782.0   \n",
       "\n",
       "     ess_bulk  ess_tail  r_hat  \n",
       "a      3329.0    3880.0    1.0  \n",
       "b_l    1755.0    2327.0    1.0  \n",
       "b_r    1776.0    2278.0    1.0  "
      ]
     },
     "execution_count": 5,
     "metadata": {},
     "output_type": "execute_result"
    }
   ],
   "source": [
    "az.summary(trace_6_1, hdi_prob=0.89, var_names=['a', 'b_l', 'b_r'])"
   ]
  }
 ],
 "metadata": {
  "kernelspec": {
   "display_name": "stat-rethink",
   "language": "python",
   "name": "stat-rethink"
  },
  "language_info": {
   "codemirror_mode": {
    "name": "ipython",
    "version": 3
   },
   "file_extension": ".py",
   "mimetype": "text/x-python",
   "name": "python",
   "nbconvert_exporter": "python",
   "pygments_lexer": "ipython3",
   "version": "3.8.5"
  }
 },
 "nbformat": 4,
 "nbformat_minor": 4
}
