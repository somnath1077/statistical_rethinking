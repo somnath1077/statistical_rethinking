{
 "cells": [
  {
   "cell_type": "code",
   "execution_count": 1,
   "id": "representative-secretariat",
   "metadata": {},
   "outputs": [],
   "source": [
    "import arviz as az\n",
    "import matplotlib.pyplot as plt\n",
    "import numpy as np\n",
    "import pandas as pd\n",
    "import seaborn as sns\n",
    "import pymc3 as pm\n",
    "import warnings\n",
    "\n",
    "# Ignore a bunch of Arviz/pymc3 deprecated warnings\n",
    "warnings.filterwarnings('ignore')"
   ]
  },
  {
   "cell_type": "code",
   "execution_count": 2,
   "id": "fossil-production",
   "metadata": {},
   "outputs": [],
   "source": [
    "DATA_FOLDER = '../../data'\n",
    "RUGGED_DATA = 'rugged.csv'"
   ]
  },
  {
   "cell_type": "code",
   "execution_count": 3,
   "id": "black-journalism",
   "metadata": {},
   "outputs": [
    {
     "data": {
      "text/html": [
       "<div>\n",
       "<style scoped>\n",
       "    .dataframe tbody tr th:only-of-type {\n",
       "        vertical-align: middle;\n",
       "    }\n",
       "\n",
       "    .dataframe tbody tr th {\n",
       "        vertical-align: top;\n",
       "    }\n",
       "\n",
       "    .dataframe thead th {\n",
       "        text-align: right;\n",
       "    }\n",
       "</style>\n",
       "<table border=\"1\" class=\"dataframe\">\n",
       "  <thead>\n",
       "    <tr style=\"text-align: right;\">\n",
       "      <th></th>\n",
       "      <th>isocode</th>\n",
       "      <th>isonum</th>\n",
       "      <th>country</th>\n",
       "      <th>rugged</th>\n",
       "      <th>rugged_popw</th>\n",
       "      <th>rugged_slope</th>\n",
       "      <th>rugged_lsd</th>\n",
       "      <th>rugged_pc</th>\n",
       "      <th>land_area</th>\n",
       "      <th>lat</th>\n",
       "      <th>...</th>\n",
       "      <th>africa_region_w</th>\n",
       "      <th>africa_region_e</th>\n",
       "      <th>africa_region_c</th>\n",
       "      <th>slave_exports</th>\n",
       "      <th>dist_slavemkt_atlantic</th>\n",
       "      <th>dist_slavemkt_indian</th>\n",
       "      <th>dist_slavemkt_saharan</th>\n",
       "      <th>dist_slavemkt_redsea</th>\n",
       "      <th>pop_1400</th>\n",
       "      <th>european_descent</th>\n",
       "    </tr>\n",
       "  </thead>\n",
       "  <tbody>\n",
       "    <tr>\n",
       "      <th>0</th>\n",
       "      <td>ABW</td>\n",
       "      <td>533</td>\n",
       "      <td>Aruba</td>\n",
       "      <td>0.462</td>\n",
       "      <td>0.380</td>\n",
       "      <td>1.226</td>\n",
       "      <td>0.144</td>\n",
       "      <td>0.000</td>\n",
       "      <td>18.0</td>\n",
       "      <td>12.508</td>\n",
       "      <td>...</td>\n",
       "      <td>0</td>\n",
       "      <td>0</td>\n",
       "      <td>0</td>\n",
       "      <td>0.0</td>\n",
       "      <td>NaN</td>\n",
       "      <td>NaN</td>\n",
       "      <td>NaN</td>\n",
       "      <td>NaN</td>\n",
       "      <td>614.0</td>\n",
       "      <td>NaN</td>\n",
       "    </tr>\n",
       "    <tr>\n",
       "      <th>1</th>\n",
       "      <td>AFG</td>\n",
       "      <td>4</td>\n",
       "      <td>Afghanistan</td>\n",
       "      <td>2.518</td>\n",
       "      <td>1.469</td>\n",
       "      <td>7.414</td>\n",
       "      <td>0.720</td>\n",
       "      <td>39.004</td>\n",
       "      <td>65209.0</td>\n",
       "      <td>33.833</td>\n",
       "      <td>...</td>\n",
       "      <td>0</td>\n",
       "      <td>0</td>\n",
       "      <td>0</td>\n",
       "      <td>0.0</td>\n",
       "      <td>NaN</td>\n",
       "      <td>NaN</td>\n",
       "      <td>NaN</td>\n",
       "      <td>NaN</td>\n",
       "      <td>1870829.0</td>\n",
       "      <td>0.0</td>\n",
       "    </tr>\n",
       "    <tr>\n",
       "      <th>2</th>\n",
       "      <td>AGO</td>\n",
       "      <td>24</td>\n",
       "      <td>Angola</td>\n",
       "      <td>0.858</td>\n",
       "      <td>0.714</td>\n",
       "      <td>2.274</td>\n",
       "      <td>0.228</td>\n",
       "      <td>4.906</td>\n",
       "      <td>124670.0</td>\n",
       "      <td>-12.299</td>\n",
       "      <td>...</td>\n",
       "      <td>0</td>\n",
       "      <td>0</td>\n",
       "      <td>1</td>\n",
       "      <td>3610000.0</td>\n",
       "      <td>5.669</td>\n",
       "      <td>6.981</td>\n",
       "      <td>4.926</td>\n",
       "      <td>3.872</td>\n",
       "      <td>1223208.0</td>\n",
       "      <td>2.0</td>\n",
       "    </tr>\n",
       "    <tr>\n",
       "      <th>3</th>\n",
       "      <td>AIA</td>\n",
       "      <td>660</td>\n",
       "      <td>Anguilla</td>\n",
       "      <td>0.013</td>\n",
       "      <td>0.010</td>\n",
       "      <td>0.026</td>\n",
       "      <td>0.006</td>\n",
       "      <td>0.000</td>\n",
       "      <td>9.0</td>\n",
       "      <td>18.231</td>\n",
       "      <td>...</td>\n",
       "      <td>0</td>\n",
       "      <td>0</td>\n",
       "      <td>0</td>\n",
       "      <td>0.0</td>\n",
       "      <td>NaN</td>\n",
       "      <td>NaN</td>\n",
       "      <td>NaN</td>\n",
       "      <td>NaN</td>\n",
       "      <td>NaN</td>\n",
       "      <td>NaN</td>\n",
       "    </tr>\n",
       "    <tr>\n",
       "      <th>4</th>\n",
       "      <td>ALB</td>\n",
       "      <td>8</td>\n",
       "      <td>Albania</td>\n",
       "      <td>3.427</td>\n",
       "      <td>1.597</td>\n",
       "      <td>10.451</td>\n",
       "      <td>1.006</td>\n",
       "      <td>62.133</td>\n",
       "      <td>2740.0</td>\n",
       "      <td>41.143</td>\n",
       "      <td>...</td>\n",
       "      <td>0</td>\n",
       "      <td>0</td>\n",
       "      <td>0</td>\n",
       "      <td>0.0</td>\n",
       "      <td>NaN</td>\n",
       "      <td>NaN</td>\n",
       "      <td>NaN</td>\n",
       "      <td>NaN</td>\n",
       "      <td>200000.0</td>\n",
       "      <td>100.0</td>\n",
       "    </tr>\n",
       "  </tbody>\n",
       "</table>\n",
       "<p>5 rows × 51 columns</p>\n",
       "</div>"
      ],
      "text/plain": [
       "  isocode  isonum      country  rugged  rugged_popw  rugged_slope  rugged_lsd  \\\n",
       "0     ABW     533        Aruba   0.462        0.380         1.226       0.144   \n",
       "1     AFG       4  Afghanistan   2.518        1.469         7.414       0.720   \n",
       "2     AGO      24       Angola   0.858        0.714         2.274       0.228   \n",
       "3     AIA     660     Anguilla   0.013        0.010         0.026       0.006   \n",
       "4     ALB       8      Albania   3.427        1.597        10.451       1.006   \n",
       "\n",
       "   rugged_pc  land_area     lat  ...  africa_region_w  africa_region_e  \\\n",
       "0      0.000       18.0  12.508  ...                0                0   \n",
       "1     39.004    65209.0  33.833  ...                0                0   \n",
       "2      4.906   124670.0 -12.299  ...                0                0   \n",
       "3      0.000        9.0  18.231  ...                0                0   \n",
       "4     62.133     2740.0  41.143  ...                0                0   \n",
       "\n",
       "   africa_region_c  slave_exports  dist_slavemkt_atlantic  \\\n",
       "0                0            0.0                     NaN   \n",
       "1                0            0.0                     NaN   \n",
       "2                1      3610000.0                   5.669   \n",
       "3                0            0.0                     NaN   \n",
       "4                0            0.0                     NaN   \n",
       "\n",
       "   dist_slavemkt_indian  dist_slavemkt_saharan  dist_slavemkt_redsea  \\\n",
       "0                   NaN                    NaN                   NaN   \n",
       "1                   NaN                    NaN                   NaN   \n",
       "2                 6.981                  4.926                 3.872   \n",
       "3                   NaN                    NaN                   NaN   \n",
       "4                   NaN                    NaN                   NaN   \n",
       "\n",
       "    pop_1400  european_descent  \n",
       "0      614.0               NaN  \n",
       "1  1870829.0               0.0  \n",
       "2  1223208.0               2.0  \n",
       "3        NaN               NaN  \n",
       "4   200000.0             100.0  \n",
       "\n",
       "[5 rows x 51 columns]"
      ]
     },
     "execution_count": 3,
     "metadata": {},
     "output_type": "execute_result"
    }
   ],
   "source": [
    "df = pd.read_csv(f'{DATA_FOLDER}/{RUGGED_DATA}')\n",
    "df.head()"
   ]
  },
  {
   "cell_type": "code",
   "execution_count": 4,
   "id": "egyptian-detection",
   "metadata": {},
   "outputs": [
    {
     "data": {
      "text/plain": [
       "Index(['isocode', 'isonum', 'country', 'rugged', 'rugged_popw', 'rugged_slope',\n",
       "       'rugged_lsd', 'rugged_pc', 'land_area', 'lat', 'lon', 'soil', 'desert',\n",
       "       'tropical', 'dist_coast', 'near_coast', 'gemstones', 'rgdppc_2000',\n",
       "       'rgdppc_1950_m', 'rgdppc_1975_m', 'rgdppc_2000_m', 'rgdppc_1950_2000_m',\n",
       "       'q_rule_law', 'cont_africa', 'cont_asia', 'cont_europe', 'cont_oceania',\n",
       "       'cont_north_america', 'cont_south_america', 'legor_gbr', 'legor_fra',\n",
       "       'legor_soc', 'legor_deu', 'legor_sca', 'colony_esp', 'colony_gbr',\n",
       "       'colony_fra', 'colony_prt', 'colony_oeu', 'africa_region_n',\n",
       "       'africa_region_s', 'africa_region_w', 'africa_region_e',\n",
       "       'africa_region_c', 'slave_exports', 'dist_slavemkt_atlantic',\n",
       "       'dist_slavemkt_indian', 'dist_slavemkt_saharan', 'dist_slavemkt_redsea',\n",
       "       'pop_1400', 'european_descent'],\n",
       "      dtype='object')"
      ]
     },
     "execution_count": 4,
     "metadata": {},
     "output_type": "execute_result"
    }
   ],
   "source": [
    "df.columns"
   ]
  },
  {
   "cell_type": "code",
   "execution_count": 5,
   "id": "negative-morning",
   "metadata": {},
   "outputs": [
    {
     "data": {
      "text/html": [
       "<div>\n",
       "<style scoped>\n",
       "    .dataframe tbody tr th:only-of-type {\n",
       "        vertical-align: middle;\n",
       "    }\n",
       "\n",
       "    .dataframe tbody tr th {\n",
       "        vertical-align: top;\n",
       "    }\n",
       "\n",
       "    .dataframe thead th {\n",
       "        text-align: right;\n",
       "    }\n",
       "</style>\n",
       "<table border=\"1\" class=\"dataframe\">\n",
       "  <thead>\n",
       "    <tr style=\"text-align: right;\">\n",
       "      <th></th>\n",
       "      <th>rgdppc_2000</th>\n",
       "      <th>rugged</th>\n",
       "    </tr>\n",
       "  </thead>\n",
       "  <tbody>\n",
       "    <tr>\n",
       "      <th>count</th>\n",
       "      <td>170.000000</td>\n",
       "      <td>234.000000</td>\n",
       "    </tr>\n",
       "    <tr>\n",
       "      <th>mean</th>\n",
       "      <td>9094.892853</td>\n",
       "      <td>1.375402</td>\n",
       "    </tr>\n",
       "    <tr>\n",
       "      <th>std</th>\n",
       "      <td>9699.991472</td>\n",
       "      <td>1.370052</td>\n",
       "    </tr>\n",
       "    <tr>\n",
       "      <th>min</th>\n",
       "      <td>466.647000</td>\n",
       "      <td>0.000000</td>\n",
       "    </tr>\n",
       "    <tr>\n",
       "      <th>25%</th>\n",
       "      <td>1880.829250</td>\n",
       "      <td>0.376000</td>\n",
       "    </tr>\n",
       "    <tr>\n",
       "      <th>50%</th>\n",
       "      <td>5314.742000</td>\n",
       "      <td>0.961500</td>\n",
       "    </tr>\n",
       "    <tr>\n",
       "      <th>75%</th>\n",
       "      <td>13100.150000</td>\n",
       "      <td>1.981000</td>\n",
       "    </tr>\n",
       "    <tr>\n",
       "      <th>max</th>\n",
       "      <td>57792.090000</td>\n",
       "      <td>7.811000</td>\n",
       "    </tr>\n",
       "  </tbody>\n",
       "</table>\n",
       "</div>"
      ],
      "text/plain": [
       "        rgdppc_2000      rugged\n",
       "count    170.000000  234.000000\n",
       "mean    9094.892853    1.375402\n",
       "std     9699.991472    1.370052\n",
       "min      466.647000    0.000000\n",
       "25%     1880.829250    0.376000\n",
       "50%     5314.742000    0.961500\n",
       "75%    13100.150000    1.981000\n",
       "max    57792.090000    7.811000"
      ]
     },
     "execution_count": 5,
     "metadata": {},
     "output_type": "execute_result"
    }
   ],
   "source": [
    "# rgdppc = real GDP per capita\n",
    "\n",
    "df[['rgdppc_2000', 'rugged']].describe()"
   ]
  },
  {
   "cell_type": "markdown",
   "id": "purple-alliance",
   "metadata": {},
   "source": [
    "### Code 8.1"
   ]
  },
  {
   "cell_type": "code",
   "execution_count": 6,
   "id": "acting-amateur",
   "metadata": {},
   "outputs": [],
   "source": [
    "# extract countries with GDP data\n",
    "df_gdp = df[df['rgdppc_2000'].notna()].copy()\n",
    "\n",
    "# log transform variables \n",
    "df_gdp['log_gdp'] = np.log(df_gdp['rgdppc_2000'].values)\n",
    "\n",
    "# rescale vars\n",
    "df_gdp['log_gdp_std'] = df_gdp['log_gdp'] / np.mean(df_gdp['log_gdp'])\n",
    "df_gdp['rugged_std'] = (df_gdp['rugged'] - np.min(df_gdp['rugged'])) / np.max(df_gdp['rugged'])"
   ]
  },
  {
   "cell_type": "code",
   "execution_count": 7,
   "id": "drawn-baltimore",
   "metadata": {},
   "outputs": [
    {
     "data": {
      "text/html": [
       "<div>\n",
       "<style scoped>\n",
       "    .dataframe tbody tr th:only-of-type {\n",
       "        vertical-align: middle;\n",
       "    }\n",
       "\n",
       "    .dataframe tbody tr th {\n",
       "        vertical-align: top;\n",
       "    }\n",
       "\n",
       "    .dataframe thead th {\n",
       "        text-align: right;\n",
       "    }\n",
       "</style>\n",
       "<table border=\"1\" class=\"dataframe\">\n",
       "  <thead>\n",
       "    <tr style=\"text-align: right;\">\n",
       "      <th></th>\n",
       "      <th>country</th>\n",
       "      <th>log_gdp_std</th>\n",
       "      <th>rugged_std</th>\n",
       "    </tr>\n",
       "  </thead>\n",
       "  <tbody>\n",
       "    <tr>\n",
       "      <th>2</th>\n",
       "      <td>Angola</td>\n",
       "      <td>0.879712</td>\n",
       "      <td>0.137859</td>\n",
       "    </tr>\n",
       "    <tr>\n",
       "      <th>4</th>\n",
       "      <td>Albania</td>\n",
       "      <td>0.964755</td>\n",
       "      <td>0.552080</td>\n",
       "    </tr>\n",
       "    <tr>\n",
       "      <th>7</th>\n",
       "      <td>United Arab Emirates</td>\n",
       "      <td>1.166270</td>\n",
       "      <td>0.123509</td>\n",
       "    </tr>\n",
       "    <tr>\n",
       "      <th>8</th>\n",
       "      <td>Argentina</td>\n",
       "      <td>1.104485</td>\n",
       "      <td>0.124476</td>\n",
       "    </tr>\n",
       "    <tr>\n",
       "      <th>9</th>\n",
       "      <td>Armenia</td>\n",
       "      <td>0.914904</td>\n",
       "      <td>0.432925</td>\n",
       "    </tr>\n",
       "  </tbody>\n",
       "</table>\n",
       "</div>"
      ],
      "text/plain": [
       "                country  log_gdp_std  rugged_std\n",
       "2                Angola     0.879712    0.137859\n",
       "4               Albania     0.964755    0.552080\n",
       "7  United Arab Emirates     1.166270    0.123509\n",
       "8             Argentina     1.104485    0.124476\n",
       "9               Armenia     0.914904    0.432925"
      ]
     },
     "execution_count": 7,
     "metadata": {},
     "output_type": "execute_result"
    }
   ],
   "source": [
    "df_gdp[['country', 'log_gdp_std', 'rugged_std']].head()"
   ]
  },
  {
   "cell_type": "code",
   "execution_count": 8,
   "id": "sapphire-exhibit",
   "metadata": {},
   "outputs": [
    {
     "data": {
      "text/plain": [
       "0.2144763548760362"
      ]
     },
     "execution_count": 8,
     "metadata": {},
     "output_type": "execute_result"
    }
   ],
   "source": [
    "# mean standardized ruggedness\n",
    "\n",
    "np.mean(df_gdp['rugged_std'])"
   ]
  },
  {
   "cell_type": "markdown",
   "id": "cosmetic-blogger",
   "metadata": {},
   "source": [
    "## First Model\n",
    "\n",
    "$$\n",
    "\\begin{align*}\n",
    "~ \\log ( y_i ) & \\sim N( \\mu_i, \\sigma ) \\\\\n",
    "         \\mu_i & = \\alpha + \\beta \\cdot ( r_i - \\bar{r} ) \\\\\n",
    "        \\alpha & \\sim N( 1, 1 )  \\\\\n",
    "        \\beta  & \\sim N( 0, 1 ) \\\\\n",
    "        \\sigma & \\sim \\text{Exponential}(1)\n",
    "\\end{align*}\n",
    "$$\n",
    "where $\\log (y_i)$ is the standardized log GDP and $r_i$ is the standardized ruggedness. If $r_i = \\bar{r}$, we have that $\\alpha = \\mu_i$ and since the mean of the standardized log GDP is $1$, as a first guess, it makes sense to prescribe $\\alpha \\sim N( 1, 1 )$. We want to allow both positive and negative slopes without preference for any. As a first guess, we prescribe $\\beta \\sim N( 0, 1 )$."
   ]
  },
  {
   "cell_type": "markdown",
   "id": "caroline-rotation",
   "metadata": {},
   "source": [
    "### Code 8.2"
   ]
  },
  {
   "cell_type": "code",
   "execution_count": 9,
   "id": "coral-reliance",
   "metadata": {},
   "outputs": [
    {
     "name": "stderr",
     "output_type": "stream",
     "text": [
      "Auto-assigning NUTS sampler...\n",
      "Initializing NUTS using jitter+adapt_diag...\n",
      "Multiprocess sampling (4 chains in 4 jobs)\n",
      "NUTS: [sigma, b, a]\n"
     ]
    },
    {
     "data": {
      "text/html": [
       "\n",
       "    <div>\n",
       "        <style>\n",
       "            /* Turns off some styling */\n",
       "            progress {\n",
       "                /* gets rid of default border in Firefox and Opera. */\n",
       "                border: none;\n",
       "                /* Needs to be in here for Safari polyfill so background images work as expected. */\n",
       "                background-size: auto;\n",
       "            }\n",
       "            .progress-bar-interrupted, .progress-bar-interrupted::-webkit-progress-bar {\n",
       "                background: #F44336;\n",
       "            }\n",
       "        </style>\n",
       "      <progress value='8000' class='' max='8000' style='width:300px; height:20px; vertical-align: middle;'></progress>\n",
       "      100.00% [8000/8000 00:01<00:00 Sampling 4 chains, 0 divergences]\n",
       "    </div>\n",
       "    "
      ],
      "text/plain": [
       "<IPython.core.display.HTML object>"
      ]
     },
     "metadata": {},
     "output_type": "display_data"
    },
    {
     "name": "stderr",
     "output_type": "stream",
     "text": [
      "Sampling 4 chains for 1_000 tune and 1_000 draw iterations (4_000 + 4_000 draws total) took 2 seconds.\n"
     ]
    }
   ],
   "source": [
    "mean_rugged = np.mean(df_gdp['rugged_std'])\n",
    "\n",
    "with pm.Model() as m_8_1:\n",
    "    a = pm.Normal('a', mu=1, sigma=1)\n",
    "    b = pm.Normal('b', mu=0, sigma=1)\n",
    "    sigma = pm.Exponential('sigma', lam=1)\n",
    "    \n",
    "    mu = pm.Deterministic('mu', a + b * (df_gdp['rugged_std'] - mean_rugged))\n",
    "    log_gdp_std = pm.Normal('log_gdp_std', mu=mu, sigma=sigma, observed=df_gdp['log_gdp_std'])\n",
    "    \n",
    "    trace_8_1 = pm.sample(1000, tune=1000)"
   ]
  },
  {
   "cell_type": "code",
   "execution_count": 10,
   "id": "advised-hopkins",
   "metadata": {},
   "outputs": [
    {
     "name": "stderr",
     "output_type": "stream",
     "text": [
      "Auto-assigning NUTS sampler...\n",
      "Initializing NUTS using jitter+adapt_diag...\n",
      "Multiprocess sampling (4 chains in 4 jobs)\n",
      "NUTS: [sigma, b, a]\n"
     ]
    },
    {
     "data": {
      "text/html": [
       "\n",
       "    <div>\n",
       "        <style>\n",
       "            /* Turns off some styling */\n",
       "            progress {\n",
       "                /* gets rid of default border in Firefox and Opera. */\n",
       "                border: none;\n",
       "                /* Needs to be in here for Safari polyfill so background images work as expected. */\n",
       "                background-size: auto;\n",
       "            }\n",
       "            .progress-bar-interrupted, .progress-bar-interrupted::-webkit-progress-bar {\n",
       "                background: #F44336;\n",
       "            }\n",
       "        </style>\n",
       "      <progress value='8000' class='' max='8000' style='width:300px; height:20px; vertical-align: middle;'></progress>\n",
       "      100.00% [8000/8000 00:01<00:00 Sampling 4 chains, 0 divergences]\n",
       "    </div>\n",
       "    "
      ],
      "text/plain": [
       "<IPython.core.display.HTML object>"
      ]
     },
     "metadata": {},
     "output_type": "display_data"
    },
    {
     "name": "stderr",
     "output_type": "stream",
     "text": [
      "Sampling 4 chains for 1_000 tune and 1_000 draw iterations (4_000 + 4_000 draws total) took 2 seconds.\n"
     ]
    }
   ],
   "source": [
    "with pm.Model() as m_8_1t:\n",
    "    a = pm.Normal('a', mu=1, sigma=0.1)\n",
    "    b = pm.Normal('b', mu=0, sigma=0.3)\n",
    "    sigma = pm.Exponential('sigma', lam=1)\n",
    "    \n",
    "    mu = pm.Deterministic('mu', a + b * (df_gdp['rugged_std'] - mean_rugged))\n",
    "    log_gdp_std = pm.Normal('log_gdp_std', mu=mu, sigma=sigma, observed=df_gdp['log_gdp_std'])\n",
    "    \n",
    "    trace_8_1t = pm.sample(1000, tune=1000)"
   ]
  },
  {
   "cell_type": "markdown",
   "id": "automatic-canvas",
   "metadata": {},
   "source": [
    "### Code 8.3"
   ]
  },
  {
   "cell_type": "code",
   "execution_count": 11,
   "id": "colored-potato",
   "metadata": {},
   "outputs": [],
   "source": [
    "N_OBS = 50\n",
    "\n",
    "with m_8_1:\n",
    "    m_8_1_prior = pm.sample_prior_predictive(samples=N_OBS)\n",
    "    \n",
    "with m_8_1t:\n",
    "    m_8_1t_prior = pm.sample_prior_predictive(samples=N_OBS)"
   ]
  },
  {
   "cell_type": "code",
   "execution_count": 12,
   "id": "bright-template",
   "metadata": {},
   "outputs": [
    {
     "data": {
      "image/png": "[encoded data removed]",
      "text/plain": [
       "<Figure size 720x576 with 2 Axes>"
      ]
     },
     "metadata": {
      "needs_background": "light"
     },
     "output_type": "display_data"
    }
   ],
   "source": [
    "fig, (ax1, ax2) = plt.subplots(1, 2, figsize=(10, 8))\n",
    "\n",
    "\n",
    "rugged_xvals = np.linspace(0.0, 1.0, num=N_OBS)\n",
    "\n",
    "matrix_1 = m_8_1_prior['a'].reshape(1, -1) + rugged_xvals.reshape(-1, 1) * m_8_1_prior['b'].reshape(1, -1)\n",
    "matrix_2 = m_8_1t_prior['a'].reshape(1, -1) + rugged_xvals.reshape(-1, 1) * m_8_1t_prior['b'].reshape(1, -1)\n",
    "\n",
    "ax1.plot(rugged_xvals, matrix_1, color=\"k\", lw=1, alpha=0.3)\n",
    "ax1.set_title(r'$\\alpha \\sim N(1, 1)$ and $\\beta \\sim N(0, 1)$')\n",
    "\n",
    "ax2.plot(rugged_xvals, matrix_2, color=\"k\", lw=1, alpha=0.3)\n",
    "ax2.set_title(r'$\\alpha \\sim N(1, 0.1)$ and $\\beta \\sim N(0, 0.3)$')\n",
    "plt.show()"
   ]
  }
 ],
 "metadata": {
  "kernelspec": {
   "display_name": "stat-rethink",
   "language": "python",
   "name": "stat-rethink"
  },
  "language_info": {
   "codemirror_mode": {
    "name": "ipython",
    "version": 3
   },
   "file_extension": ".py",
   "mimetype": "text/x-python",
   "name": "python",
   "nbconvert_exporter": "python",
   "pygments_lexer": "ipython3",
   "version": "3.9.2"
  }
 },
 "nbformat": 4,
 "nbformat_minor": 5
}
