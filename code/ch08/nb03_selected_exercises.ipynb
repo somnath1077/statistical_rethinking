{
 "cells": [
  {
   "cell_type": "code",
   "execution_count": 1,
   "id": "crude-sensitivity",
   "metadata": {},
   "outputs": [],
   "source": [
    "import arviz as az\n",
    "import matplotlib.pyplot as plt\n",
    "import numpy as np\n",
    "import pandas as pd\n",
    "import seaborn as sns\n",
    "import pymc3 as pm\n",
    "import warnings\n",
    "\n",
    "# Ignore a bunch of Arviz/pymc3 deprecated warnings\n",
    "warnings.filterwarnings('ignore')"
   ]
  },
  {
   "cell_type": "markdown",
   "id": "respective-steam",
   "metadata": {},
   "source": [
    "## 8H1"
   ]
  },
  {
   "cell_type": "code",
   "execution_count": 2,
   "id": "inner-winter",
   "metadata": {},
   "outputs": [
    {
     "data": {
      "text/plain": [
       "array(['a', 'b', 'c'], dtype=object)"
      ]
     },
     "execution_count": 2,
     "metadata": {},
     "output_type": "execute_result"
    }
   ],
   "source": [
    "TULIPS_DATA = '../../data/tulips.csv'\n",
    "df = pd.read_csv(f'{TULIPS_DATA}')\n",
    "df['bed'].unique()"
   ]
  },
  {
   "cell_type": "markdown",
   "id": "coastal-hepatitis",
   "metadata": {},
   "source": [
    "### The Model\n",
    "\n",
    "We create an index variable for `bed`. The model is modified as follows:\n",
    "$$\n",
    "\\begin{align*}\n",
    "~ B_i      & \\sim N(\\mu_i, \\sigma) \\\\\n",
    "\\mu_i      & = \\alpha + \\beta_W (W_i - \\bar{W}) + \\beta_S (S_i - \\bar{S}) \n",
    "                      + \\beta_{WS} (W_i - \\bar{W}) (S_i - \\bar{S}) \n",
    "                      + \\beta_{a} \\text{Bed}_{a} + \\beta_{b} \\text{Bed}_{b} + \\beta_{c} \\text{Bed}_{c} \\\\\n",
    "\\alpha     & \\sim N(0.5, 0.25) \\\\\n",
    "\\beta_W    & \\sim N(0, 0.25) \\\\\n",
    "\\beta_S    & \\sim N(0, 0.25) \\\\\n",
    "\\beta_{WS} & \\sim N(0, 0.25),\n",
    "\\end{align*}\n",
    "$$\n",
    "where $\\text{Bed}_{x} = 1$ for a data point iff that datum is from bed $x$. We still need priors for each of the $\\beta_{a}, \\beta_{b}, \\beta_{c}$. If we assume that the outcome `bloom` is determined by the `bed` alone and that none of the other factors (`shade` and `water`) play a role, then each of the $\\beta_{x}$ should be equal to the mean bloom size of $0.5$. If we assume that the prior distribution of $\\beta_{x}$ is normal and want $95\\%$ of the mass of the distribution to be within $[0, 1]$, the range of minimum to maximum bloom sizes, we would require the standard deviation to be $0.25$. "
   ]
  },
  {
   "cell_type": "code",
   "execution_count": 3,
   "id": "bigger-auckland",
   "metadata": {},
   "outputs": [],
   "source": [
    "df['blooms_std'] = df['blooms'] / df['blooms'].max()\n",
    "df['water_cent'] = df['water'] - df['water'].mean()\n",
    "df['shade_cent'] = df['shade'] - df['shade'].mean()\n",
    "\n",
    "df = pd.get_dummies(df, columns=['bed'], prefix='bed')"
   ]
  },
  {
   "cell_type": "code",
   "execution_count": 4,
   "id": "established-nature",
   "metadata": {},
   "outputs": [
    {
     "data": {
      "text/html": [
       "<div>\n",
       "<style scoped>\n",
       "    .dataframe tbody tr th:only-of-type {\n",
       "        vertical-align: middle;\n",
       "    }\n",
       "\n",
       "    .dataframe tbody tr th {\n",
       "        vertical-align: top;\n",
       "    }\n",
       "\n",
       "    .dataframe thead th {\n",
       "        text-align: right;\n",
       "    }\n",
       "</style>\n",
       "<table border=\"1\" class=\"dataframe\">\n",
       "  <thead>\n",
       "    <tr style=\"text-align: right;\">\n",
       "      <th></th>\n",
       "      <th>water</th>\n",
       "      <th>shade</th>\n",
       "      <th>blooms</th>\n",
       "      <th>blooms_std</th>\n",
       "      <th>water_cent</th>\n",
       "      <th>shade_cent</th>\n",
       "      <th>bed_a</th>\n",
       "      <th>bed_b</th>\n",
       "      <th>bed_c</th>\n",
       "    </tr>\n",
       "  </thead>\n",
       "  <tbody>\n",
       "    <tr>\n",
       "      <th>0</th>\n",
       "      <td>1</td>\n",
       "      <td>1</td>\n",
       "      <td>0.00</td>\n",
       "      <td>0.000000</td>\n",
       "      <td>-1.0</td>\n",
       "      <td>-1.0</td>\n",
       "      <td>1</td>\n",
       "      <td>0</td>\n",
       "      <td>0</td>\n",
       "    </tr>\n",
       "    <tr>\n",
       "      <th>1</th>\n",
       "      <td>1</td>\n",
       "      <td>2</td>\n",
       "      <td>0.00</td>\n",
       "      <td>0.000000</td>\n",
       "      <td>-1.0</td>\n",
       "      <td>0.0</td>\n",
       "      <td>1</td>\n",
       "      <td>0</td>\n",
       "      <td>0</td>\n",
       "    </tr>\n",
       "    <tr>\n",
       "      <th>2</th>\n",
       "      <td>1</td>\n",
       "      <td>3</td>\n",
       "      <td>111.04</td>\n",
       "      <td>0.307029</td>\n",
       "      <td>-1.0</td>\n",
       "      <td>1.0</td>\n",
       "      <td>1</td>\n",
       "      <td>0</td>\n",
       "      <td>0</td>\n",
       "    </tr>\n",
       "    <tr>\n",
       "      <th>3</th>\n",
       "      <td>2</td>\n",
       "      <td>1</td>\n",
       "      <td>183.47</td>\n",
       "      <td>0.507300</td>\n",
       "      <td>0.0</td>\n",
       "      <td>-1.0</td>\n",
       "      <td>1</td>\n",
       "      <td>0</td>\n",
       "      <td>0</td>\n",
       "    </tr>\n",
       "    <tr>\n",
       "      <th>4</th>\n",
       "      <td>2</td>\n",
       "      <td>2</td>\n",
       "      <td>59.16</td>\n",
       "      <td>0.163579</td>\n",
       "      <td>0.0</td>\n",
       "      <td>0.0</td>\n",
       "      <td>1</td>\n",
       "      <td>0</td>\n",
       "      <td>0</td>\n",
       "    </tr>\n",
       "  </tbody>\n",
       "</table>\n",
       "</div>"
      ],
      "text/plain": [
       "   water  shade  blooms  blooms_std  water_cent  shade_cent  bed_a  bed_b  \\\n",
       "0      1      1    0.00    0.000000        -1.0        -1.0      1      0   \n",
       "1      1      2    0.00    0.000000        -1.0         0.0      1      0   \n",
       "2      1      3  111.04    0.307029        -1.0         1.0      1      0   \n",
       "3      2      1  183.47    0.507300         0.0        -1.0      1      0   \n",
       "4      2      2   59.16    0.163579         0.0         0.0      1      0   \n",
       "\n",
       "   bed_c  \n",
       "0      0  \n",
       "1      0  \n",
       "2      0  \n",
       "3      0  \n",
       "4      0  "
      ]
     },
     "execution_count": 4,
     "metadata": {},
     "output_type": "execute_result"
    }
   ],
   "source": [
    "df.head()"
   ]
  },
  {
   "cell_type": "code",
   "execution_count": 5,
   "id": "infrared-summer",
   "metadata": {},
   "outputs": [
    {
     "name": "stderr",
     "output_type": "stream",
     "text": [
      "Auto-assigning NUTS sampler...\n",
      "Initializing NUTS using jitter+adapt_diag...\n",
      "Multiprocess sampling (4 chains in 4 jobs)\n",
      "NUTS: [sigma, bed, bws, bs, bw, a]\n"
     ]
    },
    {
     "data": {
      "text/html": [
       "\n",
       "    <div>\n",
       "        <style>\n",
       "            /* Turns off some styling */\n",
       "            progress {\n",
       "                /* gets rid of default border in Firefox and Opera. */\n",
       "                border: none;\n",
       "                /* Needs to be in here for Safari polyfill so background images work as expected. */\n",
       "                background-size: auto;\n",
       "            }\n",
       "            .progress-bar-interrupted, .progress-bar-interrupted::-webkit-progress-bar {\n",
       "                background: #F44336;\n",
       "            }\n",
       "        </style>\n",
       "      <progress value='10000' class='' max='10000' style='width:300px; height:20px; vertical-align: middle;'></progress>\n",
       "      100.00% [10000/10000 00:17<00:00 Sampling 4 chains, 2 divergences]\n",
       "    </div>\n",
       "    "
      ],
      "text/plain": [
       "<IPython.core.display.HTML object>"
      ]
     },
     "metadata": {},
     "output_type": "display_data"
    },
    {
     "name": "stderr",
     "output_type": "stream",
     "text": [
      "Sampling 4 chains for 2_000 tune and 500 draw iterations (8_000 + 2_000 draws total) took 18 seconds.\n",
      "There were 2 divergences after tuning. Increase `target_accept` or reparameterize.\n",
      "The number of effective samples is smaller than 25% for some parameters.\n"
     ]
    }
   ],
   "source": [
    "n_beds = 3\n",
    "\n",
    "with pm.Model() as m_8_5_cat:\n",
    "    a = pm.Normal('a', mu=0.5, sigma=0.25)\n",
    "    bw = pm.Normal('bw', mu=0, sigma=0.25)\n",
    "    bs = pm.Normal('bs', mu=0, sigma=0.25)\n",
    "    bws = pm.Normal('bws', mu=0, sigma=0.25)\n",
    "    bed = pm.Normal('bed', mu=0.5, sigma=0.25, shape=(n_beds))\n",
    "    \n",
    "    mu = pm.Deterministic('mu', a + bw * df['water_cent'] + bs * df['shade_cent'] + \n",
    "                          bws * df['water_cent'] * df['shade_cent'] + \n",
    "                          bed[0] * df['bed_a'] + bed[1] * df['bed_b'] + bed[2] * df['bed_c'])\n",
    "    sigma = pm.Exponential('sigma', lam=1)\n",
    "    \n",
    "    blooms_std = pm.Normal('blooms_std', mu=mu, sigma=sigma, observed=df['blooms_std'])\n",
    "    \n",
    "    trace_8_5_cat = pm.sample(500, tune=2000)"
   ]
  },
  {
   "cell_type": "code",
   "execution_count": 6,
   "id": "silver-internet",
   "metadata": {},
   "outputs": [
    {
     "data": {
      "text/html": [
       "<div>\n",
       "<style scoped>\n",
       "    .dataframe tbody tr th:only-of-type {\n",
       "        vertical-align: middle;\n",
       "    }\n",
       "\n",
       "    .dataframe tbody tr th {\n",
       "        vertical-align: top;\n",
       "    }\n",
       "\n",
       "    .dataframe thead th {\n",
       "        text-align: right;\n",
       "    }\n",
       "</style>\n",
       "<table border=\"1\" class=\"dataframe\">\n",
       "  <thead>\n",
       "    <tr style=\"text-align: right;\">\n",
       "      <th></th>\n",
       "      <th>mean</th>\n",
       "      <th>sd</th>\n",
       "      <th>hdi_5.5%</th>\n",
       "      <th>hdi_94.5%</th>\n",
       "      <th>mcse_mean</th>\n",
       "      <th>mcse_sd</th>\n",
       "      <th>ess_bulk</th>\n",
       "      <th>ess_tail</th>\n",
       "      <th>r_hat</th>\n",
       "    </tr>\n",
       "  </thead>\n",
       "  <tbody>\n",
       "    <tr>\n",
       "      <th>sigma</th>\n",
       "      <td>0.131</td>\n",
       "      <td>0.021</td>\n",
       "      <td>0.097</td>\n",
       "      <td>0.161</td>\n",
       "      <td>0.001</td>\n",
       "      <td>0.001</td>\n",
       "      <td>817.0</td>\n",
       "      <td>663.0</td>\n",
       "      <td>1.00</td>\n",
       "    </tr>\n",
       "    <tr>\n",
       "      <th>bed[0]</th>\n",
       "      <td>0.246</td>\n",
       "      <td>0.128</td>\n",
       "      <td>0.044</td>\n",
       "      <td>0.450</td>\n",
       "      <td>0.006</td>\n",
       "      <td>0.004</td>\n",
       "      <td>493.0</td>\n",
       "      <td>761.0</td>\n",
       "      <td>1.01</td>\n",
       "    </tr>\n",
       "    <tr>\n",
       "      <th>bed[1]</th>\n",
       "      <td>0.368</td>\n",
       "      <td>0.128</td>\n",
       "      <td>0.166</td>\n",
       "      <td>0.573</td>\n",
       "      <td>0.006</td>\n",
       "      <td>0.004</td>\n",
       "      <td>515.0</td>\n",
       "      <td>821.0</td>\n",
       "      <td>1.01</td>\n",
       "    </tr>\n",
       "    <tr>\n",
       "      <th>bed[2]</th>\n",
       "      <td>0.382</td>\n",
       "      <td>0.128</td>\n",
       "      <td>0.180</td>\n",
       "      <td>0.586</td>\n",
       "      <td>0.006</td>\n",
       "      <td>0.004</td>\n",
       "      <td>514.0</td>\n",
       "      <td>783.0</td>\n",
       "      <td>1.01</td>\n",
       "    </tr>\n",
       "    <tr>\n",
       "      <th>bws</th>\n",
       "      <td>-0.142</td>\n",
       "      <td>0.038</td>\n",
       "      <td>-0.206</td>\n",
       "      <td>-0.086</td>\n",
       "      <td>0.001</td>\n",
       "      <td>0.001</td>\n",
       "      <td>1912.0</td>\n",
       "      <td>1300.0</td>\n",
       "      <td>1.01</td>\n",
       "    </tr>\n",
       "    <tr>\n",
       "      <th>bs</th>\n",
       "      <td>-0.113</td>\n",
       "      <td>0.032</td>\n",
       "      <td>-0.163</td>\n",
       "      <td>-0.064</td>\n",
       "      <td>0.001</td>\n",
       "      <td>0.001</td>\n",
       "      <td>1399.0</td>\n",
       "      <td>1080.0</td>\n",
       "      <td>1.01</td>\n",
       "    </tr>\n",
       "    <tr>\n",
       "      <th>bw</th>\n",
       "      <td>0.206</td>\n",
       "      <td>0.032</td>\n",
       "      <td>0.154</td>\n",
       "      <td>0.255</td>\n",
       "      <td>0.001</td>\n",
       "      <td>0.001</td>\n",
       "      <td>1593.0</td>\n",
       "      <td>1209.0</td>\n",
       "      <td>1.00</td>\n",
       "    </tr>\n",
       "    <tr>\n",
       "      <th>a</th>\n",
       "      <td>0.030</td>\n",
       "      <td>0.125</td>\n",
       "      <td>-0.169</td>\n",
       "      <td>0.227</td>\n",
       "      <td>0.006</td>\n",
       "      <td>0.004</td>\n",
       "      <td>506.0</td>\n",
       "      <td>741.0</td>\n",
       "      <td>1.01</td>\n",
       "    </tr>\n",
       "  </tbody>\n",
       "</table>\n",
       "</div>"
      ],
      "text/plain": [
       "         mean     sd  hdi_5.5%  hdi_94.5%  mcse_mean  mcse_sd  ess_bulk  \\\n",
       "sigma   0.131  0.021     0.097      0.161      0.001    0.001     817.0   \n",
       "bed[0]  0.246  0.128     0.044      0.450      0.006    0.004     493.0   \n",
       "bed[1]  0.368  0.128     0.166      0.573      0.006    0.004     515.0   \n",
       "bed[2]  0.382  0.128     0.180      0.586      0.006    0.004     514.0   \n",
       "bws    -0.142  0.038    -0.206     -0.086      0.001    0.001    1912.0   \n",
       "bs     -0.113  0.032    -0.163     -0.064      0.001    0.001    1399.0   \n",
       "bw      0.206  0.032     0.154      0.255      0.001    0.001    1593.0   \n",
       "a       0.030  0.125    -0.169      0.227      0.006    0.004     506.0   \n",
       "\n",
       "        ess_tail  r_hat  \n",
       "sigma      663.0   1.00  \n",
       "bed[0]     761.0   1.01  \n",
       "bed[1]     821.0   1.01  \n",
       "bed[2]     783.0   1.01  \n",
       "bws       1300.0   1.01  \n",
       "bs        1080.0   1.01  \n",
       "bw        1209.0   1.00  \n",
       "a          741.0   1.01  "
      ]
     },
     "execution_count": 6,
     "metadata": {},
     "output_type": "execute_result"
    }
   ],
   "source": [
    "az.summary(trace_8_5_cat, var_names=['sigma', 'bed', 'bws', 'bs', 'bw', 'a'], hdi_prob=0.89)"
   ]
  },
  {
   "cell_type": "markdown",
   "id": "generic-rating",
   "metadata": {},
   "source": [
    "### Discussion\n",
    "\n",
    "The estimates of $\\beta_w$, $\\beta_s$ and $\\beta_{ws}$ are almost the same as in model m_8_5. The estimate of $\\alpha$ has changed and there seems to be little association with the outcome. This model seems to equivalent to one in which we omit the intercept $\\alpha$ altogether and have a different intercept for each `bed`."
   ]
  },
  {
   "cell_type": "code",
   "execution_count": 7,
   "id": "republican-diamond",
   "metadata": {},
   "outputs": [
    {
     "name": "stderr",
     "output_type": "stream",
     "text": [
      "Auto-assigning NUTS sampler...\n",
      "Initializing NUTS using jitter+adapt_diag...\n",
      "Multiprocess sampling (4 chains in 4 jobs)\n",
      "NUTS: [sigma, bed, bws, bs, bw]\n"
     ]
    },
    {
     "data": {
      "text/html": [
       "\n",
       "    <div>\n",
       "        <style>\n",
       "            /* Turns off some styling */\n",
       "            progress {\n",
       "                /* gets rid of default border in Firefox and Opera. */\n",
       "                border: none;\n",
       "                /* Needs to be in here for Safari polyfill so background images work as expected. */\n",
       "                background-size: auto;\n",
       "            }\n",
       "            .progress-bar-interrupted, .progress-bar-interrupted::-webkit-progress-bar {\n",
       "                background: #F44336;\n",
       "            }\n",
       "        </style>\n",
       "      <progress value='10000' class='' max='10000' style='width:300px; height:20px; vertical-align: middle;'></progress>\n",
       "      100.00% [10000/10000 00:09<00:00 Sampling 4 chains, 0 divergences]\n",
       "    </div>\n",
       "    "
      ],
      "text/plain": [
       "<IPython.core.display.HTML object>"
      ]
     },
     "metadata": {},
     "output_type": "display_data"
    },
    {
     "name": "stderr",
     "output_type": "stream",
     "text": [
      "Sampling 4 chains for 2_000 tune and 500 draw iterations (8_000 + 2_000 draws total) took 10 seconds.\n"
     ]
    }
   ],
   "source": [
    "n_beds = 3\n",
    "\n",
    "with pm.Model() as m_8_5_cat2:\n",
    "    bw = pm.Normal('bw', mu=0, sigma=0.25)\n",
    "    bs = pm.Normal('bs', mu=0, sigma=0.25)\n",
    "    bws = pm.Normal('bws', mu=0, sigma=0.25)\n",
    "    bed = pm.Normal('bed', mu=0.5, sigma=0.25, shape=(n_beds))\n",
    "    \n",
    "    mu = pm.Deterministic('mu', bw * df['water_cent'] + bs * df['shade_cent'] + \n",
    "                          bws * df['water_cent'] * df['shade_cent'] + \n",
    "                          bed[0] * df['bed_a'] + bed[1] * df['bed_b'] + bed[2] * df['bed_c'])\n",
    "    sigma = pm.Exponential('sigma', lam=1)\n",
    "    \n",
    "    blooms_std = pm.Normal('blooms_std', mu=mu, sigma=sigma, observed=df['blooms_std'])\n",
    "    \n",
    "    trace_8_5_cat2 = pm.sample(500, tune=2000)"
   ]
  },
  {
   "cell_type": "code",
   "execution_count": 8,
   "id": "injured-pearl",
   "metadata": {},
   "outputs": [
    {
     "data": {
      "text/html": [
       "<div>\n",
       "<style scoped>\n",
       "    .dataframe tbody tr th:only-of-type {\n",
       "        vertical-align: middle;\n",
       "    }\n",
       "\n",
       "    .dataframe tbody tr th {\n",
       "        vertical-align: top;\n",
       "    }\n",
       "\n",
       "    .dataframe thead th {\n",
       "        text-align: right;\n",
       "    }\n",
       "</style>\n",
       "<table border=\"1\" class=\"dataframe\">\n",
       "  <thead>\n",
       "    <tr style=\"text-align: right;\">\n",
       "      <th></th>\n",
       "      <th>mean</th>\n",
       "      <th>sd</th>\n",
       "      <th>hdi_5.5%</th>\n",
       "      <th>hdi_94.5%</th>\n",
       "      <th>mcse_mean</th>\n",
       "      <th>mcse_sd</th>\n",
       "      <th>ess_bulk</th>\n",
       "      <th>ess_tail</th>\n",
       "      <th>r_hat</th>\n",
       "    </tr>\n",
       "  </thead>\n",
       "  <tbody>\n",
       "    <tr>\n",
       "      <th>sigma</th>\n",
       "      <td>0.129</td>\n",
       "      <td>0.022</td>\n",
       "      <td>0.097</td>\n",
       "      <td>0.160</td>\n",
       "      <td>0.001</td>\n",
       "      <td>0.000</td>\n",
       "      <td>1416.0</td>\n",
       "      <td>1507.0</td>\n",
       "      <td>1.00</td>\n",
       "    </tr>\n",
       "    <tr>\n",
       "      <th>bed[0]</th>\n",
       "      <td>0.276</td>\n",
       "      <td>0.041</td>\n",
       "      <td>0.210</td>\n",
       "      <td>0.344</td>\n",
       "      <td>0.001</td>\n",
       "      <td>0.001</td>\n",
       "      <td>2673.0</td>\n",
       "      <td>1670.0</td>\n",
       "      <td>1.00</td>\n",
       "    </tr>\n",
       "    <tr>\n",
       "      <th>bed[1]</th>\n",
       "      <td>0.397</td>\n",
       "      <td>0.040</td>\n",
       "      <td>0.331</td>\n",
       "      <td>0.456</td>\n",
       "      <td>0.001</td>\n",
       "      <td>0.001</td>\n",
       "      <td>2694.0</td>\n",
       "      <td>1754.0</td>\n",
       "      <td>1.00</td>\n",
       "    </tr>\n",
       "    <tr>\n",
       "      <th>bed[2]</th>\n",
       "      <td>0.411</td>\n",
       "      <td>0.043</td>\n",
       "      <td>0.334</td>\n",
       "      <td>0.470</td>\n",
       "      <td>0.001</td>\n",
       "      <td>0.001</td>\n",
       "      <td>2667.0</td>\n",
       "      <td>1555.0</td>\n",
       "      <td>1.00</td>\n",
       "    </tr>\n",
       "    <tr>\n",
       "      <th>bws</th>\n",
       "      <td>-0.143</td>\n",
       "      <td>0.036</td>\n",
       "      <td>-0.194</td>\n",
       "      <td>-0.079</td>\n",
       "      <td>0.001</td>\n",
       "      <td>0.001</td>\n",
       "      <td>2319.0</td>\n",
       "      <td>1198.0</td>\n",
       "      <td>1.00</td>\n",
       "    </tr>\n",
       "    <tr>\n",
       "      <th>bs</th>\n",
       "      <td>-0.113</td>\n",
       "      <td>0.030</td>\n",
       "      <td>-0.161</td>\n",
       "      <td>-0.064</td>\n",
       "      <td>0.001</td>\n",
       "      <td>0.000</td>\n",
       "      <td>3263.0</td>\n",
       "      <td>1248.0</td>\n",
       "      <td>1.01</td>\n",
       "    </tr>\n",
       "    <tr>\n",
       "      <th>bw</th>\n",
       "      <td>0.207</td>\n",
       "      <td>0.030</td>\n",
       "      <td>0.163</td>\n",
       "      <td>0.258</td>\n",
       "      <td>0.001</td>\n",
       "      <td>0.000</td>\n",
       "      <td>2191.0</td>\n",
       "      <td>1486.0</td>\n",
       "      <td>1.00</td>\n",
       "    </tr>\n",
       "  </tbody>\n",
       "</table>\n",
       "</div>"
      ],
      "text/plain": [
       "         mean     sd  hdi_5.5%  hdi_94.5%  mcse_mean  mcse_sd  ess_bulk  \\\n",
       "sigma   0.129  0.022     0.097      0.160      0.001    0.000    1416.0   \n",
       "bed[0]  0.276  0.041     0.210      0.344      0.001    0.001    2673.0   \n",
       "bed[1]  0.397  0.040     0.331      0.456      0.001    0.001    2694.0   \n",
       "bed[2]  0.411  0.043     0.334      0.470      0.001    0.001    2667.0   \n",
       "bws    -0.143  0.036    -0.194     -0.079      0.001    0.001    2319.0   \n",
       "bs     -0.113  0.030    -0.161     -0.064      0.001    0.000    3263.0   \n",
       "bw      0.207  0.030     0.163      0.258      0.001    0.000    2191.0   \n",
       "\n",
       "        ess_tail  r_hat  \n",
       "sigma     1507.0   1.00  \n",
       "bed[0]    1670.0   1.00  \n",
       "bed[1]    1754.0   1.00  \n",
       "bed[2]    1555.0   1.00  \n",
       "bws       1198.0   1.00  \n",
       "bs        1248.0   1.01  \n",
       "bw        1486.0   1.00  "
      ]
     },
     "execution_count": 8,
     "metadata": {},
     "output_type": "execute_result"
    }
   ],
   "source": [
    "az.summary(trace_8_5_cat2, var_names=['sigma', 'bed', 'bws', 'bs', 'bw'], hdi_prob=0.89)"
   ]
  },
  {
   "cell_type": "code",
   "execution_count": 9,
   "id": "chief-junction",
   "metadata": {},
   "outputs": [
    {
     "data": {
      "image/png": "[encoded data removed]",
      "text/plain": [
       "<Figure size 1490.4x331.2 with 3 Axes>"
      ]
     },
     "metadata": {
      "needs_background": "light"
     },
     "output_type": "display_data"
    }
   ],
   "source": [
    "az.plot_posterior(trace_8_5_cat2, var_names=['bed'])\n",
    "plt.show()"
   ]
  },
  {
   "cell_type": "markdown",
   "id": "informational-convertible",
   "metadata": {},
   "source": [
    "## The Original Interaction Model"
   ]
  },
  {
   "cell_type": "code",
   "execution_count": 10,
   "id": "loving-praise",
   "metadata": {},
   "outputs": [
    {
     "name": "stderr",
     "output_type": "stream",
     "text": [
      "Auto-assigning NUTS sampler...\n",
      "Initializing NUTS using jitter+adapt_diag...\n",
      "Multiprocess sampling (4 chains in 4 jobs)\n",
      "NUTS: [sigma, bws, bs, bw, a]\n"
     ]
    },
    {
     "data": {
      "text/html": [
       "\n",
       "    <div>\n",
       "        <style>\n",
       "            /* Turns off some styling */\n",
       "            progress {\n",
       "                /* gets rid of default border in Firefox and Opera. */\n",
       "                border: none;\n",
       "                /* Needs to be in here for Safari polyfill so background images work as expected. */\n",
       "                background-size: auto;\n",
       "            }\n",
       "            .progress-bar-interrupted, .progress-bar-interrupted::-webkit-progress-bar {\n",
       "                background: #F44336;\n",
       "            }\n",
       "        </style>\n",
       "      <progress value='8000' class='' max='8000' style='width:300px; height:20px; vertical-align: middle;'></progress>\n",
       "      100.00% [8000/8000 00:06<00:00 Sampling 4 chains, 0 divergences]\n",
       "    </div>\n",
       "    "
      ],
      "text/plain": [
       "<IPython.core.display.HTML object>"
      ]
     },
     "metadata": {},
     "output_type": "display_data"
    },
    {
     "name": "stderr",
     "output_type": "stream",
     "text": [
      "Sampling 4 chains for 1_000 tune and 1_000 draw iterations (4_000 + 4_000 draws total) took 7 seconds.\n"
     ]
    }
   ],
   "source": [
    "with pm.Model() as m_8_5:\n",
    "    a = pm.Normal('a', mu=0.5, sigma=0.25)\n",
    "    bw = pm.Normal('bw', mu=0, sigma=0.25)\n",
    "    bs = pm.Normal('bs', mu=0, sigma=0.25)\n",
    "    bws = pm.Normal('bws', mu=0, sigma=0.25)\n",
    "    \n",
    "    mu = pm.Deterministic('mu', a + bw * df['water_cent'] + bs * df['shade_cent'] + \n",
    "                          bws * df['water_cent'] * df['shade_cent'])\n",
    "    sigma = pm.Exponential('sigma', lam=1)\n",
    "    \n",
    "    blooms_std = pm.Normal('blooms_std', mu=mu, sigma=sigma, observed=df['blooms_std'])\n",
    "    \n",
    "    trace_8_5 = pm.sample(1000, tune=1000)"
   ]
  },
  {
   "cell_type": "code",
   "execution_count": 11,
   "id": "quality-income",
   "metadata": {},
   "outputs": [
    {
     "data": {
      "text/html": [
       "<div>\n",
       "<style scoped>\n",
       "    .dataframe tbody tr th:only-of-type {\n",
       "        vertical-align: middle;\n",
       "    }\n",
       "\n",
       "    .dataframe tbody tr th {\n",
       "        vertical-align: top;\n",
       "    }\n",
       "\n",
       "    .dataframe thead th {\n",
       "        text-align: right;\n",
       "    }\n",
       "</style>\n",
       "<table border=\"1\" class=\"dataframe\">\n",
       "  <thead>\n",
       "    <tr style=\"text-align: right;\">\n",
       "      <th></th>\n",
       "      <th>rank</th>\n",
       "      <th>waic</th>\n",
       "      <th>p_waic</th>\n",
       "      <th>d_waic</th>\n",
       "      <th>weight</th>\n",
       "      <th>se</th>\n",
       "      <th>dse</th>\n",
       "      <th>warning</th>\n",
       "      <th>waic_scale</th>\n",
       "    </tr>\n",
       "  </thead>\n",
       "  <tbody>\n",
       "    <tr>\n",
       "      <th>m_8_5_c</th>\n",
       "      <td>0</td>\n",
       "      <td>-28.814964</td>\n",
       "      <td>5.663355</td>\n",
       "      <td>0.000000</td>\n",
       "      <td>0.826706</td>\n",
       "      <td>6.353372</td>\n",
       "      <td>0.00000</td>\n",
       "      <td>True</td>\n",
       "      <td>deviance</td>\n",
       "    </tr>\n",
       "    <tr>\n",
       "      <th>m_8_5</th>\n",
       "      <td>1</td>\n",
       "      <td>-24.721990</td>\n",
       "      <td>4.387504</td>\n",
       "      <td>4.092974</td>\n",
       "      <td>0.173294</td>\n",
       "      <td>7.329925</td>\n",
       "      <td>5.07606</td>\n",
       "      <td>True</td>\n",
       "      <td>deviance</td>\n",
       "    </tr>\n",
       "  </tbody>\n",
       "</table>\n",
       "</div>"
      ],
      "text/plain": [
       "         rank       waic    p_waic    d_waic    weight        se      dse  \\\n",
       "m_8_5_c     0 -28.814964  5.663355  0.000000  0.826706  6.353372  0.00000   \n",
       "m_8_5       1 -24.721990  4.387504  4.092974  0.173294  7.329925  5.07606   \n",
       "\n",
       "         warning waic_scale  \n",
       "m_8_5_c     True   deviance  \n",
       "m_8_5       True   deviance  "
      ]
     },
     "execution_count": 11,
     "metadata": {},
     "output_type": "execute_result"
    }
   ],
   "source": [
    "trace_dict = {'m_8_5': trace_8_5, 'm_8_5_c': trace_8_5_cat2}\n",
    "az.compare(trace_dict, ic='waic', scale='deviance')"
   ]
  }
 ],
 "metadata": {
  "kernelspec": {
   "display_name": "stat-rethink",
   "language": "python",
   "name": "stat-rethink"
  },
  "language_info": {
   "codemirror_mode": {
    "name": "ipython",
    "version": 3
   },
   "file_extension": ".py",
   "mimetype": "text/x-python",
   "name": "python",
   "nbconvert_exporter": "python",
   "pygments_lexer": "ipython3",
   "version": "3.9.2"
  }
 },
 "nbformat": 4,
 "nbformat_minor": 5
}
