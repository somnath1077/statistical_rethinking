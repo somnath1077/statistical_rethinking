{
 "cells": [
  {
   "cell_type": "code",
   "execution_count": 1,
   "id": "excellent-chart",
   "metadata": {},
   "outputs": [],
   "source": [
    "import arviz as az\n",
    "import matplotlib.pyplot as plt\n",
    "import numpy as np\n",
    "import pandas as pd\n",
    "import seaborn as sns\n",
    "import pymc3 as pm\n",
    "import warnings\n",
    "\n",
    "# Ignore a bunch of Arviz/pymc3 deprecated warnings\n",
    "warnings.filterwarnings('ignore')"
   ]
  },
  {
   "cell_type": "markdown",
   "id": "rolled-inspection",
   "metadata": {},
   "source": [
    "## 8H1"
   ]
  },
  {
   "cell_type": "code",
   "execution_count": 2,
   "id": "living-mistress",
   "metadata": {},
   "outputs": [
    {
     "data": {
      "text/plain": [
       "array(['a', 'b', 'c'], dtype=object)"
      ]
     },
     "execution_count": 2,
     "metadata": {},
     "output_type": "execute_result"
    }
   ],
   "source": [
    "TULIPS_DATA = '../../data/tulips.csv'\n",
    "df = pd.read_csv(f'{TULIPS_DATA}')\n",
    "df['bed'].unique()"
   ]
  },
  {
   "cell_type": "markdown",
   "id": "alike-letters",
   "metadata": {},
   "source": [
    "### The Model\n",
    "\n",
    "We create an index variable for `bed`. The model is modified as follows:\n",
    "$$\n",
    "\\begin{align*}\n",
    "~ B_i      & \\sim N(\\mu_i, \\sigma) \\\\\n",
    "\\mu_i      & = \\alpha + \\beta_W (W_i - \\bar{W}) + \\beta_S (S_i - \\bar{S}) \n",
    "                      + \\beta_{WS} (W_i - \\bar{W}) (S_i - \\bar{S}) \n",
    "                      + \\beta_{a} \\text{Bed}_{a} + \\beta_{b} \\text{Bed}_{b} + \\beta_{c} \\text{Bed}_{c} \\\\\n",
    "\\alpha     & \\sim N(0.5, 0.25) \\\\\n",
    "\\beta_W    & \\sim N(0, 0.25) \\\\\n",
    "\\beta_S    & \\sim N(0, 0.25) \\\\\n",
    "\\beta_{WS} & \\sim N(0, 0.25),\n",
    "\\end{align*}\n",
    "$$\n",
    "where $\\text{Bed}_{x} = 1$ for a data point iff that datum is from bed $x$. We still need priors for each of the $\\beta_{a}, \\beta_{b}, \\beta_{c}$. If we assume that the outcome `bloom` is determined by the `bed` alone and that none of the other factors (`shade` and `water`) play a role, then each of the $\\beta_{x}$ should be equal to the mean bloom size of $0.5$. If we assume that the prior distribution of $\\beta_{x}$ is normal and want $95\\%$ of the mass of the distribution to be within $[0, 1]$, the range of minimum to maximum bloom sizes, we would require the standard deviation to be $0.25$. "
   ]
  },
  {
   "cell_type": "code",
   "execution_count": 3,
   "id": "sacred-mortality",
   "metadata": {},
   "outputs": [],
   "source": [
    "df['blooms_std'] = df['blooms'] / df['blooms'].max()\n",
    "df['water_cent'] = df['water'] - df['water'].mean()\n",
    "df['shade_cent'] = df['shade'] - df['shade'].mean()\n",
    "\n",
    "df = pd.get_dummies(df, columns=['bed'], prefix='bed')"
   ]
  },
  {
   "cell_type": "code",
   "execution_count": 4,
   "id": "hearing-raising",
   "metadata": {},
   "outputs": [
    {
     "data": {
      "text/html": [
       "<div>\n",
       "<style scoped>\n",
       "    .dataframe tbody tr th:only-of-type {\n",
       "        vertical-align: middle;\n",
       "    }\n",
       "\n",
       "    .dataframe tbody tr th {\n",
       "        vertical-align: top;\n",
       "    }\n",
       "\n",
       "    .dataframe thead th {\n",
       "        text-align: right;\n",
       "    }\n",
       "</style>\n",
       "<table border=\"1\" class=\"dataframe\">\n",
       "  <thead>\n",
       "    <tr style=\"text-align: right;\">\n",
       "      <th></th>\n",
       "      <th>water</th>\n",
       "      <th>shade</th>\n",
       "      <th>blooms</th>\n",
       "      <th>blooms_std</th>\n",
       "      <th>water_cent</th>\n",
       "      <th>shade_cent</th>\n",
       "      <th>bed_a</th>\n",
       "      <th>bed_b</th>\n",
       "      <th>bed_c</th>\n",
       "    </tr>\n",
       "  </thead>\n",
       "  <tbody>\n",
       "    <tr>\n",
       "      <th>0</th>\n",
       "      <td>1</td>\n",
       "      <td>1</td>\n",
       "      <td>0.00</td>\n",
       "      <td>0.000000</td>\n",
       "      <td>-1.0</td>\n",
       "      <td>-1.0</td>\n",
       "      <td>1</td>\n",
       "      <td>0</td>\n",
       "      <td>0</td>\n",
       "    </tr>\n",
       "    <tr>\n",
       "      <th>1</th>\n",
       "      <td>1</td>\n",
       "      <td>2</td>\n",
       "      <td>0.00</td>\n",
       "      <td>0.000000</td>\n",
       "      <td>-1.0</td>\n",
       "      <td>0.0</td>\n",
       "      <td>1</td>\n",
       "      <td>0</td>\n",
       "      <td>0</td>\n",
       "    </tr>\n",
       "    <tr>\n",
       "      <th>2</th>\n",
       "      <td>1</td>\n",
       "      <td>3</td>\n",
       "      <td>111.04</td>\n",
       "      <td>0.307029</td>\n",
       "      <td>-1.0</td>\n",
       "      <td>1.0</td>\n",
       "      <td>1</td>\n",
       "      <td>0</td>\n",
       "      <td>0</td>\n",
       "    </tr>\n",
       "    <tr>\n",
       "      <th>3</th>\n",
       "      <td>2</td>\n",
       "      <td>1</td>\n",
       "      <td>183.47</td>\n",
       "      <td>0.507300</td>\n",
       "      <td>0.0</td>\n",
       "      <td>-1.0</td>\n",
       "      <td>1</td>\n",
       "      <td>0</td>\n",
       "      <td>0</td>\n",
       "    </tr>\n",
       "    <tr>\n",
       "      <th>4</th>\n",
       "      <td>2</td>\n",
       "      <td>2</td>\n",
       "      <td>59.16</td>\n",
       "      <td>0.163579</td>\n",
       "      <td>0.0</td>\n",
       "      <td>0.0</td>\n",
       "      <td>1</td>\n",
       "      <td>0</td>\n",
       "      <td>0</td>\n",
       "    </tr>\n",
       "  </tbody>\n",
       "</table>\n",
       "</div>"
      ],
      "text/plain": [
       "   water  shade  blooms  blooms_std  water_cent  shade_cent  bed_a  bed_b  \\\n",
       "0      1      1    0.00    0.000000        -1.0        -1.0      1      0   \n",
       "1      1      2    0.00    0.000000        -1.0         0.0      1      0   \n",
       "2      1      3  111.04    0.307029        -1.0         1.0      1      0   \n",
       "3      2      1  183.47    0.507300         0.0        -1.0      1      0   \n",
       "4      2      2   59.16    0.163579         0.0         0.0      1      0   \n",
       "\n",
       "   bed_c  \n",
       "0      0  \n",
       "1      0  \n",
       "2      0  \n",
       "3      0  \n",
       "4      0  "
      ]
     },
     "execution_count": 4,
     "metadata": {},
     "output_type": "execute_result"
    }
   ],
   "source": [
    "df.head()"
   ]
  },
  {
   "cell_type": "code",
   "execution_count": 5,
   "id": "floral-bosnia",
   "metadata": {},
   "outputs": [
    {
     "name": "stderr",
     "output_type": "stream",
     "text": [
      "Auto-assigning NUTS sampler...\n",
      "Initializing NUTS using jitter+adapt_diag...\n",
      "Multiprocess sampling (4 chains in 4 jobs)\n",
      "NUTS: [sigma, bed, bws, bs, bw, a]\n"
     ]
    },
    {
     "data": {
      "text/html": [
       "\n",
       "    <div>\n",
       "        <style>\n",
       "            /* Turns off some styling */\n",
       "            progress {\n",
       "                /* gets rid of default border in Firefox and Opera. */\n",
       "                border: none;\n",
       "                /* Needs to be in here for Safari polyfill so background images work as expected. */\n",
       "                background-size: auto;\n",
       "            }\n",
       "            .progress-bar-interrupted, .progress-bar-interrupted::-webkit-progress-bar {\n",
       "                background: #F44336;\n",
       "            }\n",
       "        </style>\n",
       "      <progress value='10000' class='' max='10000' style='width:300px; height:20px; vertical-align: middle;'></progress>\n",
       "      100.00% [10000/10000 00:18<00:00 Sampling 4 chains, 3 divergences]\n",
       "    </div>\n",
       "    "
      ],
      "text/plain": [
       "<IPython.core.display.HTML object>"
      ]
     },
     "metadata": {},
     "output_type": "display_data"
    },
    {
     "name": "stderr",
     "output_type": "stream",
     "text": [
      "Sampling 4 chains for 2_000 tune and 500 draw iterations (8_000 + 2_000 draws total) took 19 seconds.\n",
      "There was 1 divergence after tuning. Increase `target_accept` or reparameterize.\n",
      "There was 1 divergence after tuning. Increase `target_accept` or reparameterize.\n",
      "There was 1 divergence after tuning. Increase `target_accept` or reparameterize.\n"
     ]
    }
   ],
   "source": [
    "n_beds = 3\n",
    "\n",
    "with pm.Model() as m_8_5_cat:\n",
    "    a = pm.Normal('a', mu=0.5, sigma=0.25)\n",
    "    bw = pm.Normal('bw', mu=0, sigma=0.25)\n",
    "    bs = pm.Normal('bs', mu=0, sigma=0.25)\n",
    "    bws = pm.Normal('bws', mu=0, sigma=0.25)\n",
    "    bed = pm.Normal('bed', mu=0.5, sigma=0.25, shape=(n_beds))\n",
    "    \n",
    "    mu = pm.Deterministic('mu', a + bw * df['water_cent'] + bs * df['shade_cent'] + \n",
    "                          bws * df['water_cent'] * df['shade_cent'] + \n",
    "                          bed[0] * df['bed_a'] + bed[1] * df['bed_b'] + bed[2] * df['bed_c'])\n",
    "    sigma = pm.Exponential('sigma', lam=1)\n",
    "    \n",
    "    blooms_std = pm.Normal('blooms_std', mu=mu, sigma=sigma, observed=df['blooms_std'])\n",
    "    \n",
    "    trace_8_5_cat = pm.sample(500, tune=2000)"
   ]
  },
  {
   "cell_type": "code",
   "execution_count": 6,
   "id": "geographic-ivory",
   "metadata": {},
   "outputs": [
    {
     "data": {
      "text/html": [
       "<div>\n",
       "<style scoped>\n",
       "    .dataframe tbody tr th:only-of-type {\n",
       "        vertical-align: middle;\n",
       "    }\n",
       "\n",
       "    .dataframe tbody tr th {\n",
       "        vertical-align: top;\n",
       "    }\n",
       "\n",
       "    .dataframe thead th {\n",
       "        text-align: right;\n",
       "    }\n",
       "</style>\n",
       "<table border=\"1\" class=\"dataframe\">\n",
       "  <thead>\n",
       "    <tr style=\"text-align: right;\">\n",
       "      <th></th>\n",
       "      <th>mean</th>\n",
       "      <th>sd</th>\n",
       "      <th>hdi_5.5%</th>\n",
       "      <th>hdi_94.5%</th>\n",
       "      <th>mcse_mean</th>\n",
       "      <th>mcse_sd</th>\n",
       "      <th>ess_bulk</th>\n",
       "      <th>ess_tail</th>\n",
       "      <th>r_hat</th>\n",
       "    </tr>\n",
       "  </thead>\n",
       "  <tbody>\n",
       "    <tr>\n",
       "      <th>sigma</th>\n",
       "      <td>0.132</td>\n",
       "      <td>0.022</td>\n",
       "      <td>0.101</td>\n",
       "      <td>0.166</td>\n",
       "      <td>0.001</td>\n",
       "      <td>0.000</td>\n",
       "      <td>941.0</td>\n",
       "      <td>824.0</td>\n",
       "      <td>1.00</td>\n",
       "    </tr>\n",
       "    <tr>\n",
       "      <th>bed[0]</th>\n",
       "      <td>0.254</td>\n",
       "      <td>0.126</td>\n",
       "      <td>0.046</td>\n",
       "      <td>0.452</td>\n",
       "      <td>0.005</td>\n",
       "      <td>0.003</td>\n",
       "      <td>657.0</td>\n",
       "      <td>1010.0</td>\n",
       "      <td>1.01</td>\n",
       "    </tr>\n",
       "    <tr>\n",
       "      <th>bed[1]</th>\n",
       "      <td>0.379</td>\n",
       "      <td>0.125</td>\n",
       "      <td>0.197</td>\n",
       "      <td>0.595</td>\n",
       "      <td>0.005</td>\n",
       "      <td>0.003</td>\n",
       "      <td>637.0</td>\n",
       "      <td>958.0</td>\n",
       "      <td>1.01</td>\n",
       "    </tr>\n",
       "    <tr>\n",
       "      <th>bed[2]</th>\n",
       "      <td>0.390</td>\n",
       "      <td>0.127</td>\n",
       "      <td>0.191</td>\n",
       "      <td>0.595</td>\n",
       "      <td>0.005</td>\n",
       "      <td>0.003</td>\n",
       "      <td>681.0</td>\n",
       "      <td>921.0</td>\n",
       "      <td>1.00</td>\n",
       "    </tr>\n",
       "    <tr>\n",
       "      <th>bws</th>\n",
       "      <td>-0.141</td>\n",
       "      <td>0.037</td>\n",
       "      <td>-0.200</td>\n",
       "      <td>-0.078</td>\n",
       "      <td>0.001</td>\n",
       "      <td>0.001</td>\n",
       "      <td>1675.0</td>\n",
       "      <td>1228.0</td>\n",
       "      <td>1.00</td>\n",
       "    </tr>\n",
       "    <tr>\n",
       "      <th>bs</th>\n",
       "      <td>-0.113</td>\n",
       "      <td>0.032</td>\n",
       "      <td>-0.164</td>\n",
       "      <td>-0.065</td>\n",
       "      <td>0.001</td>\n",
       "      <td>0.001</td>\n",
       "      <td>1650.0</td>\n",
       "      <td>1182.0</td>\n",
       "      <td>1.00</td>\n",
       "    </tr>\n",
       "    <tr>\n",
       "      <th>bw</th>\n",
       "      <td>0.206</td>\n",
       "      <td>0.030</td>\n",
       "      <td>0.160</td>\n",
       "      <td>0.253</td>\n",
       "      <td>0.001</td>\n",
       "      <td>0.001</td>\n",
       "      <td>1594.0</td>\n",
       "      <td>1192.0</td>\n",
       "      <td>1.01</td>\n",
       "    </tr>\n",
       "    <tr>\n",
       "      <th>a</th>\n",
       "      <td>0.020</td>\n",
       "      <td>0.122</td>\n",
       "      <td>-0.181</td>\n",
       "      <td>0.212</td>\n",
       "      <td>0.005</td>\n",
       "      <td>0.003</td>\n",
       "      <td>644.0</td>\n",
       "      <td>860.0</td>\n",
       "      <td>1.01</td>\n",
       "    </tr>\n",
       "  </tbody>\n",
       "</table>\n",
       "</div>"
      ],
      "text/plain": [
       "         mean     sd  hdi_5.5%  hdi_94.5%  mcse_mean  mcse_sd  ess_bulk  \\\n",
       "sigma   0.132  0.022     0.101      0.166      0.001    0.000     941.0   \n",
       "bed[0]  0.254  0.126     0.046      0.452      0.005    0.003     657.0   \n",
       "bed[1]  0.379  0.125     0.197      0.595      0.005    0.003     637.0   \n",
       "bed[2]  0.390  0.127     0.191      0.595      0.005    0.003     681.0   \n",
       "bws    -0.141  0.037    -0.200     -0.078      0.001    0.001    1675.0   \n",
       "bs     -0.113  0.032    -0.164     -0.065      0.001    0.001    1650.0   \n",
       "bw      0.206  0.030     0.160      0.253      0.001    0.001    1594.0   \n",
       "a       0.020  0.122    -0.181      0.212      0.005    0.003     644.0   \n",
       "\n",
       "        ess_tail  r_hat  \n",
       "sigma      824.0   1.00  \n",
       "bed[0]    1010.0   1.01  \n",
       "bed[1]     958.0   1.01  \n",
       "bed[2]     921.0   1.00  \n",
       "bws       1228.0   1.00  \n",
       "bs        1182.0   1.00  \n",
       "bw        1192.0   1.01  \n",
       "a          860.0   1.01  "
      ]
     },
     "execution_count": 6,
     "metadata": {},
     "output_type": "execute_result"
    }
   ],
   "source": [
    "az.summary(trace_8_5_cat, var_names=['sigma', 'bed', 'bws', 'bs', 'bw', 'a'], hdi_prob=0.89)"
   ]
  },
  {
   "cell_type": "markdown",
   "id": "educated-first",
   "metadata": {},
   "source": [
    "### Discussion\n",
    "\n",
    "The estimates of $\\beta_w$, $\\beta_s$ and $\\beta_{ws}$ are almost the same as in model m_8_5. The estimate of $\\alpha$ has changed and there seems to be little association with the outcome. This model seems to equivalent to one in which we omit the intercept $\\alpha$ altogether and have a different intercept for each `bed`."
   ]
  },
  {
   "cell_type": "code",
   "execution_count": 7,
   "id": "matched-population",
   "metadata": {},
   "outputs": [
    {
     "name": "stderr",
     "output_type": "stream",
     "text": [
      "Auto-assigning NUTS sampler...\n",
      "Initializing NUTS using jitter+adapt_diag...\n",
      "Multiprocess sampling (4 chains in 4 jobs)\n",
      "NUTS: [sigma, bed, bws, bs, bw]\n"
     ]
    },
    {
     "data": {
      "text/html": [
       "\n",
       "    <div>\n",
       "        <style>\n",
       "            /* Turns off some styling */\n",
       "            progress {\n",
       "                /* gets rid of default border in Firefox and Opera. */\n",
       "                border: none;\n",
       "                /* Needs to be in here for Safari polyfill so background images work as expected. */\n",
       "                background-size: auto;\n",
       "            }\n",
       "            .progress-bar-interrupted, .progress-bar-interrupted::-webkit-progress-bar {\n",
       "                background: #F44336;\n",
       "            }\n",
       "        </style>\n",
       "      <progress value='10000' class='' max='10000' style='width:300px; height:20px; vertical-align: middle;'></progress>\n",
       "      100.00% [10000/10000 00:08<00:00 Sampling 4 chains, 0 divergences]\n",
       "    </div>\n",
       "    "
      ],
      "text/plain": [
       "<IPython.core.display.HTML object>"
      ]
     },
     "metadata": {},
     "output_type": "display_data"
    },
    {
     "name": "stderr",
     "output_type": "stream",
     "text": [
      "Sampling 4 chains for 2_000 tune and 500 draw iterations (8_000 + 2_000 draws total) took 9 seconds.\n"
     ]
    }
   ],
   "source": [
    "n_beds = 3\n",
    "\n",
    "with pm.Model() as m_8_5_cat2:\n",
    "    bw = pm.Normal('bw', mu=0, sigma=0.25)\n",
    "    bs = pm.Normal('bs', mu=0, sigma=0.25)\n",
    "    bws = pm.Normal('bws', mu=0, sigma=0.25)\n",
    "    bed = pm.Normal('bed', mu=0.5, sigma=0.25, shape=(n_beds))\n",
    "    \n",
    "    mu = pm.Deterministic('mu', bw * df['water_cent'] + bs * df['shade_cent'] + \n",
    "                          bws * df['water_cent'] * df['shade_cent'] + \n",
    "                          bed[0] * df['bed_a'] + bed[1] * df['bed_b'] + bed[2] * df['bed_c'])\n",
    "    sigma = pm.Exponential('sigma', lam=1)\n",
    "    \n",
    "    blooms_std = pm.Normal('blooms_std', mu=mu, sigma=sigma, observed=df['blooms_std'])\n",
    "    \n",
    "    trace_8_5_cat2 = pm.sample(500, tune=2000)"
   ]
  },
  {
   "cell_type": "code",
   "execution_count": 8,
   "id": "paperback-painting",
   "metadata": {},
   "outputs": [
    {
     "data": {
      "text/html": [
       "<div>\n",
       "<style scoped>\n",
       "    .dataframe tbody tr th:only-of-type {\n",
       "        vertical-align: middle;\n",
       "    }\n",
       "\n",
       "    .dataframe tbody tr th {\n",
       "        vertical-align: top;\n",
       "    }\n",
       "\n",
       "    .dataframe thead th {\n",
       "        text-align: right;\n",
       "    }\n",
       "</style>\n",
       "<table border=\"1\" class=\"dataframe\">\n",
       "  <thead>\n",
       "    <tr style=\"text-align: right;\">\n",
       "      <th></th>\n",
       "      <th>mean</th>\n",
       "      <th>sd</th>\n",
       "      <th>hdi_5.5%</th>\n",
       "      <th>hdi_94.5%</th>\n",
       "      <th>mcse_mean</th>\n",
       "      <th>mcse_sd</th>\n",
       "      <th>ess_bulk</th>\n",
       "      <th>ess_tail</th>\n",
       "      <th>r_hat</th>\n",
       "    </tr>\n",
       "  </thead>\n",
       "  <tbody>\n",
       "    <tr>\n",
       "      <th>sigma</th>\n",
       "      <td>0.130</td>\n",
       "      <td>0.021</td>\n",
       "      <td>0.098</td>\n",
       "      <td>0.161</td>\n",
       "      <td>0.001</td>\n",
       "      <td>0.000</td>\n",
       "      <td>1608.0</td>\n",
       "      <td>1391.0</td>\n",
       "      <td>1.00</td>\n",
       "    </tr>\n",
       "    <tr>\n",
       "      <th>bed[0]</th>\n",
       "      <td>0.274</td>\n",
       "      <td>0.043</td>\n",
       "      <td>0.206</td>\n",
       "      <td>0.342</td>\n",
       "      <td>0.001</td>\n",
       "      <td>0.001</td>\n",
       "      <td>2525.0</td>\n",
       "      <td>1789.0</td>\n",
       "      <td>1.00</td>\n",
       "    </tr>\n",
       "    <tr>\n",
       "      <th>bed[1]</th>\n",
       "      <td>0.397</td>\n",
       "      <td>0.043</td>\n",
       "      <td>0.330</td>\n",
       "      <td>0.466</td>\n",
       "      <td>0.001</td>\n",
       "      <td>0.001</td>\n",
       "      <td>2178.0</td>\n",
       "      <td>1520.0</td>\n",
       "      <td>1.00</td>\n",
       "    </tr>\n",
       "    <tr>\n",
       "      <th>bed[2]</th>\n",
       "      <td>0.411</td>\n",
       "      <td>0.044</td>\n",
       "      <td>0.344</td>\n",
       "      <td>0.482</td>\n",
       "      <td>0.001</td>\n",
       "      <td>0.001</td>\n",
       "      <td>2510.0</td>\n",
       "      <td>1584.0</td>\n",
       "      <td>1.00</td>\n",
       "    </tr>\n",
       "    <tr>\n",
       "      <th>bws</th>\n",
       "      <td>-0.144</td>\n",
       "      <td>0.038</td>\n",
       "      <td>-0.206</td>\n",
       "      <td>-0.087</td>\n",
       "      <td>0.001</td>\n",
       "      <td>0.001</td>\n",
       "      <td>2327.0</td>\n",
       "      <td>1407.0</td>\n",
       "      <td>1.00</td>\n",
       "    </tr>\n",
       "    <tr>\n",
       "      <th>bs</th>\n",
       "      <td>-0.113</td>\n",
       "      <td>0.030</td>\n",
       "      <td>-0.164</td>\n",
       "      <td>-0.070</td>\n",
       "      <td>0.001</td>\n",
       "      <td>0.000</td>\n",
       "      <td>1963.0</td>\n",
       "      <td>1564.0</td>\n",
       "      <td>1.01</td>\n",
       "    </tr>\n",
       "    <tr>\n",
       "      <th>bw</th>\n",
       "      <td>0.207</td>\n",
       "      <td>0.031</td>\n",
       "      <td>0.155</td>\n",
       "      <td>0.252</td>\n",
       "      <td>0.001</td>\n",
       "      <td>0.000</td>\n",
       "      <td>2571.0</td>\n",
       "      <td>1465.0</td>\n",
       "      <td>1.00</td>\n",
       "    </tr>\n",
       "  </tbody>\n",
       "</table>\n",
       "</div>"
      ],
      "text/plain": [
       "         mean     sd  hdi_5.5%  hdi_94.5%  mcse_mean  mcse_sd  ess_bulk  \\\n",
       "sigma   0.130  0.021     0.098      0.161      0.001    0.000    1608.0   \n",
       "bed[0]  0.274  0.043     0.206      0.342      0.001    0.001    2525.0   \n",
       "bed[1]  0.397  0.043     0.330      0.466      0.001    0.001    2178.0   \n",
       "bed[2]  0.411  0.044     0.344      0.482      0.001    0.001    2510.0   \n",
       "bws    -0.144  0.038    -0.206     -0.087      0.001    0.001    2327.0   \n",
       "bs     -0.113  0.030    -0.164     -0.070      0.001    0.000    1963.0   \n",
       "bw      0.207  0.031     0.155      0.252      0.001    0.000    2571.0   \n",
       "\n",
       "        ess_tail  r_hat  \n",
       "sigma     1391.0   1.00  \n",
       "bed[0]    1789.0   1.00  \n",
       "bed[1]    1520.0   1.00  \n",
       "bed[2]    1584.0   1.00  \n",
       "bws       1407.0   1.00  \n",
       "bs        1564.0   1.01  \n",
       "bw        1465.0   1.00  "
      ]
     },
     "execution_count": 8,
     "metadata": {},
     "output_type": "execute_result"
    }
   ],
   "source": [
    "az.summary(trace_8_5_cat2, var_names=['sigma', 'bed', 'bws', 'bs', 'bw'], hdi_prob=0.89)"
   ]
  },
  {
   "cell_type": "code",
   "execution_count": 9,
   "id": "interpreted-evans",
   "metadata": {},
   "outputs": [
    {
     "data": {
      "image/png": "[encoded data removed]",
      "text/plain": [
       "<Figure size 1490.4x331.2 with 3 Axes>"
      ]
     },
     "metadata": {
      "needs_background": "light"
     },
     "output_type": "display_data"
    }
   ],
   "source": [
    "az.plot_posterior(trace_8_5_cat2, var_names=['bed'])\n",
    "plt.show()"
   ]
  },
  {
   "cell_type": "markdown",
   "id": "answering-heaven",
   "metadata": {},
   "source": [
    "## The Original Interaction Model"
   ]
  },
  {
   "cell_type": "code",
   "execution_count": 10,
   "id": "referenced-darwin",
   "metadata": {},
   "outputs": [
    {
     "name": "stderr",
     "output_type": "stream",
     "text": [
      "Auto-assigning NUTS sampler...\n",
      "Initializing NUTS using jitter+adapt_diag...\n",
      "Multiprocess sampling (4 chains in 4 jobs)\n",
      "NUTS: [sigma, bws, bs, bw, a]\n"
     ]
    },
    {
     "data": {
      "text/html": [
       "\n",
       "    <div>\n",
       "        <style>\n",
       "            /* Turns off some styling */\n",
       "            progress {\n",
       "                /* gets rid of default border in Firefox and Opera. */\n",
       "                border: none;\n",
       "                /* Needs to be in here for Safari polyfill so background images work as expected. */\n",
       "                background-size: auto;\n",
       "            }\n",
       "            .progress-bar-interrupted, .progress-bar-interrupted::-webkit-progress-bar {\n",
       "                background: #F44336;\n",
       "            }\n",
       "        </style>\n",
       "      <progress value='8000' class='' max='8000' style='width:300px; height:20px; vertical-align: middle;'></progress>\n",
       "      100.00% [8000/8000 00:06<00:00 Sampling 4 chains, 0 divergences]\n",
       "    </div>\n",
       "    "
      ],
      "text/plain": [
       "<IPython.core.display.HTML object>"
      ]
     },
     "metadata": {},
     "output_type": "display_data"
    },
    {
     "name": "stderr",
     "output_type": "stream",
     "text": [
      "Sampling 4 chains for 1_000 tune and 1_000 draw iterations (4_000 + 4_000 draws total) took 6 seconds.\n"
     ]
    }
   ],
   "source": [
    "with pm.Model() as m_8_5:\n",
    "    a = pm.Normal('a', mu=0.5, sigma=0.25)\n",
    "    bw = pm.Normal('bw', mu=0, sigma=0.25)\n",
    "    bs = pm.Normal('bs', mu=0, sigma=0.25)\n",
    "    bws = pm.Normal('bws', mu=0, sigma=0.25)\n",
    "    \n",
    "    mu = pm.Deterministic('mu', a + bw * df['water_cent'] + bs * df['shade_cent'] + \n",
    "                          bws * df['water_cent'] * df['shade_cent'])\n",
    "    sigma = pm.Exponential('sigma', lam=1)\n",
    "    \n",
    "    blooms_std = pm.Normal('blooms_std', mu=mu, sigma=sigma, observed=df['blooms_std'])\n",
    "    \n",
    "    trace_8_5 = pm.sample(1000, tune=1000)"
   ]
  },
  {
   "cell_type": "code",
   "execution_count": 11,
   "id": "touched-engine",
   "metadata": {},
   "outputs": [
    {
     "data": {
      "image/png": "[encoded data removed]",
      "text/plain": [
       "<Figure size 432x288 with 1 Axes>"
      ]
     },
     "metadata": {
      "needs_background": "light"
     },
     "output_type": "display_data"
    }
   ],
   "source": [
    "az.plot_posterior(trace_8_5, var_names=['a'])\n",
    "plt.show()"
   ]
  },
  {
   "cell_type": "code",
   "execution_count": 12,
   "id": "sudden-prisoner",
   "metadata": {},
   "outputs": [
    {
     "data": {
      "text/html": [
       "\n",
       "    <div>\n",
       "        <style>\n",
       "            /* Turns off some styling */\n",
       "            progress {\n",
       "                /* gets rid of default border in Firefox and Opera. */\n",
       "                border: none;\n",
       "                /* Needs to be in here for Safari polyfill so background images work as expected. */\n",
       "                background-size: auto;\n",
       "            }\n",
       "            .progress-bar-interrupted, .progress-bar-interrupted::-webkit-progress-bar {\n",
       "                background: #F44336;\n",
       "            }\n",
       "        </style>\n",
       "      <progress value='4000' class='' max='4000' style='width:300px; height:20px; vertical-align: middle;'></progress>\n",
       "      100.00% [4000/4000 00:00<00:00]\n",
       "    </div>\n",
       "    "
      ],
      "text/plain": [
       "<IPython.core.display.HTML object>"
      ]
     },
     "metadata": {},
     "output_type": "display_data"
    },
    {
     "data": {
      "text/html": [
       "\n",
       "    <div>\n",
       "        <style>\n",
       "            /* Turns off some styling */\n",
       "            progress {\n",
       "                /* gets rid of default border in Firefox and Opera. */\n",
       "                border: none;\n",
       "                /* Needs to be in here for Safari polyfill so background images work as expected. */\n",
       "                background-size: auto;\n",
       "            }\n",
       "            .progress-bar-interrupted, .progress-bar-interrupted::-webkit-progress-bar {\n",
       "                background: #F44336;\n",
       "            }\n",
       "        </style>\n",
       "      <progress value='2000' class='' max='2000' style='width:300px; height:20px; vertical-align: middle;'></progress>\n",
       "      100.00% [2000/2000 00:00<00:00]\n",
       "    </div>\n",
       "    "
      ],
      "text/plain": [
       "<IPython.core.display.HTML object>"
      ]
     },
     "metadata": {},
     "output_type": "display_data"
    }
   ],
   "source": [
    "with m_8_5:\n",
    "    m_8_5_post = pm.sample_posterior_predictive(trace_8_5, var_names=['a'])\n",
    "\n",
    "with m_8_5_cat2:\n",
    "    m_8_5_cat2_post = pm.sample_posterior_predictive(trace_8_5_cat2, var_names=['bed'])"
   ]
  },
  {
   "cell_type": "code",
   "execution_count": 13,
   "id": "essential-services",
   "metadata": {},
   "outputs": [
    {
     "data": {
      "text/plain": [
       "(2000, 3)"
      ]
     },
     "execution_count": 13,
     "metadata": {},
     "output_type": "execute_result"
    }
   ],
   "source": [
    "m_8_5_cat2_post['bed'].shape"
   ]
  },
  {
   "cell_type": "code",
   "execution_count": 14,
   "id": "beginning-progress",
   "metadata": {},
   "outputs": [],
   "source": [
    "alpha_mean = m_8_5_post['a'].mean()\n",
    "bed_a_mean = m_8_5_cat2_post['bed'][:, 0].mean()\n",
    "bed_b_mean = m_8_5_cat2_post['bed'][:, 1].mean()\n",
    "bed_c_mean = m_8_5_cat2_post['bed'][:, 2].mean()\n",
    "bed_mean = (bed_a_mean + bed_b_mean + bed_c_mean) / 3.0"
   ]
  },
  {
   "cell_type": "code",
   "execution_count": 15,
   "id": "continued-coach",
   "metadata": {},
   "outputs": [
    {
     "data": {
      "text/plain": [
       "(0.3583675349652538, 0.3607760037270447)"
      ]
     },
     "execution_count": 15,
     "metadata": {},
     "output_type": "execute_result"
    }
   ],
   "source": [
    "alpha_mean, bed_mean "
   ]
  },
  {
   "cell_type": "code",
   "execution_count": 16,
   "id": "contrary-primary",
   "metadata": {},
   "outputs": [
    {
     "data": {
      "text/html": [
       "<div>\n",
       "<style scoped>\n",
       "    .dataframe tbody tr th:only-of-type {\n",
       "        vertical-align: middle;\n",
       "    }\n",
       "\n",
       "    .dataframe tbody tr th {\n",
       "        vertical-align: top;\n",
       "    }\n",
       "\n",
       "    .dataframe thead th {\n",
       "        text-align: right;\n",
       "    }\n",
       "</style>\n",
       "<table border=\"1\" class=\"dataframe\">\n",
       "  <thead>\n",
       "    <tr style=\"text-align: right;\">\n",
       "      <th></th>\n",
       "      <th>rank</th>\n",
       "      <th>waic</th>\n",
       "      <th>p_waic</th>\n",
       "      <th>d_waic</th>\n",
       "      <th>weight</th>\n",
       "      <th>se</th>\n",
       "      <th>dse</th>\n",
       "      <th>warning</th>\n",
       "      <th>waic_scale</th>\n",
       "    </tr>\n",
       "  </thead>\n",
       "  <tbody>\n",
       "    <tr>\n",
       "      <th>m_8_5_c</th>\n",
       "      <td>0</td>\n",
       "      <td>-28.167086</td>\n",
       "      <td>5.915940</td>\n",
       "      <td>0.000000</td>\n",
       "      <td>0.742286</td>\n",
       "      <td>6.413671</td>\n",
       "      <td>0.000000</td>\n",
       "      <td>True</td>\n",
       "      <td>deviance</td>\n",
       "    </tr>\n",
       "    <tr>\n",
       "      <th>m_8_5</th>\n",
       "      <td>1</td>\n",
       "      <td>-25.041227</td>\n",
       "      <td>4.329204</td>\n",
       "      <td>3.125859</td>\n",
       "      <td>0.257714</td>\n",
       "      <td>7.492242</td>\n",
       "      <td>5.399398</td>\n",
       "      <td>True</td>\n",
       "      <td>deviance</td>\n",
       "    </tr>\n",
       "  </tbody>\n",
       "</table>\n",
       "</div>"
      ],
      "text/plain": [
       "         rank       waic    p_waic    d_waic    weight        se       dse  \\\n",
       "m_8_5_c     0 -28.167086  5.915940  0.000000  0.742286  6.413671  0.000000   \n",
       "m_8_5       1 -25.041227  4.329204  3.125859  0.257714  7.492242  5.399398   \n",
       "\n",
       "         warning waic_scale  \n",
       "m_8_5_c     True   deviance  \n",
       "m_8_5       True   deviance  "
      ]
     },
     "execution_count": 16,
     "metadata": {},
     "output_type": "execute_result"
    }
   ],
   "source": [
    "trace_dict = {'m_8_5': trace_8_5, 'm_8_5_c': trace_8_5_cat2}\n",
    "az.compare(trace_dict, ic='waic', scale='deviance')"
   ]
  }
 ],
 "metadata": {
  "kernelspec": {
   "display_name": "stat-rethink",
   "language": "python",
   "name": "stat-rethink"
  },
  "language_info": {
   "codemirror_mode": {
    "name": "ipython",
    "version": 3
   },
   "file_extension": ".py",
   "mimetype": "text/x-python",
   "name": "python",
   "nbconvert_exporter": "python",
   "pygments_lexer": "ipython3",
   "version": "3.9.2"
  }
 },
 "nbformat": 4,
 "nbformat_minor": 5
}
