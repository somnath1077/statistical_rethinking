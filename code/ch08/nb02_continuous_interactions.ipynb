{
 "cells": [
  {
   "cell_type": "code",
   "execution_count": 1,
   "id": "american-museum",
   "metadata": {},
   "outputs": [],
   "source": [
    "import arviz as az\n",
    "import matplotlib.pyplot as plt\n",
    "import numpy as np\n",
    "import pandas as pd\n",
    "import seaborn as sns\n",
    "import pymc3 as pm\n",
    "import warnings\n",
    "\n",
    "# Ignore a bunch of Arviz/pymc3 deprecated warnings\n",
    "warnings.filterwarnings('ignore')"
   ]
  },
  {
   "cell_type": "code",
   "execution_count": 2,
   "id": "interesting-phenomenon",
   "metadata": {},
   "outputs": [],
   "source": [
    "DATA_FOLDER = '../../data'\n",
    "TULIPS_DATA = 'tulips.csv'"
   ]
  },
  {
   "cell_type": "markdown",
   "id": "popular-cycle",
   "metadata": {},
   "source": [
    "### Code 8.19"
   ]
  },
  {
   "cell_type": "code",
   "execution_count": 3,
   "id": "handy-halifax",
   "metadata": {},
   "outputs": [
    {
     "data": {
      "text/html": [
       "<div>\n",
       "<style scoped>\n",
       "    .dataframe tbody tr th:only-of-type {\n",
       "        vertical-align: middle;\n",
       "    }\n",
       "\n",
       "    .dataframe tbody tr th {\n",
       "        vertical-align: top;\n",
       "    }\n",
       "\n",
       "    .dataframe thead th {\n",
       "        text-align: right;\n",
       "    }\n",
       "</style>\n",
       "<table border=\"1\" class=\"dataframe\">\n",
       "  <thead>\n",
       "    <tr style=\"text-align: right;\">\n",
       "      <th></th>\n",
       "      <th>bed</th>\n",
       "      <th>water</th>\n",
       "      <th>shade</th>\n",
       "      <th>blooms</th>\n",
       "    </tr>\n",
       "  </thead>\n",
       "  <tbody>\n",
       "    <tr>\n",
       "      <th>0</th>\n",
       "      <td>a</td>\n",
       "      <td>1</td>\n",
       "      <td>1</td>\n",
       "      <td>0.00</td>\n",
       "    </tr>\n",
       "    <tr>\n",
       "      <th>1</th>\n",
       "      <td>a</td>\n",
       "      <td>1</td>\n",
       "      <td>2</td>\n",
       "      <td>0.00</td>\n",
       "    </tr>\n",
       "    <tr>\n",
       "      <th>2</th>\n",
       "      <td>a</td>\n",
       "      <td>1</td>\n",
       "      <td>3</td>\n",
       "      <td>111.04</td>\n",
       "    </tr>\n",
       "    <tr>\n",
       "      <th>3</th>\n",
       "      <td>a</td>\n",
       "      <td>2</td>\n",
       "      <td>1</td>\n",
       "      <td>183.47</td>\n",
       "    </tr>\n",
       "    <tr>\n",
       "      <th>4</th>\n",
       "      <td>a</td>\n",
       "      <td>2</td>\n",
       "      <td>2</td>\n",
       "      <td>59.16</td>\n",
       "    </tr>\n",
       "  </tbody>\n",
       "</table>\n",
       "</div>"
      ],
      "text/plain": [
       "  bed  water  shade  blooms\n",
       "0   a      1      1    0.00\n",
       "1   a      1      2    0.00\n",
       "2   a      1      3  111.04\n",
       "3   a      2      1  183.47\n",
       "4   a      2      2   59.16"
      ]
     },
     "execution_count": 3,
     "metadata": {},
     "output_type": "execute_result"
    }
   ],
   "source": [
    "df = pd.read_csv(f'{DATA_FOLDER}/{TULIPS_DATA}')\n",
    "df.head()"
   ]
  },
  {
   "cell_type": "code",
   "execution_count": 4,
   "id": "rocky-spanish",
   "metadata": {},
   "outputs": [
    {
     "data": {
      "text/html": [
       "<div>\n",
       "<style scoped>\n",
       "    .dataframe tbody tr th:only-of-type {\n",
       "        vertical-align: middle;\n",
       "    }\n",
       "\n",
       "    .dataframe tbody tr th {\n",
       "        vertical-align: top;\n",
       "    }\n",
       "\n",
       "    .dataframe thead th {\n",
       "        text-align: right;\n",
       "    }\n",
       "</style>\n",
       "<table border=\"1\" class=\"dataframe\">\n",
       "  <thead>\n",
       "    <tr style=\"text-align: right;\">\n",
       "      <th></th>\n",
       "      <th>water</th>\n",
       "      <th>shade</th>\n",
       "      <th>blooms</th>\n",
       "    </tr>\n",
       "  </thead>\n",
       "  <tbody>\n",
       "    <tr>\n",
       "      <th>count</th>\n",
       "      <td>27.00000</td>\n",
       "      <td>27.00000</td>\n",
       "      <td>27.000000</td>\n",
       "    </tr>\n",
       "    <tr>\n",
       "      <th>mean</th>\n",
       "      <td>2.00000</td>\n",
       "      <td>2.00000</td>\n",
       "      <td>128.993704</td>\n",
       "    </tr>\n",
       "    <tr>\n",
       "      <th>std</th>\n",
       "      <td>0.83205</td>\n",
       "      <td>0.83205</td>\n",
       "      <td>92.683923</td>\n",
       "    </tr>\n",
       "    <tr>\n",
       "      <th>min</th>\n",
       "      <td>1.00000</td>\n",
       "      <td>1.00000</td>\n",
       "      <td>0.000000</td>\n",
       "    </tr>\n",
       "    <tr>\n",
       "      <th>25%</th>\n",
       "      <td>1.00000</td>\n",
       "      <td>1.00000</td>\n",
       "      <td>71.115000</td>\n",
       "    </tr>\n",
       "    <tr>\n",
       "      <th>50%</th>\n",
       "      <td>2.00000</td>\n",
       "      <td>2.00000</td>\n",
       "      <td>111.040000</td>\n",
       "    </tr>\n",
       "    <tr>\n",
       "      <th>75%</th>\n",
       "      <td>3.00000</td>\n",
       "      <td>3.00000</td>\n",
       "      <td>190.300000</td>\n",
       "    </tr>\n",
       "    <tr>\n",
       "      <th>max</th>\n",
       "      <td>3.00000</td>\n",
       "      <td>3.00000</td>\n",
       "      <td>361.660000</td>\n",
       "    </tr>\n",
       "  </tbody>\n",
       "</table>\n",
       "</div>"
      ],
      "text/plain": [
       "          water     shade      blooms\n",
       "count  27.00000  27.00000   27.000000\n",
       "mean    2.00000   2.00000  128.993704\n",
       "std     0.83205   0.83205   92.683923\n",
       "min     1.00000   1.00000    0.000000\n",
       "25%     1.00000   1.00000   71.115000\n",
       "50%     2.00000   2.00000  111.040000\n",
       "75%     3.00000   3.00000  190.300000\n",
       "max     3.00000   3.00000  361.660000"
      ]
     },
     "execution_count": 4,
     "metadata": {},
     "output_type": "execute_result"
    }
   ],
   "source": [
    "df[['water', 'shade', 'blooms']].describe()"
   ]
  },
  {
   "cell_type": "markdown",
   "id": "functioning-facial",
   "metadata": {},
   "source": [
    "## Model 1\n",
    "\n",
    "$$\n",
    "\\begin{align*}\n",
    "~ B_i & \\sim N(\\mu_i, \\sigma) \\\\\n",
    "\\mu_i & = \\alpha + \\beta_W (W_i - \\bar{W}) + \\beta_S (S_i - \\bar{S}) \n",
    "\\end{align*}\n",
    "$$"
   ]
  },
  {
   "cell_type": "markdown",
   "id": "premier-remainder",
   "metadata": {},
   "source": [
    "### Code 8.20"
   ]
  },
  {
   "cell_type": "code",
   "execution_count": 5,
   "id": "racial-spyware",
   "metadata": {},
   "outputs": [],
   "source": [
    "df['blooms_std'] = df['blooms'] / df['blooms'].max()\n",
    "df['water_cent'] = df['water'] - df['water'].mean()\n",
    "df['shade_cent'] = df['shade'] - df['shade'].mean()"
   ]
  },
  {
   "cell_type": "markdown",
   "id": "magnetic-reducing",
   "metadata": {},
   "source": [
    "At this point, $B_i \\in [0, 1]$ and both $W_i - \\bar{W}$ and $S_i - \\bar{S}$ take on values in $\\{-1, 0, 1\\}$. The prior for $\\alpha$ places $95\\%$ of the probability mass in the interval $[0, 1]$.\n",
    "$$\n",
    "    \\alpha \\sim N(0.5, 0.25). \n",
    "$$\n",
    "The priors for $\\beta_W$ and $\\beta_S$ are set to $N(0, 0.25)$ so that $95\\%$ of the mass is on slopes in the interval $[-0.5, 0.5]$. "
   ]
  },
  {
   "cell_type": "code",
   "execution_count": 6,
   "id": "meaningful-journey",
   "metadata": {},
   "outputs": [
    {
     "name": "stderr",
     "output_type": "stream",
     "text": [
      "Auto-assigning NUTS sampler...\n",
      "Initializing NUTS using jitter+adapt_diag...\n",
      "Multiprocess sampling (4 chains in 4 jobs)\n",
      "NUTS: [sigma, bs, bw, a]\n"
     ]
    },
    {
     "data": {
      "text/html": [
       "\n",
       "    <div>\n",
       "        <style>\n",
       "            /* Turns off some styling */\n",
       "            progress {\n",
       "                /* gets rid of default border in Firefox and Opera. */\n",
       "                border: none;\n",
       "                /* Needs to be in here for Safari polyfill so background images work as expected. */\n",
       "                background-size: auto;\n",
       "            }\n",
       "            .progress-bar-interrupted, .progress-bar-interrupted::-webkit-progress-bar {\n",
       "                background: #F44336;\n",
       "            }\n",
       "        </style>\n",
       "      <progress value='8000' class='' max='8000' style='width:300px; height:20px; vertical-align: middle;'></progress>\n",
       "      100.00% [8000/8000 00:01<00:00 Sampling 4 chains, 0 divergences]\n",
       "    </div>\n",
       "    "
      ],
      "text/plain": [
       "<IPython.core.display.HTML object>"
      ]
     },
     "metadata": {},
     "output_type": "display_data"
    },
    {
     "name": "stderr",
     "output_type": "stream",
     "text": [
      "Sampling 4 chains for 1_000 tune and 1_000 draw iterations (4_000 + 4_000 draws total) took 2 seconds.\n"
     ]
    }
   ],
   "source": [
    "with pm.Model() as m_8_4:\n",
    "    a = pm.Normal('a', mu=0.5, sigma=0.25)\n",
    "    bw = pm.Normal('bw', mu=0, sigma=0.25)\n",
    "    bs = pm.Normal('bs', mu=0, sigma=0.25)\n",
    "    \n",
    "    mu = pm.Deterministic('mu', a + bw * df['water_cent'] + bs * df['shade_cent'])\n",
    "    sigma = pm.Exponential('sigma', lam=1)\n",
    "    \n",
    "    blooms_std = pm.Normal('blooms_std', mu=mu, sigma=sigma, observed=df['blooms_std'])\n",
    "    \n",
    "    trace_8_4 = pm.sample(1000, tune=1000)"
   ]
  },
  {
   "cell_type": "code",
   "execution_count": 7,
   "id": "historical-logic",
   "metadata": {},
   "outputs": [
    {
     "data": {
      "text/html": [
       "<div>\n",
       "<style scoped>\n",
       "    .dataframe tbody tr th:only-of-type {\n",
       "        vertical-align: middle;\n",
       "    }\n",
       "\n",
       "    .dataframe tbody tr th {\n",
       "        vertical-align: top;\n",
       "    }\n",
       "\n",
       "    .dataframe thead th {\n",
       "        text-align: right;\n",
       "    }\n",
       "</style>\n",
       "<table border=\"1\" class=\"dataframe\">\n",
       "  <thead>\n",
       "    <tr style=\"text-align: right;\">\n",
       "      <th></th>\n",
       "      <th>mean</th>\n",
       "      <th>sd</th>\n",
       "      <th>hdi_5.5%</th>\n",
       "      <th>hdi_94.5%</th>\n",
       "      <th>mcse_mean</th>\n",
       "      <th>mcse_sd</th>\n",
       "      <th>ess_bulk</th>\n",
       "      <th>ess_tail</th>\n",
       "      <th>r_hat</th>\n",
       "    </tr>\n",
       "  </thead>\n",
       "  <tbody>\n",
       "    <tr>\n",
       "      <th>a</th>\n",
       "      <td>0.359</td>\n",
       "      <td>0.035</td>\n",
       "      <td>0.303</td>\n",
       "      <td>0.416</td>\n",
       "      <td>0.001</td>\n",
       "      <td>0.0</td>\n",
       "      <td>4927.0</td>\n",
       "      <td>2862.0</td>\n",
       "      <td>1.0</td>\n",
       "    </tr>\n",
       "    <tr>\n",
       "      <th>bw</th>\n",
       "      <td>0.203</td>\n",
       "      <td>0.043</td>\n",
       "      <td>0.134</td>\n",
       "      <td>0.270</td>\n",
       "      <td>0.001</td>\n",
       "      <td>0.0</td>\n",
       "      <td>4772.0</td>\n",
       "      <td>2888.0</td>\n",
       "      <td>1.0</td>\n",
       "    </tr>\n",
       "    <tr>\n",
       "      <th>bs</th>\n",
       "      <td>-0.112</td>\n",
       "      <td>0.042</td>\n",
       "      <td>-0.175</td>\n",
       "      <td>-0.044</td>\n",
       "      <td>0.001</td>\n",
       "      <td>0.0</td>\n",
       "      <td>4900.0</td>\n",
       "      <td>3058.0</td>\n",
       "      <td>1.0</td>\n",
       "    </tr>\n",
       "    <tr>\n",
       "      <th>sigma</th>\n",
       "      <td>0.177</td>\n",
       "      <td>0.027</td>\n",
       "      <td>0.135</td>\n",
       "      <td>0.217</td>\n",
       "      <td>0.000</td>\n",
       "      <td>0.0</td>\n",
       "      <td>4375.0</td>\n",
       "      <td>2559.0</td>\n",
       "      <td>1.0</td>\n",
       "    </tr>\n",
       "  </tbody>\n",
       "</table>\n",
       "</div>"
      ],
      "text/plain": [
       "        mean     sd  hdi_5.5%  hdi_94.5%  mcse_mean  mcse_sd  ess_bulk  \\\n",
       "a      0.359  0.035     0.303      0.416      0.001      0.0    4927.0   \n",
       "bw     0.203  0.043     0.134      0.270      0.001      0.0    4772.0   \n",
       "bs    -0.112  0.042    -0.175     -0.044      0.001      0.0    4900.0   \n",
       "sigma  0.177  0.027     0.135      0.217      0.000      0.0    4375.0   \n",
       "\n",
       "       ess_tail  r_hat  \n",
       "a        2862.0    1.0  \n",
       "bw       2888.0    1.0  \n",
       "bs       3058.0    1.0  \n",
       "sigma    2559.0    1.0  "
      ]
     },
     "execution_count": 7,
     "metadata": {},
     "output_type": "execute_result"
    }
   ],
   "source": [
    "az.summary(trace_8_4, var_names=['a', 'bw', 'bs', 'sigma'], hdi_prob=0.89)"
   ]
  },
  {
   "cell_type": "markdown",
   "id": "complete-oracle",
   "metadata": {},
   "source": [
    "## Model 2 (Simple Interaction)\n",
    "\n",
    "$$\n",
    "\\begin{align*}\n",
    "~ B_i      & \\sim N(\\mu_i, \\sigma) \\\\\n",
    "\\mu_i      & = \\alpha + \\beta_W (W_i - \\bar{W}) + \\beta_S (S_i - \\bar{S}) \n",
    "                      + \\beta_{WS} (W_i - \\bar{W}) (S_i - \\bar{S}) \\\\\n",
    "\\alpha     & \\sim N(0.5, 0.25) \\\\\n",
    "\\beta_W    & \\sim N(0, 0.25) \\\\\n",
    "\\beta_S    & \\sim N(0, 0.25) \\\\\n",
    "\\beta_{WS} & \\sim N(0, 0.25) \n",
    "\\end{align*}\n",
    "$$"
   ]
  },
  {
   "cell_type": "markdown",
   "id": "copyrighted-cuisine",
   "metadata": {},
   "source": [
    "### Code 8.24"
   ]
  },
  {
   "cell_type": "code",
   "execution_count": 8,
   "id": "automated-senegal",
   "metadata": {},
   "outputs": [
    {
     "name": "stderr",
     "output_type": "stream",
     "text": [
      "Auto-assigning NUTS sampler...\n",
      "Initializing NUTS using jitter+adapt_diag...\n",
      "Multiprocess sampling (4 chains in 4 jobs)\n",
      "NUTS: [sigma, bws, bs, bw, a]\n"
     ]
    },
    {
     "data": {
      "text/html": [
       "\n",
       "    <div>\n",
       "        <style>\n",
       "            /* Turns off some styling */\n",
       "            progress {\n",
       "                /* gets rid of default border in Firefox and Opera. */\n",
       "                border: none;\n",
       "                /* Needs to be in here for Safari polyfill so background images work as expected. */\n",
       "                background-size: auto;\n",
       "            }\n",
       "            .progress-bar-interrupted, .progress-bar-interrupted::-webkit-progress-bar {\n",
       "                background: #F44336;\n",
       "            }\n",
       "        </style>\n",
       "      <progress value='8000' class='' max='8000' style='width:300px; height:20px; vertical-align: middle;'></progress>\n",
       "      100.00% [8000/8000 00:02<00:00 Sampling 4 chains, 0 divergences]\n",
       "    </div>\n",
       "    "
      ],
      "text/plain": [
       "<IPython.core.display.HTML object>"
      ]
     },
     "metadata": {},
     "output_type": "display_data"
    },
    {
     "name": "stderr",
     "output_type": "stream",
     "text": [
      "Sampling 4 chains for 1_000 tune and 1_000 draw iterations (4_000 + 4_000 draws total) took 3 seconds.\n"
     ]
    }
   ],
   "source": [
    "with pm.Model() as m_8_5:\n",
    "    a = pm.Normal('a', mu=0.5, sigma=0.25)\n",
    "    bw = pm.Normal('bw', mu=0, sigma=0.25)\n",
    "    bs = pm.Normal('bs', mu=0, sigma=0.25)\n",
    "    bws = pm.Normal('bws', mu=0, sigma=0.25)\n",
    "    \n",
    "    mu = pm.Deterministic('mu', a + bw * df['water_cent'] + bs * df['shade_cent'] + \n",
    "                          bws * df['water_cent'] * df['shade_cent'])\n",
    "    sigma = pm.Exponential('sigma', lam=1)\n",
    "    \n",
    "    blooms_std = pm.Normal('blooms_std', mu=mu, sigma=sigma, observed=df['blooms_std'])\n",
    "    \n",
    "    trace_8_5 = pm.sample(1000, tune=1000)"
   ]
  },
  {
   "cell_type": "code",
   "execution_count": 9,
   "id": "contrary-female",
   "metadata": {},
   "outputs": [
    {
     "data": {
      "text/html": [
       "<div>\n",
       "<style scoped>\n",
       "    .dataframe tbody tr th:only-of-type {\n",
       "        vertical-align: middle;\n",
       "    }\n",
       "\n",
       "    .dataframe tbody tr th {\n",
       "        vertical-align: top;\n",
       "    }\n",
       "\n",
       "    .dataframe thead th {\n",
       "        text-align: right;\n",
       "    }\n",
       "</style>\n",
       "<table border=\"1\" class=\"dataframe\">\n",
       "  <thead>\n",
       "    <tr style=\"text-align: right;\">\n",
       "      <th></th>\n",
       "      <th>mean</th>\n",
       "      <th>sd</th>\n",
       "      <th>hdi_5.5%</th>\n",
       "      <th>hdi_94.5%</th>\n",
       "      <th>mcse_mean</th>\n",
       "      <th>mcse_sd</th>\n",
       "      <th>ess_bulk</th>\n",
       "      <th>ess_tail</th>\n",
       "      <th>r_hat</th>\n",
       "    </tr>\n",
       "  </thead>\n",
       "  <tbody>\n",
       "    <tr>\n",
       "      <th>a</th>\n",
       "      <td>0.359</td>\n",
       "      <td>0.027</td>\n",
       "      <td>0.317</td>\n",
       "      <td>0.403</td>\n",
       "      <td>0.000</td>\n",
       "      <td>0.0</td>\n",
       "      <td>5140.0</td>\n",
       "      <td>2919.0</td>\n",
       "      <td>1.0</td>\n",
       "    </tr>\n",
       "    <tr>\n",
       "      <th>bw</th>\n",
       "      <td>0.206</td>\n",
       "      <td>0.033</td>\n",
       "      <td>0.151</td>\n",
       "      <td>0.256</td>\n",
       "      <td>0.001</td>\n",
       "      <td>0.0</td>\n",
       "      <td>4370.0</td>\n",
       "      <td>2922.0</td>\n",
       "      <td>1.0</td>\n",
       "    </tr>\n",
       "    <tr>\n",
       "      <th>bs</th>\n",
       "      <td>-0.113</td>\n",
       "      <td>0.034</td>\n",
       "      <td>-0.165</td>\n",
       "      <td>-0.058</td>\n",
       "      <td>0.000</td>\n",
       "      <td>0.0</td>\n",
       "      <td>5407.0</td>\n",
       "      <td>2896.0</td>\n",
       "      <td>1.0</td>\n",
       "    </tr>\n",
       "    <tr>\n",
       "      <th>bws</th>\n",
       "      <td>-0.142</td>\n",
       "      <td>0.041</td>\n",
       "      <td>-0.216</td>\n",
       "      <td>-0.083</td>\n",
       "      <td>0.001</td>\n",
       "      <td>0.0</td>\n",
       "      <td>4824.0</td>\n",
       "      <td>3285.0</td>\n",
       "      <td>1.0</td>\n",
       "    </tr>\n",
       "    <tr>\n",
       "      <th>sigma</th>\n",
       "      <td>0.143</td>\n",
       "      <td>0.022</td>\n",
       "      <td>0.109</td>\n",
       "      <td>0.176</td>\n",
       "      <td>0.000</td>\n",
       "      <td>0.0</td>\n",
       "      <td>3548.0</td>\n",
       "      <td>2598.0</td>\n",
       "      <td>1.0</td>\n",
       "    </tr>\n",
       "  </tbody>\n",
       "</table>\n",
       "</div>"
      ],
      "text/plain": [
       "        mean     sd  hdi_5.5%  hdi_94.5%  mcse_mean  mcse_sd  ess_bulk  \\\n",
       "a      0.359  0.027     0.317      0.403      0.000      0.0    5140.0   \n",
       "bw     0.206  0.033     0.151      0.256      0.001      0.0    4370.0   \n",
       "bs    -0.113  0.034    -0.165     -0.058      0.000      0.0    5407.0   \n",
       "bws   -0.142  0.041    -0.216     -0.083      0.001      0.0    4824.0   \n",
       "sigma  0.143  0.022     0.109      0.176      0.000      0.0    3548.0   \n",
       "\n",
       "       ess_tail  r_hat  \n",
       "a        2919.0    1.0  \n",
       "bw       2922.0    1.0  \n",
       "bs       2896.0    1.0  \n",
       "bws      3285.0    1.0  \n",
       "sigma    2598.0    1.0  "
      ]
     },
     "execution_count": 9,
     "metadata": {},
     "output_type": "execute_result"
    }
   ],
   "source": [
    "az.summary(trace_8_5, var_names=['a', 'bw', 'bs', 'bws', 'sigma'], hdi_prob=0.89)"
   ]
  }
 ],
 "metadata": {
  "kernelspec": {
   "display_name": "stat-rethink",
   "language": "python",
   "name": "stat-rethink"
  },
  "language_info": {
   "codemirror_mode": {
    "name": "ipython",
    "version": 3
   },
   "file_extension": ".py",
   "mimetype": "text/x-python",
   "name": "python",
   "nbconvert_exporter": "python",
   "pygments_lexer": "ipython3",
   "version": "3.9.2"
  }
 },
 "nbformat": 4,
 "nbformat_minor": 5
}
