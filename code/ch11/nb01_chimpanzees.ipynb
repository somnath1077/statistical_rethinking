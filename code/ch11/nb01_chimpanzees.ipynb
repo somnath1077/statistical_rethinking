{
 "cells": [
  {
   "cell_type": "code",
   "execution_count": 1,
   "id": "498a627a",
   "metadata": {},
   "outputs": [],
   "source": [
    "import pandas as pd\n",
    "\n",
    "DATA_FILE = '../../data/chimpanzees.csv'"
   ]
  },
  {
   "cell_type": "code",
   "execution_count": 2,
   "id": "f1bcc23e",
   "metadata": {},
   "outputs": [
    {
     "data": {
      "text/html": [
       "<div>\n",
       "<style scoped>\n",
       "    .dataframe tbody tr th:only-of-type {\n",
       "        vertical-align: middle;\n",
       "    }\n",
       "\n",
       "    .dataframe tbody tr th {\n",
       "        vertical-align: top;\n",
       "    }\n",
       "\n",
       "    .dataframe thead th {\n",
       "        text-align: right;\n",
       "    }\n",
       "</style>\n",
       "<table border=\"1\" class=\"dataframe\">\n",
       "  <thead>\n",
       "    <tr style=\"text-align: right;\">\n",
       "      <th></th>\n",
       "      <th>actor</th>\n",
       "      <th>recipient</th>\n",
       "      <th>condition</th>\n",
       "      <th>block</th>\n",
       "      <th>trial</th>\n",
       "      <th>prosoc_left</th>\n",
       "      <th>chose_prosoc</th>\n",
       "      <th>pulled_left</th>\n",
       "    </tr>\n",
       "  </thead>\n",
       "  <tbody>\n",
       "    <tr>\n",
       "      <th>0</th>\n",
       "      <td>1</td>\n",
       "      <td>NaN</td>\n",
       "      <td>0</td>\n",
       "      <td>1</td>\n",
       "      <td>2</td>\n",
       "      <td>0</td>\n",
       "      <td>1</td>\n",
       "      <td>0</td>\n",
       "    </tr>\n",
       "    <tr>\n",
       "      <th>1</th>\n",
       "      <td>1</td>\n",
       "      <td>NaN</td>\n",
       "      <td>0</td>\n",
       "      <td>1</td>\n",
       "      <td>4</td>\n",
       "      <td>0</td>\n",
       "      <td>0</td>\n",
       "      <td>1</td>\n",
       "    </tr>\n",
       "    <tr>\n",
       "      <th>2</th>\n",
       "      <td>1</td>\n",
       "      <td>NaN</td>\n",
       "      <td>0</td>\n",
       "      <td>1</td>\n",
       "      <td>6</td>\n",
       "      <td>1</td>\n",
       "      <td>0</td>\n",
       "      <td>0</td>\n",
       "    </tr>\n",
       "    <tr>\n",
       "      <th>3</th>\n",
       "      <td>1</td>\n",
       "      <td>NaN</td>\n",
       "      <td>0</td>\n",
       "      <td>1</td>\n",
       "      <td>8</td>\n",
       "      <td>0</td>\n",
       "      <td>1</td>\n",
       "      <td>0</td>\n",
       "    </tr>\n",
       "    <tr>\n",
       "      <th>4</th>\n",
       "      <td>1</td>\n",
       "      <td>NaN</td>\n",
       "      <td>0</td>\n",
       "      <td>1</td>\n",
       "      <td>10</td>\n",
       "      <td>1</td>\n",
       "      <td>1</td>\n",
       "      <td>1</td>\n",
       "    </tr>\n",
       "  </tbody>\n",
       "</table>\n",
       "</div>"
      ],
      "text/plain": [
       "   actor  recipient  condition  block  trial  prosoc_left  chose_prosoc  \\\n",
       "0      1        NaN          0      1      2            0             1   \n",
       "1      1        NaN          0      1      4            0             0   \n",
       "2      1        NaN          0      1      6            1             0   \n",
       "3      1        NaN          0      1      8            0             1   \n",
       "4      1        NaN          0      1     10            1             1   \n",
       "\n",
       "   pulled_left  \n",
       "0            0  \n",
       "1            1  \n",
       "2            0  \n",
       "3            0  \n",
       "4            1  "
      ]
     },
     "execution_count": 2,
     "metadata": {},
     "output_type": "execute_result"
    }
   ],
   "source": [
    "df = pd.read_csv(DATA_FILE)\n",
    "df.head()"
   ]
  },
  {
   "cell_type": "markdown",
   "id": "bf2e817d",
   "metadata": {},
   "source": [
    "### Code 11.2"
   ]
  },
  {
   "cell_type": "code",
   "execution_count": 3,
   "id": "ea97114d",
   "metadata": {},
   "outputs": [
    {
     "data": {
      "text/html": [
       "<div>\n",
       "<style scoped>\n",
       "    .dataframe tbody tr th:only-of-type {\n",
       "        vertical-align: middle;\n",
       "    }\n",
       "\n",
       "    .dataframe tbody tr th {\n",
       "        vertical-align: top;\n",
       "    }\n",
       "\n",
       "    .dataframe thead th {\n",
       "        text-align: right;\n",
       "    }\n",
       "</style>\n",
       "<table border=\"1\" class=\"dataframe\">\n",
       "  <thead>\n",
       "    <tr style=\"text-align: right;\">\n",
       "      <th></th>\n",
       "      <th>condition</th>\n",
       "      <th>prosoc_left</th>\n",
       "      <th>treatment</th>\n",
       "    </tr>\n",
       "  </thead>\n",
       "  <tbody>\n",
       "    <tr>\n",
       "      <th>0</th>\n",
       "      <td>0</td>\n",
       "      <td>0</td>\n",
       "      <td>0</td>\n",
       "    </tr>\n",
       "    <tr>\n",
       "      <th>2</th>\n",
       "      <td>0</td>\n",
       "      <td>1</td>\n",
       "      <td>1</td>\n",
       "    </tr>\n",
       "    <tr>\n",
       "      <th>36</th>\n",
       "      <td>1</td>\n",
       "      <td>0</td>\n",
       "      <td>2</td>\n",
       "    </tr>\n",
       "    <tr>\n",
       "      <th>38</th>\n",
       "      <td>1</td>\n",
       "      <td>1</td>\n",
       "      <td>3</td>\n",
       "    </tr>\n",
       "  </tbody>\n",
       "</table>\n",
       "</div>"
      ],
      "text/plain": [
       "    condition  prosoc_left  treatment\n",
       "0           0            0          0\n",
       "2           0            1          1\n",
       "36          1            0          2\n",
       "38          1            1          3"
      ]
     },
     "execution_count": 3,
     "metadata": {},
     "output_type": "execute_result"
    }
   ],
   "source": [
    "df['treatment'] = df['prosoc_left'] + 2 * df['condition']\n",
    "df[['condition', 'prosoc_left', 'treatment']].drop_duplicates()"
   ]
  },
  {
   "cell_type": "markdown",
   "id": "e568a544",
   "metadata": {},
   "source": [
    "### Explanation\n",
    "\n",
    "|Treatment | Partner | Food |\n",
    "|----------|---------|------|\n",
    "| 0           | no       | right  |\n",
    "| 1           | no       | left   |\n",
    "| 2           | yes      | right  |\n",
    "| 3           | yes      | left   |\n"
   ]
  },
  {
   "cell_type": "code",
   "execution_count": 4,
   "id": "a0c2b92c",
   "metadata": {},
   "outputs": [
    {
     "data": {
      "text/plain": [
       "0      1\n",
       "72     2\n",
       "144    3\n",
       "216    4\n",
       "288    5\n",
       "360    6\n",
       "432    7\n",
       "Name: actor, dtype: int64"
      ]
     },
     "execution_count": 4,
     "metadata": {},
     "output_type": "execute_result"
    }
   ],
   "source": [
    "df['actor'].drop_duplicates()"
   ]
  },
  {
   "cell_type": "markdown",
   "id": "4e766a3a",
   "metadata": {},
   "source": [
    "## Model\n",
    "\n",
    "\\begin{align*}\n",
    "    L_i & \\sim \\text{Binomial}(1, p_i) \\\\\n",
    "    \\log \\frac{p_i}{1 - p_i} & = \\alpha_{\\text{actor}[i]} + \\beta_{\\text{treatment}[i]} \\\\\n",
    "    \\alpha_j & \\sim \\text{to be determined} \\\\\n",
    "    \\beta_j & \\sim \\text{to be determined}\n",
    "\\end{align*}\n",
    "\n",
    "Here $L$ indicates the binary variable `pulled_left`; there are $7$ $\\alpha$ `parameters`, one for each chimpanzee; there are $4$ `treatment` variables, one for each combination of the position of the pro-social option and the presence/absence of a partner. The variable $i$ is an index to the row of the data. Each row is associated with a specific actor and a specific treatment. What this model postulates is that the probability of pulling the left lever depends on both the actor and specific treatment condition.  \n",
    "\n",
    "As a reminder, if $\\text{logit}(p) = x$ then $p = \\sigma(x)$, where \n",
    "$$\n",
    "    \\sigma(x) = \\frac{1}{1 + e^{-x}}.\n",
    "$$"
   ]
  },
  {
   "cell_type": "markdown",
   "id": "32bc4dfa",
   "metadata": {},
   "source": [
    "## Priors for $\\alpha$\n",
    "\n",
    "The very first attempt consists of using a flat prior for $\\alpha$.\n",
    "\n",
    "\\begin{align*}\n",
    "    L_i & \\sim \\text{Binomial}(1, p_i) \\\\\n",
    "    \\log \\frac{p_i}{1 - p_i} & = \\alpha  \\\\\n",
    "    \\alpha & \\sim \\text{Normal}(0, \\omega)\n",
    "\\end{align*}\n"
   ]
  },
  {
   "cell_type": "code",
   "execution_count": 5,
   "id": "cac2a398",
   "metadata": {},
   "outputs": [],
   "source": [
    "import arviz as az\n",
    "import pymc3 as pm\n",
    "import numpy as np\n",
    "import matplotlib.pyplot as plt\n",
    "import seaborn as sns\n",
    "import warnings\n",
    "\n",
    "from scipy import stats\n",
    "from scipy.special import expit as logistic\n",
    "\n",
    "warnings.simplefilter(action=\"ignore\", category=FutureWarning)\n",
    "\n",
    "RANDOM_SEED = 1234567\n",
    "\n",
    "az.style.use(\"arviz-darkgrid\")"
   ]
  },
  {
   "cell_type": "markdown",
   "id": "f59a9a05",
   "metadata": {},
   "source": [
    "### Code 11.4 - 11.6"
   ]
  },
  {
   "cell_type": "code",
   "execution_count": 6,
   "id": "e396c447",
   "metadata": {},
   "outputs": [],
   "source": [
    "with pm.Model() as m_11_1:\n",
    "    a = pm.Normal('a', mu=0, sigma=10)\n",
    "    p = pm.Deterministic('p', pm.math.invlogit(a))\n",
    "    pulled_left = pm.Binomial('pulled_left', n=1, p=p, observed=df['pulled_left'])\n",
    "    \n",
    "    prior_11_1 = pm.sample_prior_predictive(4000, random_seed=RANDOM_SEED)"
   ]
  },
  {
   "cell_type": "code",
   "execution_count": 7,
   "id": "95ea3e1d",
   "metadata": {},
   "outputs": [
    {
     "data": {
      "text/plain": [
       "{'a': array([ -5.1462472 ,  -4.49554448,  17.34621467, ..., -13.09713758,\n",
       "        -18.59217255,   1.67345857]),\n",
       " 'p': array([5.78751927e-03, 1.10354630e-02, 9.99999971e-01, ...,\n",
       "        2.05108912e-06, 8.42407183e-09, 8.42036394e-01]),\n",
       " 'pulled_left': array([[0, 0, 0, ..., 0, 0, 0],\n",
       "        [0, 0, 0, ..., 0, 0, 0],\n",
       "        [1, 1, 1, ..., 1, 1, 1],\n",
       "        ...,\n",
       "        [0, 0, 0, ..., 0, 0, 0],\n",
       "        [0, 0, 0, ..., 0, 0, 0],\n",
       "        [1, 0, 1, ..., 1, 1, 1]])}"
      ]
     },
     "execution_count": 7,
     "metadata": {},
     "output_type": "execute_result"
    }
   ],
   "source": [
    "prior_11_1"
   ]
  },
  {
   "cell_type": "code",
   "execution_count": 8,
   "id": "39a43e00",
   "metadata": {},
   "outputs": [],
   "source": [
    "with pm.Model() as m_11_1_base:\n",
    "    a = pm.Normal('a', mu=0, sigma=1.5)\n",
    "    p = pm.Deterministic('p', pm.math.invlogit(a))\n",
    "    pulled_left = pm.Binomial('pulled_left', n=1, p=p, observed=df['pulled_left'])\n",
    "    \n",
    "    prior_11_1_base = pm.sample_prior_predictive(4000, random_seed=RANDOM_SEED)"
   ]
  },
  {
   "cell_type": "code",
   "execution_count": 9,
   "id": "239b12e4",
   "metadata": {},
   "outputs": [
    {
     "data": {
      "image/png": "[encoded data removed]",
      "text/plain": [
       "<Figure size 720x480 with 1 Axes>"
      ]
     },
     "metadata": {},
     "output_type": "display_data"
    }
   ],
   "source": [
    "az.plot_density([prior_11_1['p'], prior_11_1_base['p']], \n",
    "                data_labels=['a ~ Normal(0, 10)', 'a ~ Normal(0, 1.5)'],\n",
    "                colors=['k', 'steelblue'], \n",
    "                point_estimate=None);\n",
    "\n",
    "plt.xlabel(\"prior prob pull left\")\n",
    "plt.ylabel(\"Density\")\n",
    "plt.title(\"Prior predictive simulations for p\");"
   ]
  },
  {
   "cell_type": "code",
   "execution_count": 10,
   "id": "b1e73563",
   "metadata": {},
   "outputs": [
    {
     "data": {
      "image/png": "[encoded data removed]",
      "text/plain": [
       "<Figure size 1000x600 with 1 Axes>"
      ]
     },
     "metadata": {},
     "output_type": "display_data"
    }
   ],
   "source": [
    "fig, ax = plt.subplots(1, 1, figsize=(10, 6))\n",
    "\n",
    "sns.histplot(prior_11_1['p'], ax=ax, color='k');\n",
    "sns.histplot(prior_11_1_base['p'], ax=ax, color='steelblue');"
   ]
  },
  {
   "cell_type": "markdown",
   "id": "facc09f4",
   "metadata": {},
   "source": [
    "## Priors for the treatment effects"
   ]
  },
  {
   "cell_type": "markdown",
   "id": "8fa4ce41",
   "metadata": {},
   "source": [
    "### Code 11.7"
   ]
  },
  {
   "cell_type": "code",
   "execution_count": 11,
   "id": "68f3c244",
   "metadata": {},
   "outputs": [],
   "source": [
    "with pm.Model() as m_11_2:\n",
    "    a = pm.Normal('a', mu=0, sigma=1.5)\n",
    "    b = pm.Normal('b', mu=0, sigma=10, shape=df['treatment'].nunique())\n",
    "    p = pm.Deterministic('p', pm.math.invlogit(a + b[df['treatment']]))\n",
    "    pulled_left = pm.Binomial('pulled_left', n=1, p=p, observed=df['pulled_left'])\n",
    "    \n",
    "    prior_11_2 = pm.sample_prior_predictive(4000, random_seed=RANDOM_SEED)"
   ]
  },
  {
   "cell_type": "code",
   "execution_count": 12,
   "id": "826489ab",
   "metadata": {},
   "outputs": [
    {
     "data": {
      "text/plain": [
       "(4000, 504)"
      ]
     },
     "execution_count": 12,
     "metadata": {},
     "output_type": "execute_result"
    }
   ],
   "source": [
    "prior_11_2['p'].shape"
   ]
  },
  {
   "cell_type": "code",
   "execution_count": 13,
   "id": "a881c9e9",
   "metadata": {},
   "outputs": [],
   "source": [
    "with pm.Model() as m_11_2_base:\n",
    "    a = pm.Normal('a', mu=0, sigma=1.5)\n",
    "    b = pm.Normal('b', mu=0, sigma=0.5, shape=df['treatment'].nunique())\n",
    "    p = pm.Deterministic('p', pm.math.invlogit(a + b[df['treatment']]))\n",
    "    pulled_left = pm.Binomial('pulled_left', n=1, p=p, observed=df['pulled_left'])\n",
    "    \n",
    "    prior_11_2_base = pm.sample_prior_predictive(4000, random_seed=RANDOM_SEED)"
   ]
  },
  {
   "cell_type": "code",
   "execution_count": 14,
   "id": "943d7374",
   "metadata": {},
   "outputs": [
    {
     "data": {
      "text/plain": [
       "(4000, 504)"
      ]
     },
     "execution_count": 14,
     "metadata": {},
     "output_type": "execute_result"
    }
   ],
   "source": [
    "prior_11_2_base['p'].shape"
   ]
  },
  {
   "cell_type": "code",
   "execution_count": 15,
   "id": "46dd9140",
   "metadata": {},
   "outputs": [],
   "source": [
    "idx_0 = df[df['treatment'] == 0].index\n",
    "idx_1 = df[df['treatment'] == 1].index\n",
    "idx_2 = df[df['treatment'] == 2].index\n",
    "idx_3 = df[df['treatment'] == 3].index\n",
    "\n",
    "prior_p_11_2 = [prior_11_2['p'][:, idx] for idx in [idx_0, idx_1, idx_2, idx_3]]\n",
    "prior_p_11_2_base = [prior_11_2_base['p'][:, idx] for idx in [idx_0, idx_1, idx_2, idx_3]]"
   ]
  },
  {
   "cell_type": "code",
   "execution_count": 16,
   "id": "28e7663f",
   "metadata": {},
   "outputs": [
    {
     "name": "stdout",
     "output_type": "stream",
     "text": [
      "(4000, 126)\n",
      "(4000, 126)\n",
      "(4000, 126)\n",
      "(4000, 126)\n"
     ]
    }
   ],
   "source": [
    "for prior_p in prior_p_11_2:\n",
    "    print(prior_p.shape)"
   ]
  },
  {
   "cell_type": "markdown",
   "id": "e12a00d5",
   "metadata": {},
   "source": [
    "### Code 11.8"
   ]
  },
  {
   "cell_type": "code",
   "execution_count": 17,
   "id": "c69d4237",
   "metadata": {},
   "outputs": [
    {
     "data": {
      "text/plain": [
       "((126, 4000), (126, 4000))"
      ]
     },
     "execution_count": 17,
     "metadata": {},
     "output_type": "execute_result"
    }
   ],
   "source": [
    "abs_diff_0_1 = np.abs(prior_p_11_2[0].T - prior_p_11_2[1].T)\n",
    "abs_diff_0_1_base = np.abs(prior_p_11_2_base[0].T - prior_p_11_2_base[1].T)\n",
    "abs_diff_0_1.shape, abs_diff_0_1_base.shape"
   ]
  },
  {
   "cell_type": "code",
   "execution_count": 18,
   "id": "dcd8d1cc",
   "metadata": {},
   "outputs": [
    {
     "data": {
      "image/png": "[encoded data removed]",
      "text/plain": [
       "<Figure size 720x480 with 1 Axes>"
      ]
     },
     "metadata": {},
     "output_type": "display_data"
    }
   ],
   "source": [
    "az.plot_density([abs_diff_0_1, abs_diff_0_1_base], \n",
    "                data_labels=['b ~ Normal(0, 10)', 'b ~ Normal(0, 0.5)'],\n",
    "                colors=['k', 'steelblue'], \n",
    "                point_estimate=None);\n",
    "\n",
    "plt.xlabel(\"prior difference between treatments 0 and 1\")\n",
    "plt.ylabel(\"Density\")\n",
    "plt.title(\"Prior predictive simulations for p\");"
   ]
  },
  {
   "cell_type": "markdown",
   "id": "bd3bf904",
   "metadata": {},
   "source": [
    "### Code 11.9"
   ]
  },
  {
   "cell_type": "code",
   "execution_count": 19,
   "id": "aa0e1fe4",
   "metadata": {},
   "outputs": [
    {
     "data": {
      "text/plain": [
       "0.09800027091330503"
      ]
     },
     "execution_count": 19,
     "metadata": {},
     "output_type": "execute_result"
    }
   ],
   "source": [
    "abs_diff_0_1_base.mean()"
   ]
  },
  {
   "cell_type": "markdown",
   "id": "deca2621",
   "metadata": {},
   "source": [
    "### Code 11.10"
   ]
  },
  {
   "cell_type": "code",
   "execution_count": 20,
   "id": "6eba5a7c",
   "metadata": {},
   "outputs": [],
   "source": [
    "actor_ids, actors = pd.factorize(df['actor'])\n",
    "treatment_ids, treatment = pd.factorize(df['treatment'])"
   ]
  },
  {
   "cell_type": "code",
   "execution_count": 21,
   "id": "75486b9c",
   "metadata": {},
   "outputs": [
    {
     "name": "stderr",
     "output_type": "stream",
     "text": [
      "Auto-assigning NUTS sampler...\n",
      "Initializing NUTS using jitter+adapt_diag...\n",
      "Multiprocess sampling (4 chains in 4 jobs)\n",
      "NUTS: [b, a]\n"
     ]
    },
    {
     "data": {
      "text/html": [
       "\n",
       "    <div>\n",
       "        <style>\n",
       "            /* Turns off some styling */\n",
       "            progress {\n",
       "                /* gets rid of default border in Firefox and Opera. */\n",
       "                border: none;\n",
       "                /* Needs to be in here for Safari polyfill so background images work as expected. */\n",
       "                background-size: auto;\n",
       "            }\n",
       "            .progress-bar-interrupted, .progress-bar-interrupted::-webkit-progress-bar {\n",
       "                background: #F44336;\n",
       "            }\n",
       "        </style>\n",
       "      <progress value='16000' class='' max='16000' style='width:300px; height:20px; vertical-align: middle;'></progress>\n",
       "      100.00% [16000/16000 00:06<00:00 Sampling 4 chains, 0 divergences]\n",
       "    </div>\n",
       "    "
      ],
      "text/plain": [
       "<IPython.core.display.HTML object>"
      ]
     },
     "metadata": {},
     "output_type": "display_data"
    },
    {
     "name": "stderr",
     "output_type": "stream",
     "text": [
      "Sampling 4 chains for 2_000 tune and 2_000 draw iterations (8_000 + 8_000 draws total) took 7 seconds.\n"
     ]
    }
   ],
   "source": [
    "with pm.Model() as m_11_4:\n",
    "    a = pm.Normal('a', mu=0, sigma=1.5, shape=len(actors))\n",
    "    b = pm.Normal('b', mu=0, sigma=0.5, shape=len(treatment))\n",
    "    \n",
    "    # This was taken verbatim from https://github.com/pymc-devs/resources/blob/master/Rethinking_2/Chp_11.ipynb\n",
    "    # Not sure what this does\n",
    "    actor_id = pm.intX(pm.Data('actor_id', actor_ids))\n",
    "    treat_id = pm.intX(pm.Data('treat_id', treatment_ids))\n",
    "    p = pm.Deterministic('p', pm.math.invlogit(a[actor_id] + b[treat_id]))\n",
    "    \n",
    "    pulled_left = pm.Binomial('pulled_left', n=1, p=p, observed=df['pulled_left'])\n",
    "    \n",
    "    trace_11_4 = pm.sample(2000, tune=2000, return_inferencedata=False, random_seed=RANDOM_SEED);"
   ]
  },
  {
   "cell_type": "code",
   "execution_count": 22,
   "id": "554f900e",
   "metadata": {},
   "outputs": [
    {
     "data": {
      "text/html": [
       "<div>\n",
       "<style scoped>\n",
       "    .dataframe tbody tr th:only-of-type {\n",
       "        vertical-align: middle;\n",
       "    }\n",
       "\n",
       "    .dataframe tbody tr th {\n",
       "        vertical-align: top;\n",
       "    }\n",
       "\n",
       "    .dataframe thead th {\n",
       "        text-align: right;\n",
       "    }\n",
       "</style>\n",
       "<table border=\"1\" class=\"dataframe\">\n",
       "  <thead>\n",
       "    <tr style=\"text-align: right;\">\n",
       "      <th></th>\n",
       "      <th>mean</th>\n",
       "      <th>sd</th>\n",
       "      <th>hdi_5.5%</th>\n",
       "      <th>hdi_94.5%</th>\n",
       "      <th>mcse_mean</th>\n",
       "      <th>mcse_sd</th>\n",
       "      <th>ess_bulk</th>\n",
       "      <th>ess_tail</th>\n",
       "      <th>r_hat</th>\n",
       "    </tr>\n",
       "  </thead>\n",
       "  <tbody>\n",
       "    <tr>\n",
       "      <th>a[0]</th>\n",
       "      <td>-0.44</td>\n",
       "      <td>0.33</td>\n",
       "      <td>-0.94</td>\n",
       "      <td>0.11</td>\n",
       "      <td>0.01</td>\n",
       "      <td>0.00</td>\n",
       "      <td>2832.63</td>\n",
       "      <td>3835.39</td>\n",
       "      <td>1.0</td>\n",
       "    </tr>\n",
       "    <tr>\n",
       "      <th>a[1]</th>\n",
       "      <td>3.89</td>\n",
       "      <td>0.75</td>\n",
       "      <td>2.70</td>\n",
       "      <td>5.02</td>\n",
       "      <td>0.01</td>\n",
       "      <td>0.01</td>\n",
       "      <td>4781.78</td>\n",
       "      <td>4121.75</td>\n",
       "      <td>1.0</td>\n",
       "    </tr>\n",
       "    <tr>\n",
       "      <th>a[2]</th>\n",
       "      <td>-0.74</td>\n",
       "      <td>0.34</td>\n",
       "      <td>-1.29</td>\n",
       "      <td>-0.21</td>\n",
       "      <td>0.01</td>\n",
       "      <td>0.00</td>\n",
       "      <td>2972.21</td>\n",
       "      <td>4293.90</td>\n",
       "      <td>1.0</td>\n",
       "    </tr>\n",
       "    <tr>\n",
       "      <th>a[3]</th>\n",
       "      <td>-0.73</td>\n",
       "      <td>0.34</td>\n",
       "      <td>-1.27</td>\n",
       "      <td>-0.19</td>\n",
       "      <td>0.01</td>\n",
       "      <td>0.00</td>\n",
       "      <td>3053.81</td>\n",
       "      <td>4661.94</td>\n",
       "      <td>1.0</td>\n",
       "    </tr>\n",
       "    <tr>\n",
       "      <th>a[4]</th>\n",
       "      <td>-0.44</td>\n",
       "      <td>0.33</td>\n",
       "      <td>-0.98</td>\n",
       "      <td>0.09</td>\n",
       "      <td>0.01</td>\n",
       "      <td>0.00</td>\n",
       "      <td>2749.37</td>\n",
       "      <td>3623.05</td>\n",
       "      <td>1.0</td>\n",
       "    </tr>\n",
       "    <tr>\n",
       "      <th>a[5]</th>\n",
       "      <td>0.49</td>\n",
       "      <td>0.34</td>\n",
       "      <td>-0.07</td>\n",
       "      <td>1.01</td>\n",
       "      <td>0.01</td>\n",
       "      <td>0.00</td>\n",
       "      <td>2888.65</td>\n",
       "      <td>4389.85</td>\n",
       "      <td>1.0</td>\n",
       "    </tr>\n",
       "    <tr>\n",
       "      <th>a[6]</th>\n",
       "      <td>1.97</td>\n",
       "      <td>0.42</td>\n",
       "      <td>1.29</td>\n",
       "      <td>2.64</td>\n",
       "      <td>0.01</td>\n",
       "      <td>0.01</td>\n",
       "      <td>3485.63</td>\n",
       "      <td>4892.55</td>\n",
       "      <td>1.0</td>\n",
       "    </tr>\n",
       "    <tr>\n",
       "      <th>b[0]</th>\n",
       "      <td>-0.05</td>\n",
       "      <td>0.29</td>\n",
       "      <td>-0.50</td>\n",
       "      <td>0.41</td>\n",
       "      <td>0.01</td>\n",
       "      <td>0.00</td>\n",
       "      <td>2559.48</td>\n",
       "      <td>4197.58</td>\n",
       "      <td>1.0</td>\n",
       "    </tr>\n",
       "    <tr>\n",
       "      <th>b[1]</th>\n",
       "      <td>0.47</td>\n",
       "      <td>0.29</td>\n",
       "      <td>0.01</td>\n",
       "      <td>0.92</td>\n",
       "      <td>0.01</td>\n",
       "      <td>0.00</td>\n",
       "      <td>2484.93</td>\n",
       "      <td>3775.58</td>\n",
       "      <td>1.0</td>\n",
       "    </tr>\n",
       "    <tr>\n",
       "      <th>b[2]</th>\n",
       "      <td>-0.39</td>\n",
       "      <td>0.29</td>\n",
       "      <td>-0.84</td>\n",
       "      <td>0.08</td>\n",
       "      <td>0.01</td>\n",
       "      <td>0.00</td>\n",
       "      <td>2508.35</td>\n",
       "      <td>3853.09</td>\n",
       "      <td>1.0</td>\n",
       "    </tr>\n",
       "    <tr>\n",
       "      <th>b[3]</th>\n",
       "      <td>0.36</td>\n",
       "      <td>0.29</td>\n",
       "      <td>-0.12</td>\n",
       "      <td>0.81</td>\n",
       "      <td>0.01</td>\n",
       "      <td>0.00</td>\n",
       "      <td>2619.11</td>\n",
       "      <td>3939.55</td>\n",
       "      <td>1.0</td>\n",
       "    </tr>\n",
       "  </tbody>\n",
       "</table>\n",
       "</div>"
      ],
      "text/plain": [
       "      mean    sd  hdi_5.5%  hdi_94.5%  mcse_mean  mcse_sd  ess_bulk  ess_tail  \\\n",
       "a[0] -0.44  0.33     -0.94       0.11       0.01     0.00   2832.63   3835.39   \n",
       "a[1]  3.89  0.75      2.70       5.02       0.01     0.01   4781.78   4121.75   \n",
       "a[2] -0.74  0.34     -1.29      -0.21       0.01     0.00   2972.21   4293.90   \n",
       "a[3] -0.73  0.34     -1.27      -0.19       0.01     0.00   3053.81   4661.94   \n",
       "a[4] -0.44  0.33     -0.98       0.09       0.01     0.00   2749.37   3623.05   \n",
       "a[5]  0.49  0.34     -0.07       1.01       0.01     0.00   2888.65   4389.85   \n",
       "a[6]  1.97  0.42      1.29       2.64       0.01     0.01   3485.63   4892.55   \n",
       "b[0] -0.05  0.29     -0.50       0.41       0.01     0.00   2559.48   4197.58   \n",
       "b[1]  0.47  0.29      0.01       0.92       0.01     0.00   2484.93   3775.58   \n",
       "b[2] -0.39  0.29     -0.84       0.08       0.01     0.00   2508.35   3853.09   \n",
       "b[3]  0.36  0.29     -0.12       0.81       0.01     0.00   2619.11   3939.55   \n",
       "\n",
       "      r_hat  \n",
       "a[0]    1.0  \n",
       "a[1]    1.0  \n",
       "a[2]    1.0  \n",
       "a[3]    1.0  \n",
       "a[4]    1.0  \n",
       "a[5]    1.0  \n",
       "a[6]    1.0  \n",
       "b[0]    1.0  \n",
       "b[1]    1.0  \n",
       "b[2]    1.0  \n",
       "b[3]    1.0  "
      ]
     },
     "execution_count": 22,
     "metadata": {},
     "output_type": "execute_result"
    }
   ],
   "source": [
    "az.summary(trace_11_4, var_names=['a', 'b'], round_to=2, hdi_prob=0.89)"
   ]
  },
  {
   "cell_type": "markdown",
   "id": "8d291c7a",
   "metadata": {},
   "source": [
    "## A Note on the columns in the summary\n",
    "\n",
    "Modified from the Stan online reference (https://mc-stan.org/rstan/reference/Rhat.html)\n",
    "\n",
    "The `R-hat` convergence diagnostic compares the between- and within-chain estimates for model parameters. If chains have not mixed well (i.e., the between- and within-chain estimates don't agree), R-hat is larger than 1. \n",
    "\n",
    "The `ess_bulk` is an estimate of the _Bulk Effective Sample Size (bulk-ESS)_. This is a useful measure for sampling efficiency in the bulk of the distribution (related e.g. to efficiency of mean and median estimates), and is well-defined even if the chains do not have finite mean or variance.\n",
    "\n",
    "The `ess_tail` is an estimate of the _Tail Effective Sample Size (tail-ESS)_. This is a useful measure for sampling efficiency in the tails of the distribution.\n",
    "\n",
    "**Stan Recommendation**\n",
    "\n",
    "Both bulk-ESS and tail-ESS should be at least 100 (approximately) per Markov Chain in order to be reliable and indicate that estimates of respective posterior quantiles are reliable.\n",
    "\n",
    "### More Details on the Estimation of $\\hat{R}$ and Effective Sample Size\n",
    "\n",
    "* Aki Vehtari, Andrew Gelman, Daniel Simpson, Bob Carpenter, and Paul-Christian Bürkner. Rank-normalization, folding, and localization: An improved $\\hat{R}$ for assessing convergence of MCMC. https://arxiv.org/pdf/1903.08008.pdf"
   ]
  },
  {
   "cell_type": "markdown",
   "id": "906406ec",
   "metadata": {},
   "source": [
    "### Code 11.12"
   ]
  },
  {
   "cell_type": "code",
   "execution_count": 23,
   "id": "c7f90b9a",
   "metadata": {},
   "outputs": [
    {
     "data": {
      "image/png": "[encoded data removed]",
      "text/plain": [
       "<Figure size 600x470 with 1 Axes>"
      ]
     },
     "metadata": {},
     "output_type": "display_data"
    }
   ],
   "source": [
    "def sigmoid(x):\n",
    "    return 1 / (1 + np.exp(-x))\n",
    "\n",
    "\n",
    "az.plot_forest(trace_11_4, var_names=['a'], transform=sigmoid, hdi_prob=0.89, combined=True);"
   ]
  },
  {
   "cell_type": "code",
   "execution_count": 24,
   "id": "6fa7fbd7",
   "metadata": {},
   "outputs": [
    {
     "data": {
      "image/png": "[encoded data removed]",
      "text/plain": [
       "<Figure size 600x440 with 1 Axes>"
      ]
     },
     "metadata": {},
     "output_type": "display_data"
    }
   ],
   "source": [
    "ax = az.plot_forest(trace_11_4, var_names=['b'], hdi_prob=0.89, combined=True);\n",
    "ax[0].set_yticklabels(['L/P', 'R/P', 'L/N', 'R/N']);"
   ]
  },
  {
   "cell_type": "code",
   "execution_count": 25,
   "id": "fd68cc08",
   "metadata": {},
   "outputs": [
    {
     "data": {
      "text/plain": [
       "(8000, 4)"
      ]
     },
     "execution_count": 25,
     "metadata": {},
     "output_type": "execute_result"
    }
   ],
   "source": [
    "trace_11_4['b'].shape"
   ]
  },
  {
   "cell_type": "code",
   "execution_count": 26,
   "id": "d0c5142d",
   "metadata": {},
   "outputs": [],
   "source": [
    "db13 = trace_11_4['b'][:, 0] - trace_11_4['b'][:, 2]\n",
    "db24 = trace_11_4['b'][:, 1] - trace_11_4['b'][:, 3]"
   ]
  },
  {
   "cell_type": "code",
   "execution_count": 27,
   "id": "c319dbed",
   "metadata": {},
   "outputs": [
    {
     "data": {
      "text/plain": [
       "<matplotlib.lines.Line2D at 0x7f49ad0f5ca0>"
      ]
     },
     "execution_count": 27,
     "metadata": {},
     "output_type": "execute_result"
    },
    {
     "data": {
      "image/png": "[encoded data removed]",
      "text/plain": [
       "<Figure size 600x520 with 1 Axes>"
      ]
     },
     "metadata": {},
     "output_type": "display_data"
    }
   ],
   "source": [
    "db13_50 = np.quantile(db13, [0.25, 0.75])\n",
    "db24_50 = np.quantile(db24, [0.25, 0.75])\n",
    "\n",
    "ax = az.plot_forest([db13, db24], model_names=[\"db13\", \"db24\"], hdi_prob=0.89, combined=True);\n",
    "\n",
    "ax[0].axvline(x=db13_50[0], linestyle='--', color='grey', alpha=0.3)\n",
    "ax[0].axvline(x=db13_50[1], linestyle='--', color='grey', alpha=0.3)\n",
    "ax[0].axvline(x=db24_50[0], linestyle='--', color='grey', alpha=0.3)\n",
    "ax[0].axvline(x=db24_50[1], linestyle='--', color='grey', alpha=0.3)"
   ]
  },
  {
   "cell_type": "markdown",
   "id": "48246f08",
   "metadata": {},
   "source": [
    "### Code 11.15"
   ]
  },
  {
   "cell_type": "code",
   "execution_count": 28,
   "id": "c0a4b431",
   "metadata": {},
   "outputs": [
    {
     "data": {
      "text/html": [
       "<div>\n",
       "<style scoped>\n",
       "    .dataframe tbody tr th:only-of-type {\n",
       "        vertical-align: middle;\n",
       "    }\n",
       "\n",
       "    .dataframe tbody tr th {\n",
       "        vertical-align: top;\n",
       "    }\n",
       "\n",
       "    .dataframe thead th {\n",
       "        text-align: right;\n",
       "    }\n",
       "</style>\n",
       "<table border=\"1\" class=\"dataframe\">\n",
       "  <thead>\n",
       "    <tr style=\"text-align: right;\">\n",
       "      <th>treatment</th>\n",
       "      <th>0</th>\n",
       "      <th>1</th>\n",
       "      <th>2</th>\n",
       "      <th>3</th>\n",
       "    </tr>\n",
       "    <tr>\n",
       "      <th>actor</th>\n",
       "      <th></th>\n",
       "      <th></th>\n",
       "      <th></th>\n",
       "      <th></th>\n",
       "    </tr>\n",
       "  </thead>\n",
       "  <tbody>\n",
       "    <tr>\n",
       "      <th>1</th>\n",
       "      <td>0.333333</td>\n",
       "      <td>0.500000</td>\n",
       "      <td>0.277778</td>\n",
       "      <td>0.555556</td>\n",
       "    </tr>\n",
       "    <tr>\n",
       "      <th>2</th>\n",
       "      <td>1.000000</td>\n",
       "      <td>1.000000</td>\n",
       "      <td>1.000000</td>\n",
       "      <td>1.000000</td>\n",
       "    </tr>\n",
       "    <tr>\n",
       "      <th>3</th>\n",
       "      <td>0.277778</td>\n",
       "      <td>0.611111</td>\n",
       "      <td>0.166667</td>\n",
       "      <td>0.333333</td>\n",
       "    </tr>\n",
       "    <tr>\n",
       "      <th>4</th>\n",
       "      <td>0.333333</td>\n",
       "      <td>0.500000</td>\n",
       "      <td>0.111111</td>\n",
       "      <td>0.444444</td>\n",
       "    </tr>\n",
       "    <tr>\n",
       "      <th>5</th>\n",
       "      <td>0.333333</td>\n",
       "      <td>0.555556</td>\n",
       "      <td>0.277778</td>\n",
       "      <td>0.500000</td>\n",
       "    </tr>\n",
       "    <tr>\n",
       "      <th>6</th>\n",
       "      <td>0.777778</td>\n",
       "      <td>0.611111</td>\n",
       "      <td>0.555556</td>\n",
       "      <td>0.611111</td>\n",
       "    </tr>\n",
       "    <tr>\n",
       "      <th>7</th>\n",
       "      <td>0.777778</td>\n",
       "      <td>0.833333</td>\n",
       "      <td>0.944444</td>\n",
       "      <td>1.000000</td>\n",
       "    </tr>\n",
       "  </tbody>\n",
       "</table>\n",
       "</div>"
      ],
      "text/plain": [
       "treatment         0         1         2         3\n",
       "actor                                            \n",
       "1          0.333333  0.500000  0.277778  0.555556\n",
       "2          1.000000  1.000000  1.000000  1.000000\n",
       "3          0.277778  0.611111  0.166667  0.333333\n",
       "4          0.333333  0.500000  0.111111  0.444444\n",
       "5          0.333333  0.555556  0.277778  0.500000\n",
       "6          0.777778  0.611111  0.555556  0.611111\n",
       "7          0.777778  0.833333  0.944444  1.000000"
      ]
     },
     "execution_count": 28,
     "metadata": {},
     "output_type": "execute_result"
    }
   ],
   "source": [
    "pl = df.groupby(['actor', 'treatment'])['pulled_left'].agg('mean').unstack()\n",
    "pl"
   ]
  },
  {
   "cell_type": "code",
   "execution_count": 29,
   "id": "f869cfd4",
   "metadata": {},
   "outputs": [
    {
     "data": {
      "text/html": [
       "<div>\n",
       "<style scoped>\n",
       "    .dataframe tbody tr th:only-of-type {\n",
       "        vertical-align: middle;\n",
       "    }\n",
       "\n",
       "    .dataframe tbody tr th {\n",
       "        vertical-align: top;\n",
       "    }\n",
       "\n",
       "    .dataframe thead th {\n",
       "        text-align: right;\n",
       "    }\n",
       "</style>\n",
       "<table border=\"1\" class=\"dataframe\">\n",
       "  <thead>\n",
       "    <tr style=\"text-align: right;\">\n",
       "      <th></th>\n",
       "      <th>actor</th>\n",
       "      <th>treatment</th>\n",
       "      <th>0</th>\n",
       "    </tr>\n",
       "  </thead>\n",
       "  <tbody>\n",
       "    <tr>\n",
       "      <th>0</th>\n",
       "      <td>1</td>\n",
       "      <td>0</td>\n",
       "      <td>0.333333</td>\n",
       "    </tr>\n",
       "    <tr>\n",
       "      <th>1</th>\n",
       "      <td>1</td>\n",
       "      <td>1</td>\n",
       "      <td>0.500000</td>\n",
       "    </tr>\n",
       "    <tr>\n",
       "      <th>2</th>\n",
       "      <td>1</td>\n",
       "      <td>2</td>\n",
       "      <td>0.277778</td>\n",
       "    </tr>\n",
       "    <tr>\n",
       "      <th>3</th>\n",
       "      <td>1</td>\n",
       "      <td>3</td>\n",
       "      <td>0.555556</td>\n",
       "    </tr>\n",
       "    <tr>\n",
       "      <th>4</th>\n",
       "      <td>2</td>\n",
       "      <td>0</td>\n",
       "      <td>1.000000</td>\n",
       "    </tr>\n",
       "    <tr>\n",
       "      <th>5</th>\n",
       "      <td>2</td>\n",
       "      <td>1</td>\n",
       "      <td>1.000000</td>\n",
       "    </tr>\n",
       "    <tr>\n",
       "      <th>6</th>\n",
       "      <td>2</td>\n",
       "      <td>2</td>\n",
       "      <td>1.000000</td>\n",
       "    </tr>\n",
       "    <tr>\n",
       "      <th>7</th>\n",
       "      <td>2</td>\n",
       "      <td>3</td>\n",
       "      <td>1.000000</td>\n",
       "    </tr>\n",
       "    <tr>\n",
       "      <th>8</th>\n",
       "      <td>3</td>\n",
       "      <td>0</td>\n",
       "      <td>0.277778</td>\n",
       "    </tr>\n",
       "    <tr>\n",
       "      <th>9</th>\n",
       "      <td>3</td>\n",
       "      <td>1</td>\n",
       "      <td>0.611111</td>\n",
       "    </tr>\n",
       "    <tr>\n",
       "      <th>10</th>\n",
       "      <td>3</td>\n",
       "      <td>2</td>\n",
       "      <td>0.166667</td>\n",
       "    </tr>\n",
       "    <tr>\n",
       "      <th>11</th>\n",
       "      <td>3</td>\n",
       "      <td>3</td>\n",
       "      <td>0.333333</td>\n",
       "    </tr>\n",
       "    <tr>\n",
       "      <th>12</th>\n",
       "      <td>4</td>\n",
       "      <td>0</td>\n",
       "      <td>0.333333</td>\n",
       "    </tr>\n",
       "    <tr>\n",
       "      <th>13</th>\n",
       "      <td>4</td>\n",
       "      <td>1</td>\n",
       "      <td>0.500000</td>\n",
       "    </tr>\n",
       "    <tr>\n",
       "      <th>14</th>\n",
       "      <td>4</td>\n",
       "      <td>2</td>\n",
       "      <td>0.111111</td>\n",
       "    </tr>\n",
       "    <tr>\n",
       "      <th>15</th>\n",
       "      <td>4</td>\n",
       "      <td>3</td>\n",
       "      <td>0.444444</td>\n",
       "    </tr>\n",
       "    <tr>\n",
       "      <th>16</th>\n",
       "      <td>5</td>\n",
       "      <td>0</td>\n",
       "      <td>0.333333</td>\n",
       "    </tr>\n",
       "    <tr>\n",
       "      <th>17</th>\n",
       "      <td>5</td>\n",
       "      <td>1</td>\n",
       "      <td>0.555556</td>\n",
       "    </tr>\n",
       "    <tr>\n",
       "      <th>18</th>\n",
       "      <td>5</td>\n",
       "      <td>2</td>\n",
       "      <td>0.277778</td>\n",
       "    </tr>\n",
       "    <tr>\n",
       "      <th>19</th>\n",
       "      <td>5</td>\n",
       "      <td>3</td>\n",
       "      <td>0.500000</td>\n",
       "    </tr>\n",
       "    <tr>\n",
       "      <th>20</th>\n",
       "      <td>6</td>\n",
       "      <td>0</td>\n",
       "      <td>0.777778</td>\n",
       "    </tr>\n",
       "    <tr>\n",
       "      <th>21</th>\n",
       "      <td>6</td>\n",
       "      <td>1</td>\n",
       "      <td>0.611111</td>\n",
       "    </tr>\n",
       "    <tr>\n",
       "      <th>22</th>\n",
       "      <td>6</td>\n",
       "      <td>2</td>\n",
       "      <td>0.555556</td>\n",
       "    </tr>\n",
       "    <tr>\n",
       "      <th>23</th>\n",
       "      <td>6</td>\n",
       "      <td>3</td>\n",
       "      <td>0.611111</td>\n",
       "    </tr>\n",
       "    <tr>\n",
       "      <th>24</th>\n",
       "      <td>7</td>\n",
       "      <td>0</td>\n",
       "      <td>0.777778</td>\n",
       "    </tr>\n",
       "    <tr>\n",
       "      <th>25</th>\n",
       "      <td>7</td>\n",
       "      <td>1</td>\n",
       "      <td>0.833333</td>\n",
       "    </tr>\n",
       "    <tr>\n",
       "      <th>26</th>\n",
       "      <td>7</td>\n",
       "      <td>2</td>\n",
       "      <td>0.944444</td>\n",
       "    </tr>\n",
       "    <tr>\n",
       "      <th>27</th>\n",
       "      <td>7</td>\n",
       "      <td>3</td>\n",
       "      <td>1.000000</td>\n",
       "    </tr>\n",
       "  </tbody>\n",
       "</table>\n",
       "</div>"
      ],
      "text/plain": [
       "    actor  treatment         0\n",
       "0       1          0  0.333333\n",
       "1       1          1  0.500000\n",
       "2       1          2  0.277778\n",
       "3       1          3  0.555556\n",
       "4       2          0  1.000000\n",
       "5       2          1  1.000000\n",
       "6       2          2  1.000000\n",
       "7       2          3  1.000000\n",
       "8       3          0  0.277778\n",
       "9       3          1  0.611111\n",
       "10      3          2  0.166667\n",
       "11      3          3  0.333333\n",
       "12      4          0  0.333333\n",
       "13      4          1  0.500000\n",
       "14      4          2  0.111111\n",
       "15      4          3  0.444444\n",
       "16      5          0  0.333333\n",
       "17      5          1  0.555556\n",
       "18      5          2  0.277778\n",
       "19      5          3  0.500000\n",
       "20      6          0  0.777778\n",
       "21      6          1  0.611111\n",
       "22      6          2  0.555556\n",
       "23      6          3  0.611111\n",
       "24      7          0  0.777778\n",
       "25      7          1  0.833333\n",
       "26      7          2  0.944444\n",
       "27      7          3  1.000000"
      ]
     },
     "execution_count": 29,
     "metadata": {},
     "output_type": "execute_result"
    }
   ],
   "source": [
    "pl.stack().reset_index()"
   ]
  },
  {
   "cell_type": "markdown",
   "id": "7b5524bd",
   "metadata": {},
   "source": [
    "### Credit https://github.com/pymc-devs/resources/blob/master/Rethinking_2/Chp_11.ipynb"
   ]
  },
  {
   "cell_type": "code",
   "execution_count": 30,
   "id": "5df65d95",
   "metadata": {},
   "outputs": [
    {
     "data": {
      "text/html": [
       "\n",
       "    <div>\n",
       "        <style>\n",
       "            /* Turns off some styling */\n",
       "            progress {\n",
       "                /* gets rid of default border in Firefox and Opera. */\n",
       "                border: none;\n",
       "                /* Needs to be in here for Safari polyfill so background images work as expected. */\n",
       "                background-size: auto;\n",
       "            }\n",
       "            .progress-bar-interrupted, .progress-bar-interrupted::-webkit-progress-bar {\n",
       "                background: #F44336;\n",
       "            }\n",
       "        </style>\n",
       "      <progress value='8000' class='' max='8000' style='width:300px; height:20px; vertical-align: middle;'></progress>\n",
       "      100.00% [8000/8000 00:02<00:00]\n",
       "    </div>\n",
       "    "
      ],
      "text/plain": [
       "<IPython.core.display.HTML object>"
      ]
     },
     "metadata": {},
     "output_type": "display_data"
    }
   ],
   "source": [
    "with m_11_4:\n",
    "    pm.set_data({\"actor_id\": np.repeat(range(7), 4), \"treat_id\": list(range(4)) * 7})\n",
    "    p_post = pm.sample_posterior_predictive(trace_11_4,\n",
    "                                            random_seed=RANDOM_SEED, \n",
    "                                            var_names=['p'])['p']\n",
    "p_mu = p_post.mean(0).reshape((7, 4))"
   ]
  },
  {
   "cell_type": "code",
   "execution_count": 31,
   "id": "3bdad7dc",
   "metadata": {},
   "outputs": [
    {
     "data": {
      "image/png": "[encoded data removed]",
      "text/plain": [
       "<Figure size 1200x600 with 2 Axes>"
      ]
     },
     "metadata": {},
     "output_type": "display_data"
    }
   ],
   "source": [
    "pl_val = pl.stack().values\n",
    "_, (ax0, ax1) = plt.subplots(2, 1, figsize=(12, 6))\n",
    "\n",
    "alpha, xoff, yoff = 0.6, 0.3, 0.05\n",
    "\n",
    "ax0.plot([7 * 4 - 0.5] * 2, [0, 1], c='k', alpha=0.4, lw=1)\n",
    "ax0.axhline(0.5, ls='--', c='k', alpha=0.4)\n",
    "\n",
    "for actor in range(1, 1 + len(actors)):\n",
    "    ax0.plot(\n",
    "        [actor * 4, actor * 4 + 2],\n",
    "        [pl.loc[actor, 0], pl.loc[actor, 2]],\n",
    "        '-',\n",
    "        c='b',\n",
    "        alpha=alpha,\n",
    "    )\n",
    "    ax0.plot(\n",
    "        [actor * 4 + 1, actor * 4 + 3],\n",
    "        [pl.loc[actor, 1], pl.loc[actor, 3]],\n",
    "        '-',\n",
    "        c='b',\n",
    "        alpha=alpha,\n",
    "    )\n",
    "    ax0.plot(\n",
    "        [actor * 4, actor * 4 + 1],\n",
    "        [pl.loc[actor, 0], pl.loc[actor, 1]],\n",
    "        'o',\n",
    "        c='b',\n",
    "        fillstyle='none',\n",
    "        ms=6,\n",
    "        alpha=alpha,\n",
    "    )\n",
    "    ax0.plot(\n",
    "        [actor * 4 + 2, actor * 4 + 3],\n",
    "        [pl.loc[actor, 2], pl.loc[actor, 3]],\n",
    "        'o',\n",
    "        c='b',\n",
    "        ms=6,\n",
    "        alpha=alpha,\n",
    "    )\n",
    "    ax0.plot([actor * 4 - 0.5] * 2, [0, 1], c='k', alpha=0.4, lw=1)\n",
    "    ax0.text(actor * 4 + 0.5, 1.1, f'actor {actor}', fontsize=12)\n",
    "    if actor == 0:\n",
    "        ax0.text(actor * 4 - xoff, pl.loc[actor, 0] - 2 * yoff, 'R/N')\n",
    "        ax0.text(actor * 4 + 1 - xoff, pl.loc[actor, 1] + yoff, 'L/N')\n",
    "        ax0.text(actor * 4 + 2 - xoff, pl.loc[actor, 2] - 2 * yoff, 'R/P')\n",
    "        ax0.text(actor * 4 + 3 - xoff, pl.loc[actor, 3] + yoff, 'L/P')\n",
    "\n",
    "ax0.set_xticks([])\n",
    "ax0.set_ylabel('proportion left lever', labelpad=10)\n",
    "ax0.set_title('observed proportions', pad=25)\n",
    "\n",
    "ax1.plot([range(28), range(28)], az.hdi(p_post).T, 'k-', lw=2, alpha=alpha)\n",
    "ax1.plot([7 * 4 - 0.5] * 2, [0, 1], c='k', alpha=0.4, lw=1)\n",
    "ax1.axhline(0.5, ls='--', c='k', alpha=0.4)\n",
    "\n",
    "for actor in range(len(actors)):\n",
    "    ax1.plot(\n",
    "        [actor * 4, actor * 4 + 2],\n",
    "        [p_mu[actor, 0], p_mu[actor, 2]],\n",
    "        '-',\n",
    "        c='k',\n",
    "        alpha=alpha,\n",
    "    )\n",
    "    ax1.plot(\n",
    "        [actor * 4 + 1, actor * 4 + 3],\n",
    "        [p_mu[actor, 1], p_mu[actor, 3]],\n",
    "        '-',\n",
    "        c='k',\n",
    "        alpha=alpha,\n",
    "    )\n",
    "    ax1.plot(\n",
    "        [actor * 4, actor * 4 + 1],\n",
    "        [p_mu[actor, 0], p_mu[actor, 1]],\n",
    "        'o',\n",
    "        c='k',\n",
    "        fillstyle='none',\n",
    "        ms=6,\n",
    "        alpha=alpha,\n",
    "    )\n",
    "    ax1.plot(\n",
    "        [actor * 4 + 2, actor * 4 + 3],\n",
    "        [p_mu[actor, 2], p_mu[actor, 3]],\n",
    "        'o',\n",
    "        c='k',\n",
    "        ms=6,\n",
    "        alpha=alpha,\n",
    "    )\n",
    "    ax1.plot([actor * 4 - 0.5] * 2, [0, 1], c='k', alpha=0.4, lw=1)\n",
    "    ax1.text(actor * 4 + 0.5, 1.1, f'actor {actor + 1}', fontsize=12)\n",
    "\n",
    "ax1.set_xticks([])\n",
    "ax1.set_ylabel('proportion left lever', labelpad=10)\n",
    "ax1.set_title('posterior predictions', pad=25);"
   ]
  },
  {
   "cell_type": "markdown",
   "id": "5a8e7505",
   "metadata": {},
   "source": [
    "### Code 11.18"
   ]
  },
  {
   "cell_type": "code",
   "execution_count": 32,
   "id": "a8529020",
   "metadata": {},
   "outputs": [],
   "source": [
    "side = df['prosoc_left'].values # right = 0, left = 1\n",
    "cond = df['condition'].values # no partner = 0, partner = 1"
   ]
  },
  {
   "cell_type": "markdown",
   "id": "b7c440ac",
   "metadata": {},
   "source": [
    "### Code 11.19"
   ]
  },
  {
   "cell_type": "code",
   "execution_count": 33,
   "id": "6e85f335",
   "metadata": {},
   "outputs": [
    {
     "name": "stderr",
     "output_type": "stream",
     "text": [
      "Auto-assigning NUTS sampler...\n",
      "Initializing NUTS using jitter+adapt_diag...\n",
      "Multiprocess sampling (4 chains in 4 jobs)\n",
      "NUTS: [bc, bs, a]\n"
     ]
    },
    {
     "data": {
      "text/html": [
       "\n",
       "    <div>\n",
       "        <style>\n",
       "            /* Turns off some styling */\n",
       "            progress {\n",
       "                /* gets rid of default border in Firefox and Opera. */\n",
       "                border: none;\n",
       "                /* Needs to be in here for Safari polyfill so background images work as expected. */\n",
       "                background-size: auto;\n",
       "            }\n",
       "            .progress-bar-interrupted, .progress-bar-interrupted::-webkit-progress-bar {\n",
       "                background: #F44336;\n",
       "            }\n",
       "        </style>\n",
       "      <progress value='16000' class='' max='16000' style='width:300px; height:20px; vertical-align: middle;'></progress>\n",
       "      100.00% [16000/16000 00:08<00:00 Sampling 4 chains, 0 divergences]\n",
       "    </div>\n",
       "    "
      ],
      "text/plain": [
       "<IPython.core.display.HTML object>"
      ]
     },
     "metadata": {},
     "output_type": "display_data"
    },
    {
     "name": "stderr",
     "output_type": "stream",
     "text": [
      "Sampling 4 chains for 2_000 tune and 2_000 draw iterations (8_000 + 8_000 draws total) took 9 seconds.\n"
     ]
    }
   ],
   "source": [
    "with pm.Model() as m_11_5:\n",
    "    a = pm.Normal('a', mu=0, sigma=1.5, shape=df['actor'].nunique())\n",
    "    bs = pm.Normal('bs', mu=0, sigma=0.5, shape=2)\n",
    "    bc = pm.Normal('bc', mu=0, sigma=0.5, shape=2)\n",
    "    \n",
    "    p = pm.Deterministic('p', pm.math.invlogit(a[actor_ids] + bs[side] + bc[cond]))\n",
    "    pulled_left = pm.Binomial('pulled_left', n=1, p=p, observed=df['pulled_left'])\n",
    "    \n",
    "    trace_11_5 = pm.sample(2000, tune=2000)"
   ]
  },
  {
   "cell_type": "code",
   "execution_count": 34,
   "id": "bfa93406",
   "metadata": {},
   "outputs": [
    {
     "data": {
      "text/plain": [
       "(8000, 504)"
      ]
     },
     "execution_count": 34,
     "metadata": {},
     "output_type": "execute_result"
    }
   ],
   "source": [
    "trace_11_5['p'].shape"
   ]
  },
  {
   "cell_type": "code",
   "execution_count": 35,
   "id": "c8e29269",
   "metadata": {},
   "outputs": [
    {
     "name": "stderr",
     "output_type": "stream",
     "text": [
      "Auto-assigning NUTS sampler...\n",
      "Initializing NUTS using jitter+adapt_diag...\n",
      "Multiprocess sampling (4 chains in 4 jobs)\n",
      "NUTS: [b, a]\n"
     ]
    },
    {
     "data": {
      "text/html": [
       "\n",
       "    <div>\n",
       "        <style>\n",
       "            /* Turns off some styling */\n",
       "            progress {\n",
       "                /* gets rid of default border in Firefox and Opera. */\n",
       "                border: none;\n",
       "                /* Needs to be in here for Safari polyfill so background images work as expected. */\n",
       "                background-size: auto;\n",
       "            }\n",
       "            .progress-bar-interrupted, .progress-bar-interrupted::-webkit-progress-bar {\n",
       "                background: #F44336;\n",
       "            }\n",
       "        </style>\n",
       "      <progress value='8000' class='' max='8000' style='width:300px; height:20px; vertical-align: middle;'></progress>\n",
       "      100.00% [8000/8000 00:03<00:00 Sampling 4 chains, 0 divergences]\n",
       "    </div>\n",
       "    "
      ],
      "text/plain": [
       "<IPython.core.display.HTML object>"
      ]
     },
     "metadata": {},
     "output_type": "display_data"
    },
    {
     "name": "stderr",
     "output_type": "stream",
     "text": [
      "Sampling 4 chains for 1_000 tune and 1_000 draw iterations (4_000 + 4_000 draws total) took 3 seconds.\n"
     ]
    }
   ],
   "source": [
    "with m_11_4:\n",
    "    pm.set_data({\"actor_id\": actor_ids, \"treat_id\": treatment_ids})\n",
    "    trace_11_4 = pm.sample(random_seed=RANDOM_SEED)"
   ]
  },
  {
   "cell_type": "code",
   "execution_count": 36,
   "id": "cbe7e71c",
   "metadata": {},
   "outputs": [
    {
     "name": "stderr",
     "output_type": "stream",
     "text": [
      "/home/somnath/install/anaconda3/envs/stat-rethink-pymc3/lib/python3.9/site-packages/arviz/stats/stats.py:145: UserWarning: The default method used to estimate the weights for each model,has changed from BB-pseudo-BMA to stacking\n",
      "  warnings.warn(\n"
     ]
    },
    {
     "data": {
      "text/html": [
       "<div>\n",
       "<style scoped>\n",
       "    .dataframe tbody tr th:only-of-type {\n",
       "        vertical-align: middle;\n",
       "    }\n",
       "\n",
       "    .dataframe tbody tr th {\n",
       "        vertical-align: top;\n",
       "    }\n",
       "\n",
       "    .dataframe thead th {\n",
       "        text-align: right;\n",
       "    }\n",
       "</style>\n",
       "<table border=\"1\" class=\"dataframe\">\n",
       "  <thead>\n",
       "    <tr style=\"text-align: right;\">\n",
       "      <th></th>\n",
       "      <th>rank</th>\n",
       "      <th>loo</th>\n",
       "      <th>p_loo</th>\n",
       "      <th>d_loo</th>\n",
       "      <th>weight</th>\n",
       "      <th>se</th>\n",
       "      <th>dse</th>\n",
       "      <th>warning</th>\n",
       "      <th>loo_scale</th>\n",
       "    </tr>\n",
       "  </thead>\n",
       "  <tbody>\n",
       "    <tr>\n",
       "      <th>m11.5</th>\n",
       "      <td>0</td>\n",
       "      <td>-265.248144</td>\n",
       "      <td>7.599845</td>\n",
       "      <td>0.000000</td>\n",
       "      <td>1.0</td>\n",
       "      <td>9.541919</td>\n",
       "      <td>0.000000</td>\n",
       "      <td>False</td>\n",
       "      <td>log</td>\n",
       "    </tr>\n",
       "    <tr>\n",
       "      <th>m11.4</th>\n",
       "      <td>1</td>\n",
       "      <td>-265.938750</td>\n",
       "      <td>8.341003</td>\n",
       "      <td>0.690606</td>\n",
       "      <td>0.0</td>\n",
       "      <td>9.465247</td>\n",
       "      <td>0.635209</td>\n",
       "      <td>False</td>\n",
       "      <td>log</td>\n",
       "    </tr>\n",
       "  </tbody>\n",
       "</table>\n",
       "</div>"
      ],
      "text/plain": [
       "       rank         loo     p_loo     d_loo  weight        se       dse  \\\n",
       "m11.5     0 -265.248144  7.599845  0.000000     1.0  9.541919  0.000000   \n",
       "m11.4     1 -265.938750  8.341003  0.690606     0.0  9.465247  0.635209   \n",
       "\n",
       "       warning loo_scale  \n",
       "m11.5    False       log  \n",
       "m11.4    False       log  "
      ]
     },
     "execution_count": 36,
     "metadata": {},
     "output_type": "execute_result"
    }
   ],
   "source": [
    "az.compare({'m11.4': trace_11_4, 'm11.5': trace_11_5}, ic='loo')"
   ]
  },
  {
   "cell_type": "code",
   "execution_count": 37,
   "id": "d907e801",
   "metadata": {},
   "outputs": [
    {
     "name": "stderr",
     "output_type": "stream",
     "text": [
      "/home/somnath/install/anaconda3/envs/stat-rethink-pymc3/lib/python3.9/site-packages/arviz/stats/stats.py:145: UserWarning: The default method used to estimate the weights for each model,has changed from BB-pseudo-BMA to stacking\n",
      "  warnings.warn(\n"
     ]
    },
    {
     "data": {
      "text/html": [
       "<div>\n",
       "<style scoped>\n",
       "    .dataframe tbody tr th:only-of-type {\n",
       "        vertical-align: middle;\n",
       "    }\n",
       "\n",
       "    .dataframe tbody tr th {\n",
       "        vertical-align: top;\n",
       "    }\n",
       "\n",
       "    .dataframe thead th {\n",
       "        text-align: right;\n",
       "    }\n",
       "</style>\n",
       "<table border=\"1\" class=\"dataframe\">\n",
       "  <thead>\n",
       "    <tr style=\"text-align: right;\">\n",
       "      <th></th>\n",
       "      <th>rank</th>\n",
       "      <th>waic</th>\n",
       "      <th>p_waic</th>\n",
       "      <th>d_waic</th>\n",
       "      <th>weight</th>\n",
       "      <th>se</th>\n",
       "      <th>dse</th>\n",
       "      <th>warning</th>\n",
       "      <th>waic_scale</th>\n",
       "    </tr>\n",
       "  </thead>\n",
       "  <tbody>\n",
       "    <tr>\n",
       "      <th>m11.5</th>\n",
       "      <td>0</td>\n",
       "      <td>-265.245371</td>\n",
       "      <td>7.597072</td>\n",
       "      <td>0.000000</td>\n",
       "      <td>1.0</td>\n",
       "      <td>9.541824</td>\n",
       "      <td>0.000000</td>\n",
       "      <td>False</td>\n",
       "      <td>log</td>\n",
       "    </tr>\n",
       "    <tr>\n",
       "      <th>m11.4</th>\n",
       "      <td>1</td>\n",
       "      <td>-265.932753</td>\n",
       "      <td>8.335006</td>\n",
       "      <td>0.687382</td>\n",
       "      <td>0.0</td>\n",
       "      <td>9.464668</td>\n",
       "      <td>0.635251</td>\n",
       "      <td>False</td>\n",
       "      <td>log</td>\n",
       "    </tr>\n",
       "  </tbody>\n",
       "</table>\n",
       "</div>"
      ],
      "text/plain": [
       "       rank        waic    p_waic    d_waic  weight        se       dse  \\\n",
       "m11.5     0 -265.245371  7.597072  0.000000     1.0  9.541824  0.000000   \n",
       "m11.4     1 -265.932753  8.335006  0.687382     0.0  9.464668  0.635251   \n",
       "\n",
       "       warning waic_scale  \n",
       "m11.5    False        log  \n",
       "m11.4    False        log  "
      ]
     },
     "execution_count": 37,
     "metadata": {},
     "output_type": "execute_result"
    }
   ],
   "source": [
    "az.compare({'m11.4': trace_11_4, 'm11.5': trace_11_5}, ic='waic')"
   ]
  },
  {
   "cell_type": "markdown",
   "id": "392dbfba",
   "metadata": {},
   "source": [
    "### Meaning of Columns\n",
    "\n",
    "Taken verbatim from https://docs.pymc.io/notebooks/model_comparison.html\n",
    "\n",
    "\n",
    "1. The index is the names of the models taken from the keys of the dictionary passed to compare(.).\n",
    "\n",
    "2. `rank`, the ranking of the models starting from 0 (best model) to the number of models.\n",
    "\n",
    "3. `loo`, the values of LOO (or WAIC). The DataFrame is always sorted from best LOO/WAIC to worst.\n",
    "\n",
    "4. `p_loo`, the value of the penalization term. We can roughly think of this value as the estimated effective number of parameters (but do not take that too seriously).\n",
    "\n",
    "5. `d_loo`, the relative difference between the value of LOO/WAIC for the top-ranked model and the value of LOO/WAIC for each model. For this reason we will always get a value of 0 for the first model.\n",
    "\n",
    "6. `weight`, the weights assigned to each model. These weights can be loosely interpreted as the probability of each model being true (among the compared models) given the data.\n",
    "\n",
    "7. `se`, the standard error for the LOO/WAIC computations. The standard error can be useful to assess the uncertainty of the LOO/WAIC estimates. By default these errors are computed using stacking.\n",
    "\n",
    "8. `dse`, the standard errors of the difference between two values of LOO/WAIC. The same way that we can compute the standard error for each value of LOO/WAIC, we can compute the standard error of the differences between two values of LOO/WAIC. Notice that both quantities are not necessarily the same, the reason is that the uncertainty about LOO/WAIC is correlated between models. This quantity is always 0 for the top-ranked model.\n",
    "\n",
    "9. `warning`, If True the computation of LOO/WAIC may not be reliable.\n",
    "\n",
    "10. `loo_scale`, the scale of the reported values. The default is the log scale as previously mentioned. Other options are deviance – this is the log-score multiplied by -2 (this reverts the order: a lower LOO/WAIC will be better) – and negative-log – this is the log-score multiplied by -1 (as with the deviance scale, a lower value is better).\n"
   ]
  },
  {
   "cell_type": "markdown",
   "id": "7a42cea9",
   "metadata": {},
   "source": [
    "### Code 11.23\n",
    "\n",
    "This calculates the relative change in the odds of the left lever being pulled. Recall that the odds the left lever being pulled by an actor $\\alpha$ under two different treatments $\\beta_1$ and $\\beta_2$ are given by:\n",
    "\\begin{align*}\n",
    "    \\log \\frac{p_1}{1 - p_1} & = \\alpha + \\beta_1 \\\\\n",
    "    \\log \\frac{p_2}{1 - p_2} & = \\alpha + \\beta_2.\n",
    "\\end{align*}\n",
    "The relative odds $\\frac{p_2}{1 - p_2} \\div \\frac{p_1}{1 - p_1}$ is $e^{\\beta_2 - \\beta_1}$."
   ]
  },
  {
   "cell_type": "code",
   "execution_count": 38,
   "id": "50c041e8",
   "metadata": {},
   "outputs": [
    {
     "data": {
      "text/plain": [
       "0.927202553198784"
      ]
     },
     "execution_count": 38,
     "metadata": {},
     "output_type": "execute_result"
    }
   ],
   "source": [
    "np.mean(np.exp(trace_11_4['b'][:, 3] - trace_11_4['b'][:, 1]))"
   ]
  }
 ],
 "metadata": {
  "kernelspec": {
   "display_name": "stat-rethink",
   "language": "python",
   "name": "stat-rethink"
  },
  "language_info": {
   "codemirror_mode": {
    "name": "ipython",
    "version": 3
   },
   "file_extension": ".py",
   "mimetype": "text/x-python",
   "name": "python",
   "nbconvert_exporter": "python",
   "pygments_lexer": "ipython3",
   "version": "3.9.4"
  }
 },
 "nbformat": 4,
 "nbformat_minor": 5
}
