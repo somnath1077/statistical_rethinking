{
 "cells": [
  {
   "cell_type": "code",
   "execution_count": 1,
   "id": "498a627a",
   "metadata": {},
   "outputs": [],
   "source": [
    "import pandas as pd\n",
    "\n",
    "DATA_FILE = '../../data/chimpanzees.csv'"
   ]
  },
  {
   "cell_type": "code",
   "execution_count": 2,
   "id": "f1bcc23e",
   "metadata": {},
   "outputs": [
    {
     "data": {
      "text/html": [
       "<div>\n",
       "<style scoped>\n",
       "    .dataframe tbody tr th:only-of-type {\n",
       "        vertical-align: middle;\n",
       "    }\n",
       "\n",
       "    .dataframe tbody tr th {\n",
       "        vertical-align: top;\n",
       "    }\n",
       "\n",
       "    .dataframe thead th {\n",
       "        text-align: right;\n",
       "    }\n",
       "</style>\n",
       "<table border=\"1\" class=\"dataframe\">\n",
       "  <thead>\n",
       "    <tr style=\"text-align: right;\">\n",
       "      <th></th>\n",
       "      <th>actor</th>\n",
       "      <th>recipient</th>\n",
       "      <th>condition</th>\n",
       "      <th>block</th>\n",
       "      <th>trial</th>\n",
       "      <th>prosoc_left</th>\n",
       "      <th>chose_prosoc</th>\n",
       "      <th>pulled_left</th>\n",
       "    </tr>\n",
       "  </thead>\n",
       "  <tbody>\n",
       "    <tr>\n",
       "      <th>0</th>\n",
       "      <td>1</td>\n",
       "      <td>NaN</td>\n",
       "      <td>0</td>\n",
       "      <td>1</td>\n",
       "      <td>2</td>\n",
       "      <td>0</td>\n",
       "      <td>1</td>\n",
       "      <td>0</td>\n",
       "    </tr>\n",
       "    <tr>\n",
       "      <th>1</th>\n",
       "      <td>1</td>\n",
       "      <td>NaN</td>\n",
       "      <td>0</td>\n",
       "      <td>1</td>\n",
       "      <td>4</td>\n",
       "      <td>0</td>\n",
       "      <td>0</td>\n",
       "      <td>1</td>\n",
       "    </tr>\n",
       "    <tr>\n",
       "      <th>2</th>\n",
       "      <td>1</td>\n",
       "      <td>NaN</td>\n",
       "      <td>0</td>\n",
       "      <td>1</td>\n",
       "      <td>6</td>\n",
       "      <td>1</td>\n",
       "      <td>0</td>\n",
       "      <td>0</td>\n",
       "    </tr>\n",
       "    <tr>\n",
       "      <th>3</th>\n",
       "      <td>1</td>\n",
       "      <td>NaN</td>\n",
       "      <td>0</td>\n",
       "      <td>1</td>\n",
       "      <td>8</td>\n",
       "      <td>0</td>\n",
       "      <td>1</td>\n",
       "      <td>0</td>\n",
       "    </tr>\n",
       "    <tr>\n",
       "      <th>4</th>\n",
       "      <td>1</td>\n",
       "      <td>NaN</td>\n",
       "      <td>0</td>\n",
       "      <td>1</td>\n",
       "      <td>10</td>\n",
       "      <td>1</td>\n",
       "      <td>1</td>\n",
       "      <td>1</td>\n",
       "    </tr>\n",
       "  </tbody>\n",
       "</table>\n",
       "</div>"
      ],
      "text/plain": [
       "   actor  recipient  condition  block  trial  prosoc_left  chose_prosoc  \\\n",
       "0      1        NaN          0      1      2            0             1   \n",
       "1      1        NaN          0      1      4            0             0   \n",
       "2      1        NaN          0      1      6            1             0   \n",
       "3      1        NaN          0      1      8            0             1   \n",
       "4      1        NaN          0      1     10            1             1   \n",
       "\n",
       "   pulled_left  \n",
       "0            0  \n",
       "1            1  \n",
       "2            0  \n",
       "3            0  \n",
       "4            1  "
      ]
     },
     "execution_count": 2,
     "metadata": {},
     "output_type": "execute_result"
    }
   ],
   "source": [
    "df = pd.read_csv(DATA_FILE)\n",
    "df.head()"
   ]
  },
  {
   "cell_type": "markdown",
   "id": "bf2e817d",
   "metadata": {},
   "source": [
    "### Code 11.2"
   ]
  },
  {
   "cell_type": "code",
   "execution_count": 3,
   "id": "ea97114d",
   "metadata": {},
   "outputs": [
    {
     "data": {
      "text/html": [
       "<div>\n",
       "<style scoped>\n",
       "    .dataframe tbody tr th:only-of-type {\n",
       "        vertical-align: middle;\n",
       "    }\n",
       "\n",
       "    .dataframe tbody tr th {\n",
       "        vertical-align: top;\n",
       "    }\n",
       "\n",
       "    .dataframe thead th {\n",
       "        text-align: right;\n",
       "    }\n",
       "</style>\n",
       "<table border=\"1\" class=\"dataframe\">\n",
       "  <thead>\n",
       "    <tr style=\"text-align: right;\">\n",
       "      <th></th>\n",
       "      <th>condition</th>\n",
       "      <th>prosoc_left</th>\n",
       "      <th>treatment</th>\n",
       "    </tr>\n",
       "  </thead>\n",
       "  <tbody>\n",
       "    <tr>\n",
       "      <th>0</th>\n",
       "      <td>0</td>\n",
       "      <td>0</td>\n",
       "      <td>0</td>\n",
       "    </tr>\n",
       "    <tr>\n",
       "      <th>2</th>\n",
       "      <td>0</td>\n",
       "      <td>1</td>\n",
       "      <td>1</td>\n",
       "    </tr>\n",
       "    <tr>\n",
       "      <th>36</th>\n",
       "      <td>1</td>\n",
       "      <td>0</td>\n",
       "      <td>2</td>\n",
       "    </tr>\n",
       "    <tr>\n",
       "      <th>38</th>\n",
       "      <td>1</td>\n",
       "      <td>1</td>\n",
       "      <td>3</td>\n",
       "    </tr>\n",
       "  </tbody>\n",
       "</table>\n",
       "</div>"
      ],
      "text/plain": [
       "    condition  prosoc_left  treatment\n",
       "0           0            0          0\n",
       "2           0            1          1\n",
       "36          1            0          2\n",
       "38          1            1          3"
      ]
     },
     "execution_count": 3,
     "metadata": {},
     "output_type": "execute_result"
    }
   ],
   "source": [
    "df['treatment'] = df['prosoc_left'] + 2 * df['condition']\n",
    "df[['condition', 'prosoc_left', 'treatment']].drop_duplicates()"
   ]
  },
  {
   "cell_type": "code",
   "execution_count": 4,
   "id": "a0c2b92c",
   "metadata": {},
   "outputs": [
    {
     "data": {
      "text/plain": [
       "0      1\n",
       "72     2\n",
       "144    3\n",
       "216    4\n",
       "288    5\n",
       "360    6\n",
       "432    7\n",
       "Name: actor, dtype: int64"
      ]
     },
     "execution_count": 4,
     "metadata": {},
     "output_type": "execute_result"
    }
   ],
   "source": [
    "df['actor'].drop_duplicates()"
   ]
  },
  {
   "cell_type": "markdown",
   "id": "4e766a3a",
   "metadata": {},
   "source": [
    "## Model\n",
    "\n",
    "\\begin{align*}\n",
    "    L_i & \\sim \\text{Binomial}(1, p_i) \\\\\n",
    "    \\log \\frac{p_i}{1 - p_i} & = \\alpha_{\\text{actor}[i]} + \\beta_{\\text{treatment}[i]} \\\\\n",
    "    \\alpha_j & \\sim \\text{to be determined} \\\\\n",
    "    \\beta_j & \\sim \\text{to be determined}\n",
    "\\end{align*}\n",
    "\n",
    "Here $L$ indicates the binary variable `pulled_left`; there are $7$ `$\\alpha$ parameters`, one for each chimpanzee; there are $4$ `treatment` variables, one for each combination of the position of the pro-social option and the presence/absence of a partner."
   ]
  },
  {
   "cell_type": "markdown",
   "id": "32bc4dfa",
   "metadata": {},
   "source": [
    "## Priors for $\\alpha$\n",
    "\n",
    "The very first attempt consists of using a flat prior for $\\alpha$.\n",
    "\n",
    "\\begin{align*}\n",
    "    L_i & \\sim \\text{Binomial}(1, p_i) \\\\\n",
    "    \\log \\frac{p_i}{1 - p_i} & = \\alpha  \\\\\n",
    "    \\alpha & \\sim \\text{Normal}(0, \\omega)\n",
    "\\end{align*}\n"
   ]
  },
  {
   "cell_type": "code",
   "execution_count": 25,
   "id": "cac2a398",
   "metadata": {},
   "outputs": [],
   "source": [
    "import arviz as az\n",
    "import pymc3 as pm\n",
    "import numpy as np\n",
    "import matplotlib.pyplot as plt\n",
    "import seaborn as sns\n",
    "import warnings\n",
    "\n",
    "from scipy import stats\n",
    "from scipy.special import expit as logistic\n",
    "\n",
    "warnings.simplefilter(action=\"ignore\", category=FutureWarning)"
   ]
  },
  {
   "cell_type": "markdown",
   "id": "f59a9a05",
   "metadata": {},
   "source": [
    "### Code 11.4 - 11.6"
   ]
  },
  {
   "cell_type": "code",
   "execution_count": 6,
   "id": "e396c447",
   "metadata": {},
   "outputs": [],
   "source": [
    "with pm.Model() as m_11_1:\n",
    "    a = pm.Normal('a', mu=0, sigma=10)\n",
    "    p = pm.Deterministic('p', pm.math.invlogit(a))\n",
    "    pulled_left = pm.Binomial('pulled_left', n=1, p=p, observed=df['pulled_left'])\n",
    "    \n",
    "    prior_11_1 = pm.sample_prior_predictive(4000)"
   ]
  },
  {
   "cell_type": "code",
   "execution_count": 7,
   "id": "95ea3e1d",
   "metadata": {},
   "outputs": [
    {
     "data": {
      "text/plain": [
       "{'pulled_left': array([[1, 1, 1, ..., 1, 1, 1],\n",
       "        [1, 1, 1, ..., 1, 1, 1],\n",
       "        [0, 0, 0, ..., 0, 0, 0],\n",
       "        ...,\n",
       "        [0, 0, 0, ..., 0, 0, 0],\n",
       "        [1, 1, 1, ..., 1, 1, 1],\n",
       "        [1, 1, 1, ..., 1, 1, 1]]),\n",
       " 'a': array([  8.89565331,   8.68919001, -10.27260083, ...,  -6.43173986,\n",
       "          4.31132963,  23.6105978 ]),\n",
       " 'p': array([9.99863036e-01, 9.99831632e-01, 3.45661599e-05, ...,\n",
       "        1.60706104e-03, 9.86761899e-01, 1.00000000e+00])}"
      ]
     },
     "execution_count": 7,
     "metadata": {},
     "output_type": "execute_result"
    }
   ],
   "source": [
    "prior_11_1"
   ]
  },
  {
   "cell_type": "code",
   "execution_count": 8,
   "id": "39a43e00",
   "metadata": {},
   "outputs": [],
   "source": [
    "with pm.Model() as m_11_1_base:\n",
    "    a = pm.Normal('a', mu=0, sigma=1.5)\n",
    "    p = pm.Deterministic('p', pm.math.invlogit(a))\n",
    "    pulled_left = pm.Binomial('pulled_left', n=1, p=p, observed=df['pulled_left'])\n",
    "    \n",
    "    prior_11_1_base = pm.sample_prior_predictive(4000)"
   ]
  },
  {
   "cell_type": "code",
   "execution_count": 9,
   "id": "239b12e4",
   "metadata": {},
   "outputs": [
    {
     "data": {
      "image/png": "[encoded data removed]",
      "text/plain": [
       "<Figure size 432x288 with 1 Axes>"
      ]
     },
     "metadata": {
      "needs_background": "light"
     },
     "output_type": "display_data"
    }
   ],
   "source": [
    "az.plot_density([prior_11_1['p'], prior_11_1_base['p']], \n",
    "                data_labels=['a ~ Normal(0, 10)', 'a ~ Normal(0, 1.5)'],\n",
    "                colors=['k', 'steelblue'], \n",
    "                point_estimate=None);\n",
    "\n",
    "plt.xlabel(\"prior prob pull left\")\n",
    "plt.ylabel(\"Density\")\n",
    "plt.title(\"Prior predictive simulations for p\");"
   ]
  },
  {
   "cell_type": "code",
   "execution_count": 10,
   "id": "b1e73563",
   "metadata": {},
   "outputs": [
    {
     "data": {
      "image/png": "[encoded data removed]",
      "text/plain": [
       "<Figure size 720x432 with 1 Axes>"
      ]
     },
     "metadata": {
      "needs_background": "light"
     },
     "output_type": "display_data"
    }
   ],
   "source": [
    "fig, ax = plt.subplots(1, 1, figsize=(10, 6))\n",
    "\n",
    "sns.histplot(prior_11_1['p'], ax=ax, color='k');\n",
    "sns.histplot(prior_11_1_base['p'], ax=ax, color='steelblue');"
   ]
  },
  {
   "cell_type": "markdown",
   "id": "facc09f4",
   "metadata": {},
   "source": [
    "## Priors for the treatment effects"
   ]
  },
  {
   "cell_type": "markdown",
   "id": "8fa4ce41",
   "metadata": {},
   "source": [
    "### Code 11.7"
   ]
  },
  {
   "cell_type": "code",
   "execution_count": 11,
   "id": "68f3c244",
   "metadata": {},
   "outputs": [],
   "source": [
    "with pm.Model() as m_11_2:\n",
    "    a = pm.Normal('a', mu=0, sigma=1.5)\n",
    "    b = pm.Normal('b', mu=0, sigma=10, shape=df['treatment'].nunique())\n",
    "    p = pm.Deterministic('p', pm.math.invlogit(a + b[df['treatment']]))\n",
    "    pulled_left = pm.Binomial('pulled_left', n=1, p=p, observed=df['pulled_left'])\n",
    "    \n",
    "    prior_11_2 = pm.sample_prior_predictive(4000)"
   ]
  },
  {
   "cell_type": "code",
   "execution_count": 12,
   "id": "826489ab",
   "metadata": {},
   "outputs": [
    {
     "data": {
      "text/plain": [
       "(4000, 504)"
      ]
     },
     "execution_count": 12,
     "metadata": {},
     "output_type": "execute_result"
    }
   ],
   "source": [
    "prior_11_2['p'].shape"
   ]
  },
  {
   "cell_type": "code",
   "execution_count": 13,
   "id": "a881c9e9",
   "metadata": {},
   "outputs": [],
   "source": [
    "with pm.Model() as m_11_2_base:\n",
    "    a = pm.Normal('a', mu=0, sigma=1.5)\n",
    "    b = pm.Normal('b', mu=0, sigma=0.5, shape=df['treatment'].nunique())\n",
    "    p = pm.Deterministic('p', pm.math.invlogit(a + b[df['treatment']]))\n",
    "    pulled_left = pm.Binomial('pulled_left', n=1, p=p, observed=df['pulled_left'])\n",
    "    \n",
    "    prior_11_2_base = pm.sample_prior_predictive(4000)"
   ]
  },
  {
   "cell_type": "code",
   "execution_count": 14,
   "id": "943d7374",
   "metadata": {},
   "outputs": [
    {
     "data": {
      "text/plain": [
       "(4000, 504)"
      ]
     },
     "execution_count": 14,
     "metadata": {},
     "output_type": "execute_result"
    }
   ],
   "source": [
    "prior_11_2_base['p'].shape"
   ]
  },
  {
   "cell_type": "code",
   "execution_count": 15,
   "id": "46dd9140",
   "metadata": {},
   "outputs": [],
   "source": [
    "idx_0 = df[df['treatment'] == 0].index\n",
    "idx_1 = df[df['treatment'] == 1].index\n",
    "idx_2 = df[df['treatment'] == 2].index\n",
    "idx_3 = df[df['treatment'] == 3].index\n",
    "\n",
    "prior_p_11_2 = [prior_11_2['p'][:, idx] for idx in [idx_0, idx_1, idx_2, idx_3]]\n",
    "prior_p_11_2_base = [prior_11_2_base['p'][:, idx] for idx in [idx_0, idx_1, idx_2, idx_3]]"
   ]
  },
  {
   "cell_type": "code",
   "execution_count": 16,
   "id": "28e7663f",
   "metadata": {},
   "outputs": [
    {
     "name": "stdout",
     "output_type": "stream",
     "text": [
      "(4000, 126)\n",
      "(4000, 126)\n",
      "(4000, 126)\n",
      "(4000, 126)\n"
     ]
    }
   ],
   "source": [
    "for prior_p in prior_p_11_2:\n",
    "    print(prior_p.shape)"
   ]
  },
  {
   "cell_type": "markdown",
   "id": "e12a00d5",
   "metadata": {},
   "source": [
    "### Code 11.8"
   ]
  },
  {
   "cell_type": "code",
   "execution_count": 17,
   "id": "c69d4237",
   "metadata": {},
   "outputs": [
    {
     "data": {
      "text/plain": [
       "((126, 4000), (126, 4000))"
      ]
     },
     "execution_count": 17,
     "metadata": {},
     "output_type": "execute_result"
    }
   ],
   "source": [
    "abs_diff_0_1 = np.abs(prior_p_11_2[0].T - prior_p_11_2[1].T)\n",
    "abs_diff_0_1_base = np.abs(prior_p_11_2_base[0].T - prior_p_11_2_base[1].T)\n",
    "abs_diff_0_1.shape, abs_diff_0_1_base.shape"
   ]
  },
  {
   "cell_type": "code",
   "execution_count": 18,
   "id": "dcd8d1cc",
   "metadata": {},
   "outputs": [
    {
     "data": {
      "image/png": "[encoded data removed]",
      "text/plain": [
       "<Figure size 432x288 with 1 Axes>"
      ]
     },
     "metadata": {
      "needs_background": "light"
     },
     "output_type": "display_data"
    }
   ],
   "source": [
    "az.plot_density([abs_diff_0_1, abs_diff_0_1_base], \n",
    "                data_labels=['b ~ Normal(0, 10)', 'b ~ Normal(0, 0.5)'],\n",
    "                colors=['k', 'steelblue'], \n",
    "                point_estimate=None);\n",
    "\n",
    "plt.xlabel(\"prior difference between treatments 0 and 1\")\n",
    "plt.ylabel(\"Density\")\n",
    "plt.title(\"Prior predictive simulations for p\");"
   ]
  },
  {
   "cell_type": "markdown",
   "id": "bd3bf904",
   "metadata": {},
   "source": [
    "### Code 11.9"
   ]
  },
  {
   "cell_type": "code",
   "execution_count": 19,
   "id": "aa0e1fe4",
   "metadata": {},
   "outputs": [
    {
     "data": {
      "text/plain": [
       "0.09534441778711254"
      ]
     },
     "execution_count": 19,
     "metadata": {},
     "output_type": "execute_result"
    }
   ],
   "source": [
    "abs_diff_0_1_base.mean()"
   ]
  },
  {
   "cell_type": "markdown",
   "id": "deca2621",
   "metadata": {},
   "source": [
    "### Code 11.10"
   ]
  },
  {
   "cell_type": "code",
   "execution_count": 20,
   "id": "6eba5a7c",
   "metadata": {},
   "outputs": [],
   "source": [
    "actor_ids, actors = pd.factorize(df['actor'])\n",
    "treatment_ids, treatment = pd.factorize(df['treatment'])"
   ]
  },
  {
   "cell_type": "code",
   "execution_count": 26,
   "id": "75486b9c",
   "metadata": {},
   "outputs": [
    {
     "name": "stderr",
     "output_type": "stream",
     "text": [
      "Auto-assigning NUTS sampler...\n",
      "Initializing NUTS using jitter+adapt_diag...\n",
      "Multiprocess sampling (4 chains in 4 jobs)\n",
      "NUTS: [b, a]\n"
     ]
    },
    {
     "data": {
      "text/html": [
       "\n",
       "    <div>\n",
       "        <style>\n",
       "            /* Turns off some styling */\n",
       "            progress {\n",
       "                /* gets rid of default border in Firefox and Opera. */\n",
       "                border: none;\n",
       "                /* Needs to be in here for Safari polyfill so background images work as expected. */\n",
       "                background-size: auto;\n",
       "            }\n",
       "            .progress-bar-interrupted, .progress-bar-interrupted::-webkit-progress-bar {\n",
       "                background: #F44336;\n",
       "            }\n",
       "        </style>\n",
       "      <progress value='16000' class='' max='16000' style='width:300px; height:20px; vertical-align: middle;'></progress>\n",
       "      100.00% [16000/16000 00:17<00:00 Sampling 4 chains, 0 divergences]\n",
       "    </div>\n",
       "    "
      ],
      "text/plain": [
       "<IPython.core.display.HTML object>"
      ]
     },
     "metadata": {},
     "output_type": "display_data"
    },
    {
     "name": "stderr",
     "output_type": "stream",
     "text": [
      "Sampling 4 chains for 2_000 tune and 2_000 draw iterations (8_000 + 8_000 draws total) took 17 seconds.\n"
     ]
    }
   ],
   "source": [
    "import theano.tensor as tt\n",
    "\n",
    "with pm.Model() as m_11_4:\n",
    "    a = pm.Normal('a', mu=0, sigma=1.5, shape=len(actors))\n",
    "    b = pm.Normal('b', mu=0, sigma=0.5, shape=len(treatment))\n",
    "    \n",
    "    # This was taken verbatim from https://github.com/pymc-devs/resources/blob/master/Rethinking_2/Chp_11.ipynb\n",
    "    # Not sure what this does\n",
    "    actor_id = pm.intX(pm.Data('actor_id', actor_ids))\n",
    "    treat_id = pm.intX(pm.Data('treat_id', treatment_ids))\n",
    "    \n",
    "    p = pm.Deterministic('p', pm.math.invlogit(a[actor_id] + b[treat_id]))\n",
    "    \n",
    "    # a_vect = tt.stack([a[idx] for idx in actor_ids])\n",
    "    # b_vect = tt.stack([b[idx] for idx in treatment_ids])\n",
    "    # p = pm.Deterministic('p', pm.math.invlogit(a_vect + b_vect))\n",
    "    pulled_left = pm.Binomial('pulled_left', n=1, p=p, observed=df['pulled_left'])\n",
    "    \n",
    "    trace_11_4 = pm.sample(2000, tune=2000, return_inferencedata=False);"
   ]
  },
  {
   "cell_type": "code",
   "execution_count": 27,
   "id": "554f900e",
   "metadata": {},
   "outputs": [
    {
     "data": {
      "text/html": [
       "<div>\n",
       "<style scoped>\n",
       "    .dataframe tbody tr th:only-of-type {\n",
       "        vertical-align: middle;\n",
       "    }\n",
       "\n",
       "    .dataframe tbody tr th {\n",
       "        vertical-align: top;\n",
       "    }\n",
       "\n",
       "    .dataframe thead th {\n",
       "        text-align: right;\n",
       "    }\n",
       "</style>\n",
       "<table border=\"1\" class=\"dataframe\">\n",
       "  <thead>\n",
       "    <tr style=\"text-align: right;\">\n",
       "      <th></th>\n",
       "      <th>mean</th>\n",
       "      <th>sd</th>\n",
       "      <th>hdi_5.5%</th>\n",
       "      <th>hdi_94.5%</th>\n",
       "      <th>mcse_mean</th>\n",
       "      <th>mcse_sd</th>\n",
       "      <th>ess_bulk</th>\n",
       "      <th>ess_tail</th>\n",
       "      <th>r_hat</th>\n",
       "    </tr>\n",
       "  </thead>\n",
       "  <tbody>\n",
       "    <tr>\n",
       "      <th>a[0]</th>\n",
       "      <td>-0.45</td>\n",
       "      <td>0.34</td>\n",
       "      <td>-0.99</td>\n",
       "      <td>0.09</td>\n",
       "      <td>0.01</td>\n",
       "      <td>0.00</td>\n",
       "      <td>2882.93</td>\n",
       "      <td>4660.99</td>\n",
       "      <td>1.0</td>\n",
       "    </tr>\n",
       "    <tr>\n",
       "      <th>a[1]</th>\n",
       "      <td>3.88</td>\n",
       "      <td>0.75</td>\n",
       "      <td>2.71</td>\n",
       "      <td>5.04</td>\n",
       "      <td>0.01</td>\n",
       "      <td>0.01</td>\n",
       "      <td>5655.35</td>\n",
       "      <td>4419.69</td>\n",
       "      <td>1.0</td>\n",
       "    </tr>\n",
       "    <tr>\n",
       "      <th>a[2]</th>\n",
       "      <td>-0.75</td>\n",
       "      <td>0.34</td>\n",
       "      <td>-1.30</td>\n",
       "      <td>-0.21</td>\n",
       "      <td>0.01</td>\n",
       "      <td>0.00</td>\n",
       "      <td>3013.04</td>\n",
       "      <td>4963.21</td>\n",
       "      <td>1.0</td>\n",
       "    </tr>\n",
       "    <tr>\n",
       "      <th>a[3]</th>\n",
       "      <td>-0.75</td>\n",
       "      <td>0.34</td>\n",
       "      <td>-1.31</td>\n",
       "      <td>-0.21</td>\n",
       "      <td>0.01</td>\n",
       "      <td>0.00</td>\n",
       "      <td>2878.44</td>\n",
       "      <td>4848.30</td>\n",
       "      <td>1.0</td>\n",
       "    </tr>\n",
       "    <tr>\n",
       "      <th>a[4]</th>\n",
       "      <td>-0.45</td>\n",
       "      <td>0.34</td>\n",
       "      <td>-1.01</td>\n",
       "      <td>0.06</td>\n",
       "      <td>0.01</td>\n",
       "      <td>0.00</td>\n",
       "      <td>2865.31</td>\n",
       "      <td>5209.65</td>\n",
       "      <td>1.0</td>\n",
       "    </tr>\n",
       "    <tr>\n",
       "      <th>a[5]</th>\n",
       "      <td>0.48</td>\n",
       "      <td>0.34</td>\n",
       "      <td>-0.06</td>\n",
       "      <td>1.04</td>\n",
       "      <td>0.01</td>\n",
       "      <td>0.00</td>\n",
       "      <td>2916.50</td>\n",
       "      <td>4766.55</td>\n",
       "      <td>1.0</td>\n",
       "    </tr>\n",
       "    <tr>\n",
       "      <th>a[6]</th>\n",
       "      <td>1.96</td>\n",
       "      <td>0.43</td>\n",
       "      <td>1.25</td>\n",
       "      <td>2.60</td>\n",
       "      <td>0.01</td>\n",
       "      <td>0.00</td>\n",
       "      <td>4054.42</td>\n",
       "      <td>5519.37</td>\n",
       "      <td>1.0</td>\n",
       "    </tr>\n",
       "    <tr>\n",
       "      <th>b[0]</th>\n",
       "      <td>-0.04</td>\n",
       "      <td>0.29</td>\n",
       "      <td>-0.50</td>\n",
       "      <td>0.42</td>\n",
       "      <td>0.01</td>\n",
       "      <td>0.00</td>\n",
       "      <td>2668.39</td>\n",
       "      <td>4681.01</td>\n",
       "      <td>1.0</td>\n",
       "    </tr>\n",
       "    <tr>\n",
       "      <th>b[1]</th>\n",
       "      <td>0.48</td>\n",
       "      <td>0.29</td>\n",
       "      <td>0.02</td>\n",
       "      <td>0.96</td>\n",
       "      <td>0.01</td>\n",
       "      <td>0.00</td>\n",
       "      <td>2711.56</td>\n",
       "      <td>4541.27</td>\n",
       "      <td>1.0</td>\n",
       "    </tr>\n",
       "    <tr>\n",
       "      <th>b[2]</th>\n",
       "      <td>-0.38</td>\n",
       "      <td>0.29</td>\n",
       "      <td>-0.85</td>\n",
       "      <td>0.08</td>\n",
       "      <td>0.01</td>\n",
       "      <td>0.00</td>\n",
       "      <td>2536.93</td>\n",
       "      <td>4590.39</td>\n",
       "      <td>1.0</td>\n",
       "    </tr>\n",
       "    <tr>\n",
       "      <th>b[3]</th>\n",
       "      <td>0.37</td>\n",
       "      <td>0.29</td>\n",
       "      <td>-0.13</td>\n",
       "      <td>0.82</td>\n",
       "      <td>0.01</td>\n",
       "      <td>0.00</td>\n",
       "      <td>2804.30</td>\n",
       "      <td>4330.73</td>\n",
       "      <td>1.0</td>\n",
       "    </tr>\n",
       "  </tbody>\n",
       "</table>\n",
       "</div>"
      ],
      "text/plain": [
       "      mean    sd  hdi_5.5%  hdi_94.5%  mcse_mean  mcse_sd  ess_bulk  ess_tail  \\\n",
       "a[0] -0.45  0.34     -0.99       0.09       0.01     0.00   2882.93   4660.99   \n",
       "a[1]  3.88  0.75      2.71       5.04       0.01     0.01   5655.35   4419.69   \n",
       "a[2] -0.75  0.34     -1.30      -0.21       0.01     0.00   3013.04   4963.21   \n",
       "a[3] -0.75  0.34     -1.31      -0.21       0.01     0.00   2878.44   4848.30   \n",
       "a[4] -0.45  0.34     -1.01       0.06       0.01     0.00   2865.31   5209.65   \n",
       "a[5]  0.48  0.34     -0.06       1.04       0.01     0.00   2916.50   4766.55   \n",
       "a[6]  1.96  0.43      1.25       2.60       0.01     0.00   4054.42   5519.37   \n",
       "b[0] -0.04  0.29     -0.50       0.42       0.01     0.00   2668.39   4681.01   \n",
       "b[1]  0.48  0.29      0.02       0.96       0.01     0.00   2711.56   4541.27   \n",
       "b[2] -0.38  0.29     -0.85       0.08       0.01     0.00   2536.93   4590.39   \n",
       "b[3]  0.37  0.29     -0.13       0.82       0.01     0.00   2804.30   4330.73   \n",
       "\n",
       "      r_hat  \n",
       "a[0]    1.0  \n",
       "a[1]    1.0  \n",
       "a[2]    1.0  \n",
       "a[3]    1.0  \n",
       "a[4]    1.0  \n",
       "a[5]    1.0  \n",
       "a[6]    1.0  \n",
       "b[0]    1.0  \n",
       "b[1]    1.0  \n",
       "b[2]    1.0  \n",
       "b[3]    1.0  "
      ]
     },
     "execution_count": 27,
     "metadata": {},
     "output_type": "execute_result"
    }
   ],
   "source": [
    "az.summary(trace_11_4, var_names=['a', 'b'], round_to=2, hdi_prob=0.89)"
   ]
  },
  {
   "cell_type": "markdown",
   "id": "8d291c7a",
   "metadata": {},
   "source": [
    "## A Note on the columns in the summary\n",
    "\n",
    "This is from the Stan online reference (https://mc-stan.org/rstan/reference/Rhat.html)\n",
    "\n",
    "The `Rhat` function produces R-hat convergence diagnostic, which compares the between- and within-chain estimates for model parameters and other univariate quantities of interest. If chains have not mixed well (i.e., the between- and within-chain estimates don't agree), R-hat is larger than 1. We recommend running at least four chains by default and only using the sample if R-hat is less than 1.05. Stan reports R-hat which is the maximum of rank normalized split-R-hat and rank normalized folded-split-R-hat, which works for thick tailed distributions and is sensitive also to differences in scale.\n",
    "\n",
    "The `ess_bulk` function produces an estimated Bulk Effective Sample Size (bulk-ESS) using rank normalized draws. Bulk-ESS is a useful measure for sampling efficiency in the bulk of the distribution (related e.g. to efficiency of mean and median estimates), and is well defined even if the chains do not have finite mean or variance.\n",
    "\n",
    "The `ess_tail` function produces an estimated Tail Effective Sample Size (tail-ESS) by computing the minimum of effective sample sizes for 5% and 95% quantiles. Tail-ESS is a useful measure for sampling efficiency in the tails of the distribution (related e.g. to efficiency of variance and tail quantile estimates).\n",
    "\n",
    "Both bulk-ESS and tail-ESS should be at least 100 (approximately) per Markov Chain in order to be reliable and indicate that estimates of respective posterior quantiles are reliable.\n"
   ]
  }
 ],
 "metadata": {
  "kernelspec": {
   "display_name": "stat-rethink",
   "language": "python",
   "name": "stat-rethink"
  },
  "language_info": {
   "codemirror_mode": {
    "name": "ipython",
    "version": 3
   },
   "file_extension": ".py",
   "mimetype": "text/x-python",
   "name": "python",
   "nbconvert_exporter": "python",
   "pygments_lexer": "ipython3",
   "version": "3.9.4"
  }
 },
 "nbformat": 4,
 "nbformat_minor": 5
}
