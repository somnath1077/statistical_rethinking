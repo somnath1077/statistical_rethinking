{
 "cells": [
  {
   "cell_type": "code",
   "execution_count": 1,
   "id": "498a627a",
   "metadata": {},
   "outputs": [],
   "source": [
    "import pandas as pd\n",
    "\n",
    "DATA_FILE = '../../data/chimpanzees.csv'"
   ]
  },
  {
   "cell_type": "code",
   "execution_count": 2,
   "id": "f1bcc23e",
   "metadata": {},
   "outputs": [
    {
     "data": {
      "text/html": [
       "<div>\n",
       "<style scoped>\n",
       "    .dataframe tbody tr th:only-of-type {\n",
       "        vertical-align: middle;\n",
       "    }\n",
       "\n",
       "    .dataframe tbody tr th {\n",
       "        vertical-align: top;\n",
       "    }\n",
       "\n",
       "    .dataframe thead th {\n",
       "        text-align: right;\n",
       "    }\n",
       "</style>\n",
       "<table border=\"1\" class=\"dataframe\">\n",
       "  <thead>\n",
       "    <tr style=\"text-align: right;\">\n",
       "      <th></th>\n",
       "      <th>actor</th>\n",
       "      <th>recipient</th>\n",
       "      <th>condition</th>\n",
       "      <th>block</th>\n",
       "      <th>trial</th>\n",
       "      <th>prosoc_left</th>\n",
       "      <th>chose_prosoc</th>\n",
       "      <th>pulled_left</th>\n",
       "    </tr>\n",
       "  </thead>\n",
       "  <tbody>\n",
       "    <tr>\n",
       "      <th>0</th>\n",
       "      <td>1</td>\n",
       "      <td>NaN</td>\n",
       "      <td>0</td>\n",
       "      <td>1</td>\n",
       "      <td>2</td>\n",
       "      <td>0</td>\n",
       "      <td>1</td>\n",
       "      <td>0</td>\n",
       "    </tr>\n",
       "    <tr>\n",
       "      <th>1</th>\n",
       "      <td>1</td>\n",
       "      <td>NaN</td>\n",
       "      <td>0</td>\n",
       "      <td>1</td>\n",
       "      <td>4</td>\n",
       "      <td>0</td>\n",
       "      <td>0</td>\n",
       "      <td>1</td>\n",
       "    </tr>\n",
       "    <tr>\n",
       "      <th>2</th>\n",
       "      <td>1</td>\n",
       "      <td>NaN</td>\n",
       "      <td>0</td>\n",
       "      <td>1</td>\n",
       "      <td>6</td>\n",
       "      <td>1</td>\n",
       "      <td>0</td>\n",
       "      <td>0</td>\n",
       "    </tr>\n",
       "    <tr>\n",
       "      <th>3</th>\n",
       "      <td>1</td>\n",
       "      <td>NaN</td>\n",
       "      <td>0</td>\n",
       "      <td>1</td>\n",
       "      <td>8</td>\n",
       "      <td>0</td>\n",
       "      <td>1</td>\n",
       "      <td>0</td>\n",
       "    </tr>\n",
       "    <tr>\n",
       "      <th>4</th>\n",
       "      <td>1</td>\n",
       "      <td>NaN</td>\n",
       "      <td>0</td>\n",
       "      <td>1</td>\n",
       "      <td>10</td>\n",
       "      <td>1</td>\n",
       "      <td>1</td>\n",
       "      <td>1</td>\n",
       "    </tr>\n",
       "  </tbody>\n",
       "</table>\n",
       "</div>"
      ],
      "text/plain": [
       "   actor  recipient  condition  block  trial  prosoc_left  chose_prosoc  \\\n",
       "0      1        NaN          0      1      2            0             1   \n",
       "1      1        NaN          0      1      4            0             0   \n",
       "2      1        NaN          0      1      6            1             0   \n",
       "3      1        NaN          0      1      8            0             1   \n",
       "4      1        NaN          0      1     10            1             1   \n",
       "\n",
       "   pulled_left  \n",
       "0            0  \n",
       "1            1  \n",
       "2            0  \n",
       "3            0  \n",
       "4            1  "
      ]
     },
     "execution_count": 2,
     "metadata": {},
     "output_type": "execute_result"
    }
   ],
   "source": [
    "df = pd.read_csv(DATA_FILE)\n",
    "df.head()"
   ]
  },
  {
   "cell_type": "markdown",
   "id": "bf2e817d",
   "metadata": {},
   "source": [
    "### Code 11.2"
   ]
  },
  {
   "cell_type": "code",
   "execution_count": 3,
   "id": "ea97114d",
   "metadata": {},
   "outputs": [
    {
     "data": {
      "text/html": [
       "<div>\n",
       "<style scoped>\n",
       "    .dataframe tbody tr th:only-of-type {\n",
       "        vertical-align: middle;\n",
       "    }\n",
       "\n",
       "    .dataframe tbody tr th {\n",
       "        vertical-align: top;\n",
       "    }\n",
       "\n",
       "    .dataframe thead th {\n",
       "        text-align: right;\n",
       "    }\n",
       "</style>\n",
       "<table border=\"1\" class=\"dataframe\">\n",
       "  <thead>\n",
       "    <tr style=\"text-align: right;\">\n",
       "      <th></th>\n",
       "      <th>condition</th>\n",
       "      <th>prosoc_left</th>\n",
       "      <th>treatment</th>\n",
       "    </tr>\n",
       "  </thead>\n",
       "  <tbody>\n",
       "    <tr>\n",
       "      <th>0</th>\n",
       "      <td>0</td>\n",
       "      <td>0</td>\n",
       "      <td>0</td>\n",
       "    </tr>\n",
       "    <tr>\n",
       "      <th>2</th>\n",
       "      <td>0</td>\n",
       "      <td>1</td>\n",
       "      <td>1</td>\n",
       "    </tr>\n",
       "    <tr>\n",
       "      <th>36</th>\n",
       "      <td>1</td>\n",
       "      <td>0</td>\n",
       "      <td>2</td>\n",
       "    </tr>\n",
       "    <tr>\n",
       "      <th>38</th>\n",
       "      <td>1</td>\n",
       "      <td>1</td>\n",
       "      <td>3</td>\n",
       "    </tr>\n",
       "  </tbody>\n",
       "</table>\n",
       "</div>"
      ],
      "text/plain": [
       "    condition  prosoc_left  treatment\n",
       "0           0            0          0\n",
       "2           0            1          1\n",
       "36          1            0          2\n",
       "38          1            1          3"
      ]
     },
     "execution_count": 3,
     "metadata": {},
     "output_type": "execute_result"
    }
   ],
   "source": [
    "df['treatment'] = df['prosoc_left'] + 2 * df['condition']\n",
    "df[['condition', 'prosoc_left', 'treatment']].drop_duplicates()"
   ]
  },
  {
   "cell_type": "code",
   "execution_count": 4,
   "id": "a0c2b92c",
   "metadata": {},
   "outputs": [
    {
     "data": {
      "text/plain": [
       "0      1\n",
       "72     2\n",
       "144    3\n",
       "216    4\n",
       "288    5\n",
       "360    6\n",
       "432    7\n",
       "Name: actor, dtype: int64"
      ]
     },
     "execution_count": 4,
     "metadata": {},
     "output_type": "execute_result"
    }
   ],
   "source": [
    "df['actor'].drop_duplicates()"
   ]
  },
  {
   "cell_type": "markdown",
   "id": "4e766a3a",
   "metadata": {},
   "source": [
    "## Model\n",
    "\n",
    "\\begin{align*}\n",
    "    L_i & \\sim \\text{Binomial}(1, p_i) \\\\\n",
    "    \\log \\frac{p_i}{1 - p_i} & = \\alpha_{\\text{actor}[i]} + \\beta_{\\text{treatment}[i]} \\\\\n",
    "    \\alpha_j & \\sim \\text{to be determined} \\\\\n",
    "    \\beta_j & \\sim \\text{to be determined}\n",
    "\\end{align*}\n",
    "\n",
    "Here $L$ indicates the binary variable `pulled_left`; there are $7$ `$\\alpha$ parameters`, one for each chimpanzee; there are $4$ `treatment` variables, one for each combination of the position of the pro-social option and the presence/absence of a partner."
   ]
  },
  {
   "cell_type": "markdown",
   "id": "32bc4dfa",
   "metadata": {},
   "source": [
    "## Priors for $\\alpha$\n",
    "\n",
    "The very first attempt consists of using a flat prior for $\\alpha$.\n",
    "\n",
    "\\begin{align*}\n",
    "    L_i & \\sim \\text{Binomial}(1, p_i) \\\\\n",
    "    \\log \\frac{p_i}{1 - p_i} & = \\alpha  \\\\\n",
    "    \\alpha & \\sim \\text{Normal}(0, \\omega)\n",
    "\\end{align*}\n"
   ]
  },
  {
   "cell_type": "code",
   "execution_count": 5,
   "id": "cac2a398",
   "metadata": {},
   "outputs": [],
   "source": [
    "import arviz as az\n",
    "import pymc3 as pm\n",
    "import numpy as np\n",
    "import matplotlib.pyplot as plt\n",
    "import seaborn as sns\n",
    "\n",
    "from scipy import stats\n",
    "from scipy.special import expit as logistic"
   ]
  },
  {
   "cell_type": "markdown",
   "id": "f59a9a05",
   "metadata": {},
   "source": [
    "### Code 11.4 - 11.6"
   ]
  },
  {
   "cell_type": "code",
   "execution_count": 6,
   "id": "e396c447",
   "metadata": {},
   "outputs": [],
   "source": [
    "with pm.Model() as m_11_1:\n",
    "    a = pm.Normal('a', mu=0, sigma=10)\n",
    "    p = pm.Deterministic('p', pm.math.invlogit(a))\n",
    "    pulled_left = pm.Binomial('pulled_left', n=1, p=p, observed=df['pulled_left'])\n",
    "    \n",
    "    prior_11_1 = pm.sample_prior_predictive(4000)"
   ]
  },
  {
   "cell_type": "code",
   "execution_count": 7,
   "id": "95ea3e1d",
   "metadata": {},
   "outputs": [
    {
     "data": {
      "text/plain": [
       "{'p': array([9.36261079e-11, 9.99967031e-01, 9.82128121e-01, ...,\n",
       "        9.93814020e-01, 9.99998636e-01, 9.99319036e-01]),\n",
       " 'a': array([-23.09171421,  10.31991447,   4.00649331, ...,   5.07926472,\n",
       "         13.50501942,   7.29131981]),\n",
       " 'pulled_left': array([[0, 0, 0, ..., 0, 0, 0],\n",
       "        [1, 1, 1, ..., 1, 1, 1],\n",
       "        [1, 1, 1, ..., 1, 1, 1],\n",
       "        ...,\n",
       "        [1, 1, 1, ..., 1, 1, 1],\n",
       "        [1, 1, 1, ..., 1, 1, 1],\n",
       "        [1, 1, 1, ..., 1, 1, 1]])}"
      ]
     },
     "execution_count": 7,
     "metadata": {},
     "output_type": "execute_result"
    }
   ],
   "source": [
    "prior_11_1"
   ]
  },
  {
   "cell_type": "code",
   "execution_count": 8,
   "id": "39a43e00",
   "metadata": {},
   "outputs": [],
   "source": [
    "with pm.Model() as m_11_1_base:\n",
    "    a = pm.Normal('a', mu=0, sigma=1.5)\n",
    "    p = pm.Deterministic('p', pm.math.invlogit(a))\n",
    "    pulled_left = pm.Binomial('pulled_left', n=1, p=p, observed=df['pulled_left'])\n",
    "    \n",
    "    prior_11_1_base = pm.sample_prior_predictive(4000)"
   ]
  },
  {
   "cell_type": "code",
   "execution_count": 9,
   "id": "239b12e4",
   "metadata": {},
   "outputs": [
    {
     "data": {
      "image/png": "[encoded data removed]",
      "text/plain": [
       "<Figure size 432x288 with 1 Axes>"
      ]
     },
     "metadata": {
      "needs_background": "light"
     },
     "output_type": "display_data"
    }
   ],
   "source": [
    "az.plot_density([prior_11_1['p'], prior_11_1_base['p']], \n",
    "                data_labels=['a ~ Normal(0, 10)', 'a ~ Normal(0, 1.5)'],\n",
    "                group='prior',\n",
    "                colors=['k', 'steelblue'],\n",
    "                point_estimate=None);\n",
    "\n",
    "plt.xlabel(\"prior prob pull left\")\n",
    "plt.ylabel(\"Density\")\n",
    "plt.title(\"Prior predictive simulations for p\");"
   ]
  },
  {
   "cell_type": "code",
   "execution_count": 10,
   "id": "b1e73563",
   "metadata": {},
   "outputs": [
    {
     "data": {
      "image/png": "[encoded data removed]",
      "text/plain": [
       "<Figure size 720x432 with 1 Axes>"
      ]
     },
     "metadata": {
      "needs_background": "light"
     },
     "output_type": "display_data"
    }
   ],
   "source": [
    "fig, ax = plt.subplots(1, 1, figsize=(10, 6))\n",
    "\n",
    "sns.histplot(prior_11_1['p'], ax=ax, color='k');\n",
    "sns.histplot(prior_11_1_base['p'], ax=ax, color='steelblue');"
   ]
  },
  {
   "cell_type": "markdown",
   "id": "facc09f4",
   "metadata": {},
   "source": [
    "## Priors for the treatment effects"
   ]
  },
  {
   "cell_type": "code",
   "execution_count": 11,
   "id": "68f3c244",
   "metadata": {},
   "outputs": [],
   "source": [
    "with pm.Model() as m_11_2:\n",
    "    a = pm.Normal('a', mu=0, sigma=1.5)\n",
    "    b = pm.Normal('b', mu=0, sigma=10, shape=df['treatment'].nunique())\n",
    "    p = pm.Deterministic('p', pm.math.invlogit(a + b[df['treatment']]))\n",
    "    pulled_left = pm.Binomial('pulled_left', n=1, p=p, observed=df['pulled_left'])\n",
    "    \n",
    "    prior_11_2 = pm.sample_prior_predictive(4000)\n"
   ]
  },
  {
   "cell_type": "code",
   "execution_count": 12,
   "id": "826489ab",
   "metadata": {},
   "outputs": [
    {
     "data": {
      "text/plain": [
       "(4000, 504)"
      ]
     },
     "execution_count": 12,
     "metadata": {},
     "output_type": "execute_result"
    }
   ],
   "source": [
    "prior_11_2['p'].shape"
   ]
  }
 ],
 "metadata": {
  "kernelspec": {
   "display_name": "stat-rethink",
   "language": "python",
   "name": "stat-rethink"
  },
  "language_info": {
   "codemirror_mode": {
    "name": "ipython",
    "version": 3
   },
   "file_extension": ".py",
   "mimetype": "text/x-python",
   "name": "python",
   "nbconvert_exporter": "python",
   "pygments_lexer": "ipython3",
   "version": "3.9.4"
  }
 },
 "nbformat": 4,
 "nbformat_minor": 5
}
