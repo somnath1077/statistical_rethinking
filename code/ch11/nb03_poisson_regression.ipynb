{
 "cells": [
  {
   "cell_type": "markdown",
   "id": "99396816",
   "metadata": {},
   "source": [
    "## The Poisson as a limiting case of the Binomial\n",
    "\n",
    "Consider a Binomial process with $N$ trials and success probability $p$. We wish to consider the situation where $N \\to \\infty$ and $p \\to 0$ but $N p = \\lambda$, a constant. In this case, the probability of $k$ successes in $N$ trials is:\n",
    "\\begin{align*}\n",
    "{N \\choose k} p^k (1 - p)^{N - k} & = \\frac{N!}{k! (N - k)!} p^k (1 - p)^{N - k} \\\\\n",
    "    & = \\frac{1}{k!} \\cdot \\frac{(N - k + 1) (N - k + 2) \\cdots N}{N^k} \n",
    "        \\cdot (Np)^k \n",
    "        \\cdot \\left ( 1 - \\frac{\\lambda}{N} \\right )^{N - k} \\\\\n",
    "    & = \\frac{\\lambda^k}{k!} \\left ( 1 - \\frac{k - 1}{N} \\right ) \n",
    "        \\left ( 1 - \\frac{k - 2}{N} \\right ) \\frac{N}{N} \n",
    "        \\cdot \\frac{1}{(1 - \\lambda / N)^k} \\cdot \\left ( 1 - \\frac{\\lambda}{N}\\right )^N \n",
    "\\end{align*}\n",
    "As $N \\to \\infty$ and $p \\to 0$, the above approaches $\\lambda^k e^{-\\lambda} / k!$, which is the pmf of the Poisson distribution."
   ]
  }
 ],
 "metadata": {
  "kernelspec": {
   "display_name": "stat-rethink",
   "language": "python",
   "name": "stat-rethink"
  },
  "language_info": {
   "codemirror_mode": {
    "name": "ipython",
    "version": 3
   },
   "file_extension": ".py",
   "mimetype": "text/x-python",
   "name": "python",
   "nbconvert_exporter": "python",
   "pygments_lexer": "ipython3",
   "version": "3.9.4"
  }
 },
 "nbformat": 4,
 "nbformat_minor": 5
}
