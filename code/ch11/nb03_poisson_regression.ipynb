{
 "cells": [
  {
   "cell_type": "markdown",
   "id": "99396816",
   "metadata": {},
   "source": [
    "## The Poisson as a limiting case of the Binomial\n",
    "\n",
    "Consider a Binomial process with $N$ trials and success probability $p$. We wish to consider the situation where $N \\to \\infty$ and $p \\to 0$ but $N p = \\lambda$, a constant. In this case, the probability of $k$ successes in $N$ trials is:\n",
    "\\begin{align*}\n",
    "{N \\choose k} p^k (1 - p)^{N - k} & = \\frac{N!}{k! (N - k)!} p^k (1 - p)^{N - k} \\\\\n",
    "    & = \\frac{1}{k!} \\cdot \\frac{(N - k + 1) (N - k + 2) \\cdots N}{N^k} \n",
    "        \\cdot (Np)^k \n",
    "        \\cdot \\left ( 1 - \\frac{\\lambda}{N} \\right )^{N - k} \\\\\n",
    "    & = \\frac{\\lambda^k}{k!} \\left ( 1 - \\frac{k - 1}{N} \\right ) \n",
    "        \\left ( 1 - \\frac{k - 2}{N} \\right ) \\frac{N}{N} \n",
    "        \\cdot \\frac{1}{(1 - \\lambda / N)^k} \\cdot \\left ( 1 - \\frac{\\lambda}{N}\\right )^N \n",
    "\\end{align*}\n",
    "As $N \\to \\infty$ and $p \\to 0$, the above approaches $\\lambda^k e^{-\\lambda} / k!$, which is the pmf of the Poisson distribution."
   ]
  },
  {
   "cell_type": "code",
   "execution_count": 1,
   "id": "3f490274",
   "metadata": {},
   "outputs": [],
   "source": [
    "import numpy as np\n",
    "import pandas as pd\n",
    "import matplotlib.pyplot as plt\n",
    "\n",
    "from scipy.stats import binom, poisson "
   ]
  },
  {
   "cell_type": "code",
   "execution_count": 2,
   "id": "eacd80c9",
   "metadata": {},
   "outputs": [
    {
     "data": {
      "text/plain": [
       "(1.0026, 0.99517324)"
      ]
     },
     "execution_count": 2,
     "metadata": {},
     "output_type": "execute_result"
    }
   ],
   "source": [
    "y = binom.rvs(n=1000, p=1/1000, size=int(1e5))\n",
    "np.mean(y), np.var(y)"
   ]
  },
  {
   "cell_type": "markdown",
   "id": "01d106f7",
   "metadata": {},
   "source": [
    "## Poisson Regression\n",
    "\n",
    "\\begin{align*}\n",
    "    y_i              & \\sim \\text{Poisson}(\\lambda_i) \\\\\n",
    "    \\log (\\lambda_i) & = \\alpha + \\beta (x_i - \\bar{x})\n",
    "\\end{align*}"
   ]
  },
  {
   "cell_type": "markdown",
   "id": "d9b0d4ce",
   "metadata": {},
   "source": [
    "### Oceanic Tool Complexity"
   ]
  },
  {
   "cell_type": "code",
   "execution_count": 3,
   "id": "d9fdccff",
   "metadata": {},
   "outputs": [],
   "source": [
    "KLINE_DATASET = '../../data/kline.csv'"
   ]
  },
  {
   "cell_type": "code",
   "execution_count": 4,
   "id": "82de15cc",
   "metadata": {},
   "outputs": [
    {
     "data": {
      "text/html": [
       "<div>\n",
       "<style scoped>\n",
       "    .dataframe tbody tr th:only-of-type {\n",
       "        vertical-align: middle;\n",
       "    }\n",
       "\n",
       "    .dataframe tbody tr th {\n",
       "        vertical-align: top;\n",
       "    }\n",
       "\n",
       "    .dataframe thead th {\n",
       "        text-align: right;\n",
       "    }\n",
       "</style>\n",
       "<table border=\"1\" class=\"dataframe\">\n",
       "  <thead>\n",
       "    <tr style=\"text-align: right;\">\n",
       "      <th></th>\n",
       "      <th>culture</th>\n",
       "      <th>population</th>\n",
       "      <th>contact</th>\n",
       "      <th>total_tools</th>\n",
       "      <th>mean_TU</th>\n",
       "    </tr>\n",
       "  </thead>\n",
       "  <tbody>\n",
       "    <tr>\n",
       "      <th>0</th>\n",
       "      <td>Malekula</td>\n",
       "      <td>1100</td>\n",
       "      <td>low</td>\n",
       "      <td>13</td>\n",
       "      <td>3.2</td>\n",
       "    </tr>\n",
       "    <tr>\n",
       "      <th>1</th>\n",
       "      <td>Tikopia</td>\n",
       "      <td>1500</td>\n",
       "      <td>low</td>\n",
       "      <td>22</td>\n",
       "      <td>4.7</td>\n",
       "    </tr>\n",
       "    <tr>\n",
       "      <th>2</th>\n",
       "      <td>Santa Cruz</td>\n",
       "      <td>3600</td>\n",
       "      <td>low</td>\n",
       "      <td>24</td>\n",
       "      <td>4.0</td>\n",
       "    </tr>\n",
       "    <tr>\n",
       "      <th>3</th>\n",
       "      <td>Yap</td>\n",
       "      <td>4791</td>\n",
       "      <td>high</td>\n",
       "      <td>43</td>\n",
       "      <td>5.0</td>\n",
       "    </tr>\n",
       "    <tr>\n",
       "      <th>4</th>\n",
       "      <td>Lau Fiji</td>\n",
       "      <td>7400</td>\n",
       "      <td>high</td>\n",
       "      <td>33</td>\n",
       "      <td>5.0</td>\n",
       "    </tr>\n",
       "    <tr>\n",
       "      <th>5</th>\n",
       "      <td>Trobriand</td>\n",
       "      <td>8000</td>\n",
       "      <td>high</td>\n",
       "      <td>19</td>\n",
       "      <td>4.0</td>\n",
       "    </tr>\n",
       "    <tr>\n",
       "      <th>6</th>\n",
       "      <td>Chuuk</td>\n",
       "      <td>9200</td>\n",
       "      <td>high</td>\n",
       "      <td>40</td>\n",
       "      <td>3.8</td>\n",
       "    </tr>\n",
       "    <tr>\n",
       "      <th>7</th>\n",
       "      <td>Manus</td>\n",
       "      <td>13000</td>\n",
       "      <td>low</td>\n",
       "      <td>28</td>\n",
       "      <td>6.6</td>\n",
       "    </tr>\n",
       "    <tr>\n",
       "      <th>8</th>\n",
       "      <td>Tonga</td>\n",
       "      <td>17500</td>\n",
       "      <td>high</td>\n",
       "      <td>55</td>\n",
       "      <td>5.4</td>\n",
       "    </tr>\n",
       "    <tr>\n",
       "      <th>9</th>\n",
       "      <td>Hawaii</td>\n",
       "      <td>275000</td>\n",
       "      <td>low</td>\n",
       "      <td>71</td>\n",
       "      <td>6.6</td>\n",
       "    </tr>\n",
       "  </tbody>\n",
       "</table>\n",
       "</div>"
      ],
      "text/plain": [
       "      culture  population contact  total_tools  mean_TU\n",
       "0    Malekula        1100     low           13      3.2\n",
       "1     Tikopia        1500     low           22      4.7\n",
       "2  Santa Cruz        3600     low           24      4.0\n",
       "3         Yap        4791    high           43      5.0\n",
       "4    Lau Fiji        7400    high           33      5.0\n",
       "5   Trobriand        8000    high           19      4.0\n",
       "6       Chuuk        9200    high           40      3.8\n",
       "7       Manus       13000     low           28      6.6\n",
       "8       Tonga       17500    high           55      5.4\n",
       "9      Hawaii      275000     low           71      6.6"
      ]
     },
     "execution_count": 4,
     "metadata": {},
     "output_type": "execute_result"
    }
   ],
   "source": [
    "df = pd.read_csv(KLINE_DATASET)\n",
    "df"
   ]
  },
  {
   "cell_type": "markdown",
   "id": "b46cbf6e",
   "metadata": {},
   "source": [
    "### Code 11.37"
   ]
  },
  {
   "cell_type": "code",
   "execution_count": 5,
   "id": "4e5a8bde",
   "metadata": {},
   "outputs": [],
   "source": [
    "df.loc[:, 'log_p'] = np.log(df['population'].values)\n",
    "df.loc[:, 'contact_id'] = np.where(df['contact'] == 'high', 1, 0)"
   ]
  },
  {
   "cell_type": "code",
   "execution_count": 6,
   "id": "6c79da86",
   "metadata": {},
   "outputs": [
    {
     "data": {
      "text/html": [
       "<div>\n",
       "<style scoped>\n",
       "    .dataframe tbody tr th:only-of-type {\n",
       "        vertical-align: middle;\n",
       "    }\n",
       "\n",
       "    .dataframe tbody tr th {\n",
       "        vertical-align: top;\n",
       "    }\n",
       "\n",
       "    .dataframe thead th {\n",
       "        text-align: right;\n",
       "    }\n",
       "</style>\n",
       "<table border=\"1\" class=\"dataframe\">\n",
       "  <thead>\n",
       "    <tr style=\"text-align: right;\">\n",
       "      <th></th>\n",
       "      <th>culture</th>\n",
       "      <th>population</th>\n",
       "      <th>contact</th>\n",
       "      <th>total_tools</th>\n",
       "      <th>mean_TU</th>\n",
       "      <th>log_p</th>\n",
       "      <th>contact_id</th>\n",
       "    </tr>\n",
       "  </thead>\n",
       "  <tbody>\n",
       "    <tr>\n",
       "      <th>0</th>\n",
       "      <td>Malekula</td>\n",
       "      <td>1100</td>\n",
       "      <td>low</td>\n",
       "      <td>13</td>\n",
       "      <td>3.2</td>\n",
       "      <td>7.003065</td>\n",
       "      <td>0</td>\n",
       "    </tr>\n",
       "    <tr>\n",
       "      <th>1</th>\n",
       "      <td>Tikopia</td>\n",
       "      <td>1500</td>\n",
       "      <td>low</td>\n",
       "      <td>22</td>\n",
       "      <td>4.7</td>\n",
       "      <td>7.313220</td>\n",
       "      <td>0</td>\n",
       "    </tr>\n",
       "    <tr>\n",
       "      <th>2</th>\n",
       "      <td>Santa Cruz</td>\n",
       "      <td>3600</td>\n",
       "      <td>low</td>\n",
       "      <td>24</td>\n",
       "      <td>4.0</td>\n",
       "      <td>8.188689</td>\n",
       "      <td>0</td>\n",
       "    </tr>\n",
       "    <tr>\n",
       "      <th>3</th>\n",
       "      <td>Yap</td>\n",
       "      <td>4791</td>\n",
       "      <td>high</td>\n",
       "      <td>43</td>\n",
       "      <td>5.0</td>\n",
       "      <td>8.474494</td>\n",
       "      <td>1</td>\n",
       "    </tr>\n",
       "    <tr>\n",
       "      <th>4</th>\n",
       "      <td>Lau Fiji</td>\n",
       "      <td>7400</td>\n",
       "      <td>high</td>\n",
       "      <td>33</td>\n",
       "      <td>5.0</td>\n",
       "      <td>8.909235</td>\n",
       "      <td>1</td>\n",
       "    </tr>\n",
       "    <tr>\n",
       "      <th>5</th>\n",
       "      <td>Trobriand</td>\n",
       "      <td>8000</td>\n",
       "      <td>high</td>\n",
       "      <td>19</td>\n",
       "      <td>4.0</td>\n",
       "      <td>8.987197</td>\n",
       "      <td>1</td>\n",
       "    </tr>\n",
       "    <tr>\n",
       "      <th>6</th>\n",
       "      <td>Chuuk</td>\n",
       "      <td>9200</td>\n",
       "      <td>high</td>\n",
       "      <td>40</td>\n",
       "      <td>3.8</td>\n",
       "      <td>9.126959</td>\n",
       "      <td>1</td>\n",
       "    </tr>\n",
       "    <tr>\n",
       "      <th>7</th>\n",
       "      <td>Manus</td>\n",
       "      <td>13000</td>\n",
       "      <td>low</td>\n",
       "      <td>28</td>\n",
       "      <td>6.6</td>\n",
       "      <td>9.472705</td>\n",
       "      <td>0</td>\n",
       "    </tr>\n",
       "    <tr>\n",
       "      <th>8</th>\n",
       "      <td>Tonga</td>\n",
       "      <td>17500</td>\n",
       "      <td>high</td>\n",
       "      <td>55</td>\n",
       "      <td>5.4</td>\n",
       "      <td>9.769956</td>\n",
       "      <td>1</td>\n",
       "    </tr>\n",
       "    <tr>\n",
       "      <th>9</th>\n",
       "      <td>Hawaii</td>\n",
       "      <td>275000</td>\n",
       "      <td>low</td>\n",
       "      <td>71</td>\n",
       "      <td>6.6</td>\n",
       "      <td>12.524526</td>\n",
       "      <td>0</td>\n",
       "    </tr>\n",
       "  </tbody>\n",
       "</table>\n",
       "</div>"
      ],
      "text/plain": [
       "      culture  population contact  total_tools  mean_TU      log_p  contact_id\n",
       "0    Malekula        1100     low           13      3.2   7.003065           0\n",
       "1     Tikopia        1500     low           22      4.7   7.313220           0\n",
       "2  Santa Cruz        3600     low           24      4.0   8.188689           0\n",
       "3         Yap        4791    high           43      5.0   8.474494           1\n",
       "4    Lau Fiji        7400    high           33      5.0   8.909235           1\n",
       "5   Trobriand        8000    high           19      4.0   8.987197           1\n",
       "6       Chuuk        9200    high           40      3.8   9.126959           1\n",
       "7       Manus       13000     low           28      6.6   9.472705           0\n",
       "8       Tonga       17500    high           55      5.4   9.769956           1\n",
       "9      Hawaii      275000     low           71      6.6  12.524526           0"
      ]
     },
     "execution_count": 6,
     "metadata": {},
     "output_type": "execute_result"
    }
   ],
   "source": [
    "df"
   ]
  },
  {
   "cell_type": "markdown",
   "id": "1dec9b7d",
   "metadata": {},
   "source": [
    "# The Model\n",
    "\n",
    "The model postulates that the number of tools used (`total_tools`) in a given `culture` varies as follows:\n",
    "\n",
    "1. the `total_tools` increases with the log of the `population` \n",
    "2. the `total_tools` increases with the `contact` rate\n",
    "3. the impact of `population` on `total_tools` is moderated by the `contact` rate\n",
    "\n",
    "\\begin{align*}\n",
    "    T_i                & \\sim \\text{Poisson}(\\lambda_i) \\\\\n",
    "    \\log \\lambda_i     & = \\alpha_{\\text{cid}[i]} + \\beta_{\\text{cid}[i]} \\cdot \\log P_i \\\\\n",
    "    \\alpha_0, \\alpha_1 & \\sim \\text{ to be determined } \\\\\n",
    "    \\beta_0, \\beta_1   & \\sim \\text{ to be determined }\n",
    "\\end{align*}"
   ]
  },
  {
   "cell_type": "markdown",
   "id": "2c0f22f6",
   "metadata": {},
   "source": [
    "## Determining Priors\n",
    "\n",
    "### Model with intercept only\n",
    "\n",
    "\\begin{align*}\n",
    "    T_i                & \\sim \\text{Poisson}(\\lambda_i) \\\\\n",
    "    \\log \\lambda_i     & = \\alpha \\\\\n",
    "    \\alpha             & \\sim \\text{Normal}(0, 10) \\\\\n",
    "\\end{align*}\n",
    "\n",
    "If $\\alpha$ has the normal distribution, then $\\lambda$ has the log-normal distribution."
   ]
  },
  {
   "cell_type": "code",
   "execution_count": 7,
   "id": "f5bca8c8",
   "metadata": {},
   "outputs": [
    {
     "data": {
      "image/png": "[encoded data removed]",
      "text/plain": [
       "<Figure size 864x432 with 1 Axes>"
      ]
     },
     "metadata": {
      "needs_background": "light"
     },
     "output_type": "display_data"
    }
   ],
   "source": [
    "# def lognorm(x, mu, sigma):\n",
    "#     const = np.where(x == 0, 0, 1 / (x * sigma * np.sqrt(2 * np.pi)))\n",
    "#     exponent = np.log(x - mu)**2 / (2 * sigma**2)\n",
    "#     return const * np.exp(-exponent)\n",
    "\n",
    "from scipy.stats import lognorm\n",
    "\n",
    "x_vals = np.linspace(0, 100, 100)\n",
    "dist1 = lognorm(10, loc=0)\n",
    "dist2 = lognorm(0.5, loc=3)\n",
    "\n",
    "fig, ax = plt.subplots(1, 1, figsize=(12, 6))\n",
    "ax.plot(x_vals, dist1.pdf(x_vals), 'k', label=r'$a \\sim N(0, 10)$')\n",
    "ax.plot(x_vals, dist2.pdf(x_vals), 'b', label=r'$a \\sim N(3, 0.5)$')\n",
    "\n",
    "ax.set_xlabel(\"mean number of tools\")\n",
    "ax.set_ylabel(\"Density\")\n",
    "\n",
    "plt.legend()\n",
    "plt.show();"
   ]
  }
 ],
 "metadata": {
  "kernelspec": {
   "display_name": "stat-rethink",
   "language": "python",
   "name": "stat-rethink"
  },
  "language_info": {
   "codemirror_mode": {
    "name": "ipython",
    "version": 3
   },
   "file_extension": ".py",
   "mimetype": "text/x-python",
   "name": "python",
   "nbconvert_exporter": "python",
   "pygments_lexer": "ipython3",
   "version": "3.9.5"
  }
 },
 "nbformat": 4,
 "nbformat_minor": 5
}
