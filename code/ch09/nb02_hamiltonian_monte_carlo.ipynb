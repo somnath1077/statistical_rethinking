{
 "cells": [
  {
   "cell_type": "code",
   "execution_count": 1,
   "id": "round-penguin",
   "metadata": {},
   "outputs": [],
   "source": [
    "import arviz as az\n",
    "import matplotlib.pyplot as plt\n",
    "import numpy as np\n",
    "import pandas as pd\n",
    "import pymc3 as pm\n",
    "from scipy.stats import norm, multivariate_normal\n",
    "\n",
    "import warnings\n",
    "\n",
    "warnings.simplefilter(action=\"ignore\", category=FutureWarning)"
   ]
  },
  {
   "cell_type": "markdown",
   "id": "standing-studio",
   "metadata": {},
   "source": [
    "## Hamiltonian Monte Carlo\n",
    "\n",
    "HMC requires five things:\n",
    "\n",
    "1. The negative log-probability $U$ of the data in the current position.\n",
    "\n",
    "$$\n",
    "   U = -\\left ( \\sum_i \\log p(y_i \\mid \\mu_y, 1) + \\sum_i \\log p(x_i \\mid \\mu_x, 1) \n",
    "            + \\log p(\\mu_y \\mid 0, 0.5) + \\log p(\\mu_x \\mid 0, 0.5)\\right )\n",
    "$$\n",
    "\n",
    "In the current setting, $p(x \\mid a, b)$ is the pdf of the Normal distribution with mean $a$ and standard deviation $b$."
   ]
  },
  {
   "cell_type": "code",
   "execution_count": 2,
   "id": "white-longer",
   "metadata": {},
   "outputs": [],
   "source": [
    "N_SAMPLES = 50\n",
    "\n",
    "rv = norm(loc=0, scale=1)\n",
    "x = rv.rvs(size=N_SAMPLES)\n",
    "y = rv.rvs(size=N_SAMPLES)"
   ]
  },
  {
   "cell_type": "markdown",
   "id": "comic-privilege",
   "metadata": {},
   "source": [
    "### Code 9.5"
   ]
  },
  {
   "cell_type": "code",
   "execution_count": 3,
   "id": "italic-initial",
   "metadata": {},
   "outputs": [],
   "source": [
    "def calc_U(x, y, q, a=0, b=1.0, c=0, d=1.0):\n",
    "    mu_x, mu_y = q\n",
    "    \n",
    "    U = np.sum(norm.logpdf(y, loc=mu_y, scale=1) + \n",
    "               norm.logpdf(x, loc=mu_x, scale=1) + \n",
    "               norm.logpdf(mu_y, loc=a, scale=b) + \n",
    "               norm.logpdf(mu_x, loc=c, scale=d))\n",
    "    return -U"
   ]
  },
  {
   "cell_type": "code",
   "execution_count": 4,
   "id": "usual-found",
   "metadata": {},
   "outputs": [
    {
     "data": {
      "text/plain": [
       "244.37849476718873"
      ]
     },
     "execution_count": 4,
     "metadata": {},
     "output_type": "execute_result"
    }
   ],
   "source": [
    "calc_U(x, y, q=[0.1, 0.2])"
   ]
  },
  {
   "cell_type": "markdown",
   "id": "welcome-conviction",
   "metadata": {},
   "source": [
    "2. A gradient function that returns the gradient of the negative log-probability of the data in the current position. \n",
    "\n",
    "Since $p(x \\mid a, b)$ is the pdf of the Normal distribution with mean $a$ and standard deviation $b$, we have:\n",
    "$$\n",
    "    \\log p(y \\mid a, b) = \\log \\frac{1}{\\sqrt{2 \\pi} b} - \\frac{1}{2 b^2} (y - a)^2.\n",
    "$$\n",
    "The partial derivative wrt $a$ is:\n",
    "$$\n",
    "    \\frac{\\partial \\log p(y \\mid a, b)}{\\partial a} = \\frac{y - a}{b^2}.\n",
    "$$\n",
    "The partial derivative wrt $y$ is:\n",
    "$$\n",
    "    \\frac{\\partial \\log p(y \\mid a, b)}{\\partial y} = - \\frac{y - a}{b^2}.\n",
    "$$\n",
    "\n",
    "Therefore $\\partial U / \\partial \\mu_x$ is given by:\n",
    "$$\n",
    "    \\frac{\\partial U}{\\partial \\mu_x} = \n",
    "        \\sum_i \\frac{\\partial p(x_i \\mid \\mu_x, 1)}{\\partial \\mu_x} + \n",
    "        \\frac{\\partial p(\\mu_x \\mid 0, 0.5)}{\\partial \\mu_x} =\n",
    "        \\sum_i \\frac{(x_i - \\mu_x)}{1^2} - \\frac{\\mu_x - 0}{0.5^2}.\n",
    "$$\n",
    "\n",
    "Similarly, $\\partial U / \\partial \\mu_y$ is given by:\n",
    "$$\n",
    "    \\frac{\\partial U}{\\partial \\mu_y} = \n",
    "        \\sum_i \\frac{\\partial p(y_i \\mid \\mu_y, 1)}{\\partial \\mu_y} + \n",
    "        \\frac{\\partial p(\\mu_y \\mid 0, 0.5)}{\\partial \\mu_y} =\n",
    "        \\sum_i \\frac{(y_i - \\mu_y)}{1^2} - \\frac{\\mu_y - 0}{0.5^2}.\n",
    "$$"
   ]
  },
  {
   "cell_type": "code",
   "execution_count": 5,
   "id": "conventional-ghost",
   "metadata": {},
   "outputs": [],
   "source": [
    "def grad_U(x, y, q, a=0, b=1.0, c=0, d=1.0):\n",
    "    mu_x = q[0]\n",
    "    mu_y = q[1]\n",
    "\n",
    "    grad_mu_x = np.sum(x - mu_x) - (mu_x - a) / b**2\n",
    "    grad_mu_y = np.sum(y - mu_y) - (mu_y - c) / d**2\n",
    "    \n",
    "    return np.array([grad_mu_x, grad_mu_y])"
   ]
  },
  {
   "cell_type": "code",
   "execution_count": 6,
   "id": "invalid-retreat",
   "metadata": {},
   "outputs": [
    {
     "data": {
      "text/plain": [
       "array([-18.39117876, -18.72544951])"
      ]
     },
     "execution_count": 6,
     "metadata": {},
     "output_type": "execute_result"
    }
   ],
   "source": [
    "grad_U(x, y, q=[0.1, 0.2])"
   ]
  },
  {
   "cell_type": "markdown",
   "id": "cooperative-retirement",
   "metadata": {},
   "source": [
    "3. a step-size `epsilon`\n",
    "\n",
    "4. a count of leapfrog steps $L$\n",
    "\n",
    "5. a starting position `current_q`\n",
    "\n",
    "### HMC2 Function Code 9.8, 9.9, 9.10\n",
    "\n",
    "Credit: https://github.com/pymc-devs/resources/blob/master/Rethinking_2/Chp_09.ipynb"
   ]
  },
  {
   "cell_type": "code",
   "execution_count": 7,
   "id": "expressed-ordinance",
   "metadata": {},
   "outputs": [],
   "source": [
    "from typing import Callable\n",
    "\n",
    "\n",
    "def HMC2(U: Callable, grad_U: Callable, epsilon: float, L: int, current_q: np.array, x: np.array, y: np.array):\n",
    "    \"\"\"\n",
    "        This function runs a single trajectory and produces one sample. To build a chain of samples, \n",
    "        call this function repeatedly.\n",
    "    \"\"\"\n",
    "    q = current_q\n",
    "    # random flick - p is momentum\n",
    "    p = np.random.normal(loc=0, scale=1, size=len(q))  \n",
    "    current_p = p\n",
    "    \n",
    "    # Make a half step for momentum at the beginning\n",
    "    p = p - 0.5 * epsilon * grad_U(x, y, q) \n",
    "    \n",
    "    # initialize bookkeeping - saves trajectory\n",
    "    q_traj = np.full(shape=(L + 1, len(q)), fill_value=np.nan)\n",
    "    p_traj = q_traj.copy()\n",
    "    \n",
    "    q_traj[0, :] = current_q\n",
    "    p_traj[0, :] = p\n",
    "\n",
    "    # Code 9.9 starts here\n",
    "    for i in range(L):\n",
    "        q = q + epsilon * p  # Full step for the position\n",
    "        q_traj[i + 1, :] = q\n",
    "        \n",
    "        # Make a full step for the momentum, except at the end of trajectory\n",
    "        if i != L - 1:\n",
    "            p = p - epsilon * grad_U(x, y, q)\n",
    "            p_traj[i + 1, :] = p\n",
    "\n",
    "    # Make a half step for momentum at the end\n",
    "    p = p - 0.5 * epsilon * grad_U(x, y, q)\n",
    "    p_traj[L, :] = p\n",
    "    \n",
    "    # Negate momentum at end of trajectory to make the proposal symmetric\n",
    "    p = -1 * p\n",
    "    \n",
    "    # Evaluate potential and kinetic energies at start and end of trajectory\n",
    "    current_U = U(x, y, current_q)\n",
    "    # mass = 1 unit so that KE = 0.5 * p**2\n",
    "    current_K = np.sum(current_p ** 2) / 2.0\n",
    "    proposed_U = U(x, y, q)\n",
    "    proposed_K = np.sum(p ** 2) / 2\n",
    "    \n",
    "    # Accept or reject the state at end of trajectory, returning either\n",
    "    # the position at the end of the trajectory or the initial position\n",
    "    accept = False\n",
    "    \n",
    "    if np.log(np.random.uniform()) < current_U - proposed_U + current_K - proposed_K:\n",
    "        # accept\n",
    "        new_q = q  \n",
    "        accept = True\n",
    "    else:\n",
    "        # reject\n",
    "        new_q = current_q  \n",
    "\n",
    "    return dict(q=new_q, traj=q_traj, p_traj=p_traj, accept=accept)"
   ]
  },
  {
   "cell_type": "markdown",
   "id": "directed-cemetery",
   "metadata": {},
   "source": [
    "### Code 9.7\n",
    "\n",
    "Credit: https://github.com/pymc-devs/resources/blob/master/Rethinking_2/Chp_09.ipynb"
   ]
  },
  {
   "cell_type": "code",
   "execution_count": 13,
   "id": "awful-heater",
   "metadata": {},
   "outputs": [
    {
     "data": {
      "image/png": "[encoded data removed]",
      "text/plain": [
       "<Figure size 576x432 with 2 Axes>"
      ]
     },
     "metadata": {
      "needs_background": "light"
     },
     "output_type": "display_data"
    }
   ],
   "source": [
    "np.random.seed(42)\n",
    "\n",
    "# test data\n",
    "real = multivariate_normal([0, 0], np.identity(2))\n",
    "x, y = real.rvs(50).T\n",
    "\n",
    "Q = {}\n",
    "Q[\"q\"] = np.array([-0.1, 0.2])\n",
    "pr = 0.3\n",
    "step = 0.03\n",
    "# L = 11  # 0.03 / 28 for U-turns -- 11 for working example\n",
    "n_samples = 4\n",
    "\n",
    "_, axs = plt.subplots(1, 2, figsize=[8, 6], constrained_layout=True)\n",
    "\n",
    "\n",
    "for L, ax in zip([11, 28], axs):\n",
    "    ax.scatter(*Q[\"q\"], color=\"k\", marker=\"x\", zorder=3)\n",
    "    \n",
    "    if L == 11:\n",
    "        ax.text(*Q[\"q\"] + 0.015, \"start\", weight=\"bold\")\n",
    "    \n",
    "    for i in range(n_samples):\n",
    "        Q = HMC2(calc_U, grad_U, step, L, Q[\"q\"], x, y)\n",
    "        ax.scatter(*Q[\"q\"], color=\"w\", marker=\"o\", edgecolor=\"k\", lw=2, zorder=3)\n",
    "        \n",
    "        if n_samples < 10:\n",
    "            for j in range(L):\n",
    "                K0 = np.sum(Q[\"p_traj\"][j, :] ** 2) / 2  # kinetic energy\n",
    "                ax.plot(\n",
    "                    Q[\"traj\"][j : j + 2, 0],\n",
    "                    Q[\"traj\"][j : j + 2, 1],\n",
    "                    color=\"k\",\n",
    "                    lw=1 + 1 * K0,\n",
    "                    alpha=0.3,\n",
    "                    zorder=1,\n",
    "                )\n",
    "            \n",
    "            ax.scatter(*Q[\"traj\"].T, facecolor=\"w\", edgecolor=\"gray\", lw=1, zorder=2, s=10)\n",
    "            \n",
    "            if L == 11:\n",
    "                ax.text(*Q[\"q\"] + [0.02, -0.03], f\"{i + 1}\", weight=\"bold\")\n",
    "\n",
    "    ax.set_title(f\"2D Gaussian, L = {L}\")\n",
    "    ax.set_xlabel(\"mux\")\n",
    "    ax.set_ylabel(\"muy\")\n",
    "\n",
    "    # draw background contours based on real probability defined above\n",
    "    ax.set_xlim(-pr, pr)\n",
    "    ax.set_ylim(-pr, pr)\n",
    "    xs, ys = np.mgrid[-pr:pr:0.01, -pr:pr:0.01]\n",
    "    p = real.logpdf(np.vstack([xs.flat, ys.flat]).T).reshape(xs.shape)\n",
    "    ax.contour(xs, ys, p, 4, colors=[(0, 0, 0, 0.3)])\n",
    "    ax.set_aspect(1)"
   ]
  }
 ],
 "metadata": {
  "kernelspec": {
   "display_name": "stat-rethink",
   "language": "python",
   "name": "stat-rethink"
  },
  "language_info": {
   "codemirror_mode": {
    "name": "ipython",
    "version": 3
   },
   "file_extension": ".py",
   "mimetype": "text/x-python",
   "name": "python",
   "nbconvert_exporter": "python",
   "pygments_lexer": "ipython3",
   "version": "3.9.2"
  }
 },
 "nbformat": 4,
 "nbformat_minor": 5
}
