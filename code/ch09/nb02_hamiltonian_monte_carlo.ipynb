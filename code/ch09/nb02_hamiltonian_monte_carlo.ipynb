{
 "cells": [
  {
   "cell_type": "code",
   "execution_count": 1,
   "id": "round-penguin",
   "metadata": {},
   "outputs": [],
   "source": [
    "import arviz as az\n",
    "import matplotlib.pyplot as plt\n",
    "import numpy as np\n",
    "import pandas as pd\n",
    "import pymc3 as pm\n",
    "from scipy.stats import norm\n",
    "\n",
    "import warnings\n",
    "\n",
    "warnings.simplefilter(action=\"ignore\", category=FutureWarning)"
   ]
  },
  {
   "cell_type": "markdown",
   "id": "standing-studio",
   "metadata": {},
   "source": [
    "## Hamiltonian Monte Carlo\n",
    "\n",
    "HMC requires five things:\n",
    "\n",
    "1. The negative log-probability $U$ of the data in the current position.\n",
    "\n",
    "$$\n",
    "   U = -\\left ( \\sum_i \\log p(y_i \\mid \\mu_y, 1) + \\sum_i \\log p(x_i \\mid \\mu_x, 1) \n",
    "            + \\log p(\\mu_y \\mid 0, 0.5) + \\log p(\\mu_x \\mid 0, 0.5)\\right )\n",
    "$$\n",
    "\n",
    "In the current setting, $p(x \\mid a, b)$ is the pdf of the Normal distribution with mean $a$ and standard deviation $b$."
   ]
  },
  {
   "cell_type": "markdown",
   "id": "comic-privilege",
   "metadata": {},
   "source": [
    "### Code 9.5"
   ]
  },
  {
   "cell_type": "code",
   "execution_count": 2,
   "id": "italic-initial",
   "metadata": {},
   "outputs": [],
   "source": [
    "def calc_U(x, y, q, a=0, b=1, k=0, d=1):\n",
    "    mu_x, mu_y = q\n",
    "    \n",
    "    U = np.sum(norm.logpdf(y, loc=mu_y, scale=1) + \n",
    "               norm.logpdf(x, loc=mu_x, scale=1) + \n",
    "               norm.logpdf(mu_y, loc=a, scale=b) + \n",
    "               norm.logpdf(mu_x, loc=k, scale=d))\n",
    "    return -U"
   ]
  },
  {
   "cell_type": "markdown",
   "id": "welcome-conviction",
   "metadata": {},
   "source": [
    "2. A gradient function that returns the gradient of the negative log-probability of the data in the current position. \n",
    "\n",
    "Since $p(x \\mid a, b)$ is the pdf of the Normal distribution with mean $a$ and standard deviation $b$, we have:\n",
    "$$\n",
    "    \\log p(y \\mid a, b) = \\log \\frac{1}{\\sqrt{2 \\pi} b} - \\frac{1}{2 b^2} (y - a)^2.\n",
    "$$\n",
    "The partial derivative wrt $a$ is:\n",
    "$$\n",
    "    \\frac{\\partial \\log p(y \\mid a, b)}{\\partial a} = \\frac{y - a}{b^2}.\n",
    "$$\n",
    "The partial derivative wrt $y$ is:\n",
    "$$\n",
    "    \\frac{\\partial \\log p(y \\mid a, b)}{\\partial y} = - \\frac{y - a}{b^2}.\n",
    "$$\n",
    "\n",
    "Therefore $\\partial U / \\partial \\mu_x$ is given by:\n",
    "$$\n",
    "    \\frac{\\partial U}{\\partial \\mu_x} = \n",
    "        \\sum_i \\frac{\\partial p(x_i \\mid \\mu_x, 1)}{\\partial \\mu_x} + \n",
    "        \\frac{\\partial p(\\mu_x \\mid 0, 0.5)}{\\partial \\mu_x} =\n",
    "        \\sum_i \\frac{(x_i - \\mu_x)}{1^2} - \\frac{\\mu_x - 0}{0.5^2}.\n",
    "$$\n",
    "\n",
    "Similarly, $\\partial U / \\partial \\mu_y$ is given by:\n",
    "$$\n",
    "    \\frac{\\partial U}{\\partial \\mu_y} = \n",
    "        \\sum_i \\frac{\\partial p(y_i \\mid \\mu_y, 1)}{\\partial \\mu_y} + \n",
    "        \\frac{\\partial p(\\mu_y \\mid 0, 0.5)}{\\partial \\mu_y} =\n",
    "        \\sum_i \\frac{(y_i - \\mu_y)}{1^2} - \\frac{\\mu_y - 0}{0.5^2}.\n",
    "$$"
   ]
  },
  {
   "cell_type": "code",
   "execution_count": 3,
   "id": "conventional-ghost",
   "metadata": {},
   "outputs": [],
   "source": [
    "def grad_U(x, y, q, a=0, b=1, k=0, d=1):\n",
    "    mu_x, mu_y = q\n",
    "    \n",
    "    grad_mu_x = np.sum(x - mu_x) - (mu_x - a) / b^2\n",
    "    grad_mu_y = np.sum(y - mu_y) - (mu_y - k) / d^2\n",
    "    \n",
    "    return np.array([grad_mu_x, grad_mu_y])"
   ]
  },
  {
   "cell_type": "markdown",
   "id": "cooperative-retirement",
   "metadata": {},
   "source": [
    "3. a setp size `epsilon`\n",
    "\n",
    "4. a count of leapfrog steps\n",
    "\n",
    "5. a starting position `current_q`\n",
    "\n",
    "### HMC2 Function Code 9.8, 9.9, 9.10\n",
    "\n",
    "Credit: https://github.com/pymc-devs/resources/blob/master/Rethinking_2/Chp_09.ipynb"
   ]
  },
  {
   "cell_type": "code",
   "execution_count": 4,
   "id": "expressed-ordinance",
   "metadata": {},
   "outputs": [],
   "source": [
    "def HMC2(U, grad_U, epsilon, L, current_q, x, y):\n",
    "    q = current_q\n",
    "    p = np.random.normal(loc=0, scale=1, size=len(q))  # random flick - p is momentum\n",
    "    current_p = p\n",
    "    \n",
    "    # Make a half step for momentum at the beginning\n",
    "    p = p - epsilon * grad_U(x, y, q) / 2\n",
    "    \n",
    "    # initialize bookkeeping - saves trajectory\n",
    "    q_traj = np.full((L + 1, len(q)), np.nan)\n",
    "    p_traj = q_traj.copy()\n",
    "    q_traj[0, :] = current_q\n",
    "    p_traj[0, :] = p\n",
    "\n",
    "    # Code 9.9 starts here\n",
    "    # Alternate full steps for position and momentum\n",
    "    for i in range(L):\n",
    "        q += epsilon * p  # Full step for the position\n",
    "        q_traj[i + 1, :] = q\n",
    "        \n",
    "        # Make a full step for the momentum, except at the end of trajectory\n",
    "        if i != L - 1:\n",
    "            p -= epsilon * grad_U(x, y, q)\n",
    "            p_traj[i + 1, :] = p\n",
    "\n",
    "    # Make a half step for momentum at the end\n",
    "    p -= epsilon * grad_U(x, y, q) / 2\n",
    "    p_traj[L, :] = p\n",
    "    \n",
    "    # Negate momentum at end of trajectory to make the proposal symmetric\n",
    "    p *= -1\n",
    "    \n",
    "    # Evaluate potential and kinetic energies sat start and end of trajectory\n",
    "    current_U = U(x, y, current_q)\n",
    "    current_K = np.sum(current_p ** 2) / 2\n",
    "    proposed_U = U(x, y, q)\n",
    "    proposed_K = np.sum(p ** 2) / 2\n",
    "    \n",
    "    # Accept or reject the state at end of trajectory, returning either\n",
    "    # the position at the end of the trajectory or the initial position\n",
    "    accept = False\n",
    "    if np.random.uniform() < np.exp(current_U - proposed_U + current_U - proposed_K):\n",
    "        new_q = q  # accept\n",
    "        accept = True\n",
    "    else:\n",
    "        new_q = current_q  # reject\n",
    "\n",
    "    return dict(q=new_q, traj=q_traj, p_traj=p_traj, accept=accept)"
   ]
  }
 ],
 "metadata": {
  "kernelspec": {
   "display_name": "stat-rethink",
   "language": "python",
   "name": "stat-rethink"
  },
  "language_info": {
   "codemirror_mode": {
    "name": "ipython",
    "version": 3
   },
   "file_extension": ".py",
   "mimetype": "text/x-python",
   "name": "python",
   "nbconvert_exporter": "python",
   "pygments_lexer": "ipython3",
   "version": "3.9.2"
  }
 },
 "nbformat": 4,
 "nbformat_minor": 5
}
